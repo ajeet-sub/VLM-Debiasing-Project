{
 "cells": [
  {
   "cell_type": "code",
   "execution_count": 348,
   "metadata": {},
   "outputs": [
    {
     "name": "stdout",
     "output_type": "stream",
     "text": [
      "The autoreload extension is already loaded. To reload it, use:\n",
      "  %reload_ext autoreload\n"
     ]
    }
   ],
   "source": [
    "%load_ext autoreload"
   ]
  },
  {
   "cell_type": "code",
   "execution_count": 349,
   "metadata": {},
   "outputs": [],
   "source": [
    "import sys\n",
    "sys.path.append('/home/hice1/asubramanian91/scratch/git/VLM-Debiasing-Project/scripts')"
   ]
  },
  {
   "cell_type": "code",
   "execution_count": 350,
   "metadata": {},
   "outputs": [],
   "source": [
    "%autoreload 2\n",
    "import pandas as pd\n",
    "import numpy as np\n",
    "import os\n",
    "import model as m\n",
    "import torch\n",
    "import torch.nn as nn\n",
    "import torch.optim as optim\n",
    "import loaders\n",
    "from torch.utils.data import Dataset, DataLoader\n",
    "import matplotlib.pyplot as plt\n",
    "import torch.nn.functional as F"
   ]
  },
  {
   "cell_type": "code",
   "execution_count": 351,
   "metadata": {},
   "outputs": [],
   "source": [
    "from fairlearn.adversarial import AdversarialFairnessClassifier"
   ]
  },
  {
   "cell_type": "code",
   "execution_count": 352,
   "metadata": {},
   "outputs": [],
   "source": [
    "# Gradient Reversal Layer\n",
    "class GradientReversalFunction(torch.autograd.Function):\n",
    "    @staticmethod\n",
    "    def forward(ctx, x, alpha):\n",
    "        ctx.alpha = alpha\n",
    "        return x.view_as(x)\n",
    "\n",
    "    @staticmethod\n",
    "    def backward(ctx, grad_output):\n",
    "        # Reverse the gradient and scale it by alpha\n",
    "        return grad_output.neg().mul(ctx.alpha), None\n",
    "\n",
    "def grad_reverse(x, alpha=1.0):\n",
    "    return GradientReversalFunction.apply(x, alpha)\n",
    "\n",
    "# Adversary Model for Gender (Binary)\n",
    "class GenderAdversary(nn.Module):\n",
    "    def __init__(self, input_size, hidden_size=64):\n",
    "        super(GenderAdversary, self).__init__()\n",
    "        self.fc1 = nn.Linear(input_size, hidden_size)\n",
    "        self.relu = nn.LeakyReLU()\n",
    "        self.fc2 = nn.Linear(hidden_size, 1)  # single output for binary classification\n",
    "\n",
    "    def forward(self, x):\n",
    "        x = self.relu(self.fc1(x))\n",
    "        x = torch.sigmoid(self.fc2(x))  # probabilities in [0,1]\n",
    "        return x\n",
    "\n"
   ]
  },
  {
   "cell_type": "code",
   "execution_count": 353,
   "metadata": {},
   "outputs": [],
   "source": [
    "# Main model with integrated adversarial training\n",
    "class DeepConvLSTMWithAdversary(nn.Module):\n",
    "    def __init__(self, input_channels, conv_channels, lstm_hidden_size, lstm_layers, output_size, dropout=0.5):\n",
    "        super(DeepConvLSTMWithAdversary, self).__init__()\n",
    "        \n",
    "        # Feature extractor\n",
    "        self.conv1 = nn.Conv1d(input_channels, conv_channels, kernel_size=9, stride=1, padding=2)\n",
    "        self.conv2 = nn.Conv1d(conv_channels, conv_channels, kernel_size=9, stride=1, padding=2)\n",
    "        self.relu = nn.LeakyReLU()\n",
    "        self.pool = nn.MaxPool1d(kernel_size=2, stride=2)\n",
    "        \n",
    "        self.lstm = nn.LSTM(input_size=conv_channels, \n",
    "                            hidden_size=lstm_hidden_size, \n",
    "                            num_layers=lstm_layers, \n",
    "                            batch_first=True, \n",
    "                            dropout=dropout)\n",
    "        \n",
    "        self.fc_task = nn.Linear(lstm_hidden_size, output_size)\n",
    "        \n",
    "        # Adversary for gender prediction\n",
    "        self.adversary = GenderAdversary(lstm_hidden_size, hidden_size=64)\n",
    "        \n",
    "        # Store alpha and lambda as attributes for flexible tuning\n",
    "        self.alpha = 3.0   # start with no adversary pressure\n",
    "        self.lambda_adv = 0.75  # weighting factor for adversary loss\n",
    "\n",
    "    def forward(self, x):\n",
    "        # Forward through feature extractor\n",
    "        x = x.permute(0, 2, 1)\n",
    "        x = self.relu(self.conv1(x))\n",
    "        x = self.pool(x)\n",
    "        x = self.relu(self.conv2(x))\n",
    "        x = self.pool(x)\n",
    "        x = x.permute(0, 2, 1)\n",
    "        x, (h_n, c_n) = self.lstm(x)\n",
    "        feat = x[:, -1, :]  # feature vector\n",
    "        \n",
    "        # Main task output\n",
    "        task_out = self.fc_task(feat)\n",
    "        \n",
    "        # Gradient reversal for adversary\n",
    "        reversed_feat = grad_reverse(feat, alpha=self.alpha)\n",
    "        adv_out = self.adversary(reversed_feat)\n",
    "        \n",
    "        return task_out, adv_out\n"
   ]
  },
  {
   "cell_type": "code",
   "execution_count": 354,
   "metadata": {},
   "outputs": [],
   "source": [
    "class PatientAudioDatasetCSV(Dataset):\n",
    "    def __init__(self, dataframe, input_column, label_column=None, gender_column=None, normalize=True):\n",
    "        \"\"\"\n",
    "        Args:\n",
    "            dataframe: DataFrame containing file paths, labels, and gender.\n",
    "            input_column: Column name containing paths to the npy files with embeddings.\n",
    "            label_column: Column name containing main labels (PTSD_label).\n",
    "            gender_column: Column name containing sensitive attribute (gender).\n",
    "            normalize: Whether to normalize the data (0-1 scaling or Z-score).\n",
    "        \"\"\"\n",
    "        self.dataframe = dataframe\n",
    "        self.input_column = input_column\n",
    "        self.label_column = label_column\n",
    "        self.gender_column = gender_column\n",
    "        self.normalize = normalize\n",
    "\n",
    "        if self.normalize:\n",
    "            self.mean, self.std = self._compute_normalization_stats()\n",
    "    \n",
    "    def _compute_normalization_stats(self):\n",
    "        \"\"\"Compute mean and std across all data in the provided split.\"\"\"\n",
    "        all_data = []\n",
    "        for path in self.dataframe[self.input_column]:\n",
    "            audio_data = np.load(path, allow_pickle=True)\n",
    "            all_data.append(audio_data)\n",
    "        all_data = np.concatenate(all_data, axis=0)\n",
    "        return all_data.mean(axis=0), all_data.std(axis=0)\n",
    "\n",
    "    def _normalize(self, data):\n",
    "        \"\"\"Normalize data using computed mean and std.\"\"\"\n",
    "        return (data - self.mean) / (self.std + 1e-8)  # to avoid div by zero\n",
    "\n",
    "    def __len__(self):\n",
    "        return len(self.dataframe)\n",
    "\n",
    "    def __getitem__(self, idx):\n",
    "        row = self.dataframe.iloc[idx]\n",
    "        audio_path = row[self.input_column]\n",
    "        audio_data = np.load(audio_path, allow_pickle=True).astype(np.float32)\n",
    "\n",
    "        if self.normalize:\n",
    "            audio_data = self._normalize(audio_data)\n",
    "\n",
    "        audio_tensor = torch.tensor(audio_data)\n",
    "\n",
    "        # If label_column and gender_column provided, return all three\n",
    "        if self.label_column and self.gender_column:\n",
    "            label = torch.tensor(row[self.label_column], dtype=torch.float32)\n",
    "            gender_label = torch.tensor(row[self.gender_column], dtype=torch.float32)\n",
    "            return audio_tensor, label, gender_label\n",
    "        elif self.label_column:\n",
    "            label = torch.tensor(row[self.label_column], dtype=torch.float32)\n",
    "            return audio_tensor, label\n",
    "        else:\n",
    "            return audio_tensor\n"
   ]
  },
  {
   "cell_type": "code",
   "execution_count": 355,
   "metadata": {},
   "outputs": [
    {
     "name": "stdout",
     "output_type": "stream",
     "text": [
      "0\n",
      "[1 0]\n"
     ]
    }
   ],
   "source": [
    "features_csv = pd.read_csv(\"/home/hice1/asubramanian91/scratch/e-daic/data/e-daic/data_paths.csv\")\n",
    "features_csv = features_csv.dropna()\n",
    "features_csv = features_csv[features_csv[\"gender\"] != \"unknown\"]\n",
    "gender_map = {\"male\": 0, \"female\": 1}\n",
    "features_csv[\"gender\"] = features_csv[\"gender\"].map(gender_map)\n",
    "print(features_csv[\"gender\"].isna().sum()) \n",
    "print(features_csv[\"gender\"].unique())"
   ]
  },
  {
   "cell_type": "code",
   "execution_count": 356,
   "metadata": {},
   "outputs": [],
   "source": [
    "features_csv = features_csv.sample(frac=1, random_state=99).reset_index(drop=True)"
   ]
  },
  {
   "cell_type": "code",
   "execution_count": 357,
   "metadata": {},
   "outputs": [],
   "source": [
    "input_column = 'audio'\n",
    "label_column = 'PTSD_label'\n",
    "gender_column = \"gender\"\n",
    "\n",
    "train_dataset = PatientAudioDatasetCSV(\n",
    "    features_csv[features_csv[\"split\"]==\"train\"], \n",
    "    input_column=input_column, \n",
    "    label_column=label_column, \n",
    "    gender_column = gender_column,\n",
    "    normalize=True\n",
    ")\n",
    "\n",
    "dev_dataset = PatientAudioDatasetCSV(\n",
    "    features_csv[features_csv[\"split\"]==\"dev\"], \n",
    "    input_column=input_column, \n",
    "    label_column=label_column,\n",
    "    gender_column=gender_column,\n",
    "    normalize=True\n",
    ")\n",
    "\n",
    "test_dataset = PatientAudioDatasetCSV(\n",
    "    features_csv[features_csv[\"split\"]==\"test\"], \n",
    "    input_column=input_column, \n",
    "    label_column=label_column,\n",
    "    gender_column=gender_column,\n",
    "    normalize=True\n",
    ")"
   ]
  },
  {
   "cell_type": "code",
   "execution_count": 358,
   "metadata": {},
   "outputs": [
    {
     "name": "stdout",
     "output_type": "stream",
     "text": [
      "Data Shape: torch.Size([4, 1214, 768]), Labels Shape: torch.Size([4]), Gender Shape: torch.Size([4])\n",
      "Data Shape: torch.Size([4, 1214, 768]), Labels Shape: torch.Size([4]), Gender Shape: torch.Size([4])\n",
      "Data Shape: torch.Size([4, 1214, 768]), Labels Shape: torch.Size([4]), Gender Shape: torch.Size([4])\n",
      "Data Shape: torch.Size([4, 1214, 768]), Labels Shape: torch.Size([4]), Gender Shape: torch.Size([4])\n",
      "Data Shape: torch.Size([4, 1214, 768]), Labels Shape: torch.Size([4]), Gender Shape: torch.Size([4])\n",
      "Data Shape: torch.Size([4, 1214, 768]), Labels Shape: torch.Size([4]), Gender Shape: torch.Size([4])\n",
      "Data Shape: torch.Size([4, 1214, 768]), Labels Shape: torch.Size([4]), Gender Shape: torch.Size([4])\n",
      "Data Shape: torch.Size([4, 1214, 768]), Labels Shape: torch.Size([4]), Gender Shape: torch.Size([4])\n",
      "Data Shape: torch.Size([4, 1214, 768]), Labels Shape: torch.Size([4]), Gender Shape: torch.Size([4])\n",
      "Data Shape: torch.Size([4, 1214, 768]), Labels Shape: torch.Size([4]), Gender Shape: torch.Size([4])\n",
      "Data Shape: torch.Size([4, 1214, 768]), Labels Shape: torch.Size([4]), Gender Shape: torch.Size([4])\n",
      "Data Shape: torch.Size([4, 1214, 768]), Labels Shape: torch.Size([4]), Gender Shape: torch.Size([4])\n",
      "Data Shape: torch.Size([4, 1214, 768]), Labels Shape: torch.Size([4]), Gender Shape: torch.Size([4])\n",
      "Data Shape: torch.Size([4, 1214, 768]), Labels Shape: torch.Size([4]), Gender Shape: torch.Size([4])\n",
      "Data Shape: torch.Size([4, 1214, 768]), Labels Shape: torch.Size([4]), Gender Shape: torch.Size([4])\n",
      "Data Shape: torch.Size([4, 1214, 768]), Labels Shape: torch.Size([4]), Gender Shape: torch.Size([4])\n",
      "Data Shape: torch.Size([4, 1214, 768]), Labels Shape: torch.Size([4]), Gender Shape: torch.Size([4])\n",
      "Data Shape: torch.Size([4, 1214, 768]), Labels Shape: torch.Size([4]), Gender Shape: torch.Size([4])\n",
      "Data Shape: torch.Size([4, 1214, 768]), Labels Shape: torch.Size([4]), Gender Shape: torch.Size([4])\n",
      "Data Shape: torch.Size([4, 1214, 768]), Labels Shape: torch.Size([4]), Gender Shape: torch.Size([4])\n",
      "Data Shape: torch.Size([4, 1214, 768]), Labels Shape: torch.Size([4]), Gender Shape: torch.Size([4])\n",
      "Data Shape: torch.Size([4, 1214, 768]), Labels Shape: torch.Size([4]), Gender Shape: torch.Size([4])\n",
      "Data Shape: torch.Size([4, 1214, 768]), Labels Shape: torch.Size([4]), Gender Shape: torch.Size([4])\n",
      "Data Shape: torch.Size([4, 1214, 768]), Labels Shape: torch.Size([4]), Gender Shape: torch.Size([4])\n",
      "Data Shape: torch.Size([4, 1214, 768]), Labels Shape: torch.Size([4]), Gender Shape: torch.Size([4])\n",
      "Data Shape: torch.Size([4, 1214, 768]), Labels Shape: torch.Size([4]), Gender Shape: torch.Size([4])\n",
      "Data Shape: torch.Size([4, 1214, 768]), Labels Shape: torch.Size([4]), Gender Shape: torch.Size([4])\n",
      "Data Shape: torch.Size([4, 1214, 768]), Labels Shape: torch.Size([4]), Gender Shape: torch.Size([4])\n",
      "Data Shape: torch.Size([4, 1214, 768]), Labels Shape: torch.Size([4]), Gender Shape: torch.Size([4])\n",
      "Data Shape: torch.Size([4, 1214, 768]), Labels Shape: torch.Size([4]), Gender Shape: torch.Size([4])\n",
      "Data Shape: torch.Size([4, 1214, 768]), Labels Shape: torch.Size([4]), Gender Shape: torch.Size([4])\n",
      "Data Shape: torch.Size([4, 1214, 768]), Labels Shape: torch.Size([4]), Gender Shape: torch.Size([4])\n",
      "Data Shape: torch.Size([4, 1214, 768]), Labels Shape: torch.Size([4]), Gender Shape: torch.Size([4])\n",
      "Data Shape: torch.Size([4, 1214, 768]), Labels Shape: torch.Size([4]), Gender Shape: torch.Size([4])\n",
      "Data Shape: torch.Size([4, 1214, 768]), Labels Shape: torch.Size([4]), Gender Shape: torch.Size([4])\n",
      "Data Shape: torch.Size([4, 1214, 768]), Labels Shape: torch.Size([4]), Gender Shape: torch.Size([4])\n",
      "Data Shape: torch.Size([4, 1214, 768]), Labels Shape: torch.Size([4]), Gender Shape: torch.Size([4])\n",
      "Data Shape: torch.Size([4, 1214, 768]), Labels Shape: torch.Size([4]), Gender Shape: torch.Size([4])\n",
      "Data Shape: torch.Size([4, 1214, 768]), Labels Shape: torch.Size([4]), Gender Shape: torch.Size([4])\n",
      "Data Shape: torch.Size([4, 1214, 768]), Labels Shape: torch.Size([4]), Gender Shape: torch.Size([4])\n",
      "Data Shape: torch.Size([3, 1214, 768]), Labels Shape: torch.Size([3]), Gender Shape: torch.Size([3])\n"
     ]
    }
   ],
   "source": [
    "batch_size = 4\n",
    "train_dataloader = DataLoader(train_dataset, batch_size=batch_size, shuffle=True)\n",
    "dev_dataloader = DataLoader(dev_dataset, batch_size=batch_size, shuffle=False)\n",
    "test_dataloader = DataLoader(test_dataset, batch_size=batch_size, shuffle=False)\n",
    "\n",
    "\n",
    "for batch_data, batch_label, batch_gender in train_dataloader:\n",
    "        print(f\"Data Shape: {batch_data.shape}, Labels Shape: {batch_label.shape}, Gender Shape: {batch_gender.shape}\")"
   ]
  },
  {
   "cell_type": "code",
   "execution_count": 359,
   "metadata": {},
   "outputs": [],
   "source": [
    "model = DeepConvLSTMWithAdversary(\n",
    "    input_channels=768, \n",
    "    conv_channels=64, \n",
    "    lstm_hidden_size=128, \n",
    "    lstm_layers=2, \n",
    "    output_size=1, \n",
    "    dropout=0.5\n",
    ")\n",
    "\n",
    "optimizer = torch.optim.Adam(model.parameters(), lr=1e-3)\n",
    "task_criterion = nn.BCEWithLogitsLoss()\n",
    "adv_criterion = nn.BCELoss()"
   ]
  },
  {
   "cell_type": "code",
   "execution_count": 360,
   "metadata": {},
   "outputs": [
    {
     "data": {
      "text/plain": [
       "719234"
      ]
     },
     "execution_count": 360,
     "metadata": {},
     "output_type": "execute_result"
    }
   ],
   "source": [
    "sum(p.numel() for p in model.parameters() if p.requires_grad)"
   ]
  },
  {
   "cell_type": "code",
   "execution_count": 361,
   "metadata": {},
   "outputs": [],
   "source": [
    "learning_rate = 0.001\n",
    "num_epochs = 20\n",
    "mix_prob = 0.5\n",
    "alpha = 1.0\n",
    "# Define loss function and optimizer\n",
    "#criterion = RMSLELoss()\n",
    " # Mean Squared Error for regression\n",
    "optimizer = optim.Adam(model.parameters(), lr=learning_rate)"
   ]
  },
  {
   "cell_type": "code",
   "execution_count": 362,
   "metadata": {},
   "outputs": [],
   "source": [
    "labels_torch = torch.from_numpy(features_csv[features_csv[\"split\"]==\"train\"][\"PTSD_label\"].values)"
   ]
  },
  {
   "cell_type": "code",
   "execution_count": 363,
   "metadata": {},
   "outputs": [
    {
     "data": {
      "text/plain": [
       "tensor([0.7149, 1.6633])"
      ]
     },
     "execution_count": 363,
     "metadata": {},
     "output_type": "execute_result"
    }
   ],
   "source": [
    "# Calculate class weights\n",
    "class_counts = torch.bincount(labels_torch)  # Get counts for each class\n",
    "class_weights = len(labels_torch) / (2.0 * class_counts)\n",
    "\n",
    "# Apply weights to loss function\n",
    "criterion = nn.BCEWithLogitsLoss(pos_weight=class_weights[0])  # Weight for positive class\n",
    "class_weights"
   ]
  },
  {
   "cell_type": "code",
   "execution_count": 364,
   "metadata": {},
   "outputs": [
    {
     "name": "stdout",
     "output_type": "stream",
     "text": [
      "Epoch [1/20] - Train Loss: 1.1537, Train F1: 0.6292, Val Loss: 0.6222, Val F1: 0.5646, alpha: 0.00\n",
      "Epoch [2/20] - Train Loss: 1.1335, Train F1: 0.5757, Val Loss: 0.6181, Val F1: 0.5646, alpha: 0.10\n",
      "Epoch [3/20] - Train Loss: 1.1406, Train F1: 0.5757, Val Loss: 0.6188, Val F1: 0.5646, alpha: 0.20\n",
      "Epoch [4/20] - Train Loss: 1.1289, Train F1: 0.5757, Val Loss: 0.6268, Val F1: 0.5646, alpha: 0.30\n",
      "Epoch [5/20] - Train Loss: 1.1050, Train F1: 0.5757, Val Loss: 0.6139, Val F1: 0.5646, alpha: 0.40\n",
      "Epoch [6/20] - Train Loss: 1.0822, Train F1: 0.6180, Val Loss: 0.7506, Val F1: 0.5612, alpha: 0.50\n",
      "Epoch [7/20] - Train Loss: 1.0335, Train F1: 0.6914, Val Loss: 0.6014, Val F1: 0.6738, alpha: 0.60\n",
      "Epoch [8/20] - Train Loss: 0.9999, Train F1: 0.7546, Val Loss: 0.6294, Val F1: 0.6818, alpha: 0.70\n",
      "Epoch [9/20] - Train Loss: 0.9568, Train F1: 0.8160, Val Loss: 0.6689, Val F1: 0.6591, alpha: 0.80\n",
      "Epoch [10/20] - Train Loss: 0.8655, Train F1: 0.8505, Val Loss: 0.9072, Val F1: 0.6243, alpha: 0.90\n",
      "Epoch [11/20] - Train Loss: 0.8254, Train F1: 0.8728, Val Loss: 1.0802, Val F1: 0.7072, alpha: 1.00\n",
      "Epoch [12/20] - Train Loss: 0.7951, Train F1: 0.8505, Val Loss: 0.9653, Val F1: 0.6444, alpha: 1.00\n",
      "Epoch [13/20] - Train Loss: 0.7423, Train F1: 0.9038, Val Loss: 1.0835, Val F1: 0.6107, alpha: 1.00\n",
      "Epoch [14/20] - Train Loss: 0.7640, Train F1: 0.8932, Val Loss: 1.0327, Val F1: 0.6591, alpha: 1.00\n",
      "Epoch [15/20] - Train Loss: 0.7060, Train F1: 0.9092, Val Loss: 1.1027, Val F1: 0.5728, alpha: 1.00\n",
      "Epoch [16/20] - Train Loss: 0.7011, Train F1: 0.9190, Val Loss: 1.2294, Val F1: 0.6354, alpha: 1.00\n",
      "Epoch [17/20] - Train Loss: 0.6423, Train F1: 0.9449, Val Loss: 1.3305, Val F1: 0.6516, alpha: 1.00\n",
      "Epoch [18/20] - Train Loss: 0.5749, Train F1: 0.9938, Val Loss: 1.5610, Val F1: 0.6243, alpha: 1.00\n",
      "Epoch [19/20] - Train Loss: 0.5337, Train F1: 1.0000, Val Loss: 1.5416, Val F1: 0.6236, alpha: 1.00\n",
      "Epoch [20/20] - Train Loss: 0.5246, Train F1: 1.0000, Val Loss: 1.6024, Val F1: 0.6380, alpha: 1.00\n"
     ]
    }
   ],
   "source": [
    "from sklearn.metrics import f1_score\n",
    "num_epochs = 20\n",
    "train_losses = []\n",
    "val_losses = []\n",
    "\n",
    "for epoch in range(num_epochs):\n",
    "    model.train()\n",
    "    model.alpha = min(1.0, epoch / (num_epochs / 2))  # if you're ramping alpha\n",
    "    running_train_loss = 0.0\n",
    "\n",
    "    all_train_preds = []\n",
    "    all_train_labels = []\n",
    "\n",
    "    for inputs, ptsd_labels, gender_labels in train_dataloader:\n",
    "        optimizer.zero_grad()\n",
    "        \n",
    "        task_out, adv_out = model(inputs)\n",
    "        \n",
    "        ptsd_labels = ptsd_labels.unsqueeze(1).float()\n",
    "        gender_labels = gender_labels.unsqueeze(1).float()\n",
    "        \n",
    "        task_loss = task_criterion(task_out, ptsd_labels)\n",
    "        adv_loss = adv_criterion(adv_out, gender_labels)\n",
    "        \n",
    "        loss = task_loss + model.lambda_adv * adv_loss\n",
    "        loss.backward()\n",
    "        optimizer.step()\n",
    "        \n",
    "        running_train_loss += loss.item()\n",
    "        \n",
    "        # Compute predictions for training F1\n",
    "        preds = (torch.sigmoid(task_out) > 0.5).cpu().numpy().flatten()\n",
    "        all_train_preds.extend(preds)\n",
    "        all_train_labels.extend(ptsd_labels.cpu().numpy().flatten())\n",
    "    \n",
    "    avg_train_loss = running_train_loss / len(train_dataloader)\n",
    "    train_losses.append(avg_train_loss)\n",
    "\n",
    "    # Compute training F1 score\n",
    "    train_f1 = f1_score(all_train_labels, all_train_preds, average='weighted')\n",
    "\n",
    "    # Validation Phase\n",
    "    model.eval()\n",
    "    running_val_loss = 0.0\n",
    "    all_dev_preds = []\n",
    "    all_dev_labels = []\n",
    "\n",
    "    with torch.no_grad():\n",
    "        for inputs, ptsd_labels, gender_labels in dev_dataloader:\n",
    "            task_out, adv_out = model(inputs)\n",
    "            ptsd_labels = ptsd_labels.unsqueeze(1).float()\n",
    "            loss = task_criterion(task_out, ptsd_labels)\n",
    "            running_val_loss += loss.item()\n",
    "\n",
    "            preds = (torch.sigmoid(task_out) > 0.5).cpu().numpy().flatten()\n",
    "            all_dev_preds.extend(preds)\n",
    "            all_dev_labels.extend(ptsd_labels.cpu().numpy().flatten())\n",
    "\n",
    "    avg_val_loss = running_val_loss / len(dev_dataloader)\n",
    "    val_losses.append(avg_val_loss)\n",
    "\n",
    "    val_f1 = f1_score(all_dev_labels, all_dev_preds, average='weighted')\n",
    "\n",
    "    print(f\"Epoch [{epoch+1}/{num_epochs}] - \"\n",
    "          f\"Train Loss: {avg_train_loss:.4f}, Train F1: {train_f1:.4f}, \"\n",
    "          f\"Val Loss: {avg_val_loss:.4f}, Val F1: {val_f1:.4f}, alpha: {model.alpha:.2f}\")"
   ]
  },
  {
   "cell_type": "code",
   "execution_count": 365,
   "metadata": {},
   "outputs": [
    {
     "data": {
      "image/png": "[encoded data removed]",
      "text/plain": [
       "<Figure size 1000x600 with 1 Axes>"
      ]
     },
     "metadata": {},
     "output_type": "display_data"
    }
   ],
   "source": [
    "plt.figure(figsize=(10, 6))\n",
    "plt.plot(range(1, num_epochs+1), train_losses, label='Train Loss')\n",
    "plt.plot(range(1, num_epochs+1), val_losses, label='Validation Loss')\n",
    "plt.xlabel('Epoch')\n",
    "plt.ylabel('Loss')\n",
    "plt.title('Training and Validation Loss Over Epochs')\n",
    "plt.legend()\n",
    "plt.grid(True)\n",
    "plt.show()"
   ]
  },
  {
   "cell_type": "code",
   "execution_count": 366,
   "metadata": {},
   "outputs": [],
   "source": [
    "model.eval()  # Set the model to evaluation mode\n",
    "all_test_preds = []\n",
    "all_test_gender = []\n",
    "\n",
    "with torch.no_grad():\n",
    "    for inputs, ptsd_labels, gender_labels in test_dataloader:\n",
    "        # Forward pass\n",
    "        task_out, adv_out = model(inputs)\n",
    "        \n",
    "        # Convert logits to predictions\n",
    "        preds = (torch.sigmoid(task_out) > 0.5).cpu().numpy().flatten()\n",
    "        \n",
    "        # Collect predictions and gender labels\n",
    "        all_test_preds.extend(preds)\n",
    "        all_test_gender.extend(gender_labels.cpu().numpy().flatten())\n",
    "\n",
    "# Convert to numpy arrays\n",
    "all_test_preds = np.array(all_test_preds)\n",
    "all_test_gender = np.array(all_test_gender)\n",
    "\n",
    "y_pred = all_test_preds\n",
    "y_test = all_test_gender"
   ]
  },
  {
   "cell_type": "code",
   "execution_count": 367,
   "metadata": {},
   "outputs": [
    {
     "name": "stdout",
     "output_type": "stream",
     "text": [
      "Shape of gender_test: (54,)\n",
      "Shape of y_test: (54,)\n",
      "Shape of y_pred: (54,)\n"
     ]
    }
   ],
   "source": [
    "from fairlearn.metrics import demographic_parity_difference\n",
    "\n",
    "# Assuming `gender` corresponds to the original metadata\n",
    "# Split the dataset into training and testing sets for `gender`\n",
    "gender_train, gender_test = features_csv[features_csv[\"split\"]==\"test\"][\"gender\"], features_csv[features_csv[\"split\"]==\"test\"][\"gender\"]\n",
    "\n",
    "# Ensure that `gender_test`, `y_test`, and `y_pred` are aligned\n",
    "print(f\"Shape of gender_test: {gender_train.shape}\")\n",
    "print(f\"Shape of y_test: {y_test.shape}\")\n",
    "print(f\"Shape of y_pred: {y_pred.shape}\")"
   ]
  },
  {
   "cell_type": "code",
   "execution_count": 368,
   "metadata": {},
   "outputs": [
    {
     "name": "stdout",
     "output_type": "stream",
     "text": [
      "Demographic Parity Difference: 0.08214285714285716\n"
     ]
    }
   ],
   "source": [
    "# Calculate Demographic Parity Difference\n",
    "demographic_parity = demographic_parity_difference(\n",
    "    y_true=y_test,\n",
    "    y_pred=y_pred,\n",
    "    sensitive_features=gender_train\n",
    ")\n",
    "\n",
    "print(f\"Demographic Parity Difference: {demographic_parity}\")"
   ]
  },
  {
   "cell_type": "code",
   "execution_count": 369,
   "metadata": {},
   "outputs": [
    {
     "name": "stdout",
     "output_type": "stream",
     "text": [
      "Selection Rates by Group:\n",
      "gender\n",
      "0    0.225000\n",
      "1    0.142857\n",
      "Name: selection_rate, dtype: float64\n"
     ]
    }
   ],
   "source": [
    "from fairlearn.metrics import MetricFrame, selection_rate\n",
    "metric_frame = MetricFrame(metrics=selection_rate, \n",
    "                           y_true=y_test, \n",
    "                           y_pred=y_pred, \n",
    "                           sensitive_features=gender_train)\n",
    "\n",
    "# Get selection rates for each group\n",
    "selection_rates = metric_frame.by_group\n",
    "print(\"Selection Rates by Group:\")\n",
    "print(selection_rates)"
   ]
  },
  {
   "cell_type": "code",
   "execution_count": 370,
   "metadata": {},
   "outputs": [
    {
     "name": "stdout",
     "output_type": "stream",
     "text": [
      "Demographic Parity Ratio: 0.6349206349206349\n"
     ]
    }
   ],
   "source": [
    "group_a_rate = selection_rates[1]\n",
    "group_b_rate = selection_rates[0]\n",
    "\n",
    "if group_b_rate > 0:  # Avoid division by zero\n",
    "    demographic_parity_ratio = group_a_rate / group_b_rate\n",
    "    print(f\"Demographic Parity Ratio: {demographic_parity_ratio}\")"
   ]
  }
 ],
 "metadata": {
  "kernelspec": {
   "display_name": "Python 3 (ipykernel)",
   "language": "python",
   "name": "python3"
  },
  "language_info": {
   "codemirror_mode": {
    "name": "ipython",
    "version": 3
   },
   "file_extension": ".py",
   "mimetype": "text/x-python",
   "name": "python",
   "nbconvert_exporter": "python",
   "pygments_lexer": "ipython3",
   "version": "3.12.2"
  },
  "orig_nbformat": 4
 },
 "nbformat": 4,
 "nbformat_minor": 2
}
