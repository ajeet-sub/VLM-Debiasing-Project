{
 "cells": [
  {
   "cell_type": "markdown",
   "metadata": {},
   "source": [
    "# Imports"
   ]
  },
  {
   "cell_type": "code",
   "execution_count": 2,
   "metadata": {},
   "outputs": [
    {
     "name": "stdout",
     "output_type": "stream",
     "text": [
      "The autoreload extension is already loaded. To reload it, use:\n",
      "  %reload_ext autoreload\n"
     ]
    }
   ],
   "source": [
    "%load_ext autoreload"
   ]
  },
  {
   "cell_type": "code",
   "execution_count": 3,
   "metadata": {},
   "outputs": [],
   "source": [
    "import sys\n",
    "sys.path.append('/home/hice1/mbibars3/scratch/vlm-debiasing/VLM-Debiasing-Project/scripts')"
   ]
  },
  {
   "cell_type": "code",
   "execution_count": 33,
   "metadata": {},
   "outputs": [],
   "source": [
    "%autoreload 2\n",
    "import model as m\n",
    "import torch\n",
    "import torch.nn as nn\n",
    "import torch.optim as optim\n"
   ]
  },
  {
   "cell_type": "code",
   "execution_count": 31,
   "metadata": {},
   "outputs": [
    {
     "name": "stdout",
     "output_type": "stream",
     "text": [
      "torch.Size([10, 768, 1])\n",
      "Output shape: torch.Size([10, 1])\n"
     ]
    }
   ],
   "source": [
    "# Assuming MultiModalPerceiver is defined as in the code above\n",
    "# Define input dimensions for each modality\n",
    "input_dims = [64, 128, 256]  # These could be the feature dimensions for each modality\n",
    "\n",
    "# Initialize MultiModalPerceiver model\n",
    "model = m.MultiModalPerceiver(\n",
    "    input_dims=input_dims,\n",
    "    input_channels=1,\n",
    "    input_axis=1,\n",
    "    projection_dim=256,\n",
    "    num_latents=16,\n",
    "    latent_dim=128,\n",
    "    depth=8,\n",
    "    cross_heads=8,\n",
    "    latent_heads=8,\n",
    "    cross_dim_head=32,\n",
    "    latent_dim_head=32,\n",
    "    attn_dropout=0.1,\n",
    "    ff_dropout=0.0,\n",
    "    output_dim=1,\n",
    "    weight_tie_layers=True,\n",
    "    fourier_encode_data=False,\n",
    "    max_freq=10,\n",
    "    num_freq_bands=4\n",
    ")\n",
    "\n",
    "# Create random data for each modality\n",
    "batch_size = 10  # Number of samples in a batch\n",
    "modality_1 = torch.randn(batch_size, input_dims[0])  # First modality with input dimension 64\n",
    "modality_2 = torch.randn(batch_size, input_dims[1])  # Second modality with input dimension 128\n",
    "modality_3 = torch.randn(batch_size, input_dims[2])  # Third modality with input dimension 256\n",
    "\n",
    "# Combine modalities into a list and pass through the model\n",
    "input_data = [modality_1, modality_2, modality_3]\n",
    "output = model(input_data)\n",
    "\n",
    "# Print output shape to verify\n",
    "print(\"Output shape:\", output.shape)  # Expected shape: [batch_size, output_dim]\n"
   ]
  },
  {
   "cell_type": "code",
   "execution_count": 32,
   "metadata": {},
   "outputs": [
    {
     "name": "stdout",
     "output_type": "stream",
     "text": [
      "tensor([[-1.0926],\n",
      "        [-1.1314],\n",
      "        [-1.0889],\n",
      "        [-1.1205],\n",
      "        [-1.0704],\n",
      "        [-1.0984],\n",
      "        [-1.0807],\n",
      "        [-1.0941],\n",
      "        [-1.1047],\n",
      "        [-1.1045]], grad_fn=<AddmmBackward0>)\n"
     ]
    }
   ],
   "source": [
    "print(output)"
   ]
  },
  {
   "cell_type": "code",
   "execution_count": 34,
   "metadata": {},
   "outputs": [
    {
     "name": "stdout",
     "output_type": "stream",
     "text": [
      "Epoch [1/5], Loss: 2.0485\n",
      "Epoch [2/5], Loss: 16.5415\n",
      "Epoch [3/5], Loss: 3.2676\n",
      "Epoch [4/5], Loss: 1.2193\n",
      "Epoch [5/5], Loss: 2.2094\n"
     ]
    }
   ],
   "source": [
    "# Dummy target output (regression target)\n",
    "target = torch.randn(batch_size, 1)  # Shape: [batch_size, output_dim]\n",
    "\n",
    "learning_rate = 0.001\n",
    "num_epochs = 5\n",
    "# Define loss function and optimizer\n",
    "criterion = nn.MSELoss()  # Mean Squared Error for regression\n",
    "optimizer = optim.Adam(model.parameters(), lr=learning_rate)\n",
    "\n",
    "# Training loop\n",
    "for epoch in range(num_epochs):\n",
    "    # Zero the parameter gradients\n",
    "    optimizer.zero_grad()\n",
    "    \n",
    "    # Forward pass\n",
    "    inputs = [modality_1, modality_2, modality_3]\n",
    "    output = model(inputs)\n",
    "    \n",
    "    # Compute loss\n",
    "    loss = criterion(output, target)\n",
    "    \n",
    "    # Backward pass and optimize\n",
    "    loss.backward()\n",
    "    optimizer.step()\n",
    "    \n",
    "    # Print loss\n",
    "    print(f\"Epoch [{epoch+1}/{num_epochs}], Loss: {loss.item():.4f}\")"
   ]
  },
  {
   "cell_type": "code",
   "execution_count": null,
   "metadata": {},
   "outputs": [],
   "source": []
  }
 ],
 "metadata": {
  "kernelspec": {
   "display_name": "Python 3 (ipykernel)",
   "language": "python",
   "name": "python3"
  },
  "language_info": {
   "codemirror_mode": {
    "name": "ipython",
    "version": 3
   },
   "file_extension": ".py",
   "mimetype": "text/x-python",
   "name": "python",
   "nbconvert_exporter": "python",
   "pygments_lexer": "ipython3",
   "version": "3.12.2"
  }
 },
 "nbformat": 4,
 "nbformat_minor": 2
}
