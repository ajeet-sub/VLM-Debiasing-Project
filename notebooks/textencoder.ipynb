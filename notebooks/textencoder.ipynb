{
 "cells": [
  {
   "cell_type": "code",
   "execution_count": 1,
   "metadata": {},
   "outputs": [
    {
     "name": "stderr",
     "output_type": "stream",
     "text": [
      "/home/hice1/mbibars3/scratch/miniconda3/envs/vlm-debiasing/lib/python3.12/site-packages/tqdm/auto.py:21: TqdmWarning: IProgress not found. Please update jupyter and ipywidgets. See https://ipywidgets.readthedocs.io/en/stable/user_install.html\n",
      "  from .autonotebook import tqdm as notebook_tqdm\n"
     ]
    }
   ],
   "source": [
    "import os\n",
    "import glob\n",
    "import pandas as pd\n",
    "import torch\n",
    "from transformers import RobertaTokenizer, RobertaModel\n",
    "import numpy as np\n",
    "import re"
   ]
  },
  {
   "cell_type": "code",
   "execution_count": 2,
   "metadata": {},
   "outputs": [
    {
     "name": "stdout",
     "output_type": "stream",
     "text": [
      "cuda\n"
     ]
    }
   ],
   "source": [
    "device = torch.device('cuda' if torch.cuda.is_available() else 'cpu')\n",
    "print(device)"
   ]
  },
  {
   "cell_type": "code",
   "execution_count": 4,
   "metadata": {},
   "outputs": [
    {
     "name": "stdout",
     "output_type": "stream",
     "text": [
      "Found 275 directories matching the pattern [num]_P.\n"
     ]
    }
   ],
   "source": [
    "# Define the root directory where all the subdirectories are located\n",
    "root_dir = '/home/hice1/mbibars3/scratch/vlm-debiasing/data/e-daic/untarred'\n",
    "dir_pattern = os.path.join(root_dir, '*_P')\n",
    "\n",
    "# Find all matching directories\n",
    "dirs = [d for d in glob.glob(dir_pattern) if os.path.isdir(d)]\n",
    "\n",
    "# Check how many directories were found\n",
    "print(f'Found {len(dirs)} directories matching the pattern [num]_P.')"
   ]
  },
  {
   "cell_type": "code",
   "execution_count": 5,
   "metadata": {},
   "outputs": [],
   "source": [
    "texts = []\n",
    "file_sources = []\n",
    "\n",
    "# Regular expression to extract the number from the directory name\n",
    "pattern = r'(\\d+)_P$'\n",
    "\n",
    "for dir_path in dirs:\n",
    "    dir_name = os.path.basename(dir_path)\n",
    "    \n",
    "    # Use regex to extract the [num] part\n",
    "    match = re.match(pattern, dir_name)\n",
    "    if match:\n",
    "        num = match.group(1)\n",
    "        # Construct the transcript file name\n",
    "        transcript_filename = f\"{num}_Transcript.csv\"\n",
    "        transcript_file_path = os.path.join(dir_path, transcript_filename)\n",
    "        \n",
    "        # Check if the transcript file exists\n",
    "        if os.path.exists(transcript_file_path):\n",
    "            # Read the CSV file\n",
    "            df = pd.read_csv(transcript_file_path)\n",
    "            if 'Text' in df.columns:\n",
    "                texts_in_file = df['Text'].tolist()\n",
    "                texts.extend(texts_in_file)\n",
    "                # Keep track of the source file\n",
    "                file_sources.extend([transcript_file_path] * len(texts_in_file))\n",
    "            else:\n",
    "                print(f\"'Text' column not found in {transcript_file_path}\")\n",
    "        else:\n",
    "            print(f\"Transcript file not found: {transcript_file_path}\")\n",
    "    else:\n",
    "        print(f\"Directory name '{dir_name}' does not match the expected pattern.\")\n"
   ]
  },
  {
   "cell_type": "code",
   "execution_count": 6,
   "metadata": {},
   "outputs": [
    {
     "name": "stderr",
     "output_type": "stream",
     "text": [
      "Some weights of RobertaModel were not initialized from the model checkpoint at roberta-base and are newly initialized: ['roberta.pooler.dense.bias', 'roberta.pooler.dense.weight']\n",
      "You should probably TRAIN this model on a down-stream task to be able to use it for predictions and inference.\n"
     ]
    },
    {
     "data": {
      "text/plain": [
       "RobertaModel(\n",
       "  (embeddings): RobertaEmbeddings(\n",
       "    (word_embeddings): Embedding(50265, 768, padding_idx=1)\n",
       "    (position_embeddings): Embedding(514, 768, padding_idx=1)\n",
       "    (token_type_embeddings): Embedding(1, 768)\n",
       "    (LayerNorm): LayerNorm((768,), eps=1e-05, elementwise_affine=True)\n",
       "    (dropout): Dropout(p=0.1, inplace=False)\n",
       "  )\n",
       "  (encoder): RobertaEncoder(\n",
       "    (layer): ModuleList(\n",
       "      (0-11): 12 x RobertaLayer(\n",
       "        (attention): RobertaAttention(\n",
       "          (self): RobertaSdpaSelfAttention(\n",
       "            (query): Linear(in_features=768, out_features=768, bias=True)\n",
       "            (key): Linear(in_features=768, out_features=768, bias=True)\n",
       "            (value): Linear(in_features=768, out_features=768, bias=True)\n",
       "            (dropout): Dropout(p=0.1, inplace=False)\n",
       "          )\n",
       "          (output): RobertaSelfOutput(\n",
       "            (dense): Linear(in_features=768, out_features=768, bias=True)\n",
       "            (LayerNorm): LayerNorm((768,), eps=1e-05, elementwise_affine=True)\n",
       "            (dropout): Dropout(p=0.1, inplace=False)\n",
       "          )\n",
       "        )\n",
       "        (intermediate): RobertaIntermediate(\n",
       "          (dense): Linear(in_features=768, out_features=3072, bias=True)\n",
       "          (intermediate_act_fn): GELUActivation()\n",
       "        )\n",
       "        (output): RobertaOutput(\n",
       "          (dense): Linear(in_features=3072, out_features=768, bias=True)\n",
       "          (LayerNorm): LayerNorm((768,), eps=1e-05, elementwise_affine=True)\n",
       "          (dropout): Dropout(p=0.1, inplace=False)\n",
       "        )\n",
       "      )\n",
       "    )\n",
       "  )\n",
       "  (pooler): RobertaPooler(\n",
       "    (dense): Linear(in_features=768, out_features=768, bias=True)\n",
       "    (activation): Tanh()\n",
       "  )\n",
       ")"
      ]
     },
     "execution_count": 6,
     "metadata": {},
     "output_type": "execute_result"
    }
   ],
   "source": [
    "# Load the pretrained RoBERTa tokenizer and model\n",
    "tokenizer = RobertaTokenizer.from_pretrained('roberta-base')\n",
    "model = RobertaModel.from_pretrained('roberta-base')\n",
    "model.eval()"
   ]
  },
  {
   "cell_type": "code",
   "execution_count": 7,
   "metadata": {},
   "outputs": [],
   "source": [
    "batch_size = 32 \n",
    "embeddings = []\n",
    "\n",
    "# Check if GPU is available\n",
    "device = torch.device('cuda' if torch.cuda.is_available() else 'cpu')\n",
    "model.to(device)\n",
    "\n",
    "for i in range(0, len(texts), batch_size):\n",
    "    batch_texts = texts[i:i+batch_size]\n",
    "    inputs = tokenizer(\n",
    "        batch_texts,\n",
    "        padding=True,\n",
    "        truncation=True,\n",
    "        max_length=512,\n",
    "        return_tensors='pt'\n",
    "    ).to(device)\n",
    "    with torch.no_grad():\n",
    "        outputs = model(**inputs)\n",
    "    # Get embeddings for the [CLS] token\n",
    "    batch_embeddings = outputs.last_hidden_state[:, 0, :].cpu().numpy()\n",
    "    embeddings.append(batch_embeddings)\n",
    "\n",
    "# Concatenate all embeddings\n",
    "embeddings = np.vstack(embeddings)\n"
   ]
  },
  {
   "cell_type": "code",
   "execution_count": null,
   "metadata": {},
   "outputs": [],
   "source": []
  },
  {
   "cell_type": "code",
   "execution_count": 13,
   "metadata": {},
   "outputs": [
    {
     "name": "stdout",
     "output_type": "stream",
     "text": [
      "\n",
      "Cluster 0:\n",
      "-  be real with myself that's that's one thing that took me 20 years to kind of get to just to kind of...\n",
      "-  my family my my role as a wife my role as a mother I think that ultimately that's where my main ful...\n",
      "-  I don't know that's a tough one. What am I most proud of I don't know honestly...\n",
      "\n",
      "Cluster 1:\n",
      "- thank you...\n",
      "-  yes I am...\n",
      "-  I'm good thank you...\n",
      "\n",
      "Cluster 2:\n",
      "-  the weather I like that I can get to the water if I want to go to the hills or hike or just any ele...\n",
      "-  recently I went to Honduras again that's where my family is from so sore like a it's a dual fault I...\n",
      "-  experience probably Hawaii in Lahaina and just having enough food I'm a foodie so having the pig ro...\n",
      "\n",
      "Cluster 3:\n",
      "-  originally from Los Angeles and my parents are from Central America...\n",
      "-  you travel a lot when I can I have family in Central America and when I can my husband and I we try...\n",
      "-  the freedom of not having to have my daily routine and not be guilty about not doing something I sa...\n",
      "\n",
      "Cluster 4:\n",
      "-  hi...\n",
      "-  okay...\n",
      "-  yes...\n"
     ]
    }
   ],
   "source": [
    "from sklearn.cluster import KMeans\n",
    "# Perform clustering\n",
    "num_clusters = 5\n",
    "kmeans = KMeans(n_clusters=num_clusters, random_state=42)\n",
    "kmeans.fit(embeddings)\n",
    "\n",
    "# Assign cluster labels\n",
    "labels = kmeans.labels_\n",
    "\n",
    "# Examine texts in each cluster\n",
    "for cluster in range(num_clusters):\n",
    "    print(f\"\\nCluster {cluster}:\")\n",
    "    cluster_indices = np.where(labels == cluster)[0]\n",
    "    for idx in cluster_indices[:3]:  # Show first 3 texts in the cluster\n",
    "        print(f\"- {texts[idx][:100]}...\")  # Print first 100 characters"
   ]
  }
 ],
 "metadata": {
  "kernelspec": {
   "display_name": "Python 3 (ipykernel)",
   "language": "python",
   "name": "python3"
  },
  "language_info": {
   "codemirror_mode": {
    "name": "ipython",
    "version": 3
   },
   "file_extension": ".py",
   "mimetype": "text/x-python",
   "name": "python",
   "nbconvert_exporter": "python",
   "pygments_lexer": "ipython3",
   "version": "3.12.7"
  },
  "orig_nbformat": 4
 },
 "nbformat": 4,
 "nbformat_minor": 2
}
