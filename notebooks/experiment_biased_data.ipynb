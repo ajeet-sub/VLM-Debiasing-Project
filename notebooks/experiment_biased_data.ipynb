{
 "cells": [
  {
   "cell_type": "markdown",
   "metadata": {},
   "source": [
    "# Imports"
   ]
  },
  {
   "cell_type": "code",
   "execution_count": 2,
   "metadata": {},
   "outputs": [
    {
     "name": "stdout",
     "output_type": "stream",
     "text": [
      "The autoreload extension is already loaded. To reload it, use:\n",
      "  %reload_ext autoreload\n"
     ]
    }
   ],
   "source": [
    "%load_ext autoreload"
   ]
  },
  {
   "cell_type": "code",
   "execution_count": 3,
   "metadata": {},
   "outputs": [],
   "source": [
    "import sys\n",
    "sys.path.append('/home/hice1/mbibars3/scratch/vlm-debiasing/VLM-Debiasing-Project/scripts')"
   ]
  },
  {
   "cell_type": "code",
   "execution_count": 4,
   "metadata": {},
   "outputs": [],
   "source": [
    "%autoreload 2\n",
    "import pandas as pd\n",
    "import numpy as np\n",
    "import os\n",
    "import model as m\n",
    "import torch\n",
    "import torch.nn as nn\n",
    "import torch.optim as optim\n",
    "import loaders\n",
    "from torch.utils.data import Dataset, DataLoader\n",
    "import matplotlib.pyplot as plt"
   ]
  },
  {
   "cell_type": "code",
   "execution_count": 5,
   "metadata": {},
   "outputs": [],
   "source": [
    "import random\n",
    "\n",
    "def mixup_data(x1, x2, y1, y2, alpha=1.0):\n",
    "    \"\"\"\n",
    "    Perform MixUp between two samples.\n",
    "    \n",
    "    Args:\n",
    "        x1: The first sample (input tensor).\n",
    "        x2: The second sample (input tensor).\n",
    "        y1: The first label.\n",
    "        y2: The second label.\n",
    "        alpha: The mixing parameter (lambda), which controls the weight of each sample.\n",
    "\n",
    "    Returns:\n",
    "        mixed_x: The mixed input tensor.\n",
    "        mixed_y: The mixed label tensor.\n",
    "        lambda_value: The value of lambda (how much of each sample is mixed).\n",
    "    \"\"\"\n",
    "    # Generate the mixing factor lambda from a Beta distribution\n",
    "    lambda_value = torch.distributions.Beta(alpha, alpha).sample().item()\n",
    "\n",
    "    # Perform MixUp for inputs\n",
    "    mixed_x = lambda_value * x1 + (1 - lambda_value) * x2\n",
    "    \n",
    "    # Perform MixUp for labels\n",
    "    mixed_y = lambda_value * y1 + (1 - lambda_value) * y2\n",
    "    \n",
    "    return mixed_x, mixed_y, lambda_value\n"
   ]
  },
  {
   "attachments": {},
   "cell_type": "markdown",
   "metadata": {},
   "source": [
    "# Text-Audio-Visual"
   ]
  },
  {
   "attachments": {},
   "cell_type": "markdown",
   "metadata": {},
   "source": [
    "- text: Roberta\n",
    "- audio: AST\n",
    "- visual: densenet features"
   ]
  },
  {
   "attachments": {},
   "cell_type": "markdown",
   "metadata": {},
   "source": [
    "# Data"
   ]
  },
  {
   "cell_type": "code",
   "execution_count": 6,
   "metadata": {},
   "outputs": [
    {
     "data": {
      "text/html": [
       "<div>\n",
       "<style scoped>\n",
       "    .dataframe tbody tr th:only-of-type {\n",
       "        vertical-align: middle;\n",
       "    }\n",
       "\n",
       "    .dataframe tbody tr th {\n",
       "        vertical-align: top;\n",
       "    }\n",
       "\n",
       "    .dataframe thead th {\n",
       "        text-align: right;\n",
       "    }\n",
       "</style>\n",
       "<table border=\"1\" class=\"dataframe\">\n",
       "  <thead>\n",
       "    <tr style=\"text-align: right;\">\n",
       "      <th></th>\n",
       "      <th>split</th>\n",
       "      <th>label</th>\n",
       "      <th>label.1</th>\n",
       "      <th>gender</th>\n",
       "      <th>audio</th>\n",
       "      <th>text</th>\n",
       "      <th>visual</th>\n",
       "    </tr>\n",
       "  </thead>\n",
       "  <tbody>\n",
       "    <tr>\n",
       "      <th>0</th>\n",
       "      <td>train</td>\n",
       "      <td>22.0</td>\n",
       "      <td>0</td>\n",
       "      <td>female</td>\n",
       "      <td>/home/hice1/mbibars3/scratch/vlm-debiasing/dat...</td>\n",
       "      <td>/home/hice1/mbibars3/scratch/vlm-debiasing/dat...</td>\n",
       "      <td>/home/hice1/mbibars3/scratch/vlm-debiasing/dat...</td>\n",
       "    </tr>\n",
       "    <tr>\n",
       "      <th>1</th>\n",
       "      <td>test</td>\n",
       "      <td>23.0</td>\n",
       "      <td>0</td>\n",
       "      <td>male</td>\n",
       "      <td>/home/hice1/mbibars3/scratch/vlm-debiasing/dat...</td>\n",
       "      <td>/home/hice1/mbibars3/scratch/vlm-debiasing/dat...</td>\n",
       "      <td>/home/hice1/mbibars3/scratch/vlm-debiasing/dat...</td>\n",
       "    </tr>\n",
       "    <tr>\n",
       "      <th>2</th>\n",
       "      <td>train</td>\n",
       "      <td>19.0</td>\n",
       "      <td>0</td>\n",
       "      <td>male</td>\n",
       "      <td>/home/hice1/mbibars3/scratch/vlm-debiasing/dat...</td>\n",
       "      <td>/home/hice1/mbibars3/scratch/vlm-debiasing/dat...</td>\n",
       "      <td>/home/hice1/mbibars3/scratch/vlm-debiasing/dat...</td>\n",
       "    </tr>\n",
       "    <tr>\n",
       "      <th>3</th>\n",
       "      <td>train</td>\n",
       "      <td>67.0</td>\n",
       "      <td>1</td>\n",
       "      <td>female</td>\n",
       "      <td>/home/hice1/mbibars3/scratch/vlm-debiasing/dat...</td>\n",
       "      <td>/home/hice1/mbibars3/scratch/vlm-debiasing/dat...</td>\n",
       "      <td>/home/hice1/mbibars3/scratch/vlm-debiasing/dat...</td>\n",
       "    </tr>\n",
       "    <tr>\n",
       "      <th>4</th>\n",
       "      <td>dev</td>\n",
       "      <td>39.0</td>\n",
       "      <td>0</td>\n",
       "      <td>male</td>\n",
       "      <td>/home/hice1/mbibars3/scratch/vlm-debiasing/dat...</td>\n",
       "      <td>/home/hice1/mbibars3/scratch/vlm-debiasing/dat...</td>\n",
       "      <td>/home/hice1/mbibars3/scratch/vlm-debiasing/dat...</td>\n",
       "    </tr>\n",
       "  </tbody>\n",
       "</table>\n",
       "</div>"
      ],
      "text/plain": [
       "   split  label  label.1  gender  \\\n",
       "0  train   22.0        0  female   \n",
       "1   test   23.0        0    male   \n",
       "2  train   19.0        0    male   \n",
       "3  train   67.0        1  female   \n",
       "4    dev   39.0        0    male   \n",
       "\n",
       "                                               audio  \\\n",
       "0  /home/hice1/mbibars3/scratch/vlm-debiasing/dat...   \n",
       "1  /home/hice1/mbibars3/scratch/vlm-debiasing/dat...   \n",
       "2  /home/hice1/mbibars3/scratch/vlm-debiasing/dat...   \n",
       "3  /home/hice1/mbibars3/scratch/vlm-debiasing/dat...   \n",
       "4  /home/hice1/mbibars3/scratch/vlm-debiasing/dat...   \n",
       "\n",
       "                                                text  \\\n",
       "0  /home/hice1/mbibars3/scratch/vlm-debiasing/dat...   \n",
       "1  /home/hice1/mbibars3/scratch/vlm-debiasing/dat...   \n",
       "2  /home/hice1/mbibars3/scratch/vlm-debiasing/dat...   \n",
       "3  /home/hice1/mbibars3/scratch/vlm-debiasing/dat...   \n",
       "4  /home/hice1/mbibars3/scratch/vlm-debiasing/dat...   \n",
       "\n",
       "                                              visual  \n",
       "0  /home/hice1/mbibars3/scratch/vlm-debiasing/dat...  \n",
       "1  /home/hice1/mbibars3/scratch/vlm-debiasing/dat...  \n",
       "2  /home/hice1/mbibars3/scratch/vlm-debiasing/dat...  \n",
       "3  /home/hice1/mbibars3/scratch/vlm-debiasing/dat...  \n",
       "4  /home/hice1/mbibars3/scratch/vlm-debiasing/dat...  "
      ]
     },
     "execution_count": 6,
     "metadata": {},
     "output_type": "execute_result"
    }
   ],
   "source": [
    "features_csv = pd.read_csv(\"/home/hice1/mbibars3/scratch/vlm-debiasing/data/e-daic/audio_text_visual_paths.csv\")\n",
    "features_csv.head()"
   ]
  },
  {
   "cell_type": "code",
   "execution_count": 7,
   "metadata": {},
   "outputs": [
    {
     "data": {
      "text/plain": [
       "36.443223443223445"
      ]
     },
     "execution_count": 7,
     "metadata": {},
     "output_type": "execute_result"
    }
   ],
   "source": [
    "features_csv[\"label\"].mean()"
   ]
  },
  {
   "cell_type": "code",
   "execution_count": 8,
   "metadata": {},
   "outputs": [],
   "source": [
    "# Filter rows that belong to the \"train\" split\n",
    "features_csv = pd.read_csv(\"/home/hice1/mbibars3/scratch/vlm-debiasing/data/e-daic/norm_avt.csv\")"
   ]
  },
  {
   "cell_type": "code",
   "execution_count": 9,
   "metadata": {},
   "outputs": [],
   "source": [
    "# Shuffle the DataFrame\n",
    "features_csv = features_csv.sample(frac=1, random_state=42).reset_index(drop=True)"
   ]
  },
  {
   "attachments": {},
   "cell_type": "markdown",
   "metadata": {},
   "source": [
    "# Unbalanced"
   ]
  },
  {
   "cell_type": "code",
   "execution_count": 39,
   "metadata": {},
   "outputs": [
    {
     "name": "stdout",
     "output_type": "stream",
     "text": [
      "Modality 1 shape: torch.Size([64, 768, 1])\n",
      "Modality 2 shape: torch.Size([64, 768, 1])\n",
      "Labels shape: tensor([0., 0., 1., 0., 0., 0., 0., 0., 0., 0., 0., 1., 1., 0., 1., 0., 1., 1.,\n",
      "        1., 0., 0., 1., 0., 0., 0., 0., 0., 0., 1., 0., 0., 0., 0., 0., 0., 0.,\n",
      "        0., 1., 0., 0., 1., 0., 1., 1., 0., 0., 0., 0., 0., 0., 0., 0., 0., 0.,\n",
      "        1., 0., 0., 1., 0., 1., 0., 0., 0., 0.])\n"
     ]
    }
   ],
   "source": [
    "train_loader = loaders.MultiModalityDataset(features_csv[features_csv[\"split\"]==\"train\"], \n",
    "                                            modalities = {\"audio\", \"text\"}, label = \"label.1\")\n",
    "train_dataloader = DataLoader(train_loader, batch_size=64, collate_fn=loaders.collate_fn)\n",
    "\n",
    "for batch in train_dataloader:\n",
    "    modalities, labels = batch\n",
    "    print(f\"Modality 1 shape: {modalities[0].shape}\")  # Expected shape: (batch_size, feature, 1)\n",
    "    print(f\"Modality 2 shape: {modalities[1].shape}\")\n",
    "    #print(f\"Modality 3 shape: {modalities[2].shape}\")\n",
    "    print(f\"Labels shape: {labels}\")\n",
    "    break"
   ]
  },
  {
   "cell_type": "code",
   "execution_count": 40,
   "metadata": {},
   "outputs": [],
   "source": [
    "dev_loader = loaders.MultiModalityDataset(features_csv[features_csv[\"split\"]==\"dev\"], \n",
    "                                            modalities = {\"audio\", \"text\"}, label = \"label.1\")\n",
    "dev_dataloader = DataLoader(train_loader, batch_size=16, collate_fn=loaders.collate_fn)"
   ]
  },
  {
   "cell_type": "code",
   "execution_count": 41,
   "metadata": {},
   "outputs": [],
   "source": [
    "# Define input dimensions for each modality\n",
    "input_dims = [768, 768]  # These are the feature dimensions for each modality\n",
    "\n",
    "# Initialize MultiModalPerceiver model\n",
    "model = m.MultiModalPerceiver(\n",
    "    input_dims=input_dims,\n",
    "    input_channels=1,\n",
    "    input_axis=1,\n",
    "    projection_dim=256,\n",
    "    num_latents=16,\n",
    "    latent_dim=128,\n",
    "    depth=8,\n",
    "    cross_heads=8,\n",
    "    latent_heads=8,\n",
    "    cross_dim_head=32,\n",
    "    latent_dim_head=32,\n",
    "    attn_dropout=0.5,\n",
    "    ff_dropout=0.5,\n",
    "    output_dim=1,\n",
    "    weight_tie_layers=True,\n",
    "    fourier_encode_data=False,\n",
    "    max_freq=10,\n",
    "    num_freq_bands=4\n",
    ")"
   ]
  },
  {
   "cell_type": "code",
   "execution_count": 56,
   "metadata": {},
   "outputs": [
    {
     "name": "stdout",
     "output_type": "stream",
     "text": [
      "SimpleMultiModalityModel(\n",
      "  (modality_fc): ModuleList(\n",
      "    (0-1): 2 x Sequential(\n",
      "      (0): Linear(in_features=768, out_features=16, bias=True)\n",
      "      (1): ReLU()\n",
      "    )\n",
      "  )\n",
      "  (combined_fc): Sequential(\n",
      "    (0): Linear(in_features=32, out_features=16, bias=True)\n",
      "    (1): ReLU()\n",
      "    (2): Linear(in_features=16, out_features=1, bias=True)\n",
      "  )\n",
      ")\n"
     ]
    }
   ],
   "source": [
    "simple_model = m.SimpleMultiModalityModel(input_dims, hidden_size=16, output_size=1)\n",
    "\n",
    "# Print model summary\n",
    "print(simple_model)"
   ]
  },
  {
   "cell_type": "code",
   "execution_count": 57,
   "metadata": {},
   "outputs": [
    {
     "data": {
      "text/plain": [
       "25153"
      ]
     },
     "execution_count": 57,
     "metadata": {},
     "output_type": "execute_result"
    }
   ],
   "source": [
    "sum(p.numel() for p in simple_model.parameters() if p.requires_grad)"
   ]
  },
  {
   "cell_type": "code",
   "execution_count": 58,
   "metadata": {},
   "outputs": [],
   "source": [
    "labels_torch = torch.from_numpy(features_csv[features_csv[\"split\"]==\"train\"][\"label.1\"].values)"
   ]
  },
  {
   "cell_type": "code",
   "execution_count": 59,
   "metadata": {},
   "outputs": [],
   "source": [
    "# Calculate class weights\n",
    "class_counts = torch.bincount(labels_torch)  # Get counts for each class\n",
    "class_weights = len(labels_torch) / (2.0 * class_counts)\n",
    "\n",
    "# Apply weights to loss function\n",
    "criterion = nn.BCEWithLogitsLoss(pos_weight=class_weights[1])  # Weight for positive class\n"
   ]
  },
  {
   "cell_type": "code",
   "execution_count": 60,
   "metadata": {},
   "outputs": [
    {
     "data": {
      "text/plain": [
       "tensor([0.7149, 1.6633])"
      ]
     },
     "execution_count": 60,
     "metadata": {},
     "output_type": "execute_result"
    }
   ],
   "source": [
    "class_weights"
   ]
  },
  {
   "cell_type": "code",
   "execution_count": 61,
   "metadata": {},
   "outputs": [],
   "source": [
    "learning_rate = 0.2\n",
    "num_epochs = 10\n",
    "# Define loss function and optimizer\n",
    "#criterion = nn.MSELoss()  # Mean Squared Error for regression\n",
    "# loss function for binary classification\n",
    "#criterion = nn.BCEWithLogitsLoss()\n",
    "optimizer = optim.Adam(simple_model.parameters(), lr=learning_rate)"
   ]
  },
  {
   "cell_type": "code",
   "execution_count": 62,
   "metadata": {},
   "outputs": [
    {
     "name": "stdout",
     "output_type": "stream",
     "text": [
      "Epoch [1/10], Train Loss: 9.8140, Val Loss: 0.8194, Train F1: 0.4517, Val F1: 0.5757\n",
      "Epoch [2/10], Train Loss: 0.8314, Val Loss: 0.8061, Train F1: 0.5757, Val F1: 0.5757\n",
      "Epoch [3/10], Train Loss: 0.8248, Val Loss: 0.7967, Train F1: 0.5757, Val F1: 0.5757\n",
      "Epoch [4/10], Train Loss: 0.8222, Val Loss: 0.7934, Train F1: 0.5757, Val F1: 0.5757\n",
      "Epoch [5/10], Train Loss: 0.8226, Val Loss: 0.7929, Train F1: 0.5757, Val F1: 0.5757\n",
      "Epoch [6/10], Train Loss: 0.8218, Val Loss: 0.7936, Train F1: 0.5757, Val F1: 0.5757\n",
      "Epoch [7/10], Train Loss: 0.8199, Val Loss: 0.7964, Train F1: 0.5757, Val F1: 0.5757\n",
      "Epoch [8/10], Train Loss: 0.8200, Val Loss: 0.7995, Train F1: 0.5757, Val F1: 0.5757\n",
      "Epoch [9/10], Train Loss: 0.8215, Val Loss: 0.7988, Train F1: 0.5757, Val F1: 0.5757\n",
      "Epoch [10/10], Train Loss: 0.8219, Val Loss: 0.7959, Train F1: 0.5757, Val F1: 0.5757\n"
     ]
    }
   ],
   "source": [
    "from sklearn.metrics import f1_score\n",
    "# Define variables to track losses\n",
    "train_losses = []\n",
    "val_losses = []\n",
    "best_val_loss = float('inf')  # Initialize best validation loss\n",
    "\n",
    "# Training loop\n",
    "for epoch in range(num_epochs):\n",
    "    running_train_loss = 0.0\n",
    "    all_train_labels = []\n",
    "    all_train_preds = []\n",
    "    all_dev_labels = []\n",
    "    all_dev_preds = []\n",
    "\n",
    "    for batch in train_dataloader:\n",
    "        \n",
    "        # Unpack the batch\n",
    "        modalities, labels = batch\n",
    "        modality_1, modality_2 = modalities  # Each has shape (batch_size, feature, 1)\n",
    "\n",
    "        # Zero the parameter gradients\n",
    "        optimizer.zero_grad()\n",
    "\n",
    "        # Forward pass\n",
    "        inputs = [modality_1, modality_2]\n",
    "        output = simple_model(inputs)\n",
    "\n",
    "        #print(output, labels)\n",
    "        # Reshape labels to match the output shape if necessary\n",
    "        labels = labels.view(output.shape)  # Ensures labels has shape (batch_size, 1)\n",
    "\n",
    "        # Compute loss\n",
    "        loss = criterion(output, labels)\n",
    "        #RMSE_loss = torch.sqrt(loss)\n",
    "\n",
    "        # Backward pass and optimize\n",
    "        loss.backward()\n",
    "        optimizer.step()\n",
    "\n",
    "        # Accumulate loss\n",
    "        running_train_loss += loss.item()\n",
    "        # Convert logits to predictions\n",
    "        preds = torch.sigmoid(output) > 0.5\n",
    "        all_train_labels.extend(labels.cpu().numpy().flatten())\n",
    "        all_train_preds.extend(preds.cpu().numpy().flatten())\n",
    "\n",
    "    # Average training loss for the epoch\n",
    "    train_loss = running_train_loss / len(train_dataloader)\n",
    "    train_losses.append(train_loss)\n",
    "\n",
    "    # Validation Phase\n",
    "    model.eval()  # Set model to evaluation mode\n",
    "    running_val_loss = 0.0\n",
    "\n",
    "    with torch.no_grad():  # Disable gradient computation\n",
    "        for batch in dev_dataloader:  # Use validation DataLoader\n",
    "            modalities, labels = batch\n",
    "            modality_1, modality_2 = modalities\n",
    "\n",
    "            # Forward pass\n",
    "            inputs = [modality_1, modality_2]\n",
    "            output = simple_model(inputs)\n",
    "\n",
    "            # Reshape labels to match the output shape if necessary\n",
    "            labels = labels.view(output.shape)\n",
    "\n",
    "            # Compute loss\n",
    "            loss = criterion(output, labels)\n",
    "            #RMSE_loss = torch.sqrt(loss)\n",
    "\n",
    "            running_val_loss += loss.item()\n",
    "            preds = torch.sigmoid(output) > 0.5\n",
    "            all_dev_labels.extend(labels.cpu().numpy().flatten())\n",
    "            all_dev_preds.extend(preds.cpu().numpy().flatten())\n",
    "\n",
    "    # Average validation loss for the epoch\n",
    "    val_loss = running_val_loss / len(dev_dataloader)\n",
    "    val_losses.append(val_loss)\n",
    "\n",
    "    # Check if this is the best model\n",
    "    if val_loss < best_val_loss:\n",
    "        best_val_loss = val_loss\n",
    "        torch.save(model.state_dict(), \"best_aud_text_model.pth\")  # Save best model\n",
    "\n",
    "    # Compute F1-score for training\n",
    "    train_f1 = f1_score(all_train_labels, all_train_preds, average='weighted')\n",
    "    dev_f1 = f1_score(all_dev_labels, all_dev_preds, average='weighted')\n",
    "\n",
    "    # Print epoch summary\n",
    "    print(f\"Epoch [{epoch+1}/{num_epochs}], Train Loss: {train_loss:.4f}, Val Loss: {val_loss:.4f}, Train F1: {train_f1:.4f}, Val F1: {dev_f1:.4f}\")\n"
   ]
  },
  {
   "cell_type": "code",
   "execution_count": 63,
   "metadata": {},
   "outputs": [
    {
     "data": {
      "image/png": "[encoded data removed]",
      "text/plain": [
       "<Figure size 800x600 with 1 Axes>"
      ]
     },
     "metadata": {},
     "output_type": "display_data"
    }
   ],
   "source": [
    "# Plot training and validation losses\n",
    "plt.figure(figsize=(8, 6))\n",
    "plt.plot(train_losses, label=\"Training Loss\")\n",
    "plt.plot(val_losses, label=\"Validation Loss\")\n",
    "plt.xlabel(\"Epoch\")\n",
    "plt.ylabel(\"Loss\")\n",
    "plt.title(\"Training and Validation Loss\")\n",
    "plt.legend()\n",
    "plt.savefig(\"loss_plot.png\")  # Save the plot\n",
    "plt.show()"
   ]
  },
  {
   "cell_type": "code",
   "execution_count": 65,
   "metadata": {},
   "outputs": [
    {
     "name": "stdout",
     "output_type": "stream",
     "text": [
      "Predicted Classes:\n",
      "tensor([[0],\n",
      "        [0],\n",
      "        [0],\n",
      "        [0],\n",
      "        [0],\n",
      "        [0],\n",
      "        [0],\n",
      "        [0],\n",
      "        [0],\n",
      "        [0],\n",
      "        [0],\n",
      "        [0],\n",
      "        [0],\n",
      "        [0],\n",
      "        [0],\n",
      "        [0]], dtype=torch.int32)\n",
      "Predicted Classes:\n",
      "tensor([[0],\n",
      "        [0],\n",
      "        [0],\n",
      "        [0],\n",
      "        [0],\n",
      "        [0],\n",
      "        [0],\n",
      "        [0],\n",
      "        [0],\n",
      "        [0],\n",
      "        [0],\n",
      "        [0],\n",
      "        [0],\n",
      "        [0],\n",
      "        [0],\n",
      "        [0]], dtype=torch.int32)\n",
      "Predicted Classes:\n",
      "tensor([[0],\n",
      "        [0],\n",
      "        [0],\n",
      "        [0],\n",
      "        [0],\n",
      "        [0],\n",
      "        [0],\n",
      "        [0],\n",
      "        [0],\n",
      "        [0],\n",
      "        [0],\n",
      "        [0],\n",
      "        [0],\n",
      "        [0],\n",
      "        [0],\n",
      "        [0]], dtype=torch.int32)\n",
      "Predicted Classes:\n",
      "tensor([[0],\n",
      "        [0],\n",
      "        [0],\n",
      "        [0],\n",
      "        [0],\n",
      "        [0],\n",
      "        [0],\n",
      "        [0],\n",
      "        [0],\n",
      "        [0],\n",
      "        [0],\n",
      "        [0],\n",
      "        [0],\n",
      "        [0],\n",
      "        [0],\n",
      "        [0]], dtype=torch.int32)\n",
      "Predicted Classes:\n",
      "tensor([[0],\n",
      "        [0],\n",
      "        [0],\n",
      "        [0],\n",
      "        [0],\n",
      "        [0],\n",
      "        [0],\n",
      "        [0],\n",
      "        [0],\n",
      "        [0],\n",
      "        [0],\n",
      "        [0],\n",
      "        [0],\n",
      "        [0],\n",
      "        [0],\n",
      "        [0]], dtype=torch.int32)\n",
      "Predicted Classes:\n",
      "tensor([[0],\n",
      "        [0],\n",
      "        [0],\n",
      "        [0],\n",
      "        [0],\n",
      "        [0],\n",
      "        [0],\n",
      "        [0],\n",
      "        [0],\n",
      "        [0],\n",
      "        [0],\n",
      "        [0],\n",
      "        [0],\n",
      "        [0],\n",
      "        [0],\n",
      "        [0]], dtype=torch.int32)\n",
      "Predicted Classes:\n",
      "tensor([[0],\n",
      "        [0],\n",
      "        [0],\n",
      "        [0],\n",
      "        [0],\n",
      "        [0],\n",
      "        [0],\n",
      "        [0],\n",
      "        [0],\n",
      "        [0],\n",
      "        [0],\n",
      "        [0],\n",
      "        [0],\n",
      "        [0],\n",
      "        [0],\n",
      "        [0]], dtype=torch.int32)\n",
      "Predicted Classes:\n",
      "tensor([[0],\n",
      "        [0],\n",
      "        [0],\n",
      "        [0],\n",
      "        [0],\n",
      "        [0],\n",
      "        [0],\n",
      "        [0],\n",
      "        [0],\n",
      "        [0],\n",
      "        [0],\n",
      "        [0],\n",
      "        [0],\n",
      "        [0],\n",
      "        [0],\n",
      "        [0]], dtype=torch.int32)\n",
      "Predicted Classes:\n",
      "tensor([[0],\n",
      "        [0],\n",
      "        [0],\n",
      "        [0],\n",
      "        [0],\n",
      "        [0],\n",
      "        [0],\n",
      "        [0],\n",
      "        [0],\n",
      "        [0],\n",
      "        [0],\n",
      "        [0],\n",
      "        [0],\n",
      "        [0],\n",
      "        [0],\n",
      "        [0]], dtype=torch.int32)\n",
      "Predicted Classes:\n",
      "tensor([[0],\n",
      "        [0],\n",
      "        [0],\n",
      "        [0],\n",
      "        [0],\n",
      "        [0],\n",
      "        [0],\n",
      "        [0],\n",
      "        [0],\n",
      "        [0],\n",
      "        [0],\n",
      "        [0],\n",
      "        [0],\n",
      "        [0],\n",
      "        [0],\n",
      "        [0]], dtype=torch.int32)\n",
      "Predicted Classes:\n",
      "tensor([[0],\n",
      "        [0],\n",
      "        [0]], dtype=torch.int32)\n"
     ]
    }
   ],
   "source": [
    "# Model prediction\n",
    "simple_model.eval()  # Set model to evaluation mode\n",
    "\n",
    "predictions = []\n",
    "with torch.no_grad():  # Disable gradient computation\n",
    "    for batch in dev_dataloader:\n",
    "        modalities, _ = batch  # Ignore labels if unavailable\n",
    "        modality_1, modality_2 = modalities\n",
    "        \n",
    "        # Forward pass\n",
    "        inputs = [modality_1, modality_2]\n",
    "        output = simple_model(inputs)  # Model's prediction\n",
    "        predictions = torch.sigmoid(output)  # Apply sigmoid activation\n",
    "        predicted_classes = (predictions > 0.5).int()  # Convert probabilities to binary predictions\n",
    "        #print(f\"Predicted Probabilities:\\n{predictions}\")\n",
    "        print(f\"Predicted Classes:\\n{predicted_classes}\")\n",
    "        # Collect predictions\n",
    "        #predictions.append(output)\n",
    "\n",
    "# Combine predictions into a single tensor\n",
    "#predictions = torch.cat(predicted_classes, dim=0)\n",
    "#y_pred = np.array(predictions)\n",
    "#print(f\"Predictions:\\n{predictions}\")"
   ]
  },
  {
   "cell_type": "code",
   "execution_count": 30,
   "metadata": {},
   "outputs": [],
   "source": [
    "y_test = np.array(features_csv[features_csv[\"split\"]==\"dev\"][\"PTSD_severity\"].values)"
   ]
  },
  {
   "cell_type": "code",
   "execution_count": 42,
   "metadata": {},
   "outputs": [],
   "source": [
    "features_csv['col_encoded'] = features_csv['gender'].map({'female': 0, 'male': 1, None:1})"
   ]
  },
  {
   "cell_type": "code",
   "execution_count": 43,
   "metadata": {},
   "outputs": [
    {
     "data": {
      "text/plain": [
       "array([ 0.,  1., nan])"
      ]
     },
     "execution_count": 43,
     "metadata": {},
     "output_type": "execute_result"
    }
   ],
   "source": [
    "np.unique(features_csv['col_encoded'])"
   ]
  },
  {
   "cell_type": "code",
   "execution_count": 44,
   "metadata": {},
   "outputs": [
    {
     "name": "stdout",
     "output_type": "stream",
     "text": [
      "Shape of gender_test: (56,)\n",
      "Shape of y_test: (56,)\n",
      "Shape of y_pred: (56, 1)\n"
     ]
    }
   ],
   "source": [
    "from fairlearn.metrics import demographic_parity_difference\n",
    "\n",
    "# Assuming `gender` corresponds to the original metadata\n",
    "# Split the dataset into training and testing sets for `gender`\n",
    "gender_train, gender_test = features_csv[features_csv[\"split\"]==\"train\"][\"col_encoded\"], features_csv[features_csv[\"split\"]==\"dev\"][\"col_encoded\"]\n",
    "\n",
    "# Ensure that `gender_test`, `y_test`, and `y_pred` are aligned\n",
    "print(f\"Shape of gender_test: {gender_test.shape}\")\n",
    "print(f\"Shape of y_test: {y_test.shape}\")\n",
    "print(f\"Shape of y_pred: {y_pred.shape}\")\n",
    "\n"
   ]
  },
  {
   "cell_type": "code",
   "execution_count": 47,
   "metadata": {},
   "outputs": [
    {
     "name": "stdout",
     "output_type": "stream",
     "text": [
      "Demographic Parity Difference: 0.0\n"
     ]
    }
   ],
   "source": [
    "# Calculate Demographic Parity Difference\n",
    "demographic_parity = demographic_parity_difference(\n",
    "    y_true=y_test,\n",
    "    y_pred=y_pred[:,0],\n",
    "    sensitive_features=gender_test\n",
    ")\n",
    "\n",
    "print(f\"Demographic Parity Difference: {demographic_parity}\")"
   ]
  },
  {
   "cell_type": "code",
   "execution_count": 33,
   "metadata": {},
   "outputs": [
    {
     "name": "stdout",
     "output_type": "stream",
     "text": [
      "Selection Rates by Group:\n",
      "gender\n",
      "female     0.0\n",
      "male       0.0\n",
      "unknown    0.0\n",
      "Name: selection_rate, dtype: float64\n"
     ]
    }
   ],
   "source": [
    "from fairlearn.metrics import MetricFrame, selection_rate\n",
    "metric_frame = MetricFrame(metrics=selection_rate, \n",
    "                           y_true=y_test, \n",
    "                           y_pred=y_pred[:,0], \n",
    "                           sensitive_features=gender_test)\n",
    "\n",
    "# Get selection rates for each group\n",
    "selection_rates = metric_frame.by_group\n",
    "print(\"Selection Rates by Group:\")\n",
    "print(selection_rates)\n"
   ]
  },
  {
   "cell_type": "code",
   "execution_count": 34,
   "metadata": {},
   "outputs": [
    {
     "name": "stderr",
     "output_type": "stream",
     "text": [
      "/scratch/954025/ipykernel_2837344/1510568790.py:1: FutureWarning: Series.__getitem__ treating keys as positions is deprecated. In a future version, integer keys will always be treated as labels (consistent with DataFrame behavior). To access a value by position, use `ser.iloc[pos]`\n",
      "  group_a_rate = selection_rates[1]\n",
      "/scratch/954025/ipykernel_2837344/1510568790.py:2: FutureWarning: Series.__getitem__ treating keys as positions is deprecated. In a future version, integer keys will always be treated as labels (consistent with DataFrame behavior). To access a value by position, use `ser.iloc[pos]`\n",
      "  group_b_rate = selection_rates[0]\n"
     ]
    }
   ],
   "source": [
    "group_a_rate = selection_rates[1]\n",
    "group_b_rate = selection_rates[0]\n",
    "\n",
    "if group_b_rate > 0:  # Avoid division by zero\n",
    "    demographic_parity_ratio = group_a_rate / group_b_rate\n",
    "    print(f\"Demographic Parity Ratio: {demographic_parity_ratio}\")"
   ]
  },
  {
   "attachments": {},
   "cell_type": "markdown",
   "metadata": {},
   "source": [
    "# Unbalanced mixup"
   ]
  },
  {
   "cell_type": "code",
   "execution_count": 8,
   "metadata": {},
   "outputs": [
    {
     "name": "stdout",
     "output_type": "stream",
     "text": [
      "Modality 1 shape: torch.Size([10, 768, 1])\n",
      "Modality 2 shape: torch.Size([10, 768, 1])\n",
      "Labels shape: tensor([29., 32., 48., 72., 58., 36., 48., 46., 27., 24.])\n"
     ]
    }
   ],
   "source": [
    "train_loader = loaders.MultiModalityDataset(features_csv[features_csv[\"split\"]==\"train\"], \n",
    "                                            modalities = {\"audio\", \"text\"}, label = \"label\")\n",
    "train_dataloader = DataLoader(train_loader, batch_size=10, collate_fn=loaders.collate_fn)\n",
    "\n",
    "for batch in train_dataloader:\n",
    "    modalities, labels = batch\n",
    "    print(f\"Modality 1 shape: {modalities[0].shape}\")  # Expected shape: (batch_size, feature, 1)\n",
    "    print(f\"Modality 2 shape: {modalities[1].shape}\")\n",
    "    #print(f\"Modality 3 shape: {modalities[2].shape}\")\n",
    "    print(f\"Labels shape: {labels}\")\n",
    "    break"
   ]
  },
  {
   "cell_type": "code",
   "execution_count": 9,
   "metadata": {},
   "outputs": [],
   "source": [
    "dev_loader = loaders.MultiModalityDataset(features_csv[features_csv[\"split\"]==\"dev\"], \n",
    "                                            modalities = {\"audio\", \"text\"}, label = \"label\")\n",
    "dev_dataloader = DataLoader(train_loader, batch_size=10, collate_fn=loaders.collate_fn)"
   ]
  },
  {
   "cell_type": "code",
   "execution_count": 10,
   "metadata": {},
   "outputs": [],
   "source": [
    "# Define input dimensions for each modality\n",
    "input_dims = [768, 768]  # These are the feature dimensions for each modality\n",
    "\n",
    "# Initialize MultiModalPerceiver model\n",
    "model = m.MultiModalPerceiver(\n",
    "    input_dims=input_dims,\n",
    "    input_channels=1,\n",
    "    input_axis=1,\n",
    "    projection_dim=256,\n",
    "    num_latents=16,\n",
    "    latent_dim=128,\n",
    "    depth=8,\n",
    "    cross_heads=8,\n",
    "    latent_heads=8,\n",
    "    cross_dim_head=32,\n",
    "    latent_dim_head=32,\n",
    "    attn_dropout=0.5,\n",
    "    ff_dropout=0.5,\n",
    "    output_dim=1,\n",
    "    weight_tie_layers=True,\n",
    "    fourier_encode_data=False,\n",
    "    max_freq=10,\n",
    "    num_freq_bands=4\n",
    ")"
   ]
  },
  {
   "cell_type": "code",
   "execution_count": 11,
   "metadata": {},
   "outputs": [
    {
     "data": {
      "text/plain": [
       "1585541"
      ]
     },
     "execution_count": 11,
     "metadata": {},
     "output_type": "execute_result"
    }
   ],
   "source": [
    "sum(p.numel() for p in model.parameters() if p.requires_grad)"
   ]
  },
  {
   "cell_type": "code",
   "execution_count": 12,
   "metadata": {},
   "outputs": [
    {
     "data": {
      "text/plain": [
       "'\\nlabels_torch = torch.from_numpy(features_csv[features_csv[\"split\"]==\"train\"][\"label.1\"].values)\\n# Calculate class weights\\nclass_counts = torch.bincount(labels_torch)  # Get counts for each class\\nclass_weights = len(labels_torch) / (2.0 * class_counts)\\n\\n# Apply weights to loss function\\ncriterion = nn.BCEWithLogitsLoss(pos_weight=class_weights[1])  # Weight for positive class'"
      ]
     },
     "execution_count": 12,
     "metadata": {},
     "output_type": "execute_result"
    }
   ],
   "source": [
    "\"\"\"\n",
    "labels_torch = torch.from_numpy(features_csv[features_csv[\"split\"]==\"train\"][\"label.1\"].values)\n",
    "# Calculate class weights\n",
    "class_counts = torch.bincount(labels_torch)  # Get counts for each class\n",
    "class_weights = len(labels_torch) / (2.0 * class_counts)\n",
    "\n",
    "# Apply weights to loss function\n",
    "criterion = nn.BCEWithLogitsLoss(pos_weight=class_weights[1])  # Weight for positive class\"\"\""
   ]
  },
  {
   "cell_type": "code",
   "execution_count": 13,
   "metadata": {},
   "outputs": [],
   "source": [
    "learning_rate = 0.0005\n",
    "num_epochs = 10\n",
    "mix_prob = 0.8\n",
    "alpha = 0.7\n",
    "# Define loss function and optimizer\n",
    "criterion = nn.MSELoss()  # Mean Squared Error for regression\n",
    "# loss function for binary classification\n",
    "#criterion = nn.BCEWithLogitsLoss()\n",
    "optimizer = optim.Adam(model.parameters(), lr=learning_rate)"
   ]
  },
  {
   "cell_type": "code",
   "execution_count": 14,
   "metadata": {},
   "outputs": [
    {
     "name": "stdout",
     "output_type": "stream",
     "text": [
      "Epoch [1/10], Train Loss: 31.9484, Val Loss: 31.5414\n",
      "Epoch [2/10], Train Loss: 29.9905, Val Loss: 30.5198\n",
      "Epoch [3/10], Train Loss: 29.1958, Val Loss: 29.4735\n",
      "Epoch [4/10], Train Loss: 27.6234, Val Loss: 28.3719\n",
      "Epoch [5/10], Train Loss: 26.5436, Val Loss: 27.2164\n",
      "Epoch [6/10], Train Loss: 25.6528, Val Loss: 26.0482\n",
      "Epoch [7/10], Train Loss: 24.6642, Val Loss: 24.8661\n",
      "Epoch [8/10], Train Loss: 23.1667, Val Loss: 23.6870\n",
      "Epoch [9/10], Train Loss: 22.1232, Val Loss: 22.5333\n",
      "Epoch [10/10], Train Loss: 20.7716, Val Loss: 21.4493\n"
     ]
    }
   ],
   "source": [
    "from sklearn.metrics import f1_score\n",
    "# Define variables to track losses\n",
    "train_losses = []\n",
    "val_losses = []\n",
    "best_val_loss = float('inf')  # Initialize best validation loss\n",
    "\n",
    "# Training loop\n",
    "for epoch in range(num_epochs):\n",
    "    model.train()\n",
    "\n",
    "    running_train_loss = 0.0\n",
    "    all_train_labels = []\n",
    "    all_train_preds = []\n",
    "    all_dev_labels = []\n",
    "    all_dev_preds = []\n",
    "\n",
    "    for batch in train_dataloader:\n",
    "        \n",
    "        # Unpack the batch\n",
    "        modalities, labels = batch\n",
    "        modality_1, modality_2 = modalities  # Each has shape (batch_size, feature, 1)\n",
    "\n",
    "        # Zero the parameter gradients for every batch!\n",
    "        optimizer.zero_grad()\n",
    "\n",
    "        # MixUp: randomly select a pair of samples and mix them\n",
    "        if random.random() < mix_prob:  # Apply MixUp with a probability of 50%\n",
    "            # Select a random index for mixing\n",
    "            index = torch.randperm(modality_1.shape[0]).to(modality_1.device)\n",
    "            \n",
    "            # Perform MixUp for each modality\n",
    "            modality_1, labels, lambda_value = mixup_data(modality_1, modality_1[index], labels, labels[index], alpha=alpha)\n",
    "            modality_2, _, _ = mixup_data(modality_2, modality_2[index], labels, labels[index], alpha=alpha)\n",
    "            #modality_3, _, _ = mixup_data(modality_3, modality_3[index], labels, labels[index], alpha=alpha)\n",
    "        \n",
    "\n",
    "        # Forward pass\n",
    "        inputs = [modality_1, modality_2]\n",
    "        output = model(inputs)\n",
    "\n",
    "        # Reshape labels to match the output shape if necessary\n",
    "        labels = labels.view(output.shape)  # Ensures labels has shape (batch_size, 1)\n",
    "\n",
    "        # Compute loss\n",
    "        loss = criterion(output, labels)\n",
    "        loss = torch.sqrt(loss)\n",
    "\n",
    "        # Backward pass and optimize\n",
    "        loss.backward()\n",
    "        optimizer.step()\n",
    "\n",
    "        # Accumulate loss\n",
    "        running_train_loss += loss.item()\n",
    "        # Convert logits to predictions\n",
    "        #preds = torch.sigmoid(output) > 0.5\n",
    "        #all_train_labels.extend(labels.cpu().numpy().flatten())\n",
    "        #all_train_preds.extend(preds.cpu().numpy().flatten())\n",
    "\n",
    "    # Average training loss for the epoch\n",
    "    train_loss = running_train_loss / len(train_dataloader)\n",
    "    train_losses.append(train_loss)\n",
    "\n",
    "    # Validation Phase\n",
    "    model.eval()  # Set model to evaluation mode\n",
    "    running_val_loss = 0.0\n",
    "\n",
    "    with torch.no_grad():  # Disable gradient computation\n",
    "        for batch in dev_dataloader:  # Use validation DataLoader\n",
    "            modalities, labels = batch\n",
    "            modality_1, modality_2 = modalities\n",
    "\n",
    "            # Forward pass\n",
    "            inputs = [modality_1, modality_2]\n",
    "            output = model(inputs)\n",
    "\n",
    "            # Reshape labels to match the output shape if necessary\n",
    "            labels = labels.view(output.shape)\n",
    "\n",
    "            # Compute loss\n",
    "            loss = criterion(output, labels)\n",
    "            loss = torch.sqrt(loss)\n",
    "\n",
    "            running_val_loss += loss.item()\n",
    "            #preds = torch.sigmoid(output) > 0.5\n",
    "            #all_dev_labels.extend(labels.cpu().numpy().flatten())\n",
    "            #all_dev_preds.extend(preds.cpu().numpy().flatten())\n",
    "\n",
    "    # Average validation loss for the epoch\n",
    "    val_loss = running_val_loss / len(dev_dataloader)\n",
    "    val_losses.append(val_loss)\n",
    "\n",
    "    # Check if this is the best model\n",
    "    if val_loss < best_val_loss:\n",
    "        best_val_loss = val_loss\n",
    "        torch.save(model.state_dict(), \"best_aud_text_model.pth\")  # Save best model\n",
    "\n",
    "    # Compute F1-score for training\n",
    "    #train_f1 = f1_score(all_train_labels, all_train_preds, average='weighted')\n",
    "    #dev_f1 = f1_score(all_dev_labels, all_dev_preds, average='weighted')\n",
    "\n",
    "    # Print epoch summary\n",
    "    #print(f\"Epoch [{epoch+1}/{num_epochs}], Train Loss: {train_loss:.4f}, Val Loss: {val_loss:.4f}, Train F1: {train_f1:.4f}, Val F1: {dev_f1:.4f}\")\n",
    "    print(f\"Epoch [{epoch+1}/{num_epochs}], Train Loss: {train_loss:.4f}, Val Loss: {val_loss:.4f}\")\n"
   ]
  },
  {
   "cell_type": "code",
   "execution_count": 15,
   "metadata": {},
   "outputs": [
    {
     "data": {
      "image/png": "[encoded data removed]",
      "text/plain": [
       "<Figure size 800x600 with 1 Axes>"
      ]
     },
     "metadata": {},
     "output_type": "display_data"
    }
   ],
   "source": [
    "# Plot training and validation losses\n",
    "plt.figure(figsize=(8, 6))\n",
    "plt.plot(train_losses, label=\"Training Loss\")\n",
    "plt.plot(val_losses, label=\"Validation Loss\")\n",
    "plt.xlabel(\"Epoch\")\n",
    "plt.ylabel(\"Loss\")\n",
    "plt.title(\"Training and Validation Loss\")\n",
    "plt.legend()\n",
    "plt.savefig(\"loss_plot.png\")  # Save the plot\n",
    "plt.show()"
   ]
  },
  {
   "cell_type": "code",
   "execution_count": 17,
   "metadata": {},
   "outputs": [
    {
     "name": "stdout",
     "output_type": "stream",
     "text": [
      "Predictions:\n",
      "[20.82246]\n"
     ]
    }
   ],
   "source": [
    "# Model prediction\n",
    "model.eval()  # Set model to evaluation mode\n",
    "\n",
    "predictions = []\n",
    "with torch.no_grad():  # Disable gradient computation\n",
    "    for batch in dev_dataloader:\n",
    "        modalities, _ = batch  # Ignore labels if unavailable\n",
    "        modality_1, modality_2 = modalities\n",
    "        \n",
    "        # Forward pass\n",
    "        inputs = [modality_1, modality_2]\n",
    "        output = model(inputs)  # Model's prediction\n",
    "        #predictions = torch.sigmoid(output)  # Apply sigmoid activation\n",
    "        #predicted_classes = (predictions > 0.5).int()  # Convert probabilities to binary predictions\n",
    "        #print(f\"Predicted Probabilities:\\n{predictions}\")\n",
    "        #print(f\"Predicted Classes:\\n{predicted_classes}\")\n",
    "        # Collect predictions\n",
    "        predictions.append(output)\n",
    "\n",
    "# Combine predictions into a single tensor\n",
    "#predictions = torch.cat(predicted_classes, dim=0)\n",
    "#y_pred = np.array(predictions)\n",
    "out = np.concatenate(predictions).ravel()\n",
    "\n",
    "print(f\"Predictions:\\n{np.unique(out)}\")"
   ]
  },
  {
   "attachments": {},
   "cell_type": "markdown",
   "metadata": {},
   "source": [
    "# Unbalanced LARGE MODEL"
   ]
  },
  {
   "cell_type": "code",
   "execution_count": 19,
   "metadata": {},
   "outputs": [
    {
     "name": "stdout",
     "output_type": "stream",
     "text": [
      "Modality 1 shape: torch.Size([10, 768, 1])\n",
      "Modality 2 shape: torch.Size([10, 768, 1])\n",
      "Labels shape: tensor([29., 32., 48., 72., 58., 36., 48., 46., 27., 24.])\n"
     ]
    }
   ],
   "source": [
    "train_loader = loaders.MultiModalityDataset(features_csv[features_csv[\"split\"]==\"train\"], \n",
    "                                            modalities = {\"audio\", \"text\"}, label = \"label\")\n",
    "train_dataloader = DataLoader(train_loader, batch_size=10, collate_fn=loaders.collate_fn)\n",
    "\n",
    "for batch in train_dataloader:\n",
    "    modalities, labels = batch\n",
    "    print(f\"Modality 1 shape: {modalities[0].shape}\")  # Expected shape: (batch_size, feature, 1)\n",
    "    print(f\"Modality 2 shape: {modalities[1].shape}\")\n",
    "    #print(f\"Modality 3 shape: {modalities[2].shape}\")\n",
    "    print(f\"Labels shape: {labels}\")\n",
    "    break"
   ]
  },
  {
   "cell_type": "code",
   "execution_count": 20,
   "metadata": {},
   "outputs": [],
   "source": [
    "dev_loader = loaders.MultiModalityDataset(features_csv[features_csv[\"split\"]==\"dev\"], \n",
    "                                            modalities = {\"audio\", \"text\"}, label = \"label\")\n",
    "dev_dataloader = DataLoader(train_loader, batch_size=10, collate_fn=loaders.collate_fn)"
   ]
  },
  {
   "cell_type": "code",
   "execution_count": 21,
   "metadata": {},
   "outputs": [],
   "source": [
    "# Define input dimensions for each modality\n",
    "input_dims = [768, 768]  # These are the feature dimensions for each modality\n",
    "\n",
    "# Initialize MultiModalPerceiver model\n",
    "model = m.SimpleMultiModalityModel(input_sizes=input_dims, hidden_size=1000, output_size=1)"
   ]
  },
  {
   "cell_type": "code",
   "execution_count": 22,
   "metadata": {},
   "outputs": [
    {
     "data": {
      "text/plain": [
       "3540001"
      ]
     },
     "execution_count": 22,
     "metadata": {},
     "output_type": "execute_result"
    }
   ],
   "source": [
    "sum(p.numel() for p in model.parameters() if p.requires_grad)"
   ]
  },
  {
   "cell_type": "code",
   "execution_count": 23,
   "metadata": {},
   "outputs": [
    {
     "data": {
      "text/plain": [
       "'\\nlabels_torch = torch.from_numpy(features_csv[features_csv[\"split\"]==\"train\"][\"label.1\"].values)\\n# Calculate class weights\\nclass_counts = torch.bincount(labels_torch)  # Get counts for each class\\nclass_weights = len(labels_torch) / (2.0 * class_counts)\\n\\n# Apply weights to loss function\\ncriterion = nn.BCEWithLogitsLoss(pos_weight=class_weights[1])  # Weight for positive class'"
      ]
     },
     "execution_count": 23,
     "metadata": {},
     "output_type": "execute_result"
    }
   ],
   "source": [
    "\"\"\"\n",
    "labels_torch = torch.from_numpy(features_csv[features_csv[\"split\"]==\"train\"][\"label.1\"].values)\n",
    "# Calculate class weights\n",
    "class_counts = torch.bincount(labels_torch)  # Get counts for each class\n",
    "class_weights = len(labels_torch) / (2.0 * class_counts)\n",
    "\n",
    "# Apply weights to loss function\n",
    "criterion = nn.BCEWithLogitsLoss(pos_weight=class_weights[1])  # Weight for positive class\"\"\""
   ]
  },
  {
   "cell_type": "code",
   "execution_count": 25,
   "metadata": {},
   "outputs": [],
   "source": [
    "learning_rate = 0.001\n",
    "num_epochs = 10\n",
    "mix_prob = 0\n",
    "alpha = 0.7\n",
    "# Define loss function and optimizer\n",
    "criterion = nn.MSELoss()  # Mean Squared Error for regression\n",
    "# loss function for binary classification\n",
    "#criterion = nn.BCEWithLogitsLoss()\n",
    "optimizer = optim.Adam(model.parameters(), lr=learning_rate)"
   ]
  },
  {
   "cell_type": "code",
   "execution_count": 29,
   "metadata": {},
   "outputs": [
    {
     "name": "stdout",
     "output_type": "stream",
     "text": [
      "best val loss  0 :  17.312126608455884\n",
      "Epoch [1/10], Train Loss: 18.5241, Val Loss: 17.3121\n",
      "Epoch [2/10], Train Loss: 18.4895, Val Loss: 17.3316\n",
      "best val loss  2 :  17.199425304637234\n",
      "Epoch [3/10], Train Loss: 18.4960, Val Loss: 17.1994\n",
      "best val loss  3 :  17.150218963623047\n",
      "Epoch [4/10], Train Loss: 18.3904, Val Loss: 17.1502\n",
      "best val loss  4 :  17.142191830803366\n",
      "Epoch [5/10], Train Loss: 18.3138, Val Loss: 17.1422\n",
      "best val loss  5 :  17.113280464621152\n",
      "Epoch [6/10], Train Loss: 18.2807, Val Loss: 17.1133\n",
      "Epoch [7/10], Train Loss: 18.2401, Val Loss: 17.1568\n",
      "best val loss  7 :  17.085153579711914\n",
      "Epoch [8/10], Train Loss: 18.2569, Val Loss: 17.0852\n",
      "Epoch [9/10], Train Loss: 18.1951, Val Loss: 17.0913\n",
      "best val loss  9 :  17.050873700310202\n",
      "Epoch [10/10], Train Loss: 18.1739, Val Loss: 17.0509\n"
     ]
    }
   ],
   "source": [
    "from sklearn.metrics import f1_score\n",
    "# Define variables to track losses\n",
    "train_losses = []\n",
    "val_losses = []\n",
    "best_val_loss = float('inf')  # Initialize best validation loss\n",
    "\n",
    "# Training loop\n",
    "for epoch in range(num_epochs):\n",
    "    model.train()\n",
    "\n",
    "    running_train_loss = 0.0\n",
    "    all_train_labels = []\n",
    "    all_train_preds = []\n",
    "    all_dev_labels = []\n",
    "    all_dev_preds = []\n",
    "\n",
    "    for batch in train_dataloader:\n",
    "        \n",
    "        # Unpack the batch\n",
    "        modalities, labels = batch\n",
    "        modality_1, modality_2 = modalities  # Each has shape (batch_size, feature, 1)\n",
    "\n",
    "        # Zero the parameter gradients for every batch!\n",
    "        optimizer.zero_grad()\n",
    "\n",
    "        # MixUp: randomly select a pair of samples and mix them\n",
    "        if random.random() < mix_prob:  # Apply MixUp with a probability of 50%\n",
    "            # Select a random index for mixing\n",
    "            index = torch.randperm(modality_1.shape[0]).to(modality_1.device)\n",
    "            \n",
    "            # Perform MixUp for each modality\n",
    "            modality_1, labels, lambda_value = mixup_data(modality_1, modality_1[index], labels, labels[index], alpha=alpha)\n",
    "            modality_2, _, _ = mixup_data(modality_2, modality_2[index], labels, labels[index], alpha=alpha)\n",
    "            #modality_3, _, _ = mixup_data(modality_3, modality_3[index], labels, labels[index], alpha=alpha)\n",
    "        \n",
    "\n",
    "        # Forward pass\n",
    "        inputs = [modality_1, modality_2]\n",
    "        output = model(inputs)\n",
    "\n",
    "        # Reshape labels to match the output shape if necessary\n",
    "        labels = labels.view(output.shape)  # Ensures labels has shape (batch_size, 1)\n",
    "\n",
    "        # Compute loss\n",
    "        loss = criterion(output, labels)\n",
    "        loss = torch.sqrt(loss)\n",
    "\n",
    "        # Backward pass and optimize\n",
    "        loss.backward()\n",
    "        optimizer.step()\n",
    "\n",
    "        # Accumulate loss\n",
    "        running_train_loss += loss.item()\n",
    "        # Convert logits to predictions\n",
    "        #preds = torch.sigmoid(output) > 0.5\n",
    "        #all_train_labels.extend(labels.cpu().numpy().flatten())\n",
    "        #all_train_preds.extend(preds.cpu().numpy().flatten())\n",
    "\n",
    "    # Average training loss for the epoch\n",
    "    train_loss = running_train_loss / len(train_dataloader)\n",
    "    train_losses.append(train_loss)\n",
    "\n",
    "    # Validation Phase\n",
    "    model.eval()  # Set model to evaluation mode\n",
    "    running_val_loss = 0.0\n",
    "\n",
    "    with torch.no_grad():  # Disable gradient computation\n",
    "        for batch in dev_dataloader:  # Use validation DataLoader\n",
    "            modalities, labels = batch\n",
    "            modality_1, modality_2 = modalities\n",
    "\n",
    "            # Forward pass\n",
    "            inputs = [modality_1, modality_2]\n",
    "            output = model(inputs)\n",
    "\n",
    "            # Reshape labels to match the output shape if necessary\n",
    "            labels = labels.view(output.shape)\n",
    "\n",
    "            # Compute loss\n",
    "            loss = criterion(output, labels)\n",
    "            loss = torch.sqrt(loss)\n",
    "\n",
    "            running_val_loss += loss.item()\n",
    "            #preds = torch.sigmoid(output) > 0.5\n",
    "            #all_dev_labels.extend(labels.cpu().numpy().flatten())\n",
    "            #all_dev_preds.extend(preds.cpu().numpy().flatten())\n",
    "\n",
    "    # Average validation loss for the epoch\n",
    "    val_loss = running_val_loss / len(dev_dataloader)\n",
    "    val_losses.append(val_loss)\n",
    "\n",
    "    # Check if this is the best model\n",
    "    if val_loss < best_val_loss:\n",
    "        best_val_loss = val_loss\n",
    "        print(\"best val loss \", epoch, \": \", best_val_loss)\n",
    "        #torch.save(model.state_dict(), \"best_aud_text_model.pth\")  # Save best model\n",
    "\n",
    "    # Compute F1-score for training\n",
    "    #train_f1 = f1_score(all_train_labels, all_train_preds, average='weighted')\n",
    "    #dev_f1 = f1_score(all_dev_labels, all_dev_preds, average='weighted')\n",
    "\n",
    "    # Print epoch summary\n",
    "    #print(f\"Epoch [{epoch+1}/{num_epochs}], Train Loss: {train_loss:.4f}, Val Loss: {val_loss:.4f}, Train F1: {train_f1:.4f}, Val F1: {dev_f1:.4f}\")\n",
    "    print(f\"Epoch [{epoch+1}/{num_epochs}], Train Loss: {train_loss:.4f}, Val Loss: {val_loss:.4f}\")\n"
   ]
  },
  {
   "cell_type": "code",
   "execution_count": 30,
   "metadata": {},
   "outputs": [
    {
     "name": "stdout",
     "output_type": "stream",
     "text": [
      "Predictions:\n",
      "[38.59332  38.59364  38.596455 38.597645 38.599033 38.60244  38.603867\n",
      " 38.61049  38.612144 38.614117 38.62067  38.620853 38.62226  38.622658\n",
      " 38.62568  38.62812  38.62937  38.629974 38.63143  38.631817 38.634766\n",
      " 38.637268 38.639225 38.639328 38.639763 38.64183  38.645046 38.64513\n",
      " 38.645203 38.64625  38.64888  38.649296 38.654987 38.655746 38.658264\n",
      " 38.65899  38.66166  38.66176  38.66928  38.671658 38.672386 38.672855\n",
      " 38.689327 38.690765 38.695312 38.69623  38.698708 38.699684 38.703465\n",
      " 38.706905 38.707874 38.710564 38.710693 38.711    38.713158 38.713577\n",
      " 38.716248 38.717304 38.718456 38.725304 38.732304 38.73274  38.733463\n",
      " 38.733963 38.734947 38.73866  38.73868  38.74126  38.742256 38.746117\n",
      " 38.74669  38.74898  38.759644 38.763393 38.765068 38.774696 38.77488\n",
      " 38.776333 38.77686  38.77963  38.783485 38.786243 38.789486 38.790684\n",
      " 38.793213 38.793236 38.794144 38.797512 38.800163 38.80163  38.8026\n",
      " 38.80539  38.807014 38.808376 38.80933  38.811775 38.82021  38.82391\n",
      " 38.82519  38.826153 38.82722  38.832314 38.8348   38.840374 38.84086\n",
      " 38.84318  38.848938 38.85042  38.85216  38.8538   38.855232 38.857742\n",
      " 38.860336 38.86119  38.865063 38.866116 38.867332 38.868946 38.87575\n",
      " 38.875977 38.876553 38.882458 38.891525 38.8958   38.896484 38.89781\n",
      " 38.89812  38.901802 38.90307  38.90649  38.91848  38.919758 38.944668\n",
      " 38.944828 38.94648  38.948296 38.949516 38.95823  38.96092  38.96339\n",
      " 38.96961  38.981464 38.991684 38.992    38.993313 38.99565  39.000477\n",
      " 39.00971  39.011818 39.023167 39.02844  39.049877 39.05038  39.070683\n",
      " 39.0929   39.117764 39.123894 39.127357 39.152187 39.158417 39.169353\n",
      " 39.172054 39.209236]\n"
     ]
    }
   ],
   "source": [
    "# Model prediction\n",
    "model.eval()  # Set model to evaluation mode\n",
    "\n",
    "predictions = []\n",
    "with torch.no_grad():  # Disable gradient computation\n",
    "    for batch in train_dataloader:\n",
    "        modalities, _ = batch  # Ignore labels if unavailable\n",
    "        modality_1, modality_2 = modalities\n",
    "        \n",
    "        # Forward pass\n",
    "        inputs = [modality_1, modality_2]\n",
    "        output = model(inputs)  # Model's prediction\n",
    "        #predicts = torch.sigmoid(output)  # Apply sigmoid activation\n",
    "        #predicted_classes = (predicts > 0.5).int()  # Convert probabilities to binary predictions\n",
    "        #print(f\"Predicted Probabilities:\\n{predictions}\")\n",
    "        #print(f\"Predicted Classes:\\n{predicted_classes}\")\n",
    "        # Collect predictions\n",
    "        predictions.append(output)\n",
    "        #predictions.append(predicted_classes)\n",
    "\n",
    "# Combine predictions into a single tensor\n",
    "#predictions = torch.cat(predicted_classes, dim=0)\n",
    "#y_pred = np.array(predictions)\n",
    "out = np.concatenate(predictions).ravel()\n",
    "\n",
    "print(f\"Predictions:\\n{np.unique(out)}\")"
   ]
  },
  {
   "cell_type": "code",
   "execution_count": 31,
   "metadata": {},
   "outputs": [
    {
     "data": {
      "image/png": "[encoded data removed]",
      "text/plain": [
       "<Figure size 800x600 with 1 Axes>"
      ]
     },
     "metadata": {},
     "output_type": "display_data"
    }
   ],
   "source": [
    "# Plot training and validation losses\n",
    "plt.figure(figsize=(8, 6))\n",
    "plt.plot(train_losses, label=\"Training Loss\")\n",
    "plt.plot(val_losses, label=\"Validation Loss\")\n",
    "plt.xlabel(\"Epoch\")\n",
    "plt.ylabel(\"Loss\")\n",
    "plt.title(\"Training and Validation Loss\")\n",
    "plt.legend()\n",
    "plt.savefig(\"loss_plot.png\")  # Save the plot\n",
    "plt.show()"
   ]
  },
  {
   "cell_type": "code",
   "execution_count": 42,
   "metadata": {},
   "outputs": [],
   "source": [
    "y_pred= out"
   ]
  },
  {
   "cell_type": "code",
   "execution_count": 44,
   "metadata": {},
   "outputs": [],
   "source": [
    "y_test = np.array(features_csv[features_csv[\"split\"]==\"train\"][\"label\"].values)"
   ]
  },
  {
   "cell_type": "code",
   "execution_count": 38,
   "metadata": {},
   "outputs": [
    {
     "data": {
      "text/plain": [
       "array(['female', 'male', 'unknown'], dtype=object)"
      ]
     },
     "execution_count": 38,
     "metadata": {},
     "output_type": "execute_result"
    }
   ],
   "source": [
    "np.unique(features_csv['gender'])"
   ]
  },
  {
   "cell_type": "code",
   "execution_count": 45,
   "metadata": {},
   "outputs": [],
   "source": [
    "features_csv['col_encoded'] = features_csv['gender'].map({'female': 0, 'male': 1, 'unknown':1})"
   ]
  },
  {
   "cell_type": "code",
   "execution_count": 46,
   "metadata": {},
   "outputs": [
    {
     "data": {
      "text/plain": [
       "array([0, 1])"
      ]
     },
     "execution_count": 46,
     "metadata": {},
     "output_type": "execute_result"
    }
   ],
   "source": [
    "np.unique(features_csv['col_encoded'])"
   ]
  },
  {
   "cell_type": "code",
   "execution_count": 47,
   "metadata": {},
   "outputs": [
    {
     "name": "stdout",
     "output_type": "stream",
     "text": [
      "Shape of gender_test: (163,)\n",
      "Shape of y_test: (163,)\n",
      "Shape of y_pred: (163,)\n"
     ]
    }
   ],
   "source": [
    "from fairlearn.metrics import demographic_parity_difference\n",
    "\n",
    "# Assuming `gender` corresponds to the original metadata\n",
    "# Split the dataset into training and testing sets for `gender`\n",
    "gender_train, gender_test = features_csv[features_csv[\"split\"]==\"train\"][\"col_encoded\"], features_csv[features_csv[\"split\"]==\"dev\"][\"col_encoded\"]\n",
    "\n",
    "# Ensure that `gender_test`, `y_test`, and `y_pred` are aligned\n",
    "print(f\"Shape of gender_test: {gender_train.shape}\")\n",
    "print(f\"Shape of y_test: {y_test.shape}\")\n",
    "print(f\"Shape of y_pred: {y_pred.shape}\")\n",
    "\n"
   ]
  },
  {
   "cell_type": "code",
   "execution_count": 50,
   "metadata": {},
   "outputs": [
    {
     "name": "stdout",
     "output_type": "stream",
     "text": [
      "Demographic Parity Difference: 0.0\n"
     ]
    }
   ],
   "source": [
    "# Calculate Demographic Parity Difference\n",
    "demographic_parity = demographic_parity_difference(\n",
    "    y_true=y_test,\n",
    "    y_pred=y_pred,\n",
    "    sensitive_features=gender_train\n",
    ")\n",
    "\n",
    "print(f\"Demographic Parity Difference: {demographic_parity}\")"
   ]
  },
  {
   "cell_type": "code",
   "execution_count": 51,
   "metadata": {},
   "outputs": [
    {
     "name": "stdout",
     "output_type": "stream",
     "text": [
      "Selection Rates by Group:\n",
      "col_encoded\n",
      "0    0.0\n",
      "1    0.0\n",
      "Name: selection_rate, dtype: float64\n"
     ]
    }
   ],
   "source": [
    "from fairlearn.metrics import MetricFrame, selection_rate\n",
    "metric_frame = MetricFrame(metrics=selection_rate, \n",
    "                           y_true=y_test, \n",
    "                           y_pred=y_pred, \n",
    "                           sensitive_features=gender_train)\n",
    "\n",
    "# Get selection rates for each group\n",
    "selection_rates = metric_frame.by_group\n",
    "print(\"Selection Rates by Group:\")\n",
    "print(selection_rates)\n"
   ]
  },
  {
   "cell_type": "code",
   "execution_count": 52,
   "metadata": {},
   "outputs": [],
   "source": [
    "group_a_rate = selection_rates[1]\n",
    "group_b_rate = selection_rates[0]\n",
    "\n",
    "if group_b_rate > 0:  # Avoid division by zero\n",
    "    demographic_parity_ratio = group_a_rate / group_b_rate\n",
    "    print(f\"Demographic Parity Ratio: {demographic_parity_ratio}\")"
   ]
  },
  {
   "attachments": {},
   "cell_type": "markdown",
   "metadata": {},
   "source": [
    "# Unbalanced simple MODEL with normalized target distribution"
   ]
  },
  {
   "cell_type": "code",
   "execution_count": 10,
   "metadata": {},
   "outputs": [],
   "source": [
    "# Apply normalization separately for each split\n",
    "from sklearn.preprocessing import MinMaxScaler\n",
    "features_csv = features_csv.dropna(subset=['label'])\n",
    "# Assuming your DataFrame is named df and the regression labels column is 'regression_label'\n",
    "scaler = MinMaxScaler()\n",
    "features_csv['normalized_label'] = features_csv.groupby('split')['label'].apply(lambda x: scaler.fit_transform(x.values.reshape(-1, 1)).flatten())\n"
   ]
  },
  {
   "cell_type": "code",
   "execution_count": 29,
   "metadata": {},
   "outputs": [
    {
     "name": "stdout",
     "output_type": "stream",
     "text": [
      "56\n",
      "(56, 8)\n",
      "54\n",
      "(54, 8)\n",
      "163\n",
      "(163, 8)\n"
     ]
    },
    {
     "name": "stderr",
     "output_type": "stream",
     "text": [
      "/scratch/955546/ipykernel_2728827/7279504.py:5: SettingWithCopyWarning: \n",
      "A value is trying to be set on a copy of a slice from a DataFrame.\n",
      "Try using .loc[row_indexer,col_indexer] = value instead\n",
      "\n",
      "See the caveats in the documentation: https://pandas.pydata.org/pandas-docs/stable/user_guide/indexing.html#returning-a-view-versus-a-copy\n",
      "  features_csv.loc[features_csv[\"split\"]==key][\"normalized_label\"] = x\n",
      "/scratch/955546/ipykernel_2728827/7279504.py:5: SettingWithCopyWarning: \n",
      "A value is trying to be set on a copy of a slice from a DataFrame.\n",
      "Try using .loc[row_indexer,col_indexer] = value instead\n",
      "\n",
      "See the caveats in the documentation: https://pandas.pydata.org/pandas-docs/stable/user_guide/indexing.html#returning-a-view-versus-a-copy\n",
      "  features_csv.loc[features_csv[\"split\"]==key][\"normalized_label\"] = x\n",
      "/scratch/955546/ipykernel_2728827/7279504.py:5: SettingWithCopyWarning: \n",
      "A value is trying to be set on a copy of a slice from a DataFrame.\n",
      "Try using .loc[row_indexer,col_indexer] = value instead\n",
      "\n",
      "See the caveats in the documentation: https://pandas.pydata.org/pandas-docs/stable/user_guide/indexing.html#returning-a-view-versus-a-copy\n",
      "  features_csv.loc[features_csv[\"split\"]==key][\"normalized_label\"] = x\n"
     ]
    }
   ],
   "source": [
    "for key, group in features_csv.groupby('split'):\n",
    "    x = scaler.fit_transform(group[\"label\"].values.reshape(-1, 1)).flatten()\n",
    "    features_csv.loc[features_csv[\"split\"]==key][\"normalized_label\"] = x"
   ]
  },
  {
   "cell_type": "code",
   "execution_count": 30,
   "metadata": {},
   "outputs": [
    {
     "data": {
      "text/html": [
       "<div>\n",
       "<style scoped>\n",
       "    .dataframe tbody tr th:only-of-type {\n",
       "        vertical-align: middle;\n",
       "    }\n",
       "\n",
       "    .dataframe tbody tr th {\n",
       "        vertical-align: top;\n",
       "    }\n",
       "\n",
       "    .dataframe thead th {\n",
       "        text-align: right;\n",
       "    }\n",
       "</style>\n",
       "<table border=\"1\" class=\"dataframe\">\n",
       "  <thead>\n",
       "    <tr style=\"text-align: right;\">\n",
       "      <th></th>\n",
       "      <th>split</th>\n",
       "      <th>label</th>\n",
       "      <th>label.1</th>\n",
       "      <th>gender</th>\n",
       "      <th>audio</th>\n",
       "      <th>text</th>\n",
       "      <th>visual</th>\n",
       "      <th>normalized_label</th>\n",
       "    </tr>\n",
       "  </thead>\n",
       "  <tbody>\n",
       "    <tr>\n",
       "      <th>0</th>\n",
       "      <td>dev</td>\n",
       "      <td>27.0</td>\n",
       "      <td>0</td>\n",
       "      <td>female</td>\n",
       "      <td>/home/hice1/mbibars3/scratch/vlm-debiasing/dat...</td>\n",
       "      <td>/home/hice1/mbibars3/scratch/vlm-debiasing/dat...</td>\n",
       "      <td>/home/hice1/mbibars3/scratch/vlm-debiasing/dat...</td>\n",
       "      <td>NaN</td>\n",
       "    </tr>\n",
       "    <tr>\n",
       "      <th>1</th>\n",
       "      <td>train</td>\n",
       "      <td>29.0</td>\n",
       "      <td>0</td>\n",
       "      <td>male</td>\n",
       "      <td>/home/hice1/mbibars3/scratch/vlm-debiasing/dat...</td>\n",
       "      <td>/home/hice1/mbibars3/scratch/vlm-debiasing/dat...</td>\n",
       "      <td>/home/hice1/mbibars3/scratch/vlm-debiasing/dat...</td>\n",
       "      <td>NaN</td>\n",
       "    </tr>\n",
       "    <tr>\n",
       "      <th>2</th>\n",
       "      <td>train</td>\n",
       "      <td>32.0</td>\n",
       "      <td>0</td>\n",
       "      <td>male</td>\n",
       "      <td>/home/hice1/mbibars3/scratch/vlm-debiasing/dat...</td>\n",
       "      <td>/home/hice1/mbibars3/scratch/vlm-debiasing/dat...</td>\n",
       "      <td>/home/hice1/mbibars3/scratch/vlm-debiasing/dat...</td>\n",
       "      <td>NaN</td>\n",
       "    </tr>\n",
       "    <tr>\n",
       "      <th>3</th>\n",
       "      <td>dev</td>\n",
       "      <td>26.0</td>\n",
       "      <td>0</td>\n",
       "      <td>male</td>\n",
       "      <td>/home/hice1/mbibars3/scratch/vlm-debiasing/dat...</td>\n",
       "      <td>/home/hice1/mbibars3/scratch/vlm-debiasing/dat...</td>\n",
       "      <td>/home/hice1/mbibars3/scratch/vlm-debiasing/dat...</td>\n",
       "      <td>NaN</td>\n",
       "    </tr>\n",
       "    <tr>\n",
       "      <th>4</th>\n",
       "      <td>test</td>\n",
       "      <td>26.0</td>\n",
       "      <td>0</td>\n",
       "      <td>male</td>\n",
       "      <td>/home/hice1/mbibars3/scratch/vlm-debiasing/dat...</td>\n",
       "      <td>/home/hice1/mbibars3/scratch/vlm-debiasing/dat...</td>\n",
       "      <td>/home/hice1/mbibars3/scratch/vlm-debiasing/dat...</td>\n",
       "      <td>NaN</td>\n",
       "    </tr>\n",
       "    <tr>\n",
       "      <th>...</th>\n",
       "      <td>...</td>\n",
       "      <td>...</td>\n",
       "      <td>...</td>\n",
       "      <td>...</td>\n",
       "      <td>...</td>\n",
       "      <td>...</td>\n",
       "      <td>...</td>\n",
       "      <td>...</td>\n",
       "    </tr>\n",
       "    <tr>\n",
       "      <th>270</th>\n",
       "      <td>train</td>\n",
       "      <td>18.0</td>\n",
       "      <td>0</td>\n",
       "      <td>male</td>\n",
       "      <td>/home/hice1/mbibars3/scratch/vlm-debiasing/dat...</td>\n",
       "      <td>/home/hice1/mbibars3/scratch/vlm-debiasing/dat...</td>\n",
       "      <td>/home/hice1/mbibars3/scratch/vlm-debiasing/dat...</td>\n",
       "      <td>NaN</td>\n",
       "    </tr>\n",
       "    <tr>\n",
       "      <th>271</th>\n",
       "      <td>test</td>\n",
       "      <td>67.0</td>\n",
       "      <td>0</td>\n",
       "      <td>female</td>\n",
       "      <td>/home/hice1/mbibars3/scratch/vlm-debiasing/dat...</td>\n",
       "      <td>/home/hice1/mbibars3/scratch/vlm-debiasing/dat...</td>\n",
       "      <td>/home/hice1/mbibars3/scratch/vlm-debiasing/dat...</td>\n",
       "      <td>NaN</td>\n",
       "    </tr>\n",
       "    <tr>\n",
       "      <th>272</th>\n",
       "      <td>test</td>\n",
       "      <td>58.0</td>\n",
       "      <td>0</td>\n",
       "      <td>male</td>\n",
       "      <td>/home/hice1/mbibars3/scratch/vlm-debiasing/dat...</td>\n",
       "      <td>/home/hice1/mbibars3/scratch/vlm-debiasing/dat...</td>\n",
       "      <td>/home/hice1/mbibars3/scratch/vlm-debiasing/dat...</td>\n",
       "      <td>NaN</td>\n",
       "    </tr>\n",
       "    <tr>\n",
       "      <th>273</th>\n",
       "      <td>test</td>\n",
       "      <td>44.0</td>\n",
       "      <td>0</td>\n",
       "      <td>female</td>\n",
       "      <td>/home/hice1/mbibars3/scratch/vlm-debiasing/dat...</td>\n",
       "      <td>/home/hice1/mbibars3/scratch/vlm-debiasing/dat...</td>\n",
       "      <td>/home/hice1/mbibars3/scratch/vlm-debiasing/dat...</td>\n",
       "      <td>NaN</td>\n",
       "    </tr>\n",
       "    <tr>\n",
       "      <th>274</th>\n",
       "      <td>train</td>\n",
       "      <td>23.0</td>\n",
       "      <td>0</td>\n",
       "      <td>female</td>\n",
       "      <td>/home/hice1/mbibars3/scratch/vlm-debiasing/dat...</td>\n",
       "      <td>/home/hice1/mbibars3/scratch/vlm-debiasing/dat...</td>\n",
       "      <td>/home/hice1/mbibars3/scratch/vlm-debiasing/dat...</td>\n",
       "      <td>NaN</td>\n",
       "    </tr>\n",
       "  </tbody>\n",
       "</table>\n",
       "<p>273 rows × 8 columns</p>\n",
       "</div>"
      ],
      "text/plain": [
       "     split  label  label.1  gender  \\\n",
       "0      dev   27.0        0  female   \n",
       "1    train   29.0        0    male   \n",
       "2    train   32.0        0    male   \n",
       "3      dev   26.0        0    male   \n",
       "4     test   26.0        0    male   \n",
       "..     ...    ...      ...     ...   \n",
       "270  train   18.0        0    male   \n",
       "271   test   67.0        0  female   \n",
       "272   test   58.0        0    male   \n",
       "273   test   44.0        0  female   \n",
       "274  train   23.0        0  female   \n",
       "\n",
       "                                                 audio  \\\n",
       "0    /home/hice1/mbibars3/scratch/vlm-debiasing/dat...   \n",
       "1    /home/hice1/mbibars3/scratch/vlm-debiasing/dat...   \n",
       "2    /home/hice1/mbibars3/scratch/vlm-debiasing/dat...   \n",
       "3    /home/hice1/mbibars3/scratch/vlm-debiasing/dat...   \n",
       "4    /home/hice1/mbibars3/scratch/vlm-debiasing/dat...   \n",
       "..                                                 ...   \n",
       "270  /home/hice1/mbibars3/scratch/vlm-debiasing/dat...   \n",
       "271  /home/hice1/mbibars3/scratch/vlm-debiasing/dat...   \n",
       "272  /home/hice1/mbibars3/scratch/vlm-debiasing/dat...   \n",
       "273  /home/hice1/mbibars3/scratch/vlm-debiasing/dat...   \n",
       "274  /home/hice1/mbibars3/scratch/vlm-debiasing/dat...   \n",
       "\n",
       "                                                  text  \\\n",
       "0    /home/hice1/mbibars3/scratch/vlm-debiasing/dat...   \n",
       "1    /home/hice1/mbibars3/scratch/vlm-debiasing/dat...   \n",
       "2    /home/hice1/mbibars3/scratch/vlm-debiasing/dat...   \n",
       "3    /home/hice1/mbibars3/scratch/vlm-debiasing/dat...   \n",
       "4    /home/hice1/mbibars3/scratch/vlm-debiasing/dat...   \n",
       "..                                                 ...   \n",
       "270  /home/hice1/mbibars3/scratch/vlm-debiasing/dat...   \n",
       "271  /home/hice1/mbibars3/scratch/vlm-debiasing/dat...   \n",
       "272  /home/hice1/mbibars3/scratch/vlm-debiasing/dat...   \n",
       "273  /home/hice1/mbibars3/scratch/vlm-debiasing/dat...   \n",
       "274  /home/hice1/mbibars3/scratch/vlm-debiasing/dat...   \n",
       "\n",
       "                                                visual normalized_label  \n",
       "0    /home/hice1/mbibars3/scratch/vlm-debiasing/dat...              NaN  \n",
       "1    /home/hice1/mbibars3/scratch/vlm-debiasing/dat...              NaN  \n",
       "2    /home/hice1/mbibars3/scratch/vlm-debiasing/dat...              NaN  \n",
       "3    /home/hice1/mbibars3/scratch/vlm-debiasing/dat...              NaN  \n",
       "4    /home/hice1/mbibars3/scratch/vlm-debiasing/dat...              NaN  \n",
       "..                                                 ...              ...  \n",
       "270  /home/hice1/mbibars3/scratch/vlm-debiasing/dat...              NaN  \n",
       "271  /home/hice1/mbibars3/scratch/vlm-debiasing/dat...              NaN  \n",
       "272  /home/hice1/mbibars3/scratch/vlm-debiasing/dat...              NaN  \n",
       "273  /home/hice1/mbibars3/scratch/vlm-debiasing/dat...              NaN  \n",
       "274  /home/hice1/mbibars3/scratch/vlm-debiasing/dat...              NaN  \n",
       "\n",
       "[273 rows x 8 columns]"
      ]
     },
     "execution_count": 30,
     "metadata": {},
     "output_type": "execute_result"
    }
   ],
   "source": [
    "features_csv"
   ]
  },
  {
   "cell_type": "code",
   "execution_count": 16,
   "metadata": {},
   "outputs": [
    {
     "name": "stdout",
     "output_type": "stream",
     "text": [
      "<class 'pandas.core.frame.DataFrame'>\n",
      "Index: 273 entries, 0 to 274\n",
      "Data columns (total 8 columns):\n",
      " #   Column            Non-Null Count  Dtype  \n",
      "---  ------            --------------  -----  \n",
      " 0   split             273 non-null    object \n",
      " 1   label             273 non-null    float64\n",
      " 2   label.1           273 non-null    int64  \n",
      " 3   gender            273 non-null    object \n",
      " 4   audio             273 non-null    object \n",
      " 5   text              273 non-null    object \n",
      " 6   visual            273 non-null    object \n",
      " 7   normalized_label  0 non-null      object \n",
      "dtypes: float64(1), int64(1), object(6)\n",
      "memory usage: 19.2+ KB\n"
     ]
    }
   ],
   "source": [
    "features_csv.info()"
   ]
  },
  {
   "cell_type": "code",
   "execution_count": 67,
   "metadata": {},
   "outputs": [
    {
     "name": "stdout",
     "output_type": "stream",
     "text": [
      "Modality 1 shape: torch.Size([10, 768, 1])\n",
      "Modality 2 shape: torch.Size([10, 768, 1])\n",
      "Labels shape: tensor([nan, nan, nan, nan, nan, nan, nan, nan, nan, nan])\n"
     ]
    }
   ],
   "source": [
    "train_loader = loaders.MultiModalityDataset(features_csv[features_csv[\"split\"]==\"train\"], \n",
    "                                            modalities = {\"audio\", \"text\"}, label = \"normalized_label\")\n",
    "train_dataloader = DataLoader(train_loader, batch_size=10, collate_fn=loaders.collate_fn)\n",
    "\n",
    "for batch in train_dataloader:\n",
    "    modalities, labels = batch\n",
    "    print(f\"Modality 1 shape: {modalities[0].shape}\")  # Expected shape: (batch_size, feature, 1)\n",
    "    print(f\"Modality 2 shape: {modalities[1].shape}\")\n",
    "    #print(f\"Modality 3 shape: {modalities[2].shape}\")\n",
    "    print(f\"Labels shape: {labels}\")\n",
    "    break"
   ]
  },
  {
   "cell_type": "code",
   "execution_count": null,
   "metadata": {},
   "outputs": [],
   "source": [
    "dev_loader = loaders.MultiModalityDataset(features_csv[features_csv[\"split\"]==\"dev\"], \n",
    "                                            modalities = {\"audio\", \"text\"}, label = \"label\")\n",
    "dev_dataloader = DataLoader(train_loader, batch_size=10, collate_fn=loaders.collate_fn)"
   ]
  },
  {
   "cell_type": "code",
   "execution_count": null,
   "metadata": {},
   "outputs": [],
   "source": [
    "# Define input dimensions for each modality\n",
    "input_dims = [768, 768]  # These are the feature dimensions for each modality\n",
    "\n",
    "# Initialize MultiModalPerceiver model\n",
    "model = m.SimpleMultiModalityModel(input_sizes=input_dims, hidden_size=1000, output_size=1)"
   ]
  },
  {
   "cell_type": "code",
   "execution_count": null,
   "metadata": {},
   "outputs": [
    {
     "data": {
      "text/plain": [
       "3540001"
      ]
     },
     "metadata": {},
     "output_type": "display_data"
    }
   ],
   "source": [
    "sum(p.numel() for p in model.parameters() if p.requires_grad)"
   ]
  },
  {
   "cell_type": "code",
   "execution_count": null,
   "metadata": {},
   "outputs": [
    {
     "data": {
      "text/plain": [
       "'\\nlabels_torch = torch.from_numpy(features_csv[features_csv[\"split\"]==\"train\"][\"label.1\"].values)\\n# Calculate class weights\\nclass_counts = torch.bincount(labels_torch)  # Get counts for each class\\nclass_weights = len(labels_torch) / (2.0 * class_counts)\\n\\n# Apply weights to loss function\\ncriterion = nn.BCEWithLogitsLoss(pos_weight=class_weights[1])  # Weight for positive class'"
      ]
     },
     "metadata": {},
     "output_type": "display_data"
    }
   ],
   "source": [
    "\"\"\"\n",
    "labels_torch = torch.from_numpy(features_csv[features_csv[\"split\"]==\"train\"][\"label.1\"].values)\n",
    "# Calculate class weights\n",
    "class_counts = torch.bincount(labels_torch)  # Get counts for each class\n",
    "class_weights = len(labels_torch) / (2.0 * class_counts)\n",
    "\n",
    "# Apply weights to loss function\n",
    "criterion = nn.BCEWithLogitsLoss(pos_weight=class_weights[1])  # Weight for positive class\"\"\""
   ]
  },
  {
   "cell_type": "code",
   "execution_count": null,
   "metadata": {},
   "outputs": [],
   "source": [
    "learning_rate = 0.001\n",
    "num_epochs = 10\n",
    "mix_prob = 0\n",
    "alpha = 0.7\n",
    "# Define loss function and optimizer\n",
    "criterion = nn.MSELoss()  # Mean Squared Error for regression\n",
    "# loss function for binary classification\n",
    "#criterion = nn.BCEWithLogitsLoss()\n",
    "optimizer = optim.Adam(model.parameters(), lr=learning_rate)"
   ]
  },
  {
   "cell_type": "code",
   "execution_count": null,
   "metadata": {},
   "outputs": [
    {
     "name": "stdout",
     "output_type": "stream",
     "text": [
      "best val loss  0 :  17.312126608455884\n",
      "Epoch [1/10], Train Loss: 18.5241, Val Loss: 17.3121\n",
      "Epoch [2/10], Train Loss: 18.4895, Val Loss: 17.3316\n",
      "best val loss  2 :  17.199425304637234\n",
      "Epoch [3/10], Train Loss: 18.4960, Val Loss: 17.1994\n",
      "best val loss  3 :  17.150218963623047\n",
      "Epoch [4/10], Train Loss: 18.3904, Val Loss: 17.1502\n",
      "best val loss  4 :  17.142191830803366\n",
      "Epoch [5/10], Train Loss: 18.3138, Val Loss: 17.1422\n",
      "best val loss  5 :  17.113280464621152\n",
      "Epoch [6/10], Train Loss: 18.2807, Val Loss: 17.1133\n",
      "Epoch [7/10], Train Loss: 18.2401, Val Loss: 17.1568\n",
      "best val loss  7 :  17.085153579711914\n",
      "Epoch [8/10], Train Loss: 18.2569, Val Loss: 17.0852\n",
      "Epoch [9/10], Train Loss: 18.1951, Val Loss: 17.0913\n",
      "best val loss  9 :  17.050873700310202\n",
      "Epoch [10/10], Train Loss: 18.1739, Val Loss: 17.0509\n"
     ]
    }
   ],
   "source": [
    "from sklearn.metrics import f1_score\n",
    "# Define variables to track losses\n",
    "train_losses = []\n",
    "val_losses = []\n",
    "best_val_loss = float('inf')  # Initialize best validation loss\n",
    "\n",
    "# Training loop\n",
    "for epoch in range(num_epochs):\n",
    "    model.train()\n",
    "\n",
    "    running_train_loss = 0.0\n",
    "    all_train_labels = []\n",
    "    all_train_preds = []\n",
    "    all_dev_labels = []\n",
    "    all_dev_preds = []\n",
    "\n",
    "    for batch in train_dataloader:\n",
    "        \n",
    "        # Unpack the batch\n",
    "        modalities, labels = batch\n",
    "        modality_1, modality_2 = modalities  # Each has shape (batch_size, feature, 1)\n",
    "\n",
    "        # Zero the parameter gradients for every batch!\n",
    "        optimizer.zero_grad()\n",
    "\n",
    "        # MixUp: randomly select a pair of samples and mix them\n",
    "        if random.random() < mix_prob:  # Apply MixUp with a probability of 50%\n",
    "            # Select a random index for mixing\n",
    "            index = torch.randperm(modality_1.shape[0]).to(modality_1.device)\n",
    "            \n",
    "            # Perform MixUp for each modality\n",
    "            modality_1, labels, lambda_value = mixup_data(modality_1, modality_1[index], labels, labels[index], alpha=alpha)\n",
    "            modality_2, _, _ = mixup_data(modality_2, modality_2[index], labels, labels[index], alpha=alpha)\n",
    "            #modality_3, _, _ = mixup_data(modality_3, modality_3[index], labels, labels[index], alpha=alpha)\n",
    "        \n",
    "\n",
    "        # Forward pass\n",
    "        inputs = [modality_1, modality_2]\n",
    "        output = model(inputs)\n",
    "\n",
    "        # Reshape labels to match the output shape if necessary\n",
    "        labels = labels.view(output.shape)  # Ensures labels has shape (batch_size, 1)\n",
    "\n",
    "        # Compute loss\n",
    "        loss = criterion(output, labels)\n",
    "        loss = torch.sqrt(loss)\n",
    "\n",
    "        # Backward pass and optimize\n",
    "        loss.backward()\n",
    "        optimizer.step()\n",
    "\n",
    "        # Accumulate loss\n",
    "        running_train_loss += loss.item()\n",
    "        # Convert logits to predictions\n",
    "        #preds = torch.sigmoid(output) > 0.5\n",
    "        #all_train_labels.extend(labels.cpu().numpy().flatten())\n",
    "        #all_train_preds.extend(preds.cpu().numpy().flatten())\n",
    "\n",
    "    # Average training loss for the epoch\n",
    "    train_loss = running_train_loss / len(train_dataloader)\n",
    "    train_losses.append(train_loss)\n",
    "\n",
    "    # Validation Phase\n",
    "    model.eval()  # Set model to evaluation mode\n",
    "    running_val_loss = 0.0\n",
    "\n",
    "    with torch.no_grad():  # Disable gradient computation\n",
    "        for batch in dev_dataloader:  # Use validation DataLoader\n",
    "            modalities, labels = batch\n",
    "            modality_1, modality_2 = modalities\n",
    "\n",
    "            # Forward pass\n",
    "            inputs = [modality_1, modality_2]\n",
    "            output = model(inputs)\n",
    "\n",
    "            # Reshape labels to match the output shape if necessary\n",
    "            labels = labels.view(output.shape)\n",
    "\n",
    "            # Compute loss\n",
    "            loss = criterion(output, labels)\n",
    "            loss = torch.sqrt(loss)\n",
    "\n",
    "            running_val_loss += loss.item()\n",
    "            #preds = torch.sigmoid(output) > 0.5\n",
    "            #all_dev_labels.extend(labels.cpu().numpy().flatten())\n",
    "            #all_dev_preds.extend(preds.cpu().numpy().flatten())\n",
    "\n",
    "    # Average validation loss for the epoch\n",
    "    val_loss = running_val_loss / len(dev_dataloader)\n",
    "    val_losses.append(val_loss)\n",
    "\n",
    "    # Check if this is the best model\n",
    "    if val_loss < best_val_loss:\n",
    "        best_val_loss = val_loss\n",
    "        print(\"best val loss \", epoch, \": \", best_val_loss)\n",
    "        #torch.save(model.state_dict(), \"best_aud_text_model.pth\")  # Save best model\n",
    "\n",
    "    # Compute F1-score for training\n",
    "    #train_f1 = f1_score(all_train_labels, all_train_preds, average='weighted')\n",
    "    #dev_f1 = f1_score(all_dev_labels, all_dev_preds, average='weighted')\n",
    "\n",
    "    # Print epoch summary\n",
    "    #print(f\"Epoch [{epoch+1}/{num_epochs}], Train Loss: {train_loss:.4f}, Val Loss: {val_loss:.4f}, Train F1: {train_f1:.4f}, Val F1: {dev_f1:.4f}\")\n",
    "    print(f\"Epoch [{epoch+1}/{num_epochs}], Train Loss: {train_loss:.4f}, Val Loss: {val_loss:.4f}\")\n"
   ]
  },
  {
   "cell_type": "code",
   "execution_count": null,
   "metadata": {},
   "outputs": [
    {
     "name": "stdout",
     "output_type": "stream",
     "text": [
      "Predictions:\n",
      "[38.59332  38.59364  38.596455 38.597645 38.599033 38.60244  38.603867\n",
      " 38.61049  38.612144 38.614117 38.62067  38.620853 38.62226  38.622658\n",
      " 38.62568  38.62812  38.62937  38.629974 38.63143  38.631817 38.634766\n",
      " 38.637268 38.639225 38.639328 38.639763 38.64183  38.645046 38.64513\n",
      " 38.645203 38.64625  38.64888  38.649296 38.654987 38.655746 38.658264\n",
      " 38.65899  38.66166  38.66176  38.66928  38.671658 38.672386 38.672855\n",
      " 38.689327 38.690765 38.695312 38.69623  38.698708 38.699684 38.703465\n",
      " 38.706905 38.707874 38.710564 38.710693 38.711    38.713158 38.713577\n",
      " 38.716248 38.717304 38.718456 38.725304 38.732304 38.73274  38.733463\n",
      " 38.733963 38.734947 38.73866  38.73868  38.74126  38.742256 38.746117\n",
      " 38.74669  38.74898  38.759644 38.763393 38.765068 38.774696 38.77488\n",
      " 38.776333 38.77686  38.77963  38.783485 38.786243 38.789486 38.790684\n",
      " 38.793213 38.793236 38.794144 38.797512 38.800163 38.80163  38.8026\n",
      " 38.80539  38.807014 38.808376 38.80933  38.811775 38.82021  38.82391\n",
      " 38.82519  38.826153 38.82722  38.832314 38.8348   38.840374 38.84086\n",
      " 38.84318  38.848938 38.85042  38.85216  38.8538   38.855232 38.857742\n",
      " 38.860336 38.86119  38.865063 38.866116 38.867332 38.868946 38.87575\n",
      " 38.875977 38.876553 38.882458 38.891525 38.8958   38.896484 38.89781\n",
      " 38.89812  38.901802 38.90307  38.90649  38.91848  38.919758 38.944668\n",
      " 38.944828 38.94648  38.948296 38.949516 38.95823  38.96092  38.96339\n",
      " 38.96961  38.981464 38.991684 38.992    38.993313 38.99565  39.000477\n",
      " 39.00971  39.011818 39.023167 39.02844  39.049877 39.05038  39.070683\n",
      " 39.0929   39.117764 39.123894 39.127357 39.152187 39.158417 39.169353\n",
      " 39.172054 39.209236]\n"
     ]
    }
   ],
   "source": [
    "# Model prediction\n",
    "model.eval()  # Set model to evaluation mode\n",
    "\n",
    "predictions = []\n",
    "with torch.no_grad():  # Disable gradient computation\n",
    "    for batch in train_dataloader:\n",
    "        modalities, _ = batch  # Ignore labels if unavailable\n",
    "        modality_1, modality_2 = modalities\n",
    "        \n",
    "        # Forward pass\n",
    "        inputs = [modality_1, modality_2]\n",
    "        output = model(inputs)  # Model's prediction\n",
    "        #predicts = torch.sigmoid(output)  # Apply sigmoid activation\n",
    "        #predicted_classes = (predicts > 0.5).int()  # Convert probabilities to binary predictions\n",
    "        #print(f\"Predicted Probabilities:\\n{predictions}\")\n",
    "        #print(f\"Predicted Classes:\\n{predicted_classes}\")\n",
    "        # Collect predictions\n",
    "        predictions.append(output)\n",
    "        #predictions.append(predicted_classes)\n",
    "\n",
    "# Combine predictions into a single tensor\n",
    "#predictions = torch.cat(predicted_classes, dim=0)\n",
    "#y_pred = np.array(predictions)\n",
    "out = np.concatenate(predictions).ravel()\n",
    "\n",
    "print(f\"Predictions:\\n{np.unique(out)}\")"
   ]
  },
  {
   "cell_type": "code",
   "execution_count": null,
   "metadata": {},
   "outputs": [
    {
     "data": {
      "image/png": "[encoded data removed]",
      "text/plain": [
       "<Figure size 800x600 with 1 Axes>"
      ]
     },
     "metadata": {},
     "output_type": "display_data"
    }
   ],
   "source": [
    "# Plot training and validation losses\n",
    "plt.figure(figsize=(8, 6))\n",
    "plt.plot(train_losses, label=\"Training Loss\")\n",
    "plt.plot(val_losses, label=\"Validation Loss\")\n",
    "plt.xlabel(\"Epoch\")\n",
    "plt.ylabel(\"Loss\")\n",
    "plt.title(\"Training and Validation Loss\")\n",
    "plt.legend()\n",
    "plt.savefig(\"loss_plot.png\")  # Save the plot\n",
    "plt.show()"
   ]
  },
  {
   "cell_type": "code",
   "execution_count": null,
   "metadata": {},
   "outputs": [],
   "source": [
    "y_pred= out"
   ]
  },
  {
   "cell_type": "code",
   "execution_count": null,
   "metadata": {},
   "outputs": [],
   "source": [
    "y_test = np.array(features_csv[features_csv[\"split\"]==\"train\"][\"label\"].values)"
   ]
  },
  {
   "cell_type": "code",
   "execution_count": null,
   "metadata": {},
   "outputs": [
    {
     "data": {
      "text/plain": [
       "array(['female', 'male', 'unknown'], dtype=object)"
      ]
     },
     "metadata": {},
     "output_type": "display_data"
    }
   ],
   "source": [
    "np.unique(features_csv['gender'])"
   ]
  },
  {
   "cell_type": "code",
   "execution_count": null,
   "metadata": {},
   "outputs": [],
   "source": [
    "features_csv['col_encoded'] = features_csv['gender'].map({'female': 0, 'male': 1, 'unknown':1})"
   ]
  },
  {
   "cell_type": "code",
   "execution_count": null,
   "metadata": {},
   "outputs": [
    {
     "data": {
      "text/plain": [
       "array([0, 1])"
      ]
     },
     "metadata": {},
     "output_type": "display_data"
    }
   ],
   "source": [
    "np.unique(features_csv['col_encoded'])"
   ]
  },
  {
   "cell_type": "code",
   "execution_count": null,
   "metadata": {},
   "outputs": [
    {
     "name": "stdout",
     "output_type": "stream",
     "text": [
      "Shape of gender_test: (163,)\n",
      "Shape of y_test: (163,)\n",
      "Shape of y_pred: (163,)\n"
     ]
    }
   ],
   "source": [
    "from fairlearn.metrics import demographic_parity_difference\n",
    "\n",
    "# Assuming `gender` corresponds to the original metadata\n",
    "# Split the dataset into training and testing sets for `gender`\n",
    "gender_train, gender_test = features_csv[features_csv[\"split\"]==\"train\"][\"col_encoded\"], features_csv[features_csv[\"split\"]==\"dev\"][\"col_encoded\"]\n",
    "\n",
    "# Ensure that `gender_test`, `y_test`, and `y_pred` are aligned\n",
    "print(f\"Shape of gender_test: {gender_train.shape}\")\n",
    "print(f\"Shape of y_test: {y_test.shape}\")\n",
    "print(f\"Shape of y_pred: {y_pred.shape}\")\n",
    "\n"
   ]
  },
  {
   "cell_type": "code",
   "execution_count": null,
   "metadata": {},
   "outputs": [
    {
     "name": "stdout",
     "output_type": "stream",
     "text": [
      "Demographic Parity Difference: 0.0\n"
     ]
    }
   ],
   "source": [
    "# Calculate Demographic Parity Difference\n",
    "demographic_parity = demographic_parity_difference(\n",
    "    y_true=y_test,\n",
    "    y_pred=y_pred,\n",
    "    sensitive_features=gender_train\n",
    ")\n",
    "\n",
    "print(f\"Demographic Parity Difference: {demographic_parity}\")"
   ]
  },
  {
   "cell_type": "code",
   "execution_count": null,
   "metadata": {},
   "outputs": [
    {
     "name": "stdout",
     "output_type": "stream",
     "text": [
      "Selection Rates by Group:\n",
      "col_encoded\n",
      "0    0.0\n",
      "1    0.0\n",
      "Name: selection_rate, dtype: float64\n"
     ]
    }
   ],
   "source": [
    "from fairlearn.metrics import MetricFrame, selection_rate\n",
    "metric_frame = MetricFrame(metrics=selection_rate, \n",
    "                           y_true=y_test, \n",
    "                           y_pred=y_pred, \n",
    "                           sensitive_features=gender_train)\n",
    "\n",
    "# Get selection rates for each group\n",
    "selection_rates = metric_frame.by_group\n",
    "print(\"Selection Rates by Group:\")\n",
    "print(selection_rates)\n"
   ]
  },
  {
   "cell_type": "code",
   "execution_count": null,
   "metadata": {},
   "outputs": [],
   "source": [
    "group_a_rate = selection_rates[1]\n",
    "group_b_rate = selection_rates[0]\n",
    "\n",
    "if group_b_rate > 0:  # Avoid division by zero\n",
    "    demographic_parity_ratio = group_a_rate / group_b_rate\n",
    "    print(f\"Demographic Parity Ratio: {demographic_parity_ratio}\")"
   ]
  },
  {
   "attachments": {},
   "cell_type": "markdown",
   "metadata": {},
   "source": [
    "# balanced subset"
   ]
  },
  {
   "cell_type": "code",
   "execution_count": 20,
   "metadata": {},
   "outputs": [],
   "source": [
    "# Filter rows that belong to the \"train\" split\n",
    "features_csv = pd.read_csv(\"/home/hice1/mbibars3/scratch/vlm-debiasing/data/e-daic/norm_avt.csv\")\n",
    "train_df = features_csv[features_csv['split'] == 'train']\n",
    "# Select a balanced subset based on 'label.1'\n",
    "min_class_size = train_df['label.1'].value_counts().min()\n",
    "\n",
    "# Sample an equal number of rows from each class\n",
    "balanced_df = train_df.groupby('label.1').sample(n=min_class_size, random_state=42).reset_index(drop=True)\n"
   ]
  },
  {
   "cell_type": "code",
   "execution_count": 21,
   "metadata": {},
   "outputs": [],
   "source": [
    "balanced_df=balanced_df.sample(frac=1, random_state=42).reset_index(drop=True)"
   ]
  },
  {
   "cell_type": "code",
   "execution_count": 22,
   "metadata": {},
   "outputs": [
    {
     "name": "stdout",
     "output_type": "stream",
     "text": [
      "Modality 1 shape: torch.Size([64, 768, 1])\n",
      "Modality 2 shape: torch.Size([64, 768, 1])\n",
      "Labels shape: tensor([1., 0., 1., 0., 1., 1., 1., 0., 0., 0., 0., 1., 0., 0., 0., 0., 0., 0.,\n",
      "        1., 1., 1., 1., 1., 0., 0., 0., 0., 1., 0., 1., 1., 0., 0., 1., 0., 0.,\n",
      "        1., 0., 0., 1., 0., 0., 1., 0., 0., 1., 0., 1., 0., 0., 0., 0., 0., 0.,\n",
      "        1., 0., 1., 0., 1., 1., 1., 1., 0., 1.])\n"
     ]
    }
   ],
   "source": [
    "train_loader = loaders.MultiModalityDataset(balanced_df[balanced_df[\"split\"]==\"train\"], \n",
    "                                            modalities = {\"audio\", \"text\"}, label = \"label.1\")\n",
    "train_dataloader = DataLoader(train_loader, batch_size=64, collate_fn=loaders.collate_fn)\n",
    "\n",
    "for batch in train_dataloader:\n",
    "    modalities, labels = batch\n",
    "    print(f\"Modality 1 shape: {modalities[0].shape}\")  # Expected shape: (batch_size, feature, 1)\n",
    "    print(f\"Modality 2 shape: {modalities[1].shape}\")\n",
    "    #print(f\"Modality 3 shape: {modalities[2].shape}\")\n",
    "    print(f\"Labels shape: {labels}\")\n",
    "    break"
   ]
  },
  {
   "cell_type": "code",
   "execution_count": 23,
   "metadata": {},
   "outputs": [],
   "source": [
    "dev_loader = loaders.MultiModalityDataset(features_csv[features_csv[\"split\"]==\"dev\"], \n",
    "                                            modalities = {\"audio\", \"text\"}, label = \"label.1\")\n",
    "dev_dataloader = DataLoader(train_loader, batch_size=16, collate_fn=loaders.collate_fn)"
   ]
  },
  {
   "cell_type": "code",
   "execution_count": 24,
   "metadata": {},
   "outputs": [],
   "source": [
    "# Define input dimensions for each modality\n",
    "input_dims = [768, 768]  # These are the feature dimensions for each modality\n",
    "\n",
    "# Initialize MultiModalPerceiver model\n",
    "model = m.MultiModalPerceiver(\n",
    "    input_dims=input_dims,\n",
    "    input_channels=1,\n",
    "    input_axis=1,\n",
    "    projection_dim=256,\n",
    "    num_latents=16,\n",
    "    latent_dim=128,\n",
    "    depth=8,\n",
    "    cross_heads=8,\n",
    "    latent_heads=8,\n",
    "    cross_dim_head=32,\n",
    "    latent_dim_head=32,\n",
    "    attn_dropout=0.5,\n",
    "    ff_dropout=0.5,\n",
    "    output_dim=1,\n",
    "    weight_tie_layers=True,\n",
    "    fourier_encode_data=False,\n",
    "    max_freq=10,\n",
    "    num_freq_bands=4\n",
    ")"
   ]
  },
  {
   "cell_type": "code",
   "execution_count": 25,
   "metadata": {},
   "outputs": [
    {
     "name": "stdout",
     "output_type": "stream",
     "text": [
      "SimpleMultiModalityModel(\n",
      "  (modality_fc): ModuleList(\n",
      "    (0-1): 2 x Sequential(\n",
      "      (0): Linear(in_features=768, out_features=128, bias=True)\n",
      "      (1): ReLU()\n",
      "    )\n",
      "  )\n",
      "  (combined_fc): Sequential(\n",
      "    (0): Linear(in_features=256, out_features=128, bias=True)\n",
      "    (1): ReLU()\n",
      "    (2): Linear(in_features=128, out_features=1, bias=True)\n",
      "  )\n",
      ")\n"
     ]
    }
   ],
   "source": [
    "simple_model = m.SimpleMultiModalityModel(input_dims, hidden_size=128, output_size=1)\n",
    "\n",
    "# Print model summary\n",
    "print(simple_model)"
   ]
  },
  {
   "cell_type": "code",
   "execution_count": 26,
   "metadata": {},
   "outputs": [
    {
     "data": {
      "text/plain": [
       "229889"
      ]
     },
     "execution_count": 26,
     "metadata": {},
     "output_type": "execute_result"
    }
   ],
   "source": [
    "sum(p.numel() for p in simple_model.parameters() if p.requires_grad)"
   ]
  },
  {
   "cell_type": "code",
   "execution_count": 27,
   "metadata": {},
   "outputs": [],
   "source": [
    "labels_torch = torch.from_numpy(balanced_df[balanced_df[\"split\"]==\"train\"][\"label.1\"].values)"
   ]
  },
  {
   "cell_type": "code",
   "execution_count": 28,
   "metadata": {},
   "outputs": [],
   "source": [
    "# Calculate class weights\n",
    "class_counts = torch.bincount(labels_torch)  # Get counts for each class\n",
    "class_weights = len(labels_torch) / (2.0 * class_counts)\n",
    "\n",
    "# Apply weights to loss function\n",
    "criterion = nn.BCEWithLogitsLoss(pos_weight=class_weights[1])  # Weight for positive class\n"
   ]
  },
  {
   "cell_type": "code",
   "execution_count": 29,
   "metadata": {},
   "outputs": [
    {
     "data": {
      "text/plain": [
       "tensor([1., 1.])"
      ]
     },
     "execution_count": 29,
     "metadata": {},
     "output_type": "execute_result"
    }
   ],
   "source": [
    "class_weights"
   ]
  },
  {
   "cell_type": "code",
   "execution_count": 30,
   "metadata": {},
   "outputs": [],
   "source": [
    "learning_rate = 0.001\n",
    "num_epochs = 10\n",
    "# Define loss function and optimizer\n",
    "#criterion = nn.MSELoss()  # Mean Squared Error for regression\n",
    "# loss function for binary classification\n",
    "#criterion = nn.BCEWithLogitsLoss()\n",
    "optimizer = optim.Adam(simple_model.parameters(), lr=learning_rate)"
   ]
  },
  {
   "cell_type": "code",
   "execution_count": 31,
   "metadata": {},
   "outputs": [
    {
     "name": "stdout",
     "output_type": "stream",
     "text": [
      "Epoch [1/10], Train Loss: 0.7176, Val Loss: 0.6975, Train F1: 0.3835, Val F1: 0.3333\n",
      "Epoch [2/10], Train Loss: 0.6922, Val Loss: 0.6877, Train F1: 0.3333, Val F1: 0.3333\n",
      "Epoch [3/10], Train Loss: 0.6895, Val Loss: 0.6857, Train F1: 0.3333, Val F1: 0.3333\n",
      "Epoch [4/10], Train Loss: 0.6913, Val Loss: 0.6854, Train F1: 0.3333, Val F1: 0.3333\n",
      "Epoch [5/10], Train Loss: 0.6923, Val Loss: 0.6854, Train F1: 0.3333, Val F1: 0.3333\n",
      "Epoch [6/10], Train Loss: 0.6926, Val Loss: 0.6856, Train F1: 0.3333, Val F1: 0.3333\n",
      "Epoch [7/10], Train Loss: 0.6924, Val Loss: 0.6859, Train F1: 0.3333, Val F1: 0.3333\n",
      "Epoch [8/10], Train Loss: 0.6921, Val Loss: 0.6863, Train F1: 0.3333, Val F1: 0.3333\n",
      "Epoch [9/10], Train Loss: 0.6918, Val Loss: 0.6868, Train F1: 0.3333, Val F1: 0.3333\n",
      "Epoch [10/10], Train Loss: 0.6916, Val Loss: 0.6871, Train F1: 0.3333, Val F1: 0.3333\n"
     ]
    }
   ],
   "source": [
    "from sklearn.metrics import f1_score\n",
    "# Define variables to track losses\n",
    "train_losses = []\n",
    "val_losses = []\n",
    "best_val_loss = float('inf')  # Initialize best validation loss\n",
    "\n",
    "# Training loop\n",
    "for epoch in range(num_epochs):\n",
    "    running_train_loss = 0.0\n",
    "    all_train_labels = []\n",
    "    all_train_preds = []\n",
    "    all_dev_labels = []\n",
    "    all_dev_preds = []\n",
    "\n",
    "    for batch in train_dataloader:\n",
    "        \n",
    "        # Unpack the batch\n",
    "        modalities, labels = batch\n",
    "        modality_1, modality_2 = modalities  # Each has shape (batch_size, feature, 1)\n",
    "\n",
    "        # Zero the parameter gradients\n",
    "        optimizer.zero_grad()\n",
    "\n",
    "        # Forward pass\n",
    "        inputs = [modality_1, modality_2]\n",
    "        output = simple_model(inputs)\n",
    "\n",
    "        #print(output, labels)\n",
    "        # Reshape labels to match the output shape if necessary\n",
    "        labels = labels.view(output.shape)  # Ensures labels has shape (batch_size, 1)\n",
    "\n",
    "        # Compute loss\n",
    "        loss = criterion(output, labels)\n",
    "        #RMSE_loss = torch.sqrt(loss)\n",
    "\n",
    "        # Backward pass and optimize\n",
    "        loss.backward()\n",
    "        optimizer.step()\n",
    "\n",
    "        # Accumulate loss\n",
    "        running_train_loss += loss.item()\n",
    "        # Convert logits to predictions\n",
    "        preds = torch.sigmoid(output) > 0.5\n",
    "        all_train_labels.extend(labels.cpu().numpy().flatten())\n",
    "        all_train_preds.extend(preds.cpu().numpy().flatten())\n",
    "\n",
    "    # Average training loss for the epoch\n",
    "    train_loss = running_train_loss / len(train_dataloader)\n",
    "    train_losses.append(train_loss)\n",
    "\n",
    "    # Validation Phase\n",
    "    model.eval()  # Set model to evaluation mode\n",
    "    running_val_loss = 0.0\n",
    "\n",
    "    with torch.no_grad():  # Disable gradient computation\n",
    "        for batch in dev_dataloader:  # Use validation DataLoader\n",
    "            modalities, labels = batch\n",
    "            modality_1, modality_2 = modalities\n",
    "\n",
    "            # Forward pass\n",
    "            inputs = [modality_1, modality_2]\n",
    "            output = simple_model(inputs)\n",
    "\n",
    "            # Reshape labels to match the output shape if necessary\n",
    "            labels = labels.view(output.shape)\n",
    "\n",
    "            # Compute loss\n",
    "            loss = criterion(output, labels)\n",
    "            #RMSE_loss = torch.sqrt(loss)\n",
    "\n",
    "            running_val_loss += loss.item()\n",
    "            preds = torch.sigmoid(output) > 0.5\n",
    "            all_dev_labels.extend(labels.cpu().numpy().flatten())\n",
    "            all_dev_preds.extend(preds.cpu().numpy().flatten())\n",
    "\n",
    "    # Average validation loss for the epoch\n",
    "    val_loss = running_val_loss / len(dev_dataloader)\n",
    "    val_losses.append(val_loss)\n",
    "\n",
    "    # Check if this is the best model\n",
    "    if val_loss < best_val_loss:\n",
    "        best_val_loss = val_loss\n",
    "        torch.save(model.state_dict(), \"best_aud_text_model.pth\")  # Save best model\n",
    "\n",
    "    # Compute F1-score for training\n",
    "    train_f1 = f1_score(all_train_labels, all_train_preds, average='weighted')\n",
    "    dev_f1 = f1_score(all_dev_labels, all_dev_preds, average='weighted')\n",
    "\n",
    "    # Print epoch summary\n",
    "    print(f\"Epoch [{epoch+1}/{num_epochs}], Train Loss: {train_loss:.4f}, Val Loss: {val_loss:.4f}, Train F1: {train_f1:.4f}, Val F1: {dev_f1:.4f}\")\n"
   ]
  },
  {
   "cell_type": "code",
   "execution_count": 32,
   "metadata": {},
   "outputs": [
    {
     "data": {
      "image/png": "[encoded data removed]",
      "text/plain": [
       "<Figure size 800x600 with 1 Axes>"
      ]
     },
     "metadata": {},
     "output_type": "display_data"
    }
   ],
   "source": [
    "# Plot training and validation losses\n",
    "plt.figure(figsize=(8, 6))\n",
    "plt.plot(train_losses, label=\"Training Loss\")\n",
    "plt.plot(val_losses, label=\"Validation Loss\")\n",
    "plt.xlabel(\"Epoch\")\n",
    "plt.ylabel(\"Loss\")\n",
    "plt.title(\"Training and Validation Loss\")\n",
    "plt.legend()\n",
    "plt.savefig(\"loss_plot.png\")  # Save the plot\n",
    "plt.show()"
   ]
  },
  {
   "cell_type": "code",
   "execution_count": 33,
   "metadata": {},
   "outputs": [
    {
     "name": "stdout",
     "output_type": "stream",
     "text": [
      "Predicted Classes:\n",
      "tensor([[1],\n",
      "        [1],\n",
      "        [1],\n",
      "        [1],\n",
      "        [1],\n",
      "        [1],\n",
      "        [1],\n",
      "        [1],\n",
      "        [1],\n",
      "        [1],\n",
      "        [1],\n",
      "        [1],\n",
      "        [1],\n",
      "        [1],\n",
      "        [1],\n",
      "        [1]], dtype=torch.int32)\n",
      "Predicted Classes:\n",
      "tensor([[1],\n",
      "        [1],\n",
      "        [1],\n",
      "        [1],\n",
      "        [1],\n",
      "        [1],\n",
      "        [1],\n",
      "        [1],\n",
      "        [1],\n",
      "        [1],\n",
      "        [1],\n",
      "        [1],\n",
      "        [1],\n",
      "        [1],\n",
      "        [1],\n",
      "        [1]], dtype=torch.int32)\n",
      "Predicted Classes:\n",
      "tensor([[1],\n",
      "        [1],\n",
      "        [1],\n",
      "        [1],\n",
      "        [1],\n",
      "        [1],\n",
      "        [1],\n",
      "        [1],\n",
      "        [1],\n",
      "        [1],\n",
      "        [1],\n",
      "        [1],\n",
      "        [1],\n",
      "        [1],\n",
      "        [1],\n",
      "        [1]], dtype=torch.int32)\n",
      "Predicted Classes:\n",
      "tensor([[1],\n",
      "        [1],\n",
      "        [1],\n",
      "        [1],\n",
      "        [1],\n",
      "        [1],\n",
      "        [1],\n",
      "        [1],\n",
      "        [1],\n",
      "        [1],\n",
      "        [1],\n",
      "        [1],\n",
      "        [1],\n",
      "        [1],\n",
      "        [1],\n",
      "        [1]], dtype=torch.int32)\n",
      "Predicted Classes:\n",
      "tensor([[1],\n",
      "        [1],\n",
      "        [1],\n",
      "        [1],\n",
      "        [1],\n",
      "        [1],\n",
      "        [1],\n",
      "        [1],\n",
      "        [1],\n",
      "        [1],\n",
      "        [1],\n",
      "        [1],\n",
      "        [1],\n",
      "        [1],\n",
      "        [1],\n",
      "        [1]], dtype=torch.int32)\n",
      "Predicted Classes:\n",
      "tensor([[1],\n",
      "        [1],\n",
      "        [1],\n",
      "        [1],\n",
      "        [1],\n",
      "        [1],\n",
      "        [1],\n",
      "        [1],\n",
      "        [1],\n",
      "        [1],\n",
      "        [1],\n",
      "        [1],\n",
      "        [1],\n",
      "        [1],\n",
      "        [1],\n",
      "        [1]], dtype=torch.int32)\n",
      "Predicted Classes:\n",
      "tensor([[1],\n",
      "        [1]], dtype=torch.int32)\n"
     ]
    }
   ],
   "source": [
    "# Model prediction\n",
    "simple_model.eval()  # Set model to evaluation mode\n",
    "\n",
    "predictions = []\n",
    "with torch.no_grad():  # Disable gradient computation\n",
    "    for batch in dev_dataloader:\n",
    "        modalities, _ = batch  # Ignore labels if unavailable\n",
    "        modality_1, modality_2 = modalities\n",
    "        \n",
    "        # Forward pass\n",
    "        inputs = [modality_1, modality_2]\n",
    "        output = simple_model(inputs)  # Model's prediction\n",
    "        predictions = torch.sigmoid(output)  # Apply sigmoid activation\n",
    "        predicted_classes = (predictions > 0.5).int()  # Convert probabilities to binary predictions\n",
    "        #print(f\"Predicted Probabilities:\\n{predictions}\")\n",
    "        print(f\"Predicted Classes:\\n{predicted_classes}\")\n",
    "        # Collect predictions\n",
    "        #predictions.append(output)\n",
    "\n",
    "# Combine predictions into a single tensor\n",
    "#predictions = torch.cat(predicted_classes, dim=0)\n",
    "#y_pred = np.array(predictions)\n",
    "#print(f\"Predictions:\\n{predictions}\")"
   ]
  },
  {
   "cell_type": "code",
   "execution_count": null,
   "metadata": {},
   "outputs": [],
   "source": [
    "y_test = np.array(features_csv[features_csv[\"split\"]==\"dev\"][\"PTSD_severity\"].values)"
   ]
  },
  {
   "cell_type": "code",
   "execution_count": null,
   "metadata": {},
   "outputs": [],
   "source": [
    "features_csv['col_encoded'] = features_csv['gender'].map({'female': 0, 'male': 1, None:1})"
   ]
  },
  {
   "cell_type": "code",
   "execution_count": null,
   "metadata": {},
   "outputs": [
    {
     "data": {
      "text/plain": [
       "array([ 0.,  1., nan])"
      ]
     },
     "metadata": {},
     "output_type": "display_data"
    }
   ],
   "source": [
    "np.unique(features_csv['col_encoded'])"
   ]
  },
  {
   "cell_type": "code",
   "execution_count": null,
   "metadata": {},
   "outputs": [
    {
     "name": "stdout",
     "output_type": "stream",
     "text": [
      "Shape of gender_test: (56,)\n",
      "Shape of y_test: (56,)\n",
      "Shape of y_pred: (56, 1)\n"
     ]
    }
   ],
   "source": [
    "from fairlearn.metrics import demographic_parity_difference\n",
    "\n",
    "# Assuming `gender` corresponds to the original metadata\n",
    "# Split the dataset into training and testing sets for `gender`\n",
    "gender_train, gender_test = features_csv[features_csv[\"split\"]==\"train\"][\"col_encoded\"], features_csv[features_csv[\"split\"]==\"dev\"][\"col_encoded\"]\n",
    "\n",
    "# Ensure that `gender_test`, `y_test`, and `y_pred` are aligned\n",
    "print(f\"Shape of gender_test: {gender_test.shape}\")\n",
    "print(f\"Shape of y_test: {y_test.shape}\")\n",
    "print(f\"Shape of y_pred: {y_pred.shape}\")\n",
    "\n"
   ]
  },
  {
   "cell_type": "code",
   "execution_count": null,
   "metadata": {},
   "outputs": [
    {
     "name": "stdout",
     "output_type": "stream",
     "text": [
      "Demographic Parity Difference: 0.0\n"
     ]
    }
   ],
   "source": [
    "# Calculate Demographic Parity Difference\n",
    "demographic_parity = demographic_parity_difference(\n",
    "    y_true=y_test,\n",
    "    y_pred=y_pred[:,0],\n",
    "    sensitive_features=gender_test\n",
    ")\n",
    "\n",
    "print(f\"Demographic Parity Difference: {demographic_parity}\")"
   ]
  },
  {
   "cell_type": "code",
   "execution_count": null,
   "metadata": {},
   "outputs": [
    {
     "name": "stdout",
     "output_type": "stream",
     "text": [
      "Selection Rates by Group:\n",
      "gender\n",
      "female     0.0\n",
      "male       0.0\n",
      "unknown    0.0\n",
      "Name: selection_rate, dtype: float64\n"
     ]
    }
   ],
   "source": [
    "from fairlearn.metrics import MetricFrame, selection_rate\n",
    "metric_frame = MetricFrame(metrics=selection_rate, \n",
    "                           y_true=y_test, \n",
    "                           y_pred=y_pred[:,0], \n",
    "                           sensitive_features=gender_test)\n",
    "\n",
    "# Get selection rates for each group\n",
    "selection_rates = metric_frame.by_group\n",
    "print(\"Selection Rates by Group:\")\n",
    "print(selection_rates)\n"
   ]
  },
  {
   "cell_type": "code",
   "execution_count": null,
   "metadata": {},
   "outputs": [
    {
     "name": "stderr",
     "output_type": "stream",
     "text": [
      "/scratch/954025/ipykernel_2837344/1510568790.py:1: FutureWarning: Series.__getitem__ treating keys as positions is deprecated. In a future version, integer keys will always be treated as labels (consistent with DataFrame behavior). To access a value by position, use `ser.iloc[pos]`\n",
      "  group_a_rate = selection_rates[1]\n",
      "/scratch/954025/ipykernel_2837344/1510568790.py:2: FutureWarning: Series.__getitem__ treating keys as positions is deprecated. In a future version, integer keys will always be treated as labels (consistent with DataFrame behavior). To access a value by position, use `ser.iloc[pos]`\n",
      "  group_b_rate = selection_rates[0]\n"
     ]
    }
   ],
   "source": [
    "group_a_rate = selection_rates[1]\n",
    "group_b_rate = selection_rates[0]\n",
    "\n",
    "if group_b_rate > 0:  # Avoid division by zero\n",
    "    demographic_parity_ratio = group_a_rate / group_b_rate\n",
    "    print(f\"Demographic Parity Ratio: {demographic_parity_ratio}\")"
   ]
  },
  {
   "cell_type": "code",
   "execution_count": null,
   "metadata": {},
   "outputs": [],
   "source": []
  }
 ],
 "metadata": {
  "kernelspec": {
   "display_name": "Python 3",
   "language": "python",
   "name": "python3"
  },
  "language_info": {
   "codemirror_mode": {
    "name": "ipython",
    "version": 3
   },
   "file_extension": ".py",
   "mimetype": "text/x-python",
   "name": "python",
   "nbconvert_exporter": "python",
   "pygments_lexer": "ipython3",
   "version": "3.12.2"
  },
  "orig_nbformat": 4
 },
 "nbformat": 4,
 "nbformat_minor": 2
}
