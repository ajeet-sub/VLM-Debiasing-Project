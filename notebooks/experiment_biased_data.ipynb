{
 "cells": [
  {
   "cell_type": "markdown",
   "metadata": {},
   "source": [
    "# Imports"
   ]
  },
  {
   "cell_type": "code",
   "execution_count": 1,
   "metadata": {},
   "outputs": [],
   "source": [
    "%load_ext autoreload"
   ]
  },
  {
   "cell_type": "code",
   "execution_count": 2,
   "metadata": {},
   "outputs": [],
   "source": [
    "import sys\n",
    "sys.path.append('/home/hice1/mbibars3/scratch/vlm-debiasing/VLM-Debiasing-Project/scripts')"
   ]
  },
  {
   "cell_type": "code",
   "execution_count": 3,
   "metadata": {},
   "outputs": [],
   "source": [
    "%autoreload 2\n",
    "import pandas as pd\n",
    "import numpy as np\n",
    "import os\n",
    "import model as m\n",
    "import torch\n",
    "import torch.nn as nn\n",
    "import torch.optim as optim\n",
    "import loaders\n",
    "from torch.utils.data import Dataset, DataLoader\n",
    "import matplotlib.pyplot as plt"
   ]
  },
  {
   "attachments": {},
   "cell_type": "markdown",
   "metadata": {},
   "source": [
    "# Text-Audio-Visual"
   ]
  },
  {
   "attachments": {},
   "cell_type": "markdown",
   "metadata": {},
   "source": [
    "- text: Roberta\n",
    "- audio: AST\n",
    "- visual: densenet features"
   ]
  },
  {
   "cell_type": "code",
   "execution_count": 4,
   "metadata": {},
   "outputs": [
    {
     "data": {
      "text/html": [
       "<div>\n",
       "<style scoped>\n",
       "    .dataframe tbody tr th:only-of-type {\n",
       "        vertical-align: middle;\n",
       "    }\n",
       "\n",
       "    .dataframe tbody tr th {\n",
       "        vertical-align: top;\n",
       "    }\n",
       "\n",
       "    .dataframe thead th {\n",
       "        text-align: right;\n",
       "    }\n",
       "</style>\n",
       "<table border=\"1\" class=\"dataframe\">\n",
       "  <thead>\n",
       "    <tr style=\"text-align: right;\">\n",
       "      <th></th>\n",
       "      <th>split</th>\n",
       "      <th>label</th>\n",
       "      <th>label.1</th>\n",
       "      <th>gender</th>\n",
       "      <th>audio</th>\n",
       "      <th>text</th>\n",
       "      <th>visual</th>\n",
       "    </tr>\n",
       "  </thead>\n",
       "  <tbody>\n",
       "    <tr>\n",
       "      <th>0</th>\n",
       "      <td>train</td>\n",
       "      <td>22.0</td>\n",
       "      <td>0</td>\n",
       "      <td>female</td>\n",
       "      <td>/home/hice1/mbibars3/scratch/vlm-debiasing/dat...</td>\n",
       "      <td>/home/hice1/mbibars3/scratch/vlm-debiasing/dat...</td>\n",
       "      <td>/home/hice1/mbibars3/scratch/vlm-debiasing/dat...</td>\n",
       "    </tr>\n",
       "    <tr>\n",
       "      <th>1</th>\n",
       "      <td>test</td>\n",
       "      <td>23.0</td>\n",
       "      <td>0</td>\n",
       "      <td>male</td>\n",
       "      <td>/home/hice1/mbibars3/scratch/vlm-debiasing/dat...</td>\n",
       "      <td>/home/hice1/mbibars3/scratch/vlm-debiasing/dat...</td>\n",
       "      <td>/home/hice1/mbibars3/scratch/vlm-debiasing/dat...</td>\n",
       "    </tr>\n",
       "    <tr>\n",
       "      <th>2</th>\n",
       "      <td>train</td>\n",
       "      <td>19.0</td>\n",
       "      <td>0</td>\n",
       "      <td>male</td>\n",
       "      <td>/home/hice1/mbibars3/scratch/vlm-debiasing/dat...</td>\n",
       "      <td>/home/hice1/mbibars3/scratch/vlm-debiasing/dat...</td>\n",
       "      <td>/home/hice1/mbibars3/scratch/vlm-debiasing/dat...</td>\n",
       "    </tr>\n",
       "    <tr>\n",
       "      <th>3</th>\n",
       "      <td>train</td>\n",
       "      <td>67.0</td>\n",
       "      <td>1</td>\n",
       "      <td>female</td>\n",
       "      <td>/home/hice1/mbibars3/scratch/vlm-debiasing/dat...</td>\n",
       "      <td>/home/hice1/mbibars3/scratch/vlm-debiasing/dat...</td>\n",
       "      <td>/home/hice1/mbibars3/scratch/vlm-debiasing/dat...</td>\n",
       "    </tr>\n",
       "    <tr>\n",
       "      <th>4</th>\n",
       "      <td>dev</td>\n",
       "      <td>39.0</td>\n",
       "      <td>0</td>\n",
       "      <td>male</td>\n",
       "      <td>/home/hice1/mbibars3/scratch/vlm-debiasing/dat...</td>\n",
       "      <td>/home/hice1/mbibars3/scratch/vlm-debiasing/dat...</td>\n",
       "      <td>/home/hice1/mbibars3/scratch/vlm-debiasing/dat...</td>\n",
       "    </tr>\n",
       "  </tbody>\n",
       "</table>\n",
       "</div>"
      ],
      "text/plain": [
       "   split  label  label.1  gender  \\\n",
       "0  train   22.0        0  female   \n",
       "1   test   23.0        0    male   \n",
       "2  train   19.0        0    male   \n",
       "3  train   67.0        1  female   \n",
       "4    dev   39.0        0    male   \n",
       "\n",
       "                                               audio  \\\n",
       "0  /home/hice1/mbibars3/scratch/vlm-debiasing/dat...   \n",
       "1  /home/hice1/mbibars3/scratch/vlm-debiasing/dat...   \n",
       "2  /home/hice1/mbibars3/scratch/vlm-debiasing/dat...   \n",
       "3  /home/hice1/mbibars3/scratch/vlm-debiasing/dat...   \n",
       "4  /home/hice1/mbibars3/scratch/vlm-debiasing/dat...   \n",
       "\n",
       "                                                text  \\\n",
       "0  /home/hice1/mbibars3/scratch/vlm-debiasing/dat...   \n",
       "1  /home/hice1/mbibars3/scratch/vlm-debiasing/dat...   \n",
       "2  /home/hice1/mbibars3/scratch/vlm-debiasing/dat...   \n",
       "3  /home/hice1/mbibars3/scratch/vlm-debiasing/dat...   \n",
       "4  /home/hice1/mbibars3/scratch/vlm-debiasing/dat...   \n",
       "\n",
       "                                              visual  \n",
       "0  /home/hice1/mbibars3/scratch/vlm-debiasing/dat...  \n",
       "1  /home/hice1/mbibars3/scratch/vlm-debiasing/dat...  \n",
       "2  /home/hice1/mbibars3/scratch/vlm-debiasing/dat...  \n",
       "3  /home/hice1/mbibars3/scratch/vlm-debiasing/dat...  \n",
       "4  /home/hice1/mbibars3/scratch/vlm-debiasing/dat...  "
      ]
     },
     "execution_count": 4,
     "metadata": {},
     "output_type": "execute_result"
    }
   ],
   "source": [
    "features_csv = pd.read_csv(\"/home/hice1/mbibars3/scratch/vlm-debiasing/data/e-daic/audio_text_visual_paths.csv\")\n",
    "features_csv.head()"
   ]
  },
  {
   "cell_type": "code",
   "execution_count": 6,
   "metadata": {},
   "outputs": [
    {
     "name": "stdout",
     "output_type": "stream",
     "text": [
      "Modality 1 shape: torch.Size([16, 768, 1])\n",
      "Modality 2 shape: torch.Size([16, 768, 1])\n",
      "Labels shape: tensor([0., 0., 1., 0., 0., 0., 0., 0., 0., 0., 0., 1., 1., 0., 1., 0.])\n"
     ]
    }
   ],
   "source": [
    "train_loader = loaders.MultiModalityDataset(features_csv[features_csv[\"split\"]==\"train\"], \n",
    "                                            modalities = {\"audio\", \"text\"}, label = \"label.1\")\n",
    "train_dataloader = DataLoader(train_loader, batch_size=16, collate_fn=loaders.collate_fn)\n",
    "\n",
    "for batch in train_dataloader:\n",
    "    modalities, labels = batch\n",
    "    print(f\"Modality 1 shape: {modalities[0].shape}\")  # Expected shape: (batch_size, feature, 1)\n",
    "    print(f\"Modality 2 shape: {modalities[1].shape}\")\n",
    "    #print(f\"Modality 3 shape: {modalities[2].shape}\")\n",
    "    print(f\"Labels shape: {labels}\")\n",
    "    break"
   ]
  },
  {
   "cell_type": "code",
   "execution_count": 7,
   "metadata": {},
   "outputs": [],
   "source": [
    "dev_loader = loaders.MultiModalityDataset(features_csv[features_csv[\"split\"]==\"dev\"], \n",
    "                                            modalities = {\"audio\", \"text\"}, label = \"label.1\")\n",
    "dev_dataloader = DataLoader(train_loader, batch_size=16, collate_fn=loaders.collate_fn)"
   ]
  },
  {
   "cell_type": "code",
   "execution_count": 8,
   "metadata": {},
   "outputs": [],
   "source": [
    "# Define input dimensions for each modality\n",
    "input_dims = [768, 768]  # These are the feature dimensions for each modality\n",
    "\n",
    "# Initialize MultiModalPerceiver model\n",
    "model = m.MultiModalPerceiver(\n",
    "    input_dims=input_dims,\n",
    "    input_channels=1,\n",
    "    input_axis=1,\n",
    "    projection_dim=256,\n",
    "    num_latents=16,\n",
    "    latent_dim=128,\n",
    "    depth=8,\n",
    "    cross_heads=8,\n",
    "    latent_heads=8,\n",
    "    cross_dim_head=32,\n",
    "    latent_dim_head=32,\n",
    "    attn_dropout=0.5,\n",
    "    ff_dropout=0.5,\n",
    "    output_dim=1,\n",
    "    weight_tie_layers=True,\n",
    "    fourier_encode_data=False,\n",
    "    max_freq=10,\n",
    "    num_freq_bands=4\n",
    ")"
   ]
  },
  {
   "cell_type": "code",
   "execution_count": 9,
   "metadata": {},
   "outputs": [],
   "source": [
    "labels_torch = torch.from_numpy(features_csv[features_csv[\"split\"]==\"train\"][\"label.1\"].values)"
   ]
  },
  {
   "cell_type": "code",
   "execution_count": 10,
   "metadata": {},
   "outputs": [],
   "source": [
    "# Calculate class weights\n",
    "class_counts = torch.bincount(labels_torch)  # Get counts for each class\n",
    "class_weights = len(labels_torch) / (2.0 * class_counts)\n",
    "\n",
    "# Apply weights to loss function\n",
    "criterion = nn.BCEWithLogitsLoss(pos_weight=class_weights[1])  # Weight for positive class\n"
   ]
  },
  {
   "cell_type": "code",
   "execution_count": 11,
   "metadata": {},
   "outputs": [
    {
     "data": {
      "text/plain": [
       "tensor([0.7149, 1.6633])"
      ]
     },
     "execution_count": 11,
     "metadata": {},
     "output_type": "execute_result"
    }
   ],
   "source": [
    "class_weights"
   ]
  },
  {
   "cell_type": "code",
   "execution_count": 12,
   "metadata": {},
   "outputs": [],
   "source": [
    "learning_rate = 0.01\n",
    "num_epochs = 10\n",
    "# Define loss function and optimizer\n",
    "#criterion = nn.MSELoss()  # Mean Squared Error for regression\n",
    "# loss function for binary classification\n",
    "#criterion = nn.BCEWithLogitsLoss()\n",
    "optimizer = optim.Adam(model.parameters(), lr=learning_rate)"
   ]
  },
  {
   "cell_type": "code",
   "execution_count": 13,
   "metadata": {},
   "outputs": [
    {
     "name": "stdout",
     "output_type": "stream",
     "text": [
      "Epoch [1/10], Train Loss: 1.0765, Val Loss: 0.8532, Train F1: 0.5855, Val F1: 0.1390\n",
      "Epoch [2/10], Train Loss: 0.9125, Val Loss: 0.9007, Train F1: 0.5721, Val F1: 0.1390\n",
      "Epoch [3/10], Train Loss: 0.8422, Val Loss: 0.7953, Train F1: 0.5631, Val F1: 0.5757\n",
      "Epoch [4/10], Train Loss: 0.8096, Val Loss: 0.8097, Train F1: 0.5757, Val F1: 0.5757\n",
      "Epoch [5/10], Train Loss: 0.8199, Val Loss: 0.7976, Train F1: 0.5757, Val F1: 0.5757\n",
      "Epoch [6/10], Train Loss: 0.8083, Val Loss: 0.7977, Train F1: 0.5757, Val F1: 0.5757\n",
      "Epoch [7/10], Train Loss: 0.8133, Val Loss: 0.8007, Train F1: 0.5757, Val F1: 0.5757\n",
      "Epoch [8/10], Train Loss: 0.8110, Val Loss: 0.7975, Train F1: 0.5757, Val F1: 0.5757\n",
      "Epoch [9/10], Train Loss: 0.8108, Val Loss: 0.7991, Train F1: 0.5757, Val F1: 0.5757\n",
      "Epoch [10/10], Train Loss: 0.8106, Val Loss: 0.7978, Train F1: 0.5757, Val F1: 0.5757\n"
     ]
    }
   ],
   "source": [
    "from sklearn.metrics import f1_score\n",
    "# Define variables to track losses\n",
    "train_losses = []\n",
    "val_losses = []\n",
    "best_val_loss = float('inf')  # Initialize best validation loss\n",
    "\n",
    "# Training loop\n",
    "for epoch in range(num_epochs):\n",
    "    running_train_loss = 0.0\n",
    "    all_train_labels = []\n",
    "    all_train_preds = []\n",
    "    all_dev_labels = []\n",
    "    all_dev_preds = []\n",
    "\n",
    "    for batch in train_dataloader:\n",
    "        \n",
    "        # Unpack the batch\n",
    "        modalities, labels = batch\n",
    "        modality_1, modality_2 = modalities  # Each has shape (batch_size, feature, 1)\n",
    "\n",
    "        # Zero the parameter gradients\n",
    "        optimizer.zero_grad()\n",
    "\n",
    "        # Forward pass\n",
    "        inputs = [modality_1, modality_2]\n",
    "        output = model(inputs)\n",
    "\n",
    "        #print(output, labels)\n",
    "        # Reshape labels to match the output shape if necessary\n",
    "        labels = labels.view(output.shape)  # Ensures labels has shape (batch_size, 1)\n",
    "\n",
    "        # Compute loss\n",
    "        loss = criterion(output, labels)\n",
    "        #RMSE_loss = torch.sqrt(loss)\n",
    "\n",
    "        # Backward pass and optimize\n",
    "        loss.backward()\n",
    "        optimizer.step()\n",
    "\n",
    "        # Accumulate loss\n",
    "        running_train_loss += loss.item()\n",
    "        # Convert logits to predictions\n",
    "        preds = torch.sigmoid(output) > 0.5\n",
    "        all_train_labels.extend(labels.cpu().numpy().flatten())\n",
    "        all_train_preds.extend(preds.cpu().numpy().flatten())\n",
    "\n",
    "    # Average training loss for the epoch\n",
    "    train_loss = running_train_loss / len(train_dataloader)\n",
    "    train_losses.append(train_loss)\n",
    "\n",
    "    # Validation Phase\n",
    "    model.eval()  # Set model to evaluation mode\n",
    "    running_val_loss = 0.0\n",
    "\n",
    "    with torch.no_grad():  # Disable gradient computation\n",
    "        for batch in dev_dataloader:  # Use validation DataLoader\n",
    "            modalities, labels = batch\n",
    "            modality_1, modality_2 = modalities\n",
    "\n",
    "            # Forward pass\n",
    "            inputs = [modality_1, modality_2]\n",
    "            output = model(inputs)\n",
    "\n",
    "            # Reshape labels to match the output shape if necessary\n",
    "            labels = labels.view(output.shape)\n",
    "\n",
    "            # Compute loss\n",
    "            loss = criterion(output, labels)\n",
    "            #RMSE_loss = torch.sqrt(loss)\n",
    "\n",
    "            running_val_loss += loss.item()\n",
    "            preds = torch.sigmoid(output) > 0.5\n",
    "            all_dev_labels.extend(labels.cpu().numpy().flatten())\n",
    "            all_dev_preds.extend(preds.cpu().numpy().flatten())\n",
    "\n",
    "    # Average validation loss for the epoch\n",
    "    val_loss = running_val_loss / len(dev_dataloader)\n",
    "    val_losses.append(val_loss)\n",
    "\n",
    "    # Check if this is the best model\n",
    "    if val_loss < best_val_loss:\n",
    "        best_val_loss = val_loss\n",
    "        torch.save(model.state_dict(), \"best_aud_text_model.pth\")  # Save best model\n",
    "\n",
    "    # Compute F1-score for training\n",
    "    train_f1 = f1_score(all_train_labels, all_train_preds, average='weighted')\n",
    "    dev_f1 = f1_score(all_dev_labels, all_dev_preds, average='weighted')\n",
    "\n",
    "    # Print epoch summary\n",
    "    print(f\"Epoch [{epoch+1}/{num_epochs}], Train Loss: {train_loss:.4f}, Val Loss: {val_loss:.4f}, Train F1: {train_f1:.4f}, Val F1: {dev_f1:.4f}\")\n"
   ]
  },
  {
   "cell_type": "code",
   "execution_count": 14,
   "metadata": {},
   "outputs": [
    {
     "data": {
      "image/png": "[encoded data removed]",
      "text/plain": [
       "<Figure size 800x600 with 1 Axes>"
      ]
     },
     "metadata": {},
     "output_type": "display_data"
    }
   ],
   "source": [
    "# Plot training and validation losses\n",
    "plt.figure(figsize=(8, 6))\n",
    "plt.plot(train_losses, label=\"Training Loss\")\n",
    "plt.plot(val_losses, label=\"Validation Loss\")\n",
    "plt.xlabel(\"Epoch\")\n",
    "plt.ylabel(\"Loss\")\n",
    "plt.title(\"Training and Validation Loss\")\n",
    "plt.legend()\n",
    "plt.savefig(\"loss_plot.png\")  # Save the plot\n",
    "plt.show()"
   ]
  },
  {
   "cell_type": "code",
   "execution_count": 15,
   "metadata": {},
   "outputs": [
    {
     "name": "stdout",
     "output_type": "stream",
     "text": [
      "Predicted Classes:\n",
      "tensor([[0],\n",
      "        [0],\n",
      "        [0],\n",
      "        [0],\n",
      "        [0],\n",
      "        [0],\n",
      "        [0],\n",
      "        [0],\n",
      "        [0],\n",
      "        [0],\n",
      "        [0],\n",
      "        [0],\n",
      "        [0],\n",
      "        [0],\n",
      "        [0],\n",
      "        [0]], dtype=torch.int32)\n",
      "Predicted Classes:\n",
      "tensor([[0],\n",
      "        [0],\n",
      "        [0],\n",
      "        [0],\n",
      "        [0],\n",
      "        [0],\n",
      "        [0],\n",
      "        [0],\n",
      "        [0],\n",
      "        [0],\n",
      "        [0],\n",
      "        [0],\n",
      "        [0],\n",
      "        [0],\n",
      "        [0],\n",
      "        [0]], dtype=torch.int32)\n",
      "Predicted Classes:\n",
      "tensor([[0],\n",
      "        [0],\n",
      "        [0],\n",
      "        [0],\n",
      "        [0],\n",
      "        [0],\n",
      "        [0],\n",
      "        [0],\n",
      "        [0],\n",
      "        [0],\n",
      "        [0],\n",
      "        [0],\n",
      "        [0],\n",
      "        [0],\n",
      "        [0],\n",
      "        [0]], dtype=torch.int32)\n",
      "Predicted Classes:\n",
      "tensor([[0],\n",
      "        [0],\n",
      "        [0],\n",
      "        [0],\n",
      "        [0],\n",
      "        [0],\n",
      "        [0],\n",
      "        [0],\n",
      "        [0],\n",
      "        [0],\n",
      "        [0],\n",
      "        [0],\n",
      "        [0],\n",
      "        [0],\n",
      "        [0],\n",
      "        [0]], dtype=torch.int32)\n",
      "Predicted Classes:\n",
      "tensor([[0],\n",
      "        [0],\n",
      "        [0],\n",
      "        [0],\n",
      "        [0],\n",
      "        [0],\n",
      "        [0],\n",
      "        [0],\n",
      "        [0],\n",
      "        [0],\n",
      "        [0],\n",
      "        [0],\n",
      "        [0],\n",
      "        [0],\n",
      "        [0],\n",
      "        [0]], dtype=torch.int32)\n",
      "Predicted Classes:\n",
      "tensor([[0],\n",
      "        [0],\n",
      "        [0],\n",
      "        [0],\n",
      "        [0],\n",
      "        [0],\n",
      "        [0],\n",
      "        [0],\n",
      "        [0],\n",
      "        [0],\n",
      "        [0],\n",
      "        [0],\n",
      "        [0],\n",
      "        [0],\n",
      "        [0],\n",
      "        [0]], dtype=torch.int32)\n",
      "Predicted Classes:\n",
      "tensor([[0],\n",
      "        [0],\n",
      "        [0],\n",
      "        [0],\n",
      "        [0],\n",
      "        [0],\n",
      "        [0],\n",
      "        [0],\n",
      "        [0],\n",
      "        [0],\n",
      "        [0],\n",
      "        [0],\n",
      "        [0],\n",
      "        [0],\n",
      "        [0],\n",
      "        [0]], dtype=torch.int32)\n",
      "Predicted Classes:\n",
      "tensor([[0],\n",
      "        [0],\n",
      "        [0],\n",
      "        [0],\n",
      "        [0],\n",
      "        [0],\n",
      "        [0],\n",
      "        [0],\n",
      "        [0],\n",
      "        [0],\n",
      "        [0],\n",
      "        [0],\n",
      "        [0],\n",
      "        [0],\n",
      "        [0],\n",
      "        [0]], dtype=torch.int32)\n",
      "Predicted Classes:\n",
      "tensor([[0],\n",
      "        [0],\n",
      "        [0],\n",
      "        [0],\n",
      "        [0],\n",
      "        [0],\n",
      "        [0],\n",
      "        [0],\n",
      "        [0],\n",
      "        [0],\n",
      "        [0],\n",
      "        [0],\n",
      "        [0],\n",
      "        [0],\n",
      "        [0],\n",
      "        [0]], dtype=torch.int32)\n",
      "Predicted Classes:\n",
      "tensor([[0],\n",
      "        [0],\n",
      "        [0],\n",
      "        [0],\n",
      "        [0],\n",
      "        [0],\n",
      "        [0],\n",
      "        [0],\n",
      "        [0],\n",
      "        [0],\n",
      "        [0],\n",
      "        [0],\n",
      "        [0],\n",
      "        [0],\n",
      "        [0],\n",
      "        [0]], dtype=torch.int32)\n",
      "Predicted Classes:\n",
      "tensor([[0],\n",
      "        [0],\n",
      "        [0]], dtype=torch.int32)\n"
     ]
    }
   ],
   "source": [
    "# Model prediction\n",
    "model.eval()  # Set model to evaluation mode\n",
    "\n",
    "predictions = []\n",
    "with torch.no_grad():  # Disable gradient computation\n",
    "    for batch in dev_dataloader:\n",
    "        modalities, _ = batch  # Ignore labels if unavailable\n",
    "        modality_1, modality_2 = modalities\n",
    "        \n",
    "        # Forward pass\n",
    "        inputs = [modality_1, modality_2]\n",
    "        output = model(inputs)  # Model's prediction\n",
    "        predictions = torch.sigmoid(output)  # Apply sigmoid activation\n",
    "        predicted_classes = (predictions > 0.5).int()  # Convert probabilities to binary predictions\n",
    "        #print(f\"Predicted Probabilities:\\n{predictions}\")\n",
    "        print(f\"Predicted Classes:\\n{predicted_classes}\")\n",
    "        # Collect predictions\n",
    "        #predictions.append(output)\n",
    "\n",
    "# Combine predictions into a single tensor\n",
    "#predictions = torch.cat(predicted_classes, dim=0)\n",
    "#y_pred = np.array(predictions)\n",
    "#print(f\"Predictions:\\n{predictions}\")"
   ]
  },
  {
   "cell_type": "code",
   "execution_count": 30,
   "metadata": {},
   "outputs": [],
   "source": [
    "y_test = np.array(features_csv[features_csv[\"split\"]==\"dev\"][\"PTSD_severity\"].values)"
   ]
  },
  {
   "cell_type": "code",
   "execution_count": 42,
   "metadata": {},
   "outputs": [],
   "source": [
    "features_csv['col_encoded'] = features_csv['gender'].map({'female': 0, 'male': 1, None:1})"
   ]
  },
  {
   "cell_type": "code",
   "execution_count": 43,
   "metadata": {},
   "outputs": [
    {
     "data": {
      "text/plain": [
       "array([ 0.,  1., nan])"
      ]
     },
     "execution_count": 43,
     "metadata": {},
     "output_type": "execute_result"
    }
   ],
   "source": [
    "np.unique(features_csv['col_encoded'])"
   ]
  },
  {
   "cell_type": "code",
   "execution_count": 44,
   "metadata": {},
   "outputs": [
    {
     "name": "stdout",
     "output_type": "stream",
     "text": [
      "Shape of gender_test: (56,)\n",
      "Shape of y_test: (56,)\n",
      "Shape of y_pred: (56, 1)\n"
     ]
    }
   ],
   "source": [
    "from fairlearn.metrics import demographic_parity_difference\n",
    "\n",
    "# Assuming `gender` corresponds to the original metadata\n",
    "# Split the dataset into training and testing sets for `gender`\n",
    "gender_train, gender_test = features_csv[features_csv[\"split\"]==\"train\"][\"col_encoded\"], features_csv[features_csv[\"split\"]==\"dev\"][\"col_encoded\"]\n",
    "\n",
    "# Ensure that `gender_test`, `y_test`, and `y_pred` are aligned\n",
    "print(f\"Shape of gender_test: {gender_test.shape}\")\n",
    "print(f\"Shape of y_test: {y_test.shape}\")\n",
    "print(f\"Shape of y_pred: {y_pred.shape}\")\n",
    "\n"
   ]
  },
  {
   "cell_type": "code",
   "execution_count": 46,
   "metadata": {},
   "outputs": [
    {
     "data": {
      "text/plain": [
       "4      1.0\n",
       "5      NaN\n",
       "6      0.0\n",
       "11     1.0\n",
       "14     1.0\n",
       "15     1.0\n",
       "24     1.0\n",
       "29     1.0\n",
       "30     0.0\n",
       "32     1.0\n",
       "36     1.0\n",
       "43     0.0\n",
       "46     1.0\n",
       "54     1.0\n",
       "61     0.0\n",
       "66     1.0\n",
       "72     0.0\n",
       "74     0.0\n",
       "76     1.0\n",
       "77     0.0\n",
       "80     0.0\n",
       "81     1.0\n",
       "89     1.0\n",
       "94     1.0\n",
       "103    0.0\n",
       "111    0.0\n",
       "119    0.0\n",
       "124    1.0\n",
       "126    1.0\n",
       "138    1.0\n",
       "143    0.0\n",
       "147    0.0\n",
       "149    0.0\n",
       "150    1.0\n",
       "158    1.0\n",
       "163    1.0\n",
       "164    0.0\n",
       "167    1.0\n",
       "172    1.0\n",
       "184    0.0\n",
       "189    1.0\n",
       "190    0.0\n",
       "193    1.0\n",
       "197    1.0\n",
       "206    0.0\n",
       "208    1.0\n",
       "212    1.0\n",
       "223    1.0\n",
       "234    1.0\n",
       "238    1.0\n",
       "239    1.0\n",
       "247    0.0\n",
       "249    0.0\n",
       "253    1.0\n",
       "268    1.0\n",
       "269    1.0\n",
       "Name: col_encoded, dtype: float64"
      ]
     },
     "execution_count": 46,
     "metadata": {},
     "output_type": "execute_result"
    }
   ],
   "source": [
    "gender_test"
   ]
  },
  {
   "cell_type": "code",
   "execution_count": 47,
   "metadata": {},
   "outputs": [
    {
     "name": "stdout",
     "output_type": "stream",
     "text": [
      "Demographic Parity Difference: 0.0\n"
     ]
    }
   ],
   "source": [
    "# Calculate Demographic Parity Difference\n",
    "demographic_parity = demographic_parity_difference(\n",
    "    y_true=y_test,\n",
    "    y_pred=y_pred[:,0],\n",
    "    sensitive_features=gender_test\n",
    ")\n",
    "\n",
    "print(f\"Demographic Parity Difference: {demographic_parity}\")"
   ]
  },
  {
   "cell_type": "code",
   "execution_count": 33,
   "metadata": {},
   "outputs": [
    {
     "name": "stdout",
     "output_type": "stream",
     "text": [
      "Selection Rates by Group:\n",
      "gender\n",
      "female     0.0\n",
      "male       0.0\n",
      "unknown    0.0\n",
      "Name: selection_rate, dtype: float64\n"
     ]
    }
   ],
   "source": [
    "from fairlearn.metrics import MetricFrame, selection_rate\n",
    "metric_frame = MetricFrame(metrics=selection_rate, \n",
    "                           y_true=y_test, \n",
    "                           y_pred=y_pred[:,0], \n",
    "                           sensitive_features=gender_test)\n",
    "\n",
    "# Get selection rates for each group\n",
    "selection_rates = metric_frame.by_group\n",
    "print(\"Selection Rates by Group:\")\n",
    "print(selection_rates)\n"
   ]
  },
  {
   "cell_type": "code",
   "execution_count": 34,
   "metadata": {},
   "outputs": [
    {
     "name": "stderr",
     "output_type": "stream",
     "text": [
      "/scratch/954025/ipykernel_2837344/1510568790.py:1: FutureWarning: Series.__getitem__ treating keys as positions is deprecated. In a future version, integer keys will always be treated as labels (consistent with DataFrame behavior). To access a value by position, use `ser.iloc[pos]`\n",
      "  group_a_rate = selection_rates[1]\n",
      "/scratch/954025/ipykernel_2837344/1510568790.py:2: FutureWarning: Series.__getitem__ treating keys as positions is deprecated. In a future version, integer keys will always be treated as labels (consistent with DataFrame behavior). To access a value by position, use `ser.iloc[pos]`\n",
      "  group_b_rate = selection_rates[0]\n"
     ]
    }
   ],
   "source": [
    "group_a_rate = selection_rates[1]\n",
    "group_b_rate = selection_rates[0]\n",
    "\n",
    "if group_b_rate > 0:  # Avoid division by zero\n",
    "    demographic_parity_ratio = group_a_rate / group_b_rate\n",
    "    print(f\"Demographic Parity Ratio: {demographic_parity_ratio}\")"
   ]
  },
  {
   "cell_type": "code",
   "execution_count": null,
   "metadata": {},
   "outputs": [],
   "source": []
  }
 ],
 "metadata": {
  "kernelspec": {
   "display_name": "Python 3",
   "language": "python",
   "name": "python3"
  },
  "language_info": {
   "codemirror_mode": {
    "name": "ipython",
    "version": 3
   },
   "file_extension": ".py",
   "mimetype": "text/x-python",
   "name": "python",
   "nbconvert_exporter": "python",
   "pygments_lexer": "ipython3",
   "version": "3.12.2"
  },
  "orig_nbformat": 4
 },
 "nbformat": 4,
 "nbformat_minor": 2
}
