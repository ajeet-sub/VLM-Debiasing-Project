{
 "cells": [
  {
   "cell_type": "markdown",
   "metadata": {},
   "source": [
    "# Imports"
   ]
  },
  {
   "cell_type": "code",
   "execution_count": 1,
   "metadata": {},
   "outputs": [],
   "source": [
    "%load_ext autoreload"
   ]
  },
  {
   "cell_type": "code",
   "execution_count": 2,
   "metadata": {},
   "outputs": [],
   "source": [
    "import sys\n",
    "sys.path.append('/home/hice1/mbibars3/scratch/vlm-debiasing/VLM-Debiasing-Project/scripts')"
   ]
  },
  {
   "cell_type": "code",
   "execution_count": 3,
   "metadata": {},
   "outputs": [
    {
     "name": "stderr",
     "output_type": "stream",
     "text": [
      "/home/hice1/mbibars3/scratch/miniconda3/envs/vlm-debiasing/lib/python3.12/site-packages/tqdm/auto.py:21: TqdmWarning: IProgress not found. Please update jupyter and ipywidgets. See https://ipywidgets.readthedocs.io/en/stable/user_install.html\n",
      "  from .autonotebook import tqdm as notebook_tqdm\n"
     ]
    }
   ],
   "source": [
    "%autoreload 2\n",
    "import pandas as pd\n",
    "import numpy as np\n",
    "import os\n",
    "import model as m\n",
    "import torch\n",
    "import torch.nn as nn\n",
    "import torch.optim as optim\n",
    "import loaders\n",
    "from torch.utils.data import Dataset, DataLoader\n",
    "import matplotlib.pyplot as plt"
   ]
  },
  {
   "cell_type": "code",
   "execution_count": 4,
   "metadata": {},
   "outputs": [],
   "source": [
    "import random\n",
    "\n",
    "def mixup_data(x1, x2, y1, y2, alpha=1.0):\n",
    "    \"\"\"\n",
    "    Perform MixUp between two samples.\n",
    "    \n",
    "    Args:\n",
    "        x1: The first sample (input tensor).\n",
    "        x2: The second sample (input tensor).\n",
    "        y1: The first label.\n",
    "        y2: The second label.\n",
    "        alpha: The mixing parameter (lambda), which controls the weight of each sample.\n",
    "\n",
    "    Returns:\n",
    "        mixed_x: The mixed input tensor.\n",
    "        mixed_y: The mixed label tensor.\n",
    "        lambda_value: The value of lambda (how much of each sample is mixed).\n",
    "    \"\"\"\n",
    "    # Generate the mixing factor lambda from a Beta distribution\n",
    "    lambda_value = torch.distributions.Beta(alpha, alpha).sample().item()\n",
    "\n",
    "    # Perform MixUp for inputs\n",
    "    mixed_x = lambda_value * x1 + (1 - lambda_value) * x2\n",
    "    \n",
    "    # Perform MixUp for labels\n",
    "    mixed_y = lambda_value * y1 + (1 - lambda_value) * y2\n",
    "    \n",
    "    return mixed_x, mixed_y, lambda_value\n"
   ]
  },
  {
   "cell_type": "code",
   "execution_count": 90,
   "metadata": {},
   "outputs": [],
   "source": [
    "import torch\n",
    "import torch.nn as nn\n",
    "return_lstm_output =True\n",
    "class DeepConvLSTM(nn.Module):\n",
    "    def __init__(self, input_channels, conv_channels, lstm_hidden_size, lstm_layers, output_size, dropout=0.5):\n",
    "        \"\"\"\n",
    "        Args:\n",
    "            input_channels: Number of input features (25 for your data).\n",
    "            conv_channels: Number of output channels for the convolutional layers.\n",
    "            lstm_hidden_size: Hidden size of the LSTM.\n",
    "            lstm_layers: Number of LSTM layers.\n",
    "            output_size: Size of the model output (e.g., number of classes for classification or 1 for regression).\n",
    "            dropout: Dropout rate.\n",
    "        \"\"\"\n",
    "        super(DeepConvLSTM, self).__init__()\n",
    "        \n",
    "        # Convolutional layers\n",
    "        self.conv1 = nn.Conv1d(input_channels, conv_channels, kernel_size=9, stride=1, padding=2)\n",
    "        self.conv2 = nn.Conv1d(conv_channels, conv_channels, kernel_size=9, stride=1, padding=2)\n",
    "        self.relu = nn.LeakyReLU()\n",
    "        self.pool = nn.MaxPool1d(kernel_size=2, stride=2)\n",
    "        \n",
    "        # LSTM layers\n",
    "        self.lstm = nn.LSTM(input_size=conv_channels, \n",
    "                            hidden_size=lstm_hidden_size, \n",
    "                            num_layers=lstm_layers, \n",
    "                            batch_first=True, \n",
    "                            dropout=dropout)\n",
    "        \n",
    "        # Fully connected output layer\n",
    "        self.fc = nn.Linear(lstm_hidden_size, output_size)\n",
    "    \n",
    "    def forward(self, x):\n",
    "        \"\"\"\n",
    "        Args:\n",
    "            x: Input tensor of shape (batch_size, time_steps, features).\n",
    "        \n",
    "        Returns:\n",
    "            Output tensor.\n",
    "        \"\"\"\n",
    "        # Input shape: (batch_size, time_steps, features)\n",
    "        # Permute to match Conv1d input: (batch_size, features, time_steps)\n",
    "        x = x.permute(0, 2, 1)\n",
    "        \n",
    "        # Pass through convolutional layers\n",
    "        x = self.relu(self.conv1(x))\n",
    "        x = self.pool(x)\n",
    "        x = self.relu(self.conv2(x))\n",
    "        x = self.pool(x)  # Shape: (batch_size, conv_channels, reduced_time_steps)\n",
    "        \n",
    "        # Permute back for LSTM: (batch_size, reduced_time_steps, conv_channels)\n",
    "        x = x.permute(0, 2, 1)\n",
    "        \n",
    "        # Pass through LSTM\n",
    "        x, (h_n, c_n) = self.lstm(x)\n",
    "        # Optionally return the LSTM embeddings\n",
    "        if return_lstm_output:\n",
    "            return x\n",
    "        \n",
    "        # Take the output of the last time step: (batch_size, lstm_hidden_size)\n",
    "        x = x[:, -1, :]\n",
    "        \n",
    "        # Pass through fully connected layer\n",
    "        x = self.fc(x)\n",
    "        \n",
    "        return x\n"
   ]
  },
  {
   "cell_type": "code",
   "execution_count": 6,
   "metadata": {},
   "outputs": [],
   "source": [
    "import torch\n",
    "from torch.utils.data import Dataset\n",
    "import pandas as pd\n",
    "import numpy as np\n",
    "\n",
    "class PatientAudioDatasetCSV(Dataset):\n",
    "    def __init__(self, dataframe, input_column, label_column=None, normalize=True):\n",
    "        \"\"\"\n",
    "        Args:\n",
    "            dataframe: DataFrame containing file paths and labels.\n",
    "            input_column: Column name containing paths to the CSV files.\n",
    "            label_column: Column name containing labels (if supervised learning).\n",
    "            normalize: Whether to normalize the data (0-1 scaling).\n",
    "        \"\"\"\n",
    "        self.dataframe = dataframe\n",
    "        self.input_column = input_column\n",
    "        self.label_column = label_column\n",
    "        self.normalize = normalize\n",
    "\n",
    "        # Compute normalization statistics (if enabled)\n",
    "        if self.normalize:\n",
    "            self.mean, self.std = self._compute_normalization_stats()\n",
    "    \n",
    "    def _compute_normalization_stats(self):\n",
    "        \"\"\"Compute mean and standard deviation across all data in the train split.\"\"\"\n",
    "        all_data = []\n",
    "        for path in self.dataframe[self.input_column]:\n",
    "            audio_data = np.load(path, allow_pickle=True)\n",
    "            all_data.append(audio_data)\n",
    "        all_data = np.concatenate(all_data, axis=0)\n",
    "        return all_data.mean(axis=0), all_data.std(axis=0)\n",
    "\n",
    "    def _normalize(self, data):\n",
    "        \"\"\"Normalize data using computed mean and std.\"\"\"\n",
    "        return (data - self.mean) / self.std\n",
    "\n",
    "    def __len__(self):\n",
    "        return len(self.dataframe)\n",
    "\n",
    "    def __getitem__(self, idx):\n",
    "        row = self.dataframe.iloc[idx]\n",
    "        # Load audio data from CSV\n",
    "        audio_path = row[self.input_column]\n",
    "        audio_data = np.load(audio_path, allow_pickle=True).astype(np.float32)\n",
    "\n",
    "        # Normalize if required\n",
    "        if self.normalize:\n",
    "            audio_data = self._normalize(audio_data)\n",
    "\n",
    "        # Convert to tensor\n",
    "        audio_tensor = torch.tensor(audio_data)\n",
    "\n",
    "        # Load label if available\n",
    "        if self.label_column:\n",
    "            label = torch.tensor(row[self.label_column], dtype=torch.float32)\n",
    "            return audio_tensor, label\n",
    "        else:\n",
    "            return audio_tensor\n"
   ]
  },
  {
   "attachments": {},
   "cell_type": "markdown",
   "metadata": {},
   "source": [
    "# eGEMAPS"
   ]
  },
  {
   "cell_type": "code",
   "execution_count": 7,
   "metadata": {},
   "outputs": [
    {
     "data": {
      "text/html": [
       "<div>\n",
       "<style scoped>\n",
       "    .dataframe tbody tr th:only-of-type {\n",
       "        vertical-align: middle;\n",
       "    }\n",
       "\n",
       "    .dataframe tbody tr th {\n",
       "        vertical-align: top;\n",
       "    }\n",
       "\n",
       "    .dataframe thead th {\n",
       "        text-align: right;\n",
       "    }\n",
       "</style>\n",
       "<table border=\"1\" class=\"dataframe\">\n",
       "  <thead>\n",
       "    <tr style=\"text-align: right;\">\n",
       "      <th></th>\n",
       "      <th>split</th>\n",
       "      <th>label</th>\n",
       "      <th>label.1</th>\n",
       "      <th>gender</th>\n",
       "      <th>audio</th>\n",
       "      <th>text</th>\n",
       "      <th>visual</th>\n",
       "      <th>aud_egemaps</th>\n",
       "    </tr>\n",
       "  </thead>\n",
       "  <tbody>\n",
       "    <tr>\n",
       "      <th>0</th>\n",
       "      <td>train</td>\n",
       "      <td>22.0</td>\n",
       "      <td>0</td>\n",
       "      <td>female</td>\n",
       "      <td>/home/hice1/mbibars3/scratch/vlm-debiasing/dat...</td>\n",
       "      <td>/home/hice1/mbibars3/scratch/vlm-debiasing/dat...</td>\n",
       "      <td>/home/hice1/mbibars3/scratch/vlm-debiasing/dat...</td>\n",
       "      <td>/home/hice1/mbibars3/scratch/vlm-debiasing/dat...</td>\n",
       "    </tr>\n",
       "    <tr>\n",
       "      <th>1</th>\n",
       "      <td>test</td>\n",
       "      <td>23.0</td>\n",
       "      <td>0</td>\n",
       "      <td>male</td>\n",
       "      <td>/home/hice1/mbibars3/scratch/vlm-debiasing/dat...</td>\n",
       "      <td>/home/hice1/mbibars3/scratch/vlm-debiasing/dat...</td>\n",
       "      <td>/home/hice1/mbibars3/scratch/vlm-debiasing/dat...</td>\n",
       "      <td>/home/hice1/mbibars3/scratch/vlm-debiasing/dat...</td>\n",
       "    </tr>\n",
       "    <tr>\n",
       "      <th>2</th>\n",
       "      <td>train</td>\n",
       "      <td>19.0</td>\n",
       "      <td>0</td>\n",
       "      <td>male</td>\n",
       "      <td>/home/hice1/mbibars3/scratch/vlm-debiasing/dat...</td>\n",
       "      <td>/home/hice1/mbibars3/scratch/vlm-debiasing/dat...</td>\n",
       "      <td>/home/hice1/mbibars3/scratch/vlm-debiasing/dat...</td>\n",
       "      <td>/home/hice1/mbibars3/scratch/vlm-debiasing/dat...</td>\n",
       "    </tr>\n",
       "    <tr>\n",
       "      <th>3</th>\n",
       "      <td>train</td>\n",
       "      <td>67.0</td>\n",
       "      <td>1</td>\n",
       "      <td>female</td>\n",
       "      <td>/home/hice1/mbibars3/scratch/vlm-debiasing/dat...</td>\n",
       "      <td>/home/hice1/mbibars3/scratch/vlm-debiasing/dat...</td>\n",
       "      <td>/home/hice1/mbibars3/scratch/vlm-debiasing/dat...</td>\n",
       "      <td>/home/hice1/mbibars3/scratch/vlm-debiasing/dat...</td>\n",
       "    </tr>\n",
       "    <tr>\n",
       "      <th>4</th>\n",
       "      <td>dev</td>\n",
       "      <td>39.0</td>\n",
       "      <td>0</td>\n",
       "      <td>male</td>\n",
       "      <td>/home/hice1/mbibars3/scratch/vlm-debiasing/dat...</td>\n",
       "      <td>/home/hice1/mbibars3/scratch/vlm-debiasing/dat...</td>\n",
       "      <td>/home/hice1/mbibars3/scratch/vlm-debiasing/dat...</td>\n",
       "      <td>/home/hice1/mbibars3/scratch/vlm-debiasing/dat...</td>\n",
       "    </tr>\n",
       "  </tbody>\n",
       "</table>\n",
       "</div>"
      ],
      "text/plain": [
       "   split  label  label.1  gender  \\\n",
       "0  train   22.0        0  female   \n",
       "1   test   23.0        0    male   \n",
       "2  train   19.0        0    male   \n",
       "3  train   67.0        1  female   \n",
       "4    dev   39.0        0    male   \n",
       "\n",
       "                                               audio  \\\n",
       "0  /home/hice1/mbibars3/scratch/vlm-debiasing/dat...   \n",
       "1  /home/hice1/mbibars3/scratch/vlm-debiasing/dat...   \n",
       "2  /home/hice1/mbibars3/scratch/vlm-debiasing/dat...   \n",
       "3  /home/hice1/mbibars3/scratch/vlm-debiasing/dat...   \n",
       "4  /home/hice1/mbibars3/scratch/vlm-debiasing/dat...   \n",
       "\n",
       "                                                text  \\\n",
       "0  /home/hice1/mbibars3/scratch/vlm-debiasing/dat...   \n",
       "1  /home/hice1/mbibars3/scratch/vlm-debiasing/dat...   \n",
       "2  /home/hice1/mbibars3/scratch/vlm-debiasing/dat...   \n",
       "3  /home/hice1/mbibars3/scratch/vlm-debiasing/dat...   \n",
       "4  /home/hice1/mbibars3/scratch/vlm-debiasing/dat...   \n",
       "\n",
       "                                              visual  \\\n",
       "0  /home/hice1/mbibars3/scratch/vlm-debiasing/dat...   \n",
       "1  /home/hice1/mbibars3/scratch/vlm-debiasing/dat...   \n",
       "2  /home/hice1/mbibars3/scratch/vlm-debiasing/dat...   \n",
       "3  /home/hice1/mbibars3/scratch/vlm-debiasing/dat...   \n",
       "4  /home/hice1/mbibars3/scratch/vlm-debiasing/dat...   \n",
       "\n",
       "                                         aud_egemaps  \n",
       "0  /home/hice1/mbibars3/scratch/vlm-debiasing/dat...  \n",
       "1  /home/hice1/mbibars3/scratch/vlm-debiasing/dat...  \n",
       "2  /home/hice1/mbibars3/scratch/vlm-debiasing/dat...  \n",
       "3  /home/hice1/mbibars3/scratch/vlm-debiasing/dat...  \n",
       "4  /home/hice1/mbibars3/scratch/vlm-debiasing/dat...  "
      ]
     },
     "execution_count": 7,
     "metadata": {},
     "output_type": "execute_result"
    }
   ],
   "source": [
    "features_csv = pd.read_csv(\"/home/hice1/mbibars3/scratch/vlm-debiasing/data/e-daic/audio_text_visual_paths.csv\", index_col=\"Unnamed: 0\")\n",
    "features_csv.head()"
   ]
  },
  {
   "cell_type": "code",
   "execution_count": 8,
   "metadata": {},
   "outputs": [],
   "source": [
    "# Shuffle the DataFrame\n",
    "features_csv = features_csv.sample(frac=1, random_state=42).reset_index(drop=True)"
   ]
  },
  {
   "cell_type": "code",
   "execution_count": 36,
   "metadata": {},
   "outputs": [],
   "source": [
    "import torch\n",
    "import torch.nn.functional as F\n",
    "\n",
    "def _aggregate_features(data, mean, std):\n",
    "    \n",
    "    # Calculate median\n",
    "    median = data.median(dim=0).values\n",
    "\n",
    "    # Calculate min and max\n",
    "    min_val = data.min(dim=0).values\n",
    "    max_val = data.max(dim=0).values\n",
    "\n",
    "    # Calculate 25th and 75th percentiles (Interquartile Range)\n",
    "    q25 = np.quantile(data, 0.25, dim=0)\n",
    "    q75 = np.quantile(data, 0.75, dim=0)\n",
    "\n",
    "    # Calculate skewness (using third central moment)\n",
    "    mean_centered = data - mean\n",
    "    skewness = (mean_centered ** 3).mean(dim=0) / (std ** 3)\n",
    "\n",
    "    # Calculate kurtosis (using fourth central moment)\n",
    "    kurtosis = (mean_centered ** 4).mean(dim=0) / (std ** 4)\n",
    "\n",
    "    # Concatenate all the statistical features\n",
    "    return [\n",
    "        mean, std, median, min_val, max_val, q25, q75, skewness, kurtosis\n",
    "    ]\n",
    "\n",
    "def _compute_normalization_stats_aggregate(dataframe, path_col):\n",
    "    i = 0\n",
    "    all_data = []\n",
    "    for path in dataframe[path_col]:\n",
    "        audio_data = pd.read_csv(path, delimiter=\";\", header=None, usecols=lambda x: x not in [\"name\", \"frameTime\"])\n",
    "        audio_data = audio_data.select_dtypes(exclude='object').values.astype(np.float32)\n",
    "        all_data.append(audio_data)\n",
    "    all_data = np.concatenate(all_data, axis=0)\n",
    "    m, st = all_data.mean(axis=0), all_data.std(axis=0)\n",
    "    data = _aggregate_features(all_data, m, st)\n",
    "    m, st = data.mean(axis=0), data.std(axis=0)\n",
    "    return (data - m) / st\n"
   ]
  },
  {
   "cell_type": "code",
   "execution_count": 37,
   "metadata": {},
   "outputs": [
    {
     "name": "stderr",
     "output_type": "stream",
     "text": [
      "/scratch/956230/ipykernel_107623/3217025537.py:33: DtypeWarning: Columns (1,2,3,4,5,6,7,8,9,10,11,12,13,14,15,16,17,18,19,20,21,22,23,24) have mixed types. Specify dtype option on import or set low_memory=False.\n",
      "  audio_data = pd.read_csv(path, delimiter=\";\", header=None, usecols=lambda x: x not in [\"name\", \"frameTime\"])\n",
      "/scratch/956230/ipykernel_107623/3217025537.py:33: DtypeWarning: Columns (1,2,3,4,5,6,7,8,9,10,11,12,13,14,15,16,17,18,19,20,21,22,23,24) have mixed types. Specify dtype option on import or set low_memory=False.\n",
      "  audio_data = pd.read_csv(path, delimiter=\";\", header=None, usecols=lambda x: x not in [\"name\", \"frameTime\"])\n",
      "/scratch/956230/ipykernel_107623/3217025537.py:33: DtypeWarning: Columns (1,2,3,4,5,6,7,8,9,10,11,12,13,14,15,16,17,18,19,20,21,22,23,24) have mixed types. Specify dtype option on import or set low_memory=False.\n",
      "  audio_data = pd.read_csv(path, delimiter=\";\", header=None, usecols=lambda x: x not in [\"name\", \"frameTime\"])\n",
      "/scratch/956230/ipykernel_107623/3217025537.py:33: DtypeWarning: Columns (1,2,3,4,5,6,7,8,9,10,11,12,13,14,15,16,17,18,19,20,21,22,23,24) have mixed types. Specify dtype option on import or set low_memory=False.\n",
      "  audio_data = pd.read_csv(path, delimiter=\";\", header=None, usecols=lambda x: x not in [\"name\", \"frameTime\"])\n",
      "/scratch/956230/ipykernel_107623/3217025537.py:33: DtypeWarning: Columns (1,2,3,4,5,6,7,8,9,10,11,12,13,14,15,16,17,18,19,20,21,22,23,24) have mixed types. Specify dtype option on import or set low_memory=False.\n",
      "  audio_data = pd.read_csv(path, delimiter=\";\", header=None, usecols=lambda x: x not in [\"name\", \"frameTime\"])\n",
      "/scratch/956230/ipykernel_107623/3217025537.py:33: DtypeWarning: Columns (1,2,3,4,5,6,7,8,9,10,11,12,13,14,15,16,17,18,19,20,21,22,23,24) have mixed types. Specify dtype option on import or set low_memory=False.\n",
      "  audio_data = pd.read_csv(path, delimiter=\";\", header=None, usecols=lambda x: x not in [\"name\", \"frameTime\"])\n",
      "/scratch/956230/ipykernel_107623/3217025537.py:33: DtypeWarning: Columns (1,2,3,4,5,6,7,8,9,10,11,12,13,14,15,16,17,18,19,20,21,22,23,24) have mixed types. Specify dtype option on import or set low_memory=False.\n",
      "  audio_data = pd.read_csv(path, delimiter=\";\", header=None, usecols=lambda x: x not in [\"name\", \"frameTime\"])\n",
      "/scratch/956230/ipykernel_107623/3217025537.py:33: DtypeWarning: Columns (1,2,3,4,5,6,7,8,9,10,11,12,13,14,15,16,17,18,19,20,21,22,23,24) have mixed types. Specify dtype option on import or set low_memory=False.\n",
      "  audio_data = pd.read_csv(path, delimiter=\";\", header=None, usecols=lambda x: x not in [\"name\", \"frameTime\"])\n",
      "/scratch/956230/ipykernel_107623/3217025537.py:33: DtypeWarning: Columns (1,2,3,4,5,6,7,8,9,10,11,12,13,14,15,16,17,18,19,20,21,22,23,24) have mixed types. Specify dtype option on import or set low_memory=False.\n",
      "  audio_data = pd.read_csv(path, delimiter=\";\", header=None, usecols=lambda x: x not in [\"name\", \"frameTime\"])\n",
      "/scratch/956230/ipykernel_107623/3217025537.py:33: DtypeWarning: Columns (1,2,3,4,5,6,7,8,9,10,11,12,13,14,15,16,17,18,19,20,21,22,23,24) have mixed types. Specify dtype option on import or set low_memory=False.\n",
      "  audio_data = pd.read_csv(path, delimiter=\";\", header=None, usecols=lambda x: x not in [\"name\", \"frameTime\"])\n",
      "/scratch/956230/ipykernel_107623/3217025537.py:33: DtypeWarning: Columns (1,2,3,4,5,6,7,8,9,10,11,12,13,14,15,16,17,18,19,20,21,22,23,24) have mixed types. Specify dtype option on import or set low_memory=False.\n",
      "  audio_data = pd.read_csv(path, delimiter=\";\", header=None, usecols=lambda x: x not in [\"name\", \"frameTime\"])\n",
      "/scratch/956230/ipykernel_107623/3217025537.py:33: DtypeWarning: Columns (1,2,3,4,5,6,7,8,9,10,11,12,13,14,15,16,17,18,19,20,21,22,23,24) have mixed types. Specify dtype option on import or set low_memory=False.\n",
      "  audio_data = pd.read_csv(path, delimiter=\";\", header=None, usecols=lambda x: x not in [\"name\", \"frameTime\"])\n",
      "/scratch/956230/ipykernel_107623/3217025537.py:33: DtypeWarning: Columns (1,2,3,4,5,6,7,8,9,10,11,12,13,14,15,16,17,18,19,20,21,22,23,24) have mixed types. Specify dtype option on import or set low_memory=False.\n",
      "  audio_data = pd.read_csv(path, delimiter=\";\", header=None, usecols=lambda x: x not in [\"name\", \"frameTime\"])\n",
      "/scratch/956230/ipykernel_107623/3217025537.py:33: DtypeWarning: Columns (1,2,3,4,5,6,7,8,9,10,11,12,13,14,15,16,17,18,19,20,21,22,23,24) have mixed types. Specify dtype option on import or set low_memory=False.\n",
      "  audio_data = pd.read_csv(path, delimiter=\";\", header=None, usecols=lambda x: x not in [\"name\", \"frameTime\"])\n",
      "/scratch/956230/ipykernel_107623/3217025537.py:33: DtypeWarning: Columns (1,2,3,4,5,6,7,8,9,10,11,12,13,14,15,16,17,18,19,20,21,22,23,24) have mixed types. Specify dtype option on import or set low_memory=False.\n",
      "  audio_data = pd.read_csv(path, delimiter=\";\", header=None, usecols=lambda x: x not in [\"name\", \"frameTime\"])\n",
      "/scratch/956230/ipykernel_107623/3217025537.py:33: DtypeWarning: Columns (1,2,3,4,5,6,7,8,9,10,11,12,13,14,15,16,17,18,19,20,21,22,23,24) have mixed types. Specify dtype option on import or set low_memory=False.\n",
      "  audio_data = pd.read_csv(path, delimiter=\";\", header=None, usecols=lambda x: x not in [\"name\", \"frameTime\"])\n",
      "/scratch/956230/ipykernel_107623/3217025537.py:33: DtypeWarning: Columns (1,2,3,4,5,6,7,8,9,10,11,12,13,14,15,16,17,18,19,20,21,22,23,24) have mixed types. Specify dtype option on import or set low_memory=False.\n",
      "  audio_data = pd.read_csv(path, delimiter=\";\", header=None, usecols=lambda x: x not in [\"name\", \"frameTime\"])\n",
      "/scratch/956230/ipykernel_107623/3217025537.py:33: DtypeWarning: Columns (1,2,3,4,5,6,7,8,9,10,11,12,13,14,15,16,17,18,19,20,21,22,23,24) have mixed types. Specify dtype option on import or set low_memory=False.\n",
      "  audio_data = pd.read_csv(path, delimiter=\";\", header=None, usecols=lambda x: x not in [\"name\", \"frameTime\"])\n",
      "/scratch/956230/ipykernel_107623/3217025537.py:33: DtypeWarning: Columns (1,2,3,4,5,6,7,8,9,10,11,12,13,14,15,16,17,18,19,20,21,22,23,24) have mixed types. Specify dtype option on import or set low_memory=False.\n",
      "  audio_data = pd.read_csv(path, delimiter=\";\", header=None, usecols=lambda x: x not in [\"name\", \"frameTime\"])\n",
      "/scratch/956230/ipykernel_107623/3217025537.py:33: DtypeWarning: Columns (1,2,3,4,5,6,7,8,9,10,11,12,13,14,15,16,17,18,19,20,21,22,23,24) have mixed types. Specify dtype option on import or set low_memory=False.\n",
      "  audio_data = pd.read_csv(path, delimiter=\";\", header=None, usecols=lambda x: x not in [\"name\", \"frameTime\"])\n",
      "/scratch/956230/ipykernel_107623/3217025537.py:33: DtypeWarning: Columns (1,2,3,4,5,6,7,8,9,10,11,12,13,14,15,16,17,18,19,20,21,22,23,24) have mixed types. Specify dtype option on import or set low_memory=False.\n",
      "  audio_data = pd.read_csv(path, delimiter=\";\", header=None, usecols=lambda x: x not in [\"name\", \"frameTime\"])\n",
      "/scratch/956230/ipykernel_107623/3217025537.py:33: DtypeWarning: Columns (1,2,3,4,5,6,7,8,9,10,11,12,13,14,15,16,17,18,19,20,21,22,23,24) have mixed types. Specify dtype option on import or set low_memory=False.\n",
      "  audio_data = pd.read_csv(path, delimiter=\";\", header=None, usecols=lambda x: x not in [\"name\", \"frameTime\"])\n",
      "/scratch/956230/ipykernel_107623/3217025537.py:33: DtypeWarning: Columns (1,2,3,4,5,6,7,8,9,10,11,12,13,14,15,16,17,18,19,20,21,22,23,24) have mixed types. Specify dtype option on import or set low_memory=False.\n",
      "  audio_data = pd.read_csv(path, delimiter=\";\", header=None, usecols=lambda x: x not in [\"name\", \"frameTime\"])\n",
      "/scratch/956230/ipykernel_107623/3217025537.py:33: DtypeWarning: Columns (1,2,3,4,5,6,7,8,9,10,11,12,13,14,15,16,17,18,19,20,21,22,23,24) have mixed types. Specify dtype option on import or set low_memory=False.\n",
      "  audio_data = pd.read_csv(path, delimiter=\";\", header=None, usecols=lambda x: x not in [\"name\", \"frameTime\"])\n",
      "/scratch/956230/ipykernel_107623/3217025537.py:33: DtypeWarning: Columns (1,2,3,4,5,6,7,8,9,10,11,12,13,14,15,16,17,18,19,20,21,22,23,24) have mixed types. Specify dtype option on import or set low_memory=False.\n",
      "  audio_data = pd.read_csv(path, delimiter=\";\", header=None, usecols=lambda x: x not in [\"name\", \"frameTime\"])\n",
      "/scratch/956230/ipykernel_107623/3217025537.py:33: DtypeWarning: Columns (1,2,3,4,5,6,7,8,9,10,11,12,13,14,15,16,17,18,19,20,21,22,23,24) have mixed types. Specify dtype option on import or set low_memory=False.\n",
      "  audio_data = pd.read_csv(path, delimiter=\";\", header=None, usecols=lambda x: x not in [\"name\", \"frameTime\"])\n",
      "/scratch/956230/ipykernel_107623/3217025537.py:33: DtypeWarning: Columns (1,2,3,4,5,6,7,8,9,10,11,12,13,14,15,16,17,18,19,20,21,22,23,24) have mixed types. Specify dtype option on import or set low_memory=False.\n",
      "  audio_data = pd.read_csv(path, delimiter=\";\", header=None, usecols=lambda x: x not in [\"name\", \"frameTime\"])\n",
      "/scratch/956230/ipykernel_107623/3217025537.py:33: DtypeWarning: Columns (1,2,3,4,5,6,7,8,9,10,11,12,13,14,15,16,17,18,19,20,21,22,23,24) have mixed types. Specify dtype option on import or set low_memory=False.\n",
      "  audio_data = pd.read_csv(path, delimiter=\";\", header=None, usecols=lambda x: x not in [\"name\", \"frameTime\"])\n",
      "/scratch/956230/ipykernel_107623/3217025537.py:33: DtypeWarning: Columns (1,2,3,4,5,6,7,8,9,10,11,12,13,14,15,16,17,18,19,20,21,22,23,24) have mixed types. Specify dtype option on import or set low_memory=False.\n",
      "  audio_data = pd.read_csv(path, delimiter=\";\", header=None, usecols=lambda x: x not in [\"name\", \"frameTime\"])\n",
      "/scratch/956230/ipykernel_107623/3217025537.py:33: DtypeWarning: Columns (1,2,3,4,5,6,7,8,9,10,11,12,13,14,15,16,17,18,19,20,21,22,23,24) have mixed types. Specify dtype option on import or set low_memory=False.\n",
      "  audio_data = pd.read_csv(path, delimiter=\";\", header=None, usecols=lambda x: x not in [\"name\", \"frameTime\"])\n",
      "/scratch/956230/ipykernel_107623/3217025537.py:33: DtypeWarning: Columns (1,2,3,4,5,6,7,8,9,10,11,12,13,14,15,16,17,18,19,20,21,22,23,24) have mixed types. Specify dtype option on import or set low_memory=False.\n",
      "  audio_data = pd.read_csv(path, delimiter=\";\", header=None, usecols=lambda x: x not in [\"name\", \"frameTime\"])\n",
      "/scratch/956230/ipykernel_107623/3217025537.py:33: DtypeWarning: Columns (1,2,3,4,5,6,7,8,9,10,11,12,13,14,15,16,17,18,19,20,21,22,23,24) have mixed types. Specify dtype option on import or set low_memory=False.\n",
      "  audio_data = pd.read_csv(path, delimiter=\";\", header=None, usecols=lambda x: x not in [\"name\", \"frameTime\"])\n",
      "/scratch/956230/ipykernel_107623/3217025537.py:33: DtypeWarning: Columns (1,2,3,4,5,6,7,8,9,10,11,12,13,14,15,16,17,18,19,20,21,22,23,24) have mixed types. Specify dtype option on import or set low_memory=False.\n",
      "  audio_data = pd.read_csv(path, delimiter=\";\", header=None, usecols=lambda x: x not in [\"name\", \"frameTime\"])\n",
      "/scratch/956230/ipykernel_107623/3217025537.py:33: DtypeWarning: Columns (1,2,3,4,5,6,7,8,9,10,11,12,13,14,15,16,17,18,19,20,21,22,23,24) have mixed types. Specify dtype option on import or set low_memory=False.\n",
      "  audio_data = pd.read_csv(path, delimiter=\";\", header=None, usecols=lambda x: x not in [\"name\", \"frameTime\"])\n",
      "/scratch/956230/ipykernel_107623/3217025537.py:33: DtypeWarning: Columns (1,2,3,4,5,6,7,8,9,10,11,12,13,14,15,16,17,18,19,20,21,22,23,24) have mixed types. Specify dtype option on import or set low_memory=False.\n",
      "  audio_data = pd.read_csv(path, delimiter=\";\", header=None, usecols=lambda x: x not in [\"name\", \"frameTime\"])\n",
      "/scratch/956230/ipykernel_107623/3217025537.py:33: DtypeWarning: Columns (1,2,3,4,5,6,7,8,9,10,11,12,13,14,15,16,17,18,19,20,21,22,23,24) have mixed types. Specify dtype option on import or set low_memory=False.\n",
      "  audio_data = pd.read_csv(path, delimiter=\";\", header=None, usecols=lambda x: x not in [\"name\", \"frameTime\"])\n",
      "/scratch/956230/ipykernel_107623/3217025537.py:33: DtypeWarning: Columns (1,2,3,4,5,6,7,8,9,10,11,12,13,14,15,16,17,18,19,20,21,22,23,24) have mixed types. Specify dtype option on import or set low_memory=False.\n",
      "  audio_data = pd.read_csv(path, delimiter=\";\", header=None, usecols=lambda x: x not in [\"name\", \"frameTime\"])\n",
      "/scratch/956230/ipykernel_107623/3217025537.py:33: DtypeWarning: Columns (1,2,3,4,5,6,7,8,9,10,11,12,13,14,15,16,17,18,19,20,21,22,23,24) have mixed types. Specify dtype option on import or set low_memory=False.\n",
      "  audio_data = pd.read_csv(path, delimiter=\";\", header=None, usecols=lambda x: x not in [\"name\", \"frameTime\"])\n",
      "/scratch/956230/ipykernel_107623/3217025537.py:33: DtypeWarning: Columns (1,2,3,4,5,6,7,8,9,10,11,12,13,14,15,16,17,18,19,20,21,22,23,24) have mixed types. Specify dtype option on import or set low_memory=False.\n",
      "  audio_data = pd.read_csv(path, delimiter=\";\", header=None, usecols=lambda x: x not in [\"name\", \"frameTime\"])\n",
      "/scratch/956230/ipykernel_107623/3217025537.py:33: DtypeWarning: Columns (1,2,3,4,5,6,7,8,9,10,11,12,13,14,15,16,17,18,19,20,21,22,23,24) have mixed types. Specify dtype option on import or set low_memory=False.\n",
      "  audio_data = pd.read_csv(path, delimiter=\";\", header=None, usecols=lambda x: x not in [\"name\", \"frameTime\"])\n",
      "/scratch/956230/ipykernel_107623/3217025537.py:33: DtypeWarning: Columns (1,2,3,4,5,6,7,8,9,10,11,12,13,14,15,16,17,18,19,20,21,22,23,24) have mixed types. Specify dtype option on import or set low_memory=False.\n",
      "  audio_data = pd.read_csv(path, delimiter=\";\", header=None, usecols=lambda x: x not in [\"name\", \"frameTime\"])\n",
      "/scratch/956230/ipykernel_107623/3217025537.py:33: DtypeWarning: Columns (1,2,3,4,5,6,7,8,9,10,11,12,13,14,15,16,17,18,19,20,21,22,23,24) have mixed types. Specify dtype option on import or set low_memory=False.\n",
      "  audio_data = pd.read_csv(path, delimiter=\";\", header=None, usecols=lambda x: x not in [\"name\", \"frameTime\"])\n",
      "/scratch/956230/ipykernel_107623/3217025537.py:33: DtypeWarning: Columns (1,2,3,4,5,6,7,8,9,10,11,12,13,14,15,16,17,18,19,20,21,22,23,24) have mixed types. Specify dtype option on import or set low_memory=False.\n",
      "  audio_data = pd.read_csv(path, delimiter=\";\", header=None, usecols=lambda x: x not in [\"name\", \"frameTime\"])\n",
      "/scratch/956230/ipykernel_107623/3217025537.py:33: DtypeWarning: Columns (1,2,3,4,5,6,7,8,9,10,11,12,13,14,15,16,17,18,19,20,21,22,23,24) have mixed types. Specify dtype option on import or set low_memory=False.\n",
      "  audio_data = pd.read_csv(path, delimiter=\";\", header=None, usecols=lambda x: x not in [\"name\", \"frameTime\"])\n",
      "/scratch/956230/ipykernel_107623/3217025537.py:33: DtypeWarning: Columns (1,2,3,4,5,6,7,8,9,10,11,12,13,14,15,16,17,18,19,20,21,22,23,24) have mixed types. Specify dtype option on import or set low_memory=False.\n",
      "  audio_data = pd.read_csv(path, delimiter=\";\", header=None, usecols=lambda x: x not in [\"name\", \"frameTime\"])\n",
      "/scratch/956230/ipykernel_107623/3217025537.py:33: DtypeWarning: Columns (1,2,3,4,5,6,7,8,9,10,11,12,13,14,15,16,17,18,19,20,21,22,23,24) have mixed types. Specify dtype option on import or set low_memory=False.\n",
      "  audio_data = pd.read_csv(path, delimiter=\";\", header=None, usecols=lambda x: x not in [\"name\", \"frameTime\"])\n",
      "/scratch/956230/ipykernel_107623/3217025537.py:33: DtypeWarning: Columns (1,2,3,4,5,6,7,8,9,10,11,12,13,14,15,16,17,18,19,20,21,22,23,24) have mixed types. Specify dtype option on import or set low_memory=False.\n",
      "  audio_data = pd.read_csv(path, delimiter=\";\", header=None, usecols=lambda x: x not in [\"name\", \"frameTime\"])\n",
      "/scratch/956230/ipykernel_107623/3217025537.py:33: DtypeWarning: Columns (1,2,3,4,5,6,7,8,9,10,11,12,13,14,15,16,17,18,19,20,21,22,23,24) have mixed types. Specify dtype option on import or set low_memory=False.\n",
      "  audio_data = pd.read_csv(path, delimiter=\";\", header=None, usecols=lambda x: x not in [\"name\", \"frameTime\"])\n",
      "/scratch/956230/ipykernel_107623/3217025537.py:33: DtypeWarning: Columns (1,2,3,4,5,6,7,8,9,10,11,12,13,14,15,16,17,18,19,20,21,22,23,24) have mixed types. Specify dtype option on import or set low_memory=False.\n",
      "  audio_data = pd.read_csv(path, delimiter=\";\", header=None, usecols=lambda x: x not in [\"name\", \"frameTime\"])\n",
      "/scratch/956230/ipykernel_107623/3217025537.py:33: DtypeWarning: Columns (1,2,3,4,5,6,7,8,9,10,11,12,13,14,15,16,17,18,19,20,21,22,23,24) have mixed types. Specify dtype option on import or set low_memory=False.\n",
      "  audio_data = pd.read_csv(path, delimiter=\";\", header=None, usecols=lambda x: x not in [\"name\", \"frameTime\"])\n",
      "/scratch/956230/ipykernel_107623/3217025537.py:33: DtypeWarning: Columns (1,2,3,4,5,6,7,8,9,10,11,12,13,14,15,16,17,18,19,20,21,22,23,24) have mixed types. Specify dtype option on import or set low_memory=False.\n",
      "  audio_data = pd.read_csv(path, delimiter=\";\", header=None, usecols=lambda x: x not in [\"name\", \"frameTime\"])\n",
      "/scratch/956230/ipykernel_107623/3217025537.py:33: DtypeWarning: Columns (1,2,3,4,5,6,7,8,9,10,11,12,13,14,15,16,17,18,19,20,21,22,23,24) have mixed types. Specify dtype option on import or set low_memory=False.\n",
      "  audio_data = pd.read_csv(path, delimiter=\";\", header=None, usecols=lambda x: x not in [\"name\", \"frameTime\"])\n",
      "/scratch/956230/ipykernel_107623/3217025537.py:33: DtypeWarning: Columns (1,2,3,4,5,6,7,8,9,10,11,12,13,14,15,16,17,18,19,20,21,22,23,24) have mixed types. Specify dtype option on import or set low_memory=False.\n",
      "  audio_data = pd.read_csv(path, delimiter=\";\", header=None, usecols=lambda x: x not in [\"name\", \"frameTime\"])\n",
      "/scratch/956230/ipykernel_107623/3217025537.py:33: DtypeWarning: Columns (1,2,3,4,5,6,7,8,9,10,11,12,13,14,15,16,17,18,19,20,21,22,23,24) have mixed types. Specify dtype option on import or set low_memory=False.\n",
      "  audio_data = pd.read_csv(path, delimiter=\";\", header=None, usecols=lambda x: x not in [\"name\", \"frameTime\"])\n",
      "/scratch/956230/ipykernel_107623/3217025537.py:33: DtypeWarning: Columns (1,2,3,4,5,6,7,8,9,10,11,12,13,14,15,16,17,18,19,20,21,22,23,24) have mixed types. Specify dtype option on import or set low_memory=False.\n",
      "  audio_data = pd.read_csv(path, delimiter=\";\", header=None, usecols=lambda x: x not in [\"name\", \"frameTime\"])\n",
      "/scratch/956230/ipykernel_107623/3217025537.py:33: DtypeWarning: Columns (1,2,3,4,5,6,7,8,9,10,11,12,13,14,15,16,17,18,19,20,21,22,23,24) have mixed types. Specify dtype option on import or set low_memory=False.\n",
      "  audio_data = pd.read_csv(path, delimiter=\";\", header=None, usecols=lambda x: x not in [\"name\", \"frameTime\"])\n",
      "/scratch/956230/ipykernel_107623/3217025537.py:33: DtypeWarning: Columns (1,2,3,4,5,6,7,8,9,10,11,12,13,14,15,16,17,18,19,20,21,22,23,24) have mixed types. Specify dtype option on import or set low_memory=False.\n",
      "  audio_data = pd.read_csv(path, delimiter=\";\", header=None, usecols=lambda x: x not in [\"name\", \"frameTime\"])\n",
      "/scratch/956230/ipykernel_107623/3217025537.py:33: DtypeWarning: Columns (1,2,3,4,5,6,7,8,9,10,11,12,13,14,15,16,17,18,19,20,21,22,23,24) have mixed types. Specify dtype option on import or set low_memory=False.\n",
      "  audio_data = pd.read_csv(path, delimiter=\";\", header=None, usecols=lambda x: x not in [\"name\", \"frameTime\"])\n",
      "/scratch/956230/ipykernel_107623/3217025537.py:33: DtypeWarning: Columns (1,2,3,4,5,6,7,8,9,10,11,12,13,14,15,16,17,18,19,20,21,22,23,24) have mixed types. Specify dtype option on import or set low_memory=False.\n",
      "  audio_data = pd.read_csv(path, delimiter=\";\", header=None, usecols=lambda x: x not in [\"name\", \"frameTime\"])\n",
      "/scratch/956230/ipykernel_107623/3217025537.py:33: DtypeWarning: Columns (1,2,3,4,5,6,7,8,9,10,11,12,13,14,15,16,17,18,19,20,21,22,23,24) have mixed types. Specify dtype option on import or set low_memory=False.\n",
      "  audio_data = pd.read_csv(path, delimiter=\";\", header=None, usecols=lambda x: x not in [\"name\", \"frameTime\"])\n",
      "/scratch/956230/ipykernel_107623/3217025537.py:33: DtypeWarning: Columns (1,2,3,4,5,6,7,8,9,10,11,12,13,14,15,16,17,18,19,20,21,22,23,24) have mixed types. Specify dtype option on import or set low_memory=False.\n",
      "  audio_data = pd.read_csv(path, delimiter=\";\", header=None, usecols=lambda x: x not in [\"name\", \"frameTime\"])\n",
      "/scratch/956230/ipykernel_107623/3217025537.py:33: DtypeWarning: Columns (1,2,3,4,5,6,7,8,9,10,11,12,13,14,15,16,17,18,19,20,21,22,23,24) have mixed types. Specify dtype option on import or set low_memory=False.\n",
      "  audio_data = pd.read_csv(path, delimiter=\";\", header=None, usecols=lambda x: x not in [\"name\", \"frameTime\"])\n",
      "/scratch/956230/ipykernel_107623/3217025537.py:33: DtypeWarning: Columns (1,2,3,4,5,6,7,8,9,10,11,12,13,14,15,16,17,18,19,20,21,22,23,24) have mixed types. Specify dtype option on import or set low_memory=False.\n",
      "  audio_data = pd.read_csv(path, delimiter=\";\", header=None, usecols=lambda x: x not in [\"name\", \"frameTime\"])\n",
      "/scratch/956230/ipykernel_107623/3217025537.py:33: DtypeWarning: Columns (1,2,3,4,5,6,7,8,9,10,11,12,13,14,15,16,17,18,19,20,21,22,23,24) have mixed types. Specify dtype option on import or set low_memory=False.\n",
      "  audio_data = pd.read_csv(path, delimiter=\";\", header=None, usecols=lambda x: x not in [\"name\", \"frameTime\"])\n",
      "/scratch/956230/ipykernel_107623/3217025537.py:33: DtypeWarning: Columns (1,2,3,4,5,6,7,8,9,10,11,12,13,14,15,16,17,18,19,20,21,22,23,24) have mixed types. Specify dtype option on import or set low_memory=False.\n",
      "  audio_data = pd.read_csv(path, delimiter=\";\", header=None, usecols=lambda x: x not in [\"name\", \"frameTime\"])\n",
      "/scratch/956230/ipykernel_107623/3217025537.py:33: DtypeWarning: Columns (1,2,3,4,5,6,7,8,9,10,11,12,13,14,15,16,17,18,19,20,21,22,23,24) have mixed types. Specify dtype option on import or set low_memory=False.\n",
      "  audio_data = pd.read_csv(path, delimiter=\";\", header=None, usecols=lambda x: x not in [\"name\", \"frameTime\"])\n",
      "/scratch/956230/ipykernel_107623/3217025537.py:33: DtypeWarning: Columns (1,2,3,4,5,6,7,8,9,10,11,12,13,14,15,16,17,18,19,20,21,22,23,24) have mixed types. Specify dtype option on import or set low_memory=False.\n",
      "  audio_data = pd.read_csv(path, delimiter=\";\", header=None, usecols=lambda x: x not in [\"name\", \"frameTime\"])\n",
      "/scratch/956230/ipykernel_107623/3217025537.py:33: DtypeWarning: Columns (1,2,3,4,5,6,7,8,9,10,11,12,13,14,15,16,17,18,19,20,21,22,23,24) have mixed types. Specify dtype option on import or set low_memory=False.\n",
      "  audio_data = pd.read_csv(path, delimiter=\";\", header=None, usecols=lambda x: x not in [\"name\", \"frameTime\"])\n",
      "/scratch/956230/ipykernel_107623/3217025537.py:33: DtypeWarning: Columns (1,2,3,4,5,6,7,8,9,10,11,12,13,14,15,16,17,18,19,20,21,22,23,24) have mixed types. Specify dtype option on import or set low_memory=False.\n",
      "  audio_data = pd.read_csv(path, delimiter=\";\", header=None, usecols=lambda x: x not in [\"name\", \"frameTime\"])\n",
      "/scratch/956230/ipykernel_107623/3217025537.py:33: DtypeWarning: Columns (1,2,3,4,5,6,7,8,9,10,11,12,13,14,15,16,17,18,19,20,21,22,23,24) have mixed types. Specify dtype option on import or set low_memory=False.\n",
      "  audio_data = pd.read_csv(path, delimiter=\";\", header=None, usecols=lambda x: x not in [\"name\", \"frameTime\"])\n",
      "/scratch/956230/ipykernel_107623/3217025537.py:33: DtypeWarning: Columns (1,2,3,4,5,6,7,8,9,10,11,12,13,14,15,16,17,18,19,20,21,22,23,24) have mixed types. Specify dtype option on import or set low_memory=False.\n",
      "  audio_data = pd.read_csv(path, delimiter=\";\", header=None, usecols=lambda x: x not in [\"name\", \"frameTime\"])\n",
      "/scratch/956230/ipykernel_107623/3217025537.py:33: DtypeWarning: Columns (1,2,3,4,5,6,7,8,9,10,11,12,13,14,15,16,17,18,19,20,21,22,23,24) have mixed types. Specify dtype option on import or set low_memory=False.\n",
      "  audio_data = pd.read_csv(path, delimiter=\";\", header=None, usecols=lambda x: x not in [\"name\", \"frameTime\"])\n",
      "/scratch/956230/ipykernel_107623/3217025537.py:33: DtypeWarning: Columns (1,2,3,4,5,6,7,8,9,10,11,12,13,14,15,16,17,18,19,20,21,22,23,24) have mixed types. Specify dtype option on import or set low_memory=False.\n",
      "  audio_data = pd.read_csv(path, delimiter=\";\", header=None, usecols=lambda x: x not in [\"name\", \"frameTime\"])\n",
      "/scratch/956230/ipykernel_107623/3217025537.py:33: DtypeWarning: Columns (1,2,3,4,5,6,7,8,9,10,11,12,13,14,15,16,17,18,19,20,21,22,23,24) have mixed types. Specify dtype option on import or set low_memory=False.\n",
      "  audio_data = pd.read_csv(path, delimiter=\";\", header=None, usecols=lambda x: x not in [\"name\", \"frameTime\"])\n",
      "/scratch/956230/ipykernel_107623/3217025537.py:33: DtypeWarning: Columns (1,2,3,4,5,6,7,8,9,10,11,12,13,14,15,16,17,18,19,20,21,22,23,24) have mixed types. Specify dtype option on import or set low_memory=False.\n",
      "  audio_data = pd.read_csv(path, delimiter=\";\", header=None, usecols=lambda x: x not in [\"name\", \"frameTime\"])\n",
      "/scratch/956230/ipykernel_107623/3217025537.py:33: DtypeWarning: Columns (1,2,3,4,5,6,7,8,9,10,11,12,13,14,15,16,17,18,19,20,21,22,23,24) have mixed types. Specify dtype option on import or set low_memory=False.\n",
      "  audio_data = pd.read_csv(path, delimiter=\";\", header=None, usecols=lambda x: x not in [\"name\", \"frameTime\"])\n",
      "/scratch/956230/ipykernel_107623/3217025537.py:33: DtypeWarning: Columns (1,2,3,4,5,6,7,8,9,10,11,12,13,14,15,16,17,18,19,20,21,22,23,24) have mixed types. Specify dtype option on import or set low_memory=False.\n",
      "  audio_data = pd.read_csv(path, delimiter=\";\", header=None, usecols=lambda x: x not in [\"name\", \"frameTime\"])\n",
      "/scratch/956230/ipykernel_107623/3217025537.py:33: DtypeWarning: Columns (1,2,3,4,5,6,7,8,9,10,11,12,13,14,15,16,17,18,19,20,21,22,23,24) have mixed types. Specify dtype option on import or set low_memory=False.\n",
      "  audio_data = pd.read_csv(path, delimiter=\";\", header=None, usecols=lambda x: x not in [\"name\", \"frameTime\"])\n",
      "/scratch/956230/ipykernel_107623/3217025537.py:33: DtypeWarning: Columns (1,2,3,4,5,6,7,8,9,10,11,12,13,14,15,16,17,18,19,20,21,22,23,24) have mixed types. Specify dtype option on import or set low_memory=False.\n",
      "  audio_data = pd.read_csv(path, delimiter=\";\", header=None, usecols=lambda x: x not in [\"name\", \"frameTime\"])\n",
      "/scratch/956230/ipykernel_107623/3217025537.py:33: DtypeWarning: Columns (1,2,3,4,5,6,7,8,9,10,11,12,13,14,15,16,17,18,19,20,21,22,23,24) have mixed types. Specify dtype option on import or set low_memory=False.\n",
      "  audio_data = pd.read_csv(path, delimiter=\";\", header=None, usecols=lambda x: x not in [\"name\", \"frameTime\"])\n",
      "/scratch/956230/ipykernel_107623/3217025537.py:33: DtypeWarning: Columns (1,2,3,4,5,6,7,8,9,10,11,12,13,14,15,16,17,18,19,20,21,22,23,24) have mixed types. Specify dtype option on import or set low_memory=False.\n",
      "  audio_data = pd.read_csv(path, delimiter=\";\", header=None, usecols=lambda x: x not in [\"name\", \"frameTime\"])\n",
      "/scratch/956230/ipykernel_107623/3217025537.py:33: DtypeWarning: Columns (1,2,3,4,5,6,7,8,9,10,11,12,13,14,15,16,17,18,19,20,21,22,23,24) have mixed types. Specify dtype option on import or set low_memory=False.\n",
      "  audio_data = pd.read_csv(path, delimiter=\";\", header=None, usecols=lambda x: x not in [\"name\", \"frameTime\"])\n",
      "/scratch/956230/ipykernel_107623/3217025537.py:33: DtypeWarning: Columns (1,2,3,4,5,6,7,8,9,10,11,12,13,14,15,16,17,18,19,20,21,22,23,24) have mixed types. Specify dtype option on import or set low_memory=False.\n",
      "  audio_data = pd.read_csv(path, delimiter=\";\", header=None, usecols=lambda x: x not in [\"name\", \"frameTime\"])\n",
      "/scratch/956230/ipykernel_107623/3217025537.py:33: DtypeWarning: Columns (1,2,3,4,5,6,7,8,9,10,11,12,13,14,15,16,17,18,19,20,21,22,23,24) have mixed types. Specify dtype option on import or set low_memory=False.\n",
      "  audio_data = pd.read_csv(path, delimiter=\";\", header=None, usecols=lambda x: x not in [\"name\", \"frameTime\"])\n",
      "/scratch/956230/ipykernel_107623/3217025537.py:33: DtypeWarning: Columns (1,2,3,4,5,6,7,8,9,10,11,12,13,14,15,16,17,18,19,20,21,22,23,24) have mixed types. Specify dtype option on import or set low_memory=False.\n",
      "  audio_data = pd.read_csv(path, delimiter=\";\", header=None, usecols=lambda x: x not in [\"name\", \"frameTime\"])\n",
      "/scratch/956230/ipykernel_107623/3217025537.py:33: DtypeWarning: Columns (1,2,3,4,5,6,7,8,9,10,11,12,13,14,15,16,17,18,19,20,21,22,23,24) have mixed types. Specify dtype option on import or set low_memory=False.\n",
      "  audio_data = pd.read_csv(path, delimiter=\";\", header=None, usecols=lambda x: x not in [\"name\", \"frameTime\"])\n",
      "/scratch/956230/ipykernel_107623/3217025537.py:33: DtypeWarning: Columns (1,2,3,4,5,6,7,8,9,10,11,12,13,14,15,16,17,18,19,20,21,22,23,24) have mixed types. Specify dtype option on import or set low_memory=False.\n",
      "  audio_data = pd.read_csv(path, delimiter=\";\", header=None, usecols=lambda x: x not in [\"name\", \"frameTime\"])\n",
      "/scratch/956230/ipykernel_107623/3217025537.py:33: DtypeWarning: Columns (1,2,3,4,5,6,7,8,9,10,11,12,13,14,15,16,17,18,19,20,21,22,23,24) have mixed types. Specify dtype option on import or set low_memory=False.\n",
      "  audio_data = pd.read_csv(path, delimiter=\";\", header=None, usecols=lambda x: x not in [\"name\", \"frameTime\"])\n",
      "/scratch/956230/ipykernel_107623/3217025537.py:33: DtypeWarning: Columns (1,2,3,4,5,6,7,8,9,10,11,12,13,14,15,16,17,18,19,20,21,22,23,24) have mixed types. Specify dtype option on import or set low_memory=False.\n",
      "  audio_data = pd.read_csv(path, delimiter=\";\", header=None, usecols=lambda x: x not in [\"name\", \"frameTime\"])\n",
      "/scratch/956230/ipykernel_107623/3217025537.py:33: DtypeWarning: Columns (1,2,3,4,5,6,7,8,9,10,11,12,13,14,15,16,17,18,19,20,21,22,23,24) have mixed types. Specify dtype option on import or set low_memory=False.\n",
      "  audio_data = pd.read_csv(path, delimiter=\";\", header=None, usecols=lambda x: x not in [\"name\", \"frameTime\"])\n",
      "/scratch/956230/ipykernel_107623/3217025537.py:33: DtypeWarning: Columns (1,2,3,4,5,6,7,8,9,10,11,12,13,14,15,16,17,18,19,20,21,22,23,24) have mixed types. Specify dtype option on import or set low_memory=False.\n",
      "  audio_data = pd.read_csv(path, delimiter=\";\", header=None, usecols=lambda x: x not in [\"name\", \"frameTime\"])\n",
      "/scratch/956230/ipykernel_107623/3217025537.py:33: DtypeWarning: Columns (1,2,3,4,5,6,7,8,9,10,11,12,13,14,15,16,17,18,19,20,21,22,23,24) have mixed types. Specify dtype option on import or set low_memory=False.\n",
      "  audio_data = pd.read_csv(path, delimiter=\";\", header=None, usecols=lambda x: x not in [\"name\", \"frameTime\"])\n",
      "/scratch/956230/ipykernel_107623/3217025537.py:33: DtypeWarning: Columns (1,2,3,4,5,6,7,8,9,10,11,12,13,14,15,16,17,18,19,20,21,22,23,24) have mixed types. Specify dtype option on import or set low_memory=False.\n",
      "  audio_data = pd.read_csv(path, delimiter=\";\", header=None, usecols=lambda x: x not in [\"name\", \"frameTime\"])\n",
      "/scratch/956230/ipykernel_107623/3217025537.py:33: DtypeWarning: Columns (1,2,3,4,5,6,7,8,9,10,11,12,13,14,15,16,17,18,19,20,21,22,23,24) have mixed types. Specify dtype option on import or set low_memory=False.\n",
      "  audio_data = pd.read_csv(path, delimiter=\";\", header=None, usecols=lambda x: x not in [\"name\", \"frameTime\"])\n",
      "/scratch/956230/ipykernel_107623/3217025537.py:33: DtypeWarning: Columns (1,2,3,4,5,6,7,8,9,10,11,12,13,14,15,16,17,18,19,20,21,22,23,24) have mixed types. Specify dtype option on import or set low_memory=False.\n",
      "  audio_data = pd.read_csv(path, delimiter=\";\", header=None, usecols=lambda x: x not in [\"name\", \"frameTime\"])\n",
      "/scratch/956230/ipykernel_107623/3217025537.py:33: DtypeWarning: Columns (1,2,3,4,5,6,7,8,9,10,11,12,13,14,15,16,17,18,19,20,21,22,23,24) have mixed types. Specify dtype option on import or set low_memory=False.\n",
      "  audio_data = pd.read_csv(path, delimiter=\";\", header=None, usecols=lambda x: x not in [\"name\", \"frameTime\"])\n",
      "/scratch/956230/ipykernel_107623/3217025537.py:33: DtypeWarning: Columns (1,2,3,4,5,6,7,8,9,10,11,12,13,14,15,16,17,18,19,20,21,22,23,24) have mixed types. Specify dtype option on import or set low_memory=False.\n",
      "  audio_data = pd.read_csv(path, delimiter=\";\", header=None, usecols=lambda x: x not in [\"name\", \"frameTime\"])\n",
      "/scratch/956230/ipykernel_107623/3217025537.py:33: DtypeWarning: Columns (1,2,3,4,5,6,7,8,9,10,11,12,13,14,15,16,17,18,19,20,21,22,23,24) have mixed types. Specify dtype option on import or set low_memory=False.\n",
      "  audio_data = pd.read_csv(path, delimiter=\";\", header=None, usecols=lambda x: x not in [\"name\", \"frameTime\"])\n",
      "/scratch/956230/ipykernel_107623/3217025537.py:33: DtypeWarning: Columns (1,2,3,4,5,6,7,8,9,10,11,12,13,14,15,16,17,18,19,20,21,22,23,24) have mixed types. Specify dtype option on import or set low_memory=False.\n",
      "  audio_data = pd.read_csv(path, delimiter=\";\", header=None, usecols=lambda x: x not in [\"name\", \"frameTime\"])\n",
      "/scratch/956230/ipykernel_107623/3217025537.py:33: DtypeWarning: Columns (1,2,3,4,5,6,7,8,9,10,11,12,13,14,15,16,17,18,19,20,21,22,23,24) have mixed types. Specify dtype option on import or set low_memory=False.\n",
      "  audio_data = pd.read_csv(path, delimiter=\";\", header=None, usecols=lambda x: x not in [\"name\", \"frameTime\"])\n",
      "/scratch/956230/ipykernel_107623/3217025537.py:33: DtypeWarning: Columns (1,2,3,4,5,6,7,8,9,10,11,12,13,14,15,16,17,18,19,20,21,22,23,24) have mixed types. Specify dtype option on import or set low_memory=False.\n",
      "  audio_data = pd.read_csv(path, delimiter=\";\", header=None, usecols=lambda x: x not in [\"name\", \"frameTime\"])\n",
      "/scratch/956230/ipykernel_107623/3217025537.py:33: DtypeWarning: Columns (1,2,3,4,5,6,7,8,9,10,11,12,13,14,15,16,17,18,19,20,21,22,23,24) have mixed types. Specify dtype option on import or set low_memory=False.\n",
      "  audio_data = pd.read_csv(path, delimiter=\";\", header=None, usecols=lambda x: x not in [\"name\", \"frameTime\"])\n",
      "/scratch/956230/ipykernel_107623/3217025537.py:33: DtypeWarning: Columns (1,2,3,4,5,6,7,8,9,10,11,12,13,14,15,16,17,18,19,20,21,22,23,24) have mixed types. Specify dtype option on import or set low_memory=False.\n",
      "  audio_data = pd.read_csv(path, delimiter=\";\", header=None, usecols=lambda x: x not in [\"name\", \"frameTime\"])\n",
      "/scratch/956230/ipykernel_107623/3217025537.py:33: DtypeWarning: Columns (1,2,3,4,5,6,7,8,9,10,11,12,13,14,15,16,17,18,19,20,21,22,23,24) have mixed types. Specify dtype option on import or set low_memory=False.\n",
      "  audio_data = pd.read_csv(path, delimiter=\";\", header=None, usecols=lambda x: x not in [\"name\", \"frameTime\"])\n",
      "/scratch/956230/ipykernel_107623/3217025537.py:33: DtypeWarning: Columns (1,2,3,4,5,6,7,8,9,10,11,12,13,14,15,16,17,18,19,20,21,22,23,24) have mixed types. Specify dtype option on import or set low_memory=False.\n",
      "  audio_data = pd.read_csv(path, delimiter=\";\", header=None, usecols=lambda x: x not in [\"name\", \"frameTime\"])\n",
      "/scratch/956230/ipykernel_107623/3217025537.py:33: DtypeWarning: Columns (1,2,3,4,5,6,7,8,9,10,11,12,13,14,15,16,17,18,19,20,21,22,23,24) have mixed types. Specify dtype option on import or set low_memory=False.\n",
      "  audio_data = pd.read_csv(path, delimiter=\";\", header=None, usecols=lambda x: x not in [\"name\", \"frameTime\"])\n",
      "/scratch/956230/ipykernel_107623/3217025537.py:33: DtypeWarning: Columns (1,2,3,4,5,6,7,8,9,10,11,12,13,14,15,16,17,18,19,20,21,22,23,24) have mixed types. Specify dtype option on import or set low_memory=False.\n",
      "  audio_data = pd.read_csv(path, delimiter=\";\", header=None, usecols=lambda x: x not in [\"name\", \"frameTime\"])\n",
      "/scratch/956230/ipykernel_107623/3217025537.py:33: DtypeWarning: Columns (1,2,3,4,5,6,7,8,9,10,11,12,13,14,15,16,17,18,19,20,21,22,23,24) have mixed types. Specify dtype option on import or set low_memory=False.\n",
      "  audio_data = pd.read_csv(path, delimiter=\";\", header=None, usecols=lambda x: x not in [\"name\", \"frameTime\"])\n",
      "/scratch/956230/ipykernel_107623/3217025537.py:33: DtypeWarning: Columns (1,2,3,4,5,6,7,8,9,10,11,12,13,14,15,16,17,18,19,20,21,22,23,24) have mixed types. Specify dtype option on import or set low_memory=False.\n",
      "  audio_data = pd.read_csv(path, delimiter=\";\", header=None, usecols=lambda x: x not in [\"name\", \"frameTime\"])\n",
      "/scratch/956230/ipykernel_107623/3217025537.py:33: DtypeWarning: Columns (1,2,3,4,5,6,7,8,9,10,11,12,13,14,15,16,17,18,19,20,21,22,23,24) have mixed types. Specify dtype option on import or set low_memory=False.\n",
      "  audio_data = pd.read_csv(path, delimiter=\";\", header=None, usecols=lambda x: x not in [\"name\", \"frameTime\"])\n",
      "/scratch/956230/ipykernel_107623/3217025537.py:33: DtypeWarning: Columns (1,2,3,4,5,6,7,8,9,10,11,12,13,14,15,16,17,18,19,20,21,22,23,24) have mixed types. Specify dtype option on import or set low_memory=False.\n",
      "  audio_data = pd.read_csv(path, delimiter=\";\", header=None, usecols=lambda x: x not in [\"name\", \"frameTime\"])\n",
      "/scratch/956230/ipykernel_107623/3217025537.py:33: DtypeWarning: Columns (1,2,3,4,5,6,7,8,9,10,11,12,13,14,15,16,17,18,19,20,21,22,23,24) have mixed types. Specify dtype option on import or set low_memory=False.\n",
      "  audio_data = pd.read_csv(path, delimiter=\";\", header=None, usecols=lambda x: x not in [\"name\", \"frameTime\"])\n",
      "/scratch/956230/ipykernel_107623/3217025537.py:33: DtypeWarning: Columns (1,2,3,4,5,6,7,8,9,10,11,12,13,14,15,16,17,18,19,20,21,22,23,24) have mixed types. Specify dtype option on import or set low_memory=False.\n",
      "  audio_data = pd.read_csv(path, delimiter=\";\", header=None, usecols=lambda x: x not in [\"name\", \"frameTime\"])\n",
      "/scratch/956230/ipykernel_107623/3217025537.py:33: DtypeWarning: Columns (1,2,3,4,5,6,7,8,9,10,11,12,13,14,15,16,17,18,19,20,21,22,23,24) have mixed types. Specify dtype option on import or set low_memory=False.\n",
      "  audio_data = pd.read_csv(path, delimiter=\";\", header=None, usecols=lambda x: x not in [\"name\", \"frameTime\"])\n",
      "/scratch/956230/ipykernel_107623/3217025537.py:33: DtypeWarning: Columns (1,2,3,4,5,6,7,8,9,10,11,12,13,14,15,16,17,18,19,20,21,22,23,24) have mixed types. Specify dtype option on import or set low_memory=False.\n",
      "  audio_data = pd.read_csv(path, delimiter=\";\", header=None, usecols=lambda x: x not in [\"name\", \"frameTime\"])\n",
      "/scratch/956230/ipykernel_107623/3217025537.py:33: DtypeWarning: Columns (1,2,3,4,5,6,7,8,9,10,11,12,13,14,15,16,17,18,19,20,21,22,23,24) have mixed types. Specify dtype option on import or set low_memory=False.\n",
      "  audio_data = pd.read_csv(path, delimiter=\";\", header=None, usecols=lambda x: x not in [\"name\", \"frameTime\"])\n",
      "/scratch/956230/ipykernel_107623/3217025537.py:33: DtypeWarning: Columns (1,2,3,4,5,6,7,8,9,10,11,12,13,14,15,16,17,18,19,20,21,22,23,24) have mixed types. Specify dtype option on import or set low_memory=False.\n",
      "  audio_data = pd.read_csv(path, delimiter=\";\", header=None, usecols=lambda x: x not in [\"name\", \"frameTime\"])\n",
      "/scratch/956230/ipykernel_107623/3217025537.py:33: DtypeWarning: Columns (1,2,3,4,5,6,7,8,9,10,11,12,13,14,15,16,17,18,19,20,21,22,23,24) have mixed types. Specify dtype option on import or set low_memory=False.\n",
      "  audio_data = pd.read_csv(path, delimiter=\";\", header=None, usecols=lambda x: x not in [\"name\", \"frameTime\"])\n",
      "/scratch/956230/ipykernel_107623/3217025537.py:33: DtypeWarning: Columns (1,2,3,4,5,6,7,8,9,10,11,12,13,14,15,16,17,18,19,20,21,22,23,24) have mixed types. Specify dtype option on import or set low_memory=False.\n",
      "  audio_data = pd.read_csv(path, delimiter=\";\", header=None, usecols=lambda x: x not in [\"name\", \"frameTime\"])\n",
      "/scratch/956230/ipykernel_107623/3217025537.py:33: DtypeWarning: Columns (1,2,3,4,5,6,7,8,9,10,11,12,13,14,15,16,17,18,19,20,21,22,23,24) have mixed types. Specify dtype option on import or set low_memory=False.\n",
      "  audio_data = pd.read_csv(path, delimiter=\";\", header=None, usecols=lambda x: x not in [\"name\", \"frameTime\"])\n",
      "/scratch/956230/ipykernel_107623/3217025537.py:33: DtypeWarning: Columns (1,2,3,4,5,6,7,8,9,10,11,12,13,14,15,16,17,18,19,20,21,22,23,24) have mixed types. Specify dtype option on import or set low_memory=False.\n",
      "  audio_data = pd.read_csv(path, delimiter=\";\", header=None, usecols=lambda x: x not in [\"name\", \"frameTime\"])\n",
      "/scratch/956230/ipykernel_107623/3217025537.py:33: DtypeWarning: Columns (1,2,3,4,5,6,7,8,9,10,11,12,13,14,15,16,17,18,19,20,21,22,23,24) have mixed types. Specify dtype option on import or set low_memory=False.\n",
      "  audio_data = pd.read_csv(path, delimiter=\";\", header=None, usecols=lambda x: x not in [\"name\", \"frameTime\"])\n",
      "/scratch/956230/ipykernel_107623/3217025537.py:33: DtypeWarning: Columns (1,2,3,4,5,6,7,8,9,10,11,12,13,14,15,16,17,18,19,20,21,22,23,24) have mixed types. Specify dtype option on import or set low_memory=False.\n",
      "  audio_data = pd.read_csv(path, delimiter=\";\", header=None, usecols=lambda x: x not in [\"name\", \"frameTime\"])\n",
      "/scratch/956230/ipykernel_107623/3217025537.py:33: DtypeWarning: Columns (1,2,3,4,5,6,7,8,9,10,11,12,13,14,15,16,17,18,19,20,21,22,23,24) have mixed types. Specify dtype option on import or set low_memory=False.\n",
      "  audio_data = pd.read_csv(path, delimiter=\";\", header=None, usecols=lambda x: x not in [\"name\", \"frameTime\"])\n",
      "/scratch/956230/ipykernel_107623/3217025537.py:33: DtypeWarning: Columns (1,2,3,4,5,6,7,8,9,10,11,12,13,14,15,16,17,18,19,20,21,22,23,24) have mixed types. Specify dtype option on import or set low_memory=False.\n",
      "  audio_data = pd.read_csv(path, delimiter=\";\", header=None, usecols=lambda x: x not in [\"name\", \"frameTime\"])\n",
      "/scratch/956230/ipykernel_107623/3217025537.py:33: DtypeWarning: Columns (1,2,3,4,5,6,7,8,9,10,11,12,13,14,15,16,17,18,19,20,21,22,23,24) have mixed types. Specify dtype option on import or set low_memory=False.\n",
      "  audio_data = pd.read_csv(path, delimiter=\";\", header=None, usecols=lambda x: x not in [\"name\", \"frameTime\"])\n",
      "/scratch/956230/ipykernel_107623/3217025537.py:33: DtypeWarning: Columns (1,2,3,4,5,6,7,8,9,10,11,12,13,14,15,16,17,18,19,20,21,22,23,24) have mixed types. Specify dtype option on import or set low_memory=False.\n",
      "  audio_data = pd.read_csv(path, delimiter=\";\", header=None, usecols=lambda x: x not in [\"name\", \"frameTime\"])\n",
      "/scratch/956230/ipykernel_107623/3217025537.py:33: DtypeWarning: Columns (1,2,3,4,5,6,7,8,9,10,11,12,13,14,15,16,17,18,19,20,21,22,23,24) have mixed types. Specify dtype option on import or set low_memory=False.\n",
      "  audio_data = pd.read_csv(path, delimiter=\";\", header=None, usecols=lambda x: x not in [\"name\", \"frameTime\"])\n",
      "/scratch/956230/ipykernel_107623/3217025537.py:33: DtypeWarning: Columns (1,2,3,4,5,6,7,8,9,10,11,12,13,14,15,16,17,18,19,20,21,22,23,24) have mixed types. Specify dtype option on import or set low_memory=False.\n",
      "  audio_data = pd.read_csv(path, delimiter=\";\", header=None, usecols=lambda x: x not in [\"name\", \"frameTime\"])\n",
      "/scratch/956230/ipykernel_107623/3217025537.py:33: DtypeWarning: Columns (1,2,3,4,5,6,7,8,9,10,11,12,13,14,15,16,17,18,19,20,21,22,23,24) have mixed types. Specify dtype option on import or set low_memory=False.\n",
      "  audio_data = pd.read_csv(path, delimiter=\";\", header=None, usecols=lambda x: x not in [\"name\", \"frameTime\"])\n",
      "/scratch/956230/ipykernel_107623/3217025537.py:33: DtypeWarning: Columns (1,2,3,4,5,6,7,8,9,10,11,12,13,14,15,16,17,18,19,20,21,22,23,24) have mixed types. Specify dtype option on import or set low_memory=False.\n",
      "  audio_data = pd.read_csv(path, delimiter=\";\", header=None, usecols=lambda x: x not in [\"name\", \"frameTime\"])\n",
      "/scratch/956230/ipykernel_107623/3217025537.py:33: DtypeWarning: Columns (1,2,3,4,5,6,7,8,9,10,11,12,13,14,15,16,17,18,19,20,21,22,23,24) have mixed types. Specify dtype option on import or set low_memory=False.\n",
      "  audio_data = pd.read_csv(path, delimiter=\";\", header=None, usecols=lambda x: x not in [\"name\", \"frameTime\"])\n",
      "/scratch/956230/ipykernel_107623/3217025537.py:33: DtypeWarning: Columns (1,2,3,4,5,6,7,8,9,10,11,12,13,14,15,16,17,18,19,20,21,22,23,24) have mixed types. Specify dtype option on import or set low_memory=False.\n",
      "  audio_data = pd.read_csv(path, delimiter=\";\", header=None, usecols=lambda x: x not in [\"name\", \"frameTime\"])\n",
      "/scratch/956230/ipykernel_107623/3217025537.py:33: DtypeWarning: Columns (1,2,3,4,5,6,7,8,9,10,11,12,13,14,15,16,17,18,19,20,21,22,23,24) have mixed types. Specify dtype option on import or set low_memory=False.\n",
      "  audio_data = pd.read_csv(path, delimiter=\";\", header=None, usecols=lambda x: x not in [\"name\", \"frameTime\"])\n",
      "/scratch/956230/ipykernel_107623/3217025537.py:33: DtypeWarning: Columns (1,2,3,4,5,6,7,8,9,10,11,12,13,14,15,16,17,18,19,20,21,22,23,24) have mixed types. Specify dtype option on import or set low_memory=False.\n",
      "  audio_data = pd.read_csv(path, delimiter=\";\", header=None, usecols=lambda x: x not in [\"name\", \"frameTime\"])\n",
      "/scratch/956230/ipykernel_107623/3217025537.py:33: DtypeWarning: Columns (1,2,3,4,5,6,7,8,9,10,11,12,13,14,15,16,17,18,19,20,21,22,23,24) have mixed types. Specify dtype option on import or set low_memory=False.\n",
      "  audio_data = pd.read_csv(path, delimiter=\";\", header=None, usecols=lambda x: x not in [\"name\", \"frameTime\"])\n",
      "/scratch/956230/ipykernel_107623/3217025537.py:33: DtypeWarning: Columns (1,2,3,4,5,6,7,8,9,10,11,12,13,14,15,16,17,18,19,20,21,22,23,24) have mixed types. Specify dtype option on import or set low_memory=False.\n",
      "  audio_data = pd.read_csv(path, delimiter=\";\", header=None, usecols=lambda x: x not in [\"name\", \"frameTime\"])\n",
      "/scratch/956230/ipykernel_107623/3217025537.py:33: DtypeWarning: Columns (1,2,3,4,5,6,7,8,9,10,11,12,13,14,15,16,17,18,19,20,21,22,23,24) have mixed types. Specify dtype option on import or set low_memory=False.\n",
      "  audio_data = pd.read_csv(path, delimiter=\";\", header=None, usecols=lambda x: x not in [\"name\", \"frameTime\"])\n",
      "/scratch/956230/ipykernel_107623/3217025537.py:33: DtypeWarning: Columns (1,2,3,4,5,6,7,8,9,10,11,12,13,14,15,16,17,18,19,20,21,22,23,24) have mixed types. Specify dtype option on import or set low_memory=False.\n",
      "  audio_data = pd.read_csv(path, delimiter=\";\", header=None, usecols=lambda x: x not in [\"name\", \"frameTime\"])\n",
      "/scratch/956230/ipykernel_107623/3217025537.py:33: DtypeWarning: Columns (1,2,3,4,5,6,7,8,9,10,11,12,13,14,15,16,17,18,19,20,21,22,23,24) have mixed types. Specify dtype option on import or set low_memory=False.\n",
      "  audio_data = pd.read_csv(path, delimiter=\";\", header=None, usecols=lambda x: x not in [\"name\", \"frameTime\"])\n",
      "/scratch/956230/ipykernel_107623/3217025537.py:33: DtypeWarning: Columns (1,2,3,4,5,6,7,8,9,10,11,12,13,14,15,16,17,18,19,20,21,22,23,24) have mixed types. Specify dtype option on import or set low_memory=False.\n",
      "  audio_data = pd.read_csv(path, delimiter=\";\", header=None, usecols=lambda x: x not in [\"name\", \"frameTime\"])\n",
      "/scratch/956230/ipykernel_107623/3217025537.py:33: DtypeWarning: Columns (1,2,3,4,5,6,7,8,9,10,11,12,13,14,15,16,17,18,19,20,21,22,23,24) have mixed types. Specify dtype option on import or set low_memory=False.\n",
      "  audio_data = pd.read_csv(path, delimiter=\";\", header=None, usecols=lambda x: x not in [\"name\", \"frameTime\"])\n",
      "/scratch/956230/ipykernel_107623/3217025537.py:33: DtypeWarning: Columns (1,2,3,4,5,6,7,8,9,10,11,12,13,14,15,16,17,18,19,20,21,22,23,24) have mixed types. Specify dtype option on import or set low_memory=False.\n",
      "  audio_data = pd.read_csv(path, delimiter=\";\", header=None, usecols=lambda x: x not in [\"name\", \"frameTime\"])\n",
      "/scratch/956230/ipykernel_107623/3217025537.py:33: DtypeWarning: Columns (1,2,3,4,5,6,7,8,9,10,11,12,13,14,15,16,17,18,19,20,21,22,23,24) have mixed types. Specify dtype option on import or set low_memory=False.\n",
      "  audio_data = pd.read_csv(path, delimiter=\";\", header=None, usecols=lambda x: x not in [\"name\", \"frameTime\"])\n",
      "/scratch/956230/ipykernel_107623/3217025537.py:33: DtypeWarning: Columns (1,2,3,4,5,6,7,8,9,10,11,12,13,14,15,16,17,18,19,20,21,22,23,24) have mixed types. Specify dtype option on import or set low_memory=False.\n",
      "  audio_data = pd.read_csv(path, delimiter=\";\", header=None, usecols=lambda x: x not in [\"name\", \"frameTime\"])\n",
      "/scratch/956230/ipykernel_107623/3217025537.py:33: DtypeWarning: Columns (1,2,3,4,5,6,7,8,9,10,11,12,13,14,15,16,17,18,19,20,21,22,23,24) have mixed types. Specify dtype option on import or set low_memory=False.\n",
      "  audio_data = pd.read_csv(path, delimiter=\";\", header=None, usecols=lambda x: x not in [\"name\", \"frameTime\"])\n",
      "/scratch/956230/ipykernel_107623/3217025537.py:33: DtypeWarning: Columns (1,2,3,4,5,6,7,8,9,10,11,12,13,14,15,16,17,18,19,20,21,22,23,24) have mixed types. Specify dtype option on import or set low_memory=False.\n",
      "  audio_data = pd.read_csv(path, delimiter=\";\", header=None, usecols=lambda x: x not in [\"name\", \"frameTime\"])\n",
      "/scratch/956230/ipykernel_107623/3217025537.py:33: DtypeWarning: Columns (1,2,3,4,5,6,7,8,9,10,11,12,13,14,15,16,17,18,19,20,21,22,23,24) have mixed types. Specify dtype option on import or set low_memory=False.\n",
      "  audio_data = pd.read_csv(path, delimiter=\";\", header=None, usecols=lambda x: x not in [\"name\", \"frameTime\"])\n",
      "/scratch/956230/ipykernel_107623/3217025537.py:33: DtypeWarning: Columns (1,2,3,4,5,6,7,8,9,10,11,12,13,14,15,16,17,18,19,20,21,22,23,24) have mixed types. Specify dtype option on import or set low_memory=False.\n",
      "  audio_data = pd.read_csv(path, delimiter=\";\", header=None, usecols=lambda x: x not in [\"name\", \"frameTime\"])\n",
      "/scratch/956230/ipykernel_107623/3217025537.py:33: DtypeWarning: Columns (1,2,3,4,5,6,7,8,9,10,11,12,13,14,15,16,17,18,19,20,21,22,23,24) have mixed types. Specify dtype option on import or set low_memory=False.\n",
      "  audio_data = pd.read_csv(path, delimiter=\";\", header=None, usecols=lambda x: x not in [\"name\", \"frameTime\"])\n",
      "/scratch/956230/ipykernel_107623/3217025537.py:33: DtypeWarning: Columns (1,2,3,4,5,6,7,8,9,10,11,12,13,14,15,16,17,18,19,20,21,22,23,24) have mixed types. Specify dtype option on import or set low_memory=False.\n",
      "  audio_data = pd.read_csv(path, delimiter=\";\", header=None, usecols=lambda x: x not in [\"name\", \"frameTime\"])\n",
      "/scratch/956230/ipykernel_107623/3217025537.py:33: DtypeWarning: Columns (1,2,3,4,5,6,7,8,9,10,11,12,13,14,15,16,17,18,19,20,21,22,23,24) have mixed types. Specify dtype option on import or set low_memory=False.\n",
      "  audio_data = pd.read_csv(path, delimiter=\";\", header=None, usecols=lambda x: x not in [\"name\", \"frameTime\"])\n",
      "/scratch/956230/ipykernel_107623/3217025537.py:33: DtypeWarning: Columns (1,2,3,4,5,6,7,8,9,10,11,12,13,14,15,16,17,18,19,20,21,22,23,24) have mixed types. Specify dtype option on import or set low_memory=False.\n",
      "  audio_data = pd.read_csv(path, delimiter=\";\", header=None, usecols=lambda x: x not in [\"name\", \"frameTime\"])\n",
      "/scratch/956230/ipykernel_107623/3217025537.py:33: DtypeWarning: Columns (1,2,3,4,5,6,7,8,9,10,11,12,13,14,15,16,17,18,19,20,21,22,23,24) have mixed types. Specify dtype option on import or set low_memory=False.\n",
      "  audio_data = pd.read_csv(path, delimiter=\";\", header=None, usecols=lambda x: x not in [\"name\", \"frameTime\"])\n",
      "/scratch/956230/ipykernel_107623/3217025537.py:33: DtypeWarning: Columns (1,2,3,4,5,6,7,8,9,10,11,12,13,14,15,16,17,18,19,20,21,22,23,24) have mixed types. Specify dtype option on import or set low_memory=False.\n",
      "  audio_data = pd.read_csv(path, delimiter=\";\", header=None, usecols=lambda x: x not in [\"name\", \"frameTime\"])\n",
      "/scratch/956230/ipykernel_107623/3217025537.py:33: DtypeWarning: Columns (1,2,3,4,5,6,7,8,9,10,11,12,13,14,15,16,17,18,19,20,21,22,23,24) have mixed types. Specify dtype option on import or set low_memory=False.\n",
      "  audio_data = pd.read_csv(path, delimiter=\";\", header=None, usecols=lambda x: x not in [\"name\", \"frameTime\"])\n",
      "/scratch/956230/ipykernel_107623/3217025537.py:33: DtypeWarning: Columns (1,2,3,4,5,6,7,8,9,10,11,12,13,14,15,16,17,18,19,20,21,22,23,24) have mixed types. Specify dtype option on import or set low_memory=False.\n",
      "  audio_data = pd.read_csv(path, delimiter=\";\", header=None, usecols=lambda x: x not in [\"name\", \"frameTime\"])\n",
      "/scratch/956230/ipykernel_107623/3217025537.py:33: DtypeWarning: Columns (1,2,3,4,5,6,7,8,9,10,11,12,13,14,15,16,17,18,19,20,21,22,23,24) have mixed types. Specify dtype option on import or set low_memory=False.\n",
      "  audio_data = pd.read_csv(path, delimiter=\";\", header=None, usecols=lambda x: x not in [\"name\", \"frameTime\"])\n",
      "/scratch/956230/ipykernel_107623/3217025537.py:33: DtypeWarning: Columns (1,2,3,4,5,6,7,8,9,10,11,12,13,14,15,16,17,18,19,20,21,22,23,24) have mixed types. Specify dtype option on import or set low_memory=False.\n",
      "  audio_data = pd.read_csv(path, delimiter=\";\", header=None, usecols=lambda x: x not in [\"name\", \"frameTime\"])\n",
      "/scratch/956230/ipykernel_107623/3217025537.py:33: DtypeWarning: Columns (1,2,3,4,5,6,7,8,9,10,11,12,13,14,15,16,17,18,19,20,21,22,23,24) have mixed types. Specify dtype option on import or set low_memory=False.\n",
      "  audio_data = pd.read_csv(path, delimiter=\";\", header=None, usecols=lambda x: x not in [\"name\", \"frameTime\"])\n",
      "/scratch/956230/ipykernel_107623/3217025537.py:33: DtypeWarning: Columns (1,2,3,4,5,6,7,8,9,10,11,12,13,14,15,16,17,18,19,20,21,22,23,24) have mixed types. Specify dtype option on import or set low_memory=False.\n",
      "  audio_data = pd.read_csv(path, delimiter=\";\", header=None, usecols=lambda x: x not in [\"name\", \"frameTime\"])\n",
      "/scratch/956230/ipykernel_107623/3217025537.py:33: DtypeWarning: Columns (1,2,3,4,5,6,7,8,9,10,11,12,13,14,15,16,17,18,19,20,21,22,23,24) have mixed types. Specify dtype option on import or set low_memory=False.\n",
      "  audio_data = pd.read_csv(path, delimiter=\";\", header=None, usecols=lambda x: x not in [\"name\", \"frameTime\"])\n",
      "/scratch/956230/ipykernel_107623/3217025537.py:33: DtypeWarning: Columns (1,2,3,4,5,6,7,8,9,10,11,12,13,14,15,16,17,18,19,20,21,22,23,24) have mixed types. Specify dtype option on import or set low_memory=False.\n",
      "  audio_data = pd.read_csv(path, delimiter=\";\", header=None, usecols=lambda x: x not in [\"name\", \"frameTime\"])\n"
     ]
    },
    {
     "ename": "AttributeError",
     "evalue": "'numpy.ndarray' object has no attribute 'median'",
     "output_type": "error",
     "traceback": [
      "\u001b[0;31m---------------------------------------------------------------------------\u001b[0m",
      "\u001b[0;31mAttributeError\u001b[0m                            Traceback (most recent call last)",
      "Cell \u001b[0;32mIn[37], line 1\u001b[0m\n\u001b[0;32m----> 1\u001b[0m d \u001b[39m=\u001b[39m _compute_normalization_stats_aggregate(features_csv[features_csv[\u001b[39m\"\u001b[39;49m\u001b[39msplit\u001b[39;49m\u001b[39m\"\u001b[39;49m]\u001b[39m==\u001b[39;49m\u001b[39m\"\u001b[39;49m\u001b[39mtrain\u001b[39;49m\u001b[39m\"\u001b[39;49m], \u001b[39m\"\u001b[39;49m\u001b[39maud_egemaps\u001b[39;49m\u001b[39m\"\u001b[39;49m)\n",
      "Cell \u001b[0;32mIn[36], line 38\u001b[0m, in \u001b[0;36m_compute_normalization_stats_aggregate\u001b[0;34m(dataframe, path_col)\u001b[0m\n\u001b[1;32m     36\u001b[0m all_data \u001b[39m=\u001b[39m np\u001b[39m.\u001b[39mconcatenate(all_data, axis\u001b[39m=\u001b[39m\u001b[39m0\u001b[39m)\n\u001b[1;32m     37\u001b[0m m, st \u001b[39m=\u001b[39m all_data\u001b[39m.\u001b[39mmean(axis\u001b[39m=\u001b[39m\u001b[39m0\u001b[39m), all_data\u001b[39m.\u001b[39mstd(axis\u001b[39m=\u001b[39m\u001b[39m0\u001b[39m)\n\u001b[0;32m---> 38\u001b[0m data \u001b[39m=\u001b[39m _aggregate_features(all_data, m, st)\n\u001b[1;32m     39\u001b[0m m, st \u001b[39m=\u001b[39m data\u001b[39m.\u001b[39mmean(axis\u001b[39m=\u001b[39m\u001b[39m0\u001b[39m), data\u001b[39m.\u001b[39mstd(axis\u001b[39m=\u001b[39m\u001b[39m0\u001b[39m)\n\u001b[1;32m     40\u001b[0m \u001b[39mreturn\u001b[39;00m (data \u001b[39m-\u001b[39m m) \u001b[39m/\u001b[39m st\n",
      "Cell \u001b[0;32mIn[36], line 7\u001b[0m, in \u001b[0;36m_aggregate_features\u001b[0;34m(data, mean, std)\u001b[0m\n\u001b[1;32m      4\u001b[0m \u001b[39mdef\u001b[39;00m \u001b[39m_aggregate_features\u001b[39m(data, mean, std):\n\u001b[1;32m      5\u001b[0m     \n\u001b[1;32m      6\u001b[0m     \u001b[39m# Calculate median\u001b[39;00m\n\u001b[0;32m----> 7\u001b[0m     median \u001b[39m=\u001b[39m data\u001b[39m.\u001b[39;49mmedian(dim\u001b[39m=\u001b[39m\u001b[39m0\u001b[39m)\u001b[39m.\u001b[39mvalues\n\u001b[1;32m      9\u001b[0m     \u001b[39m# Calculate min and max\u001b[39;00m\n\u001b[1;32m     10\u001b[0m     min_val \u001b[39m=\u001b[39m data\u001b[39m.\u001b[39mmin(dim\u001b[39m=\u001b[39m\u001b[39m0\u001b[39m)\u001b[39m.\u001b[39mvalues\n",
      "\u001b[0;31mAttributeError\u001b[0m: 'numpy.ndarray' object has no attribute 'median'"
     ]
    }
   ],
   "source": [
    "d = _compute_normalization_stats_aggregate(features_csv[features_csv[\"split\"]==\"train\"], \"aud_egemaps\")"
   ]
  },
  {
   "cell_type": "code",
   "execution_count": null,
   "metadata": {},
   "outputs": [],
   "source": [
    "print(d.shape)"
   ]
  },
  {
   "cell_type": "code",
   "execution_count": null,
   "metadata": {},
   "outputs": [],
   "source": []
  },
  {
   "cell_type": "code",
   "execution_count": 31,
   "metadata": {},
   "outputs": [
    {
     "name": "stderr",
     "output_type": "stream",
     "text": [
      "/scratch/956230/ipykernel_107623/3585190051.py:20: DtypeWarning: Columns (1,2,3,4,5,6,7,8,9,10,11,12,13,14,15,16,17,18,19,20,21,22,23,24) have mixed types. Specify dtype option on import or set low_memory=False.\n",
      "  audio_data = pd.read_csv(path, delimiter=\";\", header=None, usecols=lambda x: x not in [\"name\", \"frameTime\"])\n",
      "/scratch/956230/ipykernel_107623/3585190051.py:20: DtypeWarning: Columns (1,2,3,4,5,6,7,8,9,10,11,12,13,14,15,16,17,18,19,20,21,22,23,24) have mixed types. Specify dtype option on import or set low_memory=False.\n",
      "  audio_data = pd.read_csv(path, delimiter=\";\", header=None, usecols=lambda x: x not in [\"name\", \"frameTime\"])\n",
      "/scratch/956230/ipykernel_107623/3585190051.py:20: DtypeWarning: Columns (1,2,3,4,5,6,7,8,9,10,11,12,13,14,15,16,17,18,19,20,21,22,23,24) have mixed types. Specify dtype option on import or set low_memory=False.\n",
      "  audio_data = pd.read_csv(path, delimiter=\";\", header=None, usecols=lambda x: x not in [\"name\", \"frameTime\"])\n",
      "/scratch/956230/ipykernel_107623/3585190051.py:20: DtypeWarning: Columns (1,2,3,4,5,6,7,8,9,10,11,12,13,14,15,16,17,18,19,20,21,22,23,24) have mixed types. Specify dtype option on import or set low_memory=False.\n",
      "  audio_data = pd.read_csv(path, delimiter=\";\", header=None, usecols=lambda x: x not in [\"name\", \"frameTime\"])\n",
      "/scratch/956230/ipykernel_107623/3585190051.py:20: DtypeWarning: Columns (1,2,3,4,5,6,7,8,9,10,11,12,13,14,15,16,17,18,19,20,21,22,23,24) have mixed types. Specify dtype option on import or set low_memory=False.\n",
      "  audio_data = pd.read_csv(path, delimiter=\";\", header=None, usecols=lambda x: x not in [\"name\", \"frameTime\"])\n",
      "/scratch/956230/ipykernel_107623/3585190051.py:20: DtypeWarning: Columns (1,2,3,4,5,6,7,8,9,10,11,12,13,14,15,16,17,18,19,20,21,22,23,24) have mixed types. Specify dtype option on import or set low_memory=False.\n",
      "  audio_data = pd.read_csv(path, delimiter=\";\", header=None, usecols=lambda x: x not in [\"name\", \"frameTime\"])\n",
      "/scratch/956230/ipykernel_107623/3585190051.py:20: DtypeWarning: Columns (1,2,3,4,5,6,7,8,9,10,11,12,13,14,15,16,17,18,19,20,21,22,23,24) have mixed types. Specify dtype option on import or set low_memory=False.\n",
      "  audio_data = pd.read_csv(path, delimiter=\";\", header=None, usecols=lambda x: x not in [\"name\", \"frameTime\"])\n",
      "/scratch/956230/ipykernel_107623/3585190051.py:20: DtypeWarning: Columns (1,2,3,4,5,6,7,8,9,10,11,12,13,14,15,16,17,18,19,20,21,22,23,24) have mixed types. Specify dtype option on import or set low_memory=False.\n",
      "  audio_data = pd.read_csv(path, delimiter=\";\", header=None, usecols=lambda x: x not in [\"name\", \"frameTime\"])\n",
      "/scratch/956230/ipykernel_107623/3585190051.py:20: DtypeWarning: Columns (1,2,3,4,5,6,7,8,9,10,11,12,13,14,15,16,17,18,19,20,21,22,23,24) have mixed types. Specify dtype option on import or set low_memory=False.\n",
      "  audio_data = pd.read_csv(path, delimiter=\";\", header=None, usecols=lambda x: x not in [\"name\", \"frameTime\"])\n",
      "/scratch/956230/ipykernel_107623/3585190051.py:20: DtypeWarning: Columns (1,2,3,4,5,6,7,8,9,10,11,12,13,14,15,16,17,18,19,20,21,22,23,24) have mixed types. Specify dtype option on import or set low_memory=False.\n",
      "  audio_data = pd.read_csv(path, delimiter=\";\", header=None, usecols=lambda x: x not in [\"name\", \"frameTime\"])\n",
      "/scratch/956230/ipykernel_107623/3585190051.py:20: DtypeWarning: Columns (1,2,3,4,5,6,7,8,9,10,11,12,13,14,15,16,17,18,19,20,21,22,23,24) have mixed types. Specify dtype option on import or set low_memory=False.\n",
      "  audio_data = pd.read_csv(path, delimiter=\";\", header=None, usecols=lambda x: x not in [\"name\", \"frameTime\"])\n",
      "/scratch/956230/ipykernel_107623/3585190051.py:20: DtypeWarning: Columns (1,2,3,4,5,6,7,8,9,10,11,12,13,14,15,16,17,18,19,20,21,22,23,24) have mixed types. Specify dtype option on import or set low_memory=False.\n",
      "  audio_data = pd.read_csv(path, delimiter=\";\", header=None, usecols=lambda x: x not in [\"name\", \"frameTime\"])\n",
      "/scratch/956230/ipykernel_107623/3585190051.py:20: DtypeWarning: Columns (1,2,3,4,5,6,7,8,9,10,11,12,13,14,15,16,17,18,19,20,21,22,23,24) have mixed types. Specify dtype option on import or set low_memory=False.\n",
      "  audio_data = pd.read_csv(path, delimiter=\";\", header=None, usecols=lambda x: x not in [\"name\", \"frameTime\"])\n",
      "/scratch/956230/ipykernel_107623/3585190051.py:20: DtypeWarning: Columns (1,2,3,4,5,6,7,8,9,10,11,12,13,14,15,16,17,18,19,20,21,22,23,24) have mixed types. Specify dtype option on import or set low_memory=False.\n",
      "  audio_data = pd.read_csv(path, delimiter=\";\", header=None, usecols=lambda x: x not in [\"name\", \"frameTime\"])\n",
      "/scratch/956230/ipykernel_107623/3585190051.py:20: DtypeWarning: Columns (1,2,3,4,5,6,7,8,9,10,11,12,13,14,15,16,17,18,19,20,21,22,23,24) have mixed types. Specify dtype option on import or set low_memory=False.\n",
      "  audio_data = pd.read_csv(path, delimiter=\";\", header=None, usecols=lambda x: x not in [\"name\", \"frameTime\"])\n",
      "/scratch/956230/ipykernel_107623/3585190051.py:20: DtypeWarning: Columns (1,2,3,4,5,6,7,8,9,10,11,12,13,14,15,16,17,18,19,20,21,22,23,24) have mixed types. Specify dtype option on import or set low_memory=False.\n",
      "  audio_data = pd.read_csv(path, delimiter=\";\", header=None, usecols=lambda x: x not in [\"name\", \"frameTime\"])\n",
      "/scratch/956230/ipykernel_107623/3585190051.py:20: DtypeWarning: Columns (1,2,3,4,5,6,7,8,9,10,11,12,13,14,15,16,17,18,19,20,21,22,23,24) have mixed types. Specify dtype option on import or set low_memory=False.\n",
      "  audio_data = pd.read_csv(path, delimiter=\";\", header=None, usecols=lambda x: x not in [\"name\", \"frameTime\"])\n",
      "/scratch/956230/ipykernel_107623/3585190051.py:20: DtypeWarning: Columns (1,2,3,4,5,6,7,8,9,10,11,12,13,14,15,16,17,18,19,20,21,22,23,24) have mixed types. Specify dtype option on import or set low_memory=False.\n",
      "  audio_data = pd.read_csv(path, delimiter=\";\", header=None, usecols=lambda x: x not in [\"name\", \"frameTime\"])\n",
      "/scratch/956230/ipykernel_107623/3585190051.py:20: DtypeWarning: Columns (1,2,3,4,5,6,7,8,9,10,11,12,13,14,15,16,17,18,19,20,21,22,23,24) have mixed types. Specify dtype option on import or set low_memory=False.\n",
      "  audio_data = pd.read_csv(path, delimiter=\";\", header=None, usecols=lambda x: x not in [\"name\", \"frameTime\"])\n",
      "/scratch/956230/ipykernel_107623/3585190051.py:20: DtypeWarning: Columns (1,2,3,4,5,6,7,8,9,10,11,12,13,14,15,16,17,18,19,20,21,22,23,24) have mixed types. Specify dtype option on import or set low_memory=False.\n",
      "  audio_data = pd.read_csv(path, delimiter=\";\", header=None, usecols=lambda x: x not in [\"name\", \"frameTime\"])\n",
      "/scratch/956230/ipykernel_107623/3585190051.py:20: DtypeWarning: Columns (1,2,3,4,5,6,7,8,9,10,11,12,13,14,15,16,17,18,19,20,21,22,23,24) have mixed types. Specify dtype option on import or set low_memory=False.\n",
      "  audio_data = pd.read_csv(path, delimiter=\";\", header=None, usecols=lambda x: x not in [\"name\", \"frameTime\"])\n",
      "/scratch/956230/ipykernel_107623/3585190051.py:20: DtypeWarning: Columns (1,2,3,4,5,6,7,8,9,10,11,12,13,14,15,16,17,18,19,20,21,22,23,24) have mixed types. Specify dtype option on import or set low_memory=False.\n",
      "  audio_data = pd.read_csv(path, delimiter=\";\", header=None, usecols=lambda x: x not in [\"name\", \"frameTime\"])\n",
      "/scratch/956230/ipykernel_107623/3585190051.py:20: DtypeWarning: Columns (1,2,3,4,5,6,7,8,9,10,11,12,13,14,15,16,17,18,19,20,21,22,23,24) have mixed types. Specify dtype option on import or set low_memory=False.\n",
      "  audio_data = pd.read_csv(path, delimiter=\";\", header=None, usecols=lambda x: x not in [\"name\", \"frameTime\"])\n",
      "/scratch/956230/ipykernel_107623/3585190051.py:20: DtypeWarning: Columns (1,2,3,4,5,6,7,8,9,10,11,12,13,14,15,16,17,18,19,20,21,22,23,24) have mixed types. Specify dtype option on import or set low_memory=False.\n",
      "  audio_data = pd.read_csv(path, delimiter=\";\", header=None, usecols=lambda x: x not in [\"name\", \"frameTime\"])\n",
      "/scratch/956230/ipykernel_107623/3585190051.py:20: DtypeWarning: Columns (1,2,3,4,5,6,7,8,9,10,11,12,13,14,15,16,17,18,19,20,21,22,23,24) have mixed types. Specify dtype option on import or set low_memory=False.\n",
      "  audio_data = pd.read_csv(path, delimiter=\";\", header=None, usecols=lambda x: x not in [\"name\", \"frameTime\"])\n",
      "/scratch/956230/ipykernel_107623/3585190051.py:20: DtypeWarning: Columns (1,2,3,4,5,6,7,8,9,10,11,12,13,14,15,16,17,18,19,20,21,22,23,24) have mixed types. Specify dtype option on import or set low_memory=False.\n",
      "  audio_data = pd.read_csv(path, delimiter=\";\", header=None, usecols=lambda x: x not in [\"name\", \"frameTime\"])\n",
      "/scratch/956230/ipykernel_107623/3585190051.py:20: DtypeWarning: Columns (1,2,3,4,5,6,7,8,9,10,11,12,13,14,15,16,17,18,19,20,21,22,23,24) have mixed types. Specify dtype option on import or set low_memory=False.\n",
      "  audio_data = pd.read_csv(path, delimiter=\";\", header=None, usecols=lambda x: x not in [\"name\", \"frameTime\"])\n",
      "/scratch/956230/ipykernel_107623/3585190051.py:20: DtypeWarning: Columns (1,2,3,4,5,6,7,8,9,10,11,12,13,14,15,16,17,18,19,20,21,22,23,24) have mixed types. Specify dtype option on import or set low_memory=False.\n",
      "  audio_data = pd.read_csv(path, delimiter=\";\", header=None, usecols=lambda x: x not in [\"name\", \"frameTime\"])\n",
      "/scratch/956230/ipykernel_107623/3585190051.py:20: DtypeWarning: Columns (1,2,3,4,5,6,7,8,9,10,11,12,13,14,15,16,17,18,19,20,21,22,23,24) have mixed types. Specify dtype option on import or set low_memory=False.\n",
      "  audio_data = pd.read_csv(path, delimiter=\";\", header=None, usecols=lambda x: x not in [\"name\", \"frameTime\"])\n",
      "/scratch/956230/ipykernel_107623/3585190051.py:20: DtypeWarning: Columns (1,2,3,4,5,6,7,8,9,10,11,12,13,14,15,16,17,18,19,20,21,22,23,24) have mixed types. Specify dtype option on import or set low_memory=False.\n",
      "  audio_data = pd.read_csv(path, delimiter=\";\", header=None, usecols=lambda x: x not in [\"name\", \"frameTime\"])\n",
      "/scratch/956230/ipykernel_107623/3585190051.py:20: DtypeWarning: Columns (1,2,3,4,5,6,7,8,9,10,11,12,13,14,15,16,17,18,19,20,21,22,23,24) have mixed types. Specify dtype option on import or set low_memory=False.\n",
      "  audio_data = pd.read_csv(path, delimiter=\";\", header=None, usecols=lambda x: x not in [\"name\", \"frameTime\"])\n",
      "/scratch/956230/ipykernel_107623/3585190051.py:20: DtypeWarning: Columns (1,2,3,4,5,6,7,8,9,10,11,12,13,14,15,16,17,18,19,20,21,22,23,24) have mixed types. Specify dtype option on import or set low_memory=False.\n",
      "  audio_data = pd.read_csv(path, delimiter=\";\", header=None, usecols=lambda x: x not in [\"name\", \"frameTime\"])\n",
      "/scratch/956230/ipykernel_107623/3585190051.py:20: DtypeWarning: Columns (1,2,3,4,5,6,7,8,9,10,11,12,13,14,15,16,17,18,19,20,21,22,23,24) have mixed types. Specify dtype option on import or set low_memory=False.\n",
      "  audio_data = pd.read_csv(path, delimiter=\";\", header=None, usecols=lambda x: x not in [\"name\", \"frameTime\"])\n",
      "/scratch/956230/ipykernel_107623/3585190051.py:20: DtypeWarning: Columns (1,2,3,4,5,6,7,8,9,10,11,12,13,14,15,16,17,18,19,20,21,22,23,24) have mixed types. Specify dtype option on import or set low_memory=False.\n",
      "  audio_data = pd.read_csv(path, delimiter=\";\", header=None, usecols=lambda x: x not in [\"name\", \"frameTime\"])\n",
      "/scratch/956230/ipykernel_107623/3585190051.py:20: DtypeWarning: Columns (1,2,3,4,5,6,7,8,9,10,11,12,13,14,15,16,17,18,19,20,21,22,23,24) have mixed types. Specify dtype option on import or set low_memory=False.\n",
      "  audio_data = pd.read_csv(path, delimiter=\";\", header=None, usecols=lambda x: x not in [\"name\", \"frameTime\"])\n",
      "/scratch/956230/ipykernel_107623/3585190051.py:20: DtypeWarning: Columns (1,2,3,4,5,6,7,8,9,10,11,12,13,14,15,16,17,18,19,20,21,22,23,24) have mixed types. Specify dtype option on import or set low_memory=False.\n",
      "  audio_data = pd.read_csv(path, delimiter=\";\", header=None, usecols=lambda x: x not in [\"name\", \"frameTime\"])\n",
      "/scratch/956230/ipykernel_107623/3585190051.py:20: DtypeWarning: Columns (1,2,3,4,5,6,7,8,9,10,11,12,13,14,15,16,17,18,19,20,21,22,23,24) have mixed types. Specify dtype option on import or set low_memory=False.\n",
      "  audio_data = pd.read_csv(path, delimiter=\";\", header=None, usecols=lambda x: x not in [\"name\", \"frameTime\"])\n",
      "/scratch/956230/ipykernel_107623/3585190051.py:20: DtypeWarning: Columns (1,2,3,4,5,6,7,8,9,10,11,12,13,14,15,16,17,18,19,20,21,22,23,24) have mixed types. Specify dtype option on import or set low_memory=False.\n",
      "  audio_data = pd.read_csv(path, delimiter=\";\", header=None, usecols=lambda x: x not in [\"name\", \"frameTime\"])\n",
      "/scratch/956230/ipykernel_107623/3585190051.py:20: DtypeWarning: Columns (1,2,3,4,5,6,7,8,9,10,11,12,13,14,15,16,17,18,19,20,21,22,23,24) have mixed types. Specify dtype option on import or set low_memory=False.\n",
      "  audio_data = pd.read_csv(path, delimiter=\";\", header=None, usecols=lambda x: x not in [\"name\", \"frameTime\"])\n",
      "/scratch/956230/ipykernel_107623/3585190051.py:20: DtypeWarning: Columns (1,2,3,4,5,6,7,8,9,10,11,12,13,14,15,16,17,18,19,20,21,22,23,24) have mixed types. Specify dtype option on import or set low_memory=False.\n",
      "  audio_data = pd.read_csv(path, delimiter=\";\", header=None, usecols=lambda x: x not in [\"name\", \"frameTime\"])\n",
      "/scratch/956230/ipykernel_107623/3585190051.py:20: DtypeWarning: Columns (1,2,3,4,5,6,7,8,9,10,11,12,13,14,15,16,17,18,19,20,21,22,23,24) have mixed types. Specify dtype option on import or set low_memory=False.\n",
      "  audio_data = pd.read_csv(path, delimiter=\";\", header=None, usecols=lambda x: x not in [\"name\", \"frameTime\"])\n",
      "/scratch/956230/ipykernel_107623/3585190051.py:20: DtypeWarning: Columns (1,2,3,4,5,6,7,8,9,10,11,12,13,14,15,16,17,18,19,20,21,22,23,24) have mixed types. Specify dtype option on import or set low_memory=False.\n",
      "  audio_data = pd.read_csv(path, delimiter=\";\", header=None, usecols=lambda x: x not in [\"name\", \"frameTime\"])\n",
      "/scratch/956230/ipykernel_107623/3585190051.py:20: DtypeWarning: Columns (1,2,3,4,5,6,7,8,9,10,11,12,13,14,15,16,17,18,19,20,21,22,23,24) have mixed types. Specify dtype option on import or set low_memory=False.\n",
      "  audio_data = pd.read_csv(path, delimiter=\";\", header=None, usecols=lambda x: x not in [\"name\", \"frameTime\"])\n",
      "/scratch/956230/ipykernel_107623/3585190051.py:20: DtypeWarning: Columns (1,2,3,4,5,6,7,8,9,10,11,12,13,14,15,16,17,18,19,20,21,22,23,24) have mixed types. Specify dtype option on import or set low_memory=False.\n",
      "  audio_data = pd.read_csv(path, delimiter=\";\", header=None, usecols=lambda x: x not in [\"name\", \"frameTime\"])\n",
      "/scratch/956230/ipykernel_107623/3585190051.py:20: DtypeWarning: Columns (1,2,3,4,5,6,7,8,9,10,11,12,13,14,15,16,17,18,19,20,21,22,23,24) have mixed types. Specify dtype option on import or set low_memory=False.\n",
      "  audio_data = pd.read_csv(path, delimiter=\";\", header=None, usecols=lambda x: x not in [\"name\", \"frameTime\"])\n",
      "/scratch/956230/ipykernel_107623/3585190051.py:20: DtypeWarning: Columns (1,2,3,4,5,6,7,8,9,10,11,12,13,14,15,16,17,18,19,20,21,22,23,24) have mixed types. Specify dtype option on import or set low_memory=False.\n",
      "  audio_data = pd.read_csv(path, delimiter=\";\", header=None, usecols=lambda x: x not in [\"name\", \"frameTime\"])\n",
      "/scratch/956230/ipykernel_107623/3585190051.py:20: DtypeWarning: Columns (1,2,3,4,5,6,7,8,9,10,11,12,13,14,15,16,17,18,19,20,21,22,23,24) have mixed types. Specify dtype option on import or set low_memory=False.\n",
      "  audio_data = pd.read_csv(path, delimiter=\";\", header=None, usecols=lambda x: x not in [\"name\", \"frameTime\"])\n",
      "/scratch/956230/ipykernel_107623/3585190051.py:20: DtypeWarning: Columns (1,2,3,4,5,6,7,8,9,10,11,12,13,14,15,16,17,18,19,20,21,22,23,24) have mixed types. Specify dtype option on import or set low_memory=False.\n",
      "  audio_data = pd.read_csv(path, delimiter=\";\", header=None, usecols=lambda x: x not in [\"name\", \"frameTime\"])\n",
      "/scratch/956230/ipykernel_107623/3585190051.py:20: DtypeWarning: Columns (1,2,3,4,5,6,7,8,9,10,11,12,13,14,15,16,17,18,19,20,21,22,23,24) have mixed types. Specify dtype option on import or set low_memory=False.\n",
      "  audio_data = pd.read_csv(path, delimiter=\";\", header=None, usecols=lambda x: x not in [\"name\", \"frameTime\"])\n",
      "/scratch/956230/ipykernel_107623/3585190051.py:20: DtypeWarning: Columns (1,2,3,4,5,6,7,8,9,10,11,12,13,14,15,16,17,18,19,20,21,22,23,24) have mixed types. Specify dtype option on import or set low_memory=False.\n",
      "  audio_data = pd.read_csv(path, delimiter=\";\", header=None, usecols=lambda x: x not in [\"name\", \"frameTime\"])\n",
      "/scratch/956230/ipykernel_107623/3585190051.py:20: DtypeWarning: Columns (1,2,3,4,5,6,7,8,9,10,11,12,13,14,15,16,17,18,19,20,21,22,23,24) have mixed types. Specify dtype option on import or set low_memory=False.\n",
      "  audio_data = pd.read_csv(path, delimiter=\";\", header=None, usecols=lambda x: x not in [\"name\", \"frameTime\"])\n",
      "/scratch/956230/ipykernel_107623/3585190051.py:20: DtypeWarning: Columns (1,2,3,4,5,6,7,8,9,10,11,12,13,14,15,16,17,18,19,20,21,22,23,24) have mixed types. Specify dtype option on import or set low_memory=False.\n",
      "  audio_data = pd.read_csv(path, delimiter=\";\", header=None, usecols=lambda x: x not in [\"name\", \"frameTime\"])\n",
      "/scratch/956230/ipykernel_107623/3585190051.py:20: DtypeWarning: Columns (1,2,3,4,5,6,7,8,9,10,11,12,13,14,15,16,17,18,19,20,21,22,23,24) have mixed types. Specify dtype option on import or set low_memory=False.\n",
      "  audio_data = pd.read_csv(path, delimiter=\";\", header=None, usecols=lambda x: x not in [\"name\", \"frameTime\"])\n",
      "/scratch/956230/ipykernel_107623/3585190051.py:20: DtypeWarning: Columns (1,2,3,4,5,6,7,8,9,10,11,12,13,14,15,16,17,18,19,20,21,22,23,24) have mixed types. Specify dtype option on import or set low_memory=False.\n",
      "  audio_data = pd.read_csv(path, delimiter=\";\", header=None, usecols=lambda x: x not in [\"name\", \"frameTime\"])\n",
      "/scratch/956230/ipykernel_107623/3585190051.py:20: DtypeWarning: Columns (1,2,3,4,5,6,7,8,9,10,11,12,13,14,15,16,17,18,19,20,21,22,23,24) have mixed types. Specify dtype option on import or set low_memory=False.\n",
      "  audio_data = pd.read_csv(path, delimiter=\";\", header=None, usecols=lambda x: x not in [\"name\", \"frameTime\"])\n",
      "/scratch/956230/ipykernel_107623/3585190051.py:20: DtypeWarning: Columns (1,2,3,4,5,6,7,8,9,10,11,12,13,14,15,16,17,18,19,20,21,22,23,24) have mixed types. Specify dtype option on import or set low_memory=False.\n",
      "  audio_data = pd.read_csv(path, delimiter=\";\", header=None, usecols=lambda x: x not in [\"name\", \"frameTime\"])\n",
      "/scratch/956230/ipykernel_107623/3585190051.py:20: DtypeWarning: Columns (1,2,3,4,5,6,7,8,9,10,11,12,13,14,15,16,17,18,19,20,21,22,23,24) have mixed types. Specify dtype option on import or set low_memory=False.\n",
      "  audio_data = pd.read_csv(path, delimiter=\";\", header=None, usecols=lambda x: x not in [\"name\", \"frameTime\"])\n",
      "/scratch/956230/ipykernel_107623/3585190051.py:20: DtypeWarning: Columns (1,2,3,4,5,6,7,8,9,10,11,12,13,14,15,16,17,18,19,20,21,22,23,24) have mixed types. Specify dtype option on import or set low_memory=False.\n",
      "  audio_data = pd.read_csv(path, delimiter=\";\", header=None, usecols=lambda x: x not in [\"name\", \"frameTime\"])\n",
      "/scratch/956230/ipykernel_107623/3585190051.py:20: DtypeWarning: Columns (1,2,3,4,5,6,7,8,9,10,11,12,13,14,15,16,17,18,19,20,21,22,23,24) have mixed types. Specify dtype option on import or set low_memory=False.\n",
      "  audio_data = pd.read_csv(path, delimiter=\";\", header=None, usecols=lambda x: x not in [\"name\", \"frameTime\"])\n",
      "/scratch/956230/ipykernel_107623/3585190051.py:20: DtypeWarning: Columns (1,2,3,4,5,6,7,8,9,10,11,12,13,14,15,16,17,18,19,20,21,22,23,24) have mixed types. Specify dtype option on import or set low_memory=False.\n",
      "  audio_data = pd.read_csv(path, delimiter=\";\", header=None, usecols=lambda x: x not in [\"name\", \"frameTime\"])\n",
      "/scratch/956230/ipykernel_107623/3585190051.py:20: DtypeWarning: Columns (1,2,3,4,5,6,7,8,9,10,11,12,13,14,15,16,17,18,19,20,21,22,23,24) have mixed types. Specify dtype option on import or set low_memory=False.\n",
      "  audio_data = pd.read_csv(path, delimiter=\";\", header=None, usecols=lambda x: x not in [\"name\", \"frameTime\"])\n",
      "/scratch/956230/ipykernel_107623/3585190051.py:20: DtypeWarning: Columns (1,2,3,4,5,6,7,8,9,10,11,12,13,14,15,16,17,18,19,20,21,22,23,24) have mixed types. Specify dtype option on import or set low_memory=False.\n",
      "  audio_data = pd.read_csv(path, delimiter=\";\", header=None, usecols=lambda x: x not in [\"name\", \"frameTime\"])\n",
      "/scratch/956230/ipykernel_107623/3585190051.py:20: DtypeWarning: Columns (1,2,3,4,5,6,7,8,9,10,11,12,13,14,15,16,17,18,19,20,21,22,23,24) have mixed types. Specify dtype option on import or set low_memory=False.\n",
      "  audio_data = pd.read_csv(path, delimiter=\";\", header=None, usecols=lambda x: x not in [\"name\", \"frameTime\"])\n",
      "/scratch/956230/ipykernel_107623/3585190051.py:20: DtypeWarning: Columns (1,2,3,4,5,6,7,8,9,10,11,12,13,14,15,16,17,18,19,20,21,22,23,24) have mixed types. Specify dtype option on import or set low_memory=False.\n",
      "  audio_data = pd.read_csv(path, delimiter=\";\", header=None, usecols=lambda x: x not in [\"name\", \"frameTime\"])\n",
      "/scratch/956230/ipykernel_107623/3585190051.py:20: DtypeWarning: Columns (1,2,3,4,5,6,7,8,9,10,11,12,13,14,15,16,17,18,19,20,21,22,23,24) have mixed types. Specify dtype option on import or set low_memory=False.\n",
      "  audio_data = pd.read_csv(path, delimiter=\";\", header=None, usecols=lambda x: x not in [\"name\", \"frameTime\"])\n",
      "/scratch/956230/ipykernel_107623/3585190051.py:20: DtypeWarning: Columns (1,2,3,4,5,6,7,8,9,10,11,12,13,14,15,16,17,18,19,20,21,22,23,24) have mixed types. Specify dtype option on import or set low_memory=False.\n",
      "  audio_data = pd.read_csv(path, delimiter=\";\", header=None, usecols=lambda x: x not in [\"name\", \"frameTime\"])\n",
      "/scratch/956230/ipykernel_107623/3585190051.py:20: DtypeWarning: Columns (1,2,3,4,5,6,7,8,9,10,11,12,13,14,15,16,17,18,19,20,21,22,23,24) have mixed types. Specify dtype option on import or set low_memory=False.\n",
      "  audio_data = pd.read_csv(path, delimiter=\";\", header=None, usecols=lambda x: x not in [\"name\", \"frameTime\"])\n",
      "/scratch/956230/ipykernel_107623/3585190051.py:20: DtypeWarning: Columns (1,2,3,4,5,6,7,8,9,10,11,12,13,14,15,16,17,18,19,20,21,22,23,24) have mixed types. Specify dtype option on import or set low_memory=False.\n",
      "  audio_data = pd.read_csv(path, delimiter=\";\", header=None, usecols=lambda x: x not in [\"name\", \"frameTime\"])\n",
      "/scratch/956230/ipykernel_107623/3585190051.py:20: DtypeWarning: Columns (1,2,3,4,5,6,7,8,9,10,11,12,13,14,15,16,17,18,19,20,21,22,23,24) have mixed types. Specify dtype option on import or set low_memory=False.\n",
      "  audio_data = pd.read_csv(path, delimiter=\";\", header=None, usecols=lambda x: x not in [\"name\", \"frameTime\"])\n",
      "/scratch/956230/ipykernel_107623/3585190051.py:20: DtypeWarning: Columns (1,2,3,4,5,6,7,8,9,10,11,12,13,14,15,16,17,18,19,20,21,22,23,24) have mixed types. Specify dtype option on import or set low_memory=False.\n",
      "  audio_data = pd.read_csv(path, delimiter=\";\", header=None, usecols=lambda x: x not in [\"name\", \"frameTime\"])\n",
      "/scratch/956230/ipykernel_107623/3585190051.py:20: DtypeWarning: Columns (1,2,3,4,5,6,7,8,9,10,11,12,13,14,15,16,17,18,19,20,21,22,23,24) have mixed types. Specify dtype option on import or set low_memory=False.\n",
      "  audio_data = pd.read_csv(path, delimiter=\";\", header=None, usecols=lambda x: x not in [\"name\", \"frameTime\"])\n",
      "/scratch/956230/ipykernel_107623/3585190051.py:20: DtypeWarning: Columns (1,2,3,4,5,6,7,8,9,10,11,12,13,14,15,16,17,18,19,20,21,22,23,24) have mixed types. Specify dtype option on import or set low_memory=False.\n",
      "  audio_data = pd.read_csv(path, delimiter=\";\", header=None, usecols=lambda x: x not in [\"name\", \"frameTime\"])\n",
      "/scratch/956230/ipykernel_107623/3585190051.py:20: DtypeWarning: Columns (1,2,3,4,5,6,7,8,9,10,11,12,13,14,15,16,17,18,19,20,21,22,23,24) have mixed types. Specify dtype option on import or set low_memory=False.\n",
      "  audio_data = pd.read_csv(path, delimiter=\";\", header=None, usecols=lambda x: x not in [\"name\", \"frameTime\"])\n",
      "/scratch/956230/ipykernel_107623/3585190051.py:20: DtypeWarning: Columns (1,2,3,4,5,6,7,8,9,10,11,12,13,14,15,16,17,18,19,20,21,22,23,24) have mixed types. Specify dtype option on import or set low_memory=False.\n",
      "  audio_data = pd.read_csv(path, delimiter=\";\", header=None, usecols=lambda x: x not in [\"name\", \"frameTime\"])\n",
      "/scratch/956230/ipykernel_107623/3585190051.py:20: DtypeWarning: Columns (1,2,3,4,5,6,7,8,9,10,11,12,13,14,15,16,17,18,19,20,21,22,23,24) have mixed types. Specify dtype option on import or set low_memory=False.\n",
      "  audio_data = pd.read_csv(path, delimiter=\";\", header=None, usecols=lambda x: x not in [\"name\", \"frameTime\"])\n",
      "/scratch/956230/ipykernel_107623/3585190051.py:20: DtypeWarning: Columns (1,2,3,4,5,6,7,8,9,10,11,12,13,14,15,16,17,18,19,20,21,22,23,24) have mixed types. Specify dtype option on import or set low_memory=False.\n",
      "  audio_data = pd.read_csv(path, delimiter=\";\", header=None, usecols=lambda x: x not in [\"name\", \"frameTime\"])\n",
      "/scratch/956230/ipykernel_107623/3585190051.py:20: DtypeWarning: Columns (1,2,3,4,5,6,7,8,9,10,11,12,13,14,15,16,17,18,19,20,21,22,23,24) have mixed types. Specify dtype option on import or set low_memory=False.\n",
      "  audio_data = pd.read_csv(path, delimiter=\";\", header=None, usecols=lambda x: x not in [\"name\", \"frameTime\"])\n",
      "/scratch/956230/ipykernel_107623/3585190051.py:20: DtypeWarning: Columns (1,2,3,4,5,6,7,8,9,10,11,12,13,14,15,16,17,18,19,20,21,22,23,24) have mixed types. Specify dtype option on import or set low_memory=False.\n",
      "  audio_data = pd.read_csv(path, delimiter=\";\", header=None, usecols=lambda x: x not in [\"name\", \"frameTime\"])\n",
      "/scratch/956230/ipykernel_107623/3585190051.py:20: DtypeWarning: Columns (1,2,3,4,5,6,7,8,9,10,11,12,13,14,15,16,17,18,19,20,21,22,23,24) have mixed types. Specify dtype option on import or set low_memory=False.\n",
      "  audio_data = pd.read_csv(path, delimiter=\";\", header=None, usecols=lambda x: x not in [\"name\", \"frameTime\"])\n",
      "/scratch/956230/ipykernel_107623/3585190051.py:20: DtypeWarning: Columns (1,2,3,4,5,6,7,8,9,10,11,12,13,14,15,16,17,18,19,20,21,22,23,24) have mixed types. Specify dtype option on import or set low_memory=False.\n",
      "  audio_data = pd.read_csv(path, delimiter=\";\", header=None, usecols=lambda x: x not in [\"name\", \"frameTime\"])\n",
      "/scratch/956230/ipykernel_107623/3585190051.py:20: DtypeWarning: Columns (1,2,3,4,5,6,7,8,9,10,11,12,13,14,15,16,17,18,19,20,21,22,23,24) have mixed types. Specify dtype option on import or set low_memory=False.\n",
      "  audio_data = pd.read_csv(path, delimiter=\";\", header=None, usecols=lambda x: x not in [\"name\", \"frameTime\"])\n",
      "/scratch/956230/ipykernel_107623/3585190051.py:20: DtypeWarning: Columns (1,2,3,4,5,6,7,8,9,10,11,12,13,14,15,16,17,18,19,20,21,22,23,24) have mixed types. Specify dtype option on import or set low_memory=False.\n",
      "  audio_data = pd.read_csv(path, delimiter=\";\", header=None, usecols=lambda x: x not in [\"name\", \"frameTime\"])\n",
      "/scratch/956230/ipykernel_107623/3585190051.py:20: DtypeWarning: Columns (1,2,3,4,5,6,7,8,9,10,11,12,13,14,15,16,17,18,19,20,21,22,23,24) have mixed types. Specify dtype option on import or set low_memory=False.\n",
      "  audio_data = pd.read_csv(path, delimiter=\";\", header=None, usecols=lambda x: x not in [\"name\", \"frameTime\"])\n",
      "/scratch/956230/ipykernel_107623/3585190051.py:20: DtypeWarning: Columns (1,2,3,4,5,6,7,8,9,10,11,12,13,14,15,16,17,18,19,20,21,22,23,24) have mixed types. Specify dtype option on import or set low_memory=False.\n",
      "  audio_data = pd.read_csv(path, delimiter=\";\", header=None, usecols=lambda x: x not in [\"name\", \"frameTime\"])\n",
      "/scratch/956230/ipykernel_107623/3585190051.py:20: DtypeWarning: Columns (1,2,3,4,5,6,7,8,9,10,11,12,13,14,15,16,17,18,19,20,21,22,23,24) have mixed types. Specify dtype option on import or set low_memory=False.\n",
      "  audio_data = pd.read_csv(path, delimiter=\";\", header=None, usecols=lambda x: x not in [\"name\", \"frameTime\"])\n",
      "/scratch/956230/ipykernel_107623/3585190051.py:20: DtypeWarning: Columns (1,2,3,4,5,6,7,8,9,10,11,12,13,14,15,16,17,18,19,20,21,22,23,24) have mixed types. Specify dtype option on import or set low_memory=False.\n",
      "  audio_data = pd.read_csv(path, delimiter=\";\", header=None, usecols=lambda x: x not in [\"name\", \"frameTime\"])\n",
      "/scratch/956230/ipykernel_107623/3585190051.py:20: DtypeWarning: Columns (1,2,3,4,5,6,7,8,9,10,11,12,13,14,15,16,17,18,19,20,21,22,23,24) have mixed types. Specify dtype option on import or set low_memory=False.\n",
      "  audio_data = pd.read_csv(path, delimiter=\";\", header=None, usecols=lambda x: x not in [\"name\", \"frameTime\"])\n",
      "/scratch/956230/ipykernel_107623/3585190051.py:20: DtypeWarning: Columns (1,2,3,4,5,6,7,8,9,10,11,12,13,14,15,16,17,18,19,20,21,22,23,24) have mixed types. Specify dtype option on import or set low_memory=False.\n",
      "  audio_data = pd.read_csv(path, delimiter=\";\", header=None, usecols=lambda x: x not in [\"name\", \"frameTime\"])\n",
      "/scratch/956230/ipykernel_107623/3585190051.py:20: DtypeWarning: Columns (1,2,3,4,5,6,7,8,9,10,11,12,13,14,15,16,17,18,19,20,21,22,23,24) have mixed types. Specify dtype option on import or set low_memory=False.\n",
      "  audio_data = pd.read_csv(path, delimiter=\";\", header=None, usecols=lambda x: x not in [\"name\", \"frameTime\"])\n",
      "/scratch/956230/ipykernel_107623/3585190051.py:20: DtypeWarning: Columns (1,2,3,4,5,6,7,8,9,10,11,12,13,14,15,16,17,18,19,20,21,22,23,24) have mixed types. Specify dtype option on import or set low_memory=False.\n",
      "  audio_data = pd.read_csv(path, delimiter=\";\", header=None, usecols=lambda x: x not in [\"name\", \"frameTime\"])\n",
      "/scratch/956230/ipykernel_107623/3585190051.py:20: DtypeWarning: Columns (1,2,3,4,5,6,7,8,9,10,11,12,13,14,15,16,17,18,19,20,21,22,23,24) have mixed types. Specify dtype option on import or set low_memory=False.\n",
      "  audio_data = pd.read_csv(path, delimiter=\";\", header=None, usecols=lambda x: x not in [\"name\", \"frameTime\"])\n",
      "/scratch/956230/ipykernel_107623/3585190051.py:20: DtypeWarning: Columns (1,2,3,4,5,6,7,8,9,10,11,12,13,14,15,16,17,18,19,20,21,22,23,24) have mixed types. Specify dtype option on import or set low_memory=False.\n",
      "  audio_data = pd.read_csv(path, delimiter=\";\", header=None, usecols=lambda x: x not in [\"name\", \"frameTime\"])\n",
      "/scratch/956230/ipykernel_107623/3585190051.py:20: DtypeWarning: Columns (1,2,3,4,5,6,7,8,9,10,11,12,13,14,15,16,17,18,19,20,21,22,23,24) have mixed types. Specify dtype option on import or set low_memory=False.\n",
      "  audio_data = pd.read_csv(path, delimiter=\";\", header=None, usecols=lambda x: x not in [\"name\", \"frameTime\"])\n",
      "/scratch/956230/ipykernel_107623/3585190051.py:20: DtypeWarning: Columns (1,2,3,4,5,6,7,8,9,10,11,12,13,14,15,16,17,18,19,20,21,22,23,24) have mixed types. Specify dtype option on import or set low_memory=False.\n",
      "  audio_data = pd.read_csv(path, delimiter=\";\", header=None, usecols=lambda x: x not in [\"name\", \"frameTime\"])\n",
      "/scratch/956230/ipykernel_107623/3585190051.py:20: DtypeWarning: Columns (1,2,3,4,5,6,7,8,9,10,11,12,13,14,15,16,17,18,19,20,21,22,23,24) have mixed types. Specify dtype option on import or set low_memory=False.\n",
      "  audio_data = pd.read_csv(path, delimiter=\";\", header=None, usecols=lambda x: x not in [\"name\", \"frameTime\"])\n",
      "/scratch/956230/ipykernel_107623/3585190051.py:20: DtypeWarning: Columns (1,2,3,4,5,6,7,8,9,10,11,12,13,14,15,16,17,18,19,20,21,22,23,24) have mixed types. Specify dtype option on import or set low_memory=False.\n",
      "  audio_data = pd.read_csv(path, delimiter=\";\", header=None, usecols=lambda x: x not in [\"name\", \"frameTime\"])\n",
      "/scratch/956230/ipykernel_107623/3585190051.py:20: DtypeWarning: Columns (1,2,3,4,5,6,7,8,9,10,11,12,13,14,15,16,17,18,19,20,21,22,23,24) have mixed types. Specify dtype option on import or set low_memory=False.\n",
      "  audio_data = pd.read_csv(path, delimiter=\";\", header=None, usecols=lambda x: x not in [\"name\", \"frameTime\"])\n",
      "/scratch/956230/ipykernel_107623/3585190051.py:20: DtypeWarning: Columns (1,2,3,4,5,6,7,8,9,10,11,12,13,14,15,16,17,18,19,20,21,22,23,24) have mixed types. Specify dtype option on import or set low_memory=False.\n",
      "  audio_data = pd.read_csv(path, delimiter=\";\", header=None, usecols=lambda x: x not in [\"name\", \"frameTime\"])\n",
      "/scratch/956230/ipykernel_107623/3585190051.py:20: DtypeWarning: Columns (1,2,3,4,5,6,7,8,9,10,11,12,13,14,15,16,17,18,19,20,21,22,23,24) have mixed types. Specify dtype option on import or set low_memory=False.\n",
      "  audio_data = pd.read_csv(path, delimiter=\";\", header=None, usecols=lambda x: x not in [\"name\", \"frameTime\"])\n",
      "/scratch/956230/ipykernel_107623/3585190051.py:20: DtypeWarning: Columns (1,2,3,4,5,6,7,8,9,10,11,12,13,14,15,16,17,18,19,20,21,22,23,24) have mixed types. Specify dtype option on import or set low_memory=False.\n",
      "  audio_data = pd.read_csv(path, delimiter=\";\", header=None, usecols=lambda x: x not in [\"name\", \"frameTime\"])\n",
      "/scratch/956230/ipykernel_107623/3585190051.py:20: DtypeWarning: Columns (1,2,3,4,5,6,7,8,9,10,11,12,13,14,15,16,17,18,19,20,21,22,23,24) have mixed types. Specify dtype option on import or set low_memory=False.\n",
      "  audio_data = pd.read_csv(path, delimiter=\";\", header=None, usecols=lambda x: x not in [\"name\", \"frameTime\"])\n",
      "/scratch/956230/ipykernel_107623/3585190051.py:20: DtypeWarning: Columns (1,2,3,4,5,6,7,8,9,10,11,12,13,14,15,16,17,18,19,20,21,22,23,24) have mixed types. Specify dtype option on import or set low_memory=False.\n",
      "  audio_data = pd.read_csv(path, delimiter=\";\", header=None, usecols=lambda x: x not in [\"name\", \"frameTime\"])\n",
      "/scratch/956230/ipykernel_107623/3585190051.py:20: DtypeWarning: Columns (1,2,3,4,5,6,7,8,9,10,11,12,13,14,15,16,17,18,19,20,21,22,23,24) have mixed types. Specify dtype option on import or set low_memory=False.\n",
      "  audio_data = pd.read_csv(path, delimiter=\";\", header=None, usecols=lambda x: x not in [\"name\", \"frameTime\"])\n",
      "/scratch/956230/ipykernel_107623/3585190051.py:20: DtypeWarning: Columns (1,2,3,4,5,6,7,8,9,10,11,12,13,14,15,16,17,18,19,20,21,22,23,24) have mixed types. Specify dtype option on import or set low_memory=False.\n",
      "  audio_data = pd.read_csv(path, delimiter=\";\", header=None, usecols=lambda x: x not in [\"name\", \"frameTime\"])\n",
      "/scratch/956230/ipykernel_107623/3585190051.py:20: DtypeWarning: Columns (1,2,3,4,5,6,7,8,9,10,11,12,13,14,15,16,17,18,19,20,21,22,23,24) have mixed types. Specify dtype option on import or set low_memory=False.\n",
      "  audio_data = pd.read_csv(path, delimiter=\";\", header=None, usecols=lambda x: x not in [\"name\", \"frameTime\"])\n",
      "/scratch/956230/ipykernel_107623/3585190051.py:20: DtypeWarning: Columns (1,2,3,4,5,6,7,8,9,10,11,12,13,14,15,16,17,18,19,20,21,22,23,24) have mixed types. Specify dtype option on import or set low_memory=False.\n",
      "  audio_data = pd.read_csv(path, delimiter=\";\", header=None, usecols=lambda x: x not in [\"name\", \"frameTime\"])\n",
      "/scratch/956230/ipykernel_107623/3585190051.py:20: DtypeWarning: Columns (1,2,3,4,5,6,7,8,9,10,11,12,13,14,15,16,17,18,19,20,21,22,23,24) have mixed types. Specify dtype option on import or set low_memory=False.\n",
      "  audio_data = pd.read_csv(path, delimiter=\";\", header=None, usecols=lambda x: x not in [\"name\", \"frameTime\"])\n",
      "/scratch/956230/ipykernel_107623/3585190051.py:20: DtypeWarning: Columns (1,2,3,4,5,6,7,8,9,10,11,12,13,14,15,16,17,18,19,20,21,22,23,24) have mixed types. Specify dtype option on import or set low_memory=False.\n",
      "  audio_data = pd.read_csv(path, delimiter=\";\", header=None, usecols=lambda x: x not in [\"name\", \"frameTime\"])\n",
      "/scratch/956230/ipykernel_107623/3585190051.py:20: DtypeWarning: Columns (1,2,3,4,5,6,7,8,9,10,11,12,13,14,15,16,17,18,19,20,21,22,23,24) have mixed types. Specify dtype option on import or set low_memory=False.\n",
      "  audio_data = pd.read_csv(path, delimiter=\";\", header=None, usecols=lambda x: x not in [\"name\", \"frameTime\"])\n",
      "/scratch/956230/ipykernel_107623/3585190051.py:20: DtypeWarning: Columns (1,2,3,4,5,6,7,8,9,10,11,12,13,14,15,16,17,18,19,20,21,22,23,24) have mixed types. Specify dtype option on import or set low_memory=False.\n",
      "  audio_data = pd.read_csv(path, delimiter=\";\", header=None, usecols=lambda x: x not in [\"name\", \"frameTime\"])\n",
      "/scratch/956230/ipykernel_107623/3585190051.py:20: DtypeWarning: Columns (1,2,3,4,5,6,7,8,9,10,11,12,13,14,15,16,17,18,19,20,21,22,23,24) have mixed types. Specify dtype option on import or set low_memory=False.\n",
      "  audio_data = pd.read_csv(path, delimiter=\";\", header=None, usecols=lambda x: x not in [\"name\", \"frameTime\"])\n",
      "/scratch/956230/ipykernel_107623/3585190051.py:20: DtypeWarning: Columns (1,2,3,4,5,6,7,8,9,10,11,12,13,14,15,16,17,18,19,20,21,22,23,24) have mixed types. Specify dtype option on import or set low_memory=False.\n",
      "  audio_data = pd.read_csv(path, delimiter=\";\", header=None, usecols=lambda x: x not in [\"name\", \"frameTime\"])\n",
      "/scratch/956230/ipykernel_107623/3585190051.py:20: DtypeWarning: Columns (1,2,3,4,5,6,7,8,9,10,11,12,13,14,15,16,17,18,19,20,21,22,23,24) have mixed types. Specify dtype option on import or set low_memory=False.\n",
      "  audio_data = pd.read_csv(path, delimiter=\";\", header=None, usecols=lambda x: x not in [\"name\", \"frameTime\"])\n",
      "/scratch/956230/ipykernel_107623/3585190051.py:20: DtypeWarning: Columns (1,2,3,4,5,6,7,8,9,10,11,12,13,14,15,16,17,18,19,20,21,22,23,24) have mixed types. Specify dtype option on import or set low_memory=False.\n",
      "  audio_data = pd.read_csv(path, delimiter=\";\", header=None, usecols=lambda x: x not in [\"name\", \"frameTime\"])\n",
      "/scratch/956230/ipykernel_107623/3585190051.py:20: DtypeWarning: Columns (1,2,3,4,5,6,7,8,9,10,11,12,13,14,15,16,17,18,19,20,21,22,23,24) have mixed types. Specify dtype option on import or set low_memory=False.\n",
      "  audio_data = pd.read_csv(path, delimiter=\";\", header=None, usecols=lambda x: x not in [\"name\", \"frameTime\"])\n",
      "/scratch/956230/ipykernel_107623/3585190051.py:20: DtypeWarning: Columns (1,2,3,4,5,6,7,8,9,10,11,12,13,14,15,16,17,18,19,20,21,22,23,24) have mixed types. Specify dtype option on import or set low_memory=False.\n",
      "  audio_data = pd.read_csv(path, delimiter=\";\", header=None, usecols=lambda x: x not in [\"name\", \"frameTime\"])\n",
      "/scratch/956230/ipykernel_107623/3585190051.py:20: DtypeWarning: Columns (1,2,3,4,5,6,7,8,9,10,11,12,13,14,15,16,17,18,19,20,21,22,23,24) have mixed types. Specify dtype option on import or set low_memory=False.\n",
      "  audio_data = pd.read_csv(path, delimiter=\";\", header=None, usecols=lambda x: x not in [\"name\", \"frameTime\"])\n",
      "/scratch/956230/ipykernel_107623/3585190051.py:20: DtypeWarning: Columns (1,2,3,4,5,6,7,8,9,10,11,12,13,14,15,16,17,18,19,20,21,22,23,24) have mixed types. Specify dtype option on import or set low_memory=False.\n",
      "  audio_data = pd.read_csv(path, delimiter=\";\", header=None, usecols=lambda x: x not in [\"name\", \"frameTime\"])\n",
      "/scratch/956230/ipykernel_107623/3585190051.py:20: DtypeWarning: Columns (1,2,3,4,5,6,7,8,9,10,11,12,13,14,15,16,17,18,19,20,21,22,23,24) have mixed types. Specify dtype option on import or set low_memory=False.\n",
      "  audio_data = pd.read_csv(path, delimiter=\";\", header=None, usecols=lambda x: x not in [\"name\", \"frameTime\"])\n",
      "/scratch/956230/ipykernel_107623/3585190051.py:20: DtypeWarning: Columns (1,2,3,4,5,6,7,8,9,10,11,12,13,14,15,16,17,18,19,20,21,22,23,24) have mixed types. Specify dtype option on import or set low_memory=False.\n",
      "  audio_data = pd.read_csv(path, delimiter=\";\", header=None, usecols=lambda x: x not in [\"name\", \"frameTime\"])\n",
      "/scratch/956230/ipykernel_107623/3585190051.py:20: DtypeWarning: Columns (1,2,3,4,5,6,7,8,9,10,11,12,13,14,15,16,17,18,19,20,21,22,23,24) have mixed types. Specify dtype option on import or set low_memory=False.\n",
      "  audio_data = pd.read_csv(path, delimiter=\";\", header=None, usecols=lambda x: x not in [\"name\", \"frameTime\"])\n",
      "/scratch/956230/ipykernel_107623/3585190051.py:20: DtypeWarning: Columns (1,2,3,4,5,6,7,8,9,10,11,12,13,14,15,16,17,18,19,20,21,22,23,24) have mixed types. Specify dtype option on import or set low_memory=False.\n",
      "  audio_data = pd.read_csv(path, delimiter=\";\", header=None, usecols=lambda x: x not in [\"name\", \"frameTime\"])\n",
      "/scratch/956230/ipykernel_107623/3585190051.py:20: DtypeWarning: Columns (1,2,3,4,5,6,7,8,9,10,11,12,13,14,15,16,17,18,19,20,21,22,23,24) have mixed types. Specify dtype option on import or set low_memory=False.\n",
      "  audio_data = pd.read_csv(path, delimiter=\";\", header=None, usecols=lambda x: x not in [\"name\", \"frameTime\"])\n",
      "/scratch/956230/ipykernel_107623/3585190051.py:20: DtypeWarning: Columns (1,2,3,4,5,6,7,8,9,10,11,12,13,14,15,16,17,18,19,20,21,22,23,24) have mixed types. Specify dtype option on import or set low_memory=False.\n",
      "  audio_data = pd.read_csv(path, delimiter=\";\", header=None, usecols=lambda x: x not in [\"name\", \"frameTime\"])\n",
      "/scratch/956230/ipykernel_107623/3585190051.py:20: DtypeWarning: Columns (1,2,3,4,5,6,7,8,9,10,11,12,13,14,15,16,17,18,19,20,21,22,23,24) have mixed types. Specify dtype option on import or set low_memory=False.\n",
      "  audio_data = pd.read_csv(path, delimiter=\";\", header=None, usecols=lambda x: x not in [\"name\", \"frameTime\"])\n",
      "/scratch/956230/ipykernel_107623/3585190051.py:20: DtypeWarning: Columns (1,2,3,4,5,6,7,8,9,10,11,12,13,14,15,16,17,18,19,20,21,22,23,24) have mixed types. Specify dtype option on import or set low_memory=False.\n",
      "  audio_data = pd.read_csv(path, delimiter=\";\", header=None, usecols=lambda x: x not in [\"name\", \"frameTime\"])\n",
      "/scratch/956230/ipykernel_107623/3585190051.py:20: DtypeWarning: Columns (1,2,3,4,5,6,7,8,9,10,11,12,13,14,15,16,17,18,19,20,21,22,23,24) have mixed types. Specify dtype option on import or set low_memory=False.\n",
      "  audio_data = pd.read_csv(path, delimiter=\";\", header=None, usecols=lambda x: x not in [\"name\", \"frameTime\"])\n",
      "/scratch/956230/ipykernel_107623/3585190051.py:20: DtypeWarning: Columns (1,2,3,4,5,6,7,8,9,10,11,12,13,14,15,16,17,18,19,20,21,22,23,24) have mixed types. Specify dtype option on import or set low_memory=False.\n",
      "  audio_data = pd.read_csv(path, delimiter=\";\", header=None, usecols=lambda x: x not in [\"name\", \"frameTime\"])\n",
      "/scratch/956230/ipykernel_107623/3585190051.py:20: DtypeWarning: Columns (1,2,3,4,5,6,7,8,9,10,11,12,13,14,15,16,17,18,19,20,21,22,23,24) have mixed types. Specify dtype option on import or set low_memory=False.\n",
      "  audio_data = pd.read_csv(path, delimiter=\";\", header=None, usecols=lambda x: x not in [\"name\", \"frameTime\"])\n",
      "/scratch/956230/ipykernel_107623/3585190051.py:20: DtypeWarning: Columns (1,2,3,4,5,6,7,8,9,10,11,12,13,14,15,16,17,18,19,20,21,22,23,24) have mixed types. Specify dtype option on import or set low_memory=False.\n",
      "  audio_data = pd.read_csv(path, delimiter=\";\", header=None, usecols=lambda x: x not in [\"name\", \"frameTime\"])\n",
      "/scratch/956230/ipykernel_107623/3585190051.py:20: DtypeWarning: Columns (1,2,3,4,5,6,7,8,9,10,11,12,13,14,15,16,17,18,19,20,21,22,23,24) have mixed types. Specify dtype option on import or set low_memory=False.\n",
      "  audio_data = pd.read_csv(path, delimiter=\";\", header=None, usecols=lambda x: x not in [\"name\", \"frameTime\"])\n",
      "/scratch/956230/ipykernel_107623/3585190051.py:20: DtypeWarning: Columns (1,2,3,4,5,6,7,8,9,10,11,12,13,14,15,16,17,18,19,20,21,22,23,24) have mixed types. Specify dtype option on import or set low_memory=False.\n",
      "  audio_data = pd.read_csv(path, delimiter=\";\", header=None, usecols=lambda x: x not in [\"name\", \"frameTime\"])\n",
      "/scratch/956230/ipykernel_107623/3585190051.py:20: DtypeWarning: Columns (1,2,3,4,5,6,7,8,9,10,11,12,13,14,15,16,17,18,19,20,21,22,23,24) have mixed types. Specify dtype option on import or set low_memory=False.\n",
      "  audio_data = pd.read_csv(path, delimiter=\";\", header=None, usecols=lambda x: x not in [\"name\", \"frameTime\"])\n",
      "/scratch/956230/ipykernel_107623/3585190051.py:20: DtypeWarning: Columns (1,2,3,4,5,6,7,8,9,10,11,12,13,14,15,16,17,18,19,20,21,22,23,24) have mixed types. Specify dtype option on import or set low_memory=False.\n",
      "  audio_data = pd.read_csv(path, delimiter=\";\", header=None, usecols=lambda x: x not in [\"name\", \"frameTime\"])\n",
      "/scratch/956230/ipykernel_107623/3585190051.py:20: DtypeWarning: Columns (1,2,3,4,5,6,7,8,9,10,11,12,13,14,15,16,17,18,19,20,21,22,23,24) have mixed types. Specify dtype option on import or set low_memory=False.\n",
      "  audio_data = pd.read_csv(path, delimiter=\";\", header=None, usecols=lambda x: x not in [\"name\", \"frameTime\"])\n",
      "/scratch/956230/ipykernel_107623/3585190051.py:20: DtypeWarning: Columns (1,2,3,4,5,6,7,8,9,10,11,12,13,14,15,16,17,18,19,20,21,22,23,24) have mixed types. Specify dtype option on import or set low_memory=False.\n",
      "  audio_data = pd.read_csv(path, delimiter=\";\", header=None, usecols=lambda x: x not in [\"name\", \"frameTime\"])\n",
      "/scratch/956230/ipykernel_107623/3585190051.py:20: DtypeWarning: Columns (1,2,3,4,5,6,7,8,9,10,11,12,13,14,15,16,17,18,19,20,21,22,23,24) have mixed types. Specify dtype option on import or set low_memory=False.\n",
      "  audio_data = pd.read_csv(path, delimiter=\";\", header=None, usecols=lambda x: x not in [\"name\", \"frameTime\"])\n",
      "/scratch/956230/ipykernel_107623/3585190051.py:20: DtypeWarning: Columns (1,2,3,4,5,6,7,8,9,10,11,12,13,14,15,16,17,18,19,20,21,22,23,24) have mixed types. Specify dtype option on import or set low_memory=False.\n",
      "  audio_data = pd.read_csv(path, delimiter=\";\", header=None, usecols=lambda x: x not in [\"name\", \"frameTime\"])\n",
      "/scratch/956230/ipykernel_107623/3585190051.py:20: DtypeWarning: Columns (1,2,3,4,5,6,7,8,9,10,11,12,13,14,15,16,17,18,19,20,21,22,23,24) have mixed types. Specify dtype option on import or set low_memory=False.\n",
      "  audio_data = pd.read_csv(path, delimiter=\";\", header=None, usecols=lambda x: x not in [\"name\", \"frameTime\"])\n",
      "/scratch/956230/ipykernel_107623/3585190051.py:20: DtypeWarning: Columns (1,2,3,4,5,6,7,8,9,10,11,12,13,14,15,16,17,18,19,20,21,22,23,24) have mixed types. Specify dtype option on import or set low_memory=False.\n",
      "  audio_data = pd.read_csv(path, delimiter=\";\", header=None, usecols=lambda x: x not in [\"name\", \"frameTime\"])\n",
      "/scratch/956230/ipykernel_107623/3585190051.py:20: DtypeWarning: Columns (1,2,3,4,5,6,7,8,9,10,11,12,13,14,15,16,17,18,19,20,21,22,23,24) have mixed types. Specify dtype option on import or set low_memory=False.\n",
      "  audio_data = pd.read_csv(path, delimiter=\";\", header=None, usecols=lambda x: x not in [\"name\", \"frameTime\"])\n",
      "/scratch/956230/ipykernel_107623/3585190051.py:20: DtypeWarning: Columns (1,2,3,4,5,6,7,8,9,10,11,12,13,14,15,16,17,18,19,20,21,22,23,24) have mixed types. Specify dtype option on import or set low_memory=False.\n",
      "  audio_data = pd.read_csv(path, delimiter=\";\", header=None, usecols=lambda x: x not in [\"name\", \"frameTime\"])\n",
      "/scratch/956230/ipykernel_107623/3585190051.py:20: DtypeWarning: Columns (1,2,3,4,5,6,7,8,9,10,11,12,13,14,15,16,17,18,19,20,21,22,23,24) have mixed types. Specify dtype option on import or set low_memory=False.\n",
      "  audio_data = pd.read_csv(path, delimiter=\";\", header=None, usecols=lambda x: x not in [\"name\", \"frameTime\"])\n",
      "/scratch/956230/ipykernel_107623/3585190051.py:20: DtypeWarning: Columns (1,2,3,4,5,6,7,8,9,10,11,12,13,14,15,16,17,18,19,20,21,22,23,24) have mixed types. Specify dtype option on import or set low_memory=False.\n",
      "  audio_data = pd.read_csv(path, delimiter=\";\", header=None, usecols=lambda x: x not in [\"name\", \"frameTime\"])\n",
      "/scratch/956230/ipykernel_107623/3585190051.py:20: DtypeWarning: Columns (1,2,3,4,5,6,7,8,9,10,11,12,13,14,15,16,17,18,19,20,21,22,23,24) have mixed types. Specify dtype option on import or set low_memory=False.\n",
      "  audio_data = pd.read_csv(path, delimiter=\";\", header=None, usecols=lambda x: x not in [\"name\", \"frameTime\"])\n",
      "/scratch/956230/ipykernel_107623/3585190051.py:20: DtypeWarning: Columns (1,2,3,4,5,6,7,8,9,10,11,12,13,14,15,16,17,18,19,20,21,22,23,24) have mixed types. Specify dtype option on import or set low_memory=False.\n",
      "  audio_data = pd.read_csv(path, delimiter=\";\", header=None, usecols=lambda x: x not in [\"name\", \"frameTime\"])\n",
      "/scratch/956230/ipykernel_107623/3585190051.py:20: DtypeWarning: Columns (1,2,3,4,5,6,7,8,9,10,11,12,13,14,15,16,17,18,19,20,21,22,23,24) have mixed types. Specify dtype option on import or set low_memory=False.\n",
      "  audio_data = pd.read_csv(path, delimiter=\";\", header=None, usecols=lambda x: x not in [\"name\", \"frameTime\"])\n",
      "/scratch/956230/ipykernel_107623/3585190051.py:20: DtypeWarning: Columns (1,2,3,4,5,6,7,8,9,10,11,12,13,14,15,16,17,18,19,20,21,22,23,24) have mixed types. Specify dtype option on import or set low_memory=False.\n",
      "  audio_data = pd.read_csv(path, delimiter=\";\", header=None, usecols=lambda x: x not in [\"name\", \"frameTime\"])\n",
      "/scratch/956230/ipykernel_107623/3585190051.py:20: DtypeWarning: Columns (1,2,3,4,5,6,7,8,9,10,11,12,13,14,15,16,17,18,19,20,21,22,23,24) have mixed types. Specify dtype option on import or set low_memory=False.\n",
      "  audio_data = pd.read_csv(path, delimiter=\";\", header=None, usecols=lambda x: x not in [\"name\", \"frameTime\"])\n",
      "/scratch/956230/ipykernel_107623/3585190051.py:20: DtypeWarning: Columns (1,2,3,4,5,6,7,8,9,10,11,12,13,14,15,16,17,18,19,20,21,22,23,24) have mixed types. Specify dtype option on import or set low_memory=False.\n",
      "  audio_data = pd.read_csv(path, delimiter=\";\", header=None, usecols=lambda x: x not in [\"name\", \"frameTime\"])\n",
      "/scratch/956230/ipykernel_107623/3585190051.py:20: DtypeWarning: Columns (1,2,3,4,5,6,7,8,9,10,11,12,13,14,15,16,17,18,19,20,21,22,23,24) have mixed types. Specify dtype option on import or set low_memory=False.\n",
      "  audio_data = pd.read_csv(path, delimiter=\";\", header=None, usecols=lambda x: x not in [\"name\", \"frameTime\"])\n",
      "/scratch/956230/ipykernel_107623/3585190051.py:20: DtypeWarning: Columns (1,2,3,4,5,6,7,8,9,10,11,12,13,14,15,16,17,18,19,20,21,22,23,24) have mixed types. Specify dtype option on import or set low_memory=False.\n",
      "  audio_data = pd.read_csv(path, delimiter=\";\", header=None, usecols=lambda x: x not in [\"name\", \"frameTime\"])\n",
      "/scratch/956230/ipykernel_107623/3585190051.py:20: DtypeWarning: Columns (1,2,3,4,5,6,7,8,9,10,11,12,13,14,15,16,17,18,19,20,21,22,23,24) have mixed types. Specify dtype option on import or set low_memory=False.\n",
      "  audio_data = pd.read_csv(path, delimiter=\";\", header=None, usecols=lambda x: x not in [\"name\", \"frameTime\"])\n",
      "/scratch/956230/ipykernel_107623/3585190051.py:20: DtypeWarning: Columns (1,2,3,4,5,6,7,8,9,10,11,12,13,14,15,16,17,18,19,20,21,22,23,24) have mixed types. Specify dtype option on import or set low_memory=False.\n",
      "  audio_data = pd.read_csv(path, delimiter=\";\", header=None, usecols=lambda x: x not in [\"name\", \"frameTime\"])\n",
      "/scratch/956230/ipykernel_107623/3585190051.py:20: DtypeWarning: Columns (1,2,3,4,5,6,7,8,9,10,11,12,13,14,15,16,17,18,19,20,21,22,23,24) have mixed types. Specify dtype option on import or set low_memory=False.\n",
      "  audio_data = pd.read_csv(path, delimiter=\";\", header=None, usecols=lambda x: x not in [\"name\", \"frameTime\"])\n",
      "/scratch/956230/ipykernel_107623/3585190051.py:20: DtypeWarning: Columns (1,2,3,4,5,6,7,8,9,10,11,12,13,14,15,16,17,18,19,20,21,22,23,24) have mixed types. Specify dtype option on import or set low_memory=False.\n",
      "  audio_data = pd.read_csv(path, delimiter=\";\", header=None, usecols=lambda x: x not in [\"name\", \"frameTime\"])\n",
      "/scratch/956230/ipykernel_107623/3585190051.py:20: DtypeWarning: Columns (1,2,3,4,5,6,7,8,9,10,11,12,13,14,15,16,17,18,19,20,21,22,23,24) have mixed types. Specify dtype option on import or set low_memory=False.\n",
      "  audio_data = pd.read_csv(path, delimiter=\";\", header=None, usecols=lambda x: x not in [\"name\", \"frameTime\"])\n",
      "/scratch/956230/ipykernel_107623/3585190051.py:20: DtypeWarning: Columns (1,2,3,4,5,6,7,8,9,10,11,12,13,14,15,16,17,18,19,20,21,22,23,24) have mixed types. Specify dtype option on import or set low_memory=False.\n",
      "  audio_data = pd.read_csv(path, delimiter=\";\", header=None, usecols=lambda x: x not in [\"name\", \"frameTime\"])\n",
      "/scratch/956230/ipykernel_107623/3585190051.py:20: DtypeWarning: Columns (1,2,3,4,5,6,7,8,9,10,11,12,13,14,15,16,17,18,19,20,21,22,23,24) have mixed types. Specify dtype option on import or set low_memory=False.\n",
      "  audio_data = pd.read_csv(path, delimiter=\";\", header=None, usecols=lambda x: x not in [\"name\", \"frameTime\"])\n",
      "/scratch/956230/ipykernel_107623/3585190051.py:20: DtypeWarning: Columns (1,2,3,4,5,6,7,8,9,10,11,12,13,14,15,16,17,18,19,20,21,22,23,24) have mixed types. Specify dtype option on import or set low_memory=False.\n",
      "  audio_data = pd.read_csv(path, delimiter=\";\", header=None, usecols=lambda x: x not in [\"name\", \"frameTime\"])\n",
      "/scratch/956230/ipykernel_107623/3585190051.py:20: DtypeWarning: Columns (1,2,3,4,5,6,7,8,9,10,11,12,13,14,15,16,17,18,19,20,21,22,23,24) have mixed types. Specify dtype option on import or set low_memory=False.\n",
      "  audio_data = pd.read_csv(path, delimiter=\";\", header=None, usecols=lambda x: x not in [\"name\", \"frameTime\"])\n",
      "/scratch/956230/ipykernel_107623/3585190051.py:20: DtypeWarning: Columns (1,2,3,4,5,6,7,8,9,10,11,12,13,14,15,16,17,18,19,20,21,22,23,24) have mixed types. Specify dtype option on import or set low_memory=False.\n",
      "  audio_data = pd.read_csv(path, delimiter=\";\", header=None, usecols=lambda x: x not in [\"name\", \"frameTime\"])\n",
      "/scratch/956230/ipykernel_107623/3585190051.py:20: DtypeWarning: Columns (1,2,3,4,5,6,7,8,9,10,11,12,13,14,15,16,17,18,19,20,21,22,23,24) have mixed types. Specify dtype option on import or set low_memory=False.\n",
      "  audio_data = pd.read_csv(path, delimiter=\";\", header=None, usecols=lambda x: x not in [\"name\", \"frameTime\"])\n"
     ]
    }
   ],
   "source": [
    "train_dataset = PatientAudioDatasetCSV(features_csv[features_csv[\"split\"]==\"train\"], input_column=\"aud_egemaps\", label_column=\"label\")"
   ]
  },
  {
   "cell_type": "code",
   "execution_count": 32,
   "metadata": {},
   "outputs": [
    {
     "name": "stderr",
     "output_type": "stream",
     "text": [
      "/scratch/956230/ipykernel_107623/3585190051.py:35: DtypeWarning: Columns (1,2,3,4,5,6,7,8,9,10,11,12,13,14,15,16,17,18,19,20,21,22,23,24) have mixed types. Specify dtype option on import or set low_memory=False.\n",
      "  audio_data = pd.read_csv(audio_path, delimiter=\";\", header=None, usecols=lambda x: x not in [\"name\", \"frameTime\"])\n",
      "/scratch/956230/ipykernel_107623/3585190051.py:35: DtypeWarning: Columns (1,2,3,4,5,6,7,8,9,10,11,12,13,14,15,16,17,18,19,20,21,22,23,24) have mixed types. Specify dtype option on import or set low_memory=False.\n",
      "  audio_data = pd.read_csv(audio_path, delimiter=\";\", header=None, usecols=lambda x: x not in [\"name\", \"frameTime\"])\n",
      "/scratch/956230/ipykernel_107623/3585190051.py:35: DtypeWarning: Columns (1,2,3,4,5,6,7,8,9,10,11,12,13,14,15,16,17,18,19,20,21,22,23,24) have mixed types. Specify dtype option on import or set low_memory=False.\n",
      "  audio_data = pd.read_csv(audio_path, delimiter=\";\", header=None, usecols=lambda x: x not in [\"name\", \"frameTime\"])\n",
      "/scratch/956230/ipykernel_107623/3585190051.py:35: DtypeWarning: Columns (1,2,3,4,5,6,7,8,9,10,11,12,13,14,15,16,17,18,19,20,21,22,23,24) have mixed types. Specify dtype option on import or set low_memory=False.\n",
      "  audio_data = pd.read_csv(audio_path, delimiter=\";\", header=None, usecols=lambda x: x not in [\"name\", \"frameTime\"])\n"
     ]
    },
    {
     "ename": "RuntimeError",
     "evalue": "Cannot pack empty tensors.",
     "output_type": "error",
     "traceback": [
      "\u001b[0;31m---------------------------------------------------------------------------\u001b[0m",
      "\u001b[0;31mRuntimeError\u001b[0m                              Traceback (most recent call last)",
      "Cell \u001b[0;32mIn[32], line 4\u001b[0m\n\u001b[1;32m      1\u001b[0m batch_size \u001b[39m=\u001b[39m \u001b[39m4\u001b[39m\n\u001b[1;32m      2\u001b[0m dataloader \u001b[39m=\u001b[39m DataLoader(train_dataset, batch_size\u001b[39m=\u001b[39mbatch_size, shuffle\u001b[39m=\u001b[39m\u001b[39mTrue\u001b[39;00m, collate_fn\u001b[39m=\u001b[39mcollate_fn)\n\u001b[0;32m----> 4\u001b[0m \u001b[39mfor\u001b[39;49;00m batch_data, batch_labels \u001b[39min\u001b[39;49;00m dataloader:\n\u001b[1;32m      5\u001b[0m     \u001b[39mprint\u001b[39;49m(\u001b[39mf\u001b[39;49m\u001b[39m\"\u001b[39;49m\u001b[39mData Shape: \u001b[39;49m\u001b[39m{\u001b[39;49;00mbatch_data\u001b[39m.\u001b[39;49mshape\u001b[39m}\u001b[39;49;00m\u001b[39m, Labels Shape: \u001b[39;49m\u001b[39m{\u001b[39;49;00mbatch_labels\u001b[39m.\u001b[39;49mshape\u001b[39m}\u001b[39;49;00m\u001b[39m\"\u001b[39;49m)\n",
      "File \u001b[0;32m~/scratch/miniconda3/envs/vlm-debiasing/lib/python3.12/site-packages/torch/utils/data/dataloader.py:701\u001b[0m, in \u001b[0;36m_BaseDataLoaderIter.__next__\u001b[0;34m(self)\u001b[0m\n\u001b[1;32m    698\u001b[0m \u001b[39mif\u001b[39;00m \u001b[39mself\u001b[39m\u001b[39m.\u001b[39m_sampler_iter \u001b[39mis\u001b[39;00m \u001b[39mNone\u001b[39;00m:\n\u001b[1;32m    699\u001b[0m     \u001b[39m# TODO(https://github.com/pytorch/pytorch/issues/76750)\u001b[39;00m\n\u001b[1;32m    700\u001b[0m     \u001b[39mself\u001b[39m\u001b[39m.\u001b[39m_reset()  \u001b[39m# type: ignore[call-arg]\u001b[39;00m\n\u001b[0;32m--> 701\u001b[0m data \u001b[39m=\u001b[39m \u001b[39mself\u001b[39;49m\u001b[39m.\u001b[39;49m_next_data()\n\u001b[1;32m    702\u001b[0m \u001b[39mself\u001b[39m\u001b[39m.\u001b[39m_num_yielded \u001b[39m+\u001b[39m\u001b[39m=\u001b[39m \u001b[39m1\u001b[39m\n\u001b[1;32m    703\u001b[0m \u001b[39mif\u001b[39;00m (\n\u001b[1;32m    704\u001b[0m     \u001b[39mself\u001b[39m\u001b[39m.\u001b[39m_dataset_kind \u001b[39m==\u001b[39m _DatasetKind\u001b[39m.\u001b[39mIterable\n\u001b[1;32m    705\u001b[0m     \u001b[39mand\u001b[39;00m \u001b[39mself\u001b[39m\u001b[39m.\u001b[39m_IterableDataset_len_called \u001b[39mis\u001b[39;00m \u001b[39mnot\u001b[39;00m \u001b[39mNone\u001b[39;00m\n\u001b[1;32m    706\u001b[0m     \u001b[39mand\u001b[39;00m \u001b[39mself\u001b[39m\u001b[39m.\u001b[39m_num_yielded \u001b[39m>\u001b[39m \u001b[39mself\u001b[39m\u001b[39m.\u001b[39m_IterableDataset_len_called\n\u001b[1;32m    707\u001b[0m ):\n",
      "File \u001b[0;32m~/scratch/miniconda3/envs/vlm-debiasing/lib/python3.12/site-packages/torch/utils/data/dataloader.py:757\u001b[0m, in \u001b[0;36m_SingleProcessDataLoaderIter._next_data\u001b[0;34m(self)\u001b[0m\n\u001b[1;32m    755\u001b[0m \u001b[39mdef\u001b[39;00m \u001b[39m_next_data\u001b[39m(\u001b[39mself\u001b[39m):\n\u001b[1;32m    756\u001b[0m     index \u001b[39m=\u001b[39m \u001b[39mself\u001b[39m\u001b[39m.\u001b[39m_next_index()  \u001b[39m# may raise StopIteration\u001b[39;00m\n\u001b[0;32m--> 757\u001b[0m     data \u001b[39m=\u001b[39m \u001b[39mself\u001b[39;49m\u001b[39m.\u001b[39;49m_dataset_fetcher\u001b[39m.\u001b[39;49mfetch(index)  \u001b[39m# may raise StopIteration\u001b[39;00m\n\u001b[1;32m    758\u001b[0m     \u001b[39mif\u001b[39;00m \u001b[39mself\u001b[39m\u001b[39m.\u001b[39m_pin_memory:\n\u001b[1;32m    759\u001b[0m         data \u001b[39m=\u001b[39m _utils\u001b[39m.\u001b[39mpin_memory\u001b[39m.\u001b[39mpin_memory(data, \u001b[39mself\u001b[39m\u001b[39m.\u001b[39m_pin_memory_device)\n",
      "File \u001b[0;32m~/scratch/miniconda3/envs/vlm-debiasing/lib/python3.12/site-packages/torch/utils/data/_utils/fetch.py:55\u001b[0m, in \u001b[0;36m_MapDatasetFetcher.fetch\u001b[0;34m(self, possibly_batched_index)\u001b[0m\n\u001b[1;32m     53\u001b[0m \u001b[39melse\u001b[39;00m:\n\u001b[1;32m     54\u001b[0m     data \u001b[39m=\u001b[39m \u001b[39mself\u001b[39m\u001b[39m.\u001b[39mdataset[possibly_batched_index]\n\u001b[0;32m---> 55\u001b[0m \u001b[39mreturn\u001b[39;00m \u001b[39mself\u001b[39;49m\u001b[39m.\u001b[39;49mcollate_fn(data)\n",
      "Cell \u001b[0;32mIn[30], line 67\u001b[0m, in \u001b[0;36mcollate_fn\u001b[0;34m(batch)\u001b[0m\n\u001b[1;32m     64\u001b[0m padded_data \u001b[39m=\u001b[39m torch\u001b[39m.\u001b[39mnn\u001b[39m.\u001b[39mutils\u001b[39m.\u001b[39mrnn\u001b[39m.\u001b[39mpad_sequence(data, batch_first\u001b[39m=\u001b[39m\u001b[39mTrue\u001b[39;00m, padding_value\u001b[39m=\u001b[39m\u001b[39m0\u001b[39m)\n\u001b[1;32m     66\u001b[0m \u001b[39m# Pack padded sequences\u001b[39;00m\n\u001b[0;32m---> 67\u001b[0m packed_data \u001b[39m=\u001b[39m pack_padded_sequence(padded_data, lengths, batch_first\u001b[39m=\u001b[39;49m\u001b[39mTrue\u001b[39;49;00m, enforce_sorted\u001b[39m=\u001b[39;49m\u001b[39mFalse\u001b[39;49;00m)\n\u001b[1;32m     69\u001b[0m labels_tensor \u001b[39m=\u001b[39m torch\u001b[39m.\u001b[39mstack(labels, dim\u001b[39m=\u001b[39m\u001b[39m0\u001b[39m)\n\u001b[1;32m     71\u001b[0m \u001b[39mreturn\u001b[39;00m packed_data, labels_tensor\n",
      "File \u001b[0;32m~/scratch/miniconda3/envs/vlm-debiasing/lib/python3.12/site-packages/torch/nn/utils/rnn.py:338\u001b[0m, in \u001b[0;36mpack_padded_sequence\u001b[0;34m(input, lengths, batch_first, enforce_sorted)\u001b[0m\n\u001b[1;32m    335\u001b[0m     batch_dim \u001b[39m=\u001b[39m \u001b[39m0\u001b[39m \u001b[39mif\u001b[39;00m batch_first \u001b[39melse\u001b[39;00m \u001b[39m1\u001b[39m\n\u001b[1;32m    336\u001b[0m     \u001b[39minput\u001b[39m \u001b[39m=\u001b[39m \u001b[39minput\u001b[39m\u001b[39m.\u001b[39mindex_select(batch_dim, sorted_indices)\n\u001b[0;32m--> 338\u001b[0m data, batch_sizes \u001b[39m=\u001b[39m _VF\u001b[39m.\u001b[39;49m_pack_padded_sequence(\u001b[39minput\u001b[39;49m, lengths, batch_first)\n\u001b[1;32m    339\u001b[0m \u001b[39mreturn\u001b[39;00m _packed_sequence_init(data, batch_sizes, sorted_indices, \u001b[39mNone\u001b[39;00m)\n",
      "\u001b[0;31mRuntimeError\u001b[0m: Cannot pack empty tensors."
     ]
    }
   ],
   "source": [
    "batch_size = 4\n",
    "dataloader = DataLoader(train_dataset, batch_size=batch_size, shuffle=True, collate_fn=collate_fn)\n",
    "\n",
    "for batch_data, batch_labels in dataloader:\n",
    "    print(f\"Data Shape: {batch_data.shape}, Labels Shape: {batch_labels.shape}\")"
   ]
  },
  {
   "cell_type": "code",
   "execution_count": null,
   "metadata": {},
   "outputs": [],
   "source": []
  },
  {
   "attachments": {},
   "cell_type": "markdown",
   "metadata": {},
   "source": [
    "# Audio_AST9"
   ]
  },
  {
   "cell_type": "code",
   "execution_count": 80,
   "metadata": {},
   "outputs": [
    {
     "data": {
      "text/plain": [
       "(1214, 768)"
      ]
     },
     "execution_count": 80,
     "metadata": {},
     "output_type": "execute_result"
    }
   ],
   "source": [
    "fle = np.load(\"/home/hice1/mbibars3/scratch/vlm-debiasing/data/e-daic/untarred/301_P/301_AUDIO_ast9.npy\")\n",
    "fle.shape"
   ]
  },
  {
   "cell_type": "code",
   "execution_count": 81,
   "metadata": {},
   "outputs": [],
   "source": [
    "features_csv = pd.read_csv(\"/home/hice1/mbibars3/scratch/vlm-debiasing/data/e-daic/audio_text_visual_paths.csv\")"
   ]
  },
  {
   "cell_type": "code",
   "execution_count": 82,
   "metadata": {},
   "outputs": [
    {
     "data": {
      "text/html": [
       "<div>\n",
       "<style scoped>\n",
       "    .dataframe tbody tr th:only-of-type {\n",
       "        vertical-align: middle;\n",
       "    }\n",
       "\n",
       "    .dataframe tbody tr th {\n",
       "        vertical-align: top;\n",
       "    }\n",
       "\n",
       "    .dataframe thead th {\n",
       "        text-align: right;\n",
       "    }\n",
       "</style>\n",
       "<table border=\"1\" class=\"dataframe\">\n",
       "  <thead>\n",
       "    <tr style=\"text-align: right;\">\n",
       "      <th></th>\n",
       "      <th>split</th>\n",
       "      <th>label</th>\n",
       "      <th>label.1</th>\n",
       "      <th>gender</th>\n",
       "      <th>audio</th>\n",
       "      <th>text</th>\n",
       "      <th>visual</th>\n",
       "      <th>aud_egemaps</th>\n",
       "      <th>aud_ast</th>\n",
       "    </tr>\n",
       "  </thead>\n",
       "  <tbody>\n",
       "    <tr>\n",
       "      <th>0</th>\n",
       "      <td>train</td>\n",
       "      <td>22.0</td>\n",
       "      <td>0</td>\n",
       "      <td>female</td>\n",
       "      <td>/home/hice1/mbibars3/scratch/vlm-debiasing/dat...</td>\n",
       "      <td>/home/hice1/mbibars3/scratch/vlm-debiasing/dat...</td>\n",
       "      <td>/home/hice1/mbibars3/scratch/vlm-debiasing/dat...</td>\n",
       "      <td>/home/hice1/mbibars3/scratch/vlm-debiasing/dat...</td>\n",
       "      <td>/home/hice1/mbibars3/scratch/vlm-debiasing/dat...</td>\n",
       "    </tr>\n",
       "    <tr>\n",
       "      <th>1</th>\n",
       "      <td>test</td>\n",
       "      <td>23.0</td>\n",
       "      <td>0</td>\n",
       "      <td>male</td>\n",
       "      <td>/home/hice1/mbibars3/scratch/vlm-debiasing/dat...</td>\n",
       "      <td>/home/hice1/mbibars3/scratch/vlm-debiasing/dat...</td>\n",
       "      <td>/home/hice1/mbibars3/scratch/vlm-debiasing/dat...</td>\n",
       "      <td>/home/hice1/mbibars3/scratch/vlm-debiasing/dat...</td>\n",
       "      <td>/home/hice1/mbibars3/scratch/vlm-debiasing/dat...</td>\n",
       "    </tr>\n",
       "    <tr>\n",
       "      <th>2</th>\n",
       "      <td>train</td>\n",
       "      <td>19.0</td>\n",
       "      <td>0</td>\n",
       "      <td>male</td>\n",
       "      <td>/home/hice1/mbibars3/scratch/vlm-debiasing/dat...</td>\n",
       "      <td>/home/hice1/mbibars3/scratch/vlm-debiasing/dat...</td>\n",
       "      <td>/home/hice1/mbibars3/scratch/vlm-debiasing/dat...</td>\n",
       "      <td>/home/hice1/mbibars3/scratch/vlm-debiasing/dat...</td>\n",
       "      <td>/home/hice1/mbibars3/scratch/vlm-debiasing/dat...</td>\n",
       "    </tr>\n",
       "    <tr>\n",
       "      <th>3</th>\n",
       "      <td>train</td>\n",
       "      <td>67.0</td>\n",
       "      <td>1</td>\n",
       "      <td>female</td>\n",
       "      <td>/home/hice1/mbibars3/scratch/vlm-debiasing/dat...</td>\n",
       "      <td>/home/hice1/mbibars3/scratch/vlm-debiasing/dat...</td>\n",
       "      <td>/home/hice1/mbibars3/scratch/vlm-debiasing/dat...</td>\n",
       "      <td>/home/hice1/mbibars3/scratch/vlm-debiasing/dat...</td>\n",
       "      <td>/home/hice1/mbibars3/scratch/vlm-debiasing/dat...</td>\n",
       "    </tr>\n",
       "    <tr>\n",
       "      <th>4</th>\n",
       "      <td>dev</td>\n",
       "      <td>39.0</td>\n",
       "      <td>0</td>\n",
       "      <td>male</td>\n",
       "      <td>/home/hice1/mbibars3/scratch/vlm-debiasing/dat...</td>\n",
       "      <td>/home/hice1/mbibars3/scratch/vlm-debiasing/dat...</td>\n",
       "      <td>/home/hice1/mbibars3/scratch/vlm-debiasing/dat...</td>\n",
       "      <td>/home/hice1/mbibars3/scratch/vlm-debiasing/dat...</td>\n",
       "      <td>/home/hice1/mbibars3/scratch/vlm-debiasing/dat...</td>\n",
       "    </tr>\n",
       "  </tbody>\n",
       "</table>\n",
       "</div>"
      ],
      "text/plain": [
       "   split  label  label.1  gender  \\\n",
       "0  train   22.0        0  female   \n",
       "1   test   23.0        0    male   \n",
       "2  train   19.0        0    male   \n",
       "3  train   67.0        1  female   \n",
       "4    dev   39.0        0    male   \n",
       "\n",
       "                                               audio  \\\n",
       "0  /home/hice1/mbibars3/scratch/vlm-debiasing/dat...   \n",
       "1  /home/hice1/mbibars3/scratch/vlm-debiasing/dat...   \n",
       "2  /home/hice1/mbibars3/scratch/vlm-debiasing/dat...   \n",
       "3  /home/hice1/mbibars3/scratch/vlm-debiasing/dat...   \n",
       "4  /home/hice1/mbibars3/scratch/vlm-debiasing/dat...   \n",
       "\n",
       "                                                text  \\\n",
       "0  /home/hice1/mbibars3/scratch/vlm-debiasing/dat...   \n",
       "1  /home/hice1/mbibars3/scratch/vlm-debiasing/dat...   \n",
       "2  /home/hice1/mbibars3/scratch/vlm-debiasing/dat...   \n",
       "3  /home/hice1/mbibars3/scratch/vlm-debiasing/dat...   \n",
       "4  /home/hice1/mbibars3/scratch/vlm-debiasing/dat...   \n",
       "\n",
       "                                              visual  \\\n",
       "0  /home/hice1/mbibars3/scratch/vlm-debiasing/dat...   \n",
       "1  /home/hice1/mbibars3/scratch/vlm-debiasing/dat...   \n",
       "2  /home/hice1/mbibars3/scratch/vlm-debiasing/dat...   \n",
       "3  /home/hice1/mbibars3/scratch/vlm-debiasing/dat...   \n",
       "4  /home/hice1/mbibars3/scratch/vlm-debiasing/dat...   \n",
       "\n",
       "                                         aud_egemaps  \\\n",
       "0  /home/hice1/mbibars3/scratch/vlm-debiasing/dat...   \n",
       "1  /home/hice1/mbibars3/scratch/vlm-debiasing/dat...   \n",
       "2  /home/hice1/mbibars3/scratch/vlm-debiasing/dat...   \n",
       "3  /home/hice1/mbibars3/scratch/vlm-debiasing/dat...   \n",
       "4  /home/hice1/mbibars3/scratch/vlm-debiasing/dat...   \n",
       "\n",
       "                                             aud_ast  \n",
       "0  /home/hice1/mbibars3/scratch/vlm-debiasing/dat...  \n",
       "1  /home/hice1/mbibars3/scratch/vlm-debiasing/dat...  \n",
       "2  /home/hice1/mbibars3/scratch/vlm-debiasing/dat...  \n",
       "3  /home/hice1/mbibars3/scratch/vlm-debiasing/dat...  \n",
       "4  /home/hice1/mbibars3/scratch/vlm-debiasing/dat...  "
      ]
     },
     "execution_count": 82,
     "metadata": {},
     "output_type": "execute_result"
    }
   ],
   "source": [
    "features_csv.head()"
   ]
  },
  {
   "cell_type": "code",
   "execution_count": 83,
   "metadata": {},
   "outputs": [],
   "source": [
    "input_column = 'aud_ast'\n",
    "label_column = 'label.1'\n",
    "\n",
    "train_dataset = PatientAudioDatasetCSV(features_csv[features_csv[\"split\"]==\"train\"], input_column=input_column, label_column=label_column, normalize=True)\n",
    "dev_dataset = PatientAudioDatasetCSV(features_csv[features_csv[\"split\"]==\"dev\"], input_column=input_column, label_column=label_column, normalize=True)\n"
   ]
  },
  {
   "cell_type": "code",
   "execution_count": 104,
   "metadata": {},
   "outputs": [
    {
     "data": {
      "text/plain": [
       "'\\nfor batch_data, batch_labels in dataloader:\\n    print(f\"Data Shape: {batch_data.shape}, Labels Shape: {batch_labels.shape}\")\\n'"
      ]
     },
     "execution_count": 104,
     "metadata": {},
     "output_type": "execute_result"
    }
   ],
   "source": [
    "from torch.utils.data import DataLoader\n",
    "\n",
    "batch_size = 10\n",
    "train_dataloader = DataLoader(train_dataset, batch_size=batch_size, shuffle=False)\n",
    "dev_dataloader = DataLoader(dev_dataset, batch_size=batch_size, shuffle=False)\n",
    "\n",
    "\"\"\"\n",
    "for batch_data, batch_labels in dataloader:\n",
    "    print(f\"Data Shape: {batch_data.shape}, Labels Shape: {batch_labels.shape}\")\n",
    "\"\"\"\n"
   ]
  },
  {
   "cell_type": "code",
   "execution_count": 92,
   "metadata": {},
   "outputs": [],
   "source": [
    "input_channels = 768  # Number of input features per time step\n",
    "conv_channels = 64   # Number of convolutional filters\n",
    "lstm_hidden_size = 128  # LSTM hidden size\n",
    "lstm_layers = 2      # Number of LSTM layers\n",
    "output_size = 1     # Number of classes for classification (or 1 for regression)\n",
    "\n",
    "model = DeepConvLSTM(input_channels, conv_channels, lstm_hidden_size, lstm_layers, output_size)\n"
   ]
  },
  {
   "cell_type": "code",
   "execution_count": 39,
   "metadata": {},
   "outputs": [
    {
     "data": {
      "text/plain": [
       "710913"
      ]
     },
     "execution_count": 39,
     "metadata": {},
     "output_type": "execute_result"
    }
   ],
   "source": [
    "sum(p.numel() for p in model.parameters() if p.requires_grad)"
   ]
  },
  {
   "cell_type": "code",
   "execution_count": 40,
   "metadata": {},
   "outputs": [],
   "source": [
    "import torch.nn.functional as F\n",
    "\n",
    "class FocalLoss(nn.Module):\n",
    "    def __init__(self, gamma = 1.0):\n",
    "        super(FocalLoss, self).__init__()\n",
    "        self.gamma = torch.tensor(gamma, dtype = torch.float32)\n",
    "        self.eps = 1e-6\n",
    "        \n",
    "    def forward(self, input, targets):\n",
    "        BCE_loss = F.binary_cross_entropy_with_logits(inputs, targets, reduction='none')\n",
    "        pt = torch.exp(-BCE_loss) # prevents nans when probability 0\n",
    "        F_loss = self.alpha * (1-pt)**self.gamma * BCE_loss\n",
    "        return focal_loss.mean()"
   ]
  },
  {
   "cell_type": "code",
   "execution_count": 41,
   "metadata": {},
   "outputs": [],
   "source": [
    "learning_rate = 0.001\n",
    "num_epochs = 20\n",
    "mix_prob = 0.5\n",
    "alpha = 1.0\n",
    "# Define loss function and optimizer\n",
    "#criterion = RMSLELoss()\n",
    " # Mean Squared Error for regression\n",
    "optimizer = optim.Adam(model.parameters(), lr=learning_rate)"
   ]
  },
  {
   "cell_type": "code",
   "execution_count": 42,
   "metadata": {},
   "outputs": [],
   "source": [
    "labels_torch = torch.from_numpy(features_csv[features_csv[\"split\"]==\"train\"][\"label.1\"].values)"
   ]
  },
  {
   "cell_type": "code",
   "execution_count": 43,
   "metadata": {},
   "outputs": [],
   "source": [
    "# Calculate class weights\n",
    "class_counts = torch.bincount(labels_torch)  # Get counts for each class\n",
    "class_weights = len(labels_torch) / (2.0 * class_counts)\n",
    "\n",
    "# Apply weights to loss function\n",
    "criterion = nn.BCEWithLogitsLoss(pos_weight=class_weights[0])  # Weight for positive class\n"
   ]
  },
  {
   "cell_type": "code",
   "execution_count": 44,
   "metadata": {},
   "outputs": [
    {
     "data": {
      "text/plain": [
       "tensor([0.7149, 1.6633])"
      ]
     },
     "execution_count": 44,
     "metadata": {},
     "output_type": "execute_result"
    }
   ],
   "source": [
    "class_weights"
   ]
  },
  {
   "cell_type": "code",
   "execution_count": 45,
   "metadata": {},
   "outputs": [
    {
     "name": "stdout",
     "output_type": "stream",
     "text": [
      "best val loss  0 :  0.5131672819455465\n",
      "Epoch [1/20], Train Loss: 0.5346, Val Loss: 0.5132, Train F1: 0.5757, Val F1: 0.5718\n",
      "best val loss  1 :  0.5034743050734202\n",
      "Epoch [2/20], Train Loss: 0.5152, Val Loss: 0.5035, Train F1: 0.5757, Val F1: 0.5718\n",
      "best val loss  2 :  0.5032101919253668\n",
      "Epoch [3/20], Train Loss: 0.4976, Val Loss: 0.5032, Train F1: 0.5757, Val F1: 0.5718\n",
      "Epoch [4/20], Train Loss: 0.5076, Val Loss: 0.5055, Train F1: 0.5757, Val F1: 0.5718\n",
      "Epoch [5/20], Train Loss: 0.5164, Val Loss: 0.5089, Train F1: 0.5757, Val F1: 0.5718\n",
      "Epoch [6/20], Train Loss: 0.5057, Val Loss: 0.5120, Train F1: 0.5757, Val F1: 0.5718\n",
      "Epoch [7/20], Train Loss: 0.4827, Val Loss: 0.5208, Train F1: 0.5757, Val F1: 0.5718\n",
      "Epoch [8/20], Train Loss: 0.4789, Val Loss: 0.5264, Train F1: 0.5757, Val F1: 0.5718\n",
      "Epoch [9/20], Train Loss: 0.4792, Val Loss: 0.5222, Train F1: 0.5757, Val F1: 0.5718\n",
      "Epoch [10/20], Train Loss: 0.4702, Val Loss: 0.5173, Train F1: 0.5757, Val F1: 0.5718\n",
      "Epoch [11/20], Train Loss: 0.4512, Val Loss: 0.5218, Train F1: 0.5757, Val F1: 0.5718\n",
      "Epoch [12/20], Train Loss: 0.3749, Val Loss: 0.5680, Train F1: 0.6000, Val F1: 0.6045\n",
      "Epoch [13/20], Train Loss: 0.4058, Val Loss: 0.5522, Train F1: 0.7821, Val F1: 0.6116\n",
      "Epoch [14/20], Train Loss: 0.3002, Val Loss: 0.6425, Train F1: 0.8430, Val F1: 0.6554\n",
      "Epoch [15/20], Train Loss: 0.2039, Val Loss: 0.7713, Train F1: 0.9130, Val F1: 0.5857\n",
      "Epoch [16/20], Train Loss: 0.1736, Val Loss: 0.9393, Train F1: 0.9383, Val F1: 0.6015\n",
      "Epoch [17/20], Train Loss: 0.1474, Val Loss: 0.8190, Train F1: 0.9319, Val F1: 0.5857\n",
      "Epoch [18/20], Train Loss: 0.0956, Val Loss: 0.9827, Train F1: 0.9694, Val F1: 0.5631\n",
      "Epoch [19/20], Train Loss: 0.0667, Val Loss: 1.1224, Train F1: 0.9755, Val F1: 0.5585\n",
      "Epoch [20/20], Train Loss: 0.0635, Val Loss: 0.9957, Train F1: 0.9815, Val F1: 0.5799\n"
     ]
    }
   ],
   "source": [
    "from sklearn.metrics import f1_score\n",
    "# Define variables to track losses\n",
    "train_losses = []\n",
    "val_losses = []\n",
    "best_val_loss = float('inf')  # Initialize best validation loss\n",
    "\n",
    "# Training loop\n",
    "for epoch in range(num_epochs):\n",
    "    model.train()\n",
    "\n",
    "    running_train_loss = 0.0\n",
    "    all_train_labels = []\n",
    "    all_train_preds = []\n",
    "    all_dev_labels = []\n",
    "    all_dev_preds = []\n",
    "\n",
    "    for batch in train_dataloader:\n",
    "        _btch, labels = batch\n",
    "        optimizer.zero_grad()\n",
    "        inputs = _btch\n",
    "        output = model(inputs)\n",
    "        \n",
    "        labels = labels.view(output.shape)\n",
    "        loss = criterion(output, labels)\n",
    "        loss.backward()\n",
    "        optimizer.step()\n",
    "        \n",
    "        # Accumulate loss\n",
    "        running_train_loss += loss.item()\n",
    "        # Convert logits to predictions\n",
    "        preds = torch.sigmoid(output) > 0.5\n",
    "        #print(np.unique(preds.detach().numpy()))\n",
    "        all_train_labels.extend(labels.cpu().numpy().flatten())\n",
    "        all_train_preds.extend(preds.cpu().numpy().flatten())\n",
    "\n",
    "    # Average training loss for the epoch\n",
    "    train_loss = running_train_loss / len(train_dataloader)\n",
    "    train_losses.append(train_loss)\n",
    "\n",
    "    # Validation Phase\n",
    "    model.eval()  # Set model to evaluation mode\n",
    "    running_val_loss = 0.0\n",
    "\n",
    "    with torch.no_grad():  # Disable gradient computation\n",
    "        for batch in dev_dataloader:  # Use validation DataLoader\n",
    "            _btch, labels = batch\n",
    "\n",
    "            # Forward pass\n",
    "            inputs = _btch\n",
    "            output = model(inputs)\n",
    "\n",
    "            # Reshape labels to match the output shape if necessary\n",
    "            labels = labels.view(output.shape)\n",
    "\n",
    "            # Compute loss\n",
    "            loss = criterion(output, labels)\n",
    "            #loss = torch.sqrt(loss)\n",
    "\n",
    "            running_val_loss += loss.item()\n",
    "            preds = torch.sigmoid(output) > 0.5\n",
    "            all_dev_labels.extend(labels.cpu().numpy().flatten())\n",
    "            all_dev_preds.extend(preds.cpu().numpy().flatten())\n",
    "\n",
    "    # Average validation loss for the epoch\n",
    "    val_loss = running_val_loss / len(dev_dataloader)\n",
    "    val_losses.append(val_loss)\n",
    "\n",
    "    # Check if this is the best model\n",
    "    if val_loss < best_val_loss:\n",
    "        best_val_loss = val_loss\n",
    "        print(\"best val loss \", epoch, \": \", best_val_loss)\n",
    "        #torch.save(model.state_dict(), \"best_aud_text_model.pth\")  # Save best model\n",
    "\n",
    "    # Compute F1-score for training\n",
    "    train_f1 = f1_score(all_train_labels, all_train_preds, average='weighted')\n",
    "    dev_f1 = f1_score(all_dev_labels, all_dev_preds, average='weighted')\n",
    "\n",
    "    # Print epoch summary\n",
    "    print(f\"Epoch [{epoch+1}/{num_epochs}], Train Loss: {train_loss:.4f}, Val Loss: {val_loss:.4f}, Train F1: {train_f1:.4f}, Val F1: {dev_f1:.4f}\")\n",
    "    #print(f\"Epoch [{epoch+1}/{num_epochs}], Train Loss: {train_loss:.4f}, Val Loss: {val_loss:.4f}\")\n"
   ]
  },
  {
   "cell_type": "code",
   "execution_count": 231,
   "metadata": {},
   "outputs": [],
   "source": [
    "torch.save(model.state_dict(), \"deepconvlstm_overfit_classification_model.pth\")  # Save best model"
   ]
  },
  {
   "cell_type": "code",
   "execution_count": 93,
   "metadata": {},
   "outputs": [
    {
     "data": {
      "text/plain": [
       "<All keys matched successfully>"
      ]
     },
     "execution_count": 93,
     "metadata": {},
     "output_type": "execute_result"
    }
   ],
   "source": [
    "model.load_state_dict(torch.load(\"deepconvlstm_overfit_classification_model.pth\", weights_only=True))"
   ]
  },
  {
   "cell_type": "code",
   "execution_count": 87,
   "metadata": {},
   "outputs": [
    {
     "name": "stdout",
     "output_type": "stream",
     "text": [
      "Predictions:\n",
      "[0 1]\n",
      "0.7414965986394557\n"
     ]
    }
   ],
   "source": [
    "# Model prediction\n",
    "model.eval()  # Set model to evaluation mode\n",
    "lab = []\n",
    "predictions = []\n",
    "with torch.no_grad():  # Disable gradient computation\n",
    "    for batch in dev_dataloader:\n",
    "        _data, labels = batch\n",
    "        output = model(_data)  # Model's prediction\n",
    "        \n",
    "        predicts = torch.sigmoid(output)  # Apply sigmoid activation\n",
    "        predicted_classes = (predicts > 0.5).int()  # Convert probabilities to binary predictions\n",
    "        #print(f\"Predicted Probabilities:\\n{predictions}\")\n",
    "        #print(f\"Predicted Classes:\\n{predicted_classes}\")\n",
    "        # Collect predictions\n",
    "        #predictions.append(output)\n",
    "        predictions.append(predicted_classes)\n",
    "        lab.append(labels)\n",
    "\n",
    "# Combine predictions into a single tensor\n",
    "#predictions = torch.cat(predicted_classes, dim=0)\n",
    "#y_pred = np.array(predictions)\n",
    "out = np.concatenate(predictions).ravel()\n",
    "labels = np.concatenate(lab).ravel()\n",
    "dev_f1 = f1_score(out, labels, average='weighted')\n",
    "print(f\"Predictions:\\n{np.unique(out)}\")\n",
    "print(dev_f1)"
   ]
  },
  {
   "cell_type": "code",
   "execution_count": 73,
   "metadata": {},
   "outputs": [
    {
     "name": "stdout",
     "output_type": "stream",
     "text": [
      "Predictions:\n",
      "[0 1]\n",
      "0.9938832590985381\n"
     ]
    }
   ],
   "source": [
    "# Model prediction\n",
    "model.eval()  # Set model to evaluation mode\n",
    "lab = []\n",
    "predictions = []\n",
    "with torch.no_grad():  # Disable gradient computation\n",
    "    for batch in train_dataloader:\n",
    "        _data, labels = batch\n",
    "        output = model(_data)  # Model's prediction\n",
    "        \n",
    "        predicts = torch.sigmoid(output)  # Apply sigmoid activation\n",
    "        predicted_classes = (predicts > 0.5).int()  # Convert probabilities to binary predictions\n",
    "        #print(f\"Predicted Probabilities:\\n{predictions}\")\n",
    "        #print(f\"Predicted Classes:\\n{predicted_classes}\")\n",
    "        # Collect predictions\n",
    "        #predictions.append(output)\n",
    "        predictions.append(predicted_classes)\n",
    "        lab.append(labels)\n",
    "\n",
    "# Combine predictions into a single tensor\n",
    "#predictions = torch.cat(predicted_classes, dim=0)\n",
    "#y_pred = np.array(predictions)\n",
    "out = np.concatenate(predictions).ravel()\n",
    "labels = np.concatenate(lab).ravel()\n",
    "dev_f1 = f1_score(out, labels, average='weighted')\n",
    "print(f\"Predictions:\\n{np.unique(out)}\")\n",
    "print(dev_f1)"
   ]
  },
  {
   "cell_type": "code",
   "execution_count": 218,
   "metadata": {},
   "outputs": [
    {
     "data": {
      "image/png": "[encoded data removed]",
      "text/plain": [
       "<Figure size 800x600 with 1 Axes>"
      ]
     },
     "metadata": {},
     "output_type": "display_data"
    }
   ],
   "source": [
    "# Plot training and validation losses\n",
    "plt.figure(figsize=(8, 6))\n",
    "plt.plot(train_losses, label=\"Training Loss\")\n",
    "plt.plot(val_losses, label=\"Validation Loss\")\n",
    "plt.xlabel(\"Epoch\")\n",
    "plt.ylabel(\"Loss\")\n",
    "plt.title(\"Training and Validation Loss\")\n",
    "plt.legend()\n",
    "plt.savefig(\"loss_plot.png\")  # Save the plot\n",
    "plt.show()"
   ]
  },
  {
   "cell_type": "code",
   "execution_count": 64,
   "metadata": {},
   "outputs": [],
   "source": [
    "y_pred= out"
   ]
  },
  {
   "cell_type": "code",
   "execution_count": 65,
   "metadata": {},
   "outputs": [],
   "source": [
    "y_test = np.array(features_csv[features_csv[\"split\"]==\"dev\"][\"label\"].values)"
   ]
  },
  {
   "cell_type": "code",
   "execution_count": 66,
   "metadata": {},
   "outputs": [
    {
     "data": {
      "text/plain": [
       "array(['female', 'male', 'unknown'], dtype=object)"
      ]
     },
     "execution_count": 66,
     "metadata": {},
     "output_type": "execute_result"
    }
   ],
   "source": [
    "np.unique(features_csv['gender'])"
   ]
  },
  {
   "cell_type": "code",
   "execution_count": 112,
   "metadata": {},
   "outputs": [],
   "source": [
    "features_csv['col_encoded'] = features_csv['gender'].map({'female': 0, 'male': 1, 'unknown':1})"
   ]
  },
  {
   "cell_type": "code",
   "execution_count": 68,
   "metadata": {},
   "outputs": [
    {
     "data": {
      "text/plain": [
       "array([0, 1])"
      ]
     },
     "execution_count": 68,
     "metadata": {},
     "output_type": "execute_result"
    }
   ],
   "source": [
    "np.unique(features_csv['col_encoded'])"
   ]
  },
  {
   "cell_type": "code",
   "execution_count": 69,
   "metadata": {},
   "outputs": [
    {
     "name": "stdout",
     "output_type": "stream",
     "text": [
      "Shape of gender_test: (56,)\n",
      "Shape of y_test: (56,)\n",
      "Shape of y_pred: (56,)\n"
     ]
    }
   ],
   "source": [
    "from fairlearn.metrics import demographic_parity_difference\n",
    "\n",
    "# Assuming `gender` corresponds to the original metadata\n",
    "# Split the dataset into training and testing sets for `gender`\n",
    "gender_train, gender_test = features_csv[features_csv[\"split\"]==\"dev\"][\"col_encoded\"], features_csv[features_csv[\"split\"]==\"dev\"][\"col_encoded\"]\n",
    "\n",
    "# Ensure that `gender_test`, `y_test`, and `y_pred` are aligned\n",
    "print(f\"Shape of gender_test: {gender_train.shape}\")\n",
    "print(f\"Shape of y_test: {y_test.shape}\")\n",
    "print(f\"Shape of y_pred: {y_pred.shape}\")\n",
    "\n"
   ]
  },
  {
   "cell_type": "code",
   "execution_count": 70,
   "metadata": {},
   "outputs": [
    {
     "name": "stdout",
     "output_type": "stream",
     "text": [
      "Demographic Parity Difference: 0.04444444444444445\n"
     ]
    }
   ],
   "source": [
    "# Calculate Demographic Parity Difference\n",
    "demographic_parity = demographic_parity_difference(\n",
    "    y_true=y_test,\n",
    "    y_pred=y_pred,\n",
    "    sensitive_features=gender_train\n",
    ")\n",
    "\n",
    "print(f\"Demographic Parity Difference: {demographic_parity}\")"
   ]
  },
  {
   "cell_type": "code",
   "execution_count": 71,
   "metadata": {},
   "outputs": [
    {
     "name": "stdout",
     "output_type": "stream",
     "text": [
      "Selection Rates by Group:\n",
      "col_encoded\n",
      "0    0.100000\n",
      "1    0.055556\n",
      "Name: selection_rate, dtype: float64\n"
     ]
    }
   ],
   "source": [
    "from fairlearn.metrics import MetricFrame, selection_rate\n",
    "metric_frame = MetricFrame(metrics=selection_rate, \n",
    "                           y_true=y_test, \n",
    "                           y_pred=y_pred, \n",
    "                           sensitive_features=gender_train)\n",
    "\n",
    "# Get selection rates for each group\n",
    "selection_rates = metric_frame.by_group\n",
    "print(\"Selection Rates by Group:\")\n",
    "print(selection_rates)\n"
   ]
  },
  {
   "cell_type": "code",
   "execution_count": 72,
   "metadata": {},
   "outputs": [
    {
     "name": "stdout",
     "output_type": "stream",
     "text": [
      "Demographic Parity Ratio: 0.5555555555555555\n"
     ]
    }
   ],
   "source": [
    "group_a_rate = selection_rates[1]\n",
    "group_b_rate = selection_rates[0]\n",
    "\n",
    "if group_b_rate > 0:  # Avoid division by zero\n",
    "    demographic_parity_ratio = group_a_rate / group_b_rate\n",
    "    print(f\"Demographic Parity Ratio: {demographic_parity_ratio}\")"
   ]
  },
  {
   "cell_type": "code",
   "execution_count": 115,
   "metadata": {},
   "outputs": [],
   "source": [
    "gend_label = np.array(features_csv[features_csv[\"split\"]==\"train\"][\"col_encoded\"].values)"
   ]
  },
  {
   "cell_type": "code",
   "execution_count": 124,
   "metadata": {},
   "outputs": [
    {
     "name": "stdout",
     "output_type": "stream",
     "text": [
      "(163, 38400)\n",
      "(163,)\n"
     ]
    }
   ],
   "source": [
    "# Model prediction\n",
    "model.eval()  # Set model to evaluation mode\n",
    "lab = []\n",
    "embeddings = []\n",
    "with torch.no_grad():  # Disable gradient computation\n",
    "    for batch in train_dataloader:\n",
    "        _data, labels = batch\n",
    "        output = model(_data) \n",
    "        #print(output.shape) \n",
    "        embeddings.append(output)\n",
    "        lab.append(labels)\n",
    "\n",
    "embeddings = np.concatenate(embeddings).reshape(163,-1)\n",
    "labels = np.concatenate(lab).ravel()\n",
    "print(embeddings.shape)\n",
    "print(labels.shape)"
   ]
  },
  {
   "cell_type": "code",
   "execution_count": 127,
   "metadata": {},
   "outputs": [
    {
     "data": {
      "image/png": "[encoded data removed]",
      "text/plain": [
       "<Figure size 800x600 with 2 Axes>"
      ]
     },
     "metadata": {},
     "output_type": "display_data"
    }
   ],
   "source": [
    "import matplotlib.pyplot as plt\n",
    "from sklearn.manifold import TSNE\n",
    "from sklearn.decomposition import PCA\n",
    "\n",
    "# Assume embeddings is a NumPy array of shape (num_samples, embedding_dim)\n",
    "# labels is the corresponding array of ground truth labels\n",
    "\n",
    "# Reduce dimensions to 2D using t-SNE\n",
    "tsne = TSNE(n_components=2, perplexity=30, random_state=42)\n",
    "embeddings_2d = tsne.fit_transform(embeddings)\n",
    "\n",
    "# Plot the t-SNE embeddings\n",
    "plt.figure(figsize=(8, 6))\n",
    "scatter = plt.scatter(embeddings_2d[:, 0], embeddings_2d[:, 1], c=labels, cmap='viridis', alpha=0.7)\n",
    "plt.colorbar(scatter, label='Labels')\n",
    "plt.title(\"t-SNE Visualization of Learned Embeddings\")\n",
    "plt.xlabel(\"t-SNE Dimension 1\")\n",
    "plt.ylabel(\"t-SNE Dimension 2\")\n",
    "plt.savefig(\"tsne_embeddings.png\")  # Save the plot\n",
    "plt.show()"
   ]
  },
  {
   "cell_type": "code",
   "execution_count": 114,
   "metadata": {},
   "outputs": [
    {
     "data": {
      "image/png": "[encoded data removed]",
      "text/plain": [
       "<Figure size 800x600 with 2 Axes>"
      ]
     },
     "metadata": {},
     "output_type": "display_data"
    }
   ],
   "source": [
    "import matplotlib.pyplot as plt\n",
    "from sklearn.manifold import TSNE\n",
    "from sklearn.decomposition import PCA\n",
    "\n",
    "# Assume embeddings is a NumPy array of shape (num_samples, embedding_dim)\n",
    "# labels is the corresponding array of ground truth labels\n",
    "\n",
    "# Reduce dimensions to 2D using t-SNE\n",
    "tsne = TSNE(n_components=2, perplexity=30, random_state=42)\n",
    "embeddings_2d = tsne.fit_transform(embeddings)\n",
    "\n",
    "# Plot the t-SNE embeddings\n",
    "plt.figure(figsize=(8, 6))\n",
    "scatter = plt.scatter(embeddings_2d[:, 0], embeddings_2d[:, 1], c=gend_label, cmap='viridis', alpha=0.7)\n",
    "plt.colorbar(scatter, label='Labels')\n",
    "plt.title(\"t-SNE Visualization of Learned Embeddings\")\n",
    "plt.xlabel(\"t-SNE Dimension 1\")\n",
    "plt.ylabel(\"t-SNE Dimension 2\")\n",
    "plt.savefig(\"tsne_embeddings.png\")  # Save the plot\n",
    "plt.show()"
   ]
  },
  {
   "cell_type": "code",
   "execution_count": null,
   "metadata": {},
   "outputs": [],
   "source": [
    "gend_label = np.array(features_csv[features_csv[\"split\"]==\"dev\"][\"col_encoded\"].values)"
   ]
  },
  {
   "cell_type": "code",
   "execution_count": 116,
   "metadata": {},
   "outputs": [
    {
     "name": "stdout",
     "output_type": "stream",
     "text": [
      "(56, 38400)\n",
      "(56,)\n"
     ]
    }
   ],
   "source": [
    "# Model prediction\n",
    "model.eval()  # Set model to evaluation mode\n",
    "lab = []\n",
    "embeddings = []\n",
    "with torch.no_grad():  # Disable gradient computation\n",
    "    for batch in dev_dataloader:\n",
    "        _data, labels = batch\n",
    "        output = model(_data) \n",
    "        #print(output.shape) \n",
    "        embeddings.append(output)\n",
    "        lab.append(labels)\n",
    "\n",
    "embeddings = np.concatenate(embeddings).reshape(56,-1)\n",
    "labels = np.concatenate(lab).ravel()\n",
    "print(embeddings.shape)\n",
    "print(labels.shape)"
   ]
  },
  {
   "cell_type": "code",
   "execution_count": 123,
   "metadata": {},
   "outputs": [
    {
     "data": {
      "image/png": "[encoded data removed]",
      "text/plain": [
       "<Figure size 800x600 with 2 Axes>"
      ]
     },
     "metadata": {},
     "output_type": "display_data"
    }
   ],
   "source": [
    "import matplotlib.pyplot as plt\n",
    "from sklearn.manifold import TSNE\n",
    "from sklearn.decomposition import PCA\n",
    "\n",
    "# Assume embeddings is a NumPy array of shape (num_samples, embedding_dim)\n",
    "# labels is the corresponding array of ground truth labels\n",
    "\n",
    "# Reduce dimensions to 2D using t-SNE\n",
    "tsne = TSNE(n_components=2, perplexity=50, random_state=42)\n",
    "embeddings_2d = tsne.fit_transform(embeddings)\n",
    "\n",
    "# Plot the t-SNE embeddings\n",
    "plt.figure(figsize=(8, 6))\n",
    "scatter = plt.scatter(embeddings_2d[:, 0], embeddings_2d[:, 1], c=labels, cmap='viridis', alpha=0.7)\n",
    "plt.colorbar(scatter, label='Labels')\n",
    "plt.title(\"t-SNE Visualization of Learned Embeddings\")\n",
    "plt.xlabel(\"t-SNE Dimension 1\")\n",
    "plt.ylabel(\"t-SNE Dimension 2\")\n",
    "plt.savefig(\"tsne_embeddings.png\")  # Save the plot\n",
    "plt.show()"
   ]
  },
  {
   "attachments": {},
   "cell_type": "markdown",
   "metadata": {},
   "source": [
    "# Audio_AAST9 Resampling Gender"
   ]
  },
  {
   "cell_type": "code",
   "execution_count": 7,
   "metadata": {},
   "outputs": [],
   "source": [
    "features_csv = pd.read_csv(\"/home/hice1/mbibars3/scratch/vlm-debiasing/data/e-daic/undersampled_embeddings.csv\")"
   ]
  },
  {
   "cell_type": "code",
   "execution_count": 8,
   "metadata": {},
   "outputs": [
    {
     "data": {
      "text/html": [
       "<div>\n",
       "<style scoped>\n",
       "    .dataframe tbody tr th:only-of-type {\n",
       "        vertical-align: middle;\n",
       "    }\n",
       "\n",
       "    .dataframe tbody tr th {\n",
       "        vertical-align: top;\n",
       "    }\n",
       "\n",
       "    .dataframe thead th {\n",
       "        text-align: right;\n",
       "    }\n",
       "</style>\n",
       "<table border=\"1\" class=\"dataframe\">\n",
       "  <thead>\n",
       "    <tr style=\"text-align: right;\">\n",
       "      <th></th>\n",
       "      <th>split</th>\n",
       "      <th>label</th>\n",
       "      <th>label.1</th>\n",
       "      <th>gender</th>\n",
       "      <th>audio</th>\n",
       "      <th>text</th>\n",
       "      <th>visual</th>\n",
       "      <th>aud_egemaps</th>\n",
       "      <th>aud_ast</th>\n",
       "    </tr>\n",
       "  </thead>\n",
       "  <tbody>\n",
       "    <tr>\n",
       "      <th>0</th>\n",
       "      <td>train</td>\n",
       "      <td>23.0</td>\n",
       "      <td>0</td>\n",
       "      <td>male</td>\n",
       "      <td>/home/hice1/mbibars3/scratch/vlm-debiasing/dat...</td>\n",
       "      <td>/home/hice1/mbibars3/scratch/vlm-debiasing/dat...</td>\n",
       "      <td>/home/hice1/mbibars3/scratch/vlm-debiasing/dat...</td>\n",
       "      <td>/home/hice1/mbibars3/scratch/vlm-debiasing/dat...</td>\n",
       "      <td>/home/hice1/mbibars3/scratch/vlm-debiasing/dat...</td>\n",
       "    </tr>\n",
       "    <tr>\n",
       "      <th>1</th>\n",
       "      <td>dev</td>\n",
       "      <td>27.0</td>\n",
       "      <td>0</td>\n",
       "      <td>female</td>\n",
       "      <td>/home/hice1/mbibars3/scratch/vlm-debiasing/dat...</td>\n",
       "      <td>/home/hice1/mbibars3/scratch/vlm-debiasing/dat...</td>\n",
       "      <td>/home/hice1/mbibars3/scratch/vlm-debiasing/dat...</td>\n",
       "      <td>/home/hice1/mbibars3/scratch/vlm-debiasing/dat...</td>\n",
       "      <td>/home/hice1/mbibars3/scratch/vlm-debiasing/dat...</td>\n",
       "    </tr>\n",
       "    <tr>\n",
       "      <th>2</th>\n",
       "      <td>dev</td>\n",
       "      <td>26.0</td>\n",
       "      <td>0</td>\n",
       "      <td>male</td>\n",
       "      <td>/home/hice1/mbibars3/scratch/vlm-debiasing/dat...</td>\n",
       "      <td>/home/hice1/mbibars3/scratch/vlm-debiasing/dat...</td>\n",
       "      <td>/home/hice1/mbibars3/scratch/vlm-debiasing/dat...</td>\n",
       "      <td>/home/hice1/mbibars3/scratch/vlm-debiasing/dat...</td>\n",
       "      <td>/home/hice1/mbibars3/scratch/vlm-debiasing/dat...</td>\n",
       "    </tr>\n",
       "    <tr>\n",
       "      <th>3</th>\n",
       "      <td>train</td>\n",
       "      <td>29.0</td>\n",
       "      <td>0</td>\n",
       "      <td>female</td>\n",
       "      <td>/home/hice1/mbibars3/scratch/vlm-debiasing/dat...</td>\n",
       "      <td>/home/hice1/mbibars3/scratch/vlm-debiasing/dat...</td>\n",
       "      <td>/home/hice1/mbibars3/scratch/vlm-debiasing/dat...</td>\n",
       "      <td>/home/hice1/mbibars3/scratch/vlm-debiasing/dat...</td>\n",
       "      <td>/home/hice1/mbibars3/scratch/vlm-debiasing/dat...</td>\n",
       "    </tr>\n",
       "    <tr>\n",
       "      <th>4</th>\n",
       "      <td>test</td>\n",
       "      <td>77.0</td>\n",
       "      <td>1</td>\n",
       "      <td>male</td>\n",
       "      <td>/home/hice1/mbibars3/scratch/vlm-debiasing/dat...</td>\n",
       "      <td>/home/hice1/mbibars3/scratch/vlm-debiasing/dat...</td>\n",
       "      <td>/home/hice1/mbibars3/scratch/vlm-debiasing/dat...</td>\n",
       "      <td>/home/hice1/mbibars3/scratch/vlm-debiasing/dat...</td>\n",
       "      <td>/home/hice1/mbibars3/scratch/vlm-debiasing/dat...</td>\n",
       "    </tr>\n",
       "  </tbody>\n",
       "</table>\n",
       "</div>"
      ],
      "text/plain": [
       "   split  label  label.1  gender  \\\n",
       "0  train   23.0        0    male   \n",
       "1    dev   27.0        0  female   \n",
       "2    dev   26.0        0    male   \n",
       "3  train   29.0        0  female   \n",
       "4   test   77.0        1    male   \n",
       "\n",
       "                                               audio  \\\n",
       "0  /home/hice1/mbibars3/scratch/vlm-debiasing/dat...   \n",
       "1  /home/hice1/mbibars3/scratch/vlm-debiasing/dat...   \n",
       "2  /home/hice1/mbibars3/scratch/vlm-debiasing/dat...   \n",
       "3  /home/hice1/mbibars3/scratch/vlm-debiasing/dat...   \n",
       "4  /home/hice1/mbibars3/scratch/vlm-debiasing/dat...   \n",
       "\n",
       "                                                text  \\\n",
       "0  /home/hice1/mbibars3/scratch/vlm-debiasing/dat...   \n",
       "1  /home/hice1/mbibars3/scratch/vlm-debiasing/dat...   \n",
       "2  /home/hice1/mbibars3/scratch/vlm-debiasing/dat...   \n",
       "3  /home/hice1/mbibars3/scratch/vlm-debiasing/dat...   \n",
       "4  /home/hice1/mbibars3/scratch/vlm-debiasing/dat...   \n",
       "\n",
       "                                              visual  \\\n",
       "0  /home/hice1/mbibars3/scratch/vlm-debiasing/dat...   \n",
       "1  /home/hice1/mbibars3/scratch/vlm-debiasing/dat...   \n",
       "2  /home/hice1/mbibars3/scratch/vlm-debiasing/dat...   \n",
       "3  /home/hice1/mbibars3/scratch/vlm-debiasing/dat...   \n",
       "4  /home/hice1/mbibars3/scratch/vlm-debiasing/dat...   \n",
       "\n",
       "                                         aud_egemaps  \\\n",
       "0  /home/hice1/mbibars3/scratch/vlm-debiasing/dat...   \n",
       "1  /home/hice1/mbibars3/scratch/vlm-debiasing/dat...   \n",
       "2  /home/hice1/mbibars3/scratch/vlm-debiasing/dat...   \n",
       "3  /home/hice1/mbibars3/scratch/vlm-debiasing/dat...   \n",
       "4  /home/hice1/mbibars3/scratch/vlm-debiasing/dat...   \n",
       "\n",
       "                                             aud_ast  \n",
       "0  /home/hice1/mbibars3/scratch/vlm-debiasing/dat...  \n",
       "1  /home/hice1/mbibars3/scratch/vlm-debiasing/dat...  \n",
       "2  /home/hice1/mbibars3/scratch/vlm-debiasing/dat...  \n",
       "3  /home/hice1/mbibars3/scratch/vlm-debiasing/dat...  \n",
       "4  /home/hice1/mbibars3/scratch/vlm-debiasing/dat...  "
      ]
     },
     "execution_count": 8,
     "metadata": {},
     "output_type": "execute_result"
    }
   ],
   "source": [
    "features_csv.head()"
   ]
  },
  {
   "cell_type": "code",
   "execution_count": 9,
   "metadata": {},
   "outputs": [],
   "source": [
    "input_column = 'aud_ast'\n",
    "label_column = 'label.1'\n",
    "\n",
    "train_dataset = PatientAudioDatasetCSV(features_csv[features_csv[\"split\"]==\"train\"], input_column=input_column, label_column=label_column, normalize=True)\n",
    "dev_dataset = PatientAudioDatasetCSV(features_csv[features_csv[\"split\"]==\"dev\"], input_column=input_column, label_column=label_column, normalize=True)\n"
   ]
  },
  {
   "cell_type": "code",
   "execution_count": 10,
   "metadata": {},
   "outputs": [
    {
     "data": {
      "text/plain": [
       "'\\nfor batch_data, batch_labels in dataloader:\\n    print(f\"Data Shape: {batch_data.shape}, Labels Shape: {batch_labels.shape}\")\\n'"
      ]
     },
     "execution_count": 10,
     "metadata": {},
     "output_type": "execute_result"
    }
   ],
   "source": [
    "from torch.utils.data import DataLoader\n",
    "\n",
    "batch_size = 10\n",
    "train_dataloader = DataLoader(train_dataset, batch_size=batch_size, shuffle=True)\n",
    "dev_dataloader = DataLoader(dev_dataset, batch_size=batch_size, shuffle=False)\n",
    "\n",
    "\"\"\"\n",
    "for batch_data, batch_labels in dataloader:\n",
    "    print(f\"Data Shape: {batch_data.shape}, Labels Shape: {batch_labels.shape}\")\n",
    "\"\"\""
   ]
  },
  {
   "cell_type": "code",
   "execution_count": 91,
   "metadata": {},
   "outputs": [],
   "source": [
    "input_channels = 768  # Number of input features per time step\n",
    "conv_channels = 64   # Number of convolutional filters\n",
    "lstm_hidden_size = 128  # LSTM hidden size\n",
    "lstm_layers = 2      # Number of LSTM layers\n",
    "output_size = 1     # Number of classes for classification (or 1 for regression)\n",
    "\n",
    "model = DeepConvLSTM(input_channels, conv_channels, lstm_hidden_size, lstm_layers, output_size)\n"
   ]
  },
  {
   "cell_type": "code",
   "execution_count": 12,
   "metadata": {},
   "outputs": [
    {
     "data": {
      "text/plain": [
       "710913"
      ]
     },
     "execution_count": 12,
     "metadata": {},
     "output_type": "execute_result"
    }
   ],
   "source": [
    "sum(p.numel() for p in model.parameters() if p.requires_grad)"
   ]
  },
  {
   "cell_type": "code",
   "execution_count": 13,
   "metadata": {},
   "outputs": [],
   "source": [
    "import torch.nn.functional as F\n",
    "\n",
    "class FocalLoss(nn.Module):\n",
    "    def __init__(self, gamma = 1.0):\n",
    "        super(FocalLoss, self).__init__()\n",
    "        self.gamma = torch.tensor(gamma, dtype = torch.float32)\n",
    "        self.eps = 1e-6\n",
    "        \n",
    "    def forward(self, input, targets):\n",
    "        BCE_loss = F.binary_cross_entropy_with_logits(inputs, targets, reduction='none')\n",
    "        pt = torch.exp(-BCE_loss) # prevents nans when probability 0\n",
    "        F_loss = self.alpha * (1-pt)**self.gamma * BCE_loss\n",
    "        return focal_loss.mean()"
   ]
  },
  {
   "cell_type": "code",
   "execution_count": 14,
   "metadata": {},
   "outputs": [],
   "source": [
    "learning_rate = 0.001\n",
    "num_epochs = 20\n",
    "mix_prob = 0.5\n",
    "alpha = 1.0\n",
    "# Define loss function and optimizer\n",
    "#criterion = RMSLELoss()\n",
    " # Mean Squared Error for regression\n",
    "optimizer = optim.Adam(model.parameters(), lr=learning_rate)"
   ]
  },
  {
   "cell_type": "code",
   "execution_count": 15,
   "metadata": {},
   "outputs": [],
   "source": [
    "labels_torch = torch.from_numpy(features_csv[features_csv[\"split\"]==\"train\"][\"label.1\"].values)"
   ]
  },
  {
   "cell_type": "code",
   "execution_count": 16,
   "metadata": {},
   "outputs": [],
   "source": [
    "# Calculate class weights\n",
    "class_counts = torch.bincount(labels_torch)  # Get counts for each class\n",
    "class_weights = len(labels_torch) / (2.0 * class_counts)\n",
    "\n",
    "# Apply weights to loss function\n",
    "criterion = nn.BCEWithLogitsLoss(pos_weight=class_weights[0])  # Weight for positive class\n"
   ]
  },
  {
   "cell_type": "code",
   "execution_count": 17,
   "metadata": {},
   "outputs": [
    {
     "data": {
      "text/plain": [
       "tensor([0.7414, 1.5357])"
      ]
     },
     "execution_count": 17,
     "metadata": {},
     "output_type": "execute_result"
    }
   ],
   "source": [
    "class_weights"
   ]
  },
  {
   "cell_type": "code",
   "execution_count": 18,
   "metadata": {},
   "outputs": [
    {
     "name": "stdout",
     "output_type": "stream",
     "text": [
      "best val loss  0 :  0.5139257967472076\n",
      "Epoch [1/20], Train Loss: 0.5705, Val Loss: 0.5139, Train F1: 0.5433, Val F1: 0.5543\n",
      "best val loss  1 :  0.47497106790542604\n",
      "Epoch [2/20], Train Loss: 0.5347, Val Loss: 0.4750, Train F1: 0.5433, Val F1: 0.5543\n",
      "Epoch [3/20], Train Loss: 0.5280, Val Loss: 0.4835, Train F1: 0.5433, Val F1: 0.5543\n",
      "Epoch [4/20], Train Loss: 0.5267, Val Loss: 0.4820, Train F1: 0.5433, Val F1: 0.5543\n",
      "Epoch [5/20], Train Loss: 0.5279, Val Loss: 0.4866, Train F1: 0.5433, Val F1: 0.5543\n",
      "Epoch [6/20], Train Loss: 0.5188, Val Loss: 0.5017, Train F1: 0.5433, Val F1: 0.5543\n",
      "Epoch [7/20], Train Loss: 0.4915, Val Loss: 0.6036, Train F1: 0.5433, Val F1: 0.5300\n",
      "Epoch [8/20], Train Loss: 0.4644, Val Loss: 0.4892, Train F1: 0.6150, Val F1: 0.5543\n",
      "Epoch [9/20], Train Loss: 0.4107, Val Loss: 0.5588, Train F1: 0.7431, Val F1: 0.5543\n",
      "Epoch [10/20], Train Loss: 0.2938, Val Loss: 0.7232, Train F1: 0.8585, Val F1: 0.5543\n",
      "Epoch [11/20], Train Loss: 0.2900, Val Loss: 0.6626, Train F1: 0.8548, Val F1: 0.5871\n",
      "Epoch [12/20], Train Loss: 0.2397, Val Loss: 1.3085, Train F1: 0.8891, Val F1: 0.4634\n",
      "Epoch [13/20], Train Loss: 0.2526, Val Loss: 0.6609, Train F1: 0.8743, Val F1: 0.5873\n",
      "Epoch [14/20], Train Loss: 0.1706, Val Loss: 0.8093, Train F1: 0.9462, Val F1: 0.5300\n",
      "Epoch [15/20], Train Loss: 0.0751, Val Loss: 0.8808, Train F1: 0.9767, Val F1: 0.6502\n",
      "Epoch [16/20], Train Loss: 0.0775, Val Loss: 1.0951, Train F1: 0.9768, Val F1: 0.5626\n",
      "Epoch [17/20], Train Loss: 0.0710, Val Loss: 0.8150, Train F1: 0.9767, Val F1: 0.6040\n",
      "Epoch [18/20], Train Loss: 0.0613, Val Loss: 0.9157, Train F1: 0.9845, Val F1: 0.6238\n",
      "Epoch [19/20], Train Loss: 0.0316, Val Loss: 2.1504, Train F1: 0.9922, Val F1: 0.4998\n",
      "Epoch [20/20], Train Loss: 0.0632, Val Loss: 1.1285, Train F1: 0.9768, Val F1: 0.5300\n"
     ]
    }
   ],
   "source": [
    "from sklearn.metrics import f1_score\n",
    "# Define variables to track losses\n",
    "train_losses = []\n",
    "val_losses = []\n",
    "best_val_loss = float('inf')  # Initialize best validation loss\n",
    "\n",
    "# Training loop\n",
    "for epoch in range(num_epochs):\n",
    "    model.train()\n",
    "\n",
    "    running_train_loss = 0.0\n",
    "    all_train_labels = []\n",
    "    all_train_preds = []\n",
    "    all_dev_labels = []\n",
    "    all_dev_preds = []\n",
    "\n",
    "    for batch in train_dataloader:\n",
    "        _btch, labels = batch\n",
    "        optimizer.zero_grad()\n",
    "        inputs = _btch\n",
    "        output = model(inputs)\n",
    "        \n",
    "        labels = labels.view(output.shape)\n",
    "        loss = criterion(output, labels)\n",
    "        loss.backward()\n",
    "        optimizer.step()\n",
    "        \n",
    "        # Accumulate loss\n",
    "        running_train_loss += loss.item()\n",
    "        # Convert logits to predictions\n",
    "        preds = torch.sigmoid(output) > 0.5\n",
    "        #print(np.unique(preds.detach().numpy()))\n",
    "        all_train_labels.extend(labels.cpu().numpy().flatten())\n",
    "        all_train_preds.extend(preds.cpu().numpy().flatten())\n",
    "\n",
    "    # Average training loss for the epoch\n",
    "    train_loss = running_train_loss / len(train_dataloader)\n",
    "    train_losses.append(train_loss)\n",
    "\n",
    "    # Validation Phase\n",
    "    model.eval()  # Set model to evaluation mode\n",
    "    running_val_loss = 0.0\n",
    "\n",
    "    with torch.no_grad():  # Disable gradient computation\n",
    "        for batch in dev_dataloader:  # Use validation DataLoader\n",
    "            _btch, labels = batch\n",
    "\n",
    "            # Forward pass\n",
    "            inputs = _btch\n",
    "            output = model(inputs)\n",
    "\n",
    "            # Reshape labels to match the output shape if necessary\n",
    "            labels = labels.view(output.shape)\n",
    "\n",
    "            # Compute loss\n",
    "            loss = criterion(output, labels)\n",
    "            #loss = torch.sqrt(loss)\n",
    "\n",
    "            running_val_loss += loss.item()\n",
    "            preds = torch.sigmoid(output) > 0.5\n",
    "            all_dev_labels.extend(labels.cpu().numpy().flatten())\n",
    "            all_dev_preds.extend(preds.cpu().numpy().flatten())\n",
    "\n",
    "    # Average validation loss for the epoch\n",
    "    val_loss = running_val_loss / len(dev_dataloader)\n",
    "    val_losses.append(val_loss)\n",
    "\n",
    "    # Check if this is the best model\n",
    "    if val_loss < best_val_loss:\n",
    "        best_val_loss = val_loss\n",
    "        print(\"best val loss \", epoch, \": \", best_val_loss)\n",
    "        #torch.save(model.state_dict(), \"best_aud_text_model.pth\")  # Save best model\n",
    "\n",
    "    # Compute F1-score for training\n",
    "    train_f1 = f1_score(all_train_labels, all_train_preds, average='weighted')\n",
    "    dev_f1 = f1_score(all_dev_labels, all_dev_preds, average='weighted')\n",
    "\n",
    "    # Print epoch summary\n",
    "    print(f\"Epoch [{epoch+1}/{num_epochs}], Train Loss: {train_loss:.4f}, Val Loss: {val_loss:.4f}, Train F1: {train_f1:.4f}, Val F1: {dev_f1:.4f}\")\n",
    "    #print(f\"Epoch [{epoch+1}/{num_epochs}], Train Loss: {train_loss:.4f}, Val Loss: {val_loss:.4f}\")\n"
   ]
  },
  {
   "cell_type": "code",
   "execution_count": null,
   "metadata": {},
   "outputs": [],
   "source": [
    "torch.save(model.state_dict(), \"deepconvlstm_overfit_classification_model.pth\")  # Save best model"
   ]
  },
  {
   "cell_type": "code",
   "execution_count": 32,
   "metadata": {},
   "outputs": [
    {
     "name": "stdout",
     "output_type": "stream",
     "text": [
      "Predictions:\n",
      "[0 1]\n",
      "0.5300327630141973\n"
     ]
    }
   ],
   "source": [
    "# Model prediction\n",
    "model.eval()  # Set model to evaluation mode\n",
    "\n",
    "predictions = []\n",
    "lab = []\n",
    "with torch.no_grad():  # Disable gradient computation\n",
    "    for batch in dev_dataloader:\n",
    "        _data, labels = batch\n",
    "        output = model(_data)  # Model's prediction\n",
    "        predicts = torch.sigmoid(output)  # Apply sigmoid activation\n",
    "        predicted_classes = (predicts > 0.5).int()  # Convert probabilities to binary predictions\n",
    "        #print(f\"Predicted Probabilities:\\n{predictions}\")\n",
    "        #print(f\"Predicted Classes:\\n{predicted_classes}\")\n",
    "        # Collect predictions\n",
    "        #predictions.append(output)\n",
    "        predictions.append(predicted_classes)\n",
    "        lab.append(labels)\n",
    "\n",
    "\n",
    "# Combine predictions into a single tensor\n",
    "#predictions = torch.cat(predicted_classes, dim=0)\n",
    "#y_pred = np.array(predictions)\n",
    "out = np.concatenate(predictions).ravel()\n",
    "labels = np.concatenate(lab).ravel()\n",
    "\n",
    "print(f\"Predictions:\\n{np.unique(out)}\")\n",
    "dev_f1 = f1_score(all_dev_labels, all_dev_preds, average='weighted')\n",
    "print(dev_f1)"
   ]
  },
  {
   "cell_type": "code",
   "execution_count": 20,
   "metadata": {},
   "outputs": [
    {
     "data": {
      "image/png": "[encoded data removed]",
      "text/plain": [
       "<Figure size 800x600 with 1 Axes>"
      ]
     },
     "metadata": {},
     "output_type": "display_data"
    }
   ],
   "source": [
    "# Plot training and validation losses\n",
    "plt.figure(figsize=(8, 6))\n",
    "plt.plot(train_losses, label=\"Training Loss\")\n",
    "plt.plot(val_losses, label=\"Validation Loss\")\n",
    "plt.xlabel(\"Epoch\")\n",
    "plt.ylabel(\"Loss\")\n",
    "plt.title(\"Training and Validation Loss\")\n",
    "plt.legend()\n",
    "plt.savefig(\"loss_plot.png\")  # Save the plot\n",
    "plt.show()"
   ]
  },
  {
   "cell_type": "code",
   "execution_count": 21,
   "metadata": {},
   "outputs": [],
   "source": [
    "y_test = np.array(features_csv[features_csv[\"split\"]==\"dev\"][\"label\"].values)"
   ]
  },
  {
   "cell_type": "code",
   "execution_count": 27,
   "metadata": {},
   "outputs": [],
   "source": [
    "y_pred = out"
   ]
  },
  {
   "cell_type": "code",
   "execution_count": 22,
   "metadata": {},
   "outputs": [
    {
     "data": {
      "text/plain": [
       "array(['female', 'male'], dtype=object)"
      ]
     },
     "execution_count": 22,
     "metadata": {},
     "output_type": "execute_result"
    }
   ],
   "source": [
    "np.unique(features_csv['gender'])"
   ]
  },
  {
   "cell_type": "code",
   "execution_count": 23,
   "metadata": {},
   "outputs": [],
   "source": [
    "features_csv['col_encoded'] = features_csv['gender'].map({'female': 0, 'male': 1, 'unknown':1})"
   ]
  },
  {
   "cell_type": "code",
   "execution_count": 24,
   "metadata": {},
   "outputs": [
    {
     "data": {
      "text/plain": [
       "array([0, 1])"
      ]
     },
     "execution_count": 24,
     "metadata": {},
     "output_type": "execute_result"
    }
   ],
   "source": [
    "np.unique(features_csv['col_encoded'])"
   ]
  },
  {
   "cell_type": "code",
   "execution_count": 28,
   "metadata": {},
   "outputs": [
    {
     "name": "stdout",
     "output_type": "stream",
     "text": [
      "Shape of gender_test: (41,)\n",
      "Shape of y_test: (41,)\n",
      "Shape of y_pred: (41,)\n"
     ]
    }
   ],
   "source": [
    "from fairlearn.metrics import demographic_parity_difference\n",
    "\n",
    "# Assuming `gender` corresponds to the original metadata\n",
    "# Split the dataset into training and testing sets for `gender`\n",
    "gender_train, gender_test = features_csv[features_csv[\"split\"]==\"dev\"][\"col_encoded\"], features_csv[features_csv[\"split\"]==\"dev\"][\"col_encoded\"]\n",
    "\n",
    "# Ensure that `gender_test`, `y_test`, and `y_pred` are aligned\n",
    "print(f\"Shape of gender_test: {gender_train.shape}\")\n",
    "print(f\"Shape of y_test: {y_test.shape}\")\n",
    "print(f\"Shape of y_pred: {y_pred.shape}\")\n",
    "\n"
   ]
  },
  {
   "cell_type": "code",
   "execution_count": 29,
   "metadata": {},
   "outputs": [
    {
     "name": "stdout",
     "output_type": "stream",
     "text": [
      "Demographic Parity Difference: 0.0023809523809523864\n"
     ]
    }
   ],
   "source": [
    "# Calculate Demographic Parity Difference\n",
    "demographic_parity = demographic_parity_difference(\n",
    "    y_true=y_test,\n",
    "    y_pred=y_pred,\n",
    "    sensitive_features=gender_train\n",
    ")\n",
    "\n",
    "print(f\"Demographic Parity Difference: {demographic_parity}\")"
   ]
  },
  {
   "cell_type": "code",
   "execution_count": 30,
   "metadata": {},
   "outputs": [
    {
     "name": "stdout",
     "output_type": "stream",
     "text": [
      "Selection Rates by Group:\n",
      "col_encoded\n",
      "0    0.050000\n",
      "1    0.047619\n",
      "Name: selection_rate, dtype: float64\n"
     ]
    }
   ],
   "source": [
    "from fairlearn.metrics import MetricFrame, selection_rate\n",
    "metric_frame = MetricFrame(metrics=selection_rate, \n",
    "                           y_true=y_test, \n",
    "                           y_pred=y_pred, \n",
    "                           sensitive_features=gender_train)\n",
    "\n",
    "# Get selection rates for each group\n",
    "selection_rates = metric_frame.by_group\n",
    "print(\"Selection Rates by Group:\")\n",
    "print(selection_rates)\n"
   ]
  },
  {
   "cell_type": "code",
   "execution_count": 31,
   "metadata": {},
   "outputs": [
    {
     "name": "stdout",
     "output_type": "stream",
     "text": [
      "Demographic Parity Ratio: 0.9523809523809523\n"
     ]
    }
   ],
   "source": [
    "group_a_rate = selection_rates[1]\n",
    "group_b_rate = selection_rates[0]\n",
    "\n",
    "if group_b_rate > 0:  # Avoid division by zero\n",
    "    demographic_parity_ratio = group_a_rate / group_b_rate\n",
    "    print(f\"Demographic Parity Ratio: {demographic_parity_ratio}\")"
   ]
  },
  {
   "cell_type": "code",
   "execution_count": null,
   "metadata": {},
   "outputs": [],
   "source": []
  },
  {
   "cell_type": "code",
   "execution_count": null,
   "metadata": {},
   "outputs": [],
   "source": []
  },
  {
   "attachments": {},
   "cell_type": "markdown",
   "metadata": {},
   "source": [
    "# Audio_AST9_2"
   ]
  },
  {
   "cell_type": "code",
   "execution_count": 7,
   "metadata": {},
   "outputs": [
    {
     "data": {
      "text/plain": [
       "(1214, 768)"
      ]
     },
     "execution_count": 7,
     "metadata": {},
     "output_type": "execute_result"
    }
   ],
   "source": [
    "fle = np.load(\"/home/hice1/mbibars3/scratch/vlm-debiasing/data/e-daic/untarred/301_P/301_AUDIO_ast9.npy\")\n",
    "fle.shape"
   ]
  },
  {
   "cell_type": "code",
   "execution_count": 8,
   "metadata": {},
   "outputs": [],
   "source": [
    "features_csv = pd.read_csv(\"/home/hice1/mbibars3/scratch/vlm-debiasing/data/e-daic/audio_text_visual_paths.csv\")"
   ]
  },
  {
   "cell_type": "code",
   "execution_count": 9,
   "metadata": {},
   "outputs": [
    {
     "data": {
      "text/html": [
       "<div>\n",
       "<style scoped>\n",
       "    .dataframe tbody tr th:only-of-type {\n",
       "        vertical-align: middle;\n",
       "    }\n",
       "\n",
       "    .dataframe tbody tr th {\n",
       "        vertical-align: top;\n",
       "    }\n",
       "\n",
       "    .dataframe thead th {\n",
       "        text-align: right;\n",
       "    }\n",
       "</style>\n",
       "<table border=\"1\" class=\"dataframe\">\n",
       "  <thead>\n",
       "    <tr style=\"text-align: right;\">\n",
       "      <th></th>\n",
       "      <th>split</th>\n",
       "      <th>label</th>\n",
       "      <th>label.1</th>\n",
       "      <th>gender</th>\n",
       "      <th>audio</th>\n",
       "      <th>text</th>\n",
       "      <th>visual</th>\n",
       "      <th>aud_egemaps</th>\n",
       "      <th>aud_ast</th>\n",
       "    </tr>\n",
       "  </thead>\n",
       "  <tbody>\n",
       "    <tr>\n",
       "      <th>0</th>\n",
       "      <td>train</td>\n",
       "      <td>22.0</td>\n",
       "      <td>0</td>\n",
       "      <td>female</td>\n",
       "      <td>/home/hice1/mbibars3/scratch/vlm-debiasing/dat...</td>\n",
       "      <td>/home/hice1/mbibars3/scratch/vlm-debiasing/dat...</td>\n",
       "      <td>/home/hice1/mbibars3/scratch/vlm-debiasing/dat...</td>\n",
       "      <td>/home/hice1/mbibars3/scratch/vlm-debiasing/dat...</td>\n",
       "      <td>/home/hice1/mbibars3/scratch/vlm-debiasing/dat...</td>\n",
       "    </tr>\n",
       "    <tr>\n",
       "      <th>1</th>\n",
       "      <td>test</td>\n",
       "      <td>23.0</td>\n",
       "      <td>0</td>\n",
       "      <td>male</td>\n",
       "      <td>/home/hice1/mbibars3/scratch/vlm-debiasing/dat...</td>\n",
       "      <td>/home/hice1/mbibars3/scratch/vlm-debiasing/dat...</td>\n",
       "      <td>/home/hice1/mbibars3/scratch/vlm-debiasing/dat...</td>\n",
       "      <td>/home/hice1/mbibars3/scratch/vlm-debiasing/dat...</td>\n",
       "      <td>/home/hice1/mbibars3/scratch/vlm-debiasing/dat...</td>\n",
       "    </tr>\n",
       "    <tr>\n",
       "      <th>2</th>\n",
       "      <td>train</td>\n",
       "      <td>19.0</td>\n",
       "      <td>0</td>\n",
       "      <td>male</td>\n",
       "      <td>/home/hice1/mbibars3/scratch/vlm-debiasing/dat...</td>\n",
       "      <td>/home/hice1/mbibars3/scratch/vlm-debiasing/dat...</td>\n",
       "      <td>/home/hice1/mbibars3/scratch/vlm-debiasing/dat...</td>\n",
       "      <td>/home/hice1/mbibars3/scratch/vlm-debiasing/dat...</td>\n",
       "      <td>/home/hice1/mbibars3/scratch/vlm-debiasing/dat...</td>\n",
       "    </tr>\n",
       "    <tr>\n",
       "      <th>3</th>\n",
       "      <td>train</td>\n",
       "      <td>67.0</td>\n",
       "      <td>1</td>\n",
       "      <td>female</td>\n",
       "      <td>/home/hice1/mbibars3/scratch/vlm-debiasing/dat...</td>\n",
       "      <td>/home/hice1/mbibars3/scratch/vlm-debiasing/dat...</td>\n",
       "      <td>/home/hice1/mbibars3/scratch/vlm-debiasing/dat...</td>\n",
       "      <td>/home/hice1/mbibars3/scratch/vlm-debiasing/dat...</td>\n",
       "      <td>/home/hice1/mbibars3/scratch/vlm-debiasing/dat...</td>\n",
       "    </tr>\n",
       "    <tr>\n",
       "      <th>4</th>\n",
       "      <td>dev</td>\n",
       "      <td>39.0</td>\n",
       "      <td>0</td>\n",
       "      <td>male</td>\n",
       "      <td>/home/hice1/mbibars3/scratch/vlm-debiasing/dat...</td>\n",
       "      <td>/home/hice1/mbibars3/scratch/vlm-debiasing/dat...</td>\n",
       "      <td>/home/hice1/mbibars3/scratch/vlm-debiasing/dat...</td>\n",
       "      <td>/home/hice1/mbibars3/scratch/vlm-debiasing/dat...</td>\n",
       "      <td>/home/hice1/mbibars3/scratch/vlm-debiasing/dat...</td>\n",
       "    </tr>\n",
       "  </tbody>\n",
       "</table>\n",
       "</div>"
      ],
      "text/plain": [
       "   split  label  label.1  gender  \\\n",
       "0  train   22.0        0  female   \n",
       "1   test   23.0        0    male   \n",
       "2  train   19.0        0    male   \n",
       "3  train   67.0        1  female   \n",
       "4    dev   39.0        0    male   \n",
       "\n",
       "                                               audio  \\\n",
       "0  /home/hice1/mbibars3/scratch/vlm-debiasing/dat...   \n",
       "1  /home/hice1/mbibars3/scratch/vlm-debiasing/dat...   \n",
       "2  /home/hice1/mbibars3/scratch/vlm-debiasing/dat...   \n",
       "3  /home/hice1/mbibars3/scratch/vlm-debiasing/dat...   \n",
       "4  /home/hice1/mbibars3/scratch/vlm-debiasing/dat...   \n",
       "\n",
       "                                                text  \\\n",
       "0  /home/hice1/mbibars3/scratch/vlm-debiasing/dat...   \n",
       "1  /home/hice1/mbibars3/scratch/vlm-debiasing/dat...   \n",
       "2  /home/hice1/mbibars3/scratch/vlm-debiasing/dat...   \n",
       "3  /home/hice1/mbibars3/scratch/vlm-debiasing/dat...   \n",
       "4  /home/hice1/mbibars3/scratch/vlm-debiasing/dat...   \n",
       "\n",
       "                                              visual  \\\n",
       "0  /home/hice1/mbibars3/scratch/vlm-debiasing/dat...   \n",
       "1  /home/hice1/mbibars3/scratch/vlm-debiasing/dat...   \n",
       "2  /home/hice1/mbibars3/scratch/vlm-debiasing/dat...   \n",
       "3  /home/hice1/mbibars3/scratch/vlm-debiasing/dat...   \n",
       "4  /home/hice1/mbibars3/scratch/vlm-debiasing/dat...   \n",
       "\n",
       "                                         aud_egemaps  \\\n",
       "0  /home/hice1/mbibars3/scratch/vlm-debiasing/dat...   \n",
       "1  /home/hice1/mbibars3/scratch/vlm-debiasing/dat...   \n",
       "2  /home/hice1/mbibars3/scratch/vlm-debiasing/dat...   \n",
       "3  /home/hice1/mbibars3/scratch/vlm-debiasing/dat...   \n",
       "4  /home/hice1/mbibars3/scratch/vlm-debiasing/dat...   \n",
       "\n",
       "                                             aud_ast  \n",
       "0  /home/hice1/mbibars3/scratch/vlm-debiasing/dat...  \n",
       "1  /home/hice1/mbibars3/scratch/vlm-debiasing/dat...  \n",
       "2  /home/hice1/mbibars3/scratch/vlm-debiasing/dat...  \n",
       "3  /home/hice1/mbibars3/scratch/vlm-debiasing/dat...  \n",
       "4  /home/hice1/mbibars3/scratch/vlm-debiasing/dat...  "
      ]
     },
     "execution_count": 9,
     "metadata": {},
     "output_type": "execute_result"
    }
   ],
   "source": [
    "features_csv.head()"
   ]
  },
  {
   "cell_type": "code",
   "execution_count": 38,
   "metadata": {},
   "outputs": [],
   "source": [
    "input_column = 'aud_ast'\n",
    "label_column = 'label.1'\n",
    "\n",
    "train_dataset = PatientAudioDatasetCSV(features_csv[features_csv[\"split\"]==\"train\"], input_column=input_column, label_column=label_column, normalize=True)\n",
    "dev_dataset = PatientAudioDatasetCSV(features_csv[features_csv[\"split\"]==\"dev\"], input_column=input_column, label_column=label_column, normalize=True)\n",
    "test_dataset = PatientAudioDatasetCSV(features_csv[features_csv[\"split\"]==\"test\"], input_column=input_column, label_column=label_column, normalize=True)"
   ]
  },
  {
   "cell_type": "code",
   "execution_count": 39,
   "metadata": {},
   "outputs": [
    {
     "data": {
      "text/plain": [
       "'\\nfor batch_data, batch_labels in dataloader:\\n    print(f\"Data Shape: {batch_data.shape}, Labels Shape: {batch_labels.shape}\")\\n'"
      ]
     },
     "execution_count": 39,
     "metadata": {},
     "output_type": "execute_result"
    }
   ],
   "source": [
    "from torch.utils.data import DataLoader\n",
    "\n",
    "batch_size = 10\n",
    "train_dataloader = DataLoader(train_dataset, batch_size=batch_size, shuffle=True)\n",
    "dev_dataloader = DataLoader(dev_dataset, batch_size=batch_size, shuffle=False)\n",
    "test_dataloader = DataLoader(test_dataset, batch_size=batch_size, shuffle=False)\n",
    "\"\"\"\n",
    "for batch_data, batch_labels in dataloader:\n",
    "    print(f\"Data Shape: {batch_data.shape}, Labels Shape: {batch_labels.shape}\")\n",
    "\"\"\""
   ]
  },
  {
   "cell_type": "code",
   "execution_count": 12,
   "metadata": {},
   "outputs": [],
   "source": [
    "input_channels = 768  # Number of input features per time step\n",
    "conv_channels = 64   # Number of convolutional filters\n",
    "lstm_hidden_size = 128  # LSTM hidden size\n",
    "lstm_layers = 2      # Number of LSTM layers\n",
    "output_size = 1     # Number of classes for classification (or 1 for regression)\n",
    "\n",
    "model = DeepConvLSTM(input_channels, conv_channels, lstm_hidden_size, lstm_layers, output_size)\n"
   ]
  },
  {
   "cell_type": "code",
   "execution_count": 13,
   "metadata": {},
   "outputs": [
    {
     "data": {
      "text/plain": [
       "710913"
      ]
     },
     "execution_count": 13,
     "metadata": {},
     "output_type": "execute_result"
    }
   ],
   "source": [
    "sum(p.numel() for p in model.parameters() if p.requires_grad)"
   ]
  },
  {
   "cell_type": "code",
   "execution_count": 14,
   "metadata": {},
   "outputs": [],
   "source": [
    "import torch.nn.functional as F\n",
    "\n",
    "class FocalLoss(nn.Module):\n",
    "    def __init__(self, gamma = 1.0):\n",
    "        super(FocalLoss, self).__init__()\n",
    "        self.gamma = torch.tensor(gamma, dtype = torch.float32)\n",
    "        self.eps = 1e-6\n",
    "        \n",
    "    def forward(self, input, targets):\n",
    "        BCE_loss = F.binary_cross_entropy_with_logits(inputs, targets, reduction='none')\n",
    "        pt = torch.exp(-BCE_loss) # prevents nans when probability 0\n",
    "        F_loss = self.alpha * (1-pt)**self.gamma * BCE_loss\n",
    "        return focal_loss.mean()"
   ]
  },
  {
   "cell_type": "code",
   "execution_count": 15,
   "metadata": {},
   "outputs": [],
   "source": [
    "learning_rate = 0.001\n",
    "num_epochs = 20\n",
    "mix_prob = 0.5\n",
    "alpha = 1.0\n",
    "# Define loss function and optimizer\n",
    "#criterion = RMSLELoss()\n",
    " # Mean Squared Error for regression\n",
    "optimizer = optim.Adam(model.parameters(), lr=learning_rate)"
   ]
  },
  {
   "cell_type": "code",
   "execution_count": 16,
   "metadata": {},
   "outputs": [],
   "source": [
    "labels_torch = torch.from_numpy(features_csv[features_csv[\"split\"]==\"train\"][\"label.1\"].values)"
   ]
  },
  {
   "cell_type": "code",
   "execution_count": 17,
   "metadata": {},
   "outputs": [],
   "source": [
    "# Calculate class weights\n",
    "class_counts = torch.bincount(labels_torch)  # Get counts for each class\n",
    "class_weights = len(labels_torch) / (2.0 * class_counts)\n",
    "\n",
    "# Apply weights to loss function\n",
    "criterion = nn.BCEWithLogitsLoss(pos_weight=class_weights[0])  # Weight for positive class\n"
   ]
  },
  {
   "cell_type": "code",
   "execution_count": 18,
   "metadata": {},
   "outputs": [
    {
     "data": {
      "text/plain": [
       "tensor([0.7149, 1.6633])"
      ]
     },
     "execution_count": 18,
     "metadata": {},
     "output_type": "execute_result"
    }
   ],
   "source": [
    "class_weights"
   ]
  },
  {
   "cell_type": "code",
   "execution_count": 20,
   "metadata": {},
   "outputs": [
    {
     "name": "stdout",
     "output_type": "stream",
     "text": [
      "best val f1  0 :  0.5718045112781954\n",
      "Epoch [1/20], Train Loss: 0.5516, Val Loss: 0.5089, Train F1: 0.5757, Val F1: 0.5718\n",
      "Epoch [2/20], Train Loss: 0.5167, Val Loss: 0.5099, Train F1: 0.5757, Val F1: 0.5718\n",
      "Epoch [3/20], Train Loss: 0.4909, Val Loss: 0.5138, Train F1: 0.5757, Val F1: 0.5718\n",
      "Epoch [4/20], Train Loss: 0.4886, Val Loss: 0.5153, Train F1: 0.5757, Val F1: 0.5718\n",
      "Epoch [5/20], Train Loss: 0.4658, Val Loss: 0.5376, Train F1: 0.5757, Val F1: 0.5718\n",
      "Epoch [6/20], Train Loss: 0.4230, Val Loss: 0.5246, Train F1: 0.5768, Val F1: 0.5718\n",
      "Epoch [7/20], Train Loss: 0.3617, Val Loss: 0.7214, Train F1: 0.6256, Val F1: 0.4117\n",
      "Epoch [8/20], Train Loss: 0.4599, Val Loss: 0.7981, Train F1: 0.6707, Val F1: 0.5718\n",
      "Epoch [9/20], Train Loss: 0.4877, Val Loss: 0.5510, Train F1: 0.5757, Val F1: 0.5718\n",
      "Epoch [10/20], Train Loss: 0.3867, Val Loss: 0.5151, Train F1: 0.5757, Val F1: 0.5718\n",
      "best val f1  10 :  0.6836187068745209\n",
      "Epoch [11/20], Train Loss: 0.3101, Val Loss: 0.5636, Train F1: 0.7729, Val F1: 0.6836\n",
      "Epoch [12/20], Train Loss: 0.2489, Val Loss: 0.6459, Train F1: 0.8734, Val F1: 0.6696\n",
      "Epoch [13/20], Train Loss: 0.2460, Val Loss: 0.6196, Train F1: 0.8966, Val F1: 0.6684\n",
      "best val f1  13 :  0.6873613244580986\n",
      "Epoch [14/20], Train Loss: 0.1516, Val Loss: 0.7811, Train F1: 0.9319, Val F1: 0.6874\n",
      "Epoch [15/20], Train Loss: 0.1772, Val Loss: 0.7508, Train F1: 0.9323, Val F1: 0.6441\n",
      "Epoch [16/20], Train Loss: 0.1246, Val Loss: 0.9184, Train F1: 0.9630, Val F1: 0.6833\n",
      "Epoch [17/20], Train Loss: 0.0523, Val Loss: 1.2898, Train F1: 0.9877, Val F1: 0.6015\n",
      "best val f1  17 :  0.6977832512315272\n",
      "Epoch [18/20], Train Loss: 0.0474, Val Loss: 0.8550, Train F1: 0.9877, Val F1: 0.6978\n",
      "Epoch [19/20], Train Loss: 0.2823, Val Loss: 1.1103, Train F1: 0.8940, Val F1: 0.6058\n",
      "Epoch [20/20], Train Loss: 0.2180, Val Loss: 0.8139, Train F1: 0.9025, Val F1: 0.5777\n"
     ]
    }
   ],
   "source": [
    "from sklearn.metrics import f1_score\n",
    "# Define variables to track losses\n",
    "train_losses = []\n",
    "val_losses = []\n",
    "train_f1s = []\n",
    "val_f1s = []\n",
    "best_val_f1 = float('-inf')  # Initialize best validation loss\n",
    "\n",
    "# Training loop\n",
    "for epoch in range(num_epochs):\n",
    "    model.train()\n",
    "\n",
    "    running_train_loss = 0.0\n",
    "    all_train_labels = []\n",
    "    all_train_preds = []\n",
    "    all_dev_labels = []\n",
    "    all_dev_preds = []\n",
    "\n",
    "    for batch in train_dataloader:\n",
    "        _btch, labels = batch\n",
    "        optimizer.zero_grad()\n",
    "        inputs = _btch\n",
    "        output = model(inputs)\n",
    "        \n",
    "        labels = labels.view(output.shape)\n",
    "        loss = criterion(output, labels)\n",
    "        loss.backward()\n",
    "        optimizer.step()\n",
    "        \n",
    "        # Accumulate loss\n",
    "        running_train_loss += loss.item()\n",
    "        # Convert logits to predictions\n",
    "        preds = torch.sigmoid(output) > 0.5\n",
    "        #print(np.unique(preds.detach().numpy()))\n",
    "        all_train_labels.extend(labels.cpu().numpy().flatten())\n",
    "        all_train_preds.extend(preds.cpu().numpy().flatten())\n",
    "\n",
    "    # Average training loss for the epoch\n",
    "    train_loss = running_train_loss / len(train_dataloader)\n",
    "    train_losses.append(train_loss)\n",
    "\n",
    "    # Validation Phase\n",
    "    model.eval()  # Set model to evaluation mode\n",
    "    running_val_loss = 0.0\n",
    "\n",
    "    with torch.no_grad():  # Disable gradient computation\n",
    "        for batch in dev_dataloader:  # Use validation DataLoader\n",
    "            _btch, labels = batch\n",
    "\n",
    "            # Forward pass\n",
    "            inputs = _btch\n",
    "            output = model(inputs)\n",
    "\n",
    "            # Reshape labels to match the output shape if necessary\n",
    "            labels = labels.view(output.shape)\n",
    "\n",
    "            # Compute loss\n",
    "            loss = criterion(output, labels)\n",
    "            #loss = torch.sqrt(loss)\n",
    "\n",
    "            running_val_loss += loss.item()\n",
    "            preds = torch.sigmoid(output) > 0.5\n",
    "            all_dev_labels.extend(labels.cpu().numpy().flatten())\n",
    "            all_dev_preds.extend(preds.cpu().numpy().flatten())\n",
    "\n",
    "    # Average validation loss for the epoch\n",
    "    val_loss = running_val_loss / len(dev_dataloader)\n",
    "    val_losses.append(val_loss)\n",
    "    \n",
    "    # Compute F1-score for training\n",
    "    train_f1 = f1_score(all_train_labels, all_train_preds, average='weighted')\n",
    "    dev_f1 = f1_score(all_dev_labels, all_dev_preds, average='weighted')\n",
    "\n",
    "    train_f1s.append(train_f1)\n",
    "    val_f1s.append(dev_f1)\n",
    "\n",
    "    # Check if this is the best model\n",
    "    if dev_f1 > best_val_f1:\n",
    "        best_val_f1 = dev_f1\n",
    "        print(\"best val f1 \", epoch, \": \", best_val_f1)\n",
    "        torch.save(model.state_dict(), \"deepconvlstm_overfit2_classification_model.pth\")  \n",
    "\n",
    "    \n",
    "\n",
    "    # Print epoch summary\n",
    "    print(f\"Epoch [{epoch+1}/{num_epochs}], Train Loss: {train_loss:.4f}, Val Loss: {val_loss:.4f}, Train F1: {train_f1:.4f}, Val F1: {dev_f1:.4f}\")\n",
    "    #print(f\"Epoch [{epoch+1}/{num_epochs}], Train Loss: {train_loss:.4f}, Val Loss: {val_loss:.4f}\")\n"
   ]
  },
  {
   "cell_type": "code",
   "execution_count": 21,
   "metadata": {},
   "outputs": [
    {
     "data": {
      "text/plain": [
       "<All keys matched successfully>"
      ]
     },
     "execution_count": 21,
     "metadata": {},
     "output_type": "execute_result"
    }
   ],
   "source": [
    "input_channels = 768  # Number of input features per time step\n",
    "conv_channels = 64   # Number of convolutional filters\n",
    "lstm_hidden_size = 128  # LSTM hidden size\n",
    "lstm_layers = 2      # Number of LSTM layers\n",
    "output_size = 1     # Number of classes for classification (or 1 for regression)\n",
    "\n",
    "best_model = DeepConvLSTM(input_channels, conv_channels, lstm_hidden_size, lstm_layers, output_size)\n",
    "best_model.load_state_dict(torch.load(\"deepconvlstm_overfit2_classification_model.pth\", weights_only=True))"
   ]
  },
  {
   "cell_type": "code",
   "execution_count": 23,
   "metadata": {},
   "outputs": [
    {
     "data": {
      "image/png": "[encoded data removed]",
      "text/plain": [
       "<Figure size 800x600 with 1 Axes>"
      ]
     },
     "metadata": {},
     "output_type": "display_data"
    }
   ],
   "source": [
    "# Plot training and validation losses\n",
    "plt.figure(figsize=(8, 6))\n",
    "plt.plot(train_losses, label=\"Training Loss\")\n",
    "plt.plot(val_losses, label=\"Validation Loss\")\n",
    "plt.xlabel(\"Epoch\")\n",
    "plt.ylabel(\"Loss\")\n",
    "plt.title(\"Training and Validation Loss\")\n",
    "plt.legend()\n",
    "plt.savefig(\"overfit2_loss_plot.png\")  # Save the plot\n",
    "plt.show()"
   ]
  },
  {
   "cell_type": "code",
   "execution_count": 25,
   "metadata": {},
   "outputs": [
    {
     "data": {
      "image/png": "[encoded data removed]",
      "text/plain": [
       "<Figure size 800x600 with 1 Axes>"
      ]
     },
     "metadata": {},
     "output_type": "display_data"
    }
   ],
   "source": [
    "# Plot training and validation losses\n",
    "plt.figure(figsize=(8, 6))\n",
    "plt.plot(train_f1s, label=\"Training F1\")\n",
    "plt.plot(val_f1s, label=\"Validation F1\")\n",
    "plt.xlabel(\"Epoch\")\n",
    "plt.ylabel(\"F1\")\n",
    "plt.ylim([0,1.5])\n",
    "plt.title(\"Training and Validation Loss\")\n",
    "plt.legend()\n",
    "plt.savefig(\"overfit2_f1_plot.png\")  # Save the plot\n",
    "plt.show()"
   ]
  },
  {
   "cell_type": "code",
   "execution_count": null,
   "metadata": {},
   "outputs": [],
   "source": []
  },
  {
   "cell_type": "code",
   "execution_count": 40,
   "metadata": {},
   "outputs": [
    {
     "name": "stdout",
     "output_type": "stream",
     "text": [
      "Predictions:\n",
      "[0 1]\n"
     ]
    }
   ],
   "source": [
    "# Model prediction\n",
    "best_model.eval()  # Set model to evaluation mode\n",
    "\n",
    "predictions = []\n",
    "with torch.no_grad():  # Disable gradient computation\n",
    "    for batch in test_dataloader:\n",
    "        _data, labels = batch\n",
    "        output = best_model(_data)  # Model's prediction\n",
    "        predicts = torch.sigmoid(output)  # Apply sigmoid activation\n",
    "        predicted_classes = (predicts > 0.5).int()  # Convert probabilities to binary predictions\n",
    "        #print(f\"Predicted Probabilities:\\n{predictions}\")\n",
    "        #print(f\"Predicted Classes:\\n{predicted_classes}\")\n",
    "        # Collect predictions\n",
    "        #predictions.append(output)\n",
    "        predictions.append(predicted_classes)\n",
    "\n",
    "# Combine predictions into a single tensor\n",
    "#predictions = torch.cat(predicted_classes, dim=0)\n",
    "#y_pred = np.array(predictions)\n",
    "out = np.concatenate(predictions).ravel()\n",
    "\n",
    "print(f\"Predictions:\\n{np.unique(out)}\")"
   ]
  },
  {
   "cell_type": "code",
   "execution_count": 41,
   "metadata": {},
   "outputs": [],
   "source": [
    "y_pred= out"
   ]
  },
  {
   "cell_type": "code",
   "execution_count": 42,
   "metadata": {},
   "outputs": [],
   "source": [
    "y_test = np.array(features_csv[features_csv[\"split\"]==\"test\"][\"label\"].values)"
   ]
  },
  {
   "cell_type": "code",
   "execution_count": 43,
   "metadata": {},
   "outputs": [
    {
     "data": {
      "text/plain": [
       "array(['female', 'male', 'unknown'], dtype=object)"
      ]
     },
     "execution_count": 43,
     "metadata": {},
     "output_type": "execute_result"
    }
   ],
   "source": [
    "np.unique(features_csv['gender'])"
   ]
  },
  {
   "cell_type": "code",
   "execution_count": 44,
   "metadata": {},
   "outputs": [],
   "source": [
    "features_csv['col_encoded'] = features_csv['gender'].map({'female': 0, 'male': 1, 'unknown':1})"
   ]
  },
  {
   "cell_type": "code",
   "execution_count": 45,
   "metadata": {},
   "outputs": [
    {
     "data": {
      "text/plain": [
       "array([0, 1])"
      ]
     },
     "execution_count": 45,
     "metadata": {},
     "output_type": "execute_result"
    }
   ],
   "source": [
    "np.unique(features_csv['col_encoded'])"
   ]
  },
  {
   "cell_type": "code",
   "execution_count": 46,
   "metadata": {},
   "outputs": [
    {
     "name": "stdout",
     "output_type": "stream",
     "text": [
      "Shape of gender_test: (56,)\n",
      "Shape of y_test: (56,)\n",
      "Shape of y_pred: (56,)\n"
     ]
    }
   ],
   "source": [
    "from fairlearn.metrics import demographic_parity_difference\n",
    "\n",
    "# Assuming `gender` corresponds to the original metadata\n",
    "# Split the dataset into training and testing sets for `gender`\n",
    "gender_train, gender_test = features_csv[features_csv[\"split\"]==\"test\"][\"col_encoded\"], features_csv[features_csv[\"split\"]==\"test\"][\"col_encoded\"]\n",
    "\n",
    "# Ensure that `gender_test`, `y_test`, and `y_pred` are aligned\n",
    "print(f\"Shape of gender_test: {gender_train.shape}\")\n",
    "print(f\"Shape of y_test: {y_test.shape}\")\n",
    "print(f\"Shape of y_pred: {y_pred.shape}\")\n",
    "\n"
   ]
  },
  {
   "cell_type": "code",
   "execution_count": 47,
   "metadata": {},
   "outputs": [
    {
     "name": "stdout",
     "output_type": "stream",
     "text": [
      "Demographic Parity Difference: 0.047619047619047616\n"
     ]
    }
   ],
   "source": [
    "# Calculate Demographic Parity Difference\n",
    "demographic_parity = demographic_parity_difference(\n",
    "    y_true=y_test,\n",
    "    y_pred=y_pred,\n",
    "    sensitive_features=gender_train\n",
    ")\n",
    "\n",
    "print(f\"Demographic Parity Difference: {demographic_parity}\")"
   ]
  },
  {
   "cell_type": "code",
   "execution_count": 48,
   "metadata": {},
   "outputs": [
    {
     "name": "stdout",
     "output_type": "stream",
     "text": [
      "Selection Rates by Group:\n",
      "col_encoded\n",
      "0    0.285714\n",
      "1    0.333333\n",
      "Name: selection_rate, dtype: float64\n"
     ]
    }
   ],
   "source": [
    "from fairlearn.metrics import MetricFrame, selection_rate\n",
    "metric_frame = MetricFrame(metrics=selection_rate, \n",
    "                           y_true=y_test, \n",
    "                           y_pred=y_pred, \n",
    "                           sensitive_features=gender_train)\n",
    "\n",
    "# Get selection rates for each group\n",
    "selection_rates = metric_frame.by_group\n",
    "print(\"Selection Rates by Group:\")\n",
    "print(selection_rates)\n"
   ]
  },
  {
   "cell_type": "code",
   "execution_count": 49,
   "metadata": {},
   "outputs": [
    {
     "name": "stdout",
     "output_type": "stream",
     "text": [
      "Demographic Parity Ratio: 1.1666666666666667\n"
     ]
    }
   ],
   "source": [
    "group_a_rate = selection_rates[1]\n",
    "group_b_rate = selection_rates[0]\n",
    "\n",
    "if group_b_rate > 0:  # Avoid division by zero\n",
    "    demographic_parity_ratio = group_a_rate / group_b_rate\n",
    "    print(f\"Demographic Parity Ratio: {demographic_parity_ratio}\")"
   ]
  },
  {
   "cell_type": "code",
   "execution_count": null,
   "metadata": {},
   "outputs": [],
   "source": []
  },
  {
   "attachments": {},
   "cell_type": "markdown",
   "metadata": {},
   "source": [
    "# Video_Dense"
   ]
  },
  {
   "cell_type": "code",
   "execution_count": 79,
   "metadata": {},
   "outputs": [
    {
     "data": {
      "text/plain": [
       "(19458, 53)"
      ]
     },
     "execution_count": 79,
     "metadata": {},
     "output_type": "execute_result"
    }
   ],
   "source": [
    "fle = pd.read_csv(\"/home/hice1/mbibars3/scratch/vlm-debiasing/data/e-daic/untarred/300_P/features/300_OpenFace2.1.0_Pose_gaze_AUs.csv\")\n",
    "fle.shape"
   ]
  }
 ],
 "metadata": {
  "kernelspec": {
   "display_name": "Python 3",
   "language": "python",
   "name": "python3"
  },
  "language_info": {
   "codemirror_mode": {
    "name": "ipython",
    "version": 3
   },
   "file_extension": ".py",
   "mimetype": "text/x-python",
   "name": "python",
   "nbconvert_exporter": "python",
   "pygments_lexer": "ipython3",
   "version": "3.12.2"
  },
  "orig_nbformat": 4
 },
 "nbformat": 4,
 "nbformat_minor": 2
}
