{
 "cells": [
  {
   "cell_type": "markdown",
   "metadata": {},
   "source": [
    "# Checks"
   ]
  },
  {
   "cell_type": "code",
   "execution_count": 1,
   "metadata": {},
   "outputs": [
    {
     "name": "stdout",
     "output_type": "stream",
     "text": [
      "GPU is available!\n",
      "GPU device name: Tesla V100-PCIE-32GB\n"
     ]
    }
   ],
   "source": [
    "import torch\n",
    "\n",
    "# Check if CUDA (GPU support) is available\n",
    "if torch.cuda.is_available():\n",
    "    print(\"GPU is available!\")\n",
    "    print(f\"GPU device name: {torch.cuda.get_device_name(0)}\")\n",
    "else:\n",
    "    print(\"GPU is not available.\")\n"
   ]
  },
  {
   "cell_type": "code",
   "execution_count": 2,
   "metadata": {},
   "outputs": [
    {
     "name": "stdout",
     "output_type": "stream",
     "text": [
      "Running on a SLURM-managed cluster.\n",
      "SLURM_JOB_ID: 912556\n",
      "SLURM_NODELIST: atl1-1-01-002-1-0\n"
     ]
    }
   ],
   "source": [
    "import os\n",
    "\n",
    "def is_slurm_job():\n",
    "    # Check if common SLURM environment variables are set\n",
    "    return 'SLURM_JOB_ID' in os.environ or 'SLURM_TASKS_PER_NODE' in os.environ\n",
    "\n",
    "# Check if the Jupyter notebook is running under a SLURM job\n",
    "if is_slurm_job():\n",
    "    print(\"Running on a SLURM-managed cluster.\")\n",
    "    print(f\"SLURM_JOB_ID: {os.environ.get('SLURM_JOB_ID')}\")\n",
    "    print(f\"SLURM_NODELIST: {os.environ.get('SLURM_NODELIST')}\")\n",
    "else:\n",
    "    print(\"Running locally (not on a SLURM-managed cluster).\")"
   ]
  },
  {
   "cell_type": "markdown",
   "metadata": {},
   "source": [
    "# Imports"
   ]
  },
  {
   "cell_type": "code",
   "execution_count": 7,
   "metadata": {},
   "outputs": [],
   "source": [
    "%load_ext autoreload"
   ]
  },
  {
   "cell_type": "code",
   "execution_count": 6,
   "metadata": {},
   "outputs": [],
   "source": [
    "import sys\n",
    "sys.path.append('/home/hice1/mbibars3/scratch/vlm-debiasing/VLM-Debiasing-Project/scripts')"
   ]
  },
  {
   "cell_type": "code",
   "execution_count": 8,
   "metadata": {},
   "outputs": [],
   "source": [
    "%autoreload 2\n",
    "import extract_audio_features"
   ]
  },
  {
   "cell_type": "code",
   "execution_count": 38,
   "metadata": {},
   "outputs": [],
   "source": [
    "from transformers import AutoFeatureExtractor, ASTForAudioClassification\n",
    "import pandas as pd"
   ]
  },
  {
   "cell_type": "code",
   "execution_count": 5,
   "metadata": {},
   "outputs": [
    {
     "data": {
      "text/html": [
       "<div>\n",
       "<style scoped>\n",
       "    .dataframe tbody tr th:only-of-type {\n",
       "        vertical-align: middle;\n",
       "    }\n",
       "\n",
       "    .dataframe tbody tr th {\n",
       "        vertical-align: top;\n",
       "    }\n",
       "\n",
       "    .dataframe thead th {\n",
       "        text-align: right;\n",
       "    }\n",
       "</style>\n",
       "<table border=\"1\" class=\"dataframe\">\n",
       "  <thead>\n",
       "    <tr style=\"text-align: right;\">\n",
       "      <th></th>\n",
       "      <th>Participant</th>\n",
       "      <th>PHQ8_1_NoInterest</th>\n",
       "      <th>PHQ8_2_Depressed</th>\n",
       "      <th>PHQ8_3_Sleep</th>\n",
       "      <th>PHQ8_4_Tired</th>\n",
       "      <th>PHQ8_5_Appetite</th>\n",
       "      <th>PHQ8_6_Failure</th>\n",
       "      <th>PHQ8_7_Concentration</th>\n",
       "      <th>PHQ8_8_Psychomotor</th>\n",
       "      <th>Depression_severity</th>\n",
       "      <th>...</th>\n",
       "      <th>PCL-C_14_Irritability</th>\n",
       "      <th>PCL-C_15_Concentration</th>\n",
       "      <th>PCL-C_16_HyperAlert</th>\n",
       "      <th>PCL-C_17_Jumpy</th>\n",
       "      <th>PTSD_severity</th>\n",
       "      <th>gender</th>\n",
       "      <th>age</th>\n",
       "      <th>Depression_label</th>\n",
       "      <th>PTSD_label</th>\n",
       "      <th>split</th>\n",
       "    </tr>\n",
       "  </thead>\n",
       "  <tbody>\n",
       "    <tr>\n",
       "      <th>0</th>\n",
       "      <td>300</td>\n",
       "      <td>0</td>\n",
       "      <td>0</td>\n",
       "      <td>1</td>\n",
       "      <td>0</td>\n",
       "      <td>1</td>\n",
       "      <td>0</td>\n",
       "      <td>0</td>\n",
       "      <td>0</td>\n",
       "      <td>2</td>\n",
       "      <td>...</td>\n",
       "      <td>2</td>\n",
       "      <td>2</td>\n",
       "      <td>2</td>\n",
       "      <td>1</td>\n",
       "      <td>25.0</td>\n",
       "      <td>male</td>\n",
       "      <td>33</td>\n",
       "      <td>0</td>\n",
       "      <td>0</td>\n",
       "      <td>dev</td>\n",
       "    </tr>\n",
       "    <tr>\n",
       "      <th>1</th>\n",
       "      <td>301</td>\n",
       "      <td>0</td>\n",
       "      <td>0</td>\n",
       "      <td>1</td>\n",
       "      <td>1</td>\n",
       "      <td>1</td>\n",
       "      <td>0</td>\n",
       "      <td>0</td>\n",
       "      <td>0</td>\n",
       "      <td>3</td>\n",
       "      <td>...</td>\n",
       "      <td>1</td>\n",
       "      <td>1</td>\n",
       "      <td>1</td>\n",
       "      <td>1</td>\n",
       "      <td>17.0</td>\n",
       "      <td>male</td>\n",
       "      <td>39</td>\n",
       "      <td>0</td>\n",
       "      <td>0</td>\n",
       "      <td>dev</td>\n",
       "    </tr>\n",
       "    <tr>\n",
       "      <th>2</th>\n",
       "      <td>302</td>\n",
       "      <td>1</td>\n",
       "      <td>1</td>\n",
       "      <td>0</td>\n",
       "      <td>1</td>\n",
       "      <td>0</td>\n",
       "      <td>1</td>\n",
       "      <td>0</td>\n",
       "      <td>0</td>\n",
       "      <td>4</td>\n",
       "      <td>...</td>\n",
       "      <td>1</td>\n",
       "      <td>1</td>\n",
       "      <td>1</td>\n",
       "      <td>1</td>\n",
       "      <td>28.0</td>\n",
       "      <td>male</td>\n",
       "      <td>25</td>\n",
       "      <td>0</td>\n",
       "      <td>0</td>\n",
       "      <td>train</td>\n",
       "    </tr>\n",
       "    <tr>\n",
       "      <th>3</th>\n",
       "      <td>303</td>\n",
       "      <td>0</td>\n",
       "      <td>0</td>\n",
       "      <td>0</td>\n",
       "      <td>0</td>\n",
       "      <td>0</td>\n",
       "      <td>0</td>\n",
       "      <td>0</td>\n",
       "      <td>0</td>\n",
       "      <td>0</td>\n",
       "      <td>...</td>\n",
       "      <td>1</td>\n",
       "      <td>1</td>\n",
       "      <td>1</td>\n",
       "      <td>1</td>\n",
       "      <td>17.0</td>\n",
       "      <td>female</td>\n",
       "      <td>41</td>\n",
       "      <td>0</td>\n",
       "      <td>0</td>\n",
       "      <td>train</td>\n",
       "    </tr>\n",
       "    <tr>\n",
       "      <th>4</th>\n",
       "      <td>304</td>\n",
       "      <td>0</td>\n",
       "      <td>1</td>\n",
       "      <td>1</td>\n",
       "      <td>2</td>\n",
       "      <td>2</td>\n",
       "      <td>0</td>\n",
       "      <td>0</td>\n",
       "      <td>0</td>\n",
       "      <td>6</td>\n",
       "      <td>...</td>\n",
       "      <td>1</td>\n",
       "      <td>2</td>\n",
       "      <td>2</td>\n",
       "      <td>1</td>\n",
       "      <td>20.0</td>\n",
       "      <td>female</td>\n",
       "      <td>22</td>\n",
       "      <td>0</td>\n",
       "      <td>0</td>\n",
       "      <td>train</td>\n",
       "    </tr>\n",
       "  </tbody>\n",
       "</table>\n",
       "<p>5 rows × 33 columns</p>\n",
       "</div>"
      ],
      "text/plain": [
       "   Participant  PHQ8_1_NoInterest  PHQ8_2_Depressed  PHQ8_3_Sleep  \\\n",
       "0          300                  0                 0             1   \n",
       "1          301                  0                 0             1   \n",
       "2          302                  1                 1             0   \n",
       "3          303                  0                 0             0   \n",
       "4          304                  0                 1             1   \n",
       "\n",
       "   PHQ8_4_Tired  PHQ8_5_Appetite  PHQ8_6_Failure  PHQ8_7_Concentration  \\\n",
       "0             0                1               0                     0   \n",
       "1             1                1               0                     0   \n",
       "2             1                0               1                     0   \n",
       "3             0                0               0                     0   \n",
       "4             2                2               0                     0   \n",
       "\n",
       "   PHQ8_8_Psychomotor  Depression_severity  ...  PCL-C_14_Irritability  \\\n",
       "0                   0                    2  ...                      2   \n",
       "1                   0                    3  ...                      1   \n",
       "2                   0                    4  ...                      1   \n",
       "3                   0                    0  ...                      1   \n",
       "4                   0                    6  ...                      1   \n",
       "\n",
       "   PCL-C_15_Concentration  PCL-C_16_HyperAlert  PCL-C_17_Jumpy  PTSD_severity  \\\n",
       "0                       2                    2               1           25.0   \n",
       "1                       1                    1               1           17.0   \n",
       "2                       1                    1               1           28.0   \n",
       "3                       1                    1               1           17.0   \n",
       "4                       2                    2               1           20.0   \n",
       "\n",
       "   gender  age  Depression_label  PTSD_label  split  \n",
       "0    male   33                 0           0    dev  \n",
       "1    male   39                 0           0    dev  \n",
       "2    male   25                 0           0  train  \n",
       "3  female   41                 0           0  train  \n",
       "4  female   22                 0           0  train  \n",
       "\n",
       "[5 rows x 33 columns]"
      ]
     },
     "execution_count": 5,
     "metadata": {},
     "output_type": "execute_result"
    }
   ],
   "source": [
    "# Load the labels CSV\n",
    "csv_path = \"/home/hice1/mbibars3/scratch/vlm-debiasing/data/e-daic/original/labels/detailed_lables.csv\"\n",
    "labels_df = pd.read_csv(csv_path)\n",
    "labels_df.head()"
   ]
  },
  {
   "cell_type": "code",
   "execution_count": 9,
   "metadata": {},
   "outputs": [],
   "source": [
    "main_dir = \"/home/hice1/mbibars3/scratch/vlm-debiasing/data/e-daic/untarred\"\n",
    "labels_csv = labels_df\n",
    "cols = [\"gender\", \"split\", \"PTSD_label\",\"age\",\"PTSD_severity\"]"
   ]
  },
  {
   "cell_type": "code",
   "execution_count": 34,
   "metadata": {},
   "outputs": [
    {
     "name": "stderr",
     "output_type": "stream",
     "text": [
      "100%|██████████| 275/275 [00:00<00:00, 924.63it/s]\n"
     ]
    }
   ],
   "source": [
    "wav_paths_df = extract_audio_features.list_audio_files_paths(main_dir, labels_csv, cols)"
   ]
  },
  {
   "cell_type": "code",
   "execution_count": 35,
   "metadata": {},
   "outputs": [
    {
     "data": {
      "text/html": [
       "<div>\n",
       "<style scoped>\n",
       "    .dataframe tbody tr th:only-of-type {\n",
       "        vertical-align: middle;\n",
       "    }\n",
       "\n",
       "    .dataframe tbody tr th {\n",
       "        vertical-align: top;\n",
       "    }\n",
       "\n",
       "    .dataframe thead th {\n",
       "        text-align: right;\n",
       "    }\n",
       "</style>\n",
       "<table border=\"1\" class=\"dataframe\">\n",
       "  <thead>\n",
       "    <tr style=\"text-align: right;\">\n",
       "      <th></th>\n",
       "      <th>gender</th>\n",
       "      <th>split</th>\n",
       "      <th>PTSD_label</th>\n",
       "      <th>age</th>\n",
       "      <th>PTSD_severity</th>\n",
       "      <th>file_path</th>\n",
       "    </tr>\n",
       "  </thead>\n",
       "  <tbody>\n",
       "    <tr>\n",
       "      <th>0</th>\n",
       "      <td>female</td>\n",
       "      <td>train</td>\n",
       "      <td>0</td>\n",
       "      <td>45</td>\n",
       "      <td>22.0</td>\n",
       "      <td>/home/hice1/mbibars3/scratch/vlm-debiasing/dat...</td>\n",
       "    </tr>\n",
       "    <tr>\n",
       "      <th>1</th>\n",
       "      <td>male</td>\n",
       "      <td>test</td>\n",
       "      <td>0</td>\n",
       "      <td>69</td>\n",
       "      <td>23.0</td>\n",
       "      <td>/home/hice1/mbibars3/scratch/vlm-debiasing/dat...</td>\n",
       "    </tr>\n",
       "    <tr>\n",
       "      <th>2</th>\n",
       "      <td>male</td>\n",
       "      <td>train</td>\n",
       "      <td>0</td>\n",
       "      <td>25</td>\n",
       "      <td>19.0</td>\n",
       "      <td>/home/hice1/mbibars3/scratch/vlm-debiasing/dat...</td>\n",
       "    </tr>\n",
       "    <tr>\n",
       "      <th>3</th>\n",
       "      <td>female</td>\n",
       "      <td>train</td>\n",
       "      <td>1</td>\n",
       "      <td>58</td>\n",
       "      <td>67.0</td>\n",
       "      <td>/home/hice1/mbibars3/scratch/vlm-debiasing/dat...</td>\n",
       "    </tr>\n",
       "    <tr>\n",
       "      <th>4</th>\n",
       "      <td>male</td>\n",
       "      <td>dev</td>\n",
       "      <td>0</td>\n",
       "      <td>33</td>\n",
       "      <td>39.0</td>\n",
       "      <td>/home/hice1/mbibars3/scratch/vlm-debiasing/dat...</td>\n",
       "    </tr>\n",
       "  </tbody>\n",
       "</table>\n",
       "</div>"
      ],
      "text/plain": [
       "   gender  split  PTSD_label  age  PTSD_severity  \\\n",
       "0  female  train           0   45           22.0   \n",
       "1    male   test           0   69           23.0   \n",
       "2    male  train           0   25           19.0   \n",
       "3  female  train           1   58           67.0   \n",
       "4    male    dev           0   33           39.0   \n",
       "\n",
       "                                           file_path  \n",
       "0  /home/hice1/mbibars3/scratch/vlm-debiasing/dat...  \n",
       "1  /home/hice1/mbibars3/scratch/vlm-debiasing/dat...  \n",
       "2  /home/hice1/mbibars3/scratch/vlm-debiasing/dat...  \n",
       "3  /home/hice1/mbibars3/scratch/vlm-debiasing/dat...  \n",
       "4  /home/hice1/mbibars3/scratch/vlm-debiasing/dat...  "
      ]
     },
     "execution_count": 35,
     "metadata": {},
     "output_type": "execute_result"
    }
   ],
   "source": [
    "wav_paths_df.head()"
   ]
  },
  {
   "cell_type": "code",
   "execution_count": 36,
   "metadata": {},
   "outputs": [],
   "source": [
    "path_to_save = \"/home/hice1/mbibars3/scratch/vlm-debiasing/data/e-daic\"\n",
    "file_name = \"labels_audio_wavs.csv\"\n",
    "extract_audio_features.save_csv(wav_paths_df, path_to_save, file_name)"
   ]
  },
  {
   "cell_type": "markdown",
   "metadata": {},
   "source": [
    "# Data Reading"
   ]
  },
  {
   "cell_type": "code",
   "execution_count": 50,
   "metadata": {},
   "outputs": [],
   "source": [
    "path = \"/home/hice1/mbibars3/scratch/vlm-debiasing/data/e-daic/labels_audio_wavs.csv\"\n",
    "df = pd.read_csv(path)\n",
    "wav_paths_csv = df[\"file_path\"]"
   ]
  },
  {
   "cell_type": "code",
   "execution_count": 39,
   "metadata": {},
   "outputs": [],
   "source": [
    "target_path = \"/home/hice1/mbibars3/scratch/vlm-debiasing/data/e-daic/untarred\"\n",
    "# Load model and processor\n",
    "model_name = \"MIT/ast-finetuned-audioset-10-10-0.4593\"\n",
    "processor = AutoFeatureExtractor.from_pretrained(model_name)\n",
    "model = ASTForAudioClassification.from_pretrained(model_name, output_hidden_states=True)"
   ]
  },
  {
   "cell_type": "code",
   "execution_count": 43,
   "metadata": {},
   "outputs": [
    {
     "name": "stderr",
     "output_type": "stream",
     "text": [
      "100%|██████████| 275/275 [03:05<00:00,  1.48it/s]\n"
     ]
    }
   ],
   "source": [
    "# output feature size: (1214, 768)\n",
    "extract_audio_features.extract_features_AST(wav_paths_csv, target_path, processor, model)"
   ]
  },
  {
   "cell_type": "code",
   "execution_count": 51,
   "metadata": {},
   "outputs": [
    {
     "data": {
      "text/html": [
       "<div>\n",
       "<style scoped>\n",
       "    .dataframe tbody tr th:only-of-type {\n",
       "        vertical-align: middle;\n",
       "    }\n",
       "\n",
       "    .dataframe tbody tr th {\n",
       "        vertical-align: top;\n",
       "    }\n",
       "\n",
       "    .dataframe thead th {\n",
       "        text-align: right;\n",
       "    }\n",
       "</style>\n",
       "<table border=\"1\" class=\"dataframe\">\n",
       "  <thead>\n",
       "    <tr style=\"text-align: right;\">\n",
       "      <th></th>\n",
       "      <th>gender</th>\n",
       "      <th>split</th>\n",
       "      <th>PTSD_label</th>\n",
       "      <th>age</th>\n",
       "      <th>PTSD_severity</th>\n",
       "      <th>file_path</th>\n",
       "      <th>npy_file_path</th>\n",
       "    </tr>\n",
       "  </thead>\n",
       "  <tbody>\n",
       "    <tr>\n",
       "      <th>0</th>\n",
       "      <td>female</td>\n",
       "      <td>train</td>\n",
       "      <td>0</td>\n",
       "      <td>45</td>\n",
       "      <td>22.0</td>\n",
       "      <td>/home/hice1/mbibars3/scratch/vlm-debiasing/dat...</td>\n",
       "      <td>/home/hice1/mbibars3/scratch/vlm-debiasing/dat...</td>\n",
       "    </tr>\n",
       "    <tr>\n",
       "      <th>1</th>\n",
       "      <td>male</td>\n",
       "      <td>test</td>\n",
       "      <td>0</td>\n",
       "      <td>69</td>\n",
       "      <td>23.0</td>\n",
       "      <td>/home/hice1/mbibars3/scratch/vlm-debiasing/dat...</td>\n",
       "      <td>/home/hice1/mbibars3/scratch/vlm-debiasing/dat...</td>\n",
       "    </tr>\n",
       "    <tr>\n",
       "      <th>2</th>\n",
       "      <td>male</td>\n",
       "      <td>train</td>\n",
       "      <td>0</td>\n",
       "      <td>25</td>\n",
       "      <td>19.0</td>\n",
       "      <td>/home/hice1/mbibars3/scratch/vlm-debiasing/dat...</td>\n",
       "      <td>/home/hice1/mbibars3/scratch/vlm-debiasing/dat...</td>\n",
       "    </tr>\n",
       "    <tr>\n",
       "      <th>3</th>\n",
       "      <td>female</td>\n",
       "      <td>train</td>\n",
       "      <td>1</td>\n",
       "      <td>58</td>\n",
       "      <td>67.0</td>\n",
       "      <td>/home/hice1/mbibars3/scratch/vlm-debiasing/dat...</td>\n",
       "      <td>/home/hice1/mbibars3/scratch/vlm-debiasing/dat...</td>\n",
       "    </tr>\n",
       "    <tr>\n",
       "      <th>4</th>\n",
       "      <td>male</td>\n",
       "      <td>dev</td>\n",
       "      <td>0</td>\n",
       "      <td>33</td>\n",
       "      <td>39.0</td>\n",
       "      <td>/home/hice1/mbibars3/scratch/vlm-debiasing/dat...</td>\n",
       "      <td>/home/hice1/mbibars3/scratch/vlm-debiasing/dat...</td>\n",
       "    </tr>\n",
       "  </tbody>\n",
       "</table>\n",
       "</div>"
      ],
      "text/plain": [
       "   gender  split  PTSD_label  age  PTSD_severity  \\\n",
       "0  female  train           0   45           22.0   \n",
       "1    male   test           0   69           23.0   \n",
       "2    male  train           0   25           19.0   \n",
       "3  female  train           1   58           67.0   \n",
       "4    male    dev           0   33           39.0   \n",
       "\n",
       "                                           file_path  \\\n",
       "0  /home/hice1/mbibars3/scratch/vlm-debiasing/dat...   \n",
       "1  /home/hice1/mbibars3/scratch/vlm-debiasing/dat...   \n",
       "2  /home/hice1/mbibars3/scratch/vlm-debiasing/dat...   \n",
       "3  /home/hice1/mbibars3/scratch/vlm-debiasing/dat...   \n",
       "4  /home/hice1/mbibars3/scratch/vlm-debiasing/dat...   \n",
       "\n",
       "                                       npy_file_path  \n",
       "0  /home/hice1/mbibars3/scratch/vlm-debiasing/dat...  \n",
       "1  /home/hice1/mbibars3/scratch/vlm-debiasing/dat...  \n",
       "2  /home/hice1/mbibars3/scratch/vlm-debiasing/dat...  \n",
       "3  /home/hice1/mbibars3/scratch/vlm-debiasing/dat...  \n",
       "4  /home/hice1/mbibars3/scratch/vlm-debiasing/dat...  "
      ]
     },
     "execution_count": 51,
     "metadata": {},
     "output_type": "execute_result"
    }
   ],
   "source": [
    "# Add the new column with modified file paths\n",
    "df[\"npy_file_path\"] = df[\"file_path\"].str.replace(\".wav\", \"_ast9.npy\", regex=False)\n",
    "df.head()"
   ]
  },
  {
   "cell_type": "code",
   "execution_count": 52,
   "metadata": {},
   "outputs": [
    {
     "data": {
      "text/plain": [
       "'/home/hice1/mbibars3/scratch/vlm-debiasing/data/e-daic/untarred/449_P/449_AUDIO.wav'"
      ]
     },
     "execution_count": 52,
     "metadata": {},
     "output_type": "execute_result"
    }
   ],
   "source": [
    "df[\"file_path\"][0]"
   ]
  },
  {
   "cell_type": "code",
   "execution_count": 54,
   "metadata": {},
   "outputs": [
    {
     "data": {
      "text/plain": [
       "(1214, 768)"
      ]
     },
     "execution_count": 54,
     "metadata": {},
     "output_type": "execute_result"
    }
   ],
   "source": [
    "import numpy as np\n",
    "np.load(df[\"npy_file_path\"][0]).shape"
   ]
  },
  {
   "cell_type": "code",
   "execution_count": null,
   "metadata": {},
   "outputs": [],
   "source": []
  }
 ],
 "metadata": {
  "kernelspec": {
   "display_name": "Python 3 (ipykernel)",
   "language": "python",
   "name": "python3"
  },
  "language_info": {
   "codemirror_mode": {
    "name": "ipython",
    "version": 3
   },
   "file_extension": ".py",
   "mimetype": "text/x-python",
   "name": "python",
   "nbconvert_exporter": "python",
   "pygments_lexer": "ipython3",
   "version": "3.12.2"
  }
 },
 "nbformat": 4,
 "nbformat_minor": 2
}
