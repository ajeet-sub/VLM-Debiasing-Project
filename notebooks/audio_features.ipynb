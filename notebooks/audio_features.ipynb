{
 "cells": [
  {
   "cell_type": "markdown",
   "metadata": {},
   "source": [
    "# Checks"
   ]
  },
  {
   "cell_type": "code",
   "execution_count": 1,
   "metadata": {},
   "outputs": [
    {
     "name": "stdout",
     "output_type": "stream",
     "text": [
      "GPU is not available.\n"
     ]
    }
   ],
   "source": [
    "import torch\n",
    "\n",
    "# Check if CUDA (GPU support) is available\n",
    "if torch.cuda.is_available():\n",
    "    print(\"GPU is available!\")\n",
    "    print(f\"GPU device name: {torch.cuda.get_device_name(0)}\")\n",
    "else:\n",
    "    print(\"GPU is not available.\")\n"
   ]
  },
  {
   "cell_type": "code",
   "execution_count": 3,
   "metadata": {},
   "outputs": [
    {
     "name": "stdout",
     "output_type": "stream",
     "text": [
      "Running on a SLURM-managed cluster.\n",
      "SLURM_JOB_ID: 951760\n",
      "SLURM_NODELIST: atl1-1-01-005-19-0\n"
     ]
    }
   ],
   "source": [
    "import os\n",
    "\n",
    "def is_slurm_job():\n",
    "    # Check if common SLURM environment variables are set\n",
    "    return 'SLURM_JOB_ID' in os.environ or 'SLURM_TASKS_PER_NODE' in os.environ\n",
    "\n",
    "# Check if the Jupyter notebook is running under a SLURM job\n",
    "if is_slurm_job():\n",
    "    print(\"Running on a SLURM-managed cluster.\")\n",
    "    print(f\"SLURM_JOB_ID: {os.environ.get('SLURM_JOB_ID')}\")\n",
    "    print(f\"SLURM_NODELIST: {os.environ.get('SLURM_NODELIST')}\")\n",
    "else:\n",
    "    print(\"Running locally (not on a SLURM-managed cluster).\")"
   ]
  },
  {
   "attachments": {},
   "cell_type": "markdown",
   "metadata": {},
   "source": [
    "# Instructions"
   ]
  },
  {
   "attachments": {},
   "cell_type": "markdown",
   "metadata": {},
   "source": [
    "- Change paths to files/folders \n",
    "    - The `scripts_path` (the path that contains the scripts from the GitHub repo)\n",
    "        - **Ex**: `/home/hice1/mbibars3/scratch/vlm-debiasing/VLM-Debiasing-Project/scripts`\n",
    "    - `csv_path`: the path to the csv file that was installed with the original data that contains the patients and the detailed labels\n",
    "        - **Ex**: `\"/home/hice1/mbibars3/scratch/vlm-debiasing/data/e-daic/original/labels/detailed_lables.csv\"`\n",
    "    - `main_dir`: the path to the main folder that contains the untarred patients data with structure \n",
    "        - Patient1\n",
    "            - Features\n",
    "            - AUDIO.wav\n",
    "        - Patient2\n",
    "            - Features \n",
    "            - AUDIO.wav\n",
    "        - **Ex**: `\"/home/hice1/mbibars3/scratch/vlm-debiasing/data/e-daic/untarred\"`\n",
    "    - `path_to_save_features_csv`: path to save the final csv file that should contain the labels, split, gender, and audio modality features path\n",
    "        - **Ex**: `\"/home/hice1/mbibars3/scratch/vlm-debiasing/data/e-daic/data_paths.csv\"`\n"
   ]
  },
  {
   "cell_type": "code",
   "execution_count": 5,
   "metadata": {},
   "outputs": [],
   "source": [
    "scripts_path = '/home/hice1/asubramanian91/scratch/git/VLM-Debiasing-Project/scripts'\n",
    "csv_path = \"/home/hice1/asubramanian91/scratch/e-daic/data/e-daic/original/labels/detailed_lables.csv\"\n",
    "main_dir = \"/home/hice1/asubramanian91/scratch/e-daic/data/e-daic/untarred\"\n",
    "path_to_save_features_csv = \"/home/hice1/asubramanian91/scratch/e-daic/data/e-daic/data_paths.csv\""
   ]
  },
  {
   "cell_type": "markdown",
   "metadata": {},
   "source": [
    "# Imports"
   ]
  },
  {
   "cell_type": "code",
   "execution_count": 6,
   "metadata": {},
   "outputs": [],
   "source": [
    "%load_ext autoreload\n",
    "import sys\n",
    "sys.path.append(scripts_path)"
   ]
  },
  {
   "cell_type": "code",
   "execution_count": 8,
   "metadata": {},
   "outputs": [
    {
     "name": "stderr",
     "output_type": "stream",
     "text": [
      "/home/hice1/asubramanian91/scratch/miniconda3/envs/vlmenv/lib/python3.12/site-packages/tqdm/auto.py:21: TqdmWarning: IProgress not found. Please update jupyter and ipywidgets. See https://ipywidgets.readthedocs.io/en/stable/user_install.html\n",
      "  from .autonotebook import tqdm as notebook_tqdm\n"
     ]
    }
   ],
   "source": [
    "%autoreload 2\n",
    "import extract_audio_features\n",
    "from transformers import AutoFeatureExtractor, ASTForAudioClassification\n",
    "import pandas as pd\n",
    "import numpy as np"
   ]
  },
  {
   "attachments": {},
   "cell_type": "markdown",
   "metadata": {},
   "source": [
    "# Extracting Audio Features from .wav Files"
   ]
  },
  {
   "attachments": {},
   "cell_type": "markdown",
   "metadata": {},
   "source": [
    "## List Audio .wav Files\n",
    "This section of the code creates a csv file that contains the paths to all .wav files with their labels"
   ]
  },
  {
   "cell_type": "code",
   "execution_count": 9,
   "metadata": {},
   "outputs": [
    {
     "data": {
      "text/html": [
       "<div>\n",
       "<style scoped>\n",
       "    .dataframe tbody tr th:only-of-type {\n",
       "        vertical-align: middle;\n",
       "    }\n",
       "\n",
       "    .dataframe tbody tr th {\n",
       "        vertical-align: top;\n",
       "    }\n",
       "\n",
       "    .dataframe thead th {\n",
       "        text-align: right;\n",
       "    }\n",
       "</style>\n",
       "<table border=\"1\" class=\"dataframe\">\n",
       "  <thead>\n",
       "    <tr style=\"text-align: right;\">\n",
       "      <th></th>\n",
       "      <th>Participant</th>\n",
       "      <th>PHQ8_1_NoInterest</th>\n",
       "      <th>PHQ8_2_Depressed</th>\n",
       "      <th>PHQ8_3_Sleep</th>\n",
       "      <th>PHQ8_4_Tired</th>\n",
       "      <th>PHQ8_5_Appetite</th>\n",
       "      <th>PHQ8_6_Failure</th>\n",
       "      <th>PHQ8_7_Concentration</th>\n",
       "      <th>PHQ8_8_Psychomotor</th>\n",
       "      <th>Depression_severity</th>\n",
       "      <th>...</th>\n",
       "      <th>PCL-C_14_Irritability</th>\n",
       "      <th>PCL-C_15_Concentration</th>\n",
       "      <th>PCL-C_16_HyperAlert</th>\n",
       "      <th>PCL-C_17_Jumpy</th>\n",
       "      <th>PTSD_severity</th>\n",
       "      <th>gender</th>\n",
       "      <th>age</th>\n",
       "      <th>Depression_label</th>\n",
       "      <th>PTSD_label</th>\n",
       "      <th>split</th>\n",
       "    </tr>\n",
       "  </thead>\n",
       "  <tbody>\n",
       "    <tr>\n",
       "      <th>0</th>\n",
       "      <td>300</td>\n",
       "      <td>0</td>\n",
       "      <td>0</td>\n",
       "      <td>1</td>\n",
       "      <td>0</td>\n",
       "      <td>1</td>\n",
       "      <td>0</td>\n",
       "      <td>0</td>\n",
       "      <td>0</td>\n",
       "      <td>2</td>\n",
       "      <td>...</td>\n",
       "      <td>2</td>\n",
       "      <td>2</td>\n",
       "      <td>2</td>\n",
       "      <td>1</td>\n",
       "      <td>25.0</td>\n",
       "      <td>male</td>\n",
       "      <td>33</td>\n",
       "      <td>0</td>\n",
       "      <td>0</td>\n",
       "      <td>dev</td>\n",
       "    </tr>\n",
       "    <tr>\n",
       "      <th>1</th>\n",
       "      <td>301</td>\n",
       "      <td>0</td>\n",
       "      <td>0</td>\n",
       "      <td>1</td>\n",
       "      <td>1</td>\n",
       "      <td>1</td>\n",
       "      <td>0</td>\n",
       "      <td>0</td>\n",
       "      <td>0</td>\n",
       "      <td>3</td>\n",
       "      <td>...</td>\n",
       "      <td>1</td>\n",
       "      <td>1</td>\n",
       "      <td>1</td>\n",
       "      <td>1</td>\n",
       "      <td>17.0</td>\n",
       "      <td>male</td>\n",
       "      <td>39</td>\n",
       "      <td>0</td>\n",
       "      <td>0</td>\n",
       "      <td>dev</td>\n",
       "    </tr>\n",
       "    <tr>\n",
       "      <th>2</th>\n",
       "      <td>302</td>\n",
       "      <td>1</td>\n",
       "      <td>1</td>\n",
       "      <td>0</td>\n",
       "      <td>1</td>\n",
       "      <td>0</td>\n",
       "      <td>1</td>\n",
       "      <td>0</td>\n",
       "      <td>0</td>\n",
       "      <td>4</td>\n",
       "      <td>...</td>\n",
       "      <td>1</td>\n",
       "      <td>1</td>\n",
       "      <td>1</td>\n",
       "      <td>1</td>\n",
       "      <td>28.0</td>\n",
       "      <td>male</td>\n",
       "      <td>25</td>\n",
       "      <td>0</td>\n",
       "      <td>0</td>\n",
       "      <td>train</td>\n",
       "    </tr>\n",
       "    <tr>\n",
       "      <th>3</th>\n",
       "      <td>303</td>\n",
       "      <td>0</td>\n",
       "      <td>0</td>\n",
       "      <td>0</td>\n",
       "      <td>0</td>\n",
       "      <td>0</td>\n",
       "      <td>0</td>\n",
       "      <td>0</td>\n",
       "      <td>0</td>\n",
       "      <td>0</td>\n",
       "      <td>...</td>\n",
       "      <td>1</td>\n",
       "      <td>1</td>\n",
       "      <td>1</td>\n",
       "      <td>1</td>\n",
       "      <td>17.0</td>\n",
       "      <td>female</td>\n",
       "      <td>41</td>\n",
       "      <td>0</td>\n",
       "      <td>0</td>\n",
       "      <td>train</td>\n",
       "    </tr>\n",
       "    <tr>\n",
       "      <th>4</th>\n",
       "      <td>304</td>\n",
       "      <td>0</td>\n",
       "      <td>1</td>\n",
       "      <td>1</td>\n",
       "      <td>2</td>\n",
       "      <td>2</td>\n",
       "      <td>0</td>\n",
       "      <td>0</td>\n",
       "      <td>0</td>\n",
       "      <td>6</td>\n",
       "      <td>...</td>\n",
       "      <td>1</td>\n",
       "      <td>2</td>\n",
       "      <td>2</td>\n",
       "      <td>1</td>\n",
       "      <td>20.0</td>\n",
       "      <td>female</td>\n",
       "      <td>22</td>\n",
       "      <td>0</td>\n",
       "      <td>0</td>\n",
       "      <td>train</td>\n",
       "    </tr>\n",
       "  </tbody>\n",
       "</table>\n",
       "<p>5 rows × 33 columns</p>\n",
       "</div>"
      ],
      "text/plain": [
       "   Participant  PHQ8_1_NoInterest  PHQ8_2_Depressed  PHQ8_3_Sleep  \\\n",
       "0          300                  0                 0             1   \n",
       "1          301                  0                 0             1   \n",
       "2          302                  1                 1             0   \n",
       "3          303                  0                 0             0   \n",
       "4          304                  0                 1             1   \n",
       "\n",
       "   PHQ8_4_Tired  PHQ8_5_Appetite  PHQ8_6_Failure  PHQ8_7_Concentration  \\\n",
       "0             0                1               0                     0   \n",
       "1             1                1               0                     0   \n",
       "2             1                0               1                     0   \n",
       "3             0                0               0                     0   \n",
       "4             2                2               0                     0   \n",
       "\n",
       "   PHQ8_8_Psychomotor  Depression_severity  ...  PCL-C_14_Irritability  \\\n",
       "0                   0                    2  ...                      2   \n",
       "1                   0                    3  ...                      1   \n",
       "2                   0                    4  ...                      1   \n",
       "3                   0                    0  ...                      1   \n",
       "4                   0                    6  ...                      1   \n",
       "\n",
       "   PCL-C_15_Concentration  PCL-C_16_HyperAlert  PCL-C_17_Jumpy  PTSD_severity  \\\n",
       "0                       2                    2               1           25.0   \n",
       "1                       1                    1               1           17.0   \n",
       "2                       1                    1               1           28.0   \n",
       "3                       1                    1               1           17.0   \n",
       "4                       2                    2               1           20.0   \n",
       "\n",
       "   gender  age  Depression_label  PTSD_label  split  \n",
       "0    male   33                 0           0    dev  \n",
       "1    male   39                 0           0    dev  \n",
       "2    male   25                 0           0  train  \n",
       "3  female   41                 0           0  train  \n",
       "4  female   22                 0           0  train  \n",
       "\n",
       "[5 rows x 33 columns]"
      ]
     },
     "execution_count": 9,
     "metadata": {},
     "output_type": "execute_result"
    }
   ],
   "source": [
    "# Load the labels CSV\n",
    "labels_df = pd.read_csv(csv_path)\n",
    "labels_df.head()"
   ]
  },
  {
   "cell_type": "code",
   "execution_count": 10,
   "metadata": {},
   "outputs": [],
   "source": [
    "labels_csv = labels_df\n",
    "cols = [\"gender\", \"split\", \"PTSD_label\",\"age\",\"PTSD_severity\"]"
   ]
  },
  {
   "cell_type": "code",
   "execution_count": 13,
   "metadata": {},
   "outputs": [
    {
     "name": "stderr",
     "output_type": "stream",
     "text": [
      "100%|██████████| 275/275 [00:00<00:00, 1013.12it/s]\n"
     ]
    }
   ],
   "source": [
    "wav_paths_df = extract_audio_features.list_audio_files_paths(main_dir, labels_csv, cols)"
   ]
  },
  {
   "cell_type": "code",
   "execution_count": 14,
   "metadata": {},
   "outputs": [
    {
     "data": {
      "text/html": [
       "<div>\n",
       "<style scoped>\n",
       "    .dataframe tbody tr th:only-of-type {\n",
       "        vertical-align: middle;\n",
       "    }\n",
       "\n",
       "    .dataframe tbody tr th {\n",
       "        vertical-align: top;\n",
       "    }\n",
       "\n",
       "    .dataframe thead th {\n",
       "        text-align: right;\n",
       "    }\n",
       "</style>\n",
       "<table border=\"1\" class=\"dataframe\">\n",
       "  <thead>\n",
       "    <tr style=\"text-align: right;\">\n",
       "      <th></th>\n",
       "      <th>gender</th>\n",
       "      <th>split</th>\n",
       "      <th>PTSD_label</th>\n",
       "      <th>age</th>\n",
       "      <th>PTSD_severity</th>\n",
       "      <th>file_path</th>\n",
       "    </tr>\n",
       "  </thead>\n",
       "  <tbody>\n",
       "    <tr>\n",
       "      <th>0</th>\n",
       "      <td>female</td>\n",
       "      <td>train</td>\n",
       "      <td>0</td>\n",
       "      <td>45</td>\n",
       "      <td>22.0</td>\n",
       "      <td>/home/hice1/asubramanian91/scratch/e-daic/data...</td>\n",
       "    </tr>\n",
       "    <tr>\n",
       "      <th>1</th>\n",
       "      <td>male</td>\n",
       "      <td>test</td>\n",
       "      <td>0</td>\n",
       "      <td>69</td>\n",
       "      <td>23.0</td>\n",
       "      <td>/home/hice1/asubramanian91/scratch/e-daic/data...</td>\n",
       "    </tr>\n",
       "    <tr>\n",
       "      <th>2</th>\n",
       "      <td>male</td>\n",
       "      <td>train</td>\n",
       "      <td>0</td>\n",
       "      <td>25</td>\n",
       "      <td>19.0</td>\n",
       "      <td>/home/hice1/asubramanian91/scratch/e-daic/data...</td>\n",
       "    </tr>\n",
       "    <tr>\n",
       "      <th>3</th>\n",
       "      <td>female</td>\n",
       "      <td>train</td>\n",
       "      <td>1</td>\n",
       "      <td>58</td>\n",
       "      <td>67.0</td>\n",
       "      <td>/home/hice1/asubramanian91/scratch/e-daic/data...</td>\n",
       "    </tr>\n",
       "    <tr>\n",
       "      <th>4</th>\n",
       "      <td>male</td>\n",
       "      <td>dev</td>\n",
       "      <td>0</td>\n",
       "      <td>33</td>\n",
       "      <td>39.0</td>\n",
       "      <td>/home/hice1/asubramanian91/scratch/e-daic/data...</td>\n",
       "    </tr>\n",
       "  </tbody>\n",
       "</table>\n",
       "</div>"
      ],
      "text/plain": [
       "   gender  split  PTSD_label  age  PTSD_severity  \\\n",
       "0  female  train           0   45           22.0   \n",
       "1    male   test           0   69           23.0   \n",
       "2    male  train           0   25           19.0   \n",
       "3  female  train           1   58           67.0   \n",
       "4    male    dev           0   33           39.0   \n",
       "\n",
       "                                           file_path  \n",
       "0  /home/hice1/asubramanian91/scratch/e-daic/data...  \n",
       "1  /home/hice1/asubramanian91/scratch/e-daic/data...  \n",
       "2  /home/hice1/asubramanian91/scratch/e-daic/data...  \n",
       "3  /home/hice1/asubramanian91/scratch/e-daic/data...  \n",
       "4  /home/hice1/asubramanian91/scratch/e-daic/data...  "
      ]
     },
     "execution_count": 14,
     "metadata": {},
     "output_type": "execute_result"
    }
   ],
   "source": [
    "wav_paths_df.head()"
   ]
  },
  {
   "attachments": {},
   "cell_type": "markdown",
   "metadata": {},
   "source": [
    "This cell is optional, if you want to save the csv to `path_to_save` on your system"
   ]
  },
  {
   "cell_type": "code",
   "execution_count": 19,
   "metadata": {},
   "outputs": [],
   "source": [
    "path_to_save = \"/home/hice1/asubramanian91/scratch/e-daic/data/e-daic\"\n",
    "file_name = \"labels_audio_wavs.csv\"\n",
    "extract_audio_features.save_csv(wav_paths_df, path_to_save, file_name)"
   ]
  },
  {
   "attachments": {},
   "cell_type": "markdown",
   "metadata": {},
   "source": [
    "## Extract and Save AST features for all patients "
   ]
  },
  {
   "attachments": {},
   "cell_type": "markdown",
   "metadata": {},
   "source": [
    "This cell is optional, if you want to load the saved csv from your system"
   ]
  },
  {
   "cell_type": "code",
   "execution_count": 21,
   "metadata": {},
   "outputs": [],
   "source": [
    "path = \"/home/hice1/asubramanian91/scratch/e-daic/data/e-daic/labels_audio_wavs.csv\"\n",
    "wav_paths_df = pd.read_csv(path)\n",
    "wav_paths_csv = wav_paths_df[\"file_path\"]"
   ]
  },
  {
   "cell_type": "code",
   "execution_count": 22,
   "metadata": {},
   "outputs": [],
   "source": [
    "# Load model and processor\n",
    "model_name = \"MIT/ast-finetuned-audioset-10-10-0.4593\"\n",
    "processor = AutoFeatureExtractor.from_pretrained(model_name)\n",
    "model = ASTForAudioClassification.from_pretrained(model_name, output_hidden_states=True)"
   ]
  },
  {
   "cell_type": "code",
   "execution_count": 23,
   "metadata": {},
   "outputs": [
    {
     "name": "stderr",
     "output_type": "stream",
     "text": [
      "100%|██████████| 275/275 [03:58<00:00,  1.15it/s]\n"
     ]
    }
   ],
   "source": [
    "# output feature size: (1214, 768) without pooling\n",
    "target_path = main_dir\n",
    "extract_audio_features.extract_features_AST(wav_paths_csv, target_path, processor, model, pooling=True)"
   ]
  },
  {
   "attachments": {},
   "cell_type": "markdown",
   "metadata": {},
   "source": [
    "# Creating a .csv for the features paths \n",
    "The following cells are designed to create a csv file that contains the path to each patients AST Audio features with the labels and split and gender for each file.\n",
    "\n",
    "This csv should be used for training the perceiver after concatenating it to the columns of the other modality features paths\n",
    "\n",
    "The final csv should be saved for easier loading."
   ]
  },
  {
   "cell_type": "code",
   "execution_count": 24,
   "metadata": {},
   "outputs": [
    {
     "data": {
      "text/html": [
       "<div>\n",
       "<style scoped>\n",
       "    .dataframe tbody tr th:only-of-type {\n",
       "        vertical-align: middle;\n",
       "    }\n",
       "\n",
       "    .dataframe tbody tr th {\n",
       "        vertical-align: top;\n",
       "    }\n",
       "\n",
       "    .dataframe thead th {\n",
       "        text-align: right;\n",
       "    }\n",
       "</style>\n",
       "<table border=\"1\" class=\"dataframe\">\n",
       "  <thead>\n",
       "    <tr style=\"text-align: right;\">\n",
       "      <th></th>\n",
       "      <th>gender</th>\n",
       "      <th>split</th>\n",
       "      <th>PTSD_label</th>\n",
       "      <th>age</th>\n",
       "      <th>PTSD_severity</th>\n",
       "      <th>file_path</th>\n",
       "      <th>audio</th>\n",
       "    </tr>\n",
       "  </thead>\n",
       "  <tbody>\n",
       "    <tr>\n",
       "      <th>0</th>\n",
       "      <td>female</td>\n",
       "      <td>train</td>\n",
       "      <td>0</td>\n",
       "      <td>45</td>\n",
       "      <td>22.0</td>\n",
       "      <td>/home/hice1/asubramanian91/scratch/e-daic/data...</td>\n",
       "      <td>/home/hice1/asubramanian91/scratch/e-daic/data...</td>\n",
       "    </tr>\n",
       "    <tr>\n",
       "      <th>1</th>\n",
       "      <td>male</td>\n",
       "      <td>test</td>\n",
       "      <td>0</td>\n",
       "      <td>69</td>\n",
       "      <td>23.0</td>\n",
       "      <td>/home/hice1/asubramanian91/scratch/e-daic/data...</td>\n",
       "      <td>/home/hice1/asubramanian91/scratch/e-daic/data...</td>\n",
       "    </tr>\n",
       "    <tr>\n",
       "      <th>2</th>\n",
       "      <td>male</td>\n",
       "      <td>train</td>\n",
       "      <td>0</td>\n",
       "      <td>25</td>\n",
       "      <td>19.0</td>\n",
       "      <td>/home/hice1/asubramanian91/scratch/e-daic/data...</td>\n",
       "      <td>/home/hice1/asubramanian91/scratch/e-daic/data...</td>\n",
       "    </tr>\n",
       "    <tr>\n",
       "      <th>3</th>\n",
       "      <td>female</td>\n",
       "      <td>train</td>\n",
       "      <td>1</td>\n",
       "      <td>58</td>\n",
       "      <td>67.0</td>\n",
       "      <td>/home/hice1/asubramanian91/scratch/e-daic/data...</td>\n",
       "      <td>/home/hice1/asubramanian91/scratch/e-daic/data...</td>\n",
       "    </tr>\n",
       "    <tr>\n",
       "      <th>4</th>\n",
       "      <td>male</td>\n",
       "      <td>dev</td>\n",
       "      <td>0</td>\n",
       "      <td>33</td>\n",
       "      <td>39.0</td>\n",
       "      <td>/home/hice1/asubramanian91/scratch/e-daic/data...</td>\n",
       "      <td>/home/hice1/asubramanian91/scratch/e-daic/data...</td>\n",
       "    </tr>\n",
       "  </tbody>\n",
       "</table>\n",
       "</div>"
      ],
      "text/plain": [
       "   gender  split  PTSD_label  age  PTSD_severity  \\\n",
       "0  female  train           0   45           22.0   \n",
       "1    male   test           0   69           23.0   \n",
       "2    male  train           0   25           19.0   \n",
       "3  female  train           1   58           67.0   \n",
       "4    male    dev           0   33           39.0   \n",
       "\n",
       "                                           file_path  \\\n",
       "0  /home/hice1/asubramanian91/scratch/e-daic/data...   \n",
       "1  /home/hice1/asubramanian91/scratch/e-daic/data...   \n",
       "2  /home/hice1/asubramanian91/scratch/e-daic/data...   \n",
       "3  /home/hice1/asubramanian91/scratch/e-daic/data...   \n",
       "4  /home/hice1/asubramanian91/scratch/e-daic/data...   \n",
       "\n",
       "                                               audio  \n",
       "0  /home/hice1/asubramanian91/scratch/e-daic/data...  \n",
       "1  /home/hice1/asubramanian91/scratch/e-daic/data...  \n",
       "2  /home/hice1/asubramanian91/scratch/e-daic/data...  \n",
       "3  /home/hice1/asubramanian91/scratch/e-daic/data...  \n",
       "4  /home/hice1/asubramanian91/scratch/e-daic/data...  "
      ]
     },
     "execution_count": 24,
     "metadata": {},
     "output_type": "execute_result"
    }
   ],
   "source": [
    "# Add the new column with modified file paths\n",
    "wav_paths_df[\"audio\"] = wav_paths_df[\"file_path\"].str.replace(\".wav\", \".npy\", regex=False)\n",
    "wav_paths_df.head()"
   ]
  },
  {
   "cell_type": "code",
   "execution_count": 25,
   "metadata": {},
   "outputs": [
    {
     "data": {
      "text/html": [
       "<div>\n",
       "<style scoped>\n",
       "    .dataframe tbody tr th:only-of-type {\n",
       "        vertical-align: middle;\n",
       "    }\n",
       "\n",
       "    .dataframe tbody tr th {\n",
       "        vertical-align: top;\n",
       "    }\n",
       "\n",
       "    .dataframe thead th {\n",
       "        text-align: right;\n",
       "    }\n",
       "</style>\n",
       "<table border=\"1\" class=\"dataframe\">\n",
       "  <thead>\n",
       "    <tr style=\"text-align: right;\">\n",
       "      <th></th>\n",
       "      <th>split</th>\n",
       "      <th>PTSD_severity</th>\n",
       "      <th>PTSD_label</th>\n",
       "      <th>gender</th>\n",
       "      <th>audio</th>\n",
       "    </tr>\n",
       "  </thead>\n",
       "  <tbody>\n",
       "    <tr>\n",
       "      <th>0</th>\n",
       "      <td>train</td>\n",
       "      <td>22.0</td>\n",
       "      <td>0</td>\n",
       "      <td>female</td>\n",
       "      <td>/home/hice1/asubramanian91/scratch/e-daic/data...</td>\n",
       "    </tr>\n",
       "    <tr>\n",
       "      <th>1</th>\n",
       "      <td>test</td>\n",
       "      <td>23.0</td>\n",
       "      <td>0</td>\n",
       "      <td>male</td>\n",
       "      <td>/home/hice1/asubramanian91/scratch/e-daic/data...</td>\n",
       "    </tr>\n",
       "    <tr>\n",
       "      <th>2</th>\n",
       "      <td>train</td>\n",
       "      <td>19.0</td>\n",
       "      <td>0</td>\n",
       "      <td>male</td>\n",
       "      <td>/home/hice1/asubramanian91/scratch/e-daic/data...</td>\n",
       "    </tr>\n",
       "    <tr>\n",
       "      <th>3</th>\n",
       "      <td>train</td>\n",
       "      <td>67.0</td>\n",
       "      <td>1</td>\n",
       "      <td>female</td>\n",
       "      <td>/home/hice1/asubramanian91/scratch/e-daic/data...</td>\n",
       "    </tr>\n",
       "    <tr>\n",
       "      <th>4</th>\n",
       "      <td>dev</td>\n",
       "      <td>39.0</td>\n",
       "      <td>0</td>\n",
       "      <td>male</td>\n",
       "      <td>/home/hice1/asubramanian91/scratch/e-daic/data...</td>\n",
       "    </tr>\n",
       "    <tr>\n",
       "      <th>...</th>\n",
       "      <td>...</td>\n",
       "      <td>...</td>\n",
       "      <td>...</td>\n",
       "      <td>...</td>\n",
       "      <td>...</td>\n",
       "    </tr>\n",
       "    <tr>\n",
       "      <th>270</th>\n",
       "      <td>test</td>\n",
       "      <td>44.0</td>\n",
       "      <td>1</td>\n",
       "      <td>female</td>\n",
       "      <td>/home/hice1/asubramanian91/scratch/e-daic/data...</td>\n",
       "    </tr>\n",
       "    <tr>\n",
       "      <th>271</th>\n",
       "      <td>test</td>\n",
       "      <td>64.0</td>\n",
       "      <td>1</td>\n",
       "      <td>female</td>\n",
       "      <td>/home/hice1/asubramanian91/scratch/e-daic/data...</td>\n",
       "    </tr>\n",
       "    <tr>\n",
       "      <th>272</th>\n",
       "      <td>test</td>\n",
       "      <td>NaN</td>\n",
       "      <td>1</td>\n",
       "      <td>male</td>\n",
       "      <td>/home/hice1/asubramanian91/scratch/e-daic/data...</td>\n",
       "    </tr>\n",
       "    <tr>\n",
       "      <th>273</th>\n",
       "      <td>train</td>\n",
       "      <td>17.0</td>\n",
       "      <td>0</td>\n",
       "      <td>male</td>\n",
       "      <td>/home/hice1/asubramanian91/scratch/e-daic/data...</td>\n",
       "    </tr>\n",
       "    <tr>\n",
       "      <th>274</th>\n",
       "      <td>test</td>\n",
       "      <td>62.0</td>\n",
       "      <td>1</td>\n",
       "      <td>female</td>\n",
       "      <td>/home/hice1/asubramanian91/scratch/e-daic/data...</td>\n",
       "    </tr>\n",
       "  </tbody>\n",
       "</table>\n",
       "<p>275 rows × 5 columns</p>\n",
       "</div>"
      ],
      "text/plain": [
       "     split  PTSD_severity  PTSD_label  gender  \\\n",
       "0    train           22.0           0  female   \n",
       "1     test           23.0           0    male   \n",
       "2    train           19.0           0    male   \n",
       "3    train           67.0           1  female   \n",
       "4      dev           39.0           0    male   \n",
       "..     ...            ...         ...     ...   \n",
       "270   test           44.0           1  female   \n",
       "271   test           64.0           1  female   \n",
       "272   test            NaN           1    male   \n",
       "273  train           17.0           0    male   \n",
       "274   test           62.0           1  female   \n",
       "\n",
       "                                                 audio  \n",
       "0    /home/hice1/asubramanian91/scratch/e-daic/data...  \n",
       "1    /home/hice1/asubramanian91/scratch/e-daic/data...  \n",
       "2    /home/hice1/asubramanian91/scratch/e-daic/data...  \n",
       "3    /home/hice1/asubramanian91/scratch/e-daic/data...  \n",
       "4    /home/hice1/asubramanian91/scratch/e-daic/data...  \n",
       "..                                                 ...  \n",
       "270  /home/hice1/asubramanian91/scratch/e-daic/data...  \n",
       "271  /home/hice1/asubramanian91/scratch/e-daic/data...  \n",
       "272  /home/hice1/asubramanian91/scratch/e-daic/data...  \n",
       "273  /home/hice1/asubramanian91/scratch/e-daic/data...  \n",
       "274  /home/hice1/asubramanian91/scratch/e-daic/data...  \n",
       "\n",
       "[275 rows x 5 columns]"
      ]
     },
     "execution_count": 25,
     "metadata": {},
     "output_type": "execute_result"
    }
   ],
   "source": [
    "audio_features = wav_paths_df[[\"split\", \"PTSD_severity\", \"PTSD_label\",\t\"gender\", \"audio\"]].copy()\n",
    "audio_features"
   ]
  },
  {
   "cell_type": "code",
   "execution_count": 26,
   "metadata": {},
   "outputs": [],
   "source": [
    "audio_features.to_csv(path_to_save_features_csv, index=False)"
   ]
  }
 ],
 "metadata": {
  "kernelspec": {
   "display_name": "Python 3 (ipykernel)",
   "language": "python",
   "name": "python3"
  },
  "language_info": {
   "codemirror_mode": {
    "name": "ipython",
    "version": 3
   },
   "file_extension": ".py",
   "mimetype": "text/x-python",
   "name": "python",
   "nbconvert_exporter": "python",
   "pygments_lexer": "ipython3",
   "version": "3.12.7"
  }
 },
 "nbformat": 4,
 "nbformat_minor": 2
}
