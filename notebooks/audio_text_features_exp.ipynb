{
 "cells": [
  {
   "cell_type": "markdown",
   "metadata": {},
   "source": [
    "# Imports"
   ]
  },
  {
   "cell_type": "code",
   "execution_count": 1,
   "metadata": {},
   "outputs": [],
   "source": [
    "%load_ext autoreload"
   ]
  },
  {
   "cell_type": "code",
   "execution_count": 2,
   "metadata": {},
   "outputs": [],
   "source": [
    "import sys\n",
    "sys.path.append('/home/hice1/mbibars3/scratch/vlm-debiasing/VLM-Debiasing-Project/scripts')"
   ]
  },
  {
   "cell_type": "code",
   "execution_count": 3,
   "metadata": {},
   "outputs": [
    {
     "name": "stderr",
     "output_type": "stream",
     "text": [
      "/home/hice1/mbibars3/scratch/miniconda3/envs/vlm-debiasing/lib/python3.12/site-packages/tqdm/auto.py:21: TqdmWarning: IProgress not found. Please update jupyter and ipywidgets. See https://ipywidgets.readthedocs.io/en/stable/user_install.html\n",
      "  from .autonotebook import tqdm as notebook_tqdm\n"
     ]
    }
   ],
   "source": [
    "%autoreload 2\n",
    "import pandas as pd\n",
    "import numpy as np\n",
    "import os\n",
    "import model as m\n",
    "import torch\n",
    "import torch.nn as nn\n",
    "import torch.optim as optim\n",
    "import loaders\n",
    "from torch.utils.data import Dataset, DataLoader\n",
    "import matplotlib.pyplot as plt"
   ]
  },
  {
   "cell_type": "code",
   "execution_count": 453,
   "metadata": {},
   "outputs": [],
   "source": [
    "\"\"\"\n",
    "seed = random.randint(1,100)\n",
    "torch.manual_seed(seed)\n",
    "torch.cuda.manual_seed(seed)\n",
    "\"\"\""
   ]
  },
  {
   "cell_type": "code",
   "execution_count": 4,
   "metadata": {},
   "outputs": [],
   "source": [
    "import random\n",
    "\n",
    "def mixup_data(x1, x2, y1, y2, alpha=1.0):\n",
    "    \"\"\"\n",
    "    Perform MixUp between two samples.\n",
    "    \n",
    "    Args:\n",
    "        x1: The first sample (input tensor).\n",
    "        x2: The second sample (input tensor).\n",
    "        y1: The first label.\n",
    "        y2: The second label.\n",
    "        alpha: The mixing parameter (lambda), which controls the weight of each sample.\n",
    "\n",
    "    Returns:\n",
    "        mixed_x: The mixed input tensor.\n",
    "        mixed_y: The mixed label tensor.\n",
    "        lambda_value: The value of lambda (how much of each sample is mixed).\n",
    "    \"\"\"\n",
    "    # Generate the mixing factor lambda from a Beta distribution\n",
    "    lambda_value = torch.distributions.Beta(alpha, alpha).sample().item()\n",
    "\n",
    "    # Perform MixUp for inputs\n",
    "    mixed_x = lambda_value * x1 + (1 - lambda_value) * x2\n",
    "    \n",
    "    # Perform MixUp for labels\n",
    "    mixed_y = lambda_value * y1 + (1 - lambda_value) * y2\n",
    "    \n",
    "    return mixed_x, mixed_y, lambda_value\n"
   ]
  },
  {
   "cell_type": "code",
   "execution_count": 5,
   "metadata": {},
   "outputs": [],
   "source": [
    "import torch\n",
    "import torch.nn as nn\n",
    "return_lstm_output =False\n",
    "class DeepConvLSTM(nn.Module):\n",
    "    def __init__(self, input_channels, conv_channels, lstm_hidden_size, lstm_layers, output_size, dropout=0.5):\n",
    "        \"\"\"\n",
    "        Args:\n",
    "            input_channels: Number of input features (25 for your data).\n",
    "            conv_channels: Number of output channels for the convolutional layers.\n",
    "            lstm_hidden_size: Hidden size of the LSTM.\n",
    "            lstm_layers: Number of LSTM layers.\n",
    "            output_size: Size of the model output (e.g., number of classes for classification or 1 for regression).\n",
    "            dropout: Dropout rate.\n",
    "        \"\"\"\n",
    "        super(DeepConvLSTM, self).__init__()\n",
    "        \n",
    "        # Convolutional layers\n",
    "        self.conv1 = nn.Conv1d(input_channels, conv_channels, kernel_size=9, stride=1, padding=2)\n",
    "        self.conv2 = nn.Conv1d(conv_channels, conv_channels, kernel_size=9, stride=1, padding=2)\n",
    "        self.bn1 = nn.BatchNorm1d(conv_channels)\n",
    "        self.bn2 = nn.BatchNorm1d(conv_channels)\n",
    "        self.relu = nn.LeakyReLU()\n",
    "        self.pool = nn.MaxPool1d(kernel_size=2, stride=2)\n",
    "        self.dropout = nn.Dropout(p=0.2)\n",
    "        # LSTM layers\n",
    "        self.lstm = nn.LSTM(input_size=conv_channels, \n",
    "                            hidden_size=lstm_hidden_size, \n",
    "                            num_layers=lstm_layers, \n",
    "                            batch_first=True, \n",
    "                            dropout=dropout)\n",
    "        \n",
    "        # Fully connected output layer\n",
    "        self.fc = nn.Linear(lstm_hidden_size, output_size)\n",
    "        #nn.init.xavier_uniform_(self.conv1.weight)\n",
    "        #nn.init.xavier_uniform_(self.conv2.weight)\n",
    "        nn.init.xavier_uniform_(self.fc.weight)\n",
    "\n",
    "        nn.init.kaiming_uniform_(self.conv1.weight, nonlinearity='leaky_relu')\n",
    "        nn.init.kaiming_uniform_(self.conv2.weight, nonlinearity='leaky_relu')\n",
    "    \n",
    "    def forward(self, x):\n",
    "        \"\"\"\n",
    "        Args:\n",
    "            x: Input tensor of shape (batch_size, time_steps, features).\n",
    "        \n",
    "        Returns:\n",
    "            Output tensor.\n",
    "        \"\"\"\n",
    "        # Input shape: (batch_size, time_steps, features)\n",
    "        # Permute to match Conv1d input: (batch_size, features, time_steps)\n",
    "        x = x.permute(0, 2, 1)\n",
    "        \n",
    "        # Pass through convolutional layers\n",
    "        x = self.bn1(self.relu(self.conv1(x)))\n",
    "        x = self.dropout(x)\n",
    "        x = self.pool(x)\n",
    "        x = self.bn2(self.relu(self.conv2(x)))\n",
    "        x = self.dropout(x)\n",
    "        x = self.pool(x)  # Shape: (batch_size, conv_channels, reduced_time_steps)\n",
    "        \n",
    "        # Permute back for LSTM: (batch_size, reduced_time_steps, conv_channels)\n",
    "        x = x.permute(0, 2, 1)\n",
    "        \n",
    "        # Pass through LSTM\n",
    "        x, (h_n, c_n) = self.lstm(x)\n",
    "        # Optionally return the LSTM embeddings\n",
    "        if return_lstm_output:\n",
    "            return x\n",
    "        \n",
    "        # Take the output of the last time step: (batch_size, lstm_hidden_size)\n",
    "        x = x[:, -1, :]\n",
    "        \n",
    "        # Pass through fully connected layer\n",
    "        x = self.fc(x)\n",
    "        \n",
    "        return x\n"
   ]
  },
  {
   "cell_type": "code",
   "execution_count": 6,
   "metadata": {},
   "outputs": [],
   "source": [
    "import torch\n",
    "from torch.utils.data import Dataset\n",
    "import pandas as pd\n",
    "import numpy as np\n",
    "\n",
    "class PatientAudioDatasetCSV(Dataset):\n",
    "    def __init__(self, dataframe, input_column, label_column=None, normalize=True):\n",
    "        \"\"\"\n",
    "        Args:\n",
    "            dataframe: DataFrame containing file paths and labels.\n",
    "            input_column: Column name containing paths to the CSV files.\n",
    "            label_column: Column name containing labels (if supervised learning).\n",
    "            normalize: Whether to normalize the data (0-1 scaling).\n",
    "        \"\"\"\n",
    "        self.dataframe = dataframe\n",
    "        self.input_column = input_column\n",
    "        self.label_column = label_column\n",
    "        self.normalize = normalize\n",
    "\n",
    "        # Compute normalization statistics (if enabled)\n",
    "        if self.normalize:\n",
    "            self.mean, self.std = self._compute_normalization_stats()\n",
    "    \n",
    "    def _compute_normalization_stats(self):\n",
    "        \"\"\"Compute mean and standard deviation across all data in the train split.\"\"\"\n",
    "        all_data = []\n",
    "        for path in self.dataframe[self.input_column]:\n",
    "            audio_data = np.load(path, allow_pickle=True)\n",
    "            all_data.append(audio_data)\n",
    "        all_data = np.concatenate(all_data, axis=0)\n",
    "        return all_data.mean(axis=0), all_data.std(axis=0)\n",
    "\n",
    "    def _normalize(self, data):\n",
    "        \"\"\"Normalize data using computed mean and std.\"\"\"\n",
    "        return (data - self.mean) / self.std\n",
    "\n",
    "    def __len__(self):\n",
    "        return len(self.dataframe)\n",
    "\n",
    "    def __getitem__(self, idx):\n",
    "        row = self.dataframe.iloc[idx]\n",
    "        # Load audio data from CSV\n",
    "        audio_path = row[self.input_column]\n",
    "        audio_data = np.load(audio_path, allow_pickle=True).astype(np.float32)\n",
    "\n",
    "        # Normalize if required\n",
    "        if self.normalize:\n",
    "            audio_data = self._normalize(audio_data)\n",
    "\n",
    "        # Convert to tensor\n",
    "        audio_tensor = torch.tensor(audio_data)\n",
    "\n",
    "        # Load label if available\n",
    "        if self.label_column:\n",
    "            label = torch.tensor(row[self.label_column], dtype=torch.float32)\n",
    "            return audio_tensor, label\n",
    "        else:\n",
    "            return audio_tensor\n"
   ]
  },
  {
   "attachments": {},
   "cell_type": "markdown",
   "metadata": {},
   "source": [
    "# 2D Text"
   ]
  },
  {
   "cell_type": "code",
   "execution_count": 7,
   "metadata": {},
   "outputs": [
    {
     "data": {
      "text/plain": [
       "(1214, 768)"
      ]
     },
     "execution_count": 7,
     "metadata": {},
     "output_type": "execute_result"
    }
   ],
   "source": [
    "fle = np.load(\"/home/hice1/mbibars3/scratch/vlm-debiasing/data/e-daic/untarred/301_P/301_AUDIO_ast9.npy\")\n",
    "fle.shape"
   ]
  },
  {
   "cell_type": "code",
   "execution_count": 8,
   "metadata": {},
   "outputs": [],
   "source": [
    "features_csv = pd.read_csv(\"/home/hice1/mbibars3/scratch/vlm-debiasing/data/e-daic/2d_audio_text_paths.csv\")"
   ]
  },
  {
   "cell_type": "code",
   "execution_count": 9,
   "metadata": {},
   "outputs": [
    {
     "data": {
      "text/html": [
       "<div>\n",
       "<style scoped>\n",
       "    .dataframe tbody tr th:only-of-type {\n",
       "        vertical-align: middle;\n",
       "    }\n",
       "\n",
       "    .dataframe tbody tr th {\n",
       "        vertical-align: top;\n",
       "    }\n",
       "\n",
       "    .dataframe thead th {\n",
       "        text-align: right;\n",
       "    }\n",
       "</style>\n",
       "<table border=\"1\" class=\"dataframe\">\n",
       "  <thead>\n",
       "    <tr style=\"text-align: right;\">\n",
       "      <th></th>\n",
       "      <th>split</th>\n",
       "      <th>PTSD_severity</th>\n",
       "      <th>PTSD_label</th>\n",
       "      <th>gender</th>\n",
       "      <th>audio</th>\n",
       "      <th>text</th>\n",
       "    </tr>\n",
       "  </thead>\n",
       "  <tbody>\n",
       "    <tr>\n",
       "      <th>0</th>\n",
       "      <td>train</td>\n",
       "      <td>22.0</td>\n",
       "      <td>0</td>\n",
       "      <td>female</td>\n",
       "      <td>/home/hice1/mbibars3/scratch/vlm-debiasing/dat...</td>\n",
       "      <td>/home/hice1/mbibars3/scratch/vlm-debiasing/dat...</td>\n",
       "    </tr>\n",
       "    <tr>\n",
       "      <th>1</th>\n",
       "      <td>test</td>\n",
       "      <td>23.0</td>\n",
       "      <td>0</td>\n",
       "      <td>male</td>\n",
       "      <td>/home/hice1/mbibars3/scratch/vlm-debiasing/dat...</td>\n",
       "      <td>/home/hice1/mbibars3/scratch/vlm-debiasing/dat...</td>\n",
       "    </tr>\n",
       "    <tr>\n",
       "      <th>2</th>\n",
       "      <td>train</td>\n",
       "      <td>19.0</td>\n",
       "      <td>0</td>\n",
       "      <td>male</td>\n",
       "      <td>/home/hice1/mbibars3/scratch/vlm-debiasing/dat...</td>\n",
       "      <td>/home/hice1/mbibars3/scratch/vlm-debiasing/dat...</td>\n",
       "    </tr>\n",
       "    <tr>\n",
       "      <th>3</th>\n",
       "      <td>train</td>\n",
       "      <td>67.0</td>\n",
       "      <td>1</td>\n",
       "      <td>female</td>\n",
       "      <td>/home/hice1/mbibars3/scratch/vlm-debiasing/dat...</td>\n",
       "      <td>/home/hice1/mbibars3/scratch/vlm-debiasing/dat...</td>\n",
       "    </tr>\n",
       "    <tr>\n",
       "      <th>4</th>\n",
       "      <td>dev</td>\n",
       "      <td>39.0</td>\n",
       "      <td>0</td>\n",
       "      <td>male</td>\n",
       "      <td>/home/hice1/mbibars3/scratch/vlm-debiasing/dat...</td>\n",
       "      <td>/home/hice1/mbibars3/scratch/vlm-debiasing/dat...</td>\n",
       "    </tr>\n",
       "  </tbody>\n",
       "</table>\n",
       "</div>"
      ],
      "text/plain": [
       "   split  PTSD_severity  PTSD_label  gender  \\\n",
       "0  train           22.0           0  female   \n",
       "1   test           23.0           0    male   \n",
       "2  train           19.0           0    male   \n",
       "3  train           67.0           1  female   \n",
       "4    dev           39.0           0    male   \n",
       "\n",
       "                                               audio  \\\n",
       "0  /home/hice1/mbibars3/scratch/vlm-debiasing/dat...   \n",
       "1  /home/hice1/mbibars3/scratch/vlm-debiasing/dat...   \n",
       "2  /home/hice1/mbibars3/scratch/vlm-debiasing/dat...   \n",
       "3  /home/hice1/mbibars3/scratch/vlm-debiasing/dat...   \n",
       "4  /home/hice1/mbibars3/scratch/vlm-debiasing/dat...   \n",
       "\n",
       "                                                text  \n",
       "0  /home/hice1/mbibars3/scratch/vlm-debiasing/dat...  \n",
       "1  /home/hice1/mbibars3/scratch/vlm-debiasing/dat...  \n",
       "2  /home/hice1/mbibars3/scratch/vlm-debiasing/dat...  \n",
       "3  /home/hice1/mbibars3/scratch/vlm-debiasing/dat...  \n",
       "4  /home/hice1/mbibars3/scratch/vlm-debiasing/dat...  "
      ]
     },
     "execution_count": 9,
     "metadata": {},
     "output_type": "execute_result"
    }
   ],
   "source": [
    "features_csv.head()"
   ]
  },
  {
   "cell_type": "code",
   "execution_count": 10,
   "metadata": {},
   "outputs": [],
   "source": [
    "input_column = 'text'\n",
    "label_column = 'PTSD_label'\n",
    "\n",
    "train_dataset = PatientAudioDatasetCSV(features_csv[features_csv[\"split\"]==\"train\"], input_column=input_column, label_column=label_column, normalize=True)\n",
    "dev_dataset = PatientAudioDatasetCSV(features_csv[features_csv[\"split\"]==\"dev\"], input_column=input_column, label_column=label_column, normalize=True)\n"
   ]
  },
  {
   "cell_type": "code",
   "execution_count": 11,
   "metadata": {},
   "outputs": [
    {
     "name": "stdout",
     "output_type": "stream",
     "text": [
      "Data Shape: torch.Size([10, 768, 80]), Labels Shape: torch.Size([10])\n",
      "Data Shape: torch.Size([10, 768, 80]), Labels Shape: torch.Size([10])\n"
     ]
    }
   ],
   "source": [
    "from torch.utils.data import DataLoader\n",
    "\n",
    "batch_size = 10\n",
    "train_dataloader = DataLoader(train_dataset, batch_size=batch_size, shuffle=False)\n",
    "dev_dataloader = DataLoader(dev_dataset, batch_size=batch_size, shuffle=False)\n",
    "\n",
    "i = 0\n",
    "for batch_data, batch_labels in train_dataloader:\n",
    "    print(f\"Data Shape: {batch_data.shape}, Labels Shape: {batch_labels.shape}\")\n",
    "    i+=1\n",
    "    if i == 2:\n",
    "        break\n",
    "\n"
   ]
  },
  {
   "attachments": {},
   "cell_type": "markdown",
   "metadata": {},
   "source": [
    "### w bn"
   ]
  },
  {
   "cell_type": "code",
   "execution_count": 308,
   "metadata": {},
   "outputs": [],
   "source": [
    "input_channels = 80  # Number of input features per time step\n",
    "conv_channels = 64   # Number of convolutional filters\n",
    "lstm_hidden_size = 128  # LSTM hidden size\n",
    "lstm_layers = 2      # Number of LSTM layers\n",
    "output_size = 1     # Number of classes for classification (or 1 for regression)\n",
    "\n",
    "model = DeepConvLSTM(input_channels, conv_channels, lstm_hidden_size, lstm_layers, output_size)\n"
   ]
  },
  {
   "cell_type": "code",
   "execution_count": 309,
   "metadata": {},
   "outputs": [
    {
     "data": {
      "text/plain": [
       "314881"
      ]
     },
     "execution_count": 309,
     "metadata": {},
     "output_type": "execute_result"
    }
   ],
   "source": [
    "sum(p.numel() for p in model.parameters() if p.requires_grad)"
   ]
  },
  {
   "cell_type": "code",
   "execution_count": 310,
   "metadata": {},
   "outputs": [],
   "source": [
    "learning_rate = 0.001\n",
    "num_epochs = 50\n",
    "optimizer = optim.AdamW(model.parameters(), lr=learning_rate)"
   ]
  },
  {
   "cell_type": "code",
   "execution_count": 311,
   "metadata": {},
   "outputs": [],
   "source": [
    "labels_torch = torch.from_numpy(features_csv[features_csv[\"split\"]==\"train\"][\"PTSD_label\"].values)"
   ]
  },
  {
   "cell_type": "markdown",
   "metadata": {},
   "source": [
    "For example, if a dataset contains 100 positive and 300 negative examples of a single class, then pos_weight for the class should be equal to 300/100=3. The loss would act as if the dataset contains 3×100=300 positive examples."
   ]
  },
  {
   "cell_type": "code",
   "execution_count": 312,
   "metadata": {},
   "outputs": [
    {
     "name": "stdout",
     "output_type": "stream",
     "text": [
      "tensor([114,  49])\n",
      "tensor(2.3265)\n"
     ]
    }
   ],
   "source": [
    "# Calculate class weights\n",
    "class_counts = torch.bincount(labels_torch)  # Get counts for each class\n",
    "print(class_counts)\n",
    "class_weight = class_counts[0] / class_counts[1]\n",
    "print(class_weight)\n",
    "# Apply weights to loss function\n",
    "criterion = nn.BCEWithLogitsLoss(pos_weight=class_weight)  # Weight for positive class\n"
   ]
  },
  {
   "cell_type": "code",
   "execution_count": 313,
   "metadata": {},
   "outputs": [
    {
     "name": "stdout",
     "output_type": "stream",
     "text": [
      "best dev f1  0 :  0.1413894324853229\n",
      "Epoch [1/50], Train Loss: 0.9658, Val Loss: 0.9741, Train F1: 0.5487, Val F1: 0.1414\n",
      "Epoch [2/50], Train Loss: 0.9612, Val Loss: 0.9738, Train F1: 0.5534, Val F1: 0.1414\n",
      "best dev f1  2 :  0.5718045112781954\n",
      "Epoch [3/50], Train Loss: 0.9602, Val Loss: 0.9741, Train F1: 0.6140, Val F1: 0.5718\n",
      "Epoch [4/50], Train Loss: 0.9619, Val Loss: 0.9737, Train F1: 0.5836, Val F1: 0.5718\n",
      "Epoch [5/50], Train Loss: 0.9607, Val Loss: 0.9737, Train F1: 0.5757, Val F1: 0.5718\n",
      "Epoch [6/50], Train Loss: 0.9619, Val Loss: 0.9738, Train F1: 0.5784, Val F1: 0.5718\n",
      "Epoch [7/50], Train Loss: 0.9593, Val Loss: 0.9738, Train F1: 0.6169, Val F1: 0.5541\n",
      "best dev f1  7 :  0.5856622280672914\n",
      "Epoch [8/50], Train Loss: 0.9589, Val Loss: 0.9737, Train F1: 0.5784, Val F1: 0.5857\n",
      "Epoch [9/50], Train Loss: 0.9413, Val Loss: 1.0035, Train F1: 0.6667, Val F1: 0.5718\n",
      "Epoch [10/50], Train Loss: 0.9526, Val Loss: 0.9986, Train F1: 0.5736, Val F1: 0.1414\n",
      "best dev f1  10 :  0.6116176967240797\n",
      "Epoch [11/50], Train Loss: 0.8495, Val Loss: 1.1641, Train F1: 0.6752, Val F1: 0.6116\n",
      "Epoch [12/50], Train Loss: 0.7246, Val Loss: 1.1365, Train F1: 0.8058, Val F1: 0.3357\n",
      "Epoch [13/50], Train Loss: 0.6484, Val Loss: 1.1829, Train F1: 0.7343, Val F1: 0.2958\n",
      "best dev f1  13 :  0.6172017882544198\n",
      "Epoch [14/50], Train Loss: 0.6206, Val Loss: 1.1480, Train F1: 0.7920, Val F1: 0.6172\n",
      "Epoch [15/50], Train Loss: 0.5426, Val Loss: 1.2923, Train F1: 0.8373, Val F1: 0.6055\n",
      "Epoch [16/50], Train Loss: 0.5651, Val Loss: 1.3723, Train F1: 0.8083, Val F1: 0.6045\n",
      "Epoch [17/50], Train Loss: 0.4998, Val Loss: 1.6045, Train F1: 0.8338, Val F1: 0.5905\n",
      "Epoch [18/50], Train Loss: 0.4884, Val Loss: 1.4847, Train F1: 0.8562, Val F1: 0.6116\n",
      "Epoch [19/50], Train Loss: 0.6064, Val Loss: 1.8610, Train F1: 0.8083, Val F1: 0.2499\n",
      "Epoch [20/50], Train Loss: 0.5203, Val Loss: 1.2627, Train F1: 0.8442, Val F1: 0.3836\n",
      "Epoch [21/50], Train Loss: 0.3722, Val Loss: 1.6821, Train F1: 0.8744, Val F1: 0.6040\n",
      "Epoch [22/50], Train Loss: 0.2379, Val Loss: 2.9965, Train F1: 0.9512, Val F1: 0.1214\n",
      "Epoch [23/50], Train Loss: 0.3961, Val Loss: 1.6721, Train F1: 0.8806, Val F1: 0.6172\n",
      "Epoch [24/50], Train Loss: 0.1605, Val Loss: 2.6429, Train F1: 0.9694, Val F1: 0.2847\n",
      "Epoch [25/50], Train Loss: 0.2409, Val Loss: 2.2558, Train F1: 0.9334, Val F1: 0.1556\n",
      "best dev f1  25 :  0.6577209710121102\n",
      "Epoch [26/50], Train Loss: 0.2315, Val Loss: 2.2027, Train F1: 0.9275, Val F1: 0.6577\n",
      "Epoch [27/50], Train Loss: 0.2564, Val Loss: 1.9378, Train F1: 0.9278, Val F1: 0.6481\n",
      "Epoch [28/50], Train Loss: 0.2477, Val Loss: 2.2596, Train F1: 0.9514, Val F1: 0.4501\n",
      "Epoch [29/50], Train Loss: 0.2367, Val Loss: 2.8255, Train F1: 0.9154, Val F1: 0.2104\n",
      "Epoch [30/50], Train Loss: 0.3114, Val Loss: 1.9548, Train F1: 0.9033, Val F1: 0.5363\n",
      "Epoch [31/50], Train Loss: 0.1730, Val Loss: 2.5781, Train F1: 0.9455, Val F1: 0.4711\n",
      "Epoch [32/50], Train Loss: 0.3506, Val Loss: 1.7249, Train F1: 0.8979, Val F1: 0.2499\n",
      "best dev f1  32 :  0.6873613244580986\n",
      "Epoch [33/50], Train Loss: 0.4260, Val Loss: 2.2944, Train F1: 0.8403, Val F1: 0.6874\n",
      "Epoch [34/50], Train Loss: 0.3418, Val Loss: 1.5633, Train F1: 0.8463, Val F1: 0.4308\n",
      "Epoch [35/50], Train Loss: 0.1959, Val Loss: 2.1539, Train F1: 0.9634, Val F1: 0.6794\n",
      "Epoch [36/50], Train Loss: 0.1135, Val Loss: 2.3593, Train F1: 0.9757, Val F1: 0.6794\n",
      "Epoch [37/50], Train Loss: 0.0763, Val Loss: 2.6061, Train F1: 0.9817, Val F1: 0.6429\n",
      "best dev f1  37 :  0.7022067363530778\n",
      "Epoch [38/50], Train Loss: 0.1160, Val Loss: 2.9521, Train F1: 0.9696, Val F1: 0.7022\n",
      "Epoch [39/50], Train Loss: 0.0458, Val Loss: 3.1981, Train F1: 0.9878, Val F1: 0.6725\n",
      "Epoch [40/50], Train Loss: 0.0902, Val Loss: 3.1058, Train F1: 0.9696, Val F1: 0.6506\n",
      "Epoch [41/50], Train Loss: 0.0637, Val Loss: 2.9594, Train F1: 0.9877, Val F1: 0.6071\n",
      "Epoch [42/50], Train Loss: 0.0262, Val Loss: 3.1658, Train F1: 0.9939, Val F1: 0.6725\n",
      "Epoch [43/50], Train Loss: 0.0035, Val Loss: 3.3323, Train F1: 1.0000, Val F1: 0.6874\n",
      "Epoch [44/50], Train Loss: 0.0356, Val Loss: 3.4600, Train F1: 0.9877, Val F1: 0.6429\n",
      "Epoch [45/50], Train Loss: 0.0237, Val Loss: 4.0809, Train F1: 0.9878, Val F1: 0.6556\n",
      "Epoch [46/50], Train Loss: 0.1011, Val Loss: 2.6504, Train F1: 0.9692, Val F1: 0.6362\n",
      "Epoch [47/50], Train Loss: 0.0813, Val Loss: 2.8601, Train F1: 0.9756, Val F1: 0.6506\n",
      "Epoch [48/50], Train Loss: 0.0373, Val Loss: 3.6694, Train F1: 0.9877, Val F1: 0.6045\n",
      "Epoch [49/50], Train Loss: 0.1467, Val Loss: 2.8862, Train F1: 0.9634, Val F1: 0.6874\n",
      "Epoch [50/50], Train Loss: 0.0607, Val Loss: 3.1596, Train F1: 0.9878, Val F1: 0.6836\n"
     ]
    }
   ],
   "source": [
    "from sklearn.metrics import f1_score\n",
    "# Define variables to track losses\n",
    "train_losses = []\n",
    "val_losses = []\n",
    "best_dev_f1 = float('-inf')  # Initialize best validation loss\n",
    "\n",
    "# Training loop\n",
    "for epoch in range(num_epochs):\n",
    "    model.train()\n",
    "\n",
    "    running_train_loss = 0.0\n",
    "    all_train_labels = []\n",
    "    all_train_preds = []\n",
    "    all_dev_labels = []\n",
    "    all_dev_preds = []\n",
    "\n",
    "    for batch in train_dataloader:\n",
    "        _btch, labels = batch\n",
    "        optimizer.zero_grad()\n",
    "        inputs = _btch\n",
    "        output = model(inputs)\n",
    "        \"\"\"\n",
    "        print(inputs.shape)\n",
    "        print(output.shape)\n",
    "        print(labels.shape)\n",
    "        \"\"\"\n",
    "        labels = labels.view(output.shape)\n",
    "        loss = criterion(output, labels)\n",
    "        loss.backward()\n",
    "        optimizer.step()\n",
    "        \n",
    "        # Accumulate loss\n",
    "        running_train_loss += loss.item()\n",
    "        # Convert logits to predictions\n",
    "        preds = (torch.sigmoid(output) > 0.5).int()\n",
    "        #print(np.unique(preds.detach().numpy()))\n",
    "        all_train_labels.extend(labels.cpu().numpy().flatten())\n",
    "        all_train_preds.extend(preds.cpu().numpy().flatten())\n",
    "\n",
    "    # Average training loss for the epoch\n",
    "    train_loss = running_train_loss / len(train_dataloader)\n",
    "    train_losses.append(train_loss)\n",
    "\n",
    "    # Validation Phase\n",
    "    model.eval()  # Set model to evaluation mode\n",
    "    running_val_loss = 0.0\n",
    "\n",
    "    with torch.no_grad():  # Disable gradient computation\n",
    "        for batch in dev_dataloader:  # Use validation DataLoader\n",
    "            _btch, labels = batch\n",
    "\n",
    "            # Forward pass\n",
    "            inputs = _btch\n",
    "            output = model(inputs)\n",
    "\n",
    "            # Reshape labels to match the output shape if necessary\n",
    "            labels = labels.view(output.shape)\n",
    "\n",
    "            # Compute loss\n",
    "            loss = criterion(output, labels)\n",
    "            #loss = torch.sqrt(loss)\n",
    "\n",
    "            running_val_loss += loss.item()\n",
    "            preds = (torch.sigmoid(output) > 0.5).int()\n",
    "            all_dev_labels.extend(labels.cpu().numpy().flatten())\n",
    "            all_dev_preds.extend(preds.cpu().numpy().flatten())\n",
    "\n",
    "    # Average validation loss for the epoch\n",
    "    val_loss = running_val_loss / len(dev_dataloader)\n",
    "    val_losses.append(val_loss)\n",
    "\n",
    "    # Compute F1-score for training\n",
    "    train_f1 = f1_score(all_train_labels, all_train_preds, average='weighted')\n",
    "    dev_f1 = f1_score(all_dev_labels, all_dev_preds, average='weighted')\n",
    "    # Check if this is the best model\n",
    "    if dev_f1 > best_dev_f1:\n",
    "        best_dev_f1 = dev_f1\n",
    "        print(\"best dev f1 \", epoch, \": \", best_dev_f1)\n",
    "        torch.save(model.state_dict(), \"best_text_model.pth\")  # Save best model\n",
    "\n",
    "    # Print epoch summary\n",
    "    print(f\"Epoch [{epoch+1}/{num_epochs}], Train Loss: {train_loss:.4f}, Val Loss: {val_loss:.4f}, Train F1: {train_f1:.4f}, Val F1: {dev_f1:.4f}\")\n"
   ]
  },
  {
   "cell_type": "code",
   "execution_count": 314,
   "metadata": {},
   "outputs": [
    {
     "data": {
      "text/plain": [
       "<All keys matched successfully>"
      ]
     },
     "execution_count": 314,
     "metadata": {},
     "output_type": "execute_result"
    }
   ],
   "source": [
    "model.load_state_dict(torch.load(\"best_text_model.pth\", weights_only=True))"
   ]
  },
  {
   "cell_type": "code",
   "execution_count": 315,
   "metadata": {},
   "outputs": [
    {
     "name": "stdout",
     "output_type": "stream",
     "text": [
      "Predictions:\n",
      "[0 1]\n",
      "Labels:\n",
      "[0. 1.]\n",
      "0.7022067363530778\n"
     ]
    }
   ],
   "source": [
    "# Model prediction\n",
    "model.eval()  # Set model to evaluation mode\n",
    "lab = []\n",
    "predictions = []\n",
    "with torch.no_grad():  # Disable gradient computation\n",
    "    for batch in dev_dataloader:\n",
    "        _data, labels = batch\n",
    "        output = model(_data)  # Model's prediction\n",
    "        \n",
    "        predicts = torch.sigmoid(output)  # Apply sigmoid activation\n",
    "        predicted_classes = (predicts > 0.5).int()  # Convert probabilities to binary predictions\n",
    "        #print(f\"Predicted Probabilities:\\n{predictions}\")\n",
    "        #print(f\"Predicted Classes:\\n{predicted_classes}\")\n",
    "        # Collect predictions\n",
    "        #predictions.append(output)\n",
    "        predictions.append(predicted_classes)\n",
    "        lab.append(labels)\n",
    "\n",
    "# Combine predictions into a single tensor\n",
    "#predictions = torch.cat(predicted_classes, dim=0)\n",
    "#y_pred = np.array(predictions)\n",
    "out = np.concatenate(predictions).ravel()\n",
    "labels = np.concatenate(lab).ravel()\n",
    "dev_f1 = f1_score(labels, out, average='weighted')\n",
    "print(f\"Predictions:\\n{np.unique(out)}\")\n",
    "print(f\"Labels:\\n{np.unique(labels)}\")\n",
    "print(dev_f1)"
   ]
  },
  {
   "cell_type": "code",
   "execution_count": 316,
   "metadata": {},
   "outputs": [
    {
     "name": "stdout",
     "output_type": "stream",
     "text": [
      "Predictions:\n",
      "[0 1]\n",
      "Labels:\n",
      "[0. 1.]\n",
      "1.0\n"
     ]
    }
   ],
   "source": [
    "# Model prediction\n",
    "model.eval()  # Set model to evaluation mode\n",
    "lab = []\n",
    "predictions = []\n",
    "with torch.no_grad():  # Disable gradient computation\n",
    "    for batch in train_dataloader:\n",
    "        _data, labels = batch\n",
    "        output = model(_data)  # Model's prediction\n",
    "        \n",
    "        predicts = torch.sigmoid(output)  # Apply sigmoid activation\n",
    "        predicted_classes = (predicts > 0.5).int()  # Convert probabilities to binary predictions\n",
    "        #print(f\"Predicted Probabilities:\\n{predictions}\")\n",
    "        #print(f\"Predicted Classes:\\n{predicted_classes}\")\n",
    "        # Collect predictions\n",
    "        #predictions.append(output)\n",
    "        predictions.append(predicted_classes)\n",
    "        lab.append(labels)\n",
    "\n",
    "# Combine predictions into a single tensor\n",
    "#predictions = torch.cat(predicted_classes, dim=0)\n",
    "#y_pred = np.array(predictions)\n",
    "out_train = np.concatenate(predictions).ravel()\n",
    "labels = np.concatenate(lab).ravel()\n",
    "dev_f1 = f1_score(labels, out_train, average='weighted')\n",
    "print(f\"Predictions:\\n{np.unique(out)}\")\n",
    "print(f\"Labels:\\n{np.unique(labels)}\")\n",
    "print(dev_f1)"
   ]
  },
  {
   "cell_type": "code",
   "execution_count": 317,
   "metadata": {},
   "outputs": [
    {
     "data": {
      "image/png": "[encoded data removed]",
      "text/plain": [
       "<Figure size 800x600 with 1 Axes>"
      ]
     },
     "metadata": {},
     "output_type": "display_data"
    }
   ],
   "source": [
    "# Plot training and validation losses\n",
    "plt.figure(figsize=(8, 6))\n",
    "plt.plot(train_losses, label=\"Training Loss\")\n",
    "plt.plot(val_losses, label=\"Validation Loss\")\n",
    "plt.xlabel(\"Epoch\")\n",
    "plt.ylabel(\"Loss\")\n",
    "plt.title(\"Training and Validation Loss\")\n",
    "plt.legend()\n",
    "plt.savefig(\"loss_plot.png\")  # Save the plot\n",
    "plt.show()"
   ]
  },
  {
   "cell_type": "code",
   "execution_count": 318,
   "metadata": {},
   "outputs": [],
   "source": [
    "y_pred= out"
   ]
  },
  {
   "cell_type": "code",
   "execution_count": 319,
   "metadata": {},
   "outputs": [],
   "source": [
    "y_test = np.array(features_csv[features_csv[\"split\"]==\"dev\"][\"PTSD_label\"].values)"
   ]
  },
  {
   "cell_type": "code",
   "execution_count": 320,
   "metadata": {},
   "outputs": [
    {
     "data": {
      "text/plain": [
       "array(['female', 'male', 'unknown'], dtype=object)"
      ]
     },
     "execution_count": 320,
     "metadata": {},
     "output_type": "execute_result"
    }
   ],
   "source": [
    "np.unique(features_csv['gender'])"
   ]
  },
  {
   "cell_type": "code",
   "execution_count": 321,
   "metadata": {},
   "outputs": [],
   "source": [
    "features_csv['col_encoded'] = features_csv['gender'].map({'female': 0, 'male': 1, 'unknown':1})"
   ]
  },
  {
   "cell_type": "code",
   "execution_count": 322,
   "metadata": {},
   "outputs": [
    {
     "data": {
      "text/plain": [
       "array([0, 1])"
      ]
     },
     "execution_count": 322,
     "metadata": {},
     "output_type": "execute_result"
    }
   ],
   "source": [
    "np.unique(features_csv['col_encoded'])"
   ]
  },
  {
   "cell_type": "code",
   "execution_count": 323,
   "metadata": {},
   "outputs": [
    {
     "name": "stdout",
     "output_type": "stream",
     "text": [
      "Shape of gender_test: (56,)\n",
      "Shape of y_test: (56,)\n",
      "Shape of y_pred: (56,)\n"
     ]
    }
   ],
   "source": [
    "from fairlearn.metrics import demographic_parity_difference\n",
    "\n",
    "# Assuming `gender` corresponds to the original metadata\n",
    "# Split the dataset into training and testing sets for `gender`\n",
    "gender_train, gender_test = features_csv[features_csv[\"split\"]==\"dev\"][\"col_encoded\"], features_csv[features_csv[\"split\"]==\"dev\"][\"col_encoded\"]\n",
    "\n",
    "# Ensure that `gender_test`, `y_test`, and `y_pred` are aligned\n",
    "print(f\"Shape of gender_test: {gender_train.shape}\")\n",
    "print(f\"Shape of y_test: {y_test.shape}\")\n",
    "print(f\"Shape of y_pred: {y_pred.shape}\")\n",
    "\n"
   ]
  },
  {
   "cell_type": "code",
   "execution_count": 324,
   "metadata": {},
   "outputs": [
    {
     "name": "stdout",
     "output_type": "stream",
     "text": [
      "Demographic Parity Difference: 0.10555555555555554\n"
     ]
    }
   ],
   "source": [
    "# Calculate Demographic Parity Difference\n",
    "demographic_parity = demographic_parity_difference(\n",
    "    y_true=y_test,\n",
    "    y_pred=y_pred,\n",
    "    sensitive_features=gender_train\n",
    ")\n",
    "\n",
    "print(f\"Demographic Parity Difference: {demographic_parity}\")"
   ]
  },
  {
   "cell_type": "code",
   "execution_count": 325,
   "metadata": {},
   "outputs": [
    {
     "name": "stdout",
     "output_type": "stream",
     "text": [
      "Selection Rates by Group:\n",
      "col_encoded\n",
      "0    0.300000\n",
      "1    0.194444\n",
      "Name: selection_rate, dtype: float64\n"
     ]
    }
   ],
   "source": [
    "from fairlearn.metrics import MetricFrame, selection_rate\n",
    "metric_frame = MetricFrame(metrics=selection_rate, \n",
    "                           y_true=y_test, \n",
    "                           y_pred=y_pred, \n",
    "                           sensitive_features=gender_train)\n",
    "\n",
    "# Get selection rates for each group\n",
    "selection_rates = metric_frame.by_group\n",
    "print(\"Selection Rates by Group:\")\n",
    "print(selection_rates)\n"
   ]
  },
  {
   "cell_type": "code",
   "execution_count": 326,
   "metadata": {},
   "outputs": [
    {
     "name": "stdout",
     "output_type": "stream",
     "text": [
      "Demographic Parity Ratio: 0.6481481481481481\n"
     ]
    }
   ],
   "source": [
    "group_a_rate = selection_rates[1]\n",
    "group_b_rate = selection_rates[0]\n",
    "\n",
    "if group_b_rate > 0:  # Avoid division by zero\n",
    "    demographic_parity_ratio = group_a_rate / group_b_rate\n",
    "    print(f\"Demographic Parity Ratio: {demographic_parity_ratio}\")\n",
    "    if demographic_parity_ratio>1:\n",
    "        print(1/demographic_parity_ratio)"
   ]
  },
  {
   "attachments": {},
   "cell_type": "markdown",
   "metadata": {},
   "source": [
    "### w/o bn"
   ]
  },
  {
   "cell_type": "code",
   "execution_count": 221,
   "metadata": {},
   "outputs": [],
   "source": [
    "input_channels = 80  # Number of input features per time step\n",
    "conv_channels = 64   # Number of convolutional filters\n",
    "lstm_hidden_size = 128  # LSTM hidden size\n",
    "lstm_layers = 2      # Number of LSTM layers\n",
    "output_size = 1     # Number of classes for classification (or 1 for regression)\n",
    "\n",
    "model = DeepConvLSTM(input_channels, conv_channels, lstm_hidden_size, lstm_layers, output_size)\n"
   ]
  },
  {
   "cell_type": "code",
   "execution_count": 222,
   "metadata": {},
   "outputs": [
    {
     "data": {
      "text/plain": [
       "314881"
      ]
     },
     "execution_count": 222,
     "metadata": {},
     "output_type": "execute_result"
    }
   ],
   "source": [
    "sum(p.numel() for p in model.parameters() if p.requires_grad)"
   ]
  },
  {
   "cell_type": "code",
   "execution_count": 223,
   "metadata": {},
   "outputs": [],
   "source": [
    "learning_rate = 0.001\n",
    "num_epochs = 50\n",
    "optimizer = optim.Adam(model.parameters(), lr=learning_rate)"
   ]
  },
  {
   "cell_type": "code",
   "execution_count": 224,
   "metadata": {},
   "outputs": [],
   "source": [
    "labels_torch = torch.from_numpy(features_csv[features_csv[\"split\"]==\"train\"][\"PTSD_label\"].values)"
   ]
  },
  {
   "attachments": {},
   "cell_type": "markdown",
   "metadata": {},
   "source": [
    "For example, if a dataset contains 100 positive and 300 negative examples of a single class, then pos_weight for the class should be equal to 300/100=3. The loss would act as if the dataset contains 3×100=300 positive examples."
   ]
  },
  {
   "cell_type": "code",
   "execution_count": 225,
   "metadata": {},
   "outputs": [
    {
     "name": "stdout",
     "output_type": "stream",
     "text": [
      "tensor([114,  49])\n",
      "tensor(2.3265)\n"
     ]
    }
   ],
   "source": [
    "# Calculate class weights\n",
    "class_counts = torch.bincount(labels_torch)  # Get counts for each class\n",
    "print(class_counts)\n",
    "class_weight = class_counts[0] / class_counts[1]\n",
    "print(class_weight)\n",
    "# Apply weights to loss function\n",
    "criterion = nn.BCEWithLogitsLoss(pos_weight=class_weight)  # Weight for positive class\n"
   ]
  },
  {
   "cell_type": "code",
   "execution_count": 226,
   "metadata": {},
   "outputs": [
    {
     "name": "stdout",
     "output_type": "stream",
     "text": [
      "best dev f1  0 :  0.5718045112781954\n",
      "Epoch [1/50], Train Loss: 0.9603, Val Loss: 0.9751, Train F1: 0.5757, Val F1: 0.5718\n",
      "Epoch [2/50], Train Loss: 0.9584, Val Loss: 0.9748, Train F1: 0.5757, Val F1: 0.5718\n",
      "Epoch [3/50], Train Loss: 0.9583, Val Loss: 0.9747, Train F1: 0.5757, Val F1: 0.5718\n",
      "Epoch [4/50], Train Loss: 0.9583, Val Loss: 0.9748, Train F1: 0.5757, Val F1: 0.5718\n",
      "Epoch [5/50], Train Loss: 0.9578, Val Loss: 0.9749, Train F1: 0.5757, Val F1: 0.5718\n",
      "Epoch [6/50], Train Loss: 0.9579, Val Loss: 0.9750, Train F1: 0.5757, Val F1: 0.5718\n",
      "Epoch [7/50], Train Loss: 0.9575, Val Loss: 0.9751, Train F1: 0.5757, Val F1: 0.5718\n",
      "Epoch [8/50], Train Loss: 0.9584, Val Loss: 0.9749, Train F1: 0.5757, Val F1: 0.5718\n",
      "Epoch [9/50], Train Loss: 0.9592, Val Loss: 0.9752, Train F1: 0.5757, Val F1: 0.5718\n",
      "Epoch [10/50], Train Loss: 0.9576, Val Loss: 0.9753, Train F1: 0.5757, Val F1: 0.5718\n",
      "Epoch [11/50], Train Loss: 0.9573, Val Loss: 0.9754, Train F1: 0.5757, Val F1: 0.5718\n",
      "Epoch [12/50], Train Loss: 0.9575, Val Loss: 0.9752, Train F1: 0.5757, Val F1: 0.5718\n",
      "Epoch [13/50], Train Loss: 0.9599, Val Loss: 0.9749, Train F1: 0.5898, Val F1: 0.5718\n",
      "Epoch [14/50], Train Loss: 0.9579, Val Loss: 0.9746, Train F1: 0.5727, Val F1: 0.5718\n",
      "Epoch [15/50], Train Loss: 0.9547, Val Loss: 0.9752, Train F1: 0.5911, Val F1: 0.1414\n",
      "Epoch [16/50], Train Loss: 0.9349, Val Loss: 0.9827, Train F1: 0.6036, Val F1: 0.4664\n",
      "Epoch [17/50], Train Loss: 0.6320, Val Loss: 2.3204, Train F1: 0.8235, Val F1: 0.5718\n",
      "Epoch [18/50], Train Loss: 0.7537, Val Loss: 1.2784, Train F1: 0.7682, Val F1: 0.1414\n",
      "Epoch [19/50], Train Loss: 0.4886, Val Loss: 1.7612, Train F1: 0.8403, Val F1: 0.5585\n",
      "Epoch [20/50], Train Loss: 0.2683, Val Loss: 1.9989, Train F1: 0.9327, Val F1: 0.2499\n",
      "Epoch [21/50], Train Loss: 0.1421, Val Loss: 1.8619, Train F1: 0.9696, Val F1: 0.4333\n",
      "Epoch [22/50], Train Loss: 0.1317, Val Loss: 1.6590, Train F1: 0.9696, Val F1: 0.4494\n",
      "Epoch [23/50], Train Loss: 0.0432, Val Loss: 2.6385, Train F1: 1.0000, Val F1: 0.4332\n",
      "Epoch [24/50], Train Loss: 0.0749, Val Loss: 2.9863, Train F1: 0.9636, Val F1: 0.5512\n",
      "Epoch [25/50], Train Loss: 0.0096, Val Loss: 3.1912, Train F1: 1.0000, Val F1: 0.5585\n",
      "Epoch [26/50], Train Loss: 0.0387, Val Loss: 3.1425, Train F1: 0.9938, Val F1: 0.4215\n",
      "Epoch [27/50], Train Loss: 0.2274, Val Loss: 2.7096, Train F1: 0.9452, Val F1: 0.3600\n",
      "Epoch [28/50], Train Loss: 0.0398, Val Loss: 2.7812, Train F1: 0.9938, Val F1: 0.5357\n",
      "Epoch [29/50], Train Loss: 0.0559, Val Loss: 3.1355, Train F1: 0.9939, Val F1: 0.5476\n",
      "Epoch [30/50], Train Loss: 0.1923, Val Loss: 2.5131, Train F1: 0.9393, Val F1: 0.1349\n",
      "best dev f1  30 :  0.590527950310559\n",
      "Epoch [31/50], Train Loss: 0.0521, Val Loss: 3.8409, Train F1: 0.9757, Val F1: 0.5905\n",
      "Epoch [32/50], Train Loss: 0.0508, Val Loss: 5.0085, Train F1: 0.9816, Val F1: 0.5718\n",
      "Epoch [33/50], Train Loss: 0.0497, Val Loss: 4.7606, Train F1: 0.9877, Val F1: 0.5799\n",
      "Epoch [34/50], Train Loss: 0.0035, Val Loss: 5.4604, Train F1: 1.0000, Val F1: 0.5631\n",
      "Epoch [35/50], Train Loss: 0.0021, Val Loss: 5.1689, Train F1: 1.0000, Val F1: 0.5585\n",
      "Epoch [36/50], Train Loss: 0.0007, Val Loss: 5.1524, Train F1: 1.0000, Val F1: 0.5254\n",
      "Epoch [37/50], Train Loss: 0.0007, Val Loss: 5.1629, Train F1: 1.0000, Val F1: 0.5530\n",
      "Epoch [38/50], Train Loss: 0.0006, Val Loss: 5.1940, Train F1: 1.0000, Val F1: 0.5254\n",
      "Epoch [39/50], Train Loss: 0.0006, Val Loss: 5.2233, Train F1: 1.0000, Val F1: 0.5254\n",
      "Epoch [40/50], Train Loss: 0.0005, Val Loss: 5.2453, Train F1: 1.0000, Val F1: 0.5254\n",
      "Epoch [41/50], Train Loss: 0.0005, Val Loss: 5.2647, Train F1: 1.0000, Val F1: 0.5254\n",
      "Epoch [42/50], Train Loss: 0.0005, Val Loss: 5.2857, Train F1: 1.0000, Val F1: 0.5254\n",
      "Epoch [43/50], Train Loss: 0.0005, Val Loss: 5.3081, Train F1: 1.0000, Val F1: 0.5254\n",
      "Epoch [44/50], Train Loss: 0.0004, Val Loss: 5.3302, Train F1: 1.0000, Val F1: 0.5254\n",
      "Epoch [45/50], Train Loss: 0.0004, Val Loss: 5.3519, Train F1: 1.0000, Val F1: 0.5254\n",
      "Epoch [46/50], Train Loss: 0.0004, Val Loss: 5.3735, Train F1: 1.0000, Val F1: 0.5254\n",
      "Epoch [47/50], Train Loss: 0.0004, Val Loss: 5.3932, Train F1: 1.0000, Val F1: 0.5254\n",
      "Epoch [48/50], Train Loss: 0.0004, Val Loss: 5.4117, Train F1: 1.0000, Val F1: 0.5254\n",
      "Epoch [49/50], Train Loss: 0.0003, Val Loss: 5.4297, Train F1: 1.0000, Val F1: 0.5254\n",
      "Epoch [50/50], Train Loss: 0.0003, Val Loss: 5.4483, Train F1: 1.0000, Val F1: 0.5254\n"
     ]
    }
   ],
   "source": [
    "from sklearn.metrics import f1_score\n",
    "# Define variables to track losses\n",
    "train_losses = []\n",
    "val_losses = []\n",
    "best_dev_f1 = float('-inf')  # Initialize best validation loss\n",
    "\n",
    "# Training loop\n",
    "for epoch in range(num_epochs):\n",
    "    model.train()\n",
    "\n",
    "    running_train_loss = 0.0\n",
    "    all_train_labels = []\n",
    "    all_train_preds = []\n",
    "    all_dev_labels = []\n",
    "    all_dev_preds = []\n",
    "\n",
    "    for batch in train_dataloader:\n",
    "        _btch, labels = batch\n",
    "        optimizer.zero_grad()\n",
    "        inputs = _btch\n",
    "        output = model(inputs)\n",
    "        \"\"\"\n",
    "        print(inputs.shape)\n",
    "        print(output.shape)\n",
    "        print(labels.shape)\n",
    "        \"\"\"\n",
    "        labels = labels.view(output.shape)\n",
    "        loss = criterion(output, labels)\n",
    "        loss.backward()\n",
    "        optimizer.step()\n",
    "        \n",
    "        # Accumulate loss\n",
    "        running_train_loss += loss.item()\n",
    "        # Convert logits to predictions\n",
    "        preds = (torch.sigmoid(output) > 0.5).int()\n",
    "        #print(np.unique(preds.detach().numpy()))\n",
    "        all_train_labels.extend(labels.cpu().numpy().flatten())\n",
    "        all_train_preds.extend(preds.cpu().numpy().flatten())\n",
    "\n",
    "    # Average training loss for the epoch\n",
    "    train_loss = running_train_loss / len(train_dataloader)\n",
    "    train_losses.append(train_loss)\n",
    "\n",
    "    # Validation Phase\n",
    "    model.eval()  # Set model to evaluation mode\n",
    "    running_val_loss = 0.0\n",
    "\n",
    "    with torch.no_grad():  # Disable gradient computation\n",
    "        for batch in dev_dataloader:  # Use validation DataLoader\n",
    "            _btch, labels = batch\n",
    "\n",
    "            # Forward pass\n",
    "            inputs = _btch\n",
    "            output = model(inputs)\n",
    "\n",
    "            # Reshape labels to match the output shape if necessary\n",
    "            labels = labels.view(output.shape)\n",
    "\n",
    "            # Compute loss\n",
    "            loss = criterion(output, labels)\n",
    "            #loss = torch.sqrt(loss)\n",
    "\n",
    "            running_val_loss += loss.item()\n",
    "            preds = (torch.sigmoid(output) > 0.5).int()\n",
    "            all_dev_labels.extend(labels.cpu().numpy().flatten())\n",
    "            all_dev_preds.extend(preds.cpu().numpy().flatten())\n",
    "\n",
    "    # Average validation loss for the epoch\n",
    "    val_loss = running_val_loss / len(dev_dataloader)\n",
    "    val_losses.append(val_loss)\n",
    "\n",
    "    # Compute F1-score for training\n",
    "    train_f1 = f1_score(all_train_labels, all_train_preds, average='weighted')\n",
    "    dev_f1 = f1_score(all_dev_labels, all_dev_preds, average='weighted')\n",
    "    # Check if this is the best model\n",
    "    if dev_f1 > best_dev_f1:\n",
    "        best_dev_f1 = dev_f1\n",
    "        print(\"best dev f1 \", epoch, \": \", best_dev_f1)\n",
    "        torch.save(model.state_dict(), \"best_text_model.pth\")  # Save best model\n",
    "\n",
    "    # Print epoch summary\n",
    "    print(f\"Epoch [{epoch+1}/{num_epochs}], Train Loss: {train_loss:.4f}, Val Loss: {val_loss:.4f}, Train F1: {train_f1:.4f}, Val F1: {dev_f1:.4f}\")\n"
   ]
  },
  {
   "cell_type": "code",
   "execution_count": 227,
   "metadata": {},
   "outputs": [
    {
     "name": "stdout",
     "output_type": "stream",
     "text": [
      "Predictions:\n",
      "[0 1]\n",
      "Labels:\n",
      "[0. 1.]\n",
      "0.5254280603117812\n"
     ]
    }
   ],
   "source": [
    "# Model prediction\n",
    "model.eval()  # Set model to evaluation mode\n",
    "lab = []\n",
    "predictions = []\n",
    "with torch.no_grad():  # Disable gradient computation\n",
    "    for batch in dev_dataloader:\n",
    "        _data, labels = batch\n",
    "        output = model(_data)  # Model's prediction\n",
    "        \n",
    "        predicts = torch.sigmoid(output)  # Apply sigmoid activation\n",
    "        predicted_classes = (predicts > 0.5).int()  # Convert probabilities to binary predictions\n",
    "        #print(f\"Predicted Probabilities:\\n{predictions}\")\n",
    "        #print(f\"Predicted Classes:\\n{predicted_classes}\")\n",
    "        # Collect predictions\n",
    "        #predictions.append(output)\n",
    "        predictions.append(predicted_classes)\n",
    "        lab.append(labels)\n",
    "\n",
    "# Combine predictions into a single tensor\n",
    "#predictions = torch.cat(predicted_classes, dim=0)\n",
    "#y_pred = np.array(predictions)\n",
    "out = np.concatenate(predictions).ravel()\n",
    "labels = np.concatenate(lab).ravel()\n",
    "dev_f1 = f1_score(labels, out, average='weighted')\n",
    "print(f\"Predictions:\\n{np.unique(out)}\")\n",
    "print(f\"Labels:\\n{np.unique(labels)}\")\n",
    "print(dev_f1)"
   ]
  },
  {
   "cell_type": "code",
   "execution_count": 228,
   "metadata": {},
   "outputs": [
    {
     "name": "stdout",
     "output_type": "stream",
     "text": [
      "Predictions:\n",
      "[0 1]\n",
      "Labels:\n",
      "[0. 1.]\n",
      "1.0\n"
     ]
    }
   ],
   "source": [
    "# Model prediction\n",
    "model.eval()  # Set model to evaluation mode\n",
    "lab = []\n",
    "predictions = []\n",
    "with torch.no_grad():  # Disable gradient computation\n",
    "    for batch in train_dataloader:\n",
    "        _data, labels = batch\n",
    "        output = model(_data)  # Model's prediction\n",
    "        \n",
    "        predicts = torch.sigmoid(output)  # Apply sigmoid activation\n",
    "        predicted_classes = (predicts > 0.5).int()  # Convert probabilities to binary predictions\n",
    "        #print(f\"Predicted Probabilities:\\n{predictions}\")\n",
    "        #print(f\"Predicted Classes:\\n{predicted_classes}\")\n",
    "        # Collect predictions\n",
    "        #predictions.append(output)\n",
    "        predictions.append(predicted_classes)\n",
    "        lab.append(labels)\n",
    "\n",
    "# Combine predictions into a single tensor\n",
    "#predictions = torch.cat(predicted_classes, dim=0)\n",
    "#y_pred = np.array(predictions)\n",
    "out_train = np.concatenate(predictions).ravel()\n",
    "labels = np.concatenate(lab).ravel()\n",
    "dev_f1 = f1_score(labels, out_train, average='weighted')\n",
    "print(f\"Predictions:\\n{np.unique(out)}\")\n",
    "print(f\"Labels:\\n{np.unique(labels)}\")\n",
    "print(dev_f1)"
   ]
  },
  {
   "cell_type": "code",
   "execution_count": 229,
   "metadata": {},
   "outputs": [
    {
     "data": {
      "image/png": "[encoded data removed]",
      "text/plain": [
       "<Figure size 800x600 with 1 Axes>"
      ]
     },
     "metadata": {},
     "output_type": "display_data"
    }
   ],
   "source": [
    "# Plot training and validation losses\n",
    "plt.figure(figsize=(8, 6))\n",
    "plt.plot(train_losses, label=\"Training Loss\")\n",
    "plt.plot(val_losses, label=\"Validation Loss\")\n",
    "plt.xlabel(\"Epoch\")\n",
    "plt.ylabel(\"Loss\")\n",
    "plt.title(\"Training and Validation Loss\")\n",
    "plt.legend()\n",
    "plt.savefig(\"loss_plot.png\")  # Save the plot\n",
    "plt.show()"
   ]
  },
  {
   "cell_type": "code",
   "execution_count": 230,
   "metadata": {},
   "outputs": [],
   "source": [
    "y_pred= out"
   ]
  },
  {
   "cell_type": "code",
   "execution_count": 231,
   "metadata": {},
   "outputs": [],
   "source": [
    "y_test = np.array(features_csv[features_csv[\"split\"]==\"dev\"][\"PTSD_label\"].values)"
   ]
  },
  {
   "cell_type": "code",
   "execution_count": 232,
   "metadata": {},
   "outputs": [
    {
     "data": {
      "text/plain": [
       "array(['female', 'male', 'unknown'], dtype=object)"
      ]
     },
     "execution_count": 232,
     "metadata": {},
     "output_type": "execute_result"
    }
   ],
   "source": [
    "np.unique(features_csv['gender'])"
   ]
  },
  {
   "cell_type": "code",
   "execution_count": 233,
   "metadata": {},
   "outputs": [],
   "source": [
    "features_csv['col_encoded'] = features_csv['gender'].map({'female': 0, 'male': 1, 'unknown':1})"
   ]
  },
  {
   "cell_type": "code",
   "execution_count": 234,
   "metadata": {},
   "outputs": [
    {
     "data": {
      "text/plain": [
       "array([0, 1])"
      ]
     },
     "execution_count": 234,
     "metadata": {},
     "output_type": "execute_result"
    }
   ],
   "source": [
    "np.unique(features_csv['col_encoded'])"
   ]
  },
  {
   "cell_type": "code",
   "execution_count": 235,
   "metadata": {},
   "outputs": [
    {
     "name": "stdout",
     "output_type": "stream",
     "text": [
      "Shape of gender_test: (56,)\n",
      "Shape of y_test: (56,)\n",
      "Shape of y_pred: (56,)\n"
     ]
    }
   ],
   "source": [
    "from fairlearn.metrics import demographic_parity_difference\n",
    "\n",
    "# Assuming `gender` corresponds to the original metadata\n",
    "# Split the dataset into training and testing sets for `gender`\n",
    "gender_train, gender_test = features_csv[features_csv[\"split\"]==\"dev\"][\"col_encoded\"], features_csv[features_csv[\"split\"]==\"dev\"][\"col_encoded\"]\n",
    "\n",
    "# Ensure that `gender_test`, `y_test`, and `y_pred` are aligned\n",
    "print(f\"Shape of gender_test: {gender_train.shape}\")\n",
    "print(f\"Shape of y_test: {y_test.shape}\")\n",
    "print(f\"Shape of y_pred: {y_pred.shape}\")\n",
    "\n"
   ]
  },
  {
   "cell_type": "code",
   "execution_count": 236,
   "metadata": {},
   "outputs": [
    {
     "name": "stdout",
     "output_type": "stream",
     "text": [
      "Demographic Parity Difference: 0.061111111111111116\n"
     ]
    }
   ],
   "source": [
    "# Calculate Demographic Parity Difference\n",
    "demographic_parity = demographic_parity_difference(\n",
    "    y_true=y_test,\n",
    "    y_pred=y_pred,\n",
    "    sensitive_features=gender_train\n",
    ")\n",
    "\n",
    "print(f\"Demographic Parity Difference: {demographic_parity}\")"
   ]
  },
  {
   "cell_type": "code",
   "execution_count": 237,
   "metadata": {},
   "outputs": [
    {
     "name": "stdout",
     "output_type": "stream",
     "text": [
      "Selection Rates by Group:\n",
      "col_encoded\n",
      "0    0.200000\n",
      "1    0.138889\n",
      "Name: selection_rate, dtype: float64\n"
     ]
    }
   ],
   "source": [
    "from fairlearn.metrics import MetricFrame, selection_rate\n",
    "metric_frame = MetricFrame(metrics=selection_rate, \n",
    "                           y_true=y_test, \n",
    "                           y_pred=y_pred, \n",
    "                           sensitive_features=gender_train)\n",
    "\n",
    "# Get selection rates for each group\n",
    "selection_rates = metric_frame.by_group\n",
    "print(\"Selection Rates by Group:\")\n",
    "print(selection_rates)\n"
   ]
  },
  {
   "cell_type": "code",
   "execution_count": 238,
   "metadata": {},
   "outputs": [
    {
     "name": "stdout",
     "output_type": "stream",
     "text": [
      "Demographic Parity Ratio: 0.6944444444444444\n"
     ]
    }
   ],
   "source": [
    "group_a_rate = selection_rates[1]\n",
    "group_b_rate = selection_rates[0]\n",
    "\n",
    "if group_b_rate > 0:  # Avoid division by zero\n",
    "    demographic_parity_ratio = group_a_rate / group_b_rate\n",
    "    print(f\"Demographic Parity Ratio: {demographic_parity_ratio}\")"
   ]
  },
  {
   "attachments": {},
   "cell_type": "markdown",
   "metadata": {},
   "source": [
    "## Best model"
   ]
  },
  {
   "cell_type": "code",
   "execution_count": 156,
   "metadata": {},
   "outputs": [
    {
     "data": {
      "text/plain": [
       "<All keys matched successfully>"
      ]
     },
     "execution_count": 156,
     "metadata": {},
     "output_type": "execute_result"
    }
   ],
   "source": [
    "model.load_state_dict(torch.load(\"best_text_model.pth\", weights_only=True))"
   ]
  },
  {
   "cell_type": "code",
   "execution_count": 157,
   "metadata": {},
   "outputs": [
    {
     "name": "stdout",
     "output_type": "stream",
     "text": [
      "Predictions:\n",
      "[0 1]\n",
      "Labels:\n",
      "[0. 1.]\n",
      "0.6425954358294368\n"
     ]
    }
   ],
   "source": [
    "# Model prediction\n",
    "model.eval()  # Set model to evaluation mode\n",
    "lab = []\n",
    "predictions = []\n",
    "with torch.no_grad():  # Disable gradient computation\n",
    "    for batch in dev_dataloader:\n",
    "        _data, labels = batch\n",
    "        output = model(_data)  # Model's prediction\n",
    "        \n",
    "        predicts = torch.sigmoid(output)  # Apply sigmoid activation\n",
    "        predicted_classes = (predicts > 0.5).int()  # Convert probabilities to binary predictions\n",
    "        #print(f\"Predicted Probabilities:\\n{predictions}\")\n",
    "        #print(f\"Predicted Classes:\\n{predicted_classes}\")\n",
    "        # Collect predictions\n",
    "        #predictions.append(output)\n",
    "        predictions.append(predicted_classes)\n",
    "        lab.append(labels)\n",
    "\n",
    "# Combine predictions into a single tensor\n",
    "#predictions = torch.cat(predicted_classes, dim=0)\n",
    "#y_pred = np.array(predictions)\n",
    "out = np.concatenate(predictions).ravel()\n",
    "labels = np.concatenate(lab).ravel()\n",
    "dev_f1 = f1_score(labels, out, average='weighted')\n",
    "print(f\"Predictions:\\n{np.unique(out)}\")\n",
    "print(f\"Labels:\\n{np.unique(labels)}\")\n",
    "print(dev_f1)"
   ]
  },
  {
   "cell_type": "code",
   "execution_count": 158,
   "metadata": {},
   "outputs": [
    {
     "name": "stdout",
     "output_type": "stream",
     "text": [
      "Predictions:\n",
      "[0 1]\n",
      "Labels:\n",
      "[0. 1.]\n",
      "0.9938825022201148\n"
     ]
    }
   ],
   "source": [
    "# Model prediction\n",
    "model.eval()  # Set model to evaluation mode\n",
    "lab = []\n",
    "predictions = []\n",
    "with torch.no_grad():  # Disable gradient computation\n",
    "    for batch in train_dataloader:\n",
    "        _data, labels = batch\n",
    "        output = model(_data)  # Model's prediction\n",
    "        \n",
    "        predicts = torch.sigmoid(output)  # Apply sigmoid activation\n",
    "        predicted_classes = (predicts > 0.5).int()  # Convert probabilities to binary predictions\n",
    "        #print(f\"Predicted Probabilities:\\n{predictions}\")\n",
    "        #print(f\"Predicted Classes:\\n{predicted_classes}\")\n",
    "        # Collect predictions\n",
    "        #predictions.append(output)\n",
    "        predictions.append(predicted_classes)\n",
    "        lab.append(labels)\n",
    "\n",
    "# Combine predictions into a single tensor\n",
    "#predictions = torch.cat(predicted_classes, dim=0)\n",
    "#y_pred = np.array(predictions)\n",
    "out_train = np.concatenate(predictions).ravel()\n",
    "labels = np.concatenate(lab).ravel()\n",
    "dev_f1 = f1_score(labels, out_train, average='weighted')\n",
    "print(f\"Predictions:\\n{np.unique(out)}\")\n",
    "print(f\"Labels:\\n{np.unique(labels)}\")\n",
    "print(dev_f1)"
   ]
  },
  {
   "cell_type": "code",
   "execution_count": 159,
   "metadata": {},
   "outputs": [],
   "source": [
    "y_pred= out"
   ]
  },
  {
   "cell_type": "code",
   "execution_count": 160,
   "metadata": {},
   "outputs": [],
   "source": [
    "y_test = np.array(features_csv[features_csv[\"split\"]==\"dev\"][\"PTSD_label\"].values)"
   ]
  },
  {
   "cell_type": "code",
   "execution_count": 161,
   "metadata": {},
   "outputs": [
    {
     "data": {
      "text/plain": [
       "array(['female', 'male', 'unknown'], dtype=object)"
      ]
     },
     "execution_count": 161,
     "metadata": {},
     "output_type": "execute_result"
    }
   ],
   "source": [
    "np.unique(features_csv['gender'])"
   ]
  },
  {
   "cell_type": "code",
   "execution_count": 162,
   "metadata": {},
   "outputs": [],
   "source": [
    "features_csv['col_encoded'] = features_csv['gender'].map({'female': 0, 'male': 1, 'unknown':1})"
   ]
  },
  {
   "cell_type": "code",
   "execution_count": 163,
   "metadata": {},
   "outputs": [
    {
     "data": {
      "text/plain": [
       "array([0, 1])"
      ]
     },
     "execution_count": 163,
     "metadata": {},
     "output_type": "execute_result"
    }
   ],
   "source": [
    "np.unique(features_csv['col_encoded'])"
   ]
  },
  {
   "cell_type": "code",
   "execution_count": 164,
   "metadata": {},
   "outputs": [
    {
     "name": "stdout",
     "output_type": "stream",
     "text": [
      "Shape of gender_test: (56,)\n",
      "Shape of y_test: (56,)\n",
      "Shape of y_pred: (56,)\n"
     ]
    }
   ],
   "source": [
    "from fairlearn.metrics import demographic_parity_difference\n",
    "\n",
    "# Assuming `gender` corresponds to the original metadata\n",
    "# Split the dataset into training and testing sets for `gender`\n",
    "gender_train, gender_test = features_csv[features_csv[\"split\"]==\"dev\"][\"col_encoded\"], features_csv[features_csv[\"split\"]==\"dev\"][\"col_encoded\"]\n",
    "\n",
    "# Ensure that `gender_test`, `y_test`, and `y_pred` are aligned\n",
    "print(f\"Shape of gender_test: {gender_train.shape}\")\n",
    "print(f\"Shape of y_test: {y_test.shape}\")\n",
    "print(f\"Shape of y_pred: {y_pred.shape}\")\n",
    "\n"
   ]
  },
  {
   "cell_type": "code",
   "execution_count": 165,
   "metadata": {},
   "outputs": [
    {
     "name": "stdout",
     "output_type": "stream",
     "text": [
      "Demographic Parity Difference: 0.06666666666666667\n"
     ]
    }
   ],
   "source": [
    "# Calculate Demographic Parity Difference\n",
    "demographic_parity = demographic_parity_difference(\n",
    "    y_true=y_test,\n",
    "    y_pred=y_pred,\n",
    "    sensitive_features=gender_train\n",
    ")\n",
    "\n",
    "print(f\"Demographic Parity Difference: {demographic_parity}\")"
   ]
  },
  {
   "cell_type": "code",
   "execution_count": 166,
   "metadata": {},
   "outputs": [
    {
     "name": "stdout",
     "output_type": "stream",
     "text": [
      "Selection Rates by Group:\n",
      "col_encoded\n",
      "0    0.150000\n",
      "1    0.083333\n",
      "Name: selection_rate, dtype: float64\n"
     ]
    }
   ],
   "source": [
    "from fairlearn.metrics import MetricFrame, selection_rate\n",
    "metric_frame = MetricFrame(metrics=selection_rate, \n",
    "                           y_true=y_test, \n",
    "                           y_pred=y_pred, \n",
    "                           sensitive_features=gender_train)\n",
    "\n",
    "# Get selection rates for each group\n",
    "selection_rates = metric_frame.by_group\n",
    "print(\"Selection Rates by Group:\")\n",
    "print(selection_rates)\n"
   ]
  },
  {
   "cell_type": "code",
   "execution_count": 167,
   "metadata": {},
   "outputs": [
    {
     "name": "stdout",
     "output_type": "stream",
     "text": [
      "Demographic Parity Ratio: 0.5555555555555556\n"
     ]
    }
   ],
   "source": [
    "group_a_rate = selection_rates[1]\n",
    "group_b_rate = selection_rates[0]\n",
    "\n",
    "if group_b_rate > 0:  # Avoid division by zero\n",
    "    demographic_parity_ratio = group_a_rate / group_b_rate\n",
    "    print(f\"Demographic Parity Ratio: {demographic_parity_ratio}\")"
   ]
  },
  {
   "attachments": {},
   "cell_type": "markdown",
   "metadata": {},
   "source": [
    "# 2D Text Resampling Gender"
   ]
  },
  {
   "cell_type": "code",
   "execution_count": 58,
   "metadata": {},
   "outputs": [],
   "source": [
    "features_csv = pd.read_csv(\"/home/hice1/mbibars3/scratch/vlm-debiasing/data/e-daic/undersampled_embeddings.csv\")"
   ]
  },
  {
   "cell_type": "code",
   "execution_count": 59,
   "metadata": {},
   "outputs": [
    {
     "data": {
      "text/html": [
       "<div>\n",
       "<style scoped>\n",
       "    .dataframe tbody tr th:only-of-type {\n",
       "        vertical-align: middle;\n",
       "    }\n",
       "\n",
       "    .dataframe tbody tr th {\n",
       "        vertical-align: top;\n",
       "    }\n",
       "\n",
       "    .dataframe thead th {\n",
       "        text-align: right;\n",
       "    }\n",
       "</style>\n",
       "<table border=\"1\" class=\"dataframe\">\n",
       "  <thead>\n",
       "    <tr style=\"text-align: right;\">\n",
       "      <th></th>\n",
       "      <th>split</th>\n",
       "      <th>PTSD_severity</th>\n",
       "      <th>PTSD_label</th>\n",
       "      <th>gender</th>\n",
       "      <th>audio</th>\n",
       "      <th>text</th>\n",
       "    </tr>\n",
       "  </thead>\n",
       "  <tbody>\n",
       "    <tr>\n",
       "      <th>0</th>\n",
       "      <td>train</td>\n",
       "      <td>51.0</td>\n",
       "      <td>1</td>\n",
       "      <td>female</td>\n",
       "      <td>/home/hice1/mbibars3/scratch/vlm-debiasing/dat...</td>\n",
       "      <td>/home/hice1/mbibars3/scratch/vlm-debiasing/dat...</td>\n",
       "    </tr>\n",
       "    <tr>\n",
       "      <th>1</th>\n",
       "      <td>test</td>\n",
       "      <td>26.0</td>\n",
       "      <td>0</td>\n",
       "      <td>male</td>\n",
       "      <td>/home/hice1/mbibars3/scratch/vlm-debiasing/dat...</td>\n",
       "      <td>/home/hice1/mbibars3/scratch/vlm-debiasing/dat...</td>\n",
       "    </tr>\n",
       "    <tr>\n",
       "      <th>2</th>\n",
       "      <td>test</td>\n",
       "      <td>49.0</td>\n",
       "      <td>0</td>\n",
       "      <td>female</td>\n",
       "      <td>/home/hice1/mbibars3/scratch/vlm-debiasing/dat...</td>\n",
       "      <td>/home/hice1/mbibars3/scratch/vlm-debiasing/dat...</td>\n",
       "    </tr>\n",
       "    <tr>\n",
       "      <th>3</th>\n",
       "      <td>test</td>\n",
       "      <td>19.0</td>\n",
       "      <td>0</td>\n",
       "      <td>male</td>\n",
       "      <td>/home/hice1/mbibars3/scratch/vlm-debiasing/dat...</td>\n",
       "      <td>/home/hice1/mbibars3/scratch/vlm-debiasing/dat...</td>\n",
       "    </tr>\n",
       "    <tr>\n",
       "      <th>4</th>\n",
       "      <td>dev</td>\n",
       "      <td>21.0</td>\n",
       "      <td>0</td>\n",
       "      <td>female</td>\n",
       "      <td>/home/hice1/mbibars3/scratch/vlm-debiasing/dat...</td>\n",
       "      <td>/home/hice1/mbibars3/scratch/vlm-debiasing/dat...</td>\n",
       "    </tr>\n",
       "  </tbody>\n",
       "</table>\n",
       "</div>"
      ],
      "text/plain": [
       "   split  PTSD_severity  PTSD_label  gender  \\\n",
       "0  train           51.0           1  female   \n",
       "1   test           26.0           0    male   \n",
       "2   test           49.0           0  female   \n",
       "3   test           19.0           0    male   \n",
       "4    dev           21.0           0  female   \n",
       "\n",
       "                                               audio  \\\n",
       "0  /home/hice1/mbibars3/scratch/vlm-debiasing/dat...   \n",
       "1  /home/hice1/mbibars3/scratch/vlm-debiasing/dat...   \n",
       "2  /home/hice1/mbibars3/scratch/vlm-debiasing/dat...   \n",
       "3  /home/hice1/mbibars3/scratch/vlm-debiasing/dat...   \n",
       "4  /home/hice1/mbibars3/scratch/vlm-debiasing/dat...   \n",
       "\n",
       "                                                text  \n",
       "0  /home/hice1/mbibars3/scratch/vlm-debiasing/dat...  \n",
       "1  /home/hice1/mbibars3/scratch/vlm-debiasing/dat...  \n",
       "2  /home/hice1/mbibars3/scratch/vlm-debiasing/dat...  \n",
       "3  /home/hice1/mbibars3/scratch/vlm-debiasing/dat...  \n",
       "4  /home/hice1/mbibars3/scratch/vlm-debiasing/dat...  "
      ]
     },
     "execution_count": 59,
     "metadata": {},
     "output_type": "execute_result"
    }
   ],
   "source": [
    "features_csv.head()"
   ]
  },
  {
   "cell_type": "code",
   "execution_count": 60,
   "metadata": {},
   "outputs": [],
   "source": [
    "input_column = 'text'\n",
    "label_column = 'PTSD_label'\n",
    "\n",
    "train_dataset = PatientAudioDatasetCSV(features_csv[features_csv[\"split\"]==\"train\"], input_column=input_column, label_column=label_column, normalize=True)\n",
    "dev_dataset = PatientAudioDatasetCSV(features_csv[features_csv[\"split\"]==\"dev\"], input_column=input_column, label_column=label_column, normalize=True)\n"
   ]
  },
  {
   "cell_type": "code",
   "execution_count": 61,
   "metadata": {},
   "outputs": [
    {
     "name": "stdout",
     "output_type": "stream",
     "text": [
      "Data Shape: torch.Size([10, 768, 80]), Labels Shape: torch.Size([10])\n"
     ]
    }
   ],
   "source": [
    "from torch.utils.data import DataLoader\n",
    "\n",
    "batch_size = 10\n",
    "train_dataloader = DataLoader(train_dataset, batch_size=batch_size, shuffle=True)\n",
    "dev_dataloader = DataLoader(dev_dataset, batch_size=batch_size, shuffle=False)\n",
    "\n",
    "\n",
    "for batch_data, batch_labels in train_dataloader:\n",
    "    print(f\"Data Shape: {batch_data.shape}, Labels Shape: {batch_labels.shape}\")\n",
    "    break\n"
   ]
  },
  {
   "cell_type": "code",
   "execution_count": 62,
   "metadata": {},
   "outputs": [],
   "source": [
    "input_channels = 80  # Number of input features per time step\n",
    "conv_channels = 64   # Number of convolutional filters\n",
    "lstm_hidden_size = 128  # LSTM hidden size\n",
    "lstm_layers = 2      # Number of LSTM layers\n",
    "output_size = 1     # Number of classes for classification (or 1 for regression)\n",
    "\n",
    "model = DeepConvLSTM(input_channels, conv_channels, lstm_hidden_size, lstm_layers, output_size)\n"
   ]
  },
  {
   "cell_type": "code",
   "execution_count": 63,
   "metadata": {},
   "outputs": [
    {
     "data": {
      "text/plain": [
       "314881"
      ]
     },
     "execution_count": 63,
     "metadata": {},
     "output_type": "execute_result"
    }
   ],
   "source": [
    "sum(p.numel() for p in model.parameters() if p.requires_grad)"
   ]
  },
  {
   "cell_type": "code",
   "execution_count": 64,
   "metadata": {},
   "outputs": [],
   "source": [
    "learning_rate = 0.001\n",
    "num_epochs = 50\n",
    "optimizer = optim.AdamW(model.parameters(), lr=learning_rate)"
   ]
  },
  {
   "cell_type": "code",
   "execution_count": 65,
   "metadata": {},
   "outputs": [],
   "source": [
    "labels_torch = torch.from_numpy(features_csv[features_csv[\"split\"]==\"train\"][\"PTSD_label\"].values)"
   ]
  },
  {
   "cell_type": "markdown",
   "metadata": {},
   "source": [
    "For example, if a dataset contains 100 positive and 300 negative examples of a single class, then pos_weight for the class should be equal to 300/100=3. The loss would act as if the dataset contains 3×100=300 positive examples."
   ]
  },
  {
   "cell_type": "code",
   "execution_count": 66,
   "metadata": {},
   "outputs": [
    {
     "name": "stdout",
     "output_type": "stream",
     "text": [
      "tensor([87, 42])\n",
      "tensor(2.0714)\n"
     ]
    }
   ],
   "source": [
    "# Calculate class weights\n",
    "class_counts = torch.bincount(labels_torch)  # Get counts for each class\n",
    "print(class_counts)\n",
    "class_weight = class_counts[0] / class_counts[1]\n",
    "print(class_weight)\n",
    "# Apply weights to loss function\n",
    "criterion = nn.BCEWithLogitsLoss(pos_weight=class_weight)  # Weight for positive class\n"
   ]
  },
  {
   "cell_type": "code",
   "execution_count": 67,
   "metadata": {},
   "outputs": [
    {
     "name": "stdout",
     "output_type": "stream",
     "text": [
      "best dev f1  0 :  0.5542594556380347\n",
      "Epoch [1/50], Train Loss: 0.9439, Val Loss: 0.8833, Train F1: 0.5567, Val F1: 0.5543\n",
      "Epoch [2/50], Train Loss: 0.9382, Val Loss: 0.8940, Train F1: 0.5234, Val F1: 0.1527\n",
      "Epoch [3/50], Train Loss: 0.9365, Val Loss: 0.8866, Train F1: 0.2528, Val F1: 0.2249\n",
      "Epoch [4/50], Train Loss: 0.9354, Val Loss: 0.8812, Train F1: 0.5784, Val F1: 0.5543\n",
      "Epoch [5/50], Train Loss: 0.9356, Val Loss: 0.8812, Train F1: 0.5720, Val F1: 0.5543\n",
      "Epoch [6/50], Train Loss: 0.9337, Val Loss: 0.8751, Train F1: 0.6252, Val F1: 0.5543\n",
      "Epoch [7/50], Train Loss: 0.9120, Val Loss: 0.9115, Train F1: 0.6546, Val F1: 0.1695\n",
      "Epoch [8/50], Train Loss: 0.8887, Val Loss: 1.0983, Train F1: 0.6725, Val F1: 0.1527\n",
      "Epoch [9/50], Train Loss: 0.9214, Val Loss: 0.8922, Train F1: 0.5749, Val F1: 0.5423\n",
      "Epoch [10/50], Train Loss: 0.9517, Val Loss: 0.9056, Train F1: 0.5428, Val F1: 0.1527\n",
      "Epoch [11/50], Train Loss: 0.9180, Val Loss: 0.9020, Train F1: 0.2381, Val F1: 0.1436\n",
      "Epoch [12/50], Train Loss: 0.8696, Val Loss: 0.9063, Train F1: 0.5532, Val F1: 0.5043\n",
      "Epoch [13/50], Train Loss: 0.7508, Val Loss: 1.0471, Train F1: 0.7431, Val F1: 0.5543\n",
      "Epoch [14/50], Train Loss: 0.5963, Val Loss: 1.9748, Train F1: 0.8386, Val F1: 0.5543\n",
      "Epoch [15/50], Train Loss: 0.5427, Val Loss: 1.2277, Train F1: 0.8194, Val F1: 0.5043\n",
      "Epoch [16/50], Train Loss: 0.3533, Val Loss: 1.9575, Train F1: 0.9041, Val F1: 0.5543\n",
      "Epoch [17/50], Train Loss: 0.2953, Val Loss: 2.5859, Train F1: 0.9225, Val F1: 0.3415\n",
      "Epoch [18/50], Train Loss: 0.4400, Val Loss: 1.6116, Train F1: 0.8784, Val F1: 0.5423\n",
      "Epoch [19/50], Train Loss: 0.2326, Val Loss: 2.4263, Train F1: 0.9159, Val F1: 0.4785\n",
      "Epoch [20/50], Train Loss: 0.1894, Val Loss: 2.9883, Train F1: 0.9312, Val F1: 0.3902\n",
      "Epoch [21/50], Train Loss: 0.3536, Val Loss: 1.8499, Train F1: 0.8636, Val F1: 0.4574\n",
      "Epoch [22/50], Train Loss: 0.1366, Val Loss: 2.4611, Train F1: 0.9923, Val F1: 0.5003\n",
      "Epoch [23/50], Train Loss: 0.1086, Val Loss: 3.9129, Train F1: 0.9768, Val F1: 0.4064\n",
      "Epoch [24/50], Train Loss: 0.5350, Val Loss: 2.6605, Train F1: 0.8489, Val F1: 0.1808\n",
      "Epoch [25/50], Train Loss: 0.2355, Val Loss: 1.7774, Train F1: 0.9532, Val F1: 0.4821\n",
      "Epoch [26/50], Train Loss: 0.2077, Val Loss: 2.2998, Train F1: 0.9237, Val F1: 0.4347\n",
      "Epoch [27/50], Train Loss: 0.0780, Val Loss: 3.2510, Train F1: 0.9923, Val F1: 0.4344\n",
      "Epoch [28/50], Train Loss: 0.0144, Val Loss: 4.0995, Train F1: 1.0000, Val F1: 0.4114\n",
      "Epoch [29/50], Train Loss: 0.0087, Val Loss: 4.8837, Train F1: 1.0000, Val F1: 0.4347\n",
      "Epoch [30/50], Train Loss: 0.0060, Val Loss: 5.1925, Train F1: 1.0000, Val F1: 0.4568\n",
      "Epoch [31/50], Train Loss: 0.0305, Val Loss: 5.0360, Train F1: 0.9845, Val F1: 0.5530\n",
      "Epoch [32/50], Train Loss: 0.0273, Val Loss: 3.6037, Train F1: 0.9923, Val F1: 0.3850\n",
      "best dev f1  32 :  0.5626310561748152\n",
      "Epoch [33/50], Train Loss: 0.0661, Val Loss: 3.3276, Train F1: 0.9769, Val F1: 0.5626\n",
      "Epoch [34/50], Train Loss: 0.0804, Val Loss: 3.6981, Train F1: 0.9692, Val F1: 0.3631\n",
      "Epoch [35/50], Train Loss: 0.1278, Val Loss: 4.2806, Train F1: 0.9538, Val F1: 0.1808\n",
      "Epoch [36/50], Train Loss: 0.0364, Val Loss: 4.3889, Train F1: 0.9846, Val F1: 0.3795\n",
      "Epoch [37/50], Train Loss: 0.0077, Val Loss: 4.7393, Train F1: 1.0000, Val F1: 0.3795\n",
      "Epoch [38/50], Train Loss: 0.0672, Val Loss: 4.5323, Train F1: 0.9768, Val F1: 0.3850\n",
      "Epoch [39/50], Train Loss: 0.1613, Val Loss: 3.4707, Train F1: 0.9692, Val F1: 0.5164\n",
      "Epoch [40/50], Train Loss: 0.1391, Val Loss: 2.5511, Train F1: 0.9467, Val F1: 0.4585\n",
      "Epoch [41/50], Train Loss: 0.1590, Val Loss: 3.1933, Train F1: 0.9387, Val F1: 0.5300\n",
      "Epoch [42/50], Train Loss: 0.0362, Val Loss: 3.4501, Train F1: 0.9844, Val F1: 0.4998\n",
      "Epoch [43/50], Train Loss: 0.0279, Val Loss: 4.3525, Train F1: 0.9923, Val F1: 0.3850\n",
      "Epoch [44/50], Train Loss: 0.0203, Val Loss: 4.2693, Train F1: 0.9922, Val F1: 0.3850\n",
      "Epoch [45/50], Train Loss: 0.0469, Val Loss: 3.9901, Train F1: 0.9768, Val F1: 0.4585\n",
      "Epoch [46/50], Train Loss: 0.1092, Val Loss: 3.4392, Train F1: 0.9922, Val F1: 0.5181\n",
      "Epoch [47/50], Train Loss: 0.0975, Val Loss: 3.0988, Train F1: 0.9692, Val F1: 0.5423\n",
      "Epoch [48/50], Train Loss: 0.0695, Val Loss: 5.4678, Train F1: 0.9767, Val F1: 0.3779\n",
      "Epoch [49/50], Train Loss: 0.1305, Val Loss: 3.8960, Train F1: 0.9767, Val F1: 0.3517\n",
      "Epoch [50/50], Train Loss: 0.0818, Val Loss: 2.3137, Train F1: 0.9846, Val F1: 0.5410\n"
     ]
    }
   ],
   "source": [
    "from sklearn.metrics import f1_score\n",
    "# Define variables to track losses\n",
    "train_losses = []\n",
    "val_losses = []\n",
    "best_dev_f1 = float('-inf')  # Initialize best validation loss\n",
    "\n",
    "# Training loop\n",
    "for epoch in range(num_epochs):\n",
    "    model.train()\n",
    "\n",
    "    running_train_loss = 0.0\n",
    "    all_train_labels = []\n",
    "    all_train_preds = []\n",
    "    all_dev_labels = []\n",
    "    all_dev_preds = []\n",
    "\n",
    "    for batch in train_dataloader:\n",
    "        _btch, labels = batch\n",
    "        optimizer.zero_grad()\n",
    "        inputs = _btch\n",
    "        output = model(inputs)\n",
    "        \"\"\"\n",
    "        print(inputs.shape)\n",
    "        print(output.shape)\n",
    "        print(labels.shape)\n",
    "        \"\"\"\n",
    "        labels = labels.view(output.shape)\n",
    "        loss = criterion(output, labels)\n",
    "        loss.backward()\n",
    "        optimizer.step()\n",
    "        \n",
    "        # Accumulate loss\n",
    "        running_train_loss += loss.item()\n",
    "        # Convert logits to predictions\n",
    "        preds = (torch.sigmoid(output) > 0.5).int()\n",
    "        #print(np.unique(preds.detach().numpy()))\n",
    "        all_train_labels.extend(labels.cpu().numpy().flatten())\n",
    "        all_train_preds.extend(preds.cpu().numpy().flatten())\n",
    "\n",
    "    # Average training loss for the epoch\n",
    "    train_loss = running_train_loss / len(train_dataloader)\n",
    "    train_losses.append(train_loss)\n",
    "\n",
    "    # Validation Phase\n",
    "    model.eval()  # Set model to evaluation mode\n",
    "    running_val_loss = 0.0\n",
    "\n",
    "    with torch.no_grad():  # Disable gradient computation\n",
    "        for batch in dev_dataloader:  # Use validation DataLoader\n",
    "            _btch, labels = batch\n",
    "\n",
    "            # Forward pass\n",
    "            inputs = _btch\n",
    "            output = model(inputs)\n",
    "\n",
    "            # Reshape labels to match the output shape if necessary\n",
    "            labels = labels.view(output.shape)\n",
    "\n",
    "            # Compute loss\n",
    "            loss = criterion(output, labels)\n",
    "            #loss = torch.sqrt(loss)\n",
    "\n",
    "            running_val_loss += loss.item()\n",
    "            preds = (torch.sigmoid(output) > 0.5).int()\n",
    "            all_dev_labels.extend(labels.cpu().numpy().flatten())\n",
    "            all_dev_preds.extend(preds.cpu().numpy().flatten())\n",
    "\n",
    "    # Average validation loss for the epoch\n",
    "    val_loss = running_val_loss / len(dev_dataloader)\n",
    "    val_losses.append(val_loss)\n",
    "\n",
    "    # Compute F1-score for training\n",
    "    train_f1 = f1_score(all_train_labels, all_train_preds, average='weighted')\n",
    "    dev_f1 = f1_score(all_dev_labels, all_dev_preds, average='weighted')\n",
    "    # Check if this is the best model\n",
    "    if dev_f1 > best_dev_f1:\n",
    "        best_dev_f1 = dev_f1\n",
    "        print(\"best dev f1 \", epoch, \": \", best_dev_f1)\n",
    "        torch.save(model.state_dict(), \"best_text_undersampled_model.pth\")  # Save best model\n",
    "\n",
    "    # Print epoch summary\n",
    "    print(f\"Epoch [{epoch+1}/{num_epochs}], Train Loss: {train_loss:.4f}, Val Loss: {val_loss:.4f}, Train F1: {train_f1:.4f}, Val F1: {dev_f1:.4f}\")\n"
   ]
  },
  {
   "cell_type": "code",
   "execution_count": 68,
   "metadata": {},
   "outputs": [
    {
     "data": {
      "text/plain": [
       "<All keys matched successfully>"
      ]
     },
     "execution_count": 68,
     "metadata": {},
     "output_type": "execute_result"
    }
   ],
   "source": [
    "model.load_state_dict(torch.load(\"best_text_undersampled_model.pth\", weights_only=True))"
   ]
  },
  {
   "cell_type": "code",
   "execution_count": 69,
   "metadata": {},
   "outputs": [
    {
     "name": "stdout",
     "output_type": "stream",
     "text": [
      "Predictions:\n",
      "[0 1]\n",
      "Labels:\n",
      "[0. 1.]\n",
      "0.5626310561748152\n"
     ]
    }
   ],
   "source": [
    "# Model prediction\n",
    "model.eval()  # Set model to evaluation mode\n",
    "lab = []\n",
    "predictions = []\n",
    "with torch.no_grad():  # Disable gradient computation\n",
    "    for batch in dev_dataloader:\n",
    "        _data, labels = batch\n",
    "        output = model(_data)  # Model's prediction\n",
    "        \n",
    "        predicts = torch.sigmoid(output)  # Apply sigmoid activation\n",
    "        predicted_classes = (predicts > 0.5).int()  # Convert probabilities to binary predictions\n",
    "        #print(f\"Predicted Probabilities:\\n{predictions}\")\n",
    "        #print(f\"Predicted Classes:\\n{predicted_classes}\")\n",
    "        # Collect predictions\n",
    "        #predictions.append(output)\n",
    "        predictions.append(predicted_classes)\n",
    "        lab.append(labels)\n",
    "\n",
    "# Combine predictions into a single tensor\n",
    "#predictions = torch.cat(predicted_classes, dim=0)\n",
    "#y_pred = np.array(predictions)\n",
    "out = np.concatenate(predictions).ravel()\n",
    "labels = np.concatenate(lab).ravel()\n",
    "dev_f1 = f1_score(labels, out, average='weighted')\n",
    "print(f\"Predictions:\\n{np.unique(out)}\")\n",
    "print(f\"Labels:\\n{np.unique(labels)}\")\n",
    "print(dev_f1)"
   ]
  },
  {
   "cell_type": "code",
   "execution_count": 70,
   "metadata": {},
   "outputs": [
    {
     "name": "stdout",
     "output_type": "stream",
     "text": [
      "Predictions:\n",
      "[0 1]\n",
      "Labels:\n",
      "[0. 1.]\n",
      "1.0\n"
     ]
    }
   ],
   "source": [
    "# Model prediction\n",
    "model.eval()  # Set model to evaluation mode\n",
    "lab = []\n",
    "predictions = []\n",
    "with torch.no_grad():  # Disable gradient computation\n",
    "    for batch in train_dataloader:\n",
    "        _data, labels = batch\n",
    "        output = model(_data)  # Model's prediction\n",
    "        \n",
    "        predicts = torch.sigmoid(output)  # Apply sigmoid activation\n",
    "        predicted_classes = (predicts > 0.5).int()  # Convert probabilities to binary predictions\n",
    "        #print(f\"Predicted Probabilities:\\n{predictions}\")\n",
    "        #print(f\"Predicted Classes:\\n{predicted_classes}\")\n",
    "        # Collect predictions\n",
    "        #predictions.append(output)\n",
    "        predictions.append(predicted_classes)\n",
    "        lab.append(labels)\n",
    "\n",
    "# Combine predictions into a single tensor\n",
    "#predictions = torch.cat(predicted_classes, dim=0)\n",
    "#y_pred = np.array(predictions)\n",
    "out_train = np.concatenate(predictions).ravel()\n",
    "labels = np.concatenate(lab).ravel()\n",
    "dev_f1 = f1_score(labels, out_train, average='weighted')\n",
    "print(f\"Predictions:\\n{np.unique(out)}\")\n",
    "print(f\"Labels:\\n{np.unique(labels)}\")\n",
    "print(dev_f1)"
   ]
  },
  {
   "cell_type": "code",
   "execution_count": 71,
   "metadata": {},
   "outputs": [
    {
     "data": {
      "image/png": "[encoded data removed]",
      "text/plain": [
       "<Figure size 800x600 with 1 Axes>"
      ]
     },
     "metadata": {},
     "output_type": "display_data"
    }
   ],
   "source": [
    "# Plot training and validation losses\n",
    "plt.figure(figsize=(8, 6))\n",
    "plt.plot(train_losses, label=\"Training Loss\")\n",
    "plt.plot(val_losses, label=\"Validation Loss\")\n",
    "plt.xlabel(\"Epoch\")\n",
    "plt.ylabel(\"Loss\")\n",
    "plt.title(\"Training and Validation Loss\")\n",
    "plt.legend()\n",
    "plt.savefig(\"loss_plot.png\")  # Save the plot\n",
    "plt.show()"
   ]
  },
  {
   "cell_type": "code",
   "execution_count": 72,
   "metadata": {},
   "outputs": [],
   "source": [
    "y_pred= out"
   ]
  },
  {
   "cell_type": "code",
   "execution_count": 73,
   "metadata": {},
   "outputs": [],
   "source": [
    "y_test = np.array(features_csv[features_csv[\"split\"]==\"dev\"][\"PTSD_label\"].values)"
   ]
  },
  {
   "cell_type": "code",
   "execution_count": 74,
   "metadata": {},
   "outputs": [
    {
     "data": {
      "text/plain": [
       "array(['female', 'male'], dtype=object)"
      ]
     },
     "execution_count": 74,
     "metadata": {},
     "output_type": "execute_result"
    }
   ],
   "source": [
    "np.unique(features_csv['gender'])"
   ]
  },
  {
   "cell_type": "code",
   "execution_count": 75,
   "metadata": {},
   "outputs": [],
   "source": [
    "features_csv['col_encoded'] = features_csv['gender'].map({'female': 0, 'male': 1, 'unknown':1})"
   ]
  },
  {
   "cell_type": "code",
   "execution_count": 76,
   "metadata": {},
   "outputs": [
    {
     "data": {
      "text/plain": [
       "array([0, 1])"
      ]
     },
     "execution_count": 76,
     "metadata": {},
     "output_type": "execute_result"
    }
   ],
   "source": [
    "np.unique(features_csv['col_encoded'])"
   ]
  },
  {
   "cell_type": "code",
   "execution_count": 77,
   "metadata": {},
   "outputs": [
    {
     "name": "stdout",
     "output_type": "stream",
     "text": [
      "Shape of gender_test: (41,)\n",
      "Shape of y_test: (41,)\n",
      "Shape of y_pred: (41,)\n"
     ]
    }
   ],
   "source": [
    "from fairlearn.metrics import demographic_parity_difference\n",
    "\n",
    "# Assuming `gender` corresponds to the original metadata\n",
    "# Split the dataset into training and testing sets for `gender`\n",
    "gender_train, gender_test = features_csv[features_csv[\"split\"]==\"dev\"][\"col_encoded\"], features_csv[features_csv[\"split\"]==\"dev\"][\"col_encoded\"]\n",
    "\n",
    "# Ensure that `gender_test`, `y_test`, and `y_pred` are aligned\n",
    "print(f\"Shape of gender_test: {gender_train.shape}\")\n",
    "print(f\"Shape of y_test: {y_test.shape}\")\n",
    "print(f\"Shape of y_pred: {y_pred.shape}\")\n",
    "\n"
   ]
  },
  {
   "cell_type": "code",
   "execution_count": 78,
   "metadata": {},
   "outputs": [
    {
     "name": "stdout",
     "output_type": "stream",
     "text": [
      "Demographic Parity Difference: 0.004761904761904773\n"
     ]
    }
   ],
   "source": [
    "# Calculate Demographic Parity Difference\n",
    "demographic_parity = demographic_parity_difference(\n",
    "    y_true=y_test,\n",
    "    y_pred=y_pred,\n",
    "    sensitive_features=gender_train\n",
    ")\n",
    "\n",
    "print(f\"Demographic Parity Difference: {demographic_parity}\")"
   ]
  },
  {
   "cell_type": "code",
   "execution_count": 79,
   "metadata": {},
   "outputs": [
    {
     "name": "stdout",
     "output_type": "stream",
     "text": [
      "Selection Rates by Group:\n",
      "col_encoded\n",
      "0    0.100000\n",
      "1    0.095238\n",
      "Name: selection_rate, dtype: float64\n"
     ]
    }
   ],
   "source": [
    "from fairlearn.metrics import MetricFrame, selection_rate\n",
    "metric_frame = MetricFrame(metrics=selection_rate, \n",
    "                           y_true=y_test, \n",
    "                           y_pred=y_pred, \n",
    "                           sensitive_features=gender_train)\n",
    "\n",
    "# Get selection rates for each group\n",
    "selection_rates = metric_frame.by_group\n",
    "print(\"Selection Rates by Group:\")\n",
    "print(selection_rates)\n"
   ]
  },
  {
   "cell_type": "code",
   "execution_count": 80,
   "metadata": {},
   "outputs": [
    {
     "name": "stdout",
     "output_type": "stream",
     "text": [
      "Demographic Parity Ratio: 0.9523809523809523\n"
     ]
    }
   ],
   "source": [
    "group_a_rate = selection_rates[1]\n",
    "group_b_rate = selection_rates[0]\n",
    "\n",
    "if group_b_rate > 0:  # Avoid division by zero\n",
    "    demographic_parity_ratio = group_a_rate / group_b_rate\n",
    "    print(f\"Demographic Parity Ratio: {demographic_parity_ratio}\")\n",
    "    if demographic_parity_ratio>1:\n",
    "        print(1/demographic_parity_ratio)"
   ]
  },
  {
   "attachments": {},
   "cell_type": "markdown",
   "metadata": {},
   "source": [
    "# Audio_Text_Model"
   ]
  },
  {
   "cell_type": "code",
   "execution_count": 86,
   "metadata": {},
   "outputs": [],
   "source": [
    "class PatientMultiModalityDataset(Dataset):\n",
    "    def __init__(self, dataframe, input_columns, label_column=None, normalize=True):\n",
    "        \"\"\"\n",
    "        Args:\n",
    "            dataframe: DataFrame containing file paths and labels.\n",
    "            input_columns: List of column names, each containing paths to the modalities.\n",
    "            label_column: Column name containing labels (if supervised learning).\n",
    "            normalize: Whether to normalize the data for each modality (0-1 scaling per modality).\n",
    "        \"\"\"\n",
    "        self.dataframe = dataframe\n",
    "        self.input_columns = input_columns\n",
    "        self.label_column = label_column\n",
    "        self.normalize = normalize\n",
    "        self.normalization_stats = self._compute_normalization_stats() if normalize else None\n",
    "\n",
    "    def _compute_normalization_stats(self):\n",
    "        \"\"\"Compute normalization statistics (min/max) for each modality.\"\"\"\n",
    "        stats = {}\n",
    "        for column in self.input_columns:\n",
    "            all_data = []\n",
    "            for path in self.dataframe[column]:\n",
    "                modality_data = np.load(path, allow_pickle=True)\n",
    "                all_data.append(modality_data)\n",
    "            all_data = np.concatenate(all_data, axis=0)\n",
    "            stats[column] = {\n",
    "                \"mean\": all_data.mean(axis=0),\n",
    "                \"std\": all_data.std(axis=0)\n",
    "            }\n",
    "        return stats\n",
    "\n",
    "    def _normalize(self, data, column):\n",
    "        \"\"\"Normalize data using computed statistics for the given column.\"\"\"\n",
    "        mean = self.normalization_stats[column][\"mean\"]\n",
    "        std = self.normalization_stats[column][\"std\"]\n",
    "        return (data - mean) / (std + 1e-8)  # Add epsilon to avoid division by zero.\n",
    "\n",
    "    def __len__(self):\n",
    "        return len(self.dataframe)\n",
    "\n",
    "    def __getitem__(self, idx):\n",
    "        row = self.dataframe.iloc[idx]\n",
    "\n",
    "        # Load all modalities\n",
    "        modality_tensors = []\n",
    "        for column in self.input_columns:\n",
    "            modality_data = np.load(row[column], allow_pickle=True).astype(np.float32)\n",
    "            if self.normalize:\n",
    "                modality_data = self._normalize(modality_data, column)\n",
    "            modality_tensors.append(torch.tensor(modality_data))\n",
    "\n",
    "        # Load label if available\n",
    "        if self.label_column:\n",
    "            label = torch.tensor(row[self.label_column], dtype=torch.float32)\n",
    "            return modality_tensors, label\n",
    "        else:\n",
    "            return modality_tensors\n",
    "\n",
    "def collate_fn(batch):\n",
    "    # Extract lists of modalities and labels from the batch\n",
    "    batch_data, labels = zip(*batch)\n",
    "    num_modalities = len(batch_data[0])\n",
    "    #print(modalities[0])\n",
    "    data = []\n",
    "\n",
    "    # Stack each modality across batch dimension\n",
    "    for i in range(num_modalities):\n",
    "        #print(f\"============modality_{i}================\")\n",
    "        samples = [sample[i] for sample in batch_data]\n",
    "\n",
    "        #print(np.unique([sample[i] for sample in batch_data]))\n",
    "        _modality = torch.stack(samples, dim=0)\n",
    "        data.append(_modality)\n",
    "\n",
    "    labels = torch.stack(labels)\n",
    "    \n",
    "    # Return in the desired format: data = [modality1, modality2, modality3], labels\n",
    "    return data, labels"
   ]
  },
  {
   "cell_type": "code",
   "execution_count": 100,
   "metadata": {},
   "outputs": [],
   "source": [
    "class MultiModalDeepConvLSTM(nn.Module):\n",
    "    def __init__(self, modality_configs, lstm_hidden_size, lstm_layers, output_size, dropout=0.5):\n",
    "        \"\"\"\n",
    "        Args:\n",
    "            modality_configs: List of configs for each modality, where each config is a tuple\n",
    "                              (input_channels, conv_channels).\n",
    "            lstm_hidden_size: Hidden size of the LSTM.\n",
    "            lstm_layers: Number of LSTM layers.\n",
    "            output_size: Size of the model output (e.g., number of classes for classification).\n",
    "            dropout: Dropout rate.\n",
    "        \"\"\"\n",
    "        super(MultiModalDeepConvLSTM, self).__init__()\n",
    "        \n",
    "        self.modality_nets = nn.ModuleList()\n",
    "        for input_channels, conv_channels in modality_configs:\n",
    "            modality_net = nn.Sequential(\n",
    "                nn.Conv1d(input_channels, conv_channels, kernel_size=9, stride=1, padding=2),\n",
    "                nn.BatchNorm1d(conv_channels),\n",
    "                nn.LeakyReLU(),\n",
    "                nn.MaxPool1d(kernel_size=2, stride=2),\n",
    "                nn.Conv1d(conv_channels, conv_channels, kernel_size=9, stride=1, padding=2),\n",
    "                nn.BatchNorm1d(conv_channels),\n",
    "                nn.LeakyReLU(),\n",
    "                nn.MaxPool1d(kernel_size=2, stride=2),\n",
    "            )\n",
    "            self.modality_nets.append(modality_net)\n",
    "        \n",
    "        # LSTM to process concatenated features\n",
    "        total_features = sum([conv_channels for _, conv_channels in modality_configs])\n",
    "        self.lstm = nn.LSTM(input_size=total_features, \n",
    "                            hidden_size=lstm_hidden_size, \n",
    "                            num_layers=lstm_layers, \n",
    "                            batch_first=True, \n",
    "                            dropout=dropout)\n",
    "        \n",
    "        # Fully connected output layer\n",
    "        self.fc = nn.Linear(lstm_hidden_size, output_size)\n",
    "        nn.init.xavier_uniform_(self.fc.weight)\n",
    "    \n",
    "    def forward(self, modalities):\n",
    "        \"\"\"\n",
    "        Args:\n",
    "            modalities: List of input tensors, one for each modality.\n",
    "                       Each tensor has shape (batch_size, time_steps, channels).\n",
    "        \n",
    "        Returns:\n",
    "            Output tensor.\n",
    "        \"\"\"\n",
    "        processed_modalities = []\n",
    "        for i, modality in enumerate(modalities):\n",
    "            # Permute to match Conv1d input: (batch_size, channels, time_steps)\n",
    "            modality = modality.permute(0, 2, 1)\n",
    "            processed = self.modality_nets[i](modality)  # Shape: (batch_size, conv_channels, reduced_time_steps)\n",
    "            \n",
    "            # Pool along the time dimension to align time steps\n",
    "            processed = torch.mean(processed, dim=-1)  # Shape: (batch_size, conv_channels)\n",
    "            processed_modalities.append(processed)\n",
    "        \n",
    "        # Concatenate processed features from all modalities\n",
    "        concatenated = torch.cat(processed_modalities, dim=-1)  # Shape: (batch_size, total_features)\n",
    "        \n",
    "        # Add a time dimension for LSTM input: (batch_size, 1, total_features)\n",
    "        lstm_input = concatenated.unsqueeze(1)\n",
    "        \n",
    "        # Pass through LSTM\n",
    "        lstm_output, _ = self.lstm(lstm_input)\n",
    "        \n",
    "        # Take the output of the last time step: (batch_size, lstm_hidden_size)\n",
    "        lstm_output = lstm_output[:, -1, :]\n",
    "        \n",
    "        # Fully connected layer\n",
    "        output = self.fc(lstm_output)\n",
    "        \n",
    "        return output\n"
   ]
  },
  {
   "cell_type": "code",
   "execution_count": 82,
   "metadata": {},
   "outputs": [],
   "source": [
    "features_csv = pd.read_csv(\"/home/hice1/mbibars3/scratch/vlm-debiasing/data/e-daic/2d_audio_text_paths.csv\")"
   ]
  },
  {
   "cell_type": "code",
   "execution_count": 83,
   "metadata": {},
   "outputs": [
    {
     "data": {
      "text/html": [
       "<div>\n",
       "<style scoped>\n",
       "    .dataframe tbody tr th:only-of-type {\n",
       "        vertical-align: middle;\n",
       "    }\n",
       "\n",
       "    .dataframe tbody tr th {\n",
       "        vertical-align: top;\n",
       "    }\n",
       "\n",
       "    .dataframe thead th {\n",
       "        text-align: right;\n",
       "    }\n",
       "</style>\n",
       "<table border=\"1\" class=\"dataframe\">\n",
       "  <thead>\n",
       "    <tr style=\"text-align: right;\">\n",
       "      <th></th>\n",
       "      <th>split</th>\n",
       "      <th>PTSD_severity</th>\n",
       "      <th>PTSD_label</th>\n",
       "      <th>gender</th>\n",
       "      <th>audio</th>\n",
       "      <th>text</th>\n",
       "    </tr>\n",
       "  </thead>\n",
       "  <tbody>\n",
       "    <tr>\n",
       "      <th>0</th>\n",
       "      <td>train</td>\n",
       "      <td>22.0</td>\n",
       "      <td>0</td>\n",
       "      <td>female</td>\n",
       "      <td>/home/hice1/mbibars3/scratch/vlm-debiasing/dat...</td>\n",
       "      <td>/home/hice1/mbibars3/scratch/vlm-debiasing/dat...</td>\n",
       "    </tr>\n",
       "    <tr>\n",
       "      <th>1</th>\n",
       "      <td>test</td>\n",
       "      <td>23.0</td>\n",
       "      <td>0</td>\n",
       "      <td>male</td>\n",
       "      <td>/home/hice1/mbibars3/scratch/vlm-debiasing/dat...</td>\n",
       "      <td>/home/hice1/mbibars3/scratch/vlm-debiasing/dat...</td>\n",
       "    </tr>\n",
       "    <tr>\n",
       "      <th>2</th>\n",
       "      <td>train</td>\n",
       "      <td>19.0</td>\n",
       "      <td>0</td>\n",
       "      <td>male</td>\n",
       "      <td>/home/hice1/mbibars3/scratch/vlm-debiasing/dat...</td>\n",
       "      <td>/home/hice1/mbibars3/scratch/vlm-debiasing/dat...</td>\n",
       "    </tr>\n",
       "    <tr>\n",
       "      <th>3</th>\n",
       "      <td>train</td>\n",
       "      <td>67.0</td>\n",
       "      <td>1</td>\n",
       "      <td>female</td>\n",
       "      <td>/home/hice1/mbibars3/scratch/vlm-debiasing/dat...</td>\n",
       "      <td>/home/hice1/mbibars3/scratch/vlm-debiasing/dat...</td>\n",
       "    </tr>\n",
       "    <tr>\n",
       "      <th>4</th>\n",
       "      <td>dev</td>\n",
       "      <td>39.0</td>\n",
       "      <td>0</td>\n",
       "      <td>male</td>\n",
       "      <td>/home/hice1/mbibars3/scratch/vlm-debiasing/dat...</td>\n",
       "      <td>/home/hice1/mbibars3/scratch/vlm-debiasing/dat...</td>\n",
       "    </tr>\n",
       "  </tbody>\n",
       "</table>\n",
       "</div>"
      ],
      "text/plain": [
       "   split  PTSD_severity  PTSD_label  gender  \\\n",
       "0  train           22.0           0  female   \n",
       "1   test           23.0           0    male   \n",
       "2  train           19.0           0    male   \n",
       "3  train           67.0           1  female   \n",
       "4    dev           39.0           0    male   \n",
       "\n",
       "                                               audio  \\\n",
       "0  /home/hice1/mbibars3/scratch/vlm-debiasing/dat...   \n",
       "1  /home/hice1/mbibars3/scratch/vlm-debiasing/dat...   \n",
       "2  /home/hice1/mbibars3/scratch/vlm-debiasing/dat...   \n",
       "3  /home/hice1/mbibars3/scratch/vlm-debiasing/dat...   \n",
       "4  /home/hice1/mbibars3/scratch/vlm-debiasing/dat...   \n",
       "\n",
       "                                                text  \n",
       "0  /home/hice1/mbibars3/scratch/vlm-debiasing/dat...  \n",
       "1  /home/hice1/mbibars3/scratch/vlm-debiasing/dat...  \n",
       "2  /home/hice1/mbibars3/scratch/vlm-debiasing/dat...  \n",
       "3  /home/hice1/mbibars3/scratch/vlm-debiasing/dat...  \n",
       "4  /home/hice1/mbibars3/scratch/vlm-debiasing/dat...  "
      ]
     },
     "execution_count": 83,
     "metadata": {},
     "output_type": "execute_result"
    }
   ],
   "source": [
    "features_csv.head()"
   ]
  },
  {
   "cell_type": "code",
   "execution_count": 85,
   "metadata": {},
   "outputs": [],
   "source": [
    "input_columns = ['audio','text']\n",
    "label_column = 'PTSD_label'\n",
    "\n",
    "train_dataset = PatientMultiModalityDataset(features_csv[features_csv[\"split\"]==\"train\"], input_columns=input_columns, label_column=label_column, normalize=True)\n",
    "dev_dataset = PatientMultiModalityDataset(features_csv[features_csv[\"split\"]==\"dev\"], input_columns=input_columns, label_column=label_column, normalize=True)\n"
   ]
  },
  {
   "cell_type": "code",
   "execution_count": 91,
   "metadata": {},
   "outputs": [
    {
     "name": "stdout",
     "output_type": "stream",
     "text": [
      "Len of data:2, len of labels: 10\n",
      "modality_0 Data Shape: torch.Size([10, 1214, 768])\n",
      "modality_1 Data Shape: torch.Size([10, 768, 80])\n",
      "Len of data:2, len of labels: 10\n",
      "modality_0 Data Shape: torch.Size([10, 1214, 768])\n",
      "modality_1 Data Shape: torch.Size([10, 768, 80])\n"
     ]
    }
   ],
   "source": [
    "from torch.utils.data import DataLoader\n",
    "\n",
    "batch_size = 10\n",
    "train_dataloader = DataLoader(train_dataset, batch_size=batch_size, shuffle=True, collate_fn=collate_fn)\n",
    "dev_dataloader = DataLoader(dev_dataset, batch_size=batch_size, shuffle=False)\n",
    "\n",
    "i = 0\n",
    "for batch_data, batch_labels in train_dataloader:\n",
    "    print(f\"Len of data:{len(batch_data)}, len of labels: {len(batch_labels)}\")\n",
    "    for j,m in enumerate(batch_data):\n",
    "        print(f\"modality_{j} Data Shape: {m.shape}\")\n",
    "    i+=1\n",
    "    if i == 2:\n",
    "        break\n"
   ]
  },
  {
   "attachments": {},
   "cell_type": "markdown",
   "metadata": {},
   "source": [
    "## T1"
   ]
  },
  {
   "cell_type": "code",
   "execution_count": 108,
   "metadata": {},
   "outputs": [],
   "source": [
    "# Example usage\n",
    "model = MultiModalDeepConvLSTM(\n",
    "    modality_configs=[(768, 512),(80, 512)],\n",
    "    lstm_hidden_size=128, \n",
    "    lstm_layers=2, \n",
    "    output_size=1, \n",
    "    dropout=0.5\n",
    ")"
   ]
  },
  {
   "cell_type": "code",
   "execution_count": 109,
   "metadata": {},
   "outputs": [
    {
     "data": {
      "text/plain": [
       "9355393"
      ]
     },
     "execution_count": 109,
     "metadata": {},
     "output_type": "execute_result"
    }
   ],
   "source": [
    "sum(p.numel() for p in model.parameters() if p.requires_grad)"
   ]
  },
  {
   "cell_type": "code",
   "execution_count": 110,
   "metadata": {},
   "outputs": [],
   "source": [
    "learning_rate = 0.001\n",
    "num_epochs = 50\n",
    "optimizer = optim.AdamW(model.parameters(), lr=learning_rate)"
   ]
  },
  {
   "cell_type": "code",
   "execution_count": 111,
   "metadata": {},
   "outputs": [],
   "source": [
    "labels_torch = torch.from_numpy(features_csv[features_csv[\"split\"]==\"train\"][\"PTSD_label\"].values)"
   ]
  },
  {
   "cell_type": "markdown",
   "metadata": {},
   "source": [
    "For example, if a dataset contains 100 positive and 300 negative examples of a single class, then pos_weight for the class should be equal to 300/100=3. The loss would act as if the dataset contains 3×100=300 positive examples."
   ]
  },
  {
   "cell_type": "code",
   "execution_count": 112,
   "metadata": {},
   "outputs": [
    {
     "name": "stdout",
     "output_type": "stream",
     "text": [
      "tensor([114,  49])\n",
      "tensor(2.3265)\n"
     ]
    }
   ],
   "source": [
    "# Calculate class weights\n",
    "class_counts = torch.bincount(labels_torch)  # Get counts for each class\n",
    "print(class_counts)\n",
    "class_weight = class_counts[0] / class_counts[1]\n",
    "print(class_weight)\n",
    "# Apply weights to loss function\n",
    "criterion = nn.BCEWithLogitsLoss(pos_weight=class_weight)  # Weight for positive class\n"
   ]
  },
  {
   "cell_type": "code",
   "execution_count": 114,
   "metadata": {},
   "outputs": [
    {
     "name": "stdout",
     "output_type": "stream",
     "text": [
      "Best Validation F1 0 :  0.5029258469556976\n",
      "Epoch [1/50], Train Loss: 0.9882, Val Loss: 0.9780, Train F1: 0.3062, Val F1: 0.5029\n",
      "Best Validation F1 1 :  0.6785714285714286\n",
      "Epoch [2/50], Train Loss: 0.9629, Val Loss: 0.9601, Train F1: 0.6125, Val F1: 0.6786\n",
      "Epoch [3/50], Train Loss: 0.9111, Val Loss: 0.9549, Train F1: 0.6530, Val F1: 0.6202\n",
      "Epoch [4/50], Train Loss: 0.8036, Val Loss: 1.1175, Train F1: 0.7619, Val F1: 0.5357\n",
      "Best Validation F1 4 :  0.739430894308943\n",
      "Epoch [5/50], Train Loss: 0.8775, Val Loss: 0.9155, Train F1: 0.7749, Val F1: 0.7394\n",
      "Epoch [6/50], Train Loss: 0.8108, Val Loss: 0.8974, Train F1: 0.6225, Val F1: 0.6677\n",
      "Epoch [7/50], Train Loss: 0.6404, Val Loss: 1.0389, Train F1: 0.8379, Val F1: 0.6481\n",
      "Epoch [8/50], Train Loss: 0.6631, Val Loss: 1.0523, Train F1: 0.7750, Val F1: 0.6327\n",
      "Epoch [9/50], Train Loss: 0.5904, Val Loss: 1.1802, Train F1: 0.8486, Val F1: 0.5543\n",
      "Epoch [10/50], Train Loss: 0.5194, Val Loss: 1.2555, Train F1: 0.8385, Val F1: 0.6481\n",
      "Epoch [11/50], Train Loss: 0.4041, Val Loss: 1.3849, Train F1: 0.8864, Val F1: 0.5770\n",
      "Epoch [12/50], Train Loss: 0.4624, Val Loss: 2.0552, Train F1: 0.9146, Val F1: 0.5857\n",
      "Epoch [13/50], Train Loss: 0.3744, Val Loss: 1.4109, Train F1: 0.9323, Val F1: 0.7342\n",
      "Epoch [14/50], Train Loss: 0.4948, Val Loss: 1.5306, Train F1: 0.8460, Val F1: 0.5905\n",
      "Epoch [15/50], Train Loss: 0.6078, Val Loss: 1.4279, Train F1: 0.9077, Val F1: 0.6939\n",
      "Epoch [16/50], Train Loss: 0.2924, Val Loss: 1.2614, Train F1: 0.9222, Val F1: 0.6677\n",
      "Epoch [17/50], Train Loss: 0.2520, Val Loss: 1.8832, Train F1: 0.9514, Val F1: 0.5857\n",
      "Epoch [18/50], Train Loss: 0.2165, Val Loss: 1.6724, Train F1: 0.9572, Val F1: 0.5886\n",
      "Epoch [19/50], Train Loss: 0.4507, Val Loss: 1.5206, Train F1: 0.9449, Val F1: 0.7143\n",
      "Epoch [20/50], Train Loss: 0.2842, Val Loss: 1.4675, Train F1: 0.9038, Val F1: 0.6577\n",
      "Epoch [21/50], Train Loss: 0.3603, Val Loss: 1.5970, Train F1: 0.9272, Val F1: 0.6362\n",
      "Epoch [22/50], Train Loss: 0.3006, Val Loss: 1.9432, Train F1: 0.9751, Val F1: 0.5777\n",
      "Epoch [23/50], Train Loss: 0.2196, Val Loss: 1.7800, Train F1: 0.9519, Val F1: 0.5534\n",
      "Epoch [24/50], Train Loss: 0.1539, Val Loss: 2.0054, Train F1: 0.9634, Val F1: 0.6279\n",
      "Epoch [25/50], Train Loss: 0.1380, Val Loss: 2.2767, Train F1: 0.9815, Val F1: 0.6138\n",
      "Epoch [26/50], Train Loss: 0.1338, Val Loss: 2.7212, Train F1: 0.9574, Val F1: 0.5998\n",
      "Epoch [27/50], Train Loss: 0.1653, Val Loss: 2.7994, Train F1: 0.9503, Val F1: 0.5534\n",
      "Epoch [28/50], Train Loss: 0.4716, Val Loss: 1.8201, Train F1: 0.9103, Val F1: 0.6874\n",
      "Epoch [29/50], Train Loss: 0.2131, Val Loss: 2.0079, Train F1: 0.9452, Val F1: 0.5714\n",
      "Epoch [30/50], Train Loss: 0.2000, Val Loss: 1.6087, Train F1: 0.9393, Val F1: 0.6015\n",
      "Epoch [31/50], Train Loss: 0.1679, Val Loss: 2.2876, Train F1: 0.9517, Val F1: 0.5323\n",
      "Epoch [32/50], Train Loss: 0.0668, Val Loss: 2.0411, Train F1: 0.9878, Val F1: 0.6362\n",
      "Epoch [33/50], Train Loss: 0.1388, Val Loss: 2.0798, Train F1: 0.9816, Val F1: 0.6786\n",
      "Epoch [34/50], Train Loss: 0.2728, Val Loss: 1.6434, Train F1: 0.9446, Val F1: 0.6988\n",
      "Epoch [35/50], Train Loss: 0.1545, Val Loss: 2.2209, Train F1: 0.9694, Val F1: 0.5714\n",
      "Epoch [36/50], Train Loss: 0.1639, Val Loss: 2.5176, Train F1: 0.9632, Val F1: 0.5925\n",
      "Epoch [37/50], Train Loss: 0.0837, Val Loss: 2.2674, Train F1: 0.9756, Val F1: 0.6138\n",
      "Epoch [38/50], Train Loss: 0.0288, Val Loss: 2.3664, Train F1: 0.9939, Val F1: 0.5998\n",
      "Epoch [39/50], Train Loss: 0.0163, Val Loss: 2.7652, Train F1: 1.0000, Val F1: 0.6138\n",
      "Epoch [40/50], Train Loss: 0.0337, Val Loss: 2.7314, Train F1: 0.9939, Val F1: 0.5905\n",
      "Epoch [41/50], Train Loss: 0.0418, Val Loss: 2.9995, Train F1: 0.9938, Val F1: 0.5977\n",
      "Epoch [42/50], Train Loss: 0.2818, Val Loss: 2.2494, Train F1: 0.9636, Val F1: 0.7185\n",
      "Epoch [43/50], Train Loss: 0.0988, Val Loss: 2.4692, Train F1: 0.9877, Val F1: 0.5216\n",
      "Epoch [44/50], Train Loss: 0.1670, Val Loss: 1.9762, Train F1: 0.9458, Val F1: 0.6520\n",
      "Epoch [45/50], Train Loss: 0.2313, Val Loss: 2.9358, Train F1: 0.9334, Val F1: 0.5278\n",
      "Epoch [46/50], Train Loss: 0.1590, Val Loss: 1.7081, Train F1: 0.9694, Val F1: 0.6730\n",
      "Epoch [47/50], Train Loss: 0.0629, Val Loss: 2.3778, Train F1: 0.9878, Val F1: 0.5977\n",
      "Epoch [48/50], Train Loss: 0.0489, Val Loss: 2.4528, Train F1: 0.9939, Val F1: 0.5714\n",
      "Epoch [49/50], Train Loss: 0.0501, Val Loss: 3.0873, Train F1: 0.9816, Val F1: 0.6173\n",
      "Epoch [50/50], Train Loss: 0.0898, Val Loss: 2.7098, Train F1: 0.9877, Val F1: 0.6362\n"
     ]
    }
   ],
   "source": [
    "from sklearn.metrics import f1_score\n",
    "\n",
    "# Define variables to track losses\n",
    "train_losses = []\n",
    "val_losses = []\n",
    "best_dev_f1 = float('-inf')  # Initialize best validation F1 score\n",
    "\n",
    "# Training loop\n",
    "for epoch in range(num_epochs):\n",
    "    model.train()  # Set model to training mode\n",
    "\n",
    "    running_train_loss = 0.0\n",
    "    all_train_labels = []\n",
    "    all_train_preds = []\n",
    "    all_dev_labels = []\n",
    "    all_dev_preds = []\n",
    "\n",
    "    # Training Phase\n",
    "    for batch in train_dataloader:\n",
    "        modalities, labels = batch  # Unpack modalities and labels\n",
    "        optimizer.zero_grad()\n",
    "\n",
    "        # Concatenate modalities along the feature dimension (if required by the model)\n",
    "        #inputs = torch.cat(modalities, dim=-1)  # Shape: (batch_size, time_steps, combined_features)\n",
    "        output = model(modalities)  # Forward pass through the model\n",
    "\n",
    "        # Reshape labels to match the output shape\n",
    "        labels = labels.view(output.shape)\n",
    "\n",
    "        # Compute loss\n",
    "        loss = criterion(output, labels)\n",
    "        loss.backward()  # Backpropagation\n",
    "        optimizer.step()  # Update model parameters\n",
    "\n",
    "        # Accumulate training loss\n",
    "        running_train_loss += loss.item()\n",
    "\n",
    "        # Convert logits to predictions (assuming binary classification)\n",
    "        preds = (torch.sigmoid(output) > 0.5).int()\n",
    "        all_train_labels.extend(labels.cpu().numpy().flatten())\n",
    "        all_train_preds.extend(preds.cpu().numpy().flatten())\n",
    "\n",
    "    # Average training loss for the epoch\n",
    "    train_loss = running_train_loss / len(train_dataloader)\n",
    "    train_losses.append(train_loss)\n",
    "\n",
    "    # Validation Phase\n",
    "    model.eval()  # Set model to evaluation mode\n",
    "    running_val_loss = 0.0\n",
    "\n",
    "    with torch.no_grad():  # Disable gradient computation for validation\n",
    "        for batch in dev_dataloader:  # Use validation DataLoader\n",
    "            modalities, labels = batch  # Unpack modalities and labels\n",
    "\n",
    "            # Concatenate modalities along the feature dimension\n",
    "            #inputs = torch.cat(modalities, dim=-1)  # Shape: (batch_size, time_steps, combined_features)\n",
    "            output = model(modalities)  # Forward pass\n",
    "\n",
    "            # Reshape labels to match the output shape\n",
    "            labels = labels.view(output.shape)\n",
    "\n",
    "            # Compute validation loss\n",
    "            loss = criterion(output, labels)\n",
    "            running_val_loss += loss.item()\n",
    "\n",
    "            # Convert logits to predictions\n",
    "            preds = (torch.sigmoid(output) > 0.5).int()\n",
    "            all_dev_labels.extend(labels.cpu().numpy().flatten())\n",
    "            all_dev_preds.extend(preds.cpu().numpy().flatten())\n",
    "\n",
    "    # Average validation loss for the epoch\n",
    "    val_loss = running_val_loss / len(dev_dataloader)\n",
    "    val_losses.append(val_loss)\n",
    "\n",
    "    # Compute F1-score for training and validation\n",
    "    train_f1 = f1_score(all_train_labels, all_train_preds, average='weighted')\n",
    "    dev_f1 = f1_score(all_dev_labels, all_dev_preds, average='weighted')\n",
    "\n",
    "    # Save the best model based on validation F1-score\n",
    "    if dev_f1 > best_dev_f1:\n",
    "        best_dev_f1 = dev_f1\n",
    "        print(\"Best Validation F1\", epoch, \": \", best_dev_f1)\n",
    "        torch.save(model.state_dict(), \"best_multimodal_model.pth\")  # Save the best model\n",
    "\n",
    "    # Print epoch summary\n",
    "    print(f\"Epoch [{epoch+1}/{num_epochs}], Train Loss: {train_loss:.4f}, Val Loss: {val_loss:.4f}, Train F1: {train_f1:.4f}, Val F1: {dev_f1:.4f}\")\n"
   ]
  },
  {
   "cell_type": "code",
   "execution_count": 116,
   "metadata": {},
   "outputs": [
    {
     "data": {
      "text/plain": [
       "<All keys matched successfully>"
      ]
     },
     "execution_count": 116,
     "metadata": {},
     "output_type": "execute_result"
    }
   ],
   "source": [
    "model.load_state_dict(torch.load(\"best_multimodal_model.pth\", weights_only=True))"
   ]
  },
  {
   "cell_type": "code",
   "execution_count": 117,
   "metadata": {},
   "outputs": [
    {
     "name": "stdout",
     "output_type": "stream",
     "text": [
      "Predictions:\n",
      "[0 1]\n",
      "Labels:\n",
      "[0. 1.]\n",
      "0.739430894308943\n"
     ]
    }
   ],
   "source": [
    "# Model prediction\n",
    "model.eval()  # Set model to evaluation mode\n",
    "lab = []\n",
    "predictions = []\n",
    "with torch.no_grad():  # Disable gradient computation\n",
    "    for batch in dev_dataloader:\n",
    "        _data, labels = batch\n",
    "        output = model(_data)  # Model's prediction\n",
    "        \n",
    "        predicts = torch.sigmoid(output)  # Apply sigmoid activation\n",
    "        predicted_classes = (predicts > 0.5).int()  # Convert probabilities to binary predictions\n",
    "        #print(f\"Predicted Probabilities:\\n{predictions}\")\n",
    "        #print(f\"Predicted Classes:\\n{predicted_classes}\")\n",
    "        # Collect predictions\n",
    "        #predictions.append(output)\n",
    "        predictions.append(predicted_classes)\n",
    "        lab.append(labels)\n",
    "\n",
    "# Combine predictions into a single tensor\n",
    "#predictions = torch.cat(predicted_classes, dim=0)\n",
    "#y_pred = np.array(predictions)\n",
    "out = np.concatenate(predictions).ravel()\n",
    "labels = np.concatenate(lab).ravel()\n",
    "dev_f1 = f1_score(labels, out, average='weighted')\n",
    "print(f\"Predictions:\\n{np.unique(out)}\")\n",
    "print(f\"Labels:\\n{np.unique(labels)}\")\n",
    "print(dev_f1)"
   ]
  },
  {
   "cell_type": "code",
   "execution_count": 118,
   "metadata": {},
   "outputs": [
    {
     "name": "stdout",
     "output_type": "stream",
     "text": [
      "Predictions:\n",
      "[0 1]\n",
      "Labels:\n",
      "[0. 1.]\n",
      "0.8151803082448003\n"
     ]
    }
   ],
   "source": [
    "# Model prediction\n",
    "model.eval()  # Set model to evaluation mode\n",
    "lab = []\n",
    "predictions = []\n",
    "with torch.no_grad():  # Disable gradient computation\n",
    "    for batch in train_dataloader:\n",
    "        _data, labels = batch\n",
    "        output = model(_data)  # Model's prediction\n",
    "        \n",
    "        predicts = torch.sigmoid(output)  # Apply sigmoid activation\n",
    "        predicted_classes = (predicts > 0.5).int()  # Convert probabilities to binary predictions\n",
    "        #print(f\"Predicted Probabilities:\\n{predictions}\")\n",
    "        #print(f\"Predicted Classes:\\n{predicted_classes}\")\n",
    "        # Collect predictions\n",
    "        #predictions.append(output)\n",
    "        predictions.append(predicted_classes)\n",
    "        lab.append(labels)\n",
    "\n",
    "# Combine predictions into a single tensor\n",
    "#predictions = torch.cat(predicted_classes, dim=0)\n",
    "#y_pred = np.array(predictions)\n",
    "out_train = np.concatenate(predictions).ravel()\n",
    "labels = np.concatenate(lab).ravel()\n",
    "dev_f1 = f1_score(labels, out_train, average='weighted')\n",
    "print(f\"Predictions:\\n{np.unique(out)}\")\n",
    "print(f\"Labels:\\n{np.unique(labels)}\")\n",
    "print(dev_f1)"
   ]
  },
  {
   "cell_type": "code",
   "execution_count": 119,
   "metadata": {},
   "outputs": [
    {
     "data": {
      "image/png": "[encoded data removed]",
      "text/plain": [
       "<Figure size 800x600 with 1 Axes>"
      ]
     },
     "metadata": {},
     "output_type": "display_data"
    }
   ],
   "source": [
    "# Plot training and validation losses\n",
    "plt.figure(figsize=(8, 6))\n",
    "plt.plot(train_losses, label=\"Training Loss\")\n",
    "plt.plot(val_losses, label=\"Validation Loss\")\n",
    "plt.xlabel(\"Epoch\")\n",
    "plt.ylabel(\"Loss\")\n",
    "plt.title(\"Training and Validation Loss\")\n",
    "plt.legend()\n",
    "plt.savefig(\"loss_plot.png\")  # Save the plot\n",
    "plt.show()"
   ]
  },
  {
   "cell_type": "code",
   "execution_count": 120,
   "metadata": {},
   "outputs": [],
   "source": [
    "y_pred= out"
   ]
  },
  {
   "cell_type": "code",
   "execution_count": 121,
   "metadata": {},
   "outputs": [],
   "source": [
    "y_test = np.array(features_csv[features_csv[\"split\"]==\"dev\"][\"PTSD_label\"].values)"
   ]
  },
  {
   "cell_type": "code",
   "execution_count": 122,
   "metadata": {},
   "outputs": [
    {
     "data": {
      "text/plain": [
       "array(['female', 'male', 'unknown'], dtype=object)"
      ]
     },
     "execution_count": 122,
     "metadata": {},
     "output_type": "execute_result"
    }
   ],
   "source": [
    "np.unique(features_csv['gender'])"
   ]
  },
  {
   "cell_type": "code",
   "execution_count": 123,
   "metadata": {},
   "outputs": [],
   "source": [
    "features_csv['col_encoded'] = features_csv['gender'].map({'female': 0, 'male': 1, 'unknown':1})"
   ]
  },
  {
   "cell_type": "code",
   "execution_count": 124,
   "metadata": {},
   "outputs": [
    {
     "data": {
      "text/plain": [
       "array([0, 1])"
      ]
     },
     "execution_count": 124,
     "metadata": {},
     "output_type": "execute_result"
    }
   ],
   "source": [
    "np.unique(features_csv['col_encoded'])"
   ]
  },
  {
   "cell_type": "code",
   "execution_count": 125,
   "metadata": {},
   "outputs": [
    {
     "name": "stdout",
     "output_type": "stream",
     "text": [
      "Shape of gender_test: (56,)\n",
      "Shape of y_test: (56,)\n",
      "Shape of y_pred: (56,)\n"
     ]
    }
   ],
   "source": [
    "from fairlearn.metrics import demographic_parity_difference\n",
    "\n",
    "# Assuming `gender` corresponds to the original metadata\n",
    "# Split the dataset into training and testing sets for `gender`\n",
    "gender_train, gender_test = features_csv[features_csv[\"split\"]==\"dev\"][\"col_encoded\"], features_csv[features_csv[\"split\"]==\"dev\"][\"col_encoded\"]\n",
    "\n",
    "# Ensure that `gender_test`, `y_test`, and `y_pred` are aligned\n",
    "print(f\"Shape of gender_test: {gender_train.shape}\")\n",
    "print(f\"Shape of y_test: {y_test.shape}\")\n",
    "print(f\"Shape of y_pred: {y_pred.shape}\")\n",
    "\n"
   ]
  },
  {
   "cell_type": "code",
   "execution_count": 126,
   "metadata": {},
   "outputs": [
    {
     "name": "stdout",
     "output_type": "stream",
     "text": [
      "Demographic Parity Difference: 0.04999999999999999\n"
     ]
    }
   ],
   "source": [
    "# Calculate Demographic Parity Difference\n",
    "demographic_parity = demographic_parity_difference(\n",
    "    y_true=y_test,\n",
    "    y_pred=y_pred,\n",
    "    sensitive_features=gender_train\n",
    ")\n",
    "\n",
    "print(f\"Demographic Parity Difference: {demographic_parity}\")"
   ]
  },
  {
   "cell_type": "code",
   "execution_count": 127,
   "metadata": {},
   "outputs": [
    {
     "name": "stdout",
     "output_type": "stream",
     "text": [
      "Selection Rates by Group:\n",
      "col_encoded\n",
      "0    0.20\n",
      "1    0.25\n",
      "Name: selection_rate, dtype: float64\n"
     ]
    }
   ],
   "source": [
    "from fairlearn.metrics import MetricFrame, selection_rate\n",
    "metric_frame = MetricFrame(metrics=selection_rate, \n",
    "                           y_true=y_test, \n",
    "                           y_pred=y_pred, \n",
    "                           sensitive_features=gender_train)\n",
    "\n",
    "# Get selection rates for each group\n",
    "selection_rates = metric_frame.by_group\n",
    "print(\"Selection Rates by Group:\")\n",
    "print(selection_rates)\n"
   ]
  },
  {
   "cell_type": "code",
   "execution_count": 128,
   "metadata": {},
   "outputs": [
    {
     "name": "stdout",
     "output_type": "stream",
     "text": [
      "Demographic Parity Ratio: 1.25\n",
      "0.8\n"
     ]
    }
   ],
   "source": [
    "group_a_rate = selection_rates[1]\n",
    "group_b_rate = selection_rates[0]\n",
    "\n",
    "if group_b_rate > 0:  # Avoid division by zero\n",
    "    demographic_parity_ratio = group_a_rate / group_b_rate\n",
    "    print(f\"Demographic Parity Ratio: {demographic_parity_ratio}\")\n",
    "    if demographic_parity_ratio>1:\n",
    "        print(1/demographic_parity_ratio)"
   ]
  },
  {
   "cell_type": "markdown",
   "metadata": {},
   "source": []
  },
  {
   "attachments": {},
   "cell_type": "markdown",
   "metadata": {},
   "source": [
    "## T2"
   ]
  },
  {
   "cell_type": "code",
   "execution_count": 149,
   "metadata": {},
   "outputs": [],
   "source": [
    "# Example usage\n",
    "model = MultiModalDeepConvLSTM(\n",
    "    modality_configs=[(768, 512),(80, 512)],\n",
    "    lstm_hidden_size=128, \n",
    "    lstm_layers=2, \n",
    "    output_size=1, \n",
    "    dropout=0.5\n",
    ")"
   ]
  },
  {
   "cell_type": "code",
   "execution_count": 150,
   "metadata": {},
   "outputs": [
    {
     "data": {
      "text/plain": [
       "9355393"
      ]
     },
     "execution_count": 150,
     "metadata": {},
     "output_type": "execute_result"
    }
   ],
   "source": [
    "sum(p.numel() for p in model.parameters() if p.requires_grad)"
   ]
  },
  {
   "cell_type": "code",
   "execution_count": 151,
   "metadata": {},
   "outputs": [],
   "source": [
    "learning_rate = 0.001\n",
    "num_epochs = 20\n",
    "optimizer = optim.AdamW(model.parameters(), lr=learning_rate)"
   ]
  },
  {
   "cell_type": "code",
   "execution_count": 152,
   "metadata": {},
   "outputs": [],
   "source": [
    "labels_torch = torch.from_numpy(features_csv[features_csv[\"split\"]==\"train\"][\"PTSD_label\"].values)"
   ]
  },
  {
   "cell_type": "markdown",
   "metadata": {},
   "source": [
    "For example, if a dataset contains 100 positive and 300 negative examples of a single class, then pos_weight for the class should be equal to 300/100=3. The loss would act as if the dataset contains 3×100=300 positive examples."
   ]
  },
  {
   "cell_type": "code",
   "execution_count": 153,
   "metadata": {},
   "outputs": [
    {
     "name": "stdout",
     "output_type": "stream",
     "text": [
      "tensor([114,  49])\n",
      "tensor(2.3265)\n"
     ]
    }
   ],
   "source": [
    "# Calculate class weights\n",
    "class_counts = torch.bincount(labels_torch)  # Get counts for each class\n",
    "print(class_counts)\n",
    "class_weight = class_counts[0] / class_counts[1]\n",
    "print(class_weight)\n",
    "# Apply weights to loss function\n",
    "criterion = nn.BCEWithLogitsLoss(pos_weight=class_weight)  # Weight for positive class\n"
   ]
  },
  {
   "cell_type": "code",
   "execution_count": 154,
   "metadata": {},
   "outputs": [
    {
     "name": "stdout",
     "output_type": "stream",
     "text": [
      "Best Validation F1 0 :  0.6116176967240797\n",
      "Epoch [1/20], Train Loss: 0.9796, Val Loss: 0.9830, Train F1: 0.4933, Val F1: 0.6116\n",
      "Epoch [2/20], Train Loss: 1.0062, Val Loss: 0.9669, Train F1: 0.5351, Val F1: 0.5977\n",
      "Epoch [3/20], Train Loss: 0.9458, Val Loss: 0.9407, Train F1: 0.5557, Val F1: 0.6055\n",
      "Best Validation F1 3 :  0.6361959957850368\n",
      "Epoch [4/20], Train Loss: 0.8560, Val Loss: 0.9029, Train F1: 0.7451, Val F1: 0.6362\n",
      "Epoch [5/20], Train Loss: 0.9004, Val Loss: 1.0323, Train F1: 0.7539, Val F1: 0.6129\n",
      "Epoch [6/20], Train Loss: 0.7383, Val Loss: 1.1819, Train F1: 0.7603, Val F1: 0.5669\n",
      "Best Validation F1 6 :  0.6725446428571429\n",
      "Epoch [7/20], Train Loss: 0.6600, Val Loss: 0.9678, Train F1: 0.7731, Val F1: 0.6725\n",
      "Best Validation F1 7 :  0.6908163265306122\n",
      "Epoch [8/20], Train Loss: 0.6158, Val Loss: 0.9328, Train F1: 0.8357, Val F1: 0.6908\n",
      "Best Validation F1 8 :  0.7142857142857143\n",
      "Epoch [9/20], Train Loss: 0.6212, Val Loss: 0.9868, Train F1: 0.7872, Val F1: 0.7143\n",
      "Epoch [10/20], Train Loss: 0.4434, Val Loss: 1.3809, Train F1: 0.8633, Val F1: 0.6650\n",
      "Epoch [11/20], Train Loss: 0.4911, Val Loss: 1.2120, Train F1: 0.8686, Val F1: 0.7143\n",
      "Epoch [12/20], Train Loss: 0.3495, Val Loss: 1.2132, Train F1: 0.9146, Val F1: 0.5857\n",
      "Epoch [13/20], Train Loss: 0.3432, Val Loss: 1.6849, Train F1: 0.9331, Val F1: 0.6217\n",
      "Epoch [14/20], Train Loss: 0.4500, Val Loss: 1.5715, Train F1: 0.8739, Val F1: 0.6217\n",
      "Epoch [15/20], Train Loss: 0.3385, Val Loss: 1.4302, Train F1: 0.8752, Val F1: 0.6650\n",
      "Epoch [16/20], Train Loss: 0.2011, Val Loss: 1.5695, Train F1: 0.9390, Val F1: 0.6725\n",
      "Epoch [17/20], Train Loss: 0.2355, Val Loss: 2.5904, Train F1: 0.9449, Val F1: 0.5496\n",
      "Epoch [18/20], Train Loss: 0.2074, Val Loss: 1.9931, Train F1: 0.9514, Val F1: 0.5905\n",
      "Epoch [19/20], Train Loss: 0.3178, Val Loss: 1.8447, Train F1: 0.9038, Val F1: 0.6548\n",
      "Epoch [20/20], Train Loss: 0.3301, Val Loss: 1.5168, Train F1: 0.9092, Val F1: 0.6041\n"
     ]
    }
   ],
   "source": [
    "from sklearn.metrics import f1_score\n",
    "\n",
    "# Define variables to track losses\n",
    "train_losses = []\n",
    "val_losses = []\n",
    "best_dev_f1 = float('-inf')  # Initialize best validation F1 score\n",
    "\n",
    "# Training loop\n",
    "for epoch in range(num_epochs):\n",
    "    model.train()  # Set model to training mode\n",
    "\n",
    "    running_train_loss = 0.0\n",
    "    all_train_labels = []\n",
    "    all_train_preds = []\n",
    "    all_dev_labels = []\n",
    "    all_dev_preds = []\n",
    "\n",
    "    # Training Phase\n",
    "    for batch in train_dataloader:\n",
    "        modalities, labels = batch  # Unpack modalities and labels\n",
    "        optimizer.zero_grad()\n",
    "\n",
    "        # Concatenate modalities along the feature dimension (if required by the model)\n",
    "        #inputs = torch.cat(modalities, dim=-1)  # Shape: (batch_size, time_steps, combined_features)\n",
    "        output = model(modalities)  # Forward pass through the model\n",
    "\n",
    "        # Reshape labels to match the output shape\n",
    "        labels = labels.view(output.shape)\n",
    "\n",
    "        # Compute loss\n",
    "        loss = criterion(output, labels)\n",
    "        loss.backward()  # Backpropagation\n",
    "        optimizer.step()  # Update model parameters\n",
    "\n",
    "        # Accumulate training loss\n",
    "        running_train_loss += loss.item()\n",
    "\n",
    "        # Convert logits to predictions (assuming binary classification)\n",
    "        preds = (torch.sigmoid(output) > 0.5).int()\n",
    "        all_train_labels.extend(labels.cpu().numpy().flatten())\n",
    "        all_train_preds.extend(preds.cpu().numpy().flatten())\n",
    "\n",
    "    # Average training loss for the epoch\n",
    "    train_loss = running_train_loss / len(train_dataloader)\n",
    "    train_losses.append(train_loss)\n",
    "\n",
    "    # Validation Phase\n",
    "    model.eval()  # Set model to evaluation mode\n",
    "    running_val_loss = 0.0\n",
    "\n",
    "    with torch.no_grad():  # Disable gradient computation for validation\n",
    "        for batch in dev_dataloader:  # Use validation DataLoader\n",
    "            modalities, labels = batch  # Unpack modalities and labels\n",
    "\n",
    "            # Concatenate modalities along the feature dimension\n",
    "            #inputs = torch.cat(modalities, dim=-1)  # Shape: (batch_size, time_steps, combined_features)\n",
    "            output = model(modalities)  # Forward pass\n",
    "\n",
    "            # Reshape labels to match the output shape\n",
    "            labels = labels.view(output.shape)\n",
    "\n",
    "            # Compute validation loss\n",
    "            loss = criterion(output, labels)\n",
    "            running_val_loss += loss.item()\n",
    "\n",
    "            # Convert logits to predictions\n",
    "            preds = (torch.sigmoid(output) > 0.5).int()\n",
    "            all_dev_labels.extend(labels.cpu().numpy().flatten())\n",
    "            all_dev_preds.extend(preds.cpu().numpy().flatten())\n",
    "\n",
    "    # Average validation loss for the epoch\n",
    "    val_loss = running_val_loss / len(dev_dataloader)\n",
    "    val_losses.append(val_loss)\n",
    "\n",
    "    # Compute F1-score for training and validation\n",
    "    train_f1 = f1_score(all_train_labels, all_train_preds, average='weighted')\n",
    "    dev_f1 = f1_score(all_dev_labels, all_dev_preds, average='weighted')\n",
    "\n",
    "    # Save the best model based on validation F1-score\n",
    "    if dev_f1 > best_dev_f1:\n",
    "        best_dev_f1 = dev_f1\n",
    "        print(\"Best Validation F1\", epoch, \": \", best_dev_f1)\n",
    "        torch.save(model.state_dict(), \"best_multimodal_model_t2.pth\")  # Save the best model\n",
    "\n",
    "    # Print epoch summary\n",
    "    print(f\"Epoch [{epoch+1}/{num_epochs}], Train Loss: {train_loss:.4f}, Val Loss: {val_loss:.4f}, Train F1: {train_f1:.4f}, Val F1: {dev_f1:.4f}\")\n"
   ]
  },
  {
   "cell_type": "code",
   "execution_count": 155,
   "metadata": {},
   "outputs": [
    {
     "data": {
      "text/plain": [
       "<All keys matched successfully>"
      ]
     },
     "execution_count": 155,
     "metadata": {},
     "output_type": "execute_result"
    }
   ],
   "source": [
    "model.load_state_dict(torch.load(\"best_multimodal_model_t2.pth\", weights_only=True))"
   ]
  },
  {
   "cell_type": "code",
   "execution_count": 156,
   "metadata": {},
   "outputs": [
    {
     "name": "stdout",
     "output_type": "stream",
     "text": [
      "Predictions:\n",
      "[0 1]\n",
      "Labels:\n",
      "[0. 1.]\n",
      "0.7142857142857143\n"
     ]
    }
   ],
   "source": [
    "# Model prediction\n",
    "model.eval()  # Set model to evaluation mode\n",
    "lab = []\n",
    "predictions = []\n",
    "with torch.no_grad():  # Disable gradient computation\n",
    "    for batch in dev_dataloader:\n",
    "        _data, labels = batch\n",
    "        output = model(_data)  # Model's prediction\n",
    "        \n",
    "        predicts = torch.sigmoid(output)  # Apply sigmoid activation\n",
    "        predicted_classes = (predicts > 0.5).int()  # Convert probabilities to binary predictions\n",
    "        #print(f\"Predicted Probabilities:\\n{predictions}\")\n",
    "        #print(f\"Predicted Classes:\\n{predicted_classes}\")\n",
    "        # Collect predictions\n",
    "        #predictions.append(output)\n",
    "        predictions.append(predicted_classes)\n",
    "        lab.append(labels)\n",
    "\n",
    "# Combine predictions into a single tensor\n",
    "#predictions = torch.cat(predicted_classes, dim=0)\n",
    "#y_pred = np.array(predictions)\n",
    "out = np.concatenate(predictions).ravel()\n",
    "labels = np.concatenate(lab).ravel()\n",
    "dev_f1 = f1_score(labels, out, average='weighted')\n",
    "print(f\"Predictions:\\n{np.unique(out)}\")\n",
    "print(f\"Labels:\\n{np.unique(labels)}\")\n",
    "print(dev_f1)"
   ]
  },
  {
   "cell_type": "code",
   "execution_count": 157,
   "metadata": {},
   "outputs": [
    {
     "name": "stdout",
     "output_type": "stream",
     "text": [
      "Predictions:\n",
      "[0 1]\n",
      "Labels:\n",
      "[0. 1.]\n",
      "0.9455064401285596\n"
     ]
    }
   ],
   "source": [
    "# Model prediction\n",
    "model.eval()  # Set model to evaluation mode\n",
    "lab = []\n",
    "predictions = []\n",
    "with torch.no_grad():  # Disable gradient computation\n",
    "    for batch in train_dataloader:\n",
    "        _data, labels = batch\n",
    "        output = model(_data)  # Model's prediction\n",
    "        \n",
    "        predicts = torch.sigmoid(output)  # Apply sigmoid activation\n",
    "        predicted_classes = (predicts > 0.5).int()  # Convert probabilities to binary predictions\n",
    "        #print(f\"Predicted Probabilities:\\n{predictions}\")\n",
    "        #print(f\"Predicted Classes:\\n{predicted_classes}\")\n",
    "        # Collect predictions\n",
    "        #predictions.append(output)\n",
    "        predictions.append(predicted_classes)\n",
    "        lab.append(labels)\n",
    "\n",
    "# Combine predictions into a single tensor\n",
    "#predictions = torch.cat(predicted_classes, dim=0)\n",
    "#y_pred = np.array(predictions)\n",
    "out_train = np.concatenate(predictions).ravel()\n",
    "labels = np.concatenate(lab).ravel()\n",
    "dev_f1 = f1_score(labels, out_train, average='weighted')\n",
    "print(f\"Predictions:\\n{np.unique(out)}\")\n",
    "print(f\"Labels:\\n{np.unique(labels)}\")\n",
    "print(dev_f1)"
   ]
  },
  {
   "cell_type": "code",
   "execution_count": 158,
   "metadata": {},
   "outputs": [
    {
     "data": {
      "image/png": "[encoded data removed]",
      "text/plain": [
       "<Figure size 800x600 with 1 Axes>"
      ]
     },
     "metadata": {},
     "output_type": "display_data"
    }
   ],
   "source": [
    "# Plot training and validation losses\n",
    "plt.figure(figsize=(8, 6))\n",
    "plt.plot(train_losses, label=\"Training Loss\")\n",
    "plt.plot(val_losses, label=\"Validation Loss\")\n",
    "plt.xlabel(\"Epoch\")\n",
    "plt.ylabel(\"Loss\")\n",
    "plt.title(\"Training and Validation Loss\")\n",
    "plt.legend()\n",
    "plt.savefig(\"loss_plot.png\")  # Save the plot\n",
    "plt.show()"
   ]
  },
  {
   "cell_type": "code",
   "execution_count": 159,
   "metadata": {},
   "outputs": [],
   "source": [
    "y_pred= out"
   ]
  },
  {
   "cell_type": "code",
   "execution_count": 160,
   "metadata": {},
   "outputs": [],
   "source": [
    "y_test = np.array(features_csv[features_csv[\"split\"]==\"dev\"][\"PTSD_label\"].values)"
   ]
  },
  {
   "cell_type": "code",
   "execution_count": 161,
   "metadata": {},
   "outputs": [
    {
     "data": {
      "text/plain": [
       "array(['female', 'male', 'unknown'], dtype=object)"
      ]
     },
     "execution_count": 161,
     "metadata": {},
     "output_type": "execute_result"
    }
   ],
   "source": [
    "np.unique(features_csv['gender'])"
   ]
  },
  {
   "cell_type": "code",
   "execution_count": 162,
   "metadata": {},
   "outputs": [],
   "source": [
    "features_csv['col_encoded'] = features_csv['gender'].map({'female': 0, 'male': 1, 'unknown':1})"
   ]
  },
  {
   "cell_type": "code",
   "execution_count": 163,
   "metadata": {},
   "outputs": [
    {
     "data": {
      "text/plain": [
       "array([0, 1])"
      ]
     },
     "execution_count": 163,
     "metadata": {},
     "output_type": "execute_result"
    }
   ],
   "source": [
    "np.unique(features_csv['col_encoded'])"
   ]
  },
  {
   "cell_type": "code",
   "execution_count": 164,
   "metadata": {},
   "outputs": [
    {
     "name": "stdout",
     "output_type": "stream",
     "text": [
      "Shape of gender_test: (56,)\n",
      "Shape of y_test: (56,)\n",
      "Shape of y_pred: (56,)\n"
     ]
    }
   ],
   "source": [
    "from fairlearn.metrics import demographic_parity_difference\n",
    "\n",
    "# Assuming `gender` corresponds to the original metadata\n",
    "# Split the dataset into training and testing sets for `gender`\n",
    "gender_train, gender_test = features_csv[features_csv[\"split\"]==\"dev\"][\"col_encoded\"], features_csv[features_csv[\"split\"]==\"dev\"][\"col_encoded\"]\n",
    "\n",
    "# Ensure that `gender_test`, `y_test`, and `y_pred` are aligned\n",
    "print(f\"Shape of gender_test: {gender_train.shape}\")\n",
    "print(f\"Shape of y_test: {y_test.shape}\")\n",
    "print(f\"Shape of y_pred: {y_pred.shape}\")\n",
    "\n"
   ]
  },
  {
   "cell_type": "code",
   "execution_count": 165,
   "metadata": {},
   "outputs": [
    {
     "name": "stdout",
     "output_type": "stream",
     "text": [
      "Demographic Parity Difference: 0.07222222222222219\n"
     ]
    }
   ],
   "source": [
    "# Calculate Demographic Parity Difference\n",
    "demographic_parity = demographic_parity_difference(\n",
    "    y_true=y_test,\n",
    "    y_pred=y_pred,\n",
    "    sensitive_features=gender_train\n",
    ")\n",
    "\n",
    "print(f\"Demographic Parity Difference: {demographic_parity}\")"
   ]
  },
  {
   "cell_type": "code",
   "execution_count": 166,
   "metadata": {},
   "outputs": [
    {
     "name": "stdout",
     "output_type": "stream",
     "text": [
      "Selection Rates by Group:\n",
      "col_encoded\n",
      "0    0.350000\n",
      "1    0.277778\n",
      "Name: selection_rate, dtype: float64\n"
     ]
    }
   ],
   "source": [
    "from fairlearn.metrics import MetricFrame, selection_rate\n",
    "metric_frame = MetricFrame(metrics=selection_rate, \n",
    "                           y_true=y_test, \n",
    "                           y_pred=y_pred, \n",
    "                           sensitive_features=gender_train)\n",
    "\n",
    "# Get selection rates for each group\n",
    "selection_rates = metric_frame.by_group\n",
    "print(\"Selection Rates by Group:\")\n",
    "print(selection_rates)\n"
   ]
  },
  {
   "cell_type": "code",
   "execution_count": 167,
   "metadata": {},
   "outputs": [
    {
     "name": "stdout",
     "output_type": "stream",
     "text": [
      "Demographic Parity Ratio: 0.7936507936507937\n"
     ]
    }
   ],
   "source": [
    "group_a_rate = selection_rates[1]\n",
    "group_b_rate = selection_rates[0]\n",
    "\n",
    "if group_b_rate > 0:  # Avoid division by zero\n",
    "    demographic_parity_ratio = group_a_rate / group_b_rate\n",
    "    print(f\"Demographic Parity Ratio: {demographic_parity_ratio}\")\n",
    "    if demographic_parity_ratio>1:\n",
    "        print(1/demographic_parity_ratio)"
   ]
  },
  {
   "cell_type": "markdown",
   "metadata": {},
   "source": []
  },
  {
   "attachments": {},
   "cell_type": "markdown",
   "metadata": {},
   "source": [
    "## T3"
   ]
  },
  {
   "cell_type": "code",
   "execution_count": 179,
   "metadata": {},
   "outputs": [],
   "source": [
    "# Example usage\n",
    "model = MultiModalDeepConvLSTM(\n",
    "    modality_configs=[(768, 512),(80, 512)],\n",
    "    lstm_hidden_size=128, \n",
    "    lstm_layers=2, \n",
    "    output_size=1, \n",
    "    dropout=0.5\n",
    ")"
   ]
  },
  {
   "cell_type": "code",
   "execution_count": 180,
   "metadata": {},
   "outputs": [
    {
     "data": {
      "text/plain": [
       "9355393"
      ]
     },
     "execution_count": 180,
     "metadata": {},
     "output_type": "execute_result"
    }
   ],
   "source": [
    "sum(p.numel() for p in model.parameters() if p.requires_grad)"
   ]
  },
  {
   "cell_type": "code",
   "execution_count": 181,
   "metadata": {},
   "outputs": [],
   "source": [
    "learning_rate = 0.001\n",
    "num_epochs = 20\n",
    "optimizer = optim.AdamW(model.parameters(), lr=learning_rate)"
   ]
  },
  {
   "cell_type": "code",
   "execution_count": 182,
   "metadata": {},
   "outputs": [],
   "source": [
    "labels_torch = torch.from_numpy(features_csv[features_csv[\"split\"]==\"train\"][\"PTSD_label\"].values)"
   ]
  },
  {
   "cell_type": "markdown",
   "metadata": {},
   "source": [
    "For example, if a dataset contains 100 positive and 300 negative examples of a single class, then pos_weight for the class should be equal to 300/100=3. The loss would act as if the dataset contains 3×100=300 positive examples."
   ]
  },
  {
   "cell_type": "code",
   "execution_count": 183,
   "metadata": {},
   "outputs": [
    {
     "name": "stdout",
     "output_type": "stream",
     "text": [
      "tensor([114,  49])\n",
      "tensor(2.3265)\n"
     ]
    }
   ],
   "source": [
    "# Calculate class weights\n",
    "class_counts = torch.bincount(labels_torch)  # Get counts for each class\n",
    "print(class_counts)\n",
    "class_weight = class_counts[0] / class_counts[1]\n",
    "print(class_weight)\n",
    "# Apply weights to loss function\n",
    "criterion = nn.BCEWithLogitsLoss(pos_weight=class_weight)  # Weight for positive class\n"
   ]
  },
  {
   "cell_type": "code",
   "execution_count": 184,
   "metadata": {},
   "outputs": [
    {
     "name": "stdout",
     "output_type": "stream",
     "text": [
      "Best Validation F1 0 :  0.6010793111811789\n",
      "Epoch [1/20], Train Loss: 1.0100, Val Loss: 0.9668, Train F1: 0.5862, Val F1: 0.6011\n",
      "Epoch [2/20], Train Loss: 0.9746, Val Loss: 0.9741, Train F1: 0.3704, Val F1: 0.4215\n",
      "Epoch [3/20], Train Loss: 0.9381, Val Loss: 0.9691, Train F1: 0.6496, Val F1: 0.6005\n",
      "Best Validation F1 3 :  0.6708439961864618\n",
      "Epoch [4/20], Train Loss: 0.9060, Val Loss: 0.8877, Train F1: 0.6525, Val F1: 0.6708\n",
      "Epoch [5/20], Train Loss: 0.9342, Val Loss: 0.9926, Train F1: 0.7037, Val F1: 0.6299\n",
      "Epoch [6/20], Train Loss: 0.8278, Val Loss: 0.9267, Train F1: 0.7338, Val F1: 0.5878\n",
      "Epoch [7/20], Train Loss: 0.7098, Val Loss: 1.3280, Train F1: 0.8083, Val F1: 0.5372\n",
      "Epoch [8/20], Train Loss: 0.6686, Val Loss: 0.9577, Train F1: 0.8462, Val F1: 0.6172\n",
      "Epoch [9/20], Train Loss: 0.6366, Val Loss: 1.1173, Train F1: 0.7863, Val F1: 0.6279\n",
      "Best Validation F1 9 :  0.7609233657620754\n",
      "Epoch [10/20], Train Loss: 0.6233, Val Loss: 0.9221, Train F1: 0.7970, Val F1: 0.7609\n",
      "Epoch [11/20], Train Loss: 0.5215, Val Loss: 1.0335, Train F1: 0.8722, Val F1: 0.6833\n",
      "Epoch [12/20], Train Loss: 0.4668, Val Loss: 1.4564, Train F1: 0.8728, Val F1: 0.5712\n",
      "Epoch [13/20], Train Loss: 0.4634, Val Loss: 1.4533, Train F1: 0.8528, Val F1: 0.4855\n",
      "Epoch [14/20], Train Loss: 0.4165, Val Loss: 1.3439, Train F1: 0.8802, Val F1: 0.6786\n",
      "Epoch [15/20], Train Loss: 0.3240, Val Loss: 1.6264, Train F1: 0.9161, Val F1: 0.6279\n",
      "Epoch [16/20], Train Loss: 0.2171, Val Loss: 1.4566, Train F1: 0.9512, Val F1: 0.6868\n",
      "Epoch [17/20], Train Loss: 0.3202, Val Loss: 1.2572, Train F1: 0.8922, Val F1: 0.7500\n",
      "Epoch [18/20], Train Loss: 0.2492, Val Loss: 1.3119, Train F1: 0.9100, Val F1: 0.7342\n",
      "Epoch [19/20], Train Loss: 0.2123, Val Loss: 1.6031, Train F1: 0.9509, Val F1: 0.7298\n",
      "Epoch [20/20], Train Loss: 0.3014, Val Loss: 1.7447, Train F1: 0.9268, Val F1: 0.6988\n"
     ]
    }
   ],
   "source": [
    "from sklearn.metrics import f1_score\n",
    "\n",
    "# Define variables to track losses\n",
    "train_losses = []\n",
    "val_losses = []\n",
    "best_dev_f1 = float('-inf')  # Initialize best validation F1 score\n",
    "\n",
    "# Training loop\n",
    "for epoch in range(num_epochs):\n",
    "    model.train()  # Set model to training mode\n",
    "\n",
    "    running_train_loss = 0.0\n",
    "    all_train_labels = []\n",
    "    all_train_preds = []\n",
    "    all_dev_labels = []\n",
    "    all_dev_preds = []\n",
    "\n",
    "    # Training Phase\n",
    "    for batch in train_dataloader:\n",
    "        modalities, labels = batch  # Unpack modalities and labels\n",
    "        optimizer.zero_grad()\n",
    "\n",
    "        # Concatenate modalities along the feature dimension (if required by the model)\n",
    "        #inputs = torch.cat(modalities, dim=-1)  # Shape: (batch_size, time_steps, combined_features)\n",
    "        output = model(modalities)  # Forward pass through the model\n",
    "\n",
    "        # Reshape labels to match the output shape\n",
    "        labels = labels.view(output.shape)\n",
    "\n",
    "        # Compute loss\n",
    "        loss = criterion(output, labels)\n",
    "        loss.backward()  # Backpropagation\n",
    "        optimizer.step()  # Update model parameters\n",
    "\n",
    "        # Accumulate training loss\n",
    "        running_train_loss += loss.item()\n",
    "\n",
    "        # Convert logits to predictions (assuming binary classification)\n",
    "        preds = (torch.sigmoid(output) > 0.5).int()\n",
    "        all_train_labels.extend(labels.cpu().numpy().flatten())\n",
    "        all_train_preds.extend(preds.cpu().numpy().flatten())\n",
    "\n",
    "    # Average training loss for the epoch\n",
    "    train_loss = running_train_loss / len(train_dataloader)\n",
    "    train_losses.append(train_loss)\n",
    "\n",
    "    # Validation Phase\n",
    "    model.eval()  # Set model to evaluation mode\n",
    "    running_val_loss = 0.0\n",
    "\n",
    "    with torch.no_grad():  # Disable gradient computation for validation\n",
    "        for batch in dev_dataloader:  # Use validation DataLoader\n",
    "            modalities, labels = batch  # Unpack modalities and labels\n",
    "\n",
    "            # Concatenate modalities along the feature dimension\n",
    "            #inputs = torch.cat(modalities, dim=-1)  # Shape: (batch_size, time_steps, combined_features)\n",
    "            output = model(modalities)  # Forward pass\n",
    "\n",
    "            # Reshape labels to match the output shape\n",
    "            labels = labels.view(output.shape)\n",
    "\n",
    "            # Compute validation loss\n",
    "            loss = criterion(output, labels)\n",
    "            running_val_loss += loss.item()\n",
    "\n",
    "            # Convert logits to predictions\n",
    "            preds = (torch.sigmoid(output) > 0.5).int()\n",
    "            all_dev_labels.extend(labels.cpu().numpy().flatten())\n",
    "            all_dev_preds.extend(preds.cpu().numpy().flatten())\n",
    "\n",
    "    # Average validation loss for the epoch\n",
    "    val_loss = running_val_loss / len(dev_dataloader)\n",
    "    val_losses.append(val_loss)\n",
    "\n",
    "    # Compute F1-score for training and validation\n",
    "    train_f1 = f1_score(all_train_labels, all_train_preds, average='weighted')\n",
    "    dev_f1 = f1_score(all_dev_labels, all_dev_preds, average='weighted')\n",
    "\n",
    "    # Save the best model based on validation F1-score\n",
    "    if dev_f1 > best_dev_f1:\n",
    "        best_dev_f1 = dev_f1\n",
    "        print(\"Best Validation F1\", epoch, \": \", best_dev_f1)\n",
    "        torch.save(model.state_dict(), \"best_multimodal_model_t3.pth\")  # Save the best model\n",
    "\n",
    "    # Print epoch summary\n",
    "    print(f\"Epoch [{epoch+1}/{num_epochs}], Train Loss: {train_loss:.4f}, Val Loss: {val_loss:.4f}, Train F1: {train_f1:.4f}, Val F1: {dev_f1:.4f}\")\n"
   ]
  },
  {
   "cell_type": "code",
   "execution_count": 185,
   "metadata": {},
   "outputs": [
    {
     "data": {
      "text/plain": [
       "<All keys matched successfully>"
      ]
     },
     "execution_count": 185,
     "metadata": {},
     "output_type": "execute_result"
    }
   ],
   "source": [
    "model.load_state_dict(torch.load(\"best_multimodal_model_t3.pth\", weights_only=True))"
   ]
  },
  {
   "cell_type": "code",
   "execution_count": 186,
   "metadata": {},
   "outputs": [
    {
     "name": "stdout",
     "output_type": "stream",
     "text": [
      "Predictions:\n",
      "[0 1]\n",
      "Labels:\n",
      "[0. 1.]\n",
      "0.7609233657620754\n"
     ]
    }
   ],
   "source": [
    "# Model prediction\n",
    "model.eval()  # Set model to evaluation mode\n",
    "lab = []\n",
    "predictions = []\n",
    "with torch.no_grad():  # Disable gradient computation\n",
    "    for batch in dev_dataloader:\n",
    "        _data, labels = batch\n",
    "        output = model(_data)  # Model's prediction\n",
    "        \n",
    "        predicts = torch.sigmoid(output)  # Apply sigmoid activation\n",
    "        predicted_classes = (predicts > 0.5).int()  # Convert probabilities to binary predictions\n",
    "        #print(f\"Predicted Probabilities:\\n{predictions}\")\n",
    "        #print(f\"Predicted Classes:\\n{predicted_classes}\")\n",
    "        # Collect predictions\n",
    "        #predictions.append(output)\n",
    "        predictions.append(predicted_classes)\n",
    "        lab.append(labels)\n",
    "\n",
    "# Combine predictions into a single tensor\n",
    "#predictions = torch.cat(predicted_classes, dim=0)\n",
    "#y_pred = np.array(predictions)\n",
    "out = np.concatenate(predictions).ravel()\n",
    "labels = np.concatenate(lab).ravel()\n",
    "dev_f1 = f1_score(labels, out, average='weighted')\n",
    "print(f\"Predictions:\\n{np.unique(out)}\")\n",
    "print(f\"Labels:\\n{np.unique(labels)}\")\n",
    "print(dev_f1)"
   ]
  },
  {
   "cell_type": "code",
   "execution_count": 187,
   "metadata": {},
   "outputs": [
    {
     "name": "stdout",
     "output_type": "stream",
     "text": [
      "Predictions:\n",
      "[0 1]\n",
      "Labels:\n",
      "[0. 1.]\n",
      "0.9446212202603957\n"
     ]
    }
   ],
   "source": [
    "# Model prediction\n",
    "model.eval()  # Set model to evaluation mode\n",
    "lab = []\n",
    "predictions = []\n",
    "with torch.no_grad():  # Disable gradient computation\n",
    "    for batch in train_dataloader:\n",
    "        _data, labels = batch\n",
    "        output = model(_data)  # Model's prediction\n",
    "        \n",
    "        predicts = torch.sigmoid(output)  # Apply sigmoid activation\n",
    "        predicted_classes = (predicts > 0.5).int()  # Convert probabilities to binary predictions\n",
    "        #print(f\"Predicted Probabilities:\\n{predictions}\")\n",
    "        #print(f\"Predicted Classes:\\n{predicted_classes}\")\n",
    "        # Collect predictions\n",
    "        #predictions.append(output)\n",
    "        predictions.append(predicted_classes)\n",
    "        lab.append(labels)\n",
    "\n",
    "# Combine predictions into a single tensor\n",
    "#predictions = torch.cat(predicted_classes, dim=0)\n",
    "#y_pred = np.array(predictions)\n",
    "out_train = np.concatenate(predictions).ravel()\n",
    "labels = np.concatenate(lab).ravel()\n",
    "dev_f1 = f1_score(labels, out_train, average='weighted')\n",
    "print(f\"Predictions:\\n{np.unique(out)}\")\n",
    "print(f\"Labels:\\n{np.unique(labels)}\")\n",
    "print(dev_f1)"
   ]
  },
  {
   "cell_type": "code",
   "execution_count": 188,
   "metadata": {},
   "outputs": [
    {
     "data": {
      "image/png": "[encoded data removed]",
      "text/plain": [
       "<Figure size 800x600 with 1 Axes>"
      ]
     },
     "metadata": {},
     "output_type": "display_data"
    }
   ],
   "source": [
    "# Plot training and validation losses\n",
    "plt.figure(figsize=(8, 6))\n",
    "plt.plot(train_losses, label=\"Training Loss\")\n",
    "plt.plot(val_losses, label=\"Validation Loss\")\n",
    "plt.xlabel(\"Epoch\")\n",
    "plt.ylabel(\"Loss\")\n",
    "plt.title(\"Training and Validation Loss\")\n",
    "plt.legend()\n",
    "plt.savefig(\"loss_plot.png\")  # Save the plot\n",
    "plt.show()"
   ]
  },
  {
   "cell_type": "code",
   "execution_count": 189,
   "metadata": {},
   "outputs": [],
   "source": [
    "y_pred= out"
   ]
  },
  {
   "cell_type": "code",
   "execution_count": 190,
   "metadata": {},
   "outputs": [],
   "source": [
    "y_test = np.array(features_csv[features_csv[\"split\"]==\"dev\"][\"PTSD_label\"].values)"
   ]
  },
  {
   "cell_type": "code",
   "execution_count": 191,
   "metadata": {},
   "outputs": [
    {
     "data": {
      "text/plain": [
       "array(['female', 'male', 'unknown'], dtype=object)"
      ]
     },
     "execution_count": 191,
     "metadata": {},
     "output_type": "execute_result"
    }
   ],
   "source": [
    "np.unique(features_csv['gender'])"
   ]
  },
  {
   "cell_type": "code",
   "execution_count": 192,
   "metadata": {},
   "outputs": [],
   "source": [
    "features_csv['col_encoded'] = features_csv['gender'].map({'female': 0, 'male': 1, 'unknown':1})"
   ]
  },
  {
   "cell_type": "code",
   "execution_count": 193,
   "metadata": {},
   "outputs": [
    {
     "data": {
      "text/plain": [
       "array([0, 1])"
      ]
     },
     "execution_count": 193,
     "metadata": {},
     "output_type": "execute_result"
    }
   ],
   "source": [
    "np.unique(features_csv['col_encoded'])"
   ]
  },
  {
   "cell_type": "code",
   "execution_count": 194,
   "metadata": {},
   "outputs": [
    {
     "name": "stdout",
     "output_type": "stream",
     "text": [
      "Shape of gender_test: (56,)\n",
      "Shape of y_test: (56,)\n",
      "Shape of y_pred: (56,)\n"
     ]
    }
   ],
   "source": [
    "from fairlearn.metrics import demographic_parity_difference\n",
    "\n",
    "# Assuming `gender` corresponds to the original metadata\n",
    "# Split the dataset into training and testing sets for `gender`\n",
    "gender_train, gender_test = features_csv[features_csv[\"split\"]==\"dev\"][\"col_encoded\"], features_csv[features_csv[\"split\"]==\"dev\"][\"col_encoded\"]\n",
    "\n",
    "# Ensure that `gender_test`, `y_test`, and `y_pred` are aligned\n",
    "print(f\"Shape of gender_test: {gender_train.shape}\")\n",
    "print(f\"Shape of y_test: {y_test.shape}\")\n",
    "print(f\"Shape of y_pred: {y_pred.shape}\")\n",
    "\n"
   ]
  },
  {
   "cell_type": "code",
   "execution_count": 195,
   "metadata": {},
   "outputs": [
    {
     "name": "stdout",
     "output_type": "stream",
     "text": [
      "Demographic Parity Difference: 0.07777777777777778\n"
     ]
    }
   ],
   "source": [
    "# Calculate Demographic Parity Difference\n",
    "demographic_parity = demographic_parity_difference(\n",
    "    y_true=y_test,\n",
    "    y_pred=y_pred,\n",
    "    sensitive_features=gender_train\n",
    ")\n",
    "\n",
    "print(f\"Demographic Parity Difference: {demographic_parity}\")"
   ]
  },
  {
   "cell_type": "code",
   "execution_count": 196,
   "metadata": {},
   "outputs": [
    {
     "name": "stdout",
     "output_type": "stream",
     "text": [
      "Selection Rates by Group:\n",
      "col_encoded\n",
      "0    0.300000\n",
      "1    0.222222\n",
      "Name: selection_rate, dtype: float64\n"
     ]
    }
   ],
   "source": [
    "from fairlearn.metrics import MetricFrame, selection_rate\n",
    "metric_frame = MetricFrame(metrics=selection_rate, \n",
    "                           y_true=y_test, \n",
    "                           y_pred=y_pred, \n",
    "                           sensitive_features=gender_train)\n",
    "\n",
    "# Get selection rates for each group\n",
    "selection_rates = metric_frame.by_group\n",
    "print(\"Selection Rates by Group:\")\n",
    "print(selection_rates)\n"
   ]
  },
  {
   "cell_type": "code",
   "execution_count": 197,
   "metadata": {},
   "outputs": [
    {
     "name": "stdout",
     "output_type": "stream",
     "text": [
      "Demographic Parity Ratio: 0.7407407407407407\n"
     ]
    }
   ],
   "source": [
    "group_a_rate = selection_rates[1]\n",
    "group_b_rate = selection_rates[0]\n",
    "\n",
    "if group_b_rate > 0:  # Avoid division by zero\n",
    "    demographic_parity_ratio = group_a_rate / group_b_rate\n",
    "    print(f\"Demographic Parity Ratio: {demographic_parity_ratio}\")\n",
    "    if demographic_parity_ratio>1:\n",
    "        print(1/demographic_parity_ratio)"
   ]
  },
  {
   "cell_type": "code",
   "execution_count": null,
   "metadata": {},
   "outputs": [],
   "source": []
  },
  {
   "attachments": {},
   "cell_type": "markdown",
   "metadata": {},
   "source": [
    "## T4"
   ]
  },
  {
   "cell_type": "code",
   "execution_count": 198,
   "metadata": {},
   "outputs": [],
   "source": [
    "# Example usage\n",
    "model = MultiModalDeepConvLSTM(\n",
    "    modality_configs=[(768, 128),(80, 128)],\n",
    "    lstm_hidden_size=128, \n",
    "    lstm_layers=2, \n",
    "    output_size=1, \n",
    "    dropout=0.5\n",
    ")"
   ]
  },
  {
   "cell_type": "code",
   "execution_count": 199,
   "metadata": {},
   "outputs": [
    {
     "data": {
      "text/plain": [
       "1603201"
      ]
     },
     "execution_count": 199,
     "metadata": {},
     "output_type": "execute_result"
    }
   ],
   "source": [
    "sum(p.numel() for p in model.parameters() if p.requires_grad)"
   ]
  },
  {
   "cell_type": "code",
   "execution_count": 200,
   "metadata": {},
   "outputs": [],
   "source": [
    "learning_rate = 0.001\n",
    "num_epochs = 20\n",
    "optimizer = optim.AdamW(model.parameters(), lr=learning_rate)"
   ]
  },
  {
   "cell_type": "code",
   "execution_count": 201,
   "metadata": {},
   "outputs": [],
   "source": [
    "labels_torch = torch.from_numpy(features_csv[features_csv[\"split\"]==\"train\"][\"PTSD_label\"].values)"
   ]
  },
  {
   "cell_type": "markdown",
   "metadata": {},
   "source": [
    "For example, if a dataset contains 100 positive and 300 negative examples of a single class, then pos_weight for the class should be equal to 300/100=3. The loss would act as if the dataset contains 3×100=300 positive examples."
   ]
  },
  {
   "cell_type": "code",
   "execution_count": 202,
   "metadata": {},
   "outputs": [
    {
     "name": "stdout",
     "output_type": "stream",
     "text": [
      "tensor([114,  49])\n",
      "tensor(2.3265)\n"
     ]
    }
   ],
   "source": [
    "# Calculate class weights\n",
    "class_counts = torch.bincount(labels_torch)  # Get counts for each class\n",
    "print(class_counts)\n",
    "class_weight = class_counts[0] / class_counts[1]\n",
    "print(class_weight)\n",
    "# Apply weights to loss function\n",
    "criterion = nn.BCEWithLogitsLoss(pos_weight=class_weight)  # Weight for positive class\n"
   ]
  },
  {
   "cell_type": "code",
   "execution_count": 203,
   "metadata": {},
   "outputs": [
    {
     "name": "stdout",
     "output_type": "stream",
     "text": [
      "Best Validation F1 0 :  0.6226708074534162\n",
      "Epoch [1/20], Train Loss: 0.9748, Val Loss: 0.9538, Train F1: 0.2932, Val F1: 0.6227\n",
      "Best Validation F1 1 :  0.6868014631172527\n",
      "Epoch [2/20], Train Loss: 0.9647, Val Loss: 0.9470, Train F1: 0.5726, Val F1: 0.6868\n",
      "Best Validation F1 2 :  0.7376447876447878\n",
      "Epoch [3/20], Train Loss: 0.9381, Val Loss: 0.8935, Train F1: 0.6470, Val F1: 0.7376\n",
      "Epoch [4/20], Train Loss: 0.9382, Val Loss: 0.9869, Train F1: 0.6721, Val F1: 0.6172\n",
      "Epoch [5/20], Train Loss: 0.7659, Val Loss: 0.8673, Train F1: 0.7177, Val F1: 0.7252\n",
      "Epoch [6/20], Train Loss: 0.6760, Val Loss: 1.1332, Train F1: 0.8348, Val F1: 0.6385\n",
      "Epoch [7/20], Train Loss: 0.4983, Val Loss: 1.0956, Train F1: 0.8436, Val F1: 0.6730\n",
      "Epoch [8/20], Train Loss: 0.5081, Val Loss: 1.3008, Train F1: 0.8728, Val F1: 0.6217\n",
      "Epoch [9/20], Train Loss: 0.4381, Val Loss: 1.0517, Train F1: 0.8850, Val F1: 0.6893\n",
      "Epoch [10/20], Train Loss: 0.2818, Val Loss: 2.2095, Train F1: 0.9327, Val F1: 0.4847\n",
      "Epoch [11/20], Train Loss: 0.4944, Val Loss: 2.0197, Train F1: 0.8650, Val F1: 0.5496\n",
      "Epoch [12/20], Train Loss: 0.5679, Val Loss: 1.0778, Train F1: 0.8333, Val F1: 0.7074\n",
      "Epoch [13/20], Train Loss: 0.3524, Val Loss: 1.3144, Train F1: 0.9331, Val F1: 0.6173\n",
      "Epoch [14/20], Train Loss: 0.2933, Val Loss: 1.7776, Train F1: 0.9512, Val F1: 0.5857\n",
      "Epoch [15/20], Train Loss: 0.2092, Val Loss: 1.9513, Train F1: 0.9396, Val F1: 0.7143\n",
      "Epoch [16/20], Train Loss: 0.3973, Val Loss: 1.9322, Train F1: 0.8975, Val F1: 0.6362\n",
      "Epoch [17/20], Train Loss: 0.4978, Val Loss: 1.5689, Train F1: 0.8345, Val F1: 0.5715\n",
      "Epoch [18/20], Train Loss: 0.3106, Val Loss: 1.3957, Train F1: 0.9041, Val F1: 0.6988\n",
      "Epoch [19/20], Train Loss: 0.2819, Val Loss: 1.6373, Train F1: 0.9268, Val F1: 0.5712\n",
      "Epoch [20/20], Train Loss: 0.1843, Val Loss: 1.6351, Train F1: 0.9632, Val F1: 0.6677\n"
     ]
    }
   ],
   "source": [
    "from sklearn.metrics import f1_score\n",
    "\n",
    "# Define variables to track losses\n",
    "train_losses = []\n",
    "val_losses = []\n",
    "best_dev_f1 = float('-inf')  # Initialize best validation F1 score\n",
    "\n",
    "# Training loop\n",
    "for epoch in range(num_epochs):\n",
    "    model.train()  # Set model to training mode\n",
    "\n",
    "    running_train_loss = 0.0\n",
    "    all_train_labels = []\n",
    "    all_train_preds = []\n",
    "    all_dev_labels = []\n",
    "    all_dev_preds = []\n",
    "\n",
    "    # Training Phase\n",
    "    for batch in train_dataloader:\n",
    "        modalities, labels = batch  # Unpack modalities and labels\n",
    "        optimizer.zero_grad()\n",
    "\n",
    "        # Concatenate modalities along the feature dimension (if required by the model)\n",
    "        #inputs = torch.cat(modalities, dim=-1)  # Shape: (batch_size, time_steps, combined_features)\n",
    "        output = model(modalities)  # Forward pass through the model\n",
    "\n",
    "        # Reshape labels to match the output shape\n",
    "        labels = labels.view(output.shape)\n",
    "\n",
    "        # Compute loss\n",
    "        loss = criterion(output, labels)\n",
    "        loss.backward()  # Backpropagation\n",
    "        optimizer.step()  # Update model parameters\n",
    "\n",
    "        # Accumulate training loss\n",
    "        running_train_loss += loss.item()\n",
    "\n",
    "        # Convert logits to predictions (assuming binary classification)\n",
    "        preds = (torch.sigmoid(output) > 0.5).int()\n",
    "        all_train_labels.extend(labels.cpu().numpy().flatten())\n",
    "        all_train_preds.extend(preds.cpu().numpy().flatten())\n",
    "\n",
    "    # Average training loss for the epoch\n",
    "    train_loss = running_train_loss / len(train_dataloader)\n",
    "    train_losses.append(train_loss)\n",
    "\n",
    "    # Validation Phase\n",
    "    model.eval()  # Set model to evaluation mode\n",
    "    running_val_loss = 0.0\n",
    "\n",
    "    with torch.no_grad():  # Disable gradient computation for validation\n",
    "        for batch in dev_dataloader:  # Use validation DataLoader\n",
    "            modalities, labels = batch  # Unpack modalities and labels\n",
    "\n",
    "            # Concatenate modalities along the feature dimension\n",
    "            #inputs = torch.cat(modalities, dim=-1)  # Shape: (batch_size, time_steps, combined_features)\n",
    "            output = model(modalities)  # Forward pass\n",
    "\n",
    "            # Reshape labels to match the output shape\n",
    "            labels = labels.view(output.shape)\n",
    "\n",
    "            # Compute validation loss\n",
    "            loss = criterion(output, labels)\n",
    "            running_val_loss += loss.item()\n",
    "\n",
    "            # Convert logits to predictions\n",
    "            preds = (torch.sigmoid(output) > 0.5).int()\n",
    "            all_dev_labels.extend(labels.cpu().numpy().flatten())\n",
    "            all_dev_preds.extend(preds.cpu().numpy().flatten())\n",
    "\n",
    "    # Average validation loss for the epoch\n",
    "    val_loss = running_val_loss / len(dev_dataloader)\n",
    "    val_losses.append(val_loss)\n",
    "\n",
    "    # Compute F1-score for training and validation\n",
    "    train_f1 = f1_score(all_train_labels, all_train_preds, average='weighted')\n",
    "    dev_f1 = f1_score(all_dev_labels, all_dev_preds, average='weighted')\n",
    "\n",
    "    # Save the best model based on validation F1-score\n",
    "    if dev_f1 > best_dev_f1:\n",
    "        best_dev_f1 = dev_f1\n",
    "        print(\"Best Validation F1\", epoch, \": \", best_dev_f1)\n",
    "        torch.save(model.state_dict(), \"best_multimodal_model_t4.pth\")  # Save the best model\n",
    "\n",
    "    # Print epoch summary\n",
    "    print(f\"Epoch [{epoch+1}/{num_epochs}], Train Loss: {train_loss:.4f}, Val Loss: {val_loss:.4f}, Train F1: {train_f1:.4f}, Val F1: {dev_f1:.4f}\")\n"
   ]
  },
  {
   "cell_type": "code",
   "execution_count": 204,
   "metadata": {},
   "outputs": [
    {
     "data": {
      "text/plain": [
       "<All keys matched successfully>"
      ]
     },
     "execution_count": 204,
     "metadata": {},
     "output_type": "execute_result"
    }
   ],
   "source": [
    "model.load_state_dict(torch.load(\"best_multimodal_model_t4.pth\", weights_only=True))"
   ]
  },
  {
   "cell_type": "code",
   "execution_count": 205,
   "metadata": {},
   "outputs": [
    {
     "name": "stdout",
     "output_type": "stream",
     "text": [
      "Predictions:\n",
      "[0 1]\n",
      "Labels:\n",
      "[0. 1.]\n",
      "0.7376447876447878\n"
     ]
    }
   ],
   "source": [
    "# Model prediction\n",
    "model.eval()  # Set model to evaluation mode\n",
    "lab = []\n",
    "predictions = []\n",
    "with torch.no_grad():  # Disable gradient computation\n",
    "    for batch in dev_dataloader:\n",
    "        _data, labels = batch\n",
    "        output = model(_data)  # Model's prediction\n",
    "        \n",
    "        predicts = torch.sigmoid(output)  # Apply sigmoid activation\n",
    "        predicted_classes = (predicts > 0.5).int()  # Convert probabilities to binary predictions\n",
    "        #print(f\"Predicted Probabilities:\\n{predictions}\")\n",
    "        #print(f\"Predicted Classes:\\n{predicted_classes}\")\n",
    "        # Collect predictions\n",
    "        #predictions.append(output)\n",
    "        predictions.append(predicted_classes)\n",
    "        lab.append(labels)\n",
    "\n",
    "# Combine predictions into a single tensor\n",
    "#predictions = torch.cat(predicted_classes, dim=0)\n",
    "#y_pred = np.array(predictions)\n",
    "out = np.concatenate(predictions).ravel()\n",
    "labels = np.concatenate(lab).ravel()\n",
    "dev_f1 = f1_score(labels, out, average='weighted')\n",
    "print(f\"Predictions:\\n{np.unique(out)}\")\n",
    "print(f\"Labels:\\n{np.unique(labels)}\")\n",
    "print(dev_f1)"
   ]
  },
  {
   "cell_type": "code",
   "execution_count": 206,
   "metadata": {},
   "outputs": [
    {
     "name": "stdout",
     "output_type": "stream",
     "text": [
      "Predictions:\n",
      "[0 1]\n",
      "Labels:\n",
      "[0. 1.]\n",
      "0.7611699820288778\n"
     ]
    }
   ],
   "source": [
    "# Model prediction\n",
    "model.eval()  # Set model to evaluation mode\n",
    "lab = []\n",
    "predictions = []\n",
    "with torch.no_grad():  # Disable gradient computation\n",
    "    for batch in train_dataloader:\n",
    "        _data, labels = batch\n",
    "        output = model(_data)  # Model's prediction\n",
    "        \n",
    "        predicts = torch.sigmoid(output)  # Apply sigmoid activation\n",
    "        predicted_classes = (predicts > 0.5).int()  # Convert probabilities to binary predictions\n",
    "        #print(f\"Predicted Probabilities:\\n{predictions}\")\n",
    "        #print(f\"Predicted Classes:\\n{predicted_classes}\")\n",
    "        # Collect predictions\n",
    "        #predictions.append(output)\n",
    "        predictions.append(predicted_classes)\n",
    "        lab.append(labels)\n",
    "\n",
    "# Combine predictions into a single tensor\n",
    "#predictions = torch.cat(predicted_classes, dim=0)\n",
    "#y_pred = np.array(predictions)\n",
    "out_train = np.concatenate(predictions).ravel()\n",
    "labels = np.concatenate(lab).ravel()\n",
    "dev_f1 = f1_score(labels, out_train, average='weighted')\n",
    "print(f\"Predictions:\\n{np.unique(out)}\")\n",
    "print(f\"Labels:\\n{np.unique(labels)}\")\n",
    "print(dev_f1)"
   ]
  },
  {
   "cell_type": "code",
   "execution_count": 207,
   "metadata": {},
   "outputs": [
    {
     "data": {
      "image/png": "[encoded data removed]",
      "text/plain": [
       "<Figure size 800x600 with 1 Axes>"
      ]
     },
     "metadata": {},
     "output_type": "display_data"
    }
   ],
   "source": [
    "# Plot training and validation losses\n",
    "plt.figure(figsize=(8, 6))\n",
    "plt.plot(train_losses, label=\"Training Loss\")\n",
    "plt.plot(val_losses, label=\"Validation Loss\")\n",
    "plt.xlabel(\"Epoch\")\n",
    "plt.ylabel(\"Loss\")\n",
    "plt.title(\"Training and Validation Loss\")\n",
    "plt.legend()\n",
    "plt.savefig(\"loss_plot.png\")  # Save the plot\n",
    "plt.show()"
   ]
  },
  {
   "cell_type": "code",
   "execution_count": 208,
   "metadata": {},
   "outputs": [],
   "source": [
    "y_pred= out"
   ]
  },
  {
   "cell_type": "code",
   "execution_count": 209,
   "metadata": {},
   "outputs": [],
   "source": [
    "y_test = np.array(features_csv[features_csv[\"split\"]==\"dev\"][\"PTSD_label\"].values)"
   ]
  },
  {
   "cell_type": "code",
   "execution_count": 210,
   "metadata": {},
   "outputs": [
    {
     "data": {
      "text/plain": [
       "array(['female', 'male', 'unknown'], dtype=object)"
      ]
     },
     "execution_count": 210,
     "metadata": {},
     "output_type": "execute_result"
    }
   ],
   "source": [
    "np.unique(features_csv['gender'])"
   ]
  },
  {
   "cell_type": "code",
   "execution_count": 211,
   "metadata": {},
   "outputs": [],
   "source": [
    "features_csv['col_encoded'] = features_csv['gender'].map({'female': 0, 'male': 1, 'unknown':1})"
   ]
  },
  {
   "cell_type": "code",
   "execution_count": 212,
   "metadata": {},
   "outputs": [
    {
     "data": {
      "text/plain": [
       "array([0, 1])"
      ]
     },
     "execution_count": 212,
     "metadata": {},
     "output_type": "execute_result"
    }
   ],
   "source": [
    "np.unique(features_csv['col_encoded'])"
   ]
  },
  {
   "cell_type": "code",
   "execution_count": 213,
   "metadata": {},
   "outputs": [
    {
     "name": "stdout",
     "output_type": "stream",
     "text": [
      "Shape of gender_test: (56,)\n",
      "Shape of y_test: (56,)\n",
      "Shape of y_pred: (56,)\n"
     ]
    }
   ],
   "source": [
    "from fairlearn.metrics import demographic_parity_difference\n",
    "\n",
    "# Assuming `gender` corresponds to the original metadata\n",
    "# Split the dataset into training and testing sets for `gender`\n",
    "gender_train, gender_test = features_csv[features_csv[\"split\"]==\"dev\"][\"col_encoded\"], features_csv[features_csv[\"split\"]==\"dev\"][\"col_encoded\"]\n",
    "\n",
    "# Ensure that `gender_test`, `y_test`, and `y_pred` are aligned\n",
    "print(f\"Shape of gender_test: {gender_train.shape}\")\n",
    "print(f\"Shape of y_test: {y_test.shape}\")\n",
    "print(f\"Shape of y_pred: {y_pred.shape}\")\n",
    "\n"
   ]
  },
  {
   "cell_type": "code",
   "execution_count": 214,
   "metadata": {},
   "outputs": [
    {
     "name": "stdout",
     "output_type": "stream",
     "text": [
      "Demographic Parity Difference: 0.011111111111111127\n"
     ]
    }
   ],
   "source": [
    "# Calculate Demographic Parity Difference\n",
    "demographic_parity = demographic_parity_difference(\n",
    "    y_true=y_test,\n",
    "    y_pred=y_pred,\n",
    "    sensitive_features=gender_train\n",
    ")\n",
    "\n",
    "print(f\"Demographic Parity Difference: {demographic_parity}\")"
   ]
  },
  {
   "cell_type": "code",
   "execution_count": 215,
   "metadata": {},
   "outputs": [
    {
     "name": "stdout",
     "output_type": "stream",
     "text": [
      "Selection Rates by Group:\n",
      "col_encoded\n",
      "0    0.350000\n",
      "1    0.361111\n",
      "Name: selection_rate, dtype: float64\n"
     ]
    }
   ],
   "source": [
    "from fairlearn.metrics import MetricFrame, selection_rate\n",
    "metric_frame = MetricFrame(metrics=selection_rate, \n",
    "                           y_true=y_test, \n",
    "                           y_pred=y_pred, \n",
    "                           sensitive_features=gender_train)\n",
    "\n",
    "# Get selection rates for each group\n",
    "selection_rates = metric_frame.by_group\n",
    "print(\"Selection Rates by Group:\")\n",
    "print(selection_rates)\n"
   ]
  },
  {
   "cell_type": "code",
   "execution_count": 216,
   "metadata": {},
   "outputs": [
    {
     "name": "stdout",
     "output_type": "stream",
     "text": [
      "Demographic Parity Ratio: 1.0317460317460319\n",
      "0.9692307692307691\n"
     ]
    }
   ],
   "source": [
    "group_a_rate = selection_rates[1]\n",
    "group_b_rate = selection_rates[0]\n",
    "\n",
    "if group_b_rate > 0:  # Avoid division by zero\n",
    "    demographic_parity_ratio = group_a_rate / group_b_rate\n",
    "    print(f\"Demographic Parity Ratio: {demographic_parity_ratio}\")\n",
    "    if demographic_parity_ratio>1:\n",
    "        print(1/demographic_parity_ratio)"
   ]
  },
  {
   "cell_type": "code",
   "execution_count": null,
   "metadata": {},
   "outputs": [],
   "source": []
  },
  {
   "attachments": {},
   "cell_type": "markdown",
   "metadata": {},
   "source": [
    "# Audio_Text_Model resampling"
   ]
  },
  {
   "cell_type": "code",
   "execution_count": 217,
   "metadata": {},
   "outputs": [],
   "source": [
    "features_csv = pd.read_csv(\"/home/hice1/mbibars3/scratch/vlm-debiasing/data/e-daic/undersampled_embeddings.csv\")"
   ]
  },
  {
   "cell_type": "code",
   "execution_count": 218,
   "metadata": {},
   "outputs": [
    {
     "data": {
      "text/html": [
       "<div>\n",
       "<style scoped>\n",
       "    .dataframe tbody tr th:only-of-type {\n",
       "        vertical-align: middle;\n",
       "    }\n",
       "\n",
       "    .dataframe tbody tr th {\n",
       "        vertical-align: top;\n",
       "    }\n",
       "\n",
       "    .dataframe thead th {\n",
       "        text-align: right;\n",
       "    }\n",
       "</style>\n",
       "<table border=\"1\" class=\"dataframe\">\n",
       "  <thead>\n",
       "    <tr style=\"text-align: right;\">\n",
       "      <th></th>\n",
       "      <th>split</th>\n",
       "      <th>PTSD_severity</th>\n",
       "      <th>PTSD_label</th>\n",
       "      <th>gender</th>\n",
       "      <th>audio</th>\n",
       "      <th>text</th>\n",
       "    </tr>\n",
       "  </thead>\n",
       "  <tbody>\n",
       "    <tr>\n",
       "      <th>0</th>\n",
       "      <td>train</td>\n",
       "      <td>51.0</td>\n",
       "      <td>1</td>\n",
       "      <td>female</td>\n",
       "      <td>/home/hice1/mbibars3/scratch/vlm-debiasing/dat...</td>\n",
       "      <td>/home/hice1/mbibars3/scratch/vlm-debiasing/dat...</td>\n",
       "    </tr>\n",
       "    <tr>\n",
       "      <th>1</th>\n",
       "      <td>test</td>\n",
       "      <td>26.0</td>\n",
       "      <td>0</td>\n",
       "      <td>male</td>\n",
       "      <td>/home/hice1/mbibars3/scratch/vlm-debiasing/dat...</td>\n",
       "      <td>/home/hice1/mbibars3/scratch/vlm-debiasing/dat...</td>\n",
       "    </tr>\n",
       "    <tr>\n",
       "      <th>2</th>\n",
       "      <td>test</td>\n",
       "      <td>49.0</td>\n",
       "      <td>0</td>\n",
       "      <td>female</td>\n",
       "      <td>/home/hice1/mbibars3/scratch/vlm-debiasing/dat...</td>\n",
       "      <td>/home/hice1/mbibars3/scratch/vlm-debiasing/dat...</td>\n",
       "    </tr>\n",
       "    <tr>\n",
       "      <th>3</th>\n",
       "      <td>test</td>\n",
       "      <td>19.0</td>\n",
       "      <td>0</td>\n",
       "      <td>male</td>\n",
       "      <td>/home/hice1/mbibars3/scratch/vlm-debiasing/dat...</td>\n",
       "      <td>/home/hice1/mbibars3/scratch/vlm-debiasing/dat...</td>\n",
       "    </tr>\n",
       "    <tr>\n",
       "      <th>4</th>\n",
       "      <td>dev</td>\n",
       "      <td>21.0</td>\n",
       "      <td>0</td>\n",
       "      <td>female</td>\n",
       "      <td>/home/hice1/mbibars3/scratch/vlm-debiasing/dat...</td>\n",
       "      <td>/home/hice1/mbibars3/scratch/vlm-debiasing/dat...</td>\n",
       "    </tr>\n",
       "  </tbody>\n",
       "</table>\n",
       "</div>"
      ],
      "text/plain": [
       "   split  PTSD_severity  PTSD_label  gender  \\\n",
       "0  train           51.0           1  female   \n",
       "1   test           26.0           0    male   \n",
       "2   test           49.0           0  female   \n",
       "3   test           19.0           0    male   \n",
       "4    dev           21.0           0  female   \n",
       "\n",
       "                                               audio  \\\n",
       "0  /home/hice1/mbibars3/scratch/vlm-debiasing/dat...   \n",
       "1  /home/hice1/mbibars3/scratch/vlm-debiasing/dat...   \n",
       "2  /home/hice1/mbibars3/scratch/vlm-debiasing/dat...   \n",
       "3  /home/hice1/mbibars3/scratch/vlm-debiasing/dat...   \n",
       "4  /home/hice1/mbibars3/scratch/vlm-debiasing/dat...   \n",
       "\n",
       "                                                text  \n",
       "0  /home/hice1/mbibars3/scratch/vlm-debiasing/dat...  \n",
       "1  /home/hice1/mbibars3/scratch/vlm-debiasing/dat...  \n",
       "2  /home/hice1/mbibars3/scratch/vlm-debiasing/dat...  \n",
       "3  /home/hice1/mbibars3/scratch/vlm-debiasing/dat...  \n",
       "4  /home/hice1/mbibars3/scratch/vlm-debiasing/dat...  "
      ]
     },
     "execution_count": 218,
     "metadata": {},
     "output_type": "execute_result"
    }
   ],
   "source": [
    "features_csv.head()"
   ]
  },
  {
   "cell_type": "code",
   "execution_count": 219,
   "metadata": {},
   "outputs": [],
   "source": [
    "input_columns = ['audio','text']\n",
    "label_column = 'PTSD_label'\n",
    "\n",
    "train_dataset = PatientMultiModalityDataset(features_csv[features_csv[\"split\"]==\"train\"], input_columns=input_columns, label_column=label_column, normalize=True)\n",
    "dev_dataset = PatientMultiModalityDataset(features_csv[features_csv[\"split\"]==\"dev\"], input_columns=input_columns, label_column=label_column, normalize=True)\n"
   ]
  },
  {
   "cell_type": "code",
   "execution_count": 220,
   "metadata": {},
   "outputs": [
    {
     "name": "stdout",
     "output_type": "stream",
     "text": [
      "Len of data:2, len of labels: 10\n",
      "modality_0 Data Shape: torch.Size([10, 1214, 768])\n",
      "modality_1 Data Shape: torch.Size([10, 768, 80])\n",
      "Len of data:2, len of labels: 10\n",
      "modality_0 Data Shape: torch.Size([10, 1214, 768])\n",
      "modality_1 Data Shape: torch.Size([10, 768, 80])\n"
     ]
    }
   ],
   "source": [
    "from torch.utils.data import DataLoader\n",
    "\n",
    "batch_size = 10\n",
    "train_dataloader = DataLoader(train_dataset, batch_size=batch_size, shuffle=True, collate_fn=collate_fn)\n",
    "dev_dataloader = DataLoader(dev_dataset, batch_size=batch_size, shuffle=False)\n",
    "\n",
    "i = 0\n",
    "for batch_data, batch_labels in train_dataloader:\n",
    "    print(f\"Len of data:{len(batch_data)}, len of labels: {len(batch_labels)}\")\n",
    "    for j,m in enumerate(batch_data):\n",
    "        print(f\"modality_{j} Data Shape: {m.shape}\")\n",
    "    i+=1\n",
    "    if i == 2:\n",
    "        break\n"
   ]
  },
  {
   "cell_type": "markdown",
   "metadata": {},
   "source": [
    "## T1"
   ]
  },
  {
   "cell_type": "code",
   "execution_count": 221,
   "metadata": {},
   "outputs": [],
   "source": [
    "# Example usage\n",
    "model = MultiModalDeepConvLSTM(\n",
    "    modality_configs=[(768, 512),(80, 512)],\n",
    "    lstm_hidden_size=128, \n",
    "    lstm_layers=2, \n",
    "    output_size=1, \n",
    "    dropout=0.5\n",
    ")"
   ]
  },
  {
   "cell_type": "code",
   "execution_count": 222,
   "metadata": {},
   "outputs": [
    {
     "data": {
      "text/plain": [
       "9355393"
      ]
     },
     "execution_count": 222,
     "metadata": {},
     "output_type": "execute_result"
    }
   ],
   "source": [
    "sum(p.numel() for p in model.parameters() if p.requires_grad)"
   ]
  },
  {
   "cell_type": "code",
   "execution_count": 223,
   "metadata": {},
   "outputs": [],
   "source": [
    "learning_rate = 0.001\n",
    "num_epochs = 50\n",
    "optimizer = optim.AdamW(model.parameters(), lr=learning_rate)"
   ]
  },
  {
   "cell_type": "code",
   "execution_count": 224,
   "metadata": {},
   "outputs": [],
   "source": [
    "labels_torch = torch.from_numpy(features_csv[features_csv[\"split\"]==\"train\"][\"PTSD_label\"].values)"
   ]
  },
  {
   "cell_type": "markdown",
   "metadata": {},
   "source": [
    "For example, if a dataset contains 100 positive and 300 negative examples of a single class, then pos_weight for the class should be equal to 300/100=3. The loss would act as if the dataset contains 3×100=300 positive examples."
   ]
  },
  {
   "cell_type": "code",
   "execution_count": 225,
   "metadata": {},
   "outputs": [
    {
     "name": "stdout",
     "output_type": "stream",
     "text": [
      "tensor([87, 42])\n",
      "tensor(2.0714)\n"
     ]
    }
   ],
   "source": [
    "# Calculate class weights\n",
    "class_counts = torch.bincount(labels_torch)  # Get counts for each class\n",
    "print(class_counts)\n",
    "class_weight = class_counts[0] / class_counts[1]\n",
    "print(class_weight)\n",
    "# Apply weights to loss function\n",
    "criterion = nn.BCEWithLogitsLoss(pos_weight=class_weight)  # Weight for positive class\n"
   ]
  },
  {
   "cell_type": "code",
   "execution_count": 226,
   "metadata": {},
   "outputs": [
    {
     "name": "stdout",
     "output_type": "stream",
     "text": [
      "Best Validation F1 0 :  0.6792627745281978\n",
      "Epoch [1/50], Train Loss: 0.9513, Val Loss: 0.8743, Train F1: 0.5111, Val F1: 0.6793\n",
      "Epoch [2/50], Train Loss: 0.9176, Val Loss: 0.8897, Train F1: 0.5720, Val F1: 0.5227\n",
      "Epoch [3/50], Train Loss: 0.9172, Val Loss: 0.9016, Train F1: 0.4313, Val F1: 0.4679\n",
      "Epoch [4/50], Train Loss: 0.9016, Val Loss: 0.8703, Train F1: 0.6374, Val F1: 0.6165\n",
      "Best Validation F1 4 :  0.7313139260424862\n",
      "Epoch [5/50], Train Loss: 0.8399, Val Loss: 0.8558, Train F1: 0.7050, Val F1: 0.7313\n",
      "Epoch [6/50], Train Loss: 0.7358, Val Loss: 1.0701, Train F1: 0.7688, Val F1: 0.5040\n",
      "Epoch [7/50], Train Loss: 0.6961, Val Loss: 1.3211, Train F1: 0.7669, Val F1: 0.6165\n",
      "Epoch [8/50], Train Loss: 0.4882, Val Loss: 1.3800, Train F1: 0.8908, Val F1: 0.5873\n",
      "Epoch [9/50], Train Loss: 0.3673, Val Loss: 1.5513, Train F1: 0.9010, Val F1: 0.5503\n",
      "Epoch [10/50], Train Loss: 0.7101, Val Loss: 1.6681, Train F1: 0.7655, Val F1: 0.3377\n",
      "Epoch [11/50], Train Loss: 0.4398, Val Loss: 1.3714, Train F1: 0.8773, Val F1: 0.5474\n",
      "Epoch [12/50], Train Loss: 0.4052, Val Loss: 1.4752, Train F1: 0.8767, Val F1: 0.4998\n",
      "Epoch [13/50], Train Loss: 0.2242, Val Loss: 1.8695, Train F1: 0.9459, Val F1: 0.5503\n",
      "Epoch [14/50], Train Loss: 0.2718, Val Loss: 2.2480, Train F1: 0.9376, Val F1: 0.5503\n",
      "Epoch [15/50], Train Loss: 0.2666, Val Loss: 2.0800, Train F1: 0.9229, Val F1: 0.5410\n",
      "Epoch [16/50], Train Loss: 0.2874, Val Loss: 1.9038, Train F1: 0.9225, Val F1: 0.5122\n",
      "Epoch [17/50], Train Loss: 0.2647, Val Loss: 1.4900, Train F1: 0.9229, Val F1: 0.5685\n",
      "Epoch [18/50], Train Loss: 0.2398, Val Loss: 1.7897, Train F1: 0.9538, Val F1: 0.5122\n",
      "Epoch [19/50], Train Loss: 0.2112, Val Loss: 1.9599, Train F1: 0.9459, Val F1: 0.6040\n",
      "Epoch [20/50], Train Loss: 0.0969, Val Loss: 2.7988, Train F1: 0.9768, Val F1: 0.4568\n",
      "Epoch [21/50], Train Loss: 0.0986, Val Loss: 2.5693, Train F1: 0.9693, Val F1: 0.5040\n",
      "Epoch [22/50], Train Loss: 0.1412, Val Loss: 2.7821, Train F1: 0.9690, Val F1: 0.5206\n",
      "Epoch [23/50], Train Loss: 0.2771, Val Loss: 2.8154, Train F1: 0.9300, Val F1: 0.4344\n",
      "Epoch [24/50], Train Loss: 0.1566, Val Loss: 2.1323, Train F1: 0.9389, Val F1: 0.4785\n",
      "Epoch [25/50], Train Loss: 0.0935, Val Loss: 2.1077, Train F1: 0.9923, Val F1: 0.5122\n",
      "Epoch [26/50], Train Loss: 0.5093, Val Loss: 1.6884, Train F1: 0.8480, Val F1: 0.5951\n",
      "Epoch [27/50], Train Loss: 0.3044, Val Loss: 1.6139, Train F1: 0.9139, Val F1: 0.5320\n",
      "Epoch [28/50], Train Loss: 0.1608, Val Loss: 1.8386, Train F1: 0.9380, Val F1: 0.6165\n",
      "Epoch [29/50], Train Loss: 0.0660, Val Loss: 2.2564, Train F1: 0.9923, Val F1: 0.5734\n",
      "Epoch [30/50], Train Loss: 0.0676, Val Loss: 2.6179, Train F1: 0.9692, Val F1: 0.5040\n",
      "Epoch [31/50], Train Loss: 0.1148, Val Loss: 2.4191, Train F1: 0.9767, Val F1: 0.5610\n",
      "Epoch [32/50], Train Loss: 0.1435, Val Loss: 2.1997, Train F1: 0.9465, Val F1: 0.5685\n",
      "Epoch [33/50], Train Loss: 0.1619, Val Loss: 2.2807, Train F1: 0.9532, Val F1: 0.5314\n",
      "Epoch [34/50], Train Loss: 0.1377, Val Loss: 2.6175, Train F1: 0.9618, Val F1: 0.4821\n",
      "Epoch [35/50], Train Loss: 0.0832, Val Loss: 2.8616, Train F1: 0.9767, Val F1: 0.4926\n",
      "Epoch [36/50], Train Loss: 0.0523, Val Loss: 2.9533, Train F1: 0.9846, Val F1: 0.5206\n",
      "Epoch [37/50], Train Loss: 0.0355, Val Loss: 3.1300, Train F1: 0.9923, Val F1: 0.4821\n",
      "Epoch [38/50], Train Loss: 0.0924, Val Loss: 3.1067, Train F1: 0.9922, Val F1: 0.4821\n",
      "Epoch [39/50], Train Loss: 0.0182, Val Loss: 3.1167, Train F1: 1.0000, Val F1: 0.5122\n",
      "Epoch [40/50], Train Loss: 0.0148, Val Loss: 3.2563, Train F1: 0.9923, Val F1: 0.5314\n",
      "Epoch [41/50], Train Loss: 0.3707, Val Loss: 3.3227, Train F1: 0.9456, Val F1: 0.4785\n",
      "Epoch [42/50], Train Loss: 0.1223, Val Loss: 2.7907, Train F1: 0.9616, Val F1: 0.5040\n",
      "Epoch [43/50], Train Loss: 0.0865, Val Loss: 2.5946, Train F1: 0.9767, Val F1: 0.5206\n",
      "Epoch [44/50], Train Loss: 0.2314, Val Loss: 2.5410, Train F1: 0.9535, Val F1: 0.4347\n",
      "Epoch [45/50], Train Loss: 0.0969, Val Loss: 2.2722, Train F1: 0.9769, Val F1: 0.4785\n",
      "Epoch [46/50], Train Loss: 0.0343, Val Loss: 2.5594, Train F1: 0.9923, Val F1: 0.5474\n",
      "Epoch [47/50], Train Loss: 0.0900, Val Loss: 2.6998, Train F1: 0.9844, Val F1: 0.5206\n",
      "Epoch [48/50], Train Loss: 0.0263, Val Loss: 3.0042, Train F1: 0.9923, Val F1: 0.4247\n",
      "Epoch [49/50], Train Loss: 0.2263, Val Loss: 3.1033, Train F1: 0.9456, Val F1: 0.5181\n",
      "Epoch [50/50], Train Loss: 0.0482, Val Loss: 2.8584, Train F1: 0.9769, Val F1: 0.4926\n"
     ]
    }
   ],
   "source": [
    "from sklearn.metrics import f1_score\n",
    "\n",
    "# Define variables to track losses\n",
    "train_losses = []\n",
    "val_losses = []\n",
    "best_dev_f1 = float('-inf')  # Initialize best validation F1 score\n",
    "\n",
    "# Training loop\n",
    "for epoch in range(num_epochs):\n",
    "    model.train()  # Set model to training mode\n",
    "\n",
    "    running_train_loss = 0.0\n",
    "    all_train_labels = []\n",
    "    all_train_preds = []\n",
    "    all_dev_labels = []\n",
    "    all_dev_preds = []\n",
    "\n",
    "    # Training Phase\n",
    "    for batch in train_dataloader:\n",
    "        modalities, labels = batch  # Unpack modalities and labels\n",
    "        optimizer.zero_grad()\n",
    "\n",
    "        # Concatenate modalities along the feature dimension (if required by the model)\n",
    "        #inputs = torch.cat(modalities, dim=-1)  # Shape: (batch_size, time_steps, combined_features)\n",
    "        output = model(modalities)  # Forward pass through the model\n",
    "\n",
    "        # Reshape labels to match the output shape\n",
    "        labels = labels.view(output.shape)\n",
    "\n",
    "        # Compute loss\n",
    "        loss = criterion(output, labels)\n",
    "        loss.backward()  # Backpropagation\n",
    "        optimizer.step()  # Update model parameters\n",
    "\n",
    "        # Accumulate training loss\n",
    "        running_train_loss += loss.item()\n",
    "\n",
    "        # Convert logits to predictions (assuming binary classification)\n",
    "        preds = (torch.sigmoid(output) > 0.5).int()\n",
    "        all_train_labels.extend(labels.cpu().numpy().flatten())\n",
    "        all_train_preds.extend(preds.cpu().numpy().flatten())\n",
    "\n",
    "    # Average training loss for the epoch\n",
    "    train_loss = running_train_loss / len(train_dataloader)\n",
    "    train_losses.append(train_loss)\n",
    "\n",
    "    # Validation Phase\n",
    "    model.eval()  # Set model to evaluation mode\n",
    "    running_val_loss = 0.0\n",
    "\n",
    "    with torch.no_grad():  # Disable gradient computation for validation\n",
    "        for batch in dev_dataloader:  # Use validation DataLoader\n",
    "            modalities, labels = batch  # Unpack modalities and labels\n",
    "\n",
    "            # Concatenate modalities along the feature dimension\n",
    "            #inputs = torch.cat(modalities, dim=-1)  # Shape: (batch_size, time_steps, combined_features)\n",
    "            output = model(modalities)  # Forward pass\n",
    "\n",
    "            # Reshape labels to match the output shape\n",
    "            labels = labels.view(output.shape)\n",
    "\n",
    "            # Compute validation loss\n",
    "            loss = criterion(output, labels)\n",
    "            running_val_loss += loss.item()\n",
    "\n",
    "            # Convert logits to predictions\n",
    "            preds = (torch.sigmoid(output) > 0.5).int()\n",
    "            all_dev_labels.extend(labels.cpu().numpy().flatten())\n",
    "            all_dev_preds.extend(preds.cpu().numpy().flatten())\n",
    "\n",
    "    # Average validation loss for the epoch\n",
    "    val_loss = running_val_loss / len(dev_dataloader)\n",
    "    val_losses.append(val_loss)\n",
    "\n",
    "    # Compute F1-score for training and validation\n",
    "    train_f1 = f1_score(all_train_labels, all_train_preds, average='weighted')\n",
    "    dev_f1 = f1_score(all_dev_labels, all_dev_preds, average='weighted')\n",
    "\n",
    "    # Save the best model based on validation F1-score\n",
    "    if dev_f1 > best_dev_f1:\n",
    "        best_dev_f1 = dev_f1\n",
    "        print(\"Best Validation F1\", epoch, \": \", best_dev_f1)\n",
    "        torch.save(model.state_dict(), \"best_multimodal_model_t1_under.pth\")  # Save the best model\n",
    "\n",
    "    # Print epoch summary\n",
    "    print(f\"Epoch [{epoch+1}/{num_epochs}], Train Loss: {train_loss:.4f}, Val Loss: {val_loss:.4f}, Train F1: {train_f1:.4f}, Val F1: {dev_f1:.4f}\")\n"
   ]
  },
  {
   "cell_type": "code",
   "execution_count": 227,
   "metadata": {},
   "outputs": [
    {
     "data": {
      "text/plain": [
       "<All keys matched successfully>"
      ]
     },
     "execution_count": 227,
     "metadata": {},
     "output_type": "execute_result"
    }
   ],
   "source": [
    "model.load_state_dict(torch.load(\"best_multimodal_model_t1_under.pth\", weights_only=True))"
   ]
  },
  {
   "cell_type": "code",
   "execution_count": 228,
   "metadata": {},
   "outputs": [
    {
     "name": "stdout",
     "output_type": "stream",
     "text": [
      "Predictions:\n",
      "[0 1]\n",
      "Labels:\n",
      "[0. 1.]\n",
      "0.7313139260424862\n"
     ]
    }
   ],
   "source": [
    "# Model prediction\n",
    "model.eval()  # Set model to evaluation mode\n",
    "lab = []\n",
    "predictions = []\n",
    "with torch.no_grad():  # Disable gradient computation\n",
    "    for batch in dev_dataloader:\n",
    "        _data, labels = batch\n",
    "        output = model(_data)  # Model's prediction\n",
    "        \n",
    "        predicts = torch.sigmoid(output)  # Apply sigmoid activation\n",
    "        predicted_classes = (predicts > 0.5).int()  # Convert probabilities to binary predictions\n",
    "        #print(f\"Predicted Probabilities:\\n{predictions}\")\n",
    "        #print(f\"Predicted Classes:\\n{predicted_classes}\")\n",
    "        # Collect predictions\n",
    "        #predictions.append(output)\n",
    "        predictions.append(predicted_classes)\n",
    "        lab.append(labels)\n",
    "\n",
    "# Combine predictions into a single tensor\n",
    "#predictions = torch.cat(predicted_classes, dim=0)\n",
    "#y_pred = np.array(predictions)\n",
    "out = np.concatenate(predictions).ravel()\n",
    "labels = np.concatenate(lab).ravel()\n",
    "dev_f1 = f1_score(labels, out, average='weighted')\n",
    "print(f\"Predictions:\\n{np.unique(out)}\")\n",
    "print(f\"Labels:\\n{np.unique(labels)}\")\n",
    "print(dev_f1)"
   ]
  },
  {
   "cell_type": "code",
   "execution_count": 229,
   "metadata": {},
   "outputs": [
    {
     "name": "stdout",
     "output_type": "stream",
     "text": [
      "Predictions:\n",
      "[0 1]\n",
      "Labels:\n",
      "[0. 1.]\n",
      "0.8294573643410853\n"
     ]
    }
   ],
   "source": [
    "# Model prediction\n",
    "model.eval()  # Set model to evaluation mode\n",
    "lab = []\n",
    "predictions = []\n",
    "with torch.no_grad():  # Disable gradient computation\n",
    "    for batch in train_dataloader:\n",
    "        _data, labels = batch\n",
    "        output = model(_data)  # Model's prediction\n",
    "        \n",
    "        predicts = torch.sigmoid(output)  # Apply sigmoid activation\n",
    "        predicted_classes = (predicts > 0.5).int()  # Convert probabilities to binary predictions\n",
    "        #print(f\"Predicted Probabilities:\\n{predictions}\")\n",
    "        #print(f\"Predicted Classes:\\n{predicted_classes}\")\n",
    "        # Collect predictions\n",
    "        #predictions.append(output)\n",
    "        predictions.append(predicted_classes)\n",
    "        lab.append(labels)\n",
    "\n",
    "# Combine predictions into a single tensor\n",
    "#predictions = torch.cat(predicted_classes, dim=0)\n",
    "#y_pred = np.array(predictions)\n",
    "out_train = np.concatenate(predictions).ravel()\n",
    "labels = np.concatenate(lab).ravel()\n",
    "dev_f1 = f1_score(labels, out_train, average='weighted')\n",
    "print(f\"Predictions:\\n{np.unique(out)}\")\n",
    "print(f\"Labels:\\n{np.unique(labels)}\")\n",
    "print(dev_f1)"
   ]
  },
  {
   "cell_type": "code",
   "execution_count": 230,
   "metadata": {},
   "outputs": [
    {
     "data": {
      "image/png": "[encoded data removed]",
      "text/plain": [
       "<Figure size 800x600 with 1 Axes>"
      ]
     },
     "metadata": {},
     "output_type": "display_data"
    }
   ],
   "source": [
    "# Plot training and validation losses\n",
    "plt.figure(figsize=(8, 6))\n",
    "plt.plot(train_losses, label=\"Training Loss\")\n",
    "plt.plot(val_losses, label=\"Validation Loss\")\n",
    "plt.xlabel(\"Epoch\")\n",
    "plt.ylabel(\"Loss\")\n",
    "plt.title(\"Training and Validation Loss\")\n",
    "plt.legend()\n",
    "plt.savefig(\"loss_plot.png\")  # Save the plot\n",
    "plt.show()"
   ]
  },
  {
   "cell_type": "code",
   "execution_count": 231,
   "metadata": {},
   "outputs": [],
   "source": [
    "y_pred= out"
   ]
  },
  {
   "cell_type": "code",
   "execution_count": 232,
   "metadata": {},
   "outputs": [],
   "source": [
    "y_test = np.array(features_csv[features_csv[\"split\"]==\"dev\"][\"PTSD_label\"].values)"
   ]
  },
  {
   "cell_type": "code",
   "execution_count": 233,
   "metadata": {},
   "outputs": [
    {
     "data": {
      "text/plain": [
       "array(['female', 'male'], dtype=object)"
      ]
     },
     "execution_count": 233,
     "metadata": {},
     "output_type": "execute_result"
    }
   ],
   "source": [
    "np.unique(features_csv['gender'])"
   ]
  },
  {
   "cell_type": "code",
   "execution_count": 234,
   "metadata": {},
   "outputs": [],
   "source": [
    "features_csv['col_encoded'] = features_csv['gender'].map({'female': 0, 'male': 1, 'unknown':1})"
   ]
  },
  {
   "cell_type": "code",
   "execution_count": 235,
   "metadata": {},
   "outputs": [
    {
     "data": {
      "text/plain": [
       "array([0, 1])"
      ]
     },
     "execution_count": 235,
     "metadata": {},
     "output_type": "execute_result"
    }
   ],
   "source": [
    "np.unique(features_csv['col_encoded'])"
   ]
  },
  {
   "cell_type": "code",
   "execution_count": 236,
   "metadata": {},
   "outputs": [
    {
     "name": "stdout",
     "output_type": "stream",
     "text": [
      "Shape of gender_test: (41,)\n",
      "Shape of y_test: (41,)\n",
      "Shape of y_pred: (41,)\n"
     ]
    }
   ],
   "source": [
    "from fairlearn.metrics import demographic_parity_difference\n",
    "\n",
    "# Assuming `gender` corresponds to the original metadata\n",
    "# Split the dataset into training and testing sets for `gender`\n",
    "gender_train, gender_test = features_csv[features_csv[\"split\"]==\"dev\"][\"col_encoded\"], features_csv[features_csv[\"split\"]==\"dev\"][\"col_encoded\"]\n",
    "\n",
    "# Ensure that `gender_test`, `y_test`, and `y_pred` are aligned\n",
    "print(f\"Shape of gender_test: {gender_train.shape}\")\n",
    "print(f\"Shape of y_test: {y_test.shape}\")\n",
    "print(f\"Shape of y_pred: {y_pred.shape}\")\n",
    "\n"
   ]
  },
  {
   "cell_type": "code",
   "execution_count": 237,
   "metadata": {},
   "outputs": [
    {
     "name": "stdout",
     "output_type": "stream",
     "text": [
      "Demographic Parity Difference: 0.04047619047619047\n"
     ]
    }
   ],
   "source": [
    "# Calculate Demographic Parity Difference\n",
    "demographic_parity = demographic_parity_difference(\n",
    "    y_true=y_test,\n",
    "    y_pred=y_pred,\n",
    "    sensitive_features=gender_train\n",
    ")\n",
    "\n",
    "print(f\"Demographic Parity Difference: {demographic_parity}\")"
   ]
  },
  {
   "cell_type": "code",
   "execution_count": 238,
   "metadata": {},
   "outputs": [
    {
     "name": "stdout",
     "output_type": "stream",
     "text": [
      "Selection Rates by Group:\n",
      "col_encoded\n",
      "0    0.150000\n",
      "1    0.190476\n",
      "Name: selection_rate, dtype: float64\n"
     ]
    }
   ],
   "source": [
    "from fairlearn.metrics import MetricFrame, selection_rate\n",
    "metric_frame = MetricFrame(metrics=selection_rate, \n",
    "                           y_true=y_test, \n",
    "                           y_pred=y_pred, \n",
    "                           sensitive_features=gender_train)\n",
    "\n",
    "# Get selection rates for each group\n",
    "selection_rates = metric_frame.by_group\n",
    "print(\"Selection Rates by Group:\")\n",
    "print(selection_rates)\n"
   ]
  },
  {
   "cell_type": "code",
   "execution_count": 239,
   "metadata": {},
   "outputs": [
    {
     "name": "stdout",
     "output_type": "stream",
     "text": [
      "Demographic Parity Ratio: 1.2698412698412698\n",
      "0.7875000000000001\n"
     ]
    }
   ],
   "source": [
    "group_a_rate = selection_rates[1]\n",
    "group_b_rate = selection_rates[0]\n",
    "\n",
    "if group_b_rate > 0:  # Avoid division by zero\n",
    "    demographic_parity_ratio = group_a_rate / group_b_rate\n",
    "    print(f\"Demographic Parity Ratio: {demographic_parity_ratio}\")\n",
    "    if demographic_parity_ratio>1:\n",
    "        print(1/demographic_parity_ratio)"
   ]
  },
  {
   "cell_type": "markdown",
   "metadata": {},
   "source": []
  },
  {
   "cell_type": "markdown",
   "metadata": {},
   "source": [
    "## T2"
   ]
  },
  {
   "cell_type": "code",
   "execution_count": 278,
   "metadata": {},
   "outputs": [],
   "source": [
    "# Example usage\n",
    "model = MultiModalDeepConvLSTM(\n",
    "    modality_configs=[(768, 512),(80, 512)],\n",
    "    lstm_hidden_size=128, \n",
    "    lstm_layers=2, \n",
    "    output_size=1, \n",
    "    dropout=0.5\n",
    ")"
   ]
  },
  {
   "cell_type": "code",
   "execution_count": 279,
   "metadata": {},
   "outputs": [
    {
     "data": {
      "text/plain": [
       "9355393"
      ]
     },
     "execution_count": 279,
     "metadata": {},
     "output_type": "execute_result"
    }
   ],
   "source": [
    "sum(p.numel() for p in model.parameters() if p.requires_grad)"
   ]
  },
  {
   "cell_type": "code",
   "execution_count": 280,
   "metadata": {},
   "outputs": [],
   "source": [
    "learning_rate = 0.001\n",
    "num_epochs = 50\n",
    "optimizer = optim.AdamW(model.parameters(), lr=learning_rate)"
   ]
  },
  {
   "cell_type": "code",
   "execution_count": 281,
   "metadata": {},
   "outputs": [],
   "source": [
    "labels_torch = torch.from_numpy(features_csv[features_csv[\"split\"]==\"train\"][\"PTSD_label\"].values)"
   ]
  },
  {
   "cell_type": "markdown",
   "metadata": {},
   "source": [
    "For example, if a dataset contains 100 positive and 300 negative examples of a single class, then pos_weight for the class should be equal to 300/100=3. The loss would act as if the dataset contains 3×100=300 positive examples."
   ]
  },
  {
   "cell_type": "code",
   "execution_count": 282,
   "metadata": {},
   "outputs": [
    {
     "name": "stdout",
     "output_type": "stream",
     "text": [
      "tensor([87, 42])\n",
      "tensor(2.0714)\n"
     ]
    }
   ],
   "source": [
    "# Calculate class weights\n",
    "class_counts = torch.bincount(labels_torch)  # Get counts for each class\n",
    "print(class_counts)\n",
    "class_weight = class_counts[0] / class_counts[1]\n",
    "print(class_weight)\n",
    "# Apply weights to loss function\n",
    "criterion = nn.BCEWithLogitsLoss(pos_weight=class_weight)  # Weight for positive class\n"
   ]
  },
  {
   "cell_type": "code",
   "execution_count": 283,
   "metadata": {},
   "outputs": [
    {
     "name": "stdout",
     "output_type": "stream",
     "text": [
      "Best Validation F1 0 :  0.520583301071106\n",
      "Epoch [1/50], Train Loss: 0.9505, Val Loss: 0.8897, Train F1: 0.4270, Val F1: 0.5206\n",
      "Epoch [2/50], Train Loss: 0.9459, Val Loss: 0.8956, Train F1: 0.3841, Val F1: 0.3997\n",
      "Best Validation F1 2 :  0.5526343575124063\n",
      "Epoch [3/50], Train Loss: 0.9294, Val Loss: 0.9005, Train F1: 0.4356, Val F1: 0.5526\n",
      "Best Validation F1 3 :  0.5984788880146865\n",
      "Epoch [4/50], Train Loss: 0.9232, Val Loss: 0.8921, Train F1: 0.5440, Val F1: 0.5985\n",
      "Epoch [5/50], Train Loss: 0.8862, Val Loss: 0.9398, Train F1: 0.7273, Val F1: 0.4344\n",
      "Epoch [6/50], Train Loss: 0.7812, Val Loss: 1.0432, Train F1: 0.7617, Val F1: 0.5518\n",
      "Epoch [7/50], Train Loss: 0.7184, Val Loss: 0.9398, Train F1: 0.7263, Val F1: 0.5685\n",
      "Epoch [8/50], Train Loss: 0.5690, Val Loss: 1.3215, Train F1: 0.7996, Val F1: 0.5951\n",
      "Epoch [9/50], Train Loss: 0.6300, Val Loss: 1.5253, Train F1: 0.7913, Val F1: 0.4344\n",
      "Epoch [10/50], Train Loss: 0.5729, Val Loss: 1.2468, Train F1: 0.7958, Val F1: 0.5503\n",
      "Epoch [11/50], Train Loss: 0.3760, Val Loss: 1.4398, Train F1: 0.9155, Val F1: 0.5314\n",
      "Epoch [12/50], Train Loss: 0.3028, Val Loss: 2.1481, Train F1: 0.9380, Val F1: 0.4114\n",
      "Epoch [13/50], Train Loss: 0.2706, Val Loss: 2.3517, Train F1: 0.9389, Val F1: 0.4634\n",
      "Epoch [14/50], Train Loss: 0.2714, Val Loss: 2.2549, Train F1: 0.9380, Val F1: 0.4815\n",
      "Epoch [15/50], Train Loss: 0.2616, Val Loss: 2.2741, Train F1: 0.9462, Val F1: 0.5181\n",
      "Epoch [16/50], Train Loss: 0.4574, Val Loss: 1.7331, Train F1: 0.8632, Val F1: 0.4634\n",
      "Epoch [17/50], Train Loss: 0.3024, Val Loss: 1.6472, Train F1: 0.9084, Val F1: 0.5503\n",
      "Epoch [18/50], Train Loss: 0.2919, Val Loss: 1.7952, Train F1: 0.9290, Val F1: 0.5206\n",
      "Epoch [19/50], Train Loss: 0.1753, Val Loss: 2.3156, Train F1: 0.9456, Val F1: 0.4311\n",
      "Epoch [20/50], Train Loss: 0.2011, Val Loss: 2.3349, Train F1: 0.9459, Val F1: 0.4634\n",
      "Epoch [21/50], Train Loss: 0.1412, Val Loss: 2.1241, Train F1: 0.9690, Val F1: 0.5807\n",
      "Epoch [22/50], Train Loss: 0.2264, Val Loss: 2.6545, Train F1: 0.9308, Val F1: 0.4247\n",
      "Epoch [23/50], Train Loss: 0.0930, Val Loss: 2.7201, Train F1: 0.9845, Val F1: 0.4634\n",
      "Epoch [24/50], Train Loss: 0.1591, Val Loss: 2.4526, Train F1: 0.9690, Val F1: 0.5530\n",
      "Epoch [25/50], Train Loss: 0.2822, Val Loss: 2.7589, Train F1: 0.9229, Val F1: 0.5758\n",
      "Epoch [26/50], Train Loss: 0.3122, Val Loss: 1.7428, Train F1: 0.9229, Val F1: 0.5474\n",
      "Epoch [27/50], Train Loss: 0.2021, Val Loss: 1.9343, Train F1: 0.9611, Val F1: 0.5474\n",
      "Epoch [28/50], Train Loss: 0.1428, Val Loss: 2.3874, Train F1: 0.9616, Val F1: 0.5410\n",
      "Epoch [29/50], Train Loss: 0.1375, Val Loss: 2.4675, Train F1: 0.9767, Val F1: 0.5314\n",
      "Epoch [30/50], Train Loss: 0.0543, Val Loss: 2.6055, Train F1: 0.9922, Val F1: 0.5181\n",
      "Epoch [31/50], Train Loss: 0.0476, Val Loss: 2.8951, Train F1: 0.9922, Val F1: 0.5122\n",
      "Epoch [32/50], Train Loss: 0.2475, Val Loss: 3.8014, Train F1: 0.9462, Val F1: 0.4344\n",
      "Epoch [33/50], Train Loss: 0.2628, Val Loss: 2.5990, Train F1: 0.9538, Val F1: 0.5503\n",
      "Epoch [34/50], Train Loss: 0.2412, Val Loss: 2.2930, Train F1: 0.9535, Val F1: 0.5206\n",
      "Epoch [35/50], Train Loss: 0.1541, Val Loss: 2.1872, Train F1: 0.9690, Val F1: 0.5287\n",
      "Epoch [36/50], Train Loss: 0.1052, Val Loss: 2.0977, Train F1: 0.9614, Val F1: 0.5512\n",
      "Epoch [37/50], Train Loss: 0.0722, Val Loss: 2.3441, Train F1: 0.9922, Val F1: 0.5734\n",
      "Epoch [38/50], Train Loss: 0.1715, Val Loss: 2.7461, Train F1: 0.9690, Val F1: 0.4998\n",
      "Epoch [39/50], Train Loss: 0.2571, Val Loss: 2.6367, Train F1: 0.9383, Val F1: 0.5410\n",
      "Epoch [40/50], Train Loss: 0.0860, Val Loss: 2.5072, Train F1: 0.9846, Val F1: 0.5181\n",
      "Epoch [41/50], Train Loss: 0.0949, Val Loss: 2.9310, Train F1: 0.9767, Val F1: 0.5410\n",
      "Epoch [42/50], Train Loss: 0.0997, Val Loss: 3.0983, Train F1: 0.9692, Val F1: 0.5181\n",
      "Epoch [43/50], Train Loss: 0.0477, Val Loss: 3.1960, Train F1: 0.9922, Val F1: 0.5181\n",
      "Epoch [44/50], Train Loss: 0.0824, Val Loss: 3.4837, Train F1: 0.9768, Val F1: 0.4841\n",
      "Epoch [45/50], Train Loss: 0.1418, Val Loss: 3.4889, Train F1: 0.9688, Val F1: 0.4926\n",
      "Epoch [46/50], Train Loss: 0.1545, Val Loss: 3.2717, Train F1: 0.9383, Val F1: 0.4095\n",
      "Epoch [47/50], Train Loss: 0.1479, Val Loss: 3.4765, Train F1: 0.9465, Val F1: 0.3837\n",
      "Epoch [48/50], Train Loss: 0.3262, Val Loss: 2.5186, Train F1: 0.8927, Val F1: 0.5985\n",
      "Epoch [49/50], Train Loss: 0.2163, Val Loss: 2.3801, Train F1: 0.9459, Val F1: 0.4574\n",
      "Epoch [50/50], Train Loss: 0.1312, Val Loss: 2.1834, Train F1: 0.9693, Val F1: 0.4998\n"
     ]
    }
   ],
   "source": [
    "from sklearn.metrics import f1_score\n",
    "\n",
    "# Define variables to track losses\n",
    "train_losses = []\n",
    "val_losses = []\n",
    "best_dev_f1 = float('-inf')  # Initialize best validation F1 score\n",
    "\n",
    "# Training loop\n",
    "for epoch in range(num_epochs):\n",
    "    model.train()  # Set model to training mode\n",
    "\n",
    "    running_train_loss = 0.0\n",
    "    all_train_labels = []\n",
    "    all_train_preds = []\n",
    "    all_dev_labels = []\n",
    "    all_dev_preds = []\n",
    "\n",
    "    # Training Phase\n",
    "    for batch in train_dataloader:\n",
    "        modalities, labels = batch  # Unpack modalities and labels\n",
    "        optimizer.zero_grad()\n",
    "\n",
    "        # Concatenate modalities along the feature dimension (if required by the model)\n",
    "        #inputs = torch.cat(modalities, dim=-1)  # Shape: (batch_size, time_steps, combined_features)\n",
    "        output = model(modalities)  # Forward pass through the model\n",
    "\n",
    "        # Reshape labels to match the output shape\n",
    "        labels = labels.view(output.shape)\n",
    "\n",
    "        # Compute loss\n",
    "        loss = criterion(output, labels)\n",
    "        loss.backward()  # Backpropagation\n",
    "        optimizer.step()  # Update model parameters\n",
    "\n",
    "        # Accumulate training loss\n",
    "        running_train_loss += loss.item()\n",
    "\n",
    "        # Convert logits to predictions (assuming binary classification)\n",
    "        preds = (torch.sigmoid(output) > 0.5).int()\n",
    "        all_train_labels.extend(labels.cpu().numpy().flatten())\n",
    "        all_train_preds.extend(preds.cpu().numpy().flatten())\n",
    "\n",
    "    # Average training loss for the epoch\n",
    "    train_loss = running_train_loss / len(train_dataloader)\n",
    "    train_losses.append(train_loss)\n",
    "\n",
    "    # Validation Phase\n",
    "    model.eval()  # Set model to evaluation mode\n",
    "    running_val_loss = 0.0\n",
    "\n",
    "    with torch.no_grad():  # Disable gradient computation for validation\n",
    "        for batch in dev_dataloader:  # Use validation DataLoader\n",
    "            modalities, labels = batch  # Unpack modalities and labels\n",
    "\n",
    "            # Concatenate modalities along the feature dimension\n",
    "            #inputs = torch.cat(modalities, dim=-1)  # Shape: (batch_size, time_steps, combined_features)\n",
    "            output = model(modalities)  # Forward pass\n",
    "\n",
    "            # Reshape labels to match the output shape\n",
    "            labels = labels.view(output.shape)\n",
    "\n",
    "            # Compute validation loss\n",
    "            loss = criterion(output, labels)\n",
    "            running_val_loss += loss.item()\n",
    "\n",
    "            # Convert logits to predictions\n",
    "            preds = (torch.sigmoid(output) > 0.5).int()\n",
    "            all_dev_labels.extend(labels.cpu().numpy().flatten())\n",
    "            all_dev_preds.extend(preds.cpu().numpy().flatten())\n",
    "\n",
    "    # Average validation loss for the epoch\n",
    "    val_loss = running_val_loss / len(dev_dataloader)\n",
    "    val_losses.append(val_loss)\n",
    "\n",
    "    # Compute F1-score for training and validation\n",
    "    train_f1 = f1_score(all_train_labels, all_train_preds, average='weighted')\n",
    "    dev_f1 = f1_score(all_dev_labels, all_dev_preds, average='weighted')\n",
    "\n",
    "    # Save the best model based on validation F1-score\n",
    "    if dev_f1 > best_dev_f1:\n",
    "        best_dev_f1 = dev_f1\n",
    "        print(\"Best Validation F1\", epoch, \": \", best_dev_f1)\n",
    "        torch.save(model.state_dict(), \"best_multimodal_model_t2_under.pth\")  # Save the best model\n",
    "\n",
    "    # Print epoch summary\n",
    "    print(f\"Epoch [{epoch+1}/{num_epochs}], Train Loss: {train_loss:.4f}, Val Loss: {val_loss:.4f}, Train F1: {train_f1:.4f}, Val F1: {dev_f1:.4f}\")\n"
   ]
  },
  {
   "cell_type": "code",
   "execution_count": 284,
   "metadata": {},
   "outputs": [
    {
     "data": {
      "text/plain": [
       "<All keys matched successfully>"
      ]
     },
     "execution_count": 284,
     "metadata": {},
     "output_type": "execute_result"
    }
   ],
   "source": [
    "model.load_state_dict(torch.load(\"best_multimodal_model_t2_under.pth\", weights_only=True))"
   ]
  },
  {
   "cell_type": "code",
   "execution_count": 285,
   "metadata": {},
   "outputs": [
    {
     "name": "stdout",
     "output_type": "stream",
     "text": [
      "Predictions:\n",
      "[0 1]\n",
      "Labels:\n",
      "[0. 1.]\n",
      "0.5984788880146865\n"
     ]
    }
   ],
   "source": [
    "# Model prediction\n",
    "model.eval()  # Set model to evaluation mode\n",
    "lab = []\n",
    "predictions = []\n",
    "with torch.no_grad():  # Disable gradient computation\n",
    "    for batch in dev_dataloader:\n",
    "        _data, labels = batch\n",
    "        output = model(_data)  # Model's prediction\n",
    "        \n",
    "        predicts = torch.sigmoid(output)  # Apply sigmoid activation\n",
    "        predicted_classes = (predicts > 0.5).int()  # Convert probabilities to binary predictions\n",
    "        #print(f\"Predicted Probabilities:\\n{predictions}\")\n",
    "        #print(f\"Predicted Classes:\\n{predicted_classes}\")\n",
    "        # Collect predictions\n",
    "        #predictions.append(output)\n",
    "        predictions.append(predicted_classes)\n",
    "        lab.append(labels)\n",
    "\n",
    "# Combine predictions into a single tensor\n",
    "#predictions = torch.cat(predicted_classes, dim=0)\n",
    "#y_pred = np.array(predictions)\n",
    "out = np.concatenate(predictions).ravel()\n",
    "labels = np.concatenate(lab).ravel()\n",
    "dev_f1 = f1_score(labels, out, average='weighted')\n",
    "print(f\"Predictions:\\n{np.unique(out)}\")\n",
    "print(f\"Labels:\\n{np.unique(labels)}\")\n",
    "print(dev_f1)"
   ]
  },
  {
   "cell_type": "code",
   "execution_count": 286,
   "metadata": {},
   "outputs": [
    {
     "name": "stdout",
     "output_type": "stream",
     "text": [
      "Predictions:\n",
      "[0 1]\n",
      "Labels:\n",
      "[0. 1.]\n",
      "0.7647639182522904\n"
     ]
    }
   ],
   "source": [
    "# Model prediction\n",
    "model.eval()  # Set model to evaluation mode\n",
    "lab = []\n",
    "predictions = []\n",
    "with torch.no_grad():  # Disable gradient computation\n",
    "    for batch in train_dataloader:\n",
    "        _data, labels = batch\n",
    "        output = model(_data)  # Model's prediction\n",
    "        \n",
    "        predicts = torch.sigmoid(output)  # Apply sigmoid activation\n",
    "        predicted_classes = (predicts > 0.5).int()  # Convert probabilities to binary predictions\n",
    "        #print(f\"Predicted Probabilities:\\n{predictions}\")\n",
    "        #print(f\"Predicted Classes:\\n{predicted_classes}\")\n",
    "        # Collect predictions\n",
    "        #predictions.append(output)\n",
    "        predictions.append(predicted_classes)\n",
    "        lab.append(labels)\n",
    "\n",
    "# Combine predictions into a single tensor\n",
    "#predictions = torch.cat(predicted_classes, dim=0)\n",
    "#y_pred = np.array(predictions)\n",
    "out_train = np.concatenate(predictions).ravel()\n",
    "labels = np.concatenate(lab).ravel()\n",
    "dev_f1 = f1_score(labels, out_train, average='weighted')\n",
    "print(f\"Predictions:\\n{np.unique(out)}\")\n",
    "print(f\"Labels:\\n{np.unique(labels)}\")\n",
    "print(dev_f1)"
   ]
  },
  {
   "cell_type": "code",
   "execution_count": 287,
   "metadata": {},
   "outputs": [
    {
     "data": {
      "image/png": "[encoded data removed]",
      "text/plain": [
       "<Figure size 800x600 with 1 Axes>"
      ]
     },
     "metadata": {},
     "output_type": "display_data"
    }
   ],
   "source": [
    "# Plot training and validation losses\n",
    "plt.figure(figsize=(8, 6))\n",
    "plt.plot(train_losses, label=\"Training Loss\")\n",
    "plt.plot(val_losses, label=\"Validation Loss\")\n",
    "plt.xlabel(\"Epoch\")\n",
    "plt.ylabel(\"Loss\")\n",
    "plt.title(\"Training and Validation Loss\")\n",
    "plt.legend()\n",
    "plt.savefig(\"loss_plot.png\")  # Save the plot\n",
    "plt.show()"
   ]
  },
  {
   "cell_type": "code",
   "execution_count": 288,
   "metadata": {},
   "outputs": [],
   "source": [
    "y_pred= out"
   ]
  },
  {
   "cell_type": "code",
   "execution_count": 289,
   "metadata": {},
   "outputs": [],
   "source": [
    "y_test = np.array(features_csv[features_csv[\"split\"]==\"dev\"][\"PTSD_label\"].values)"
   ]
  },
  {
   "cell_type": "code",
   "execution_count": 290,
   "metadata": {},
   "outputs": [
    {
     "data": {
      "text/plain": [
       "array(['female', 'male'], dtype=object)"
      ]
     },
     "execution_count": 290,
     "metadata": {},
     "output_type": "execute_result"
    }
   ],
   "source": [
    "np.unique(features_csv['gender'])"
   ]
  },
  {
   "cell_type": "code",
   "execution_count": 291,
   "metadata": {},
   "outputs": [],
   "source": [
    "features_csv['col_encoded'] = features_csv['gender'].map({'female': 0, 'male': 1, 'unknown':1})"
   ]
  },
  {
   "cell_type": "code",
   "execution_count": 292,
   "metadata": {},
   "outputs": [
    {
     "data": {
      "text/plain": [
       "array([0, 1])"
      ]
     },
     "execution_count": 292,
     "metadata": {},
     "output_type": "execute_result"
    }
   ],
   "source": [
    "np.unique(features_csv['col_encoded'])"
   ]
  },
  {
   "cell_type": "code",
   "execution_count": 293,
   "metadata": {},
   "outputs": [
    {
     "name": "stdout",
     "output_type": "stream",
     "text": [
      "Shape of gender_test: (41,)\n",
      "Shape of y_test: (41,)\n",
      "Shape of y_pred: (41,)\n"
     ]
    }
   ],
   "source": [
    "from fairlearn.metrics import demographic_parity_difference\n",
    "\n",
    "# Assuming `gender` corresponds to the original metadata\n",
    "# Split the dataset into training and testing sets for `gender`\n",
    "gender_train, gender_test = features_csv[features_csv[\"split\"]==\"dev\"][\"col_encoded\"], features_csv[features_csv[\"split\"]==\"dev\"][\"col_encoded\"]\n",
    "\n",
    "# Ensure that `gender_test`, `y_test`, and `y_pred` are aligned\n",
    "print(f\"Shape of gender_test: {gender_train.shape}\")\n",
    "print(f\"Shape of y_test: {y_test.shape}\")\n",
    "print(f\"Shape of y_pred: {y_pred.shape}\")\n",
    "\n"
   ]
  },
  {
   "cell_type": "code",
   "execution_count": 294,
   "metadata": {},
   "outputs": [
    {
     "name": "stdout",
     "output_type": "stream",
     "text": [
      "Demographic Parity Difference: 0.17380952380952386\n"
     ]
    }
   ],
   "source": [
    "# Calculate Demographic Parity Difference\n",
    "demographic_parity = demographic_parity_difference(\n",
    "    y_true=y_test,\n",
    "    y_pred=y_pred,\n",
    "    sensitive_features=gender_train\n",
    ")\n",
    "\n",
    "print(f\"Demographic Parity Difference: {demographic_parity}\")"
   ]
  },
  {
   "cell_type": "code",
   "execution_count": 295,
   "metadata": {},
   "outputs": [
    {
     "name": "stdout",
     "output_type": "stream",
     "text": [
      "Selection Rates by Group:\n",
      "col_encoded\n",
      "0    0.35000\n",
      "1    0.52381\n",
      "Name: selection_rate, dtype: float64\n"
     ]
    }
   ],
   "source": [
    "from fairlearn.metrics import MetricFrame, selection_rate\n",
    "metric_frame = MetricFrame(metrics=selection_rate, \n",
    "                           y_true=y_test, \n",
    "                           y_pred=y_pred, \n",
    "                           sensitive_features=gender_train)\n",
    "\n",
    "# Get selection rates for each group\n",
    "selection_rates = metric_frame.by_group\n",
    "print(\"Selection Rates by Group:\")\n",
    "print(selection_rates)\n"
   ]
  },
  {
   "cell_type": "code",
   "execution_count": 296,
   "metadata": {},
   "outputs": [
    {
     "name": "stdout",
     "output_type": "stream",
     "text": [
      "Demographic Parity Ratio: 1.4965986394557824\n",
      "0.6681818181818181\n"
     ]
    }
   ],
   "source": [
    "group_a_rate = selection_rates[1]\n",
    "group_b_rate = selection_rates[0]\n",
    "\n",
    "if group_b_rate > 0:  # Avoid division by zero\n",
    "    demographic_parity_ratio = group_a_rate / group_b_rate\n",
    "    print(f\"Demographic Parity Ratio: {demographic_parity_ratio}\")\n",
    "    if demographic_parity_ratio>1:\n",
    "        print(1/demographic_parity_ratio)"
   ]
  },
  {
   "cell_type": "markdown",
   "metadata": {},
   "source": []
  },
  {
   "cell_type": "markdown",
   "metadata": {},
   "source": [
    "## T3"
   ]
  },
  {
   "cell_type": "code",
   "execution_count": 297,
   "metadata": {},
   "outputs": [],
   "source": [
    "# Example usage\n",
    "model = MultiModalDeepConvLSTM(\n",
    "    modality_configs=[(768, 512),(80, 512)],\n",
    "    lstm_hidden_size=128, \n",
    "    lstm_layers=2, \n",
    "    output_size=1, \n",
    "    dropout=0.5\n",
    ")"
   ]
  },
  {
   "cell_type": "code",
   "execution_count": 298,
   "metadata": {},
   "outputs": [
    {
     "data": {
      "text/plain": [
       "9355393"
      ]
     },
     "execution_count": 298,
     "metadata": {},
     "output_type": "execute_result"
    }
   ],
   "source": [
    "sum(p.numel() for p in model.parameters() if p.requires_grad)"
   ]
  },
  {
   "cell_type": "code",
   "execution_count": 299,
   "metadata": {},
   "outputs": [],
   "source": [
    "learning_rate = 0.001\n",
    "num_epochs = 50\n",
    "optimizer = optim.AdamW(model.parameters(), lr=learning_rate)"
   ]
  },
  {
   "cell_type": "code",
   "execution_count": 300,
   "metadata": {},
   "outputs": [],
   "source": [
    "labels_torch = torch.from_numpy(features_csv[features_csv[\"split\"]==\"train\"][\"PTSD_label\"].values)"
   ]
  },
  {
   "cell_type": "markdown",
   "metadata": {},
   "source": [
    "For example, if a dataset contains 100 positive and 300 negative examples of a single class, then pos_weight for the class should be equal to 300/100=3. The loss would act as if the dataset contains 3×100=300 positive examples."
   ]
  },
  {
   "cell_type": "code",
   "execution_count": 301,
   "metadata": {},
   "outputs": [
    {
     "name": "stdout",
     "output_type": "stream",
     "text": [
      "tensor([87, 42])\n",
      "tensor(2.0714)\n"
     ]
    }
   ],
   "source": [
    "# Calculate class weights\n",
    "class_counts = torch.bincount(labels_torch)  # Get counts for each class\n",
    "print(class_counts)\n",
    "class_weight = class_counts[0] / class_counts[1]\n",
    "print(class_weight)\n",
    "# Apply weights to loss function\n",
    "criterion = nn.BCEWithLogitsLoss(pos_weight=class_weight)  # Weight for positive class\n"
   ]
  },
  {
   "cell_type": "code",
   "execution_count": 302,
   "metadata": {},
   "outputs": [
    {
     "name": "stdout",
     "output_type": "stream",
     "text": [
      "Best Validation F1 0 :  0.6929544437759368\n",
      "Epoch [1/50], Train Loss: 0.9447, Val Loss: 0.8638, Train F1: 0.5219, Val F1: 0.6930\n",
      "Epoch [2/50], Train Loss: 0.9416, Val Loss: 0.8792, Train F1: 0.5386, Val F1: 0.6238\n",
      "Epoch [3/50], Train Loss: 0.9139, Val Loss: 0.8926, Train F1: 0.6589, Val F1: 0.6427\n",
      "Epoch [4/50], Train Loss: 0.8325, Val Loss: 0.9132, Train F1: 0.7070, Val F1: 0.6208\n",
      "Epoch [5/50], Train Loss: 0.7175, Val Loss: 1.0214, Train F1: 0.7431, Val F1: 0.5474\n",
      "Epoch [6/50], Train Loss: 0.6092, Val Loss: 1.3394, Train F1: 0.8024, Val F1: 0.5685\n",
      "Epoch [7/50], Train Loss: 0.4886, Val Loss: 1.5060, Train F1: 0.8752, Val F1: 0.4443\n",
      "Epoch [8/50], Train Loss: 0.5107, Val Loss: 1.4032, Train F1: 0.8474, Val F1: 0.5807\n",
      "Epoch [9/50], Train Loss: 0.4680, Val Loss: 1.4984, Train F1: 0.8485, Val F1: 0.5055\n",
      "Epoch [10/50], Train Loss: 0.7167, Val Loss: 1.1404, Train F1: 0.8127, Val F1: 0.5871\n",
      "Epoch [11/50], Train Loss: 0.5581, Val Loss: 1.2964, Train F1: 0.8248, Val F1: 0.5046\n",
      "Epoch [12/50], Train Loss: 0.4417, Val Loss: 1.3929, Train F1: 0.8626, Val F1: 0.4568\n",
      "Epoch [13/50], Train Loss: 0.3178, Val Loss: 1.6142, Train F1: 0.9075, Val F1: 0.4568\n",
      "Epoch [14/50], Train Loss: 0.1779, Val Loss: 1.9791, Train F1: 0.9688, Val F1: 0.5206\n",
      "Epoch [15/50], Train Loss: 0.2538, Val Loss: 2.1432, Train F1: 0.9532, Val F1: 0.5003\n",
      "Epoch [16/50], Train Loss: 0.2534, Val Loss: 1.9449, Train F1: 0.9233, Val F1: 0.4674\n",
      "Epoch [17/50], Train Loss: 0.1817, Val Loss: 2.6286, Train F1: 0.9538, Val F1: 0.4146\n",
      "Epoch [18/50], Train Loss: 0.3551, Val Loss: 2.3401, Train F1: 0.9300, Val F1: 0.4568\n",
      "Epoch [19/50], Train Loss: 0.4182, Val Loss: 1.5839, Train F1: 0.8700, Val F1: 0.4926\n",
      "Epoch [20/50], Train Loss: 0.3259, Val Loss: 1.8557, Train F1: 0.9084, Val F1: 0.4926\n",
      "Epoch [21/50], Train Loss: 0.1625, Val Loss: 1.9483, Train F1: 0.9768, Val F1: 0.4726\n",
      "Epoch [22/50], Train Loss: 0.0970, Val Loss: 2.2837, Train F1: 0.9692, Val F1: 0.5314\n",
      "Epoch [23/50], Train Loss: 0.1763, Val Loss: 2.5636, Train F1: 0.9767, Val F1: 0.4726\n",
      "Epoch [24/50], Train Loss: 0.1799, Val Loss: 2.7675, Train F1: 0.9767, Val F1: 0.4726\n",
      "Epoch [25/50], Train Loss: 0.2681, Val Loss: 2.1641, Train F1: 0.9315, Val F1: 0.4443\n",
      "Epoch [26/50], Train Loss: 0.1623, Val Loss: 2.2559, Train F1: 0.9844, Val F1: 0.4726\n",
      "Epoch [27/50], Train Loss: 0.1085, Val Loss: 2.4060, Train F1: 0.9618, Val F1: 0.4821\n",
      "Epoch [28/50], Train Loss: 0.0781, Val Loss: 2.2938, Train F1: 0.9765, Val F1: 0.5040\n",
      "Epoch [29/50], Train Loss: 0.2558, Val Loss: 2.7246, Train F1: 0.9312, Val F1: 0.4815\n",
      "Epoch [30/50], Train Loss: 0.2100, Val Loss: 1.9490, Train F1: 0.9312, Val F1: 0.5260\n",
      "Epoch [31/50], Train Loss: 0.1916, Val Loss: 1.8891, Train F1: 0.9300, Val F1: 0.4785\n",
      "Epoch [32/50], Train Loss: 0.1431, Val Loss: 2.5683, Train F1: 0.9542, Val F1: 0.5206\n",
      "Epoch [33/50], Train Loss: 0.0268, Val Loss: 2.8305, Train F1: 1.0000, Val F1: 0.4634\n",
      "Epoch [34/50], Train Loss: 0.0315, Val Loss: 3.3673, Train F1: 0.9923, Val F1: 0.4045\n",
      "Epoch [35/50], Train Loss: 0.0093, Val Loss: 3.4517, Train F1: 1.0000, Val F1: 0.5122\n",
      "Epoch [36/50], Train Loss: 0.0513, Val Loss: 3.6609, Train F1: 0.9922, Val F1: 0.4247\n",
      "Epoch [37/50], Train Loss: 0.0606, Val Loss: 2.9420, Train F1: 0.9846, Val F1: 0.4726\n",
      "Epoch [38/50], Train Loss: 0.0865, Val Loss: 3.0122, Train F1: 0.9767, Val F1: 0.3837\n",
      "Epoch [39/50], Train Loss: 0.0593, Val Loss: 3.6380, Train F1: 0.9693, Val F1: 0.4503\n",
      "Epoch [40/50], Train Loss: 0.1035, Val Loss: 3.5125, Train F1: 0.9922, Val F1: 0.4674\n",
      "Epoch [41/50], Train Loss: 0.1847, Val Loss: 2.6170, Train F1: 0.9462, Val F1: 0.4785\n",
      "Epoch [42/50], Train Loss: 0.1620, Val Loss: 2.9716, Train F1: 0.9614, Val F1: 0.4821\n",
      "Epoch [43/50], Train Loss: 0.1655, Val Loss: 2.6425, Train F1: 0.9614, Val F1: 0.4998\n",
      "Epoch [44/50], Train Loss: 0.0547, Val Loss: 2.9418, Train F1: 0.9769, Val F1: 0.4726\n",
      "Epoch [45/50], Train Loss: 0.0358, Val Loss: 3.2103, Train F1: 0.9923, Val F1: 0.4634\n",
      "Epoch [46/50], Train Loss: 0.1045, Val Loss: 3.1485, Train F1: 0.9611, Val F1: 0.4634\n",
      "Epoch [47/50], Train Loss: 0.0159, Val Loss: 3.2887, Train F1: 0.9923, Val F1: 0.4443\n",
      "Epoch [48/50], Train Loss: 0.0106, Val Loss: 3.5294, Train F1: 1.0000, Val F1: 0.4443\n",
      "Epoch [49/50], Train Loss: 0.0116, Val Loss: 3.7000, Train F1: 1.0000, Val F1: 0.4634\n",
      "Epoch [50/50], Train Loss: 0.0053, Val Loss: 3.8318, Train F1: 1.0000, Val F1: 0.4634\n"
     ]
    }
   ],
   "source": [
    "from sklearn.metrics import f1_score\n",
    "\n",
    "# Define variables to track losses\n",
    "train_losses = []\n",
    "val_losses = []\n",
    "best_dev_f1 = float('-inf')  # Initialize best validation F1 score\n",
    "\n",
    "# Training loop\n",
    "for epoch in range(num_epochs):\n",
    "    model.train()  # Set model to training mode\n",
    "\n",
    "    running_train_loss = 0.0\n",
    "    all_train_labels = []\n",
    "    all_train_preds = []\n",
    "    all_dev_labels = []\n",
    "    all_dev_preds = []\n",
    "\n",
    "    # Training Phase\n",
    "    for batch in train_dataloader:\n",
    "        modalities, labels = batch  # Unpack modalities and labels\n",
    "        optimizer.zero_grad()\n",
    "\n",
    "        # Concatenate modalities along the feature dimension (if required by the model)\n",
    "        #inputs = torch.cat(modalities, dim=-1)  # Shape: (batch_size, time_steps, combined_features)\n",
    "        output = model(modalities)  # Forward pass through the model\n",
    "\n",
    "        # Reshape labels to match the output shape\n",
    "        labels = labels.view(output.shape)\n",
    "\n",
    "        # Compute loss\n",
    "        loss = criterion(output, labels)\n",
    "        loss.backward()  # Backpropagation\n",
    "        optimizer.step()  # Update model parameters\n",
    "\n",
    "        # Accumulate training loss\n",
    "        running_train_loss += loss.item()\n",
    "\n",
    "        # Convert logits to predictions (assuming binary classification)\n",
    "        preds = (torch.sigmoid(output) > 0.5).int()\n",
    "        all_train_labels.extend(labels.cpu().numpy().flatten())\n",
    "        all_train_preds.extend(preds.cpu().numpy().flatten())\n",
    "\n",
    "    # Average training loss for the epoch\n",
    "    train_loss = running_train_loss / len(train_dataloader)\n",
    "    train_losses.append(train_loss)\n",
    "\n",
    "    # Validation Phase\n",
    "    model.eval()  # Set model to evaluation mode\n",
    "    running_val_loss = 0.0\n",
    "\n",
    "    with torch.no_grad():  # Disable gradient computation for validation\n",
    "        for batch in dev_dataloader:  # Use validation DataLoader\n",
    "            modalities, labels = batch  # Unpack modalities and labels\n",
    "\n",
    "            # Concatenate modalities along the feature dimension\n",
    "            #inputs = torch.cat(modalities, dim=-1)  # Shape: (batch_size, time_steps, combined_features)\n",
    "            output = model(modalities)  # Forward pass\n",
    "\n",
    "            # Reshape labels to match the output shape\n",
    "            labels = labels.view(output.shape)\n",
    "\n",
    "            # Compute validation loss\n",
    "            loss = criterion(output, labels)\n",
    "            running_val_loss += loss.item()\n",
    "\n",
    "            # Convert logits to predictions\n",
    "            preds = (torch.sigmoid(output) > 0.5).int()\n",
    "            all_dev_labels.extend(labels.cpu().numpy().flatten())\n",
    "            all_dev_preds.extend(preds.cpu().numpy().flatten())\n",
    "\n",
    "    # Average validation loss for the epoch\n",
    "    val_loss = running_val_loss / len(dev_dataloader)\n",
    "    val_losses.append(val_loss)\n",
    "\n",
    "    # Compute F1-score for training and validation\n",
    "    train_f1 = f1_score(all_train_labels, all_train_preds, average='weighted')\n",
    "    dev_f1 = f1_score(all_dev_labels, all_dev_preds, average='weighted')\n",
    "\n",
    "    # Save the best model based on validation F1-score\n",
    "    if dev_f1 > best_dev_f1:\n",
    "        best_dev_f1 = dev_f1\n",
    "        print(\"Best Validation F1\", epoch, \": \", best_dev_f1)\n",
    "        torch.save(model.state_dict(), \"best_multimodal_model_t3_under.pth\")  # Save the best model\n",
    "\n",
    "    # Print epoch summary\n",
    "    print(f\"Epoch [{epoch+1}/{num_epochs}], Train Loss: {train_loss:.4f}, Val Loss: {val_loss:.4f}, Train F1: {train_f1:.4f}, Val F1: {dev_f1:.4f}\")\n"
   ]
  },
  {
   "cell_type": "code",
   "execution_count": 303,
   "metadata": {},
   "outputs": [
    {
     "data": {
      "text/plain": [
       "<All keys matched successfully>"
      ]
     },
     "execution_count": 303,
     "metadata": {},
     "output_type": "execute_result"
    }
   ],
   "source": [
    "model.load_state_dict(torch.load(\"best_multimodal_model_t3_under.pth\", weights_only=True))"
   ]
  },
  {
   "cell_type": "code",
   "execution_count": 304,
   "metadata": {},
   "outputs": [
    {
     "name": "stdout",
     "output_type": "stream",
     "text": [
      "Predictions:\n",
      "[0 1]\n",
      "Labels:\n",
      "[0. 1.]\n",
      "0.6929544437759368\n"
     ]
    }
   ],
   "source": [
    "# Model prediction\n",
    "model.eval()  # Set model to evaluation mode\n",
    "lab = []\n",
    "predictions = []\n",
    "with torch.no_grad():  # Disable gradient computation\n",
    "    for batch in dev_dataloader:\n",
    "        _data, labels = batch\n",
    "        output = model(_data)  # Model's prediction\n",
    "        \n",
    "        predicts = torch.sigmoid(output)  # Apply sigmoid activation\n",
    "        predicted_classes = (predicts > 0.5).int()  # Convert probabilities to binary predictions\n",
    "        #print(f\"Predicted Probabilities:\\n{predictions}\")\n",
    "        #print(f\"Predicted Classes:\\n{predicted_classes}\")\n",
    "        # Collect predictions\n",
    "        #predictions.append(output)\n",
    "        predictions.append(predicted_classes)\n",
    "        lab.append(labels)\n",
    "\n",
    "# Combine predictions into a single tensor\n",
    "#predictions = torch.cat(predicted_classes, dim=0)\n",
    "#y_pred = np.array(predictions)\n",
    "out = np.concatenate(predictions).ravel()\n",
    "labels = np.concatenate(lab).ravel()\n",
    "dev_f1 = f1_score(labels, out, average='weighted')\n",
    "print(f\"Predictions:\\n{np.unique(out)}\")\n",
    "print(f\"Labels:\\n{np.unique(labels)}\")\n",
    "print(dev_f1)"
   ]
  },
  {
   "cell_type": "code",
   "execution_count": 305,
   "metadata": {},
   "outputs": [
    {
     "name": "stdout",
     "output_type": "stream",
     "text": [
      "Predictions:\n",
      "[0 1]\n",
      "Labels:\n",
      "[0. 1.]\n",
      "0.5467269595176572\n"
     ]
    }
   ],
   "source": [
    "# Model prediction\n",
    "model.eval()  # Set model to evaluation mode\n",
    "lab = []\n",
    "predictions = []\n",
    "with torch.no_grad():  # Disable gradient computation\n",
    "    for batch in train_dataloader:\n",
    "        _data, labels = batch\n",
    "        output = model(_data)  # Model's prediction\n",
    "        \n",
    "        predicts = torch.sigmoid(output)  # Apply sigmoid activation\n",
    "        predicted_classes = (predicts > 0.5).int()  # Convert probabilities to binary predictions\n",
    "        #print(f\"Predicted Probabilities:\\n{predictions}\")\n",
    "        #print(f\"Predicted Classes:\\n{predicted_classes}\")\n",
    "        # Collect predictions\n",
    "        #predictions.append(output)\n",
    "        predictions.append(predicted_classes)\n",
    "        lab.append(labels)\n",
    "\n",
    "# Combine predictions into a single tensor\n",
    "#predictions = torch.cat(predicted_classes, dim=0)\n",
    "#y_pred = np.array(predictions)\n",
    "out_train = np.concatenate(predictions).ravel()\n",
    "labels = np.concatenate(lab).ravel()\n",
    "dev_f1 = f1_score(labels, out_train, average='weighted')\n",
    "print(f\"Predictions:\\n{np.unique(out)}\")\n",
    "print(f\"Labels:\\n{np.unique(labels)}\")\n",
    "print(dev_f1)"
   ]
  },
  {
   "cell_type": "code",
   "execution_count": 306,
   "metadata": {},
   "outputs": [
    {
     "data": {
      "image/png": "[encoded data removed]",
      "text/plain": [
       "<Figure size 800x600 with 1 Axes>"
      ]
     },
     "metadata": {},
     "output_type": "display_data"
    }
   ],
   "source": [
    "# Plot training and validation losses\n",
    "plt.figure(figsize=(8, 6))\n",
    "plt.plot(train_losses, label=\"Training Loss\")\n",
    "plt.plot(val_losses, label=\"Validation Loss\")\n",
    "plt.xlabel(\"Epoch\")\n",
    "plt.ylabel(\"Loss\")\n",
    "plt.title(\"Training and Validation Loss\")\n",
    "plt.legend()\n",
    "plt.savefig(\"loss_plot.png\")  # Save the plot\n",
    "plt.show()"
   ]
  },
  {
   "cell_type": "code",
   "execution_count": 307,
   "metadata": {},
   "outputs": [],
   "source": [
    "y_pred= out"
   ]
  },
  {
   "cell_type": "code",
   "execution_count": 308,
   "metadata": {},
   "outputs": [],
   "source": [
    "y_test = np.array(features_csv[features_csv[\"split\"]==\"dev\"][\"PTSD_label\"].values)"
   ]
  },
  {
   "cell_type": "code",
   "execution_count": 309,
   "metadata": {},
   "outputs": [
    {
     "data": {
      "text/plain": [
       "array(['female', 'male'], dtype=object)"
      ]
     },
     "execution_count": 309,
     "metadata": {},
     "output_type": "execute_result"
    }
   ],
   "source": [
    "np.unique(features_csv['gender'])"
   ]
  },
  {
   "cell_type": "code",
   "execution_count": 310,
   "metadata": {},
   "outputs": [],
   "source": [
    "features_csv['col_encoded'] = features_csv['gender'].map({'female': 0, 'male': 1, 'unknown':1})"
   ]
  },
  {
   "cell_type": "code",
   "execution_count": 311,
   "metadata": {},
   "outputs": [
    {
     "data": {
      "text/plain": [
       "array([0, 1])"
      ]
     },
     "execution_count": 311,
     "metadata": {},
     "output_type": "execute_result"
    }
   ],
   "source": [
    "np.unique(features_csv['col_encoded'])"
   ]
  },
  {
   "cell_type": "code",
   "execution_count": 312,
   "metadata": {},
   "outputs": [
    {
     "name": "stdout",
     "output_type": "stream",
     "text": [
      "Shape of gender_test: (41,)\n",
      "Shape of y_test: (41,)\n",
      "Shape of y_pred: (41,)\n"
     ]
    }
   ],
   "source": [
    "from fairlearn.metrics import demographic_parity_difference\n",
    "\n",
    "# Assuming `gender` corresponds to the original metadata\n",
    "# Split the dataset into training and testing sets for `gender`\n",
    "gender_train, gender_test = features_csv[features_csv[\"split\"]==\"dev\"][\"col_encoded\"], features_csv[features_csv[\"split\"]==\"dev\"][\"col_encoded\"]\n",
    "\n",
    "# Ensure that `gender_test`, `y_test`, and `y_pred` are aligned\n",
    "print(f\"Shape of gender_test: {gender_train.shape}\")\n",
    "print(f\"Shape of y_test: {y_test.shape}\")\n",
    "print(f\"Shape of y_pred: {y_pred.shape}\")\n",
    "\n"
   ]
  },
  {
   "cell_type": "code",
   "execution_count": 313,
   "metadata": {},
   "outputs": [
    {
     "name": "stdout",
     "output_type": "stream",
     "text": [
      "Demographic Parity Difference: 0.11904761904761907\n"
     ]
    }
   ],
   "source": [
    "# Calculate Demographic Parity Difference\n",
    "demographic_parity = demographic_parity_difference(\n",
    "    y_true=y_test,\n",
    "    y_pred=y_pred,\n",
    "    sensitive_features=gender_train\n",
    ")\n",
    "\n",
    "print(f\"Demographic Parity Difference: {demographic_parity}\")"
   ]
  },
  {
   "cell_type": "code",
   "execution_count": 314,
   "metadata": {},
   "outputs": [
    {
     "name": "stdout",
     "output_type": "stream",
     "text": [
      "Selection Rates by Group:\n",
      "col_encoded\n",
      "0    0.500000\n",
      "1    0.380952\n",
      "Name: selection_rate, dtype: float64\n"
     ]
    }
   ],
   "source": [
    "from fairlearn.metrics import MetricFrame, selection_rate\n",
    "metric_frame = MetricFrame(metrics=selection_rate, \n",
    "                           y_true=y_test, \n",
    "                           y_pred=y_pred, \n",
    "                           sensitive_features=gender_train)\n",
    "\n",
    "# Get selection rates for each group\n",
    "selection_rates = metric_frame.by_group\n",
    "print(\"Selection Rates by Group:\")\n",
    "print(selection_rates)\n"
   ]
  },
  {
   "cell_type": "code",
   "execution_count": 315,
   "metadata": {},
   "outputs": [
    {
     "name": "stdout",
     "output_type": "stream",
     "text": [
      "Demographic Parity Ratio: 0.7619047619047619\n"
     ]
    }
   ],
   "source": [
    "group_a_rate = selection_rates[1]\n",
    "group_b_rate = selection_rates[0]\n",
    "\n",
    "if group_b_rate > 0:  # Avoid division by zero\n",
    "    demographic_parity_ratio = group_a_rate / group_b_rate\n",
    "    print(f\"Demographic Parity Ratio: {demographic_parity_ratio}\")\n",
    "    if demographic_parity_ratio>1:\n",
    "        print(1/demographic_parity_ratio)"
   ]
  },
  {
   "cell_type": "code",
   "execution_count": null,
   "metadata": {},
   "outputs": [],
   "source": []
  },
  {
   "attachments": {},
   "cell_type": "markdown",
   "metadata": {},
   "source": [
    "## T4"
   ]
  },
  {
   "cell_type": "code",
   "execution_count": 318,
   "metadata": {},
   "outputs": [],
   "source": [
    "# Example usage\n",
    "model = MultiModalDeepConvLSTM(\n",
    "    modality_configs=[(768, 64),(80, 64)],\n",
    "    lstm_hidden_size=128, \n",
    "    lstm_layers=2, \n",
    "    output_size=1, \n",
    "    dropout=0.5\n",
    ")"
   ]
  },
  {
   "cell_type": "code",
   "execution_count": 319,
   "metadata": {},
   "outputs": [
    {
     "data": {
      "text/plain": [
       "827265"
      ]
     },
     "execution_count": 319,
     "metadata": {},
     "output_type": "execute_result"
    }
   ],
   "source": [
    "sum(p.numel() for p in model.parameters() if p.requires_grad)"
   ]
  },
  {
   "cell_type": "code",
   "execution_count": 320,
   "metadata": {},
   "outputs": [],
   "source": [
    "learning_rate = 0.001\n",
    "num_epochs = 50\n",
    "optimizer = optim.AdamW(model.parameters(), lr=learning_rate)"
   ]
  },
  {
   "cell_type": "code",
   "execution_count": 321,
   "metadata": {},
   "outputs": [],
   "source": [
    "labels_torch = torch.from_numpy(features_csv[features_csv[\"split\"]==\"train\"][\"PTSD_label\"].values)"
   ]
  },
  {
   "cell_type": "markdown",
   "metadata": {},
   "source": [
    "For example, if a dataset contains 100 positive and 300 negative examples of a single class, then pos_weight for the class should be equal to 300/100=3. The loss would act as if the dataset contains 3×100=300 positive examples."
   ]
  },
  {
   "cell_type": "code",
   "execution_count": 322,
   "metadata": {},
   "outputs": [
    {
     "name": "stdout",
     "output_type": "stream",
     "text": [
      "tensor([87, 42])\n",
      "tensor(2.0714)\n"
     ]
    }
   ],
   "source": [
    "# Calculate class weights\n",
    "class_counts = torch.bincount(labels_torch)  # Get counts for each class\n",
    "print(class_counts)\n",
    "class_weight = class_counts[0] / class_counts[1]\n",
    "print(class_weight)\n",
    "# Apply weights to loss function\n",
    "criterion = nn.BCEWithLogitsLoss(pos_weight=class_weight)  # Weight for positive class\n"
   ]
  },
  {
   "cell_type": "code",
   "execution_count": 323,
   "metadata": {},
   "outputs": [
    {
     "name": "stdout",
     "output_type": "stream",
     "text": [
      "Best Validation F1 0 :  0.5870774497218656\n",
      "Epoch [1/50], Train Loss: 0.9366, Val Loss: 0.8863, Train F1: 0.5030, Val F1: 0.5871\n",
      "Epoch [2/50], Train Loss: 0.9365, Val Loss: 0.8864, Train F1: 0.5584, Val F1: 0.5300\n",
      "Best Validation F1 2 :  0.5984788880146865\n",
      "Epoch [3/50], Train Loss: 0.9158, Val Loss: 0.9016, Train F1: 0.7140, Val F1: 0.5985\n",
      "Epoch [4/50], Train Loss: 0.8148, Val Loss: 0.9682, Train F1: 0.6996, Val F1: 0.5474\n",
      "Epoch [5/50], Train Loss: 0.6656, Val Loss: 1.3587, Train F1: 0.7719, Val F1: 0.5040\n",
      "Epoch [6/50], Train Loss: 0.6210, Val Loss: 1.4134, Train F1: 0.7963, Val F1: 0.4443\n",
      "Epoch [7/50], Train Loss: 0.4292, Val Loss: 1.7050, Train F1: 0.8686, Val F1: 0.4998\n",
      "Epoch [8/50], Train Loss: 0.4059, Val Loss: 2.0623, Train F1: 0.9075, Val F1: 0.4818\n",
      "Epoch [9/50], Train Loss: 0.3242, Val Loss: 2.1774, Train F1: 0.9162, Val F1: 0.5040\n",
      "Epoch [10/50], Train Loss: 0.2410, Val Loss: 2.0951, Train F1: 0.9376, Val F1: 0.5701\n",
      "Epoch [11/50], Train Loss: 0.3211, Val Loss: 1.8111, Train F1: 0.9159, Val F1: 0.4815\n",
      "Epoch [12/50], Train Loss: 0.2161, Val Loss: 1.9605, Train F1: 0.9150, Val F1: 0.5003\n",
      "Epoch [13/50], Train Loss: 0.1221, Val Loss: 2.4378, Train F1: 0.9693, Val F1: 0.4522\n",
      "Epoch [14/50], Train Loss: 0.6159, Val Loss: 1.8096, Train F1: 0.8480, Val F1: 0.5985\n",
      "Epoch [15/50], Train Loss: 0.5356, Val Loss: 1.2821, Train F1: 0.8265, Val F1: 0.4785\n",
      "Epoch [16/50], Train Loss: 0.2797, Val Loss: 1.4314, Train F1: 0.9459, Val F1: 0.5003\n",
      "Epoch [17/50], Train Loss: 0.2267, Val Loss: 1.5413, Train F1: 0.9614, Val F1: 0.5122\n",
      "Epoch [18/50], Train Loss: 0.1013, Val Loss: 1.8833, Train F1: 0.9769, Val F1: 0.4821\n",
      "Epoch [19/50], Train Loss: 0.0655, Val Loss: 1.9965, Train F1: 0.9923, Val F1: 0.5181\n",
      "Epoch [20/50], Train Loss: 0.0491, Val Loss: 2.3295, Train F1: 0.9923, Val F1: 0.5410\n",
      "Epoch [21/50], Train Loss: 0.0197, Val Loss: 2.8534, Train F1: 1.0000, Val F1: 0.4998\n",
      "Epoch [22/50], Train Loss: 0.1016, Val Loss: 2.9974, Train F1: 0.9693, Val F1: 0.5003\n",
      "Epoch [23/50], Train Loss: 0.0579, Val Loss: 2.7206, Train F1: 0.9923, Val F1: 0.5873\n",
      "Epoch [24/50], Train Loss: 0.1926, Val Loss: 3.1171, Train F1: 0.9611, Val F1: 0.5040\n",
      "Epoch [25/50], Train Loss: 0.3768, Val Loss: 2.2378, Train F1: 0.9162, Val F1: 0.4726\n",
      "Epoch [26/50], Train Loss: 0.3236, Val Loss: 1.7601, Train F1: 0.9383, Val F1: 0.5410\n",
      "Epoch [27/50], Train Loss: 0.1467, Val Loss: 1.9186, Train F1: 0.9693, Val F1: 0.5003\n",
      "Epoch [28/50], Train Loss: 0.0946, Val Loss: 2.3639, Train F1: 0.9922, Val F1: 0.4821\n",
      "Epoch [29/50], Train Loss: 0.0488, Val Loss: 2.5272, Train F1: 0.9923, Val F1: 0.5357\n",
      "Epoch [30/50], Train Loss: 0.0470, Val Loss: 2.7001, Train F1: 0.9923, Val F1: 0.5003\n",
      "Epoch [31/50], Train Loss: 0.0756, Val Loss: 3.0024, Train F1: 0.9845, Val F1: 0.4443\n",
      "Epoch [32/50], Train Loss: 0.0879, Val Loss: 3.0624, Train F1: 0.9845, Val F1: 0.5206\n",
      "Epoch [33/50], Train Loss: 0.1394, Val Loss: 3.1156, Train F1: 0.9616, Val F1: 0.3960\n",
      "Epoch [34/50], Train Loss: 0.1061, Val Loss: 3.1110, Train F1: 0.9692, Val F1: 0.4503\n",
      "Epoch [35/50], Train Loss: 0.1027, Val Loss: 2.7247, Train F1: 0.9690, Val F1: 0.4327\n",
      "Epoch [36/50], Train Loss: 0.0693, Val Loss: 2.9078, Train F1: 0.9690, Val F1: 0.5503\n",
      "Epoch [37/50], Train Loss: 0.1317, Val Loss: 3.3862, Train F1: 0.9614, Val F1: 0.4311\n",
      "Epoch [38/50], Train Loss: 0.0542, Val Loss: 3.4791, Train F1: 0.9768, Val F1: 0.4821\n",
      "Epoch [39/50], Train Loss: 0.0183, Val Loss: 3.6569, Train F1: 1.0000, Val F1: 0.5122\n",
      "Epoch [40/50], Train Loss: 0.0669, Val Loss: 3.6028, Train F1: 0.9768, Val F1: 0.3876\n",
      "Epoch [41/50], Train Loss: 0.1011, Val Loss: 3.4027, Train F1: 0.9618, Val F1: 0.4841\n",
      "Epoch [42/50], Train Loss: 0.2231, Val Loss: 3.4061, Train F1: 0.9688, Val F1: 0.5181\n",
      "Epoch [43/50], Train Loss: 0.0809, Val Loss: 3.2003, Train F1: 0.9768, Val F1: 0.4311\n",
      "Epoch [44/50], Train Loss: 0.0260, Val Loss: 3.0052, Train F1: 0.9923, Val F1: 0.4785\n",
      "Epoch [45/50], Train Loss: 0.0601, Val Loss: 3.1422, Train F1: 0.9692, Val F1: 0.4095\n",
      "Epoch [46/50], Train Loss: 0.0136, Val Loss: 3.3011, Train F1: 1.0000, Val F1: 0.4634\n",
      "Epoch [47/50], Train Loss: 0.0079, Val Loss: 3.4713, Train F1: 1.0000, Val F1: 0.4443\n",
      "Epoch [48/50], Train Loss: 0.0227, Val Loss: 3.7405, Train F1: 1.0000, Val F1: 0.4311\n",
      "Epoch [49/50], Train Loss: 0.0757, Val Loss: 4.4644, Train F1: 0.9767, Val F1: 0.4344\n",
      "Epoch [50/50], Train Loss: 0.0655, Val Loss: 4.0143, Train F1: 0.9769, Val F1: 0.5040\n"
     ]
    }
   ],
   "source": [
    "from sklearn.metrics import f1_score\n",
    "\n",
    "# Define variables to track losses\n",
    "train_losses = []\n",
    "val_losses = []\n",
    "best_dev_f1 = float('-inf')  # Initialize best validation F1 score\n",
    "\n",
    "# Training loop\n",
    "for epoch in range(num_epochs):\n",
    "    model.train()  # Set model to training mode\n",
    "\n",
    "    running_train_loss = 0.0\n",
    "    all_train_labels = []\n",
    "    all_train_preds = []\n",
    "    all_dev_labels = []\n",
    "    all_dev_preds = []\n",
    "\n",
    "    # Training Phase\n",
    "    for batch in train_dataloader:\n",
    "        modalities, labels = batch  # Unpack modalities and labels\n",
    "        optimizer.zero_grad()\n",
    "\n",
    "        # Concatenate modalities along the feature dimension (if required by the model)\n",
    "        #inputs = torch.cat(modalities, dim=-1)  # Shape: (batch_size, time_steps, combined_features)\n",
    "        output = model(modalities)  # Forward pass through the model\n",
    "\n",
    "        # Reshape labels to match the output shape\n",
    "        labels = labels.view(output.shape)\n",
    "\n",
    "        # Compute loss\n",
    "        loss = criterion(output, labels)\n",
    "        loss.backward()  # Backpropagation\n",
    "        optimizer.step()  # Update model parameters\n",
    "\n",
    "        # Accumulate training loss\n",
    "        running_train_loss += loss.item()\n",
    "\n",
    "        # Convert logits to predictions (assuming binary classification)\n",
    "        preds = (torch.sigmoid(output) > 0.5).int()\n",
    "        all_train_labels.extend(labels.cpu().numpy().flatten())\n",
    "        all_train_preds.extend(preds.cpu().numpy().flatten())\n",
    "\n",
    "    # Average training loss for the epoch\n",
    "    train_loss = running_train_loss / len(train_dataloader)\n",
    "    train_losses.append(train_loss)\n",
    "\n",
    "    # Validation Phase\n",
    "    model.eval()  # Set model to evaluation mode\n",
    "    running_val_loss = 0.0\n",
    "\n",
    "    with torch.no_grad():  # Disable gradient computation for validation\n",
    "        for batch in dev_dataloader:  # Use validation DataLoader\n",
    "            modalities, labels = batch  # Unpack modalities and labels\n",
    "\n",
    "            # Concatenate modalities along the feature dimension\n",
    "            #inputs = torch.cat(modalities, dim=-1)  # Shape: (batch_size, time_steps, combined_features)\n",
    "            output = model(modalities)  # Forward pass\n",
    "\n",
    "            # Reshape labels to match the output shape\n",
    "            labels = labels.view(output.shape)\n",
    "\n",
    "            # Compute validation loss\n",
    "            loss = criterion(output, labels)\n",
    "            running_val_loss += loss.item()\n",
    "\n",
    "            # Convert logits to predictions\n",
    "            preds = (torch.sigmoid(output) > 0.5).int()\n",
    "            all_dev_labels.extend(labels.cpu().numpy().flatten())\n",
    "            all_dev_preds.extend(preds.cpu().numpy().flatten())\n",
    "\n",
    "    # Average validation loss for the epoch\n",
    "    val_loss = running_val_loss / len(dev_dataloader)\n",
    "    val_losses.append(val_loss)\n",
    "\n",
    "    # Compute F1-score for training and validation\n",
    "    train_f1 = f1_score(all_train_labels, all_train_preds, average='weighted')\n",
    "    dev_f1 = f1_score(all_dev_labels, all_dev_preds, average='weighted')\n",
    "\n",
    "    # Save the best model based on validation F1-score\n",
    "    if dev_f1 > best_dev_f1:\n",
    "        best_dev_f1 = dev_f1\n",
    "        print(\"Best Validation F1\", epoch, \": \", best_dev_f1)\n",
    "        torch.save(model.state_dict(), \"best_multimodal_model_t4_under.pth\")  # Save the best model\n",
    "\n",
    "    # Print epoch summary\n",
    "    print(f\"Epoch [{epoch+1}/{num_epochs}], Train Loss: {train_loss:.4f}, Val Loss: {val_loss:.4f}, Train F1: {train_f1:.4f}, Val F1: {dev_f1:.4f}\")\n"
   ]
  },
  {
   "cell_type": "code",
   "execution_count": 324,
   "metadata": {},
   "outputs": [
    {
     "data": {
      "text/plain": [
       "<All keys matched successfully>"
      ]
     },
     "execution_count": 324,
     "metadata": {},
     "output_type": "execute_result"
    }
   ],
   "source": [
    "model.load_state_dict(torch.load(\"best_multimodal_model_t4_under.pth\", weights_only=True))"
   ]
  },
  {
   "cell_type": "code",
   "execution_count": 325,
   "metadata": {},
   "outputs": [
    {
     "name": "stdout",
     "output_type": "stream",
     "text": [
      "Predictions:\n",
      "[0 1]\n",
      "Labels:\n",
      "[0. 1.]\n",
      "0.5984788880146865\n"
     ]
    }
   ],
   "source": [
    "# Model prediction\n",
    "model.eval()  # Set model to evaluation mode\n",
    "lab = []\n",
    "predictions = []\n",
    "with torch.no_grad():  # Disable gradient computation\n",
    "    for batch in dev_dataloader:\n",
    "        _data, labels = batch\n",
    "        output = model(_data)  # Model's prediction\n",
    "        \n",
    "        predicts = torch.sigmoid(output)  # Apply sigmoid activation\n",
    "        predicted_classes = (predicts > 0.5).int()  # Convert probabilities to binary predictions\n",
    "        #print(f\"Predicted Probabilities:\\n{predictions}\")\n",
    "        #print(f\"Predicted Classes:\\n{predicted_classes}\")\n",
    "        # Collect predictions\n",
    "        #predictions.append(output)\n",
    "        predictions.append(predicted_classes)\n",
    "        lab.append(labels)\n",
    "\n",
    "# Combine predictions into a single tensor\n",
    "#predictions = torch.cat(predicted_classes, dim=0)\n",
    "#y_pred = np.array(predictions)\n",
    "out = np.concatenate(predictions).ravel()\n",
    "labels = np.concatenate(lab).ravel()\n",
    "dev_f1 = f1_score(labels, out, average='weighted')\n",
    "print(f\"Predictions:\\n{np.unique(out)}\")\n",
    "print(f\"Labels:\\n{np.unique(labels)}\")\n",
    "print(dev_f1)"
   ]
  },
  {
   "cell_type": "code",
   "execution_count": 326,
   "metadata": {},
   "outputs": [
    {
     "name": "stdout",
     "output_type": "stream",
     "text": [
      "Predictions:\n",
      "[0 1]\n",
      "Labels:\n",
      "[0. 1.]\n",
      "0.7727217870892217\n"
     ]
    }
   ],
   "source": [
    "# Model prediction\n",
    "model.eval()  # Set model to evaluation mode\n",
    "lab = []\n",
    "predictions = []\n",
    "with torch.no_grad():  # Disable gradient computation\n",
    "    for batch in train_dataloader:\n",
    "        _data, labels = batch\n",
    "        output = model(_data)  # Model's prediction\n",
    "        \n",
    "        predicts = torch.sigmoid(output)  # Apply sigmoid activation\n",
    "        predicted_classes = (predicts > 0.5).int()  # Convert probabilities to binary predictions\n",
    "        #print(f\"Predicted Probabilities:\\n{predictions}\")\n",
    "        #print(f\"Predicted Classes:\\n{predicted_classes}\")\n",
    "        # Collect predictions\n",
    "        #predictions.append(output)\n",
    "        predictions.append(predicted_classes)\n",
    "        lab.append(labels)\n",
    "\n",
    "# Combine predictions into a single tensor\n",
    "#predictions = torch.cat(predicted_classes, dim=0)\n",
    "#y_pred = np.array(predictions)\n",
    "out_train = np.concatenate(predictions).ravel()\n",
    "labels = np.concatenate(lab).ravel()\n",
    "dev_f1 = f1_score(labels, out_train, average='weighted')\n",
    "print(f\"Predictions:\\n{np.unique(out)}\")\n",
    "print(f\"Labels:\\n{np.unique(labels)}\")\n",
    "print(dev_f1)"
   ]
  },
  {
   "cell_type": "code",
   "execution_count": 327,
   "metadata": {},
   "outputs": [
    {
     "data": {
      "image/png": "[encoded data removed]",
      "text/plain": [
       "<Figure size 800x600 with 1 Axes>"
      ]
     },
     "metadata": {},
     "output_type": "display_data"
    }
   ],
   "source": [
    "# Plot training and validation losses\n",
    "plt.figure(figsize=(8, 6))\n",
    "plt.plot(train_losses, label=\"Training Loss\")\n",
    "plt.plot(val_losses, label=\"Validation Loss\")\n",
    "plt.xlabel(\"Epoch\")\n",
    "plt.ylabel(\"Loss\")\n",
    "plt.title(\"Training and Validation Loss\")\n",
    "plt.legend()\n",
    "plt.savefig(\"loss_plot.png\")  # Save the plot\n",
    "plt.show()"
   ]
  },
  {
   "cell_type": "code",
   "execution_count": 328,
   "metadata": {},
   "outputs": [],
   "source": [
    "y_pred= out"
   ]
  },
  {
   "cell_type": "code",
   "execution_count": 329,
   "metadata": {},
   "outputs": [],
   "source": [
    "y_test = np.array(features_csv[features_csv[\"split\"]==\"dev\"][\"PTSD_label\"].values)"
   ]
  },
  {
   "cell_type": "code",
   "execution_count": 330,
   "metadata": {},
   "outputs": [
    {
     "data": {
      "text/plain": [
       "array(['female', 'male'], dtype=object)"
      ]
     },
     "execution_count": 330,
     "metadata": {},
     "output_type": "execute_result"
    }
   ],
   "source": [
    "np.unique(features_csv['gender'])"
   ]
  },
  {
   "cell_type": "code",
   "execution_count": 331,
   "metadata": {},
   "outputs": [],
   "source": [
    "features_csv['col_encoded'] = features_csv['gender'].map({'female': 0, 'male': 1, 'unknown':1})"
   ]
  },
  {
   "cell_type": "code",
   "execution_count": 332,
   "metadata": {},
   "outputs": [
    {
     "data": {
      "text/plain": [
       "array([0, 1])"
      ]
     },
     "execution_count": 332,
     "metadata": {},
     "output_type": "execute_result"
    }
   ],
   "source": [
    "np.unique(features_csv['col_encoded'])"
   ]
  },
  {
   "cell_type": "code",
   "execution_count": 333,
   "metadata": {},
   "outputs": [
    {
     "name": "stdout",
     "output_type": "stream",
     "text": [
      "Shape of gender_test: (41,)\n",
      "Shape of y_test: (41,)\n",
      "Shape of y_pred: (41,)\n"
     ]
    }
   ],
   "source": [
    "from fairlearn.metrics import demographic_parity_difference\n",
    "\n",
    "# Assuming `gender` corresponds to the original metadata\n",
    "# Split the dataset into training and testing sets for `gender`\n",
    "gender_train, gender_test = features_csv[features_csv[\"split\"]==\"dev\"][\"col_encoded\"], features_csv[features_csv[\"split\"]==\"dev\"][\"col_encoded\"]\n",
    "\n",
    "# Ensure that `gender_test`, `y_test`, and `y_pred` are aligned\n",
    "print(f\"Shape of gender_test: {gender_train.shape}\")\n",
    "print(f\"Shape of y_test: {y_test.shape}\")\n",
    "print(f\"Shape of y_pred: {y_pred.shape}\")\n",
    "\n"
   ]
  },
  {
   "cell_type": "code",
   "execution_count": 334,
   "metadata": {},
   "outputs": [
    {
     "name": "stdout",
     "output_type": "stream",
     "text": [
      "Demographic Parity Difference: 0.021428571428571463\n"
     ]
    }
   ],
   "source": [
    "# Calculate Demographic Parity Difference\n",
    "demographic_parity = demographic_parity_difference(\n",
    "    y_true=y_test,\n",
    "    y_pred=y_pred,\n",
    "    sensitive_features=gender_train\n",
    ")\n",
    "\n",
    "print(f\"Demographic Parity Difference: {demographic_parity}\")"
   ]
  },
  {
   "cell_type": "code",
   "execution_count": 335,
   "metadata": {},
   "outputs": [
    {
     "name": "stdout",
     "output_type": "stream",
     "text": [
      "Selection Rates by Group:\n",
      "col_encoded\n",
      "0    0.450000\n",
      "1    0.428571\n",
      "Name: selection_rate, dtype: float64\n"
     ]
    }
   ],
   "source": [
    "from fairlearn.metrics import MetricFrame, selection_rate\n",
    "metric_frame = MetricFrame(metrics=selection_rate, \n",
    "                           y_true=y_test, \n",
    "                           y_pred=y_pred, \n",
    "                           sensitive_features=gender_train)\n",
    "\n",
    "# Get selection rates for each group\n",
    "selection_rates = metric_frame.by_group\n",
    "print(\"Selection Rates by Group:\")\n",
    "print(selection_rates)\n"
   ]
  },
  {
   "cell_type": "code",
   "execution_count": 336,
   "metadata": {},
   "outputs": [
    {
     "name": "stdout",
     "output_type": "stream",
     "text": [
      "Demographic Parity Ratio: 0.9523809523809523\n"
     ]
    }
   ],
   "source": [
    "group_a_rate = selection_rates[1]\n",
    "group_b_rate = selection_rates[0]\n",
    "\n",
    "if group_b_rate > 0:  # Avoid division by zero\n",
    "    demographic_parity_ratio = group_a_rate / group_b_rate\n",
    "    print(f\"Demographic Parity Ratio: {demographic_parity_ratio}\")\n",
    "    if demographic_parity_ratio>1:\n",
    "        print(1/demographic_parity_ratio)"
   ]
  },
  {
   "cell_type": "code",
   "execution_count": null,
   "metadata": {},
   "outputs": [],
   "source": []
  }
 ],
 "metadata": {
  "kernelspec": {
   "display_name": "Python 3",
   "language": "python",
   "name": "python3"
  },
  "language_info": {
   "codemirror_mode": {
    "name": "ipython",
    "version": 3
   },
   "file_extension": ".py",
   "mimetype": "text/x-python",
   "name": "python",
   "nbconvert_exporter": "python",
   "pygments_lexer": "ipython3",
   "version": "3.12.2"
  },
  "orig_nbformat": 4
 },
 "nbformat": 4,
 "nbformat_minor": 2
}
