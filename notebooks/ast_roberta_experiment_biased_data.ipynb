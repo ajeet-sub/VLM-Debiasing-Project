{
 "cells": [
  {
   "cell_type": "markdown",
   "metadata": {},
   "source": [
    "# Imports"
   ]
  },
  {
   "cell_type": "code",
   "execution_count": 1,
   "metadata": {},
   "outputs": [],
   "source": [
    "%load_ext autoreload"
   ]
  },
  {
   "cell_type": "code",
   "execution_count": 2,
   "metadata": {},
   "outputs": [],
   "source": [
    "import sys\n",
    "sys.path.append('/home/hice1/mbibars3/scratch/vlm-debiasing/VLM-Debiasing-Project/scripts')"
   ]
  },
  {
   "cell_type": "code",
   "execution_count": 3,
   "metadata": {},
   "outputs": [],
   "source": [
    "%autoreload 2\n",
    "import pandas as pd\n",
    "import numpy as np\n",
    "import os\n",
    "import model as m\n",
    "import torch\n",
    "import torch.nn as nn\n",
    "import torch.optim as optim\n",
    "import loaders\n",
    "from torch.utils.data import Dataset, DataLoader\n",
    "import matplotlib.pyplot as plt"
   ]
  },
  {
   "cell_type": "code",
   "execution_count": 4,
   "metadata": {},
   "outputs": [],
   "source": [
    "import random\n",
    "\n",
    "def mixup_data(x1, x2, y1, y2, alpha=1.0):\n",
    "    \"\"\"\n",
    "    Perform MixUp between two samples.\n",
    "    \n",
    "    Args:\n",
    "        x1: The first sample (input tensor).\n",
    "        x2: The second sample (input tensor).\n",
    "        y1: The first label.\n",
    "        y2: The second label.\n",
    "        alpha: The mixing parameter (lambda), which controls the weight of each sample.\n",
    "\n",
    "    Returns:\n",
    "        mixed_x: The mixed input tensor.\n",
    "        mixed_y: The mixed label tensor.\n",
    "        lambda_value: The value of lambda (how much of each sample is mixed).\n",
    "    \"\"\"\n",
    "    # Generate the mixing factor lambda from a Beta distribution\n",
    "    lambda_value = torch.distributions.Beta(alpha, alpha).sample().item()\n",
    "\n",
    "    # Perform MixUp for inputs\n",
    "    mixed_x = lambda_value * x1 + (1 - lambda_value) * x2\n",
    "    \n",
    "    # Perform MixUp for labels\n",
    "    mixed_y = lambda_value * y1 + (1 - lambda_value) * y2\n",
    "    \n",
    "    return mixed_x, mixed_y, lambda_value\n"
   ]
  },
  {
   "attachments": {},
   "cell_type": "markdown",
   "metadata": {},
   "source": [
    "# Text-Audio-Visual"
   ]
  },
  {
   "attachments": {},
   "cell_type": "markdown",
   "metadata": {},
   "source": [
    "- text: Roberta\n",
    "- audio: AST\n",
    "- visual: densenet features"
   ]
  },
  {
   "attachments": {},
   "cell_type": "markdown",
   "metadata": {},
   "source": [
    "# Data"
   ]
  },
  {
   "cell_type": "code",
   "execution_count": 5,
   "metadata": {},
   "outputs": [
    {
     "data": {
      "text/html": [
       "<div>\n",
       "<style scoped>\n",
       "    .dataframe tbody tr th:only-of-type {\n",
       "        vertical-align: middle;\n",
       "    }\n",
       "\n",
       "    .dataframe tbody tr th {\n",
       "        vertical-align: top;\n",
       "    }\n",
       "\n",
       "    .dataframe thead th {\n",
       "        text-align: right;\n",
       "    }\n",
       "</style>\n",
       "<table border=\"1\" class=\"dataframe\">\n",
       "  <thead>\n",
       "    <tr style=\"text-align: right;\">\n",
       "      <th></th>\n",
       "      <th>split</th>\n",
       "      <th>label</th>\n",
       "      <th>label.1</th>\n",
       "      <th>gender</th>\n",
       "      <th>audio</th>\n",
       "      <th>text</th>\n",
       "      <th>visual</th>\n",
       "      <th>aud_egemaps</th>\n",
       "      <th>aud_ast</th>\n",
       "    </tr>\n",
       "  </thead>\n",
       "  <tbody>\n",
       "    <tr>\n",
       "      <th>0</th>\n",
       "      <td>train</td>\n",
       "      <td>22.0</td>\n",
       "      <td>0</td>\n",
       "      <td>female</td>\n",
       "      <td>/home/hice1/mbibars3/scratch/vlm-debiasing/dat...</td>\n",
       "      <td>/home/hice1/mbibars3/scratch/vlm-debiasing/dat...</td>\n",
       "      <td>/home/hice1/mbibars3/scratch/vlm-debiasing/dat...</td>\n",
       "      <td>/home/hice1/mbibars3/scratch/vlm-debiasing/dat...</td>\n",
       "      <td>/home/hice1/mbibars3/scratch/vlm-debiasing/dat...</td>\n",
       "    </tr>\n",
       "    <tr>\n",
       "      <th>1</th>\n",
       "      <td>test</td>\n",
       "      <td>23.0</td>\n",
       "      <td>0</td>\n",
       "      <td>male</td>\n",
       "      <td>/home/hice1/mbibars3/scratch/vlm-debiasing/dat...</td>\n",
       "      <td>/home/hice1/mbibars3/scratch/vlm-debiasing/dat...</td>\n",
       "      <td>/home/hice1/mbibars3/scratch/vlm-debiasing/dat...</td>\n",
       "      <td>/home/hice1/mbibars3/scratch/vlm-debiasing/dat...</td>\n",
       "      <td>/home/hice1/mbibars3/scratch/vlm-debiasing/dat...</td>\n",
       "    </tr>\n",
       "    <tr>\n",
       "      <th>2</th>\n",
       "      <td>train</td>\n",
       "      <td>19.0</td>\n",
       "      <td>0</td>\n",
       "      <td>male</td>\n",
       "      <td>/home/hice1/mbibars3/scratch/vlm-debiasing/dat...</td>\n",
       "      <td>/home/hice1/mbibars3/scratch/vlm-debiasing/dat...</td>\n",
       "      <td>/home/hice1/mbibars3/scratch/vlm-debiasing/dat...</td>\n",
       "      <td>/home/hice1/mbibars3/scratch/vlm-debiasing/dat...</td>\n",
       "      <td>/home/hice1/mbibars3/scratch/vlm-debiasing/dat...</td>\n",
       "    </tr>\n",
       "    <tr>\n",
       "      <th>3</th>\n",
       "      <td>train</td>\n",
       "      <td>67.0</td>\n",
       "      <td>1</td>\n",
       "      <td>female</td>\n",
       "      <td>/home/hice1/mbibars3/scratch/vlm-debiasing/dat...</td>\n",
       "      <td>/home/hice1/mbibars3/scratch/vlm-debiasing/dat...</td>\n",
       "      <td>/home/hice1/mbibars3/scratch/vlm-debiasing/dat...</td>\n",
       "      <td>/home/hice1/mbibars3/scratch/vlm-debiasing/dat...</td>\n",
       "      <td>/home/hice1/mbibars3/scratch/vlm-debiasing/dat...</td>\n",
       "    </tr>\n",
       "    <tr>\n",
       "      <th>4</th>\n",
       "      <td>dev</td>\n",
       "      <td>39.0</td>\n",
       "      <td>0</td>\n",
       "      <td>male</td>\n",
       "      <td>/home/hice1/mbibars3/scratch/vlm-debiasing/dat...</td>\n",
       "      <td>/home/hice1/mbibars3/scratch/vlm-debiasing/dat...</td>\n",
       "      <td>/home/hice1/mbibars3/scratch/vlm-debiasing/dat...</td>\n",
       "      <td>/home/hice1/mbibars3/scratch/vlm-debiasing/dat...</td>\n",
       "      <td>/home/hice1/mbibars3/scratch/vlm-debiasing/dat...</td>\n",
       "    </tr>\n",
       "  </tbody>\n",
       "</table>\n",
       "</div>"
      ],
      "text/plain": [
       "   split  label  label.1  gender  \\\n",
       "0  train   22.0        0  female   \n",
       "1   test   23.0        0    male   \n",
       "2  train   19.0        0    male   \n",
       "3  train   67.0        1  female   \n",
       "4    dev   39.0        0    male   \n",
       "\n",
       "                                               audio  \\\n",
       "0  /home/hice1/mbibars3/scratch/vlm-debiasing/dat...   \n",
       "1  /home/hice1/mbibars3/scratch/vlm-debiasing/dat...   \n",
       "2  /home/hice1/mbibars3/scratch/vlm-debiasing/dat...   \n",
       "3  /home/hice1/mbibars3/scratch/vlm-debiasing/dat...   \n",
       "4  /home/hice1/mbibars3/scratch/vlm-debiasing/dat...   \n",
       "\n",
       "                                                text  \\\n",
       "0  /home/hice1/mbibars3/scratch/vlm-debiasing/dat...   \n",
       "1  /home/hice1/mbibars3/scratch/vlm-debiasing/dat...   \n",
       "2  /home/hice1/mbibars3/scratch/vlm-debiasing/dat...   \n",
       "3  /home/hice1/mbibars3/scratch/vlm-debiasing/dat...   \n",
       "4  /home/hice1/mbibars3/scratch/vlm-debiasing/dat...   \n",
       "\n",
       "                                              visual  \\\n",
       "0  /home/hice1/mbibars3/scratch/vlm-debiasing/dat...   \n",
       "1  /home/hice1/mbibars3/scratch/vlm-debiasing/dat...   \n",
       "2  /home/hice1/mbibars3/scratch/vlm-debiasing/dat...   \n",
       "3  /home/hice1/mbibars3/scratch/vlm-debiasing/dat...   \n",
       "4  /home/hice1/mbibars3/scratch/vlm-debiasing/dat...   \n",
       "\n",
       "                                         aud_egemaps  \\\n",
       "0  /home/hice1/mbibars3/scratch/vlm-debiasing/dat...   \n",
       "1  /home/hice1/mbibars3/scratch/vlm-debiasing/dat...   \n",
       "2  /home/hice1/mbibars3/scratch/vlm-debiasing/dat...   \n",
       "3  /home/hice1/mbibars3/scratch/vlm-debiasing/dat...   \n",
       "4  /home/hice1/mbibars3/scratch/vlm-debiasing/dat...   \n",
       "\n",
       "                                             aud_ast  \n",
       "0  /home/hice1/mbibars3/scratch/vlm-debiasing/dat...  \n",
       "1  /home/hice1/mbibars3/scratch/vlm-debiasing/dat...  \n",
       "2  /home/hice1/mbibars3/scratch/vlm-debiasing/dat...  \n",
       "3  /home/hice1/mbibars3/scratch/vlm-debiasing/dat...  \n",
       "4  /home/hice1/mbibars3/scratch/vlm-debiasing/dat...  "
      ]
     },
     "execution_count": 5,
     "metadata": {},
     "output_type": "execute_result"
    }
   ],
   "source": [
    "features_csv = pd.read_csv(\"/home/hice1/mbibars3/scratch/vlm-debiasing/data/e-daic/audio_text_visual_paths.csv\")\n",
    "features_csv.head()"
   ]
  },
  {
   "cell_type": "code",
   "execution_count": 6,
   "metadata": {},
   "outputs": [
    {
     "data": {
      "text/plain": [
       "36.443223443223445"
      ]
     },
     "execution_count": 6,
     "metadata": {},
     "output_type": "execute_result"
    }
   ],
   "source": [
    "features_csv[\"label\"].mean()"
   ]
  },
  {
   "cell_type": "code",
   "execution_count": 7,
   "metadata": {},
   "outputs": [],
   "source": [
    "# Filter rows that belong to the \"train\" split\n",
    "features_csv = pd.read_csv(\"/home/hice1/mbibars3/scratch/vlm-debiasing/data/e-daic/norm_avt.csv\")"
   ]
  },
  {
   "cell_type": "code",
   "execution_count": 8,
   "metadata": {},
   "outputs": [],
   "source": [
    "# Shuffle the DataFrame\n",
    "features_csv = features_csv.sample(frac=1, random_state=42).reset_index(drop=True)"
   ]
  },
  {
   "attachments": {},
   "cell_type": "markdown",
   "metadata": {},
   "source": [
    "# Pretrained Perceiver"
   ]
  },
  {
   "cell_type": "code",
   "execution_count": 51,
   "metadata": {},
   "outputs": [
    {
     "name": "stdout",
     "output_type": "stream",
     "text": [
      "Modality 1 shape: torch.Size([10, 768, 1])\n",
      "Modality 2 shape: torch.Size([10, 768, 1])\n",
      "Labels shape: tensor([0., 0., 1., 1., 1., 0., 0., 1., 0., 0.])\n"
     ]
    }
   ],
   "source": [
    "train_loader = loaders.MultiModalityDataset(features_csv[features_csv[\"split\"]==\"train\"], \n",
    "                                            modalities = {\"audio\", \"text\"}, label = \"label.1\")\n",
    "train_dataloader = DataLoader(train_loader, batch_size=10, collate_fn=loaders.collate_fn)\n",
    "\n",
    "for batch in train_dataloader:\n",
    "    modalities, labels = batch\n",
    "    print(f\"Modality 1 shape: {modalities[0].shape}\")  # Expected shape: (batch_size, feature, 1)\n",
    "    print(f\"Modality 2 shape: {modalities[1].shape}\")\n",
    "    #print(f\"Modality 3 shape: {modalities[2].shape}\")\n",
    "    print(f\"Labels shape: {labels}\")\n",
    "    break"
   ]
  },
  {
   "cell_type": "code",
   "execution_count": 52,
   "metadata": {},
   "outputs": [],
   "source": [
    "dev_loader = loaders.MultiModalityDataset(features_csv[features_csv[\"split\"]==\"dev\"], \n",
    "                                            modalities = {\"audio\", \"text\"}, label = \"label.1\")\n",
    "dev_dataloader = DataLoader(train_loader, batch_size=16, collate_fn=loaders.collate_fn)"
   ]
  },
  {
   "cell_type": "code",
   "execution_count": 53,
   "metadata": {},
   "outputs": [],
   "source": [
    "# Define input dimensions for each modality\n",
    "input_dims = [768, 768]  # These are the feature dimensions for each modality\n",
    "\n",
    "# Initialize MultiModalPerceiver model\n",
    "model = m.MultiModalPretrainedPerceiver(\n",
    "    input_dims=input_dims,\n",
    "    output_dim=1\n",
    ")"
   ]
  },
  {
   "cell_type": "code",
   "execution_count": 54,
   "metadata": {},
   "outputs": [
    {
     "data": {
      "text/plain": [
       "15664065"
      ]
     },
     "execution_count": 54,
     "metadata": {},
     "output_type": "execute_result"
    }
   ],
   "source": [
    "sum(p.numel() for p in model.parameters() if p.requires_grad)"
   ]
  },
  {
   "cell_type": "code",
   "execution_count": 55,
   "metadata": {},
   "outputs": [],
   "source": [
    "labels_torch = torch.from_numpy(features_csv[features_csv[\"split\"]==\"train\"][\"label.1\"].values)"
   ]
  },
  {
   "cell_type": "code",
   "execution_count": 56,
   "metadata": {},
   "outputs": [],
   "source": [
    "# Calculate class weights\n",
    "class_counts = torch.bincount(labels_torch)  # Get counts for each class\n",
    "class_weights = len(labels_torch) / (2.0 * class_counts)\n",
    "\n",
    "# Apply weights to loss function\n",
    "criterion = nn.BCEWithLogitsLoss(pos_weight=class_weights[0])  # Weight for positive class\n"
   ]
  },
  {
   "cell_type": "code",
   "execution_count": 57,
   "metadata": {},
   "outputs": [
    {
     "data": {
      "text/plain": [
       "tensor([0.7149, 1.6633])"
      ]
     },
     "execution_count": 57,
     "metadata": {},
     "output_type": "execute_result"
    }
   ],
   "source": [
    "class_weights"
   ]
  },
  {
   "cell_type": "code",
   "execution_count": 58,
   "metadata": {},
   "outputs": [],
   "source": [
    "learning_rate = 0.00001\n",
    "import torch.optim.lr_scheduler as lr_scheduler\n",
    "\n",
    "num_epochs = 100\n",
    "# Define loss function and optimizer\n",
    "#criterion = nn.MSELoss()  # Mean Squared Error for regression\n",
    "# loss function for binary classification\n",
    "#criterion = nn.BCEWithLogitsLoss()\n",
    "optimizer = optim.SGD(model.parameters(), lr=learning_rate, momentum=0.9)\n",
    "scheduler = lr_scheduler.ExponentialLR(optimizer, gamma=0.99)"
   ]
  },
  {
   "cell_type": "code",
   "execution_count": 64,
   "metadata": {},
   "outputs": [
    {
     "name": "stdout",
     "output_type": "stream",
     "text": [
      "Epoch [1/100], Train Loss: 0.8990, Val Loss: 0.5233, Train F1: 0.6217, Val F1: 0.5757\n",
      "Epoch [2/100], Train Loss: 1.5856, Val Loss: 2.2920, Train F1: 0.5412, Val F1: 0.5757\n"
     ]
    }
   ],
   "source": [
    "from sklearn.metrics import f1_score\n",
    "# Define variables to track losses\n",
    "train_losses = []\n",
    "val_losses = []\n",
    "best_val_loss = float('inf')  # Initialize best validation loss\n",
    "\n",
    "# Training loop\n",
    "for epoch in range(num_epochs):\n",
    "    running_train_loss = 0.0\n",
    "    all_train_labels = []\n",
    "    all_train_preds = []\n",
    "    all_dev_labels = []\n",
    "    all_dev_preds = []\n",
    "\n",
    "    for batch in train_dataloader:\n",
    "        \n",
    "        # Unpack the batch\n",
    "        modalities, labels = batch\n",
    "        modality_1, modality_2 = modalities  # Each has shape (batch_size, feature, 1)\n",
    "\n",
    "        # Zero the parameter gradients\n",
    "        optimizer.zero_grad()\n",
    "\n",
    "        # Forward pass\n",
    "        inputs = [modality_1, modality_2]\n",
    "        output = model(inputs)\n",
    "\n",
    "        #print(output, labels)\n",
    "        # Reshape labels to match the output shape if necessary\n",
    "        labels = labels.view(output.shape)  # Ensures labels has shape (batch_size, 1)\n",
    "\n",
    "        # Compute loss\n",
    "        loss = criterion(output, labels)\n",
    "        #RMSE_loss = torch.sqrt(loss)\n",
    "\n",
    "        # Backward pass and optimize\n",
    "        loss.backward()\n",
    "        optimizer.step()\n",
    "\n",
    "        # Accumulate loss\n",
    "        running_train_loss += loss.item()\n",
    "        # Convert logits to predictions\n",
    "        preds = torch.sigmoid(output) > 0.5\n",
    "        all_train_labels.extend(labels.cpu().numpy().flatten())\n",
    "        all_train_preds.extend(preds.cpu().numpy().flatten())\n",
    "\n",
    "    # Average training loss for the epoch\n",
    "    train_loss = running_train_loss / len(train_dataloader)\n",
    "    train_losses.append(train_loss)\n",
    "\n",
    "    # Validation Phase\n",
    "    model.eval()  # Set model to evaluation mode\n",
    "    running_val_loss = 0.0\n",
    "\n",
    "    with torch.no_grad():  # Disable gradient computation\n",
    "        for batch in dev_dataloader:  # Use validation DataLoader\n",
    "            modalities, labels = batch\n",
    "            modality_1, modality_2 = modalities\n",
    "\n",
    "            # Forward pass\n",
    "            inputs = [modality_1, modality_2]\n",
    "            output = model(inputs)\n",
    "\n",
    "            # Reshape labels to match the output shape if necessary\n",
    "            labels = labels.view(output.shape)\n",
    "\n",
    "            # Compute loss\n",
    "            loss = criterion(output, labels)\n",
    "            #RMSE_loss = torch.sqrt(loss)\n",
    "\n",
    "            running_val_loss += loss.item()\n",
    "            preds = torch.sigmoid(output) > 0.5\n",
    "            all_dev_labels.extend(labels.cpu().numpy().flatten())\n",
    "            all_dev_preds.extend(preds.cpu().numpy().flatten())\n",
    "\n",
    "    # Average validation loss for the epoch\n",
    "    val_loss = running_val_loss / len(dev_dataloader)\n",
    "    val_losses.append(val_loss)\n",
    "\n",
    "    # Check if this is the best model\n",
    "    if val_loss < best_val_loss:\n",
    "        best_val_loss = val_loss\n",
    "        torch.save(model.state_dict(), \"best_perceiver_model.pth\")  # Save best model\n",
    "\n",
    "    # Compute F1-score for training\n",
    "    train_f1 = f1_score(all_train_labels, all_train_preds, average='weighted')\n",
    "    dev_f1 = f1_score(all_dev_labels, all_dev_preds, average='weighted')\n",
    "\n",
    "    # Print epoch summary\n",
    "    print(f\"Epoch [{epoch+1}/{num_epochs}], Train Loss: {train_loss:.4f}, Val Loss: {val_loss:.4f}, Train F1: {train_f1:.4f}, Val F1: {dev_f1:.4f}\")\n",
    "    #before_lr = optimizer.param_groups[0][\"lr\"]\n",
    "    #scheduler.step()\n",
    "    #after_lr = optimizer.param_groups[0][\"lr\"]\n",
    "    #print(\"Epoch %d: ADAM lr %.4f -> %.4f\" % (epoch, before_lr, after_lr))"
   ]
  },
  {
   "cell_type": "code",
   "execution_count": null,
   "metadata": {},
   "outputs": [
    {
     "data": {
      "image/png": "[encoded data removed]",
      "text/plain": [
       "<Figure size 800x600 with 1 Axes>"
      ]
     },
     "metadata": {},
     "output_type": "display_data"
    }
   ],
   "source": [
    "# Plot training and validation losses\n",
    "plt.figure(figsize=(8, 6))\n",
    "plt.plot(train_losses, label=\"Training Loss\")\n",
    "plt.plot(val_losses, label=\"Validation Loss\")\n",
    "plt.xlabel(\"Epoch\")\n",
    "plt.ylabel(\"Loss\")\n",
    "plt.title(\"Training and Validation Loss\")\n",
    "plt.legend()\n",
    "#plt.savefig(\"loss_plot.png\")  # Save the plot\n",
    "plt.show()"
   ]
  },
  {
   "attachments": {},
   "cell_type": "markdown",
   "metadata": {},
   "source": [
    "# Unbalanced"
   ]
  },
  {
   "cell_type": "code",
   "execution_count": 9,
   "metadata": {},
   "outputs": [
    {
     "name": "stdout",
     "output_type": "stream",
     "text": [
      "Modality 1 shape: torch.Size([10, 768, 1])\n",
      "Modality 2 shape: torch.Size([10, 768, 1])\n",
      "Labels shape: tensor([0., 0., 1., 1., 1., 0., 0., 1., 0., 0.])\n"
     ]
    }
   ],
   "source": [
    "train_loader = loaders.MultiModalityDataset(features_csv[features_csv[\"split\"]==\"train\"], \n",
    "                                            modalities = {\"audio\", \"text\"}, label = \"label.1\")\n",
    "train_dataloader = DataLoader(train_loader, batch_size=10, collate_fn=loaders.collate_fn)\n",
    "\n",
    "for batch in train_dataloader:\n",
    "    modalities, labels = batch\n",
    "    print(f\"Modality 1 shape: {modalities[0].shape}\")  # Expected shape: (batch_size, feature, 1)\n",
    "    print(f\"Modality 2 shape: {modalities[1].shape}\")\n",
    "    #print(f\"Modality 3 shape: {modalities[2].shape}\")\n",
    "    print(f\"Labels shape: {labels}\")\n",
    "    break"
   ]
  },
  {
   "cell_type": "code",
   "execution_count": 10,
   "metadata": {},
   "outputs": [],
   "source": [
    "dev_loader = loaders.MultiModalityDataset(features_csv[features_csv[\"split\"]==\"dev\"], \n",
    "                                            modalities = {\"audio\", \"text\"}, label = \"label.1\")\n",
    "dev_dataloader = DataLoader(train_loader, batch_size=16, collate_fn=loaders.collate_fn)"
   ]
  },
  {
   "cell_type": "code",
   "execution_count": 80,
   "metadata": {},
   "outputs": [],
   "source": [
    "# Define input dimensions for each modality\n",
    "input_dims = [768, 768]  # These are the feature dimensions for each modality\n",
    "\n",
    "# Initialize MultiModalPerceiver model\n",
    "model = m.MultiModalPerceiver(\n",
    "    input_dims=input_dims,\n",
    "    input_channels=1,\n",
    "    input_axis=1,\n",
    "    projection_dim=256,\n",
    "    num_latents=16,\n",
    "    latent_dim=128,\n",
    "    depth=8,\n",
    "    cross_heads=8,\n",
    "    latent_heads=8,\n",
    "    cross_dim_head=32,\n",
    "    latent_dim_head=32,\n",
    "    attn_dropout=0.,\n",
    "    ff_dropout=0.,\n",
    "    output_dim=1,\n",
    "    weight_tie_layers=False,\n",
    "    fourier_encode_data=True,\n",
    "    max_freq=10,\n",
    "    num_freq_bands=4\n",
    ")"
   ]
  },
  {
   "cell_type": "code",
   "execution_count": 81,
   "metadata": {},
   "outputs": [
    {
     "data": {
      "text/plain": [
       "5185569"
      ]
     },
     "execution_count": 81,
     "metadata": {},
     "output_type": "execute_result"
    }
   ],
   "source": [
    "sum(p.numel() for p in model.parameters() if p.requires_grad)"
   ]
  },
  {
   "cell_type": "code",
   "execution_count": 82,
   "metadata": {},
   "outputs": [],
   "source": [
    "labels_torch = torch.from_numpy(features_csv[features_csv[\"split\"]==\"train\"][\"label.1\"].values)"
   ]
  },
  {
   "cell_type": "code",
   "execution_count": 83,
   "metadata": {},
   "outputs": [],
   "source": [
    "# Calculate class weights\n",
    "class_counts = torch.bincount(labels_torch)  # Get counts for each class\n",
    "class_weights = len(labels_torch) / (2.0 * class_counts)\n",
    "\n",
    "# Apply weights to loss function\n",
    "criterion = nn.BCEWithLogitsLoss(pos_weight=class_weights[0])  # Weight for positive class\n"
   ]
  },
  {
   "cell_type": "code",
   "execution_count": 84,
   "metadata": {},
   "outputs": [
    {
     "data": {
      "text/plain": [
       "tensor([0.7149, 1.6633])"
      ]
     },
     "execution_count": 84,
     "metadata": {},
     "output_type": "execute_result"
    }
   ],
   "source": [
    "class_weights"
   ]
  },
  {
   "cell_type": "code",
   "execution_count": 85,
   "metadata": {},
   "outputs": [],
   "source": [
    "learning_rate = 0.001\n",
    "import torch.optim.lr_scheduler as lr_scheduler\n",
    "\n",
    "num_epochs = 100\n",
    "# Define loss function and optimizer\n",
    "#criterion = nn.MSELoss()  # Mean Squared Error for regression\n",
    "# loss function for binary classification\n",
    "#criterion = nn.BCEWithLogitsLoss()\n",
    "optimizer = optim.SGD(model.parameters(), lr=learning_rate, momentum=0.9)\n",
    "scheduler = lr_scheduler.ExponentialLR(optimizer, gamma=0.99)"
   ]
  },
  {
   "cell_type": "code",
   "execution_count": 86,
   "metadata": {},
   "outputs": [
    {
     "name": "stdout",
     "output_type": "stream",
     "text": [
      "Epoch [1/100], Train Loss: 0.5509, Val Loss: 0.5121, Train F1: 0.5757, Val F1: 0.5757\n",
      "Epoch [2/100], Train Loss: 0.5363, Val Loss: 0.5018, Train F1: 0.5757, Val F1: 0.5757\n",
      "Epoch [3/100], Train Loss: 0.5172, Val Loss: 0.5043, Train F1: 0.5757, Val F1: 0.5757\n",
      "Epoch [4/100], Train Loss: 0.5193, Val Loss: 0.5033, Train F1: 0.5757, Val F1: 0.5757\n",
      "Epoch [5/100], Train Loss: 0.5177, Val Loss: 0.5027, Train F1: 0.5757, Val F1: 0.5757\n",
      "Epoch [6/100], Train Loss: 0.5161, Val Loss: 0.5027, Train F1: 0.5757, Val F1: 0.5757\n",
      "Epoch [7/100], Train Loss: 0.5155, Val Loss: 0.5024, Train F1: 0.5757, Val F1: 0.5757\n",
      "Epoch [8/100], Train Loss: 0.5147, Val Loss: 0.5022, Train F1: 0.5757, Val F1: 0.5757\n",
      "Epoch [9/100], Train Loss: 0.5141, Val Loss: 0.5021, Train F1: 0.5757, Val F1: 0.5757\n",
      "Epoch [10/100], Train Loss: 0.5136, Val Loss: 0.5020, Train F1: 0.5757, Val F1: 0.5757\n",
      "Epoch [11/100], Train Loss: 0.5131, Val Loss: 0.5019, Train F1: 0.5757, Val F1: 0.5757\n",
      "Epoch [12/100], Train Loss: 0.5127, Val Loss: 0.5018, Train F1: 0.5757, Val F1: 0.5757\n",
      "Epoch [13/100], Train Loss: 0.5124, Val Loss: 0.5017, Train F1: 0.5757, Val F1: 0.5757\n",
      "Epoch [14/100], Train Loss: 0.5121, Val Loss: 0.5017, Train F1: 0.5757, Val F1: 0.5757\n",
      "Epoch [15/100], Train Loss: 0.5118, Val Loss: 0.5016, Train F1: 0.5757, Val F1: 0.5757\n",
      "Epoch [16/100], Train Loss: 0.5115, Val Loss: 0.5016, Train F1: 0.5757, Val F1: 0.5757\n",
      "Epoch [17/100], Train Loss: 0.5113, Val Loss: 0.5015, Train F1: 0.5757, Val F1: 0.5757\n",
      "Epoch [18/100], Train Loss: 0.5110, Val Loss: 0.5015, Train F1: 0.5757, Val F1: 0.5757\n",
      "Epoch [19/100], Train Loss: 0.5108, Val Loss: 0.5014, Train F1: 0.5757, Val F1: 0.5757\n",
      "Epoch [20/100], Train Loss: 0.5106, Val Loss: 0.5014, Train F1: 0.5757, Val F1: 0.5757\n",
      "Epoch [21/100], Train Loss: 0.5105, Val Loss: 0.5014, Train F1: 0.5757, Val F1: 0.5757\n",
      "Epoch [22/100], Train Loss: 0.5103, Val Loss: 0.5013, Train F1: 0.5757, Val F1: 0.5757\n",
      "Epoch [23/100], Train Loss: 0.5101, Val Loss: 0.5013, Train F1: 0.5757, Val F1: 0.5757\n",
      "Epoch [24/100], Train Loss: 0.5100, Val Loss: 0.5013, Train F1: 0.5757, Val F1: 0.5757\n",
      "Epoch [25/100], Train Loss: 0.5098, Val Loss: 0.5013, Train F1: 0.5757, Val F1: 0.5757\n",
      "Epoch [26/100], Train Loss: 0.5097, Val Loss: 0.5012, Train F1: 0.5757, Val F1: 0.5757\n",
      "Epoch [27/100], Train Loss: 0.5096, Val Loss: 0.5012, Train F1: 0.5757, Val F1: 0.5757\n",
      "Epoch [28/100], Train Loss: 0.5095, Val Loss: 0.5012, Train F1: 0.5757, Val F1: 0.5757\n",
      "Epoch [29/100], Train Loss: 0.5094, Val Loss: 0.5012, Train F1: 0.5757, Val F1: 0.5757\n",
      "Epoch [30/100], Train Loss: 0.5093, Val Loss: 0.5012, Train F1: 0.5757, Val F1: 0.5757\n",
      "Epoch [31/100], Train Loss: 0.5091, Val Loss: 0.5011, Train F1: 0.5757, Val F1: 0.5757\n",
      "Epoch [32/100], Train Loss: 0.5091, Val Loss: 0.5011, Train F1: 0.5757, Val F1: 0.5757\n",
      "Epoch [33/100], Train Loss: 0.5090, Val Loss: 0.5011, Train F1: 0.5757, Val F1: 0.5757\n",
      "Epoch [34/100], Train Loss: 0.5089, Val Loss: 0.5011, Train F1: 0.5757, Val F1: 0.5757\n",
      "Epoch [35/100], Train Loss: 0.5088, Val Loss: 0.5011, Train F1: 0.5757, Val F1: 0.5757\n",
      "Epoch [36/100], Train Loss: 0.5087, Val Loss: 0.5011, Train F1: 0.5757, Val F1: 0.5757\n",
      "Epoch [37/100], Train Loss: 0.5086, Val Loss: 0.5011, Train F1: 0.5757, Val F1: 0.5757\n",
      "Epoch [38/100], Train Loss: 0.5086, Val Loss: 0.5010, Train F1: 0.5757, Val F1: 0.5757\n",
      "Epoch [39/100], Train Loss: 0.5085, Val Loss: 0.5010, Train F1: 0.5757, Val F1: 0.5757\n",
      "Epoch [40/100], Train Loss: 0.5084, Val Loss: 0.5010, Train F1: 0.5757, Val F1: 0.5757\n",
      "Epoch [41/100], Train Loss: 0.5083, Val Loss: 0.5010, Train F1: 0.5757, Val F1: 0.5757\n",
      "Epoch [42/100], Train Loss: 0.5083, Val Loss: 0.5010, Train F1: 0.5757, Val F1: 0.5757\n",
      "Epoch [43/100], Train Loss: 0.5082, Val Loss: 0.5010, Train F1: 0.5757, Val F1: 0.5757\n",
      "Epoch [44/100], Train Loss: 0.5082, Val Loss: 0.5010, Train F1: 0.5757, Val F1: 0.5757\n",
      "Epoch [45/100], Train Loss: 0.5081, Val Loss: 0.5010, Train F1: 0.5757, Val F1: 0.5757\n",
      "Epoch [46/100], Train Loss: 0.5080, Val Loss: 0.5010, Train F1: 0.5757, Val F1: 0.5757\n",
      "Epoch [47/100], Train Loss: 0.5080, Val Loss: 0.5010, Train F1: 0.5757, Val F1: 0.5757\n",
      "Epoch [48/100], Train Loss: 0.5079, Val Loss: 0.5010, Train F1: 0.5757, Val F1: 0.5757\n",
      "Epoch [49/100], Train Loss: 0.5079, Val Loss: 0.5010, Train F1: 0.5757, Val F1: 0.5757\n",
      "Epoch [50/100], Train Loss: 0.5078, Val Loss: 0.5009, Train F1: 0.5757, Val F1: 0.5757\n",
      "Epoch [51/100], Train Loss: 0.5078, Val Loss: 0.5009, Train F1: 0.5757, Val F1: 0.5757\n",
      "Epoch [52/100], Train Loss: 0.5077, Val Loss: 0.5009, Train F1: 0.5757, Val F1: 0.5757\n",
      "Epoch [53/100], Train Loss: 0.5077, Val Loss: 0.5009, Train F1: 0.5757, Val F1: 0.5757\n",
      "Epoch [54/100], Train Loss: 0.5077, Val Loss: 0.5009, Train F1: 0.5757, Val F1: 0.5757\n",
      "Epoch [55/100], Train Loss: 0.5076, Val Loss: 0.5009, Train F1: 0.5757, Val F1: 0.5757\n",
      "Epoch [56/100], Train Loss: 0.5076, Val Loss: 0.5009, Train F1: 0.5757, Val F1: 0.5757\n",
      "Epoch [57/100], Train Loss: 0.5075, Val Loss: 0.5009, Train F1: 0.5757, Val F1: 0.5757\n",
      "Epoch [58/100], Train Loss: 0.5075, Val Loss: 0.5009, Train F1: 0.5757, Val F1: 0.5757\n",
      "Epoch [59/100], Train Loss: 0.5074, Val Loss: 0.5009, Train F1: 0.5757, Val F1: 0.5757\n",
      "Epoch [60/100], Train Loss: 0.5074, Val Loss: 0.5009, Train F1: 0.5757, Val F1: 0.5757\n",
      "Epoch [61/100], Train Loss: 0.5074, Val Loss: 0.5009, Train F1: 0.5757, Val F1: 0.5757\n",
      "Epoch [62/100], Train Loss: 0.5073, Val Loss: 0.5009, Train F1: 0.5757, Val F1: 0.5757\n",
      "Epoch [63/100], Train Loss: 0.5073, Val Loss: 0.5009, Train F1: 0.5757, Val F1: 0.5757\n",
      "Epoch [64/100], Train Loss: 0.5073, Val Loss: 0.5009, Train F1: 0.5757, Val F1: 0.5757\n",
      "Epoch [65/100], Train Loss: 0.5072, Val Loss: 0.5009, Train F1: 0.5757, Val F1: 0.5757\n",
      "Epoch [66/100], Train Loss: 0.5072, Val Loss: 0.5009, Train F1: 0.5757, Val F1: 0.5757\n",
      "Epoch [67/100], Train Loss: 0.5072, Val Loss: 0.5009, Train F1: 0.5757, Val F1: 0.5757\n",
      "Epoch [68/100], Train Loss: 0.5071, Val Loss: 0.5009, Train F1: 0.5757, Val F1: 0.5757\n",
      "Epoch [69/100], Train Loss: 0.5071, Val Loss: 0.5008, Train F1: 0.5757, Val F1: 0.5757\n",
      "Epoch [70/100], Train Loss: 0.5071, Val Loss: 0.5008, Train F1: 0.5757, Val F1: 0.5757\n",
      "Epoch [71/100], Train Loss: 0.5071, Val Loss: 0.5008, Train F1: 0.5757, Val F1: 0.5757\n",
      "Epoch [72/100], Train Loss: 0.5070, Val Loss: 0.5008, Train F1: 0.5757, Val F1: 0.5757\n",
      "Epoch [73/100], Train Loss: 0.5070, Val Loss: 0.5008, Train F1: 0.5757, Val F1: 0.5757\n",
      "Epoch [74/100], Train Loss: 0.5070, Val Loss: 0.5008, Train F1: 0.5757, Val F1: 0.5757\n",
      "Epoch [75/100], Train Loss: 0.5069, Val Loss: 0.5008, Train F1: 0.5757, Val F1: 0.5757\n",
      "Epoch [76/100], Train Loss: 0.5069, Val Loss: 0.5008, Train F1: 0.5757, Val F1: 0.5757\n",
      "Epoch [77/100], Train Loss: 0.5069, Val Loss: 0.5008, Train F1: 0.5757, Val F1: 0.5757\n",
      "Epoch [78/100], Train Loss: 0.5069, Val Loss: 0.5008, Train F1: 0.5757, Val F1: 0.5757\n",
      "Epoch [79/100], Train Loss: 0.5068, Val Loss: 0.5008, Train F1: 0.5757, Val F1: 0.5757\n",
      "Epoch [80/100], Train Loss: 0.5068, Val Loss: 0.5008, Train F1: 0.5757, Val F1: 0.5757\n",
      "Epoch [81/100], Train Loss: 0.5068, Val Loss: 0.5008, Train F1: 0.5757, Val F1: 0.5757\n",
      "Epoch [82/100], Train Loss: 0.5068, Val Loss: 0.5008, Train F1: 0.5757, Val F1: 0.5757\n",
      "Epoch [83/100], Train Loss: 0.5067, Val Loss: 0.5008, Train F1: 0.5757, Val F1: 0.5757\n",
      "Epoch [84/100], Train Loss: 0.5067, Val Loss: 0.5008, Train F1: 0.5757, Val F1: 0.5757\n",
      "Epoch [85/100], Train Loss: 0.5067, Val Loss: 0.5008, Train F1: 0.5757, Val F1: 0.5757\n",
      "Epoch [86/100], Train Loss: 0.5067, Val Loss: 0.5008, Train F1: 0.5757, Val F1: 0.5757\n",
      "Epoch [87/100], Train Loss: 0.5067, Val Loss: 0.5008, Train F1: 0.5757, Val F1: 0.5757\n",
      "Epoch [88/100], Train Loss: 0.5066, Val Loss: 0.5008, Train F1: 0.5757, Val F1: 0.5757\n",
      "Epoch [89/100], Train Loss: 0.5066, Val Loss: 0.5008, Train F1: 0.5757, Val F1: 0.5757\n",
      "Epoch [90/100], Train Loss: 0.5066, Val Loss: 0.5008, Train F1: 0.5757, Val F1: 0.5757\n",
      "Epoch [91/100], Train Loss: 0.5066, Val Loss: 0.5008, Train F1: 0.5757, Val F1: 0.5757\n",
      "Epoch [92/100], Train Loss: 0.5066, Val Loss: 0.5008, Train F1: 0.5757, Val F1: 0.5757\n",
      "Epoch [93/100], Train Loss: 0.5065, Val Loss: 0.5008, Train F1: 0.5757, Val F1: 0.5757\n",
      "Epoch [94/100], Train Loss: 0.5065, Val Loss: 0.5008, Train F1: 0.5757, Val F1: 0.5757\n",
      "Epoch [95/100], Train Loss: 0.5065, Val Loss: 0.5008, Train F1: 0.5757, Val F1: 0.5757\n",
      "Epoch [96/100], Train Loss: 0.5065, Val Loss: 0.5008, Train F1: 0.5757, Val F1: 0.5757\n",
      "Epoch [97/100], Train Loss: 0.5065, Val Loss: 0.5008, Train F1: 0.5757, Val F1: 0.5757\n",
      "Epoch [98/100], Train Loss: 0.5064, Val Loss: 0.5008, Train F1: 0.5757, Val F1: 0.5757\n",
      "Epoch [99/100], Train Loss: 0.5064, Val Loss: 0.5008, Train F1: 0.5757, Val F1: 0.5757\n",
      "Epoch [100/100], Train Loss: 0.5064, Val Loss: 0.5008, Train F1: 0.5757, Val F1: 0.5757\n"
     ]
    }
   ],
   "source": [
    "from sklearn.metrics import f1_score\n",
    "# Define variables to track losses\n",
    "train_losses = []\n",
    "val_losses = []\n",
    "best_val_loss = float('inf')  # Initialize best validation loss\n",
    "\n",
    "# Training loop\n",
    "for epoch in range(num_epochs):\n",
    "    running_train_loss = 0.0\n",
    "    all_train_labels = []\n",
    "    all_train_preds = []\n",
    "    all_dev_labels = []\n",
    "    all_dev_preds = []\n",
    "\n",
    "    for batch in train_dataloader:\n",
    "        \n",
    "        # Unpack the batch\n",
    "        modalities, labels = batch\n",
    "        modality_1, modality_2 = modalities  # Each has shape (batch_size, feature, 1)\n",
    "\n",
    "        # Zero the parameter gradients\n",
    "        optimizer.zero_grad()\n",
    "\n",
    "        # Forward pass\n",
    "        inputs = [modality_1, modality_2]\n",
    "        output = model(inputs)\n",
    "\n",
    "        #print(output, labels)\n",
    "        # Reshape labels to match the output shape if necessary\n",
    "        labels = labels.view(output.shape)  # Ensures labels has shape (batch_size, 1)\n",
    "\n",
    "        # Compute loss\n",
    "        loss = criterion(output, labels)\n",
    "        #RMSE_loss = torch.sqrt(loss)\n",
    "\n",
    "        # Backward pass and optimize\n",
    "        loss.backward()\n",
    "        optimizer.step()\n",
    "\n",
    "        # Accumulate loss\n",
    "        running_train_loss += loss.item()\n",
    "        # Convert logits to predictions\n",
    "        preds = torch.sigmoid(output) > 0.5\n",
    "        all_train_labels.extend(labels.cpu().numpy().flatten())\n",
    "        all_train_preds.extend(preds.cpu().numpy().flatten())\n",
    "\n",
    "    # Average training loss for the epoch\n",
    "    train_loss = running_train_loss / len(train_dataloader)\n",
    "    train_losses.append(train_loss)\n",
    "\n",
    "    # Validation Phase\n",
    "    model.eval()  # Set model to evaluation mode\n",
    "    running_val_loss = 0.0\n",
    "\n",
    "    with torch.no_grad():  # Disable gradient computation\n",
    "        for batch in dev_dataloader:  # Use validation DataLoader\n",
    "            modalities, labels = batch\n",
    "            modality_1, modality_2 = modalities\n",
    "\n",
    "            # Forward pass\n",
    "            inputs = [modality_1, modality_2]\n",
    "            output = model(inputs)\n",
    "\n",
    "            # Reshape labels to match the output shape if necessary\n",
    "            labels = labels.view(output.shape)\n",
    "\n",
    "            # Compute loss\n",
    "            loss = criterion(output, labels)\n",
    "            #RMSE_loss = torch.sqrt(loss)\n",
    "\n",
    "            running_val_loss += loss.item()\n",
    "            preds = torch.sigmoid(output) > 0.5\n",
    "            all_dev_labels.extend(labels.cpu().numpy().flatten())\n",
    "            all_dev_preds.extend(preds.cpu().numpy().flatten())\n",
    "\n",
    "    # Average validation loss for the epoch\n",
    "    val_loss = running_val_loss / len(dev_dataloader)\n",
    "    val_losses.append(val_loss)\n",
    "\n",
    "    # Check if this is the best model\n",
    "    if val_loss < best_val_loss:\n",
    "        best_val_loss = val_loss\n",
    "        torch.save(model.state_dict(), \"best_perceiver_model.pth\")  # Save best model\n",
    "\n",
    "    # Compute F1-score for training\n",
    "    train_f1 = f1_score(all_train_labels, all_train_preds, average='weighted')\n",
    "    dev_f1 = f1_score(all_dev_labels, all_dev_preds, average='weighted')\n",
    "\n",
    "    # Print epoch summary\n",
    "    print(f\"Epoch [{epoch+1}/{num_epochs}], Train Loss: {train_loss:.4f}, Val Loss: {val_loss:.4f}, Train F1: {train_f1:.4f}, Val F1: {dev_f1:.4f}\")\n",
    "    #before_lr = optimizer.param_groups[0][\"lr\"]\n",
    "    #scheduler.step()\n",
    "    #after_lr = optimizer.param_groups[0][\"lr\"]\n",
    "    #print(\"Epoch %d: ADAM lr %.4f -> %.4f\" % (epoch, before_lr, after_lr))"
   ]
  },
  {
   "cell_type": "code",
   "execution_count": 22,
   "metadata": {},
   "outputs": [
    {
     "data": {
      "image/png": "[encoded data removed]",
      "text/plain": [
       "<Figure size 800x600 with 1 Axes>"
      ]
     },
     "metadata": {},
     "output_type": "display_data"
    }
   ],
   "source": [
    "# Plot training and validation losses\n",
    "plt.figure(figsize=(8, 6))\n",
    "plt.plot(train_losses, label=\"Training Loss\")\n",
    "plt.plot(val_losses, label=\"Validation Loss\")\n",
    "plt.xlabel(\"Epoch\")\n",
    "plt.ylabel(\"Loss\")\n",
    "plt.title(\"Training and Validation Loss\")\n",
    "plt.legend()\n",
    "#plt.savefig(\"loss_plot.png\")  # Save the plot\n",
    "plt.show()"
   ]
  },
  {
   "cell_type": "code",
   "execution_count": 23,
   "metadata": {},
   "outputs": [
    {
     "name": "stdout",
     "output_type": "stream",
     "text": [
      "Predicted Classes:\n",
      "tensor([[0],\n",
      "        [0],\n",
      "        [0],\n",
      "        [0],\n",
      "        [0],\n",
      "        [0],\n",
      "        [0],\n",
      "        [0],\n",
      "        [0],\n",
      "        [0],\n",
      "        [0],\n",
      "        [0],\n",
      "        [0],\n",
      "        [0],\n",
      "        [0],\n",
      "        [0]], dtype=torch.int32)\n",
      "Predicted Classes:\n",
      "tensor([[0],\n",
      "        [0],\n",
      "        [0],\n",
      "        [0],\n",
      "        [0],\n",
      "        [0],\n",
      "        [0],\n",
      "        [0],\n",
      "        [0],\n",
      "        [0],\n",
      "        [0],\n",
      "        [0],\n",
      "        [0],\n",
      "        [0],\n",
      "        [0],\n",
      "        [0]], dtype=torch.int32)\n",
      "Predicted Classes:\n",
      "tensor([[0],\n",
      "        [0],\n",
      "        [0],\n",
      "        [0],\n",
      "        [0],\n",
      "        [0],\n",
      "        [0],\n",
      "        [0],\n",
      "        [0],\n",
      "        [0],\n",
      "        [0],\n",
      "        [0],\n",
      "        [0],\n",
      "        [0],\n",
      "        [0],\n",
      "        [0]], dtype=torch.int32)\n",
      "Predicted Classes:\n",
      "tensor([[0],\n",
      "        [0],\n",
      "        [0],\n",
      "        [0],\n",
      "        [0],\n",
      "        [0],\n",
      "        [0],\n",
      "        [0],\n",
      "        [0],\n",
      "        [0],\n",
      "        [0],\n",
      "        [0],\n",
      "        [0],\n",
      "        [0],\n",
      "        [0],\n",
      "        [0]], dtype=torch.int32)\n",
      "Predicted Classes:\n",
      "tensor([[0],\n",
      "        [0],\n",
      "        [0],\n",
      "        [0],\n",
      "        [0],\n",
      "        [0],\n",
      "        [0],\n",
      "        [0],\n",
      "        [0],\n",
      "        [0],\n",
      "        [0],\n",
      "        [0],\n",
      "        [0],\n",
      "        [0],\n",
      "        [0],\n",
      "        [0]], dtype=torch.int32)\n",
      "Predicted Classes:\n",
      "tensor([[0],\n",
      "        [0],\n",
      "        [0],\n",
      "        [0],\n",
      "        [0],\n",
      "        [0],\n",
      "        [0],\n",
      "        [0],\n",
      "        [0],\n",
      "        [0],\n",
      "        [0],\n",
      "        [0],\n",
      "        [0],\n",
      "        [0],\n",
      "        [0],\n",
      "        [0]], dtype=torch.int32)\n",
      "Predicted Classes:\n",
      "tensor([[0],\n",
      "        [0],\n",
      "        [0],\n",
      "        [0],\n",
      "        [0],\n",
      "        [0],\n",
      "        [0],\n",
      "        [0],\n",
      "        [0],\n",
      "        [0],\n",
      "        [0],\n",
      "        [0],\n",
      "        [0],\n",
      "        [0],\n",
      "        [0],\n",
      "        [0]], dtype=torch.int32)\n",
      "Predicted Classes:\n",
      "tensor([[0],\n",
      "        [0],\n",
      "        [0],\n",
      "        [0],\n",
      "        [0],\n",
      "        [0],\n",
      "        [0],\n",
      "        [0],\n",
      "        [0],\n",
      "        [0],\n",
      "        [0],\n",
      "        [0],\n",
      "        [0],\n",
      "        [0],\n",
      "        [0],\n",
      "        [0]], dtype=torch.int32)\n",
      "Predicted Classes:\n",
      "tensor([[0],\n",
      "        [0],\n",
      "        [0],\n",
      "        [0],\n",
      "        [0],\n",
      "        [0],\n",
      "        [0],\n",
      "        [0],\n",
      "        [0],\n",
      "        [0],\n",
      "        [0],\n",
      "        [0],\n",
      "        [0],\n",
      "        [0],\n",
      "        [0],\n",
      "        [0]], dtype=torch.int32)\n",
      "Predicted Classes:\n",
      "tensor([[0],\n",
      "        [0],\n",
      "        [0],\n",
      "        [0],\n",
      "        [0],\n",
      "        [0],\n",
      "        [0],\n",
      "        [0],\n",
      "        [0],\n",
      "        [0],\n",
      "        [0],\n",
      "        [0],\n",
      "        [0],\n",
      "        [0],\n",
      "        [0],\n",
      "        [0]], dtype=torch.int32)\n",
      "Predicted Classes:\n",
      "tensor([[0],\n",
      "        [0],\n",
      "        [0]], dtype=torch.int32)\n"
     ]
    }
   ],
   "source": [
    "# Model prediction\n",
    "simple_model.eval()  # Set model to evaluation mode\n",
    "\n",
    "predictions = []\n",
    "with torch.no_grad():  # Disable gradient computation\n",
    "    for batch in dev_dataloader:\n",
    "        modalities, _ = batch  # Ignore labels if unavailable\n",
    "        modality_1, modality_2 = modalities\n",
    "        \n",
    "        # Forward pass\n",
    "        inputs = [modality_1, modality_2]\n",
    "        output = simple_model(inputs)  # Model's prediction\n",
    "        predictions = torch.sigmoid(output)  # Apply sigmoid activation\n",
    "        predicted_classes = (predictions > 0.5).int()  # Convert probabilities to binary predictions\n",
    "        #print(f\"Predicted Probabilities:\\n{predictions}\")\n",
    "        print(f\"Predicted Classes:\\n{predicted_classes}\")\n",
    "        # Collect predictions\n",
    "        #predictions.append(output)\n",
    "\n",
    "# Combine predictions into a single tensor\n",
    "#predictions = torch.cat(predicted_classes, dim=0)\n",
    "#y_pred = np.array(predictions)\n",
    "#print(f\"Predictions:\\n{predictions}\")"
   ]
  },
  {
   "cell_type": "code",
   "execution_count": 30,
   "metadata": {},
   "outputs": [],
   "source": [
    "y_test = np.array(features_csv[features_csv[\"split\"]==\"dev\"][\"PTSD_severity\"].values)"
   ]
  },
  {
   "cell_type": "code",
   "execution_count": 42,
   "metadata": {},
   "outputs": [],
   "source": [
    "features_csv['col_encoded'] = features_csv['gender'].map({'female': 0, 'male': 1, None:1})"
   ]
  },
  {
   "cell_type": "code",
   "execution_count": 43,
   "metadata": {},
   "outputs": [
    {
     "data": {
      "text/plain": [
       "array([ 0.,  1., nan])"
      ]
     },
     "execution_count": 43,
     "metadata": {},
     "output_type": "execute_result"
    }
   ],
   "source": [
    "np.unique(features_csv['col_encoded'])"
   ]
  },
  {
   "cell_type": "code",
   "execution_count": 44,
   "metadata": {},
   "outputs": [
    {
     "name": "stdout",
     "output_type": "stream",
     "text": [
      "Shape of gender_test: (56,)\n",
      "Shape of y_test: (56,)\n",
      "Shape of y_pred: (56, 1)\n"
     ]
    }
   ],
   "source": [
    "from fairlearn.metrics import demographic_parity_difference\n",
    "\n",
    "# Assuming `gender` corresponds to the original metadata\n",
    "# Split the dataset into training and testing sets for `gender`\n",
    "gender_train, gender_test = features_csv[features_csv[\"split\"]==\"train\"][\"col_encoded\"], features_csv[features_csv[\"split\"]==\"dev\"][\"col_encoded\"]\n",
    "\n",
    "# Ensure that `gender_test`, `y_test`, and `y_pred` are aligned\n",
    "print(f\"Shape of gender_test: {gender_test.shape}\")\n",
    "print(f\"Shape of y_test: {y_test.shape}\")\n",
    "print(f\"Shape of y_pred: {y_pred.shape}\")\n",
    "\n"
   ]
  },
  {
   "cell_type": "code",
   "execution_count": 47,
   "metadata": {},
   "outputs": [
    {
     "name": "stdout",
     "output_type": "stream",
     "text": [
      "Demographic Parity Difference: 0.0\n"
     ]
    }
   ],
   "source": [
    "# Calculate Demographic Parity Difference\n",
    "demographic_parity = demographic_parity_difference(\n",
    "    y_true=y_test,\n",
    "    y_pred=y_pred[:,0],\n",
    "    sensitive_features=gender_test\n",
    ")\n",
    "\n",
    "print(f\"Demographic Parity Difference: {demographic_parity}\")"
   ]
  },
  {
   "cell_type": "code",
   "execution_count": 33,
   "metadata": {},
   "outputs": [
    {
     "name": "stdout",
     "output_type": "stream",
     "text": [
      "Selection Rates by Group:\n",
      "gender\n",
      "female     0.0\n",
      "male       0.0\n",
      "unknown    0.0\n",
      "Name: selection_rate, dtype: float64\n"
     ]
    }
   ],
   "source": [
    "from fairlearn.metrics import MetricFrame, selection_rate\n",
    "metric_frame = MetricFrame(metrics=selection_rate, \n",
    "                           y_true=y_test, \n",
    "                           y_pred=y_pred[:,0], \n",
    "                           sensitive_features=gender_test)\n",
    "\n",
    "# Get selection rates for each group\n",
    "selection_rates = metric_frame.by_group\n",
    "print(\"Selection Rates by Group:\")\n",
    "print(selection_rates)\n"
   ]
  },
  {
   "cell_type": "code",
   "execution_count": 34,
   "metadata": {},
   "outputs": [
    {
     "name": "stderr",
     "output_type": "stream",
     "text": [
      "/scratch/954025/ipykernel_2837344/1510568790.py:1: FutureWarning: Series.__getitem__ treating keys as positions is deprecated. In a future version, integer keys will always be treated as labels (consistent with DataFrame behavior). To access a value by position, use `ser.iloc[pos]`\n",
      "  group_a_rate = selection_rates[1]\n",
      "/scratch/954025/ipykernel_2837344/1510568790.py:2: FutureWarning: Series.__getitem__ treating keys as positions is deprecated. In a future version, integer keys will always be treated as labels (consistent with DataFrame behavior). To access a value by position, use `ser.iloc[pos]`\n",
      "  group_b_rate = selection_rates[0]\n"
     ]
    }
   ],
   "source": [
    "group_a_rate = selection_rates[1]\n",
    "group_b_rate = selection_rates[0]\n",
    "\n",
    "if group_b_rate > 0:  # Avoid division by zero\n",
    "    demographic_parity_ratio = group_a_rate / group_b_rate\n",
    "    print(f\"Demographic Parity Ratio: {demographic_parity_ratio}\")"
   ]
  },
  {
   "attachments": {},
   "cell_type": "markdown",
   "metadata": {},
   "source": [
    "# Unbalanced mixup"
   ]
  },
  {
   "cell_type": "code",
   "execution_count": 8,
   "metadata": {},
   "outputs": [
    {
     "name": "stdout",
     "output_type": "stream",
     "text": [
      "Modality 1 shape: torch.Size([10, 768, 1])\n",
      "Modality 2 shape: torch.Size([10, 768, 1])\n",
      "Labels shape: tensor([29., 32., 48., 72., 58., 36., 48., 46., 27., 24.])\n"
     ]
    }
   ],
   "source": [
    "train_loader = loaders.MultiModalityDataset(features_csv[features_csv[\"split\"]==\"train\"], \n",
    "                                            modalities = {\"audio\", \"text\"}, label = \"label\")\n",
    "train_dataloader = DataLoader(train_loader, batch_size=10, collate_fn=loaders.collate_fn)\n",
    "\n",
    "for batch in train_dataloader:\n",
    "    modalities, labels = batch\n",
    "    print(f\"Modality 1 shape: {modalities[0].shape}\")  # Expected shape: (batch_size, feature, 1)\n",
    "    print(f\"Modality 2 shape: {modalities[1].shape}\")\n",
    "    #print(f\"Modality 3 shape: {modalities[2].shape}\")\n",
    "    print(f\"Labels shape: {labels}\")\n",
    "    break"
   ]
  },
  {
   "cell_type": "code",
   "execution_count": 9,
   "metadata": {},
   "outputs": [],
   "source": [
    "dev_loader = loaders.MultiModalityDataset(features_csv[features_csv[\"split\"]==\"dev\"], \n",
    "                                            modalities = {\"audio\", \"text\"}, label = \"label\")\n",
    "dev_dataloader = DataLoader(train_loader, batch_size=10, collate_fn=loaders.collate_fn)"
   ]
  },
  {
   "cell_type": "code",
   "execution_count": 10,
   "metadata": {},
   "outputs": [],
   "source": [
    "# Define input dimensions for each modality\n",
    "input_dims = [768, 768]  # These are the feature dimensions for each modality\n",
    "\n",
    "# Initialize MultiModalPerceiver model\n",
    "model = m.MultiModalPerceiver(\n",
    "    input_dims=input_dims,\n",
    "    input_channels=1,\n",
    "    input_axis=1,\n",
    "    projection_dim=256,\n",
    "    num_latents=16,\n",
    "    latent_dim=128,\n",
    "    depth=8,\n",
    "    cross_heads=8,\n",
    "    latent_heads=8,\n",
    "    cross_dim_head=32,\n",
    "    latent_dim_head=32,\n",
    "    attn_dropout=0.5,\n",
    "    ff_dropout=0.5,\n",
    "    output_dim=1,\n",
    "    weight_tie_layers=True,\n",
    "    fourier_encode_data=False,\n",
    "    max_freq=10,\n",
    "    num_freq_bands=4\n",
    ")"
   ]
  },
  {
   "cell_type": "code",
   "execution_count": 11,
   "metadata": {},
   "outputs": [
    {
     "data": {
      "text/plain": [
       "1585541"
      ]
     },
     "execution_count": 11,
     "metadata": {},
     "output_type": "execute_result"
    }
   ],
   "source": [
    "sum(p.numel() for p in model.parameters() if p.requires_grad)"
   ]
  },
  {
   "cell_type": "code",
   "execution_count": 12,
   "metadata": {},
   "outputs": [
    {
     "data": {
      "text/plain": [
       "'\\nlabels_torch = torch.from_numpy(features_csv[features_csv[\"split\"]==\"train\"][\"label.1\"].values)\\n# Calculate class weights\\nclass_counts = torch.bincount(labels_torch)  # Get counts for each class\\nclass_weights = len(labels_torch) / (2.0 * class_counts)\\n\\n# Apply weights to loss function\\ncriterion = nn.BCEWithLogitsLoss(pos_weight=class_weights[1])  # Weight for positive class'"
      ]
     },
     "execution_count": 12,
     "metadata": {},
     "output_type": "execute_result"
    }
   ],
   "source": [
    "\"\"\"\n",
    "labels_torch = torch.from_numpy(features_csv[features_csv[\"split\"]==\"train\"][\"label.1\"].values)\n",
    "# Calculate class weights\n",
    "class_counts = torch.bincount(labels_torch)  # Get counts for each class\n",
    "class_weights = len(labels_torch) / (2.0 * class_counts)\n",
    "\n",
    "# Apply weights to loss function\n",
    "criterion = nn.BCEWithLogitsLoss(pos_weight=class_weights[1])  # Weight for positive class\"\"\""
   ]
  },
  {
   "cell_type": "code",
   "execution_count": 13,
   "metadata": {},
   "outputs": [],
   "source": [
    "learning_rate = 0.0005\n",
    "num_epochs = 10\n",
    "mix_prob = 0.8\n",
    "alpha = 0.7\n",
    "# Define loss function and optimizer\n",
    "criterion = nn.MSELoss()  # Mean Squared Error for regression\n",
    "# loss function for binary classification\n",
    "#criterion = nn.BCEWithLogitsLoss()\n",
    "optimizer = optim.Adam(model.parameters(), lr=learning_rate)"
   ]
  },
  {
   "cell_type": "code",
   "execution_count": 14,
   "metadata": {},
   "outputs": [
    {
     "name": "stdout",
     "output_type": "stream",
     "text": [
      "Epoch [1/10], Train Loss: 31.9484, Val Loss: 31.5414\n",
      "Epoch [2/10], Train Loss: 29.9905, Val Loss: 30.5198\n",
      "Epoch [3/10], Train Loss: 29.1958, Val Loss: 29.4735\n",
      "Epoch [4/10], Train Loss: 27.6234, Val Loss: 28.3719\n",
      "Epoch [5/10], Train Loss: 26.5436, Val Loss: 27.2164\n",
      "Epoch [6/10], Train Loss: 25.6528, Val Loss: 26.0482\n",
      "Epoch [7/10], Train Loss: 24.6642, Val Loss: 24.8661\n",
      "Epoch [8/10], Train Loss: 23.1667, Val Loss: 23.6870\n",
      "Epoch [9/10], Train Loss: 22.1232, Val Loss: 22.5333\n",
      "Epoch [10/10], Train Loss: 20.7716, Val Loss: 21.4493\n"
     ]
    }
   ],
   "source": [
    "from sklearn.metrics import f1_score\n",
    "# Define variables to track losses\n",
    "train_losses = []\n",
    "val_losses = []\n",
    "best_val_loss = float('inf')  # Initialize best validation loss\n",
    "\n",
    "# Training loop\n",
    "for epoch in range(num_epochs):\n",
    "    model.train()\n",
    "\n",
    "    running_train_loss = 0.0\n",
    "    all_train_labels = []\n",
    "    all_train_preds = []\n",
    "    all_dev_labels = []\n",
    "    all_dev_preds = []\n",
    "\n",
    "    for batch in train_dataloader:\n",
    "        \n",
    "        # Unpack the batch\n",
    "        modalities, labels = batch\n",
    "        modality_1, modality_2 = modalities  # Each has shape (batch_size, feature, 1)\n",
    "\n",
    "        # Zero the parameter gradients for every batch!\n",
    "        optimizer.zero_grad()\n",
    "\n",
    "        # MixUp: randomly select a pair of samples and mix them\n",
    "        if random.random() < mix_prob:  # Apply MixUp with a probability of 50%\n",
    "            # Select a random index for mixing\n",
    "            index = torch.randperm(modality_1.shape[0]).to(modality_1.device)\n",
    "            \n",
    "            # Perform MixUp for each modality\n",
    "            modality_1, labels, lambda_value = mixup_data(modality_1, modality_1[index], labels, labels[index], alpha=alpha)\n",
    "            modality_2, _, _ = mixup_data(modality_2, modality_2[index], labels, labels[index], alpha=alpha)\n",
    "            #modality_3, _, _ = mixup_data(modality_3, modality_3[index], labels, labels[index], alpha=alpha)\n",
    "        \n",
    "\n",
    "        # Forward pass\n",
    "        inputs = [modality_1, modality_2]\n",
    "        output = model(inputs)\n",
    "\n",
    "        # Reshape labels to match the output shape if necessary\n",
    "        labels = labels.view(output.shape)  # Ensures labels has shape (batch_size, 1)\n",
    "\n",
    "        # Compute loss\n",
    "        loss = criterion(output, labels)\n",
    "        loss = torch.sqrt(loss)\n",
    "\n",
    "        # Backward pass and optimize\n",
    "        loss.backward()\n",
    "        optimizer.step()\n",
    "\n",
    "        # Accumulate loss\n",
    "        running_train_loss += loss.item()\n",
    "        # Convert logits to predictions\n",
    "        #preds = torch.sigmoid(output) > 0.5\n",
    "        #all_train_labels.extend(labels.cpu().numpy().flatten())\n",
    "        #all_train_preds.extend(preds.cpu().numpy().flatten())\n",
    "\n",
    "    # Average training loss for the epoch\n",
    "    train_loss = running_train_loss / len(train_dataloader)\n",
    "    train_losses.append(train_loss)\n",
    "\n",
    "    # Validation Phase\n",
    "    model.eval()  # Set model to evaluation mode\n",
    "    running_val_loss = 0.0\n",
    "\n",
    "    with torch.no_grad():  # Disable gradient computation\n",
    "        for batch in dev_dataloader:  # Use validation DataLoader\n",
    "            modalities, labels = batch\n",
    "            modality_1, modality_2 = modalities\n",
    "\n",
    "            # Forward pass\n",
    "            inputs = [modality_1, modality_2]\n",
    "            output = model(inputs)\n",
    "\n",
    "            # Reshape labels to match the output shape if necessary\n",
    "            labels = labels.view(output.shape)\n",
    "\n",
    "            # Compute loss\n",
    "            loss = criterion(output, labels)\n",
    "            loss = torch.sqrt(loss)\n",
    "\n",
    "            running_val_loss += loss.item()\n",
    "            #preds = torch.sigmoid(output) > 0.5\n",
    "            #all_dev_labels.extend(labels.cpu().numpy().flatten())\n",
    "            #all_dev_preds.extend(preds.cpu().numpy().flatten())\n",
    "\n",
    "    # Average validation loss for the epoch\n",
    "    val_loss = running_val_loss / len(dev_dataloader)\n",
    "    val_losses.append(val_loss)\n",
    "\n",
    "    # Check if this is the best model\n",
    "    if val_loss < best_val_loss:\n",
    "        best_val_loss = val_loss\n",
    "        torch.save(model.state_dict(), \"best_aud_text_model.pth\")  # Save best model\n",
    "\n",
    "    # Compute F1-score for training\n",
    "    #train_f1 = f1_score(all_train_labels, all_train_preds, average='weighted')\n",
    "    #dev_f1 = f1_score(all_dev_labels, all_dev_preds, average='weighted')\n",
    "\n",
    "    # Print epoch summary\n",
    "    #print(f\"Epoch [{epoch+1}/{num_epochs}], Train Loss: {train_loss:.4f}, Val Loss: {val_loss:.4f}, Train F1: {train_f1:.4f}, Val F1: {dev_f1:.4f}\")\n",
    "    print(f\"Epoch [{epoch+1}/{num_epochs}], Train Loss: {train_loss:.4f}, Val Loss: {val_loss:.4f}\")\n"
   ]
  },
  {
   "cell_type": "code",
   "execution_count": 15,
   "metadata": {},
   "outputs": [
    {
     "data": {
      "image/png": "[encoded data removed]",
      "text/plain": [
       "<Figure size 800x600 with 1 Axes>"
      ]
     },
     "metadata": {},
     "output_type": "display_data"
    }
   ],
   "source": [
    "# Plot training and validation losses\n",
    "plt.figure(figsize=(8, 6))\n",
    "plt.plot(train_losses, label=\"Training Loss\")\n",
    "plt.plot(val_losses, label=\"Validation Loss\")\n",
    "plt.xlabel(\"Epoch\")\n",
    "plt.ylabel(\"Loss\")\n",
    "plt.title(\"Training and Validation Loss\")\n",
    "plt.legend()\n",
    "plt.savefig(\"loss_plot.png\")  # Save the plot\n",
    "plt.show()"
   ]
  },
  {
   "cell_type": "code",
   "execution_count": 17,
   "metadata": {},
   "outputs": [
    {
     "name": "stdout",
     "output_type": "stream",
     "text": [
      "Predictions:\n",
      "[20.82246]\n"
     ]
    }
   ],
   "source": [
    "# Model prediction\n",
    "model.eval()  # Set model to evaluation mode\n",
    "\n",
    "predictions = []\n",
    "with torch.no_grad():  # Disable gradient computation\n",
    "    for batch in dev_dataloader:\n",
    "        modalities, _ = batch  # Ignore labels if unavailable\n",
    "        modality_1, modality_2 = modalities\n",
    "        \n",
    "        # Forward pass\n",
    "        inputs = [modality_1, modality_2]\n",
    "        output = model(inputs)  # Model's prediction\n",
    "        #predictions = torch.sigmoid(output)  # Apply sigmoid activation\n",
    "        #predicted_classes = (predictions > 0.5).int()  # Convert probabilities to binary predictions\n",
    "        #print(f\"Predicted Probabilities:\\n{predictions}\")\n",
    "        #print(f\"Predicted Classes:\\n{predicted_classes}\")\n",
    "        # Collect predictions\n",
    "        predictions.append(output)\n",
    "\n",
    "# Combine predictions into a single tensor\n",
    "#predictions = torch.cat(predicted_classes, dim=0)\n",
    "#y_pred = np.array(predictions)\n",
    "out = np.concatenate(predictions).ravel()\n",
    "\n",
    "print(f\"Predictions:\\n{np.unique(out)}\")"
   ]
  },
  {
   "attachments": {},
   "cell_type": "markdown",
   "metadata": {},
   "source": [
    "# Unbalanced LARGE MODEL"
   ]
  },
  {
   "cell_type": "code",
   "execution_count": 19,
   "metadata": {},
   "outputs": [
    {
     "name": "stdout",
     "output_type": "stream",
     "text": [
      "Modality 1 shape: torch.Size([10, 768, 1])\n",
      "Modality 2 shape: torch.Size([10, 768, 1])\n",
      "Labels shape: tensor([29., 32., 48., 72., 58., 36., 48., 46., 27., 24.])\n"
     ]
    }
   ],
   "source": [
    "train_loader = loaders.MultiModalityDataset(features_csv[features_csv[\"split\"]==\"train\"], \n",
    "                                            modalities = {\"audio\", \"text\"}, label = \"label\")\n",
    "train_dataloader = DataLoader(train_loader, batch_size=10, collate_fn=loaders.collate_fn)\n",
    "\n",
    "for batch in train_dataloader:\n",
    "    modalities, labels = batch\n",
    "    print(f\"Modality 1 shape: {modalities[0].shape}\")  # Expected shape: (batch_size, feature, 1)\n",
    "    print(f\"Modality 2 shape: {modalities[1].shape}\")\n",
    "    #print(f\"Modality 3 shape: {modalities[2].shape}\")\n",
    "    print(f\"Labels shape: {labels}\")\n",
    "    break"
   ]
  },
  {
   "cell_type": "code",
   "execution_count": 20,
   "metadata": {},
   "outputs": [],
   "source": [
    "dev_loader = loaders.MultiModalityDataset(features_csv[features_csv[\"split\"]==\"dev\"], \n",
    "                                            modalities = {\"audio\", \"text\"}, label = \"label\")\n",
    "dev_dataloader = DataLoader(train_loader, batch_size=10, collate_fn=loaders.collate_fn)"
   ]
  },
  {
   "cell_type": "code",
   "execution_count": 21,
   "metadata": {},
   "outputs": [],
   "source": [
    "# Define input dimensions for each modality\n",
    "input_dims = [768, 768]  # These are the feature dimensions for each modality\n",
    "\n",
    "# Initialize MultiModalPerceiver model\n",
    "model = m.SimpleMultiModalityModel(input_sizes=input_dims, hidden_size=1000, output_size=1)"
   ]
  },
  {
   "cell_type": "code",
   "execution_count": 22,
   "metadata": {},
   "outputs": [
    {
     "data": {
      "text/plain": [
       "3540001"
      ]
     },
     "execution_count": 22,
     "metadata": {},
     "output_type": "execute_result"
    }
   ],
   "source": [
    "sum(p.numel() for p in model.parameters() if p.requires_grad)"
   ]
  },
  {
   "cell_type": "code",
   "execution_count": 23,
   "metadata": {},
   "outputs": [
    {
     "data": {
      "text/plain": [
       "'\\nlabels_torch = torch.from_numpy(features_csv[features_csv[\"split\"]==\"train\"][\"label.1\"].values)\\n# Calculate class weights\\nclass_counts = torch.bincount(labels_torch)  # Get counts for each class\\nclass_weights = len(labels_torch) / (2.0 * class_counts)\\n\\n# Apply weights to loss function\\ncriterion = nn.BCEWithLogitsLoss(pos_weight=class_weights[1])  # Weight for positive class'"
      ]
     },
     "execution_count": 23,
     "metadata": {},
     "output_type": "execute_result"
    }
   ],
   "source": [
    "\"\"\"\n",
    "labels_torch = torch.from_numpy(features_csv[features_csv[\"split\"]==\"train\"][\"label.1\"].values)\n",
    "# Calculate class weights\n",
    "class_counts = torch.bincount(labels_torch)  # Get counts for each class\n",
    "class_weights = len(labels_torch) / (2.0 * class_counts)\n",
    "\n",
    "# Apply weights to loss function\n",
    "criterion = nn.BCEWithLogitsLoss(pos_weight=class_weights[1])  # Weight for positive class\"\"\""
   ]
  },
  {
   "cell_type": "code",
   "execution_count": 25,
   "metadata": {},
   "outputs": [],
   "source": [
    "learning_rate = 0.001\n",
    "num_epochs = 10\n",
    "mix_prob = 0\n",
    "alpha = 0.7\n",
    "# Define loss function and optimizer\n",
    "criterion = nn.MSELoss()  # Mean Squared Error for regression\n",
    "# loss function for binary classification\n",
    "#criterion = nn.BCEWithLogitsLoss()\n",
    "optimizer = optim.Adam(model.parameters(), lr=learning_rate)"
   ]
  },
  {
   "cell_type": "code",
   "execution_count": 29,
   "metadata": {},
   "outputs": [
    {
     "name": "stdout",
     "output_type": "stream",
     "text": [
      "best val loss  0 :  17.312126608455884\n",
      "Epoch [1/10], Train Loss: 18.5241, Val Loss: 17.3121\n",
      "Epoch [2/10], Train Loss: 18.4895, Val Loss: 17.3316\n",
      "best val loss  2 :  17.199425304637234\n",
      "Epoch [3/10], Train Loss: 18.4960, Val Loss: 17.1994\n",
      "best val loss  3 :  17.150218963623047\n",
      "Epoch [4/10], Train Loss: 18.3904, Val Loss: 17.1502\n",
      "best val loss  4 :  17.142191830803366\n",
      "Epoch [5/10], Train Loss: 18.3138, Val Loss: 17.1422\n",
      "best val loss  5 :  17.113280464621152\n",
      "Epoch [6/10], Train Loss: 18.2807, Val Loss: 17.1133\n",
      "Epoch [7/10], Train Loss: 18.2401, Val Loss: 17.1568\n",
      "best val loss  7 :  17.085153579711914\n",
      "Epoch [8/10], Train Loss: 18.2569, Val Loss: 17.0852\n",
      "Epoch [9/10], Train Loss: 18.1951, Val Loss: 17.0913\n",
      "best val loss  9 :  17.050873700310202\n",
      "Epoch [10/10], Train Loss: 18.1739, Val Loss: 17.0509\n"
     ]
    }
   ],
   "source": [
    "from sklearn.metrics import f1_score\n",
    "# Define variables to track losses\n",
    "train_losses = []\n",
    "val_losses = []\n",
    "best_val_loss = float('inf')  # Initialize best validation loss\n",
    "\n",
    "# Training loop\n",
    "for epoch in range(num_epochs):\n",
    "    model.train()\n",
    "\n",
    "    running_train_loss = 0.0\n",
    "    all_train_labels = []\n",
    "    all_train_preds = []\n",
    "    all_dev_labels = []\n",
    "    all_dev_preds = []\n",
    "\n",
    "    for batch in train_dataloader:\n",
    "        \n",
    "        # Unpack the batch\n",
    "        modalities, labels = batch\n",
    "        modality_1, modality_2 = modalities  # Each has shape (batch_size, feature, 1)\n",
    "\n",
    "        # Zero the parameter gradients for every batch!\n",
    "        optimizer.zero_grad()\n",
    "\n",
    "        # MixUp: randomly select a pair of samples and mix them\n",
    "        if random.random() < mix_prob:  # Apply MixUp with a probability of 50%\n",
    "            # Select a random index for mixing\n",
    "            index = torch.randperm(modality_1.shape[0]).to(modality_1.device)\n",
    "            \n",
    "            # Perform MixUp for each modality\n",
    "            modality_1, labels, lambda_value = mixup_data(modality_1, modality_1[index], labels, labels[index], alpha=alpha)\n",
    "            modality_2, _, _ = mixup_data(modality_2, modality_2[index], labels, labels[index], alpha=alpha)\n",
    "            #modality_3, _, _ = mixup_data(modality_3, modality_3[index], labels, labels[index], alpha=alpha)\n",
    "        \n",
    "\n",
    "        # Forward pass\n",
    "        inputs = [modality_1, modality_2]\n",
    "        output = model(inputs)\n",
    "\n",
    "        # Reshape labels to match the output shape if necessary\n",
    "        labels = labels.view(output.shape)  # Ensures labels has shape (batch_size, 1)\n",
    "\n",
    "        # Compute loss\n",
    "        loss = criterion(output, labels)\n",
    "        loss = torch.sqrt(loss)\n",
    "\n",
    "        # Backward pass and optimize\n",
    "        loss.backward()\n",
    "        optimizer.step()\n",
    "\n",
    "        # Accumulate loss\n",
    "        running_train_loss += loss.item()\n",
    "        # Convert logits to predictions\n",
    "        #preds = torch.sigmoid(output) > 0.5\n",
    "        #all_train_labels.extend(labels.cpu().numpy().flatten())\n",
    "        #all_train_preds.extend(preds.cpu().numpy().flatten())\n",
    "\n",
    "    # Average training loss for the epoch\n",
    "    train_loss = running_train_loss / len(train_dataloader)\n",
    "    train_losses.append(train_loss)\n",
    "\n",
    "    # Validation Phase\n",
    "    model.eval()  # Set model to evaluation mode\n",
    "    running_val_loss = 0.0\n",
    "\n",
    "    with torch.no_grad():  # Disable gradient computation\n",
    "        for batch in dev_dataloader:  # Use validation DataLoader\n",
    "            modalities, labels = batch\n",
    "            modality_1, modality_2 = modalities\n",
    "\n",
    "            # Forward pass\n",
    "            inputs = [modality_1, modality_2]\n",
    "            output = model(inputs)\n",
    "\n",
    "            # Reshape labels to match the output shape if necessary\n",
    "            labels = labels.view(output.shape)\n",
    "\n",
    "            # Compute loss\n",
    "            loss = criterion(output, labels)\n",
    "            loss = torch.sqrt(loss)\n",
    "\n",
    "            running_val_loss += loss.item()\n",
    "            #preds = torch.sigmoid(output) > 0.5\n",
    "            #all_dev_labels.extend(labels.cpu().numpy().flatten())\n",
    "            #all_dev_preds.extend(preds.cpu().numpy().flatten())\n",
    "\n",
    "    # Average validation loss for the epoch\n",
    "    val_loss = running_val_loss / len(dev_dataloader)\n",
    "    val_losses.append(val_loss)\n",
    "\n",
    "    # Check if this is the best model\n",
    "    if val_loss < best_val_loss:\n",
    "        best_val_loss = val_loss\n",
    "        print(\"best val loss \", epoch, \": \", best_val_loss)\n",
    "        #torch.save(model.state_dict(), \"best_aud_text_model.pth\")  # Save best model\n",
    "\n",
    "    # Compute F1-score for training\n",
    "    #train_f1 = f1_score(all_train_labels, all_train_preds, average='weighted')\n",
    "    #dev_f1 = f1_score(all_dev_labels, all_dev_preds, average='weighted')\n",
    "\n",
    "    # Print epoch summary\n",
    "    #print(f\"Epoch [{epoch+1}/{num_epochs}], Train Loss: {train_loss:.4f}, Val Loss: {val_loss:.4f}, Train F1: {train_f1:.4f}, Val F1: {dev_f1:.4f}\")\n",
    "    print(f\"Epoch [{epoch+1}/{num_epochs}], Train Loss: {train_loss:.4f}, Val Loss: {val_loss:.4f}\")\n"
   ]
  },
  {
   "cell_type": "code",
   "execution_count": 30,
   "metadata": {},
   "outputs": [
    {
     "name": "stdout",
     "output_type": "stream",
     "text": [
      "Predictions:\n",
      "[38.59332  38.59364  38.596455 38.597645 38.599033 38.60244  38.603867\n",
      " 38.61049  38.612144 38.614117 38.62067  38.620853 38.62226  38.622658\n",
      " 38.62568  38.62812  38.62937  38.629974 38.63143  38.631817 38.634766\n",
      " 38.637268 38.639225 38.639328 38.639763 38.64183  38.645046 38.64513\n",
      " 38.645203 38.64625  38.64888  38.649296 38.654987 38.655746 38.658264\n",
      " 38.65899  38.66166  38.66176  38.66928  38.671658 38.672386 38.672855\n",
      " 38.689327 38.690765 38.695312 38.69623  38.698708 38.699684 38.703465\n",
      " 38.706905 38.707874 38.710564 38.710693 38.711    38.713158 38.713577\n",
      " 38.716248 38.717304 38.718456 38.725304 38.732304 38.73274  38.733463\n",
      " 38.733963 38.734947 38.73866  38.73868  38.74126  38.742256 38.746117\n",
      " 38.74669  38.74898  38.759644 38.763393 38.765068 38.774696 38.77488\n",
      " 38.776333 38.77686  38.77963  38.783485 38.786243 38.789486 38.790684\n",
      " 38.793213 38.793236 38.794144 38.797512 38.800163 38.80163  38.8026\n",
      " 38.80539  38.807014 38.808376 38.80933  38.811775 38.82021  38.82391\n",
      " 38.82519  38.826153 38.82722  38.832314 38.8348   38.840374 38.84086\n",
      " 38.84318  38.848938 38.85042  38.85216  38.8538   38.855232 38.857742\n",
      " 38.860336 38.86119  38.865063 38.866116 38.867332 38.868946 38.87575\n",
      " 38.875977 38.876553 38.882458 38.891525 38.8958   38.896484 38.89781\n",
      " 38.89812  38.901802 38.90307  38.90649  38.91848  38.919758 38.944668\n",
      " 38.944828 38.94648  38.948296 38.949516 38.95823  38.96092  38.96339\n",
      " 38.96961  38.981464 38.991684 38.992    38.993313 38.99565  39.000477\n",
      " 39.00971  39.011818 39.023167 39.02844  39.049877 39.05038  39.070683\n",
      " 39.0929   39.117764 39.123894 39.127357 39.152187 39.158417 39.169353\n",
      " 39.172054 39.209236]\n"
     ]
    }
   ],
   "source": [
    "# Model prediction\n",
    "model.eval()  # Set model to evaluation mode\n",
    "\n",
    "predictions = []\n",
    "with torch.no_grad():  # Disable gradient computation\n",
    "    for batch in train_dataloader:\n",
    "        modalities, _ = batch  # Ignore labels if unavailable\n",
    "        modality_1, modality_2 = modalities\n",
    "        \n",
    "        # Forward pass\n",
    "        inputs = [modality_1, modality_2]\n",
    "        output = model(inputs)  # Model's prediction\n",
    "        #predicts = torch.sigmoid(output)  # Apply sigmoid activation\n",
    "        #predicted_classes = (predicts > 0.5).int()  # Convert probabilities to binary predictions\n",
    "        #print(f\"Predicted Probabilities:\\n{predictions}\")\n",
    "        #print(f\"Predicted Classes:\\n{predicted_classes}\")\n",
    "        # Collect predictions\n",
    "        predictions.append(output)\n",
    "        #predictions.append(predicted_classes)\n",
    "\n",
    "# Combine predictions into a single tensor\n",
    "#predictions = torch.cat(predicted_classes, dim=0)\n",
    "#y_pred = np.array(predictions)\n",
    "out = np.concatenate(predictions).ravel()\n",
    "\n",
    "print(f\"Predictions:\\n{np.unique(out)}\")"
   ]
  },
  {
   "cell_type": "code",
   "execution_count": 31,
   "metadata": {},
   "outputs": [
    {
     "data": {
      "image/png": "[encoded data removed]",
      "text/plain": [
       "<Figure size 800x600 with 1 Axes>"
      ]
     },
     "metadata": {},
     "output_type": "display_data"
    }
   ],
   "source": [
    "# Plot training and validation losses\n",
    "plt.figure(figsize=(8, 6))\n",
    "plt.plot(train_losses, label=\"Training Loss\")\n",
    "plt.plot(val_losses, label=\"Validation Loss\")\n",
    "plt.xlabel(\"Epoch\")\n",
    "plt.ylabel(\"Loss\")\n",
    "plt.title(\"Training and Validation Loss\")\n",
    "plt.legend()\n",
    "plt.savefig(\"loss_plot.png\")  # Save the plot\n",
    "plt.show()"
   ]
  },
  {
   "cell_type": "code",
   "execution_count": 42,
   "metadata": {},
   "outputs": [],
   "source": [
    "y_pred= out"
   ]
  },
  {
   "cell_type": "code",
   "execution_count": 44,
   "metadata": {},
   "outputs": [],
   "source": [
    "y_test = np.array(features_csv[features_csv[\"split\"]==\"train\"][\"label\"].values)"
   ]
  },
  {
   "cell_type": "code",
   "execution_count": 38,
   "metadata": {},
   "outputs": [
    {
     "data": {
      "text/plain": [
       "array(['female', 'male', 'unknown'], dtype=object)"
      ]
     },
     "execution_count": 38,
     "metadata": {},
     "output_type": "execute_result"
    }
   ],
   "source": [
    "np.unique(features_csv['gender'])"
   ]
  },
  {
   "cell_type": "code",
   "execution_count": 45,
   "metadata": {},
   "outputs": [],
   "source": [
    "features_csv['col_encoded'] = features_csv['gender'].map({'female': 0, 'male': 1, 'unknown':1})"
   ]
  },
  {
   "cell_type": "code",
   "execution_count": 46,
   "metadata": {},
   "outputs": [
    {
     "data": {
      "text/plain": [
       "array([0, 1])"
      ]
     },
     "execution_count": 46,
     "metadata": {},
     "output_type": "execute_result"
    }
   ],
   "source": [
    "np.unique(features_csv['col_encoded'])"
   ]
  },
  {
   "cell_type": "code",
   "execution_count": 47,
   "metadata": {},
   "outputs": [
    {
     "name": "stdout",
     "output_type": "stream",
     "text": [
      "Shape of gender_test: (163,)\n",
      "Shape of y_test: (163,)\n",
      "Shape of y_pred: (163,)\n"
     ]
    }
   ],
   "source": [
    "from fairlearn.metrics import demographic_parity_difference\n",
    "\n",
    "# Assuming `gender` corresponds to the original metadata\n",
    "# Split the dataset into training and testing sets for `gender`\n",
    "gender_train, gender_test = features_csv[features_csv[\"split\"]==\"train\"][\"col_encoded\"], features_csv[features_csv[\"split\"]==\"dev\"][\"col_encoded\"]\n",
    "\n",
    "# Ensure that `gender_test`, `y_test`, and `y_pred` are aligned\n",
    "print(f\"Shape of gender_test: {gender_train.shape}\")\n",
    "print(f\"Shape of y_test: {y_test.shape}\")\n",
    "print(f\"Shape of y_pred: {y_pred.shape}\")\n",
    "\n"
   ]
  },
  {
   "cell_type": "code",
   "execution_count": 50,
   "metadata": {},
   "outputs": [
    {
     "name": "stdout",
     "output_type": "stream",
     "text": [
      "Demographic Parity Difference: 0.0\n"
     ]
    }
   ],
   "source": [
    "# Calculate Demographic Parity Difference\n",
    "demographic_parity = demographic_parity_difference(\n",
    "    y_true=y_test,\n",
    "    y_pred=y_pred,\n",
    "    sensitive_features=gender_train\n",
    ")\n",
    "\n",
    "print(f\"Demographic Parity Difference: {demographic_parity}\")"
   ]
  },
  {
   "cell_type": "code",
   "execution_count": 51,
   "metadata": {},
   "outputs": [
    {
     "name": "stdout",
     "output_type": "stream",
     "text": [
      "Selection Rates by Group:\n",
      "col_encoded\n",
      "0    0.0\n",
      "1    0.0\n",
      "Name: selection_rate, dtype: float64\n"
     ]
    }
   ],
   "source": [
    "from fairlearn.metrics import MetricFrame, selection_rate\n",
    "metric_frame = MetricFrame(metrics=selection_rate, \n",
    "                           y_true=y_test, \n",
    "                           y_pred=y_pred, \n",
    "                           sensitive_features=gender_train)\n",
    "\n",
    "# Get selection rates for each group\n",
    "selection_rates = metric_frame.by_group\n",
    "print(\"Selection Rates by Group:\")\n",
    "print(selection_rates)\n"
   ]
  },
  {
   "cell_type": "code",
   "execution_count": 52,
   "metadata": {},
   "outputs": [],
   "source": [
    "group_a_rate = selection_rates[1]\n",
    "group_b_rate = selection_rates[0]\n",
    "\n",
    "if group_b_rate > 0:  # Avoid division by zero\n",
    "    demographic_parity_ratio = group_a_rate / group_b_rate\n",
    "    print(f\"Demographic Parity Ratio: {demographic_parity_ratio}\")"
   ]
  },
  {
   "attachments": {},
   "cell_type": "markdown",
   "metadata": {},
   "source": [
    "# Unbalanced simple MODEL with normalized target distribution"
   ]
  },
  {
   "cell_type": "code",
   "execution_count": 9,
   "metadata": {},
   "outputs": [],
   "source": [
    "features_csv = features_csv.dropna(subset=['label'])\n",
    "# Assuming your DataFrame is named df and the regression labels column is 'regression_label'\n",
    "# Normalize the labels within each split\n",
    "features_csv['normalized_label'] = features_csv.groupby('split')['label'].transform(\n",
    "    lambda x: (x - x.mean()) / x.std())"
   ]
  },
  {
   "cell_type": "code",
   "execution_count": 10,
   "metadata": {},
   "outputs": [
    {
     "data": {
      "text/html": [
       "<div>\n",
       "<style scoped>\n",
       "    .dataframe tbody tr th:only-of-type {\n",
       "        vertical-align: middle;\n",
       "    }\n",
       "\n",
       "    .dataframe tbody tr th {\n",
       "        vertical-align: top;\n",
       "    }\n",
       "\n",
       "    .dataframe thead th {\n",
       "        text-align: right;\n",
       "    }\n",
       "</style>\n",
       "<table border=\"1\" class=\"dataframe\">\n",
       "  <thead>\n",
       "    <tr style=\"text-align: right;\">\n",
       "      <th></th>\n",
       "      <th>split</th>\n",
       "      <th>label</th>\n",
       "      <th>label.1</th>\n",
       "      <th>gender</th>\n",
       "      <th>audio</th>\n",
       "      <th>text</th>\n",
       "      <th>visual</th>\n",
       "      <th>normalized_label</th>\n",
       "    </tr>\n",
       "  </thead>\n",
       "  <tbody>\n",
       "    <tr>\n",
       "      <th>0</th>\n",
       "      <td>dev</td>\n",
       "      <td>27.0</td>\n",
       "      <td>0</td>\n",
       "      <td>female</td>\n",
       "      <td>/home/hice1/mbibars3/scratch/vlm-debiasing/dat...</td>\n",
       "      <td>/home/hice1/mbibars3/scratch/vlm-debiasing/dat...</td>\n",
       "      <td>/home/hice1/mbibars3/scratch/vlm-debiasing/dat...</td>\n",
       "      <td>-0.489965</td>\n",
       "    </tr>\n",
       "    <tr>\n",
       "      <th>1</th>\n",
       "      <td>train</td>\n",
       "      <td>29.0</td>\n",
       "      <td>0</td>\n",
       "      <td>male</td>\n",
       "      <td>/home/hice1/mbibars3/scratch/vlm-debiasing/dat...</td>\n",
       "      <td>/home/hice1/mbibars3/scratch/vlm-debiasing/dat...</td>\n",
       "      <td>/home/hice1/mbibars3/scratch/vlm-debiasing/dat...</td>\n",
       "      <td>-0.388594</td>\n",
       "    </tr>\n",
       "    <tr>\n",
       "      <th>2</th>\n",
       "      <td>train</td>\n",
       "      <td>32.0</td>\n",
       "      <td>0</td>\n",
       "      <td>male</td>\n",
       "      <td>/home/hice1/mbibars3/scratch/vlm-debiasing/dat...</td>\n",
       "      <td>/home/hice1/mbibars3/scratch/vlm-debiasing/dat...</td>\n",
       "      <td>/home/hice1/mbibars3/scratch/vlm-debiasing/dat...</td>\n",
       "      <td>-0.211993</td>\n",
       "    </tr>\n",
       "    <tr>\n",
       "      <th>3</th>\n",
       "      <td>dev</td>\n",
       "      <td>26.0</td>\n",
       "      <td>0</td>\n",
       "      <td>male</td>\n",
       "      <td>/home/hice1/mbibars3/scratch/vlm-debiasing/dat...</td>\n",
       "      <td>/home/hice1/mbibars3/scratch/vlm-debiasing/dat...</td>\n",
       "      <td>/home/hice1/mbibars3/scratch/vlm-debiasing/dat...</td>\n",
       "      <td>-0.554831</td>\n",
       "    </tr>\n",
       "    <tr>\n",
       "      <th>4</th>\n",
       "      <td>test</td>\n",
       "      <td>26.0</td>\n",
       "      <td>0</td>\n",
       "      <td>male</td>\n",
       "      <td>/home/hice1/mbibars3/scratch/vlm-debiasing/dat...</td>\n",
       "      <td>/home/hice1/mbibars3/scratch/vlm-debiasing/dat...</td>\n",
       "      <td>/home/hice1/mbibars3/scratch/vlm-debiasing/dat...</td>\n",
       "      <td>-0.750079</td>\n",
       "    </tr>\n",
       "    <tr>\n",
       "      <th>...</th>\n",
       "      <td>...</td>\n",
       "      <td>...</td>\n",
       "      <td>...</td>\n",
       "      <td>...</td>\n",
       "      <td>...</td>\n",
       "      <td>...</td>\n",
       "      <td>...</td>\n",
       "      <td>...</td>\n",
       "    </tr>\n",
       "    <tr>\n",
       "      <th>270</th>\n",
       "      <td>train</td>\n",
       "      <td>18.0</td>\n",
       "      <td>0</td>\n",
       "      <td>male</td>\n",
       "      <td>/home/hice1/mbibars3/scratch/vlm-debiasing/dat...</td>\n",
       "      <td>/home/hice1/mbibars3/scratch/vlm-debiasing/dat...</td>\n",
       "      <td>/home/hice1/mbibars3/scratch/vlm-debiasing/dat...</td>\n",
       "      <td>-1.036129</td>\n",
       "    </tr>\n",
       "    <tr>\n",
       "      <th>271</th>\n",
       "      <td>test</td>\n",
       "      <td>67.0</td>\n",
       "      <td>1</td>\n",
       "      <td>female</td>\n",
       "      <td>/home/hice1/mbibars3/scratch/vlm-debiasing/dat...</td>\n",
       "      <td>/home/hice1/mbibars3/scratch/vlm-debiasing/dat...</td>\n",
       "      <td>/home/hice1/mbibars3/scratch/vlm-debiasing/dat...</td>\n",
       "      <td>1.307758</td>\n",
       "    </tr>\n",
       "    <tr>\n",
       "      <th>272</th>\n",
       "      <td>test</td>\n",
       "      <td>58.0</td>\n",
       "      <td>1</td>\n",
       "      <td>male</td>\n",
       "      <td>/home/hice1/mbibars3/scratch/vlm-debiasing/dat...</td>\n",
       "      <td>/home/hice1/mbibars3/scratch/vlm-debiasing/dat...</td>\n",
       "      <td>/home/hice1/mbibars3/scratch/vlm-debiasing/dat...</td>\n",
       "      <td>0.856038</td>\n",
       "    </tr>\n",
       "    <tr>\n",
       "      <th>273</th>\n",
       "      <td>test</td>\n",
       "      <td>44.0</td>\n",
       "      <td>1</td>\n",
       "      <td>female</td>\n",
       "      <td>/home/hice1/mbibars3/scratch/vlm-debiasing/dat...</td>\n",
       "      <td>/home/hice1/mbibars3/scratch/vlm-debiasing/dat...</td>\n",
       "      <td>/home/hice1/mbibars3/scratch/vlm-debiasing/dat...</td>\n",
       "      <td>0.153362</td>\n",
       "    </tr>\n",
       "    <tr>\n",
       "      <th>274</th>\n",
       "      <td>train</td>\n",
       "      <td>23.0</td>\n",
       "      <td>0</td>\n",
       "      <td>female</td>\n",
       "      <td>/home/hice1/mbibars3/scratch/vlm-debiasing/dat...</td>\n",
       "      <td>/home/hice1/mbibars3/scratch/vlm-debiasing/dat...</td>\n",
       "      <td>/home/hice1/mbibars3/scratch/vlm-debiasing/dat...</td>\n",
       "      <td>-0.741795</td>\n",
       "    </tr>\n",
       "  </tbody>\n",
       "</table>\n",
       "<p>273 rows × 8 columns</p>\n",
       "</div>"
      ],
      "text/plain": [
       "     split  label  label.1  gender  \\\n",
       "0      dev   27.0        0  female   \n",
       "1    train   29.0        0    male   \n",
       "2    train   32.0        0    male   \n",
       "3      dev   26.0        0    male   \n",
       "4     test   26.0        0    male   \n",
       "..     ...    ...      ...     ...   \n",
       "270  train   18.0        0    male   \n",
       "271   test   67.0        1  female   \n",
       "272   test   58.0        1    male   \n",
       "273   test   44.0        1  female   \n",
       "274  train   23.0        0  female   \n",
       "\n",
       "                                                 audio  \\\n",
       "0    /home/hice1/mbibars3/scratch/vlm-debiasing/dat...   \n",
       "1    /home/hice1/mbibars3/scratch/vlm-debiasing/dat...   \n",
       "2    /home/hice1/mbibars3/scratch/vlm-debiasing/dat...   \n",
       "3    /home/hice1/mbibars3/scratch/vlm-debiasing/dat...   \n",
       "4    /home/hice1/mbibars3/scratch/vlm-debiasing/dat...   \n",
       "..                                                 ...   \n",
       "270  /home/hice1/mbibars3/scratch/vlm-debiasing/dat...   \n",
       "271  /home/hice1/mbibars3/scratch/vlm-debiasing/dat...   \n",
       "272  /home/hice1/mbibars3/scratch/vlm-debiasing/dat...   \n",
       "273  /home/hice1/mbibars3/scratch/vlm-debiasing/dat...   \n",
       "274  /home/hice1/mbibars3/scratch/vlm-debiasing/dat...   \n",
       "\n",
       "                                                  text  \\\n",
       "0    /home/hice1/mbibars3/scratch/vlm-debiasing/dat...   \n",
       "1    /home/hice1/mbibars3/scratch/vlm-debiasing/dat...   \n",
       "2    /home/hice1/mbibars3/scratch/vlm-debiasing/dat...   \n",
       "3    /home/hice1/mbibars3/scratch/vlm-debiasing/dat...   \n",
       "4    /home/hice1/mbibars3/scratch/vlm-debiasing/dat...   \n",
       "..                                                 ...   \n",
       "270  /home/hice1/mbibars3/scratch/vlm-debiasing/dat...   \n",
       "271  /home/hice1/mbibars3/scratch/vlm-debiasing/dat...   \n",
       "272  /home/hice1/mbibars3/scratch/vlm-debiasing/dat...   \n",
       "273  /home/hice1/mbibars3/scratch/vlm-debiasing/dat...   \n",
       "274  /home/hice1/mbibars3/scratch/vlm-debiasing/dat...   \n",
       "\n",
       "                                                visual  normalized_label  \n",
       "0    /home/hice1/mbibars3/scratch/vlm-debiasing/dat...         -0.489965  \n",
       "1    /home/hice1/mbibars3/scratch/vlm-debiasing/dat...         -0.388594  \n",
       "2    /home/hice1/mbibars3/scratch/vlm-debiasing/dat...         -0.211993  \n",
       "3    /home/hice1/mbibars3/scratch/vlm-debiasing/dat...         -0.554831  \n",
       "4    /home/hice1/mbibars3/scratch/vlm-debiasing/dat...         -0.750079  \n",
       "..                                                 ...               ...  \n",
       "270  /home/hice1/mbibars3/scratch/vlm-debiasing/dat...         -1.036129  \n",
       "271  /home/hice1/mbibars3/scratch/vlm-debiasing/dat...          1.307758  \n",
       "272  /home/hice1/mbibars3/scratch/vlm-debiasing/dat...          0.856038  \n",
       "273  /home/hice1/mbibars3/scratch/vlm-debiasing/dat...          0.153362  \n",
       "274  /home/hice1/mbibars3/scratch/vlm-debiasing/dat...         -0.741795  \n",
       "\n",
       "[273 rows x 8 columns]"
      ]
     },
     "execution_count": 10,
     "metadata": {},
     "output_type": "execute_result"
    }
   ],
   "source": [
    "features_csv"
   ]
  },
  {
   "cell_type": "code",
   "execution_count": 11,
   "metadata": {},
   "outputs": [
    {
     "name": "stdout",
     "output_type": "stream",
     "text": [
      "<class 'pandas.core.frame.DataFrame'>\n",
      "Index: 273 entries, 0 to 274\n",
      "Data columns (total 8 columns):\n",
      " #   Column            Non-Null Count  Dtype  \n",
      "---  ------            --------------  -----  \n",
      " 0   split             273 non-null    object \n",
      " 1   label             273 non-null    float64\n",
      " 2   label.1           273 non-null    int64  \n",
      " 3   gender            273 non-null    object \n",
      " 4   audio             273 non-null    object \n",
      " 5   text              273 non-null    object \n",
      " 6   visual            273 non-null    object \n",
      " 7   normalized_label  273 non-null    float64\n",
      "dtypes: float64(2), int64(1), object(5)\n",
      "memory usage: 19.2+ KB\n"
     ]
    }
   ],
   "source": [
    "features_csv.info()"
   ]
  },
  {
   "cell_type": "code",
   "execution_count": 12,
   "metadata": {},
   "outputs": [
    {
     "name": "stdout",
     "output_type": "stream",
     "text": [
      "Modality 1 shape: torch.Size([10, 768, 1])\n",
      "Modality 2 shape: torch.Size([10, 768, 1])\n",
      "Labels shape: tensor([-0.3886, -0.2120,  0.7299,  2.1427,  1.3185,  0.0235,  0.7299,  0.6121,\n",
      "        -0.5063, -0.6829])\n"
     ]
    }
   ],
   "source": [
    "train_loader = loaders.MultiModalityDataset(features_csv[features_csv[\"split\"]==\"train\"], \n",
    "                                            modalities = {\"audio\", \"text\"}, label = \"normalized_label\")\n",
    "train_dataloader = DataLoader(train_loader, batch_size=10, collate_fn=loaders.collate_fn)\n",
    "\n",
    "for batch in train_dataloader:\n",
    "    modalities, labels = batch\n",
    "    print(f\"Modality 1 shape: {modalities[0].shape}\")  # Expected shape: (batch_size, feature, 1)\n",
    "    print(f\"Modality 2 shape: {modalities[1].shape}\")\n",
    "    #print(f\"Modality 3 shape: {modalities[2].shape}\")\n",
    "    print(f\"Labels shape: {labels}\")\n",
    "    break"
   ]
  },
  {
   "cell_type": "code",
   "execution_count": 13,
   "metadata": {},
   "outputs": [],
   "source": [
    "dev_loader = loaders.MultiModalityDataset(features_csv[features_csv[\"split\"]==\"dev\"], \n",
    "                                            modalities = {\"audio\", \"text\"}, label = \"label\")\n",
    "dev_dataloader = DataLoader(train_loader, batch_size=10, collate_fn=loaders.collate_fn)"
   ]
  },
  {
   "cell_type": "code",
   "execution_count": 38,
   "metadata": {},
   "outputs": [],
   "source": [
    "# Define input dimensions for each modality\n",
    "input_dims = [768, 768]  # These are the feature dimensions for each modality\n",
    "\n",
    "# Initialize MultiModalPerceiver model\n",
    "model = m.SimpleMultiModalityModel(input_sizes=input_dims, hidden_size=128, output_size=1)"
   ]
  },
  {
   "cell_type": "code",
   "execution_count": 39,
   "metadata": {},
   "outputs": [
    {
     "data": {
      "text/plain": [
       "229889"
      ]
     },
     "execution_count": 39,
     "metadata": {},
     "output_type": "execute_result"
    }
   ],
   "source": [
    "sum(p.numel() for p in model.parameters() if p.requires_grad)"
   ]
  },
  {
   "cell_type": "code",
   "execution_count": 40,
   "metadata": {},
   "outputs": [
    {
     "data": {
      "text/plain": [
       "'\\nlabels_torch = torch.from_numpy(features_csv[features_csv[\"split\"]==\"train\"][\"label.1\"].values)\\n# Calculate class weights\\nclass_counts = torch.bincount(labels_torch)  # Get counts for each class\\nclass_weights = len(labels_torch) / (2.0 * class_counts)\\n\\n# Apply weights to loss function\\ncriterion = nn.BCEWithLogitsLoss(pos_weight=class_weights[1])  # Weight for positive class'"
      ]
     },
     "execution_count": 40,
     "metadata": {},
     "output_type": "execute_result"
    }
   ],
   "source": [
    "\"\"\"\n",
    "labels_torch = torch.from_numpy(features_csv[features_csv[\"split\"]==\"train\"][\"label.1\"].values)\n",
    "# Calculate class weights\n",
    "class_counts = torch.bincount(labels_torch)  # Get counts for each class\n",
    "class_weights = len(labels_torch) / (2.0 * class_counts)\n",
    "\n",
    "# Apply weights to loss function\n",
    "criterion = nn.BCEWithLogitsLoss(pos_weight=class_weights[1])  # Weight for positive class\"\"\""
   ]
  },
  {
   "cell_type": "code",
   "execution_count": 41,
   "metadata": {},
   "outputs": [],
   "source": [
    "learning_rate = 0.001\n",
    "num_epochs = 50\n",
    "mix_prob = 0.8\n",
    "alpha = 1.0\n",
    "# Define loss function and optimizer\n",
    "criterion = nn.MSELoss()  # Mean Squared Error for regression\n",
    "# loss function for binary classification\n",
    "#criterion = nn.BCEWithLogitsLoss()\n",
    "optimizer = optim.Adam(model.parameters(), lr=learning_rate)"
   ]
  },
  {
   "cell_type": "code",
   "execution_count": 42,
   "metadata": {},
   "outputs": [
    {
     "name": "stdout",
     "output_type": "stream",
     "text": [
      "best val loss  0 :  0.9789731642779183\n",
      "Epoch [1/50], Train Loss: 0.8999, Val Loss: 0.9790\n",
      "Epoch [2/50], Train Loss: 0.9137, Val Loss: 0.9808\n",
      "Epoch [3/50], Train Loss: 0.8232, Val Loss: 0.9792\n",
      "best val loss  3 :  0.9789263886563918\n",
      "Epoch [4/50], Train Loss: 0.8449, Val Loss: 0.9789\n",
      "Epoch [5/50], Train Loss: 0.8634, Val Loss: 0.9790\n",
      "Epoch [6/50], Train Loss: 0.8711, Val Loss: 0.9789\n",
      "best val loss  6 :  0.9789172305780298\n",
      "Epoch [7/50], Train Loss: 0.8428, Val Loss: 0.9789\n",
      "Epoch [8/50], Train Loss: 0.8022, Val Loss: 0.9789\n",
      "best val loss  8 :  0.9789149971569285\n",
      "Epoch [9/50], Train Loss: 0.8327, Val Loss: 0.9789\n",
      "Epoch [10/50], Train Loss: 0.8705, Val Loss: 0.9789\n",
      "Epoch [11/50], Train Loss: 0.9001, Val Loss: 0.9789\n",
      "best val loss  11 :  0.9789059162139893\n",
      "Epoch [12/50], Train Loss: 0.8347, Val Loss: 0.9789\n",
      "best val loss  12 :  0.9789034023004419\n",
      "Epoch [13/50], Train Loss: 0.8901, Val Loss: 0.9789\n",
      "Epoch [14/50], Train Loss: 0.8889, Val Loss: 0.9789\n",
      "Epoch [15/50], Train Loss: 0.7995, Val Loss: 0.9789\n",
      "Epoch [16/50], Train Loss: 0.8601, Val Loss: 0.9789\n",
      "Epoch [17/50], Train Loss: 0.8550, Val Loss: 0.9789\n",
      "Epoch [18/50], Train Loss: 0.8226, Val Loss: 0.9789\n",
      "Epoch [19/50], Train Loss: 0.8243, Val Loss: 0.9789\n",
      "Epoch [20/50], Train Loss: 0.8512, Val Loss: 0.9790\n",
      "Epoch [21/50], Train Loss: 0.8686, Val Loss: 0.9789\n",
      "Epoch [22/50], Train Loss: 0.8767, Val Loss: 0.9789\n",
      "Epoch [23/50], Train Loss: 0.8614, Val Loss: 0.9789\n",
      "Epoch [24/50], Train Loss: 0.8234, Val Loss: 0.9789\n",
      "Epoch [25/50], Train Loss: 0.8544, Val Loss: 0.9789\n",
      "Epoch [26/50], Train Loss: 0.8049, Val Loss: 0.9789\n",
      "Epoch [27/50], Train Loss: 0.8421, Val Loss: 0.9789\n",
      "Epoch [28/50], Train Loss: 0.8336, Val Loss: 0.9789\n",
      "Epoch [29/50], Train Loss: 0.8489, Val Loss: 0.9789\n",
      "best val loss  29 :  0.9788835188921761\n",
      "Epoch [30/50], Train Loss: 0.8225, Val Loss: 0.9789\n",
      "Epoch [31/50], Train Loss: 0.8907, Val Loss: 0.9791\n",
      "Epoch [32/50], Train Loss: 0.8706, Val Loss: 0.9790\n",
      "Epoch [33/50], Train Loss: 0.8635, Val Loss: 0.9790\n",
      "Epoch [34/50], Train Loss: 0.8599, Val Loss: 0.9789\n",
      "Epoch [35/50], Train Loss: 0.8849, Val Loss: 0.9789\n",
      "Epoch [36/50], Train Loss: 0.8048, Val Loss: 0.9789\n",
      "Epoch [37/50], Train Loss: 0.8288, Val Loss: 0.9789\n",
      "Epoch [38/50], Train Loss: 0.8385, Val Loss: 0.9789\n",
      "Epoch [39/50], Train Loss: 0.8501, Val Loss: 0.9789\n",
      "Epoch [40/50], Train Loss: 0.8453, Val Loss: 0.9789\n",
      "Epoch [41/50], Train Loss: 0.8882, Val Loss: 0.9789\n",
      "Epoch [42/50], Train Loss: 0.8643, Val Loss: 0.9789\n",
      "Epoch [43/50], Train Loss: 0.8272, Val Loss: 0.9789\n",
      "Epoch [44/50], Train Loss: 0.8671, Val Loss: 0.9790\n",
      "Epoch [45/50], Train Loss: 0.8027, Val Loss: 0.9789\n",
      "Epoch [46/50], Train Loss: 0.9084, Val Loss: 0.9789\n",
      "Epoch [47/50], Train Loss: 0.7812, Val Loss: 0.9789\n",
      "Epoch [48/50], Train Loss: 0.8668, Val Loss: 0.9789\n",
      "Epoch [49/50], Train Loss: 0.7510, Val Loss: 0.9789\n",
      "Epoch [50/50], Train Loss: 0.8920, Val Loss: 0.9789\n"
     ]
    }
   ],
   "source": [
    "from sklearn.metrics import f1_score\n",
    "# Define variables to track losses\n",
    "train_losses = []\n",
    "val_losses = []\n",
    "best_val_loss = float('inf')  # Initialize best validation loss\n",
    "\n",
    "# Training loop\n",
    "for epoch in range(num_epochs):\n",
    "    model.train()\n",
    "\n",
    "    running_train_loss = 0.0\n",
    "    all_train_labels = []\n",
    "    all_train_preds = []\n",
    "    all_dev_labels = []\n",
    "    all_dev_preds = []\n",
    "\n",
    "    for batch in train_dataloader:\n",
    "        \n",
    "        # Unpack the batch\n",
    "        modalities, labels = batch\n",
    "        modality_1, modality_2 = modalities  # Each has shape (batch_size, feature, 1)\n",
    "\n",
    "        # Zero the parameter gradients for every batch!\n",
    "        optimizer.zero_grad()\n",
    "\n",
    "        # MixUp: randomly select a pair of samples and mix them\n",
    "        if random.random() < mix_prob:  # Apply MixUp with a probability of 50%\n",
    "            # Select a random index for mixing\n",
    "            index = torch.randperm(modality_1.shape[0]).to(modality_1.device)\n",
    "            \n",
    "            # Perform MixUp for each modality\n",
    "            modality_1, labels, lambda_value = mixup_data(modality_1, modality_1[index], labels, labels[index], alpha=alpha)\n",
    "            modality_2, _, _ = mixup_data(modality_2, modality_2[index], labels, labels[index], alpha=alpha)\n",
    "            #modality_3, _, _ = mixup_data(modality_3, modality_3[index], labels, labels[index], alpha=alpha)\n",
    "        \n",
    "\n",
    "        # Forward pass\n",
    "        inputs = [modality_1, modality_2]\n",
    "        output = model(inputs)\n",
    "\n",
    "        # Reshape labels to match the output shape if necessary\n",
    "        labels = labels.view(output.shape)  # Ensures labels has shape (batch_size, 1)\n",
    "\n",
    "        # Compute loss\n",
    "        loss = criterion(output, labels)\n",
    "        loss = torch.sqrt(loss)\n",
    "\n",
    "        # Backward pass and optimize\n",
    "        loss.backward()\n",
    "        optimizer.step()\n",
    "\n",
    "        # Accumulate loss\n",
    "        running_train_loss += loss.item()\n",
    "        # Convert logits to predictions\n",
    "        #preds = torch.sigmoid(output) > 0.5\n",
    "        #all_train_labels.extend(labels.cpu().numpy().flatten())\n",
    "        #all_train_preds.extend(preds.cpu().numpy().flatten())\n",
    "\n",
    "    # Average training loss for the epoch\n",
    "    train_loss = running_train_loss / len(train_dataloader)\n",
    "    train_losses.append(train_loss)\n",
    "\n",
    "    # Validation Phase\n",
    "    model.eval()  # Set model to evaluation mode\n",
    "    running_val_loss = 0.0\n",
    "\n",
    "    with torch.no_grad():  # Disable gradient computation\n",
    "        for batch in dev_dataloader:  # Use validation DataLoader\n",
    "            modalities, labels = batch\n",
    "            modality_1, modality_2 = modalities\n",
    "\n",
    "            # Forward pass\n",
    "            inputs = [modality_1, modality_2]\n",
    "            output = model(inputs)\n",
    "\n",
    "            # Reshape labels to match the output shape if necessary\n",
    "            labels = labels.view(output.shape)\n",
    "\n",
    "            # Compute loss\n",
    "            loss = criterion(output, labels)\n",
    "            loss = torch.sqrt(loss)\n",
    "\n",
    "            running_val_loss += loss.item()\n",
    "            #preds = torch.sigmoid(output) > 0.5\n",
    "            #all_dev_labels.extend(labels.cpu().numpy().flatten())\n",
    "            #all_dev_preds.extend(preds.cpu().numpy().flatten())\n",
    "\n",
    "    # Average validation loss for the epoch\n",
    "    val_loss = running_val_loss / len(dev_dataloader)\n",
    "    val_losses.append(val_loss)\n",
    "\n",
    "    # Check if this is the best model\n",
    "    if val_loss < best_val_loss:\n",
    "        best_val_loss = val_loss\n",
    "        print(\"best val loss \", epoch, \": \", best_val_loss)\n",
    "        #torch.save(model.state_dict(), \"best_aud_text_model.pth\")  # Save best model\n",
    "\n",
    "    # Compute F1-score for training\n",
    "    #train_f1 = f1_score(all_train_labels, all_train_preds, average='weighted')\n",
    "    #dev_f1 = f1_score(all_dev_labels, all_dev_preds, average='weighted')\n",
    "\n",
    "    # Print epoch summary\n",
    "    #print(f\"Epoch [{epoch+1}/{num_epochs}], Train Loss: {train_loss:.4f}, Val Loss: {val_loss:.4f}, Train F1: {train_f1:.4f}, Val F1: {dev_f1:.4f}\")\n",
    "    print(f\"Epoch [{epoch+1}/{num_epochs}], Train Loss: {train_loss:.4f}, Val Loss: {val_loss:.4f}\")\n"
   ]
  },
  {
   "cell_type": "code",
   "execution_count": 43,
   "metadata": {},
   "outputs": [
    {
     "name": "stdout",
     "output_type": "stream",
     "text": [
      "Predictions:\n",
      "[-0.04193494 -0.04193492 -0.04193437 -0.04193436 -0.04193435 -0.04193423\n",
      " -0.0419341  -0.04193404 -0.04193403 -0.04193396 -0.04193395 -0.04193394\n",
      " -0.04193391 -0.04193388 -0.04193385 -0.04193383 -0.04193375 -0.04193371\n",
      " -0.04193364 -0.04193363 -0.04193362 -0.04193361 -0.04193361 -0.0419336\n",
      " -0.04193356 -0.04193356 -0.04193351 -0.04193351 -0.04193349 -0.04193346\n",
      " -0.04193343 -0.04193342 -0.04193334 -0.04193324 -0.04193322 -0.04193319\n",
      " -0.04193316 -0.04193309 -0.04193308 -0.04193307 -0.04193306 -0.04193304\n",
      " -0.04193304 -0.04193299 -0.04193299 -0.04193296 -0.04193295 -0.04193293\n",
      " -0.04193293 -0.04193291 -0.04193289 -0.04193289 -0.04193286 -0.04193286\n",
      " -0.04193284 -0.04193281 -0.0419328  -0.04193278 -0.04193278 -0.04193275\n",
      " -0.04193273 -0.04193272 -0.04193272 -0.04193269 -0.04193268 -0.04193268\n",
      " -0.04193264 -0.04193263 -0.04193262 -0.04193261 -0.0419326  -0.0419326\n",
      " -0.04193258 -0.04193255 -0.04193252 -0.04193252 -0.04193251 -0.0419325\n",
      " -0.04193249 -0.04193249 -0.04193246 -0.04193246 -0.04193245 -0.04193243\n",
      " -0.04193239 -0.04193238 -0.04193237 -0.04193237 -0.04193236 -0.04193234\n",
      " -0.04193232 -0.04193231 -0.04193231 -0.04193231 -0.0419323  -0.0419323\n",
      " -0.04193229 -0.04193229 -0.04193227 -0.04193226 -0.04193226 -0.04193221\n",
      " -0.0419322  -0.04193219 -0.04193219 -0.04193214 -0.04193214 -0.04193211\n",
      " -0.04193208 -0.04193207 -0.04193202 -0.04193197 -0.04193196 -0.04193195\n",
      " -0.04193193 -0.04193192 -0.04193188 -0.04193183 -0.04193177 -0.04193174\n",
      " -0.0419317  -0.04193168 -0.04193166 -0.04193164 -0.04193161 -0.0419316\n",
      " -0.04193157 -0.04193153 -0.04193152 -0.04193151 -0.04193149 -0.04193147\n",
      " -0.04193142 -0.04193141 -0.04193136 -0.04193135 -0.04193126 -0.04193125\n",
      " -0.04193122 -0.04193116 -0.04193114 -0.04193111 -0.0419311  -0.04193099\n",
      " -0.04193098 -0.04193091 -0.04193065]\n"
     ]
    }
   ],
   "source": [
    "# Model prediction\n",
    "model.eval()  # Set model to evaluation mode\n",
    "\n",
    "predictions = []\n",
    "with torch.no_grad():  # Disable gradient computation\n",
    "    for batch in dev_dataloader:\n",
    "        modalities, _ = batch  # Ignore labels if unavailable\n",
    "        modality_1, modality_2 = modalities\n",
    "        \n",
    "        # Forward pass\n",
    "        inputs = [modality_1, modality_2]\n",
    "        output = model(inputs)  # Model's prediction\n",
    "        #predicts = torch.sigmoid(output)  # Apply sigmoid activation\n",
    "        #predicted_classes = (predicts > 0.5).int()  # Convert probabilities to binary predictions\n",
    "        #print(f\"Predicted Probabilities:\\n{predictions}\")\n",
    "        #print(f\"Predicted Classes:\\n{predicted_classes}\")\n",
    "        # Collect predictions\n",
    "        predictions.append(output)\n",
    "        #predictions.append(predicted_classes)\n",
    "\n",
    "# Combine predictions into a single tensor\n",
    "#predictions = torch.cat(predicted_classes, dim=0)\n",
    "#y_pred = np.array(predictions)\n",
    "out = np.concatenate(predictions).ravel()\n",
    "\n",
    "print(f\"Predictions:\\n{np.unique(out)}\")"
   ]
  },
  {
   "cell_type": "code",
   "execution_count": 44,
   "metadata": {},
   "outputs": [
    {
     "data": {
      "image/png": "[encoded data removed]",
      "text/plain": [
       "<Figure size 800x600 with 1 Axes>"
      ]
     },
     "metadata": {},
     "output_type": "display_data"
    }
   ],
   "source": [
    "# Plot training and validation losses\n",
    "plt.figure(figsize=(8, 6))\n",
    "plt.plot(train_losses, label=\"Training Loss\")\n",
    "plt.plot(val_losses, label=\"Validation Loss\")\n",
    "plt.xlabel(\"Epoch\")\n",
    "plt.ylabel(\"Loss\")\n",
    "plt.title(\"Training and Validation Loss\")\n",
    "plt.legend()\n",
    "plt.savefig(\"loss_plot.png\")  # Save the plot\n",
    "plt.show()"
   ]
  },
  {
   "cell_type": "code",
   "execution_count": 45,
   "metadata": {},
   "outputs": [],
   "source": [
    "y_pred= out"
   ]
  },
  {
   "cell_type": "code",
   "execution_count": 46,
   "metadata": {},
   "outputs": [],
   "source": [
    "y_test = np.array(features_csv[features_csv[\"split\"]==\"train\"][\"normalized_label\"].values)"
   ]
  },
  {
   "cell_type": "code",
   "execution_count": 47,
   "metadata": {},
   "outputs": [
    {
     "data": {
      "text/plain": [
       "array(['female', 'male', 'unknown'], dtype=object)"
      ]
     },
     "execution_count": 47,
     "metadata": {},
     "output_type": "execute_result"
    }
   ],
   "source": [
    "np.unique(features_csv['gender'])"
   ]
  },
  {
   "cell_type": "code",
   "execution_count": 48,
   "metadata": {},
   "outputs": [],
   "source": [
    "features_csv['col_encoded'] = features_csv['gender'].map({'female': 0, 'male': 1, 'unknown':1})"
   ]
  },
  {
   "cell_type": "code",
   "execution_count": 49,
   "metadata": {},
   "outputs": [
    {
     "data": {
      "text/plain": [
       "array([0, 1])"
      ]
     },
     "execution_count": 49,
     "metadata": {},
     "output_type": "execute_result"
    }
   ],
   "source": [
    "np.unique(features_csv['col_encoded'])"
   ]
  },
  {
   "cell_type": "code",
   "execution_count": 50,
   "metadata": {},
   "outputs": [
    {
     "name": "stdout",
     "output_type": "stream",
     "text": [
      "Shape of gender_test: (163,)\n",
      "Shape of y_test: (163,)\n",
      "Shape of y_pred: (163,)\n"
     ]
    }
   ],
   "source": [
    "from fairlearn.metrics import demographic_parity_difference\n",
    "\n",
    "# Assuming `gender` corresponds to the original metadata\n",
    "# Split the dataset into training and testing sets for `gender`\n",
    "gender_train, gender_test = features_csv[features_csv[\"split\"]==\"train\"][\"col_encoded\"], features_csv[features_csv[\"split\"]==\"dev\"][\"col_encoded\"]\n",
    "\n",
    "# Ensure that `gender_test`, `y_test`, and `y_pred` are aligned\n",
    "print(f\"Shape of gender_test: {gender_train.shape}\")\n",
    "print(f\"Shape of y_test: {y_test.shape}\")\n",
    "print(f\"Shape of y_pred: {y_pred.shape}\")\n",
    "\n"
   ]
  },
  {
   "cell_type": "code",
   "execution_count": 51,
   "metadata": {},
   "outputs": [
    {
     "name": "stdout",
     "output_type": "stream",
     "text": [
      "Demographic Parity Difference: 0.0\n"
     ]
    }
   ],
   "source": [
    "# Calculate Demographic Parity Difference\n",
    "demographic_parity = demographic_parity_difference(\n",
    "    y_true=y_test,\n",
    "    y_pred=y_pred,\n",
    "    sensitive_features=gender_train\n",
    ")\n",
    "\n",
    "print(f\"Demographic Parity Difference: {demographic_parity}\")"
   ]
  },
  {
   "cell_type": "code",
   "execution_count": 52,
   "metadata": {},
   "outputs": [
    {
     "name": "stdout",
     "output_type": "stream",
     "text": [
      "Selection Rates by Group:\n",
      "col_encoded\n",
      "0    0.0\n",
      "1    0.0\n",
      "Name: selection_rate, dtype: float64\n"
     ]
    }
   ],
   "source": [
    "from fairlearn.metrics import MetricFrame, selection_rate\n",
    "metric_frame = MetricFrame(metrics=selection_rate, \n",
    "                           y_true=y_test, \n",
    "                           y_pred=y_pred, \n",
    "                           sensitive_features=gender_train)\n",
    "\n",
    "# Get selection rates for each group\n",
    "selection_rates = metric_frame.by_group\n",
    "print(\"Selection Rates by Group:\")\n",
    "print(selection_rates)\n"
   ]
  },
  {
   "cell_type": "code",
   "execution_count": 53,
   "metadata": {},
   "outputs": [],
   "source": [
    "group_a_rate = selection_rates[1]\n",
    "group_b_rate = selection_rates[0]\n",
    "\n",
    "if group_b_rate > 0:  # Avoid division by zero\n",
    "    demographic_parity_ratio = group_a_rate / group_b_rate\n",
    "    print(f\"Demographic Parity Ratio: {demographic_parity_ratio}\")"
   ]
  },
  {
   "attachments": {},
   "cell_type": "markdown",
   "metadata": {},
   "source": [
    "# balanced subset"
   ]
  },
  {
   "cell_type": "code",
   "execution_count": 54,
   "metadata": {},
   "outputs": [],
   "source": [
    "train_df = features_csv[features_csv['split'] == 'train']\n",
    "# Select a balanced subset based on 'label.1'\n",
    "min_class_size = train_df['label.1'].value_counts().min()\n",
    "\n",
    "# Sample an equal number of rows from each class\n",
    "balanced_df = train_df.groupby('label.1').sample(n=min_class_size, random_state=42).reset_index(drop=True)\n"
   ]
  },
  {
   "cell_type": "code",
   "execution_count": 55,
   "metadata": {},
   "outputs": [],
   "source": [
    "balanced_df=balanced_df.sample(frac=1, random_state=42).reset_index(drop=True)"
   ]
  },
  {
   "cell_type": "code",
   "execution_count": 56,
   "metadata": {},
   "outputs": [
    {
     "name": "stdout",
     "output_type": "stream",
     "text": [
      "Modality 1 shape: torch.Size([10, 768, 1])\n",
      "Modality 2 shape: torch.Size([10, 768, 1])\n",
      "Labels shape: tensor([1., 0., 1., 0., 1., 1., 1., 0., 0., 0.])\n"
     ]
    }
   ],
   "source": [
    "train_loader = loaders.MultiModalityDataset(balanced_df[balanced_df[\"split\"]==\"train\"], \n",
    "                                            modalities = {\"audio\", \"text\"}, label = \"label.1\")\n",
    "train_dataloader = DataLoader(train_loader, batch_size=10, collate_fn=loaders.collate_fn)\n",
    "\n",
    "for batch in train_dataloader:\n",
    "    modalities, labels = batch\n",
    "    print(f\"Modality 1 shape: {modalities[0].shape}\")  # Expected shape: (batch_size, feature, 1)\n",
    "    print(f\"Modality 2 shape: {modalities[1].shape}\")\n",
    "    #print(f\"Modality 3 shape: {modalities[2].shape}\")\n",
    "    print(f\"Labels shape: {labels}\")\n",
    "    break"
   ]
  },
  {
   "cell_type": "code",
   "execution_count": 57,
   "metadata": {},
   "outputs": [],
   "source": [
    "dev_loader = loaders.MultiModalityDataset(features_csv[features_csv[\"split\"]==\"dev\"], \n",
    "                                            modalities = {\"audio\", \"text\"}, label = \"label.1\")\n",
    "dev_dataloader = DataLoader(train_loader, batch_size=16, collate_fn=loaders.collate_fn)"
   ]
  },
  {
   "cell_type": "code",
   "execution_count": 58,
   "metadata": {},
   "outputs": [],
   "source": [
    "# Define input dimensions for each modality\n",
    "input_dims = [768, 768]  # These are the feature dimensions for each modality\n",
    "\n",
    "# Initialize MultiModalPerceiver model\n",
    "model = m.MultiModalPerceiver(\n",
    "    input_dims=input_dims,\n",
    "    input_channels=1,\n",
    "    input_axis=1,\n",
    "    projection_dim=256,\n",
    "    num_latents=16,\n",
    "    latent_dim=128,\n",
    "    depth=8,\n",
    "    cross_heads=8,\n",
    "    latent_heads=8,\n",
    "    cross_dim_head=32,\n",
    "    latent_dim_head=32,\n",
    "    attn_dropout=0.5,\n",
    "    ff_dropout=0.5,\n",
    "    output_dim=1,\n",
    "    weight_tie_layers=True,\n",
    "    fourier_encode_data=False,\n",
    "    max_freq=10,\n",
    "    num_freq_bands=4\n",
    ")"
   ]
  },
  {
   "cell_type": "code",
   "execution_count": 59,
   "metadata": {},
   "outputs": [
    {
     "data": {
      "text/plain": [
       "1585541"
      ]
     },
     "execution_count": 59,
     "metadata": {},
     "output_type": "execute_result"
    }
   ],
   "source": [
    "sum(p.numel() for p in model.parameters() if p.requires_grad)"
   ]
  },
  {
   "cell_type": "code",
   "execution_count": 60,
   "metadata": {},
   "outputs": [],
   "source": [
    "labels_torch = torch.from_numpy(balanced_df[balanced_df[\"split\"]==\"train\"][\"label.1\"].values)"
   ]
  },
  {
   "cell_type": "code",
   "execution_count": 61,
   "metadata": {},
   "outputs": [],
   "source": [
    "# Calculate class weights\n",
    "class_counts = torch.bincount(labels_torch)  # Get counts for each class\n",
    "class_weights = len(labels_torch) / (2.0 * class_counts)\n",
    "\n",
    "# Apply weights to loss function\n",
    "criterion = nn.BCEWithLogitsLoss(pos_weight=class_weights[1])  # Weight for positive class\n"
   ]
  },
  {
   "cell_type": "code",
   "execution_count": 62,
   "metadata": {},
   "outputs": [
    {
     "data": {
      "text/plain": [
       "tensor([1., 1.])"
      ]
     },
     "execution_count": 62,
     "metadata": {},
     "output_type": "execute_result"
    }
   ],
   "source": [
    "class_weights"
   ]
  },
  {
   "cell_type": "code",
   "execution_count": 63,
   "metadata": {},
   "outputs": [],
   "source": [
    "learning_rate = 0.001\n",
    "num_epochs = 50\n",
    "# Define loss function and optimizer\n",
    "#criterion = nn.MSELoss()  # Mean Squared Error for regression\n",
    "# loss function for binary classification\n",
    "#criterion = nn.BCEWithLogitsLoss()\n",
    "optimizer = optim.Adam(model.parameters(), lr=learning_rate)"
   ]
  },
  {
   "cell_type": "code",
   "execution_count": 66,
   "metadata": {},
   "outputs": [
    {
     "name": "stdout",
     "output_type": "stream",
     "text": [
      "Epoch [1/50], Train Loss: 0.7141, Val Loss: 0.7001, Train F1: 0.4340, Val F1: 0.3333\n",
      "Epoch [2/50], Train Loss: 0.6972, Val Loss: 0.6867, Train F1: 0.3744, Val F1: 0.3333\n",
      "Epoch [3/50], Train Loss: 0.7103, Val Loss: 0.6934, Train F1: 0.3696, Val F1: 0.3333\n",
      "Epoch [4/50], Train Loss: 0.7025, Val Loss: 0.6904, Train F1: 0.3928, Val F1: 0.3333\n",
      "Epoch [5/50], Train Loss: 0.7042, Val Loss: 0.6902, Train F1: 0.3696, Val F1: 0.3333\n",
      "Epoch [6/50], Train Loss: 0.7048, Val Loss: 0.6914, Train F1: 0.3979, Val F1: 0.3333\n",
      "Epoch [7/50], Train Loss: 0.7033, Val Loss: 0.6904, Train F1: 0.3696, Val F1: 0.3333\n",
      "Epoch [8/50], Train Loss: 0.7041, Val Loss: 0.6909, Train F1: 0.3696, Val F1: 0.3333\n",
      "Epoch [9/50], Train Loss: 0.7036, Val Loss: 0.6908, Train F1: 0.3696, Val F1: 0.3333\n",
      "Epoch [10/50], Train Loss: 0.7034, Val Loss: 0.6907, Train F1: 0.3696, Val F1: 0.3333\n",
      "Epoch [11/50], Train Loss: 0.7034, Val Loss: 0.6909, Train F1: 0.3696, Val F1: 0.3333\n",
      "Epoch [12/50], Train Loss: 0.7032, Val Loss: 0.6908, Train F1: 0.3696, Val F1: 0.3333\n",
      "Epoch [13/50], Train Loss: 0.7031, Val Loss: 0.6908, Train F1: 0.3696, Val F1: 0.3333\n",
      "Epoch [14/50], Train Loss: 0.7030, Val Loss: 0.6909, Train F1: 0.3696, Val F1: 0.3333\n",
      "Epoch [15/50], Train Loss: 0.7028, Val Loss: 0.6909, Train F1: 0.3696, Val F1: 0.3333\n",
      "Epoch [16/50], Train Loss: 0.7027, Val Loss: 0.6909, Train F1: 0.3696, Val F1: 0.3333\n",
      "Epoch [17/50], Train Loss: 0.7026, Val Loss: 0.6909, Train F1: 0.3696, Val F1: 0.3333\n",
      "Epoch [18/50], Train Loss: 0.7025, Val Loss: 0.6909, Train F1: 0.3696, Val F1: 0.3333\n",
      "Epoch [19/50], Train Loss: 0.7024, Val Loss: 0.6909, Train F1: 0.3696, Val F1: 0.3333\n",
      "Epoch [20/50], Train Loss: 0.7023, Val Loss: 0.6909, Train F1: 0.3696, Val F1: 0.3333\n",
      "Epoch [21/50], Train Loss: 0.7021, Val Loss: 0.6910, Train F1: 0.3696, Val F1: 0.3333\n",
      "Epoch [22/50], Train Loss: 0.7020, Val Loss: 0.6910, Train F1: 0.3696, Val F1: 0.3333\n",
      "Epoch [23/50], Train Loss: 0.7019, Val Loss: 0.6910, Train F1: 0.3696, Val F1: 0.3333\n",
      "Epoch [24/50], Train Loss: 0.7018, Val Loss: 0.6910, Train F1: 0.3696, Val F1: 0.3333\n",
      "Epoch [25/50], Train Loss: 0.7017, Val Loss: 0.6910, Train F1: 0.3696, Val F1: 0.3333\n",
      "Epoch [26/50], Train Loss: 0.7016, Val Loss: 0.6910, Train F1: 0.3696, Val F1: 0.3333\n",
      "Epoch [27/50], Train Loss: 0.7015, Val Loss: 0.6910, Train F1: 0.3696, Val F1: 0.3333\n",
      "Epoch [28/50], Train Loss: 0.7014, Val Loss: 0.6910, Train F1: 0.3696, Val F1: 0.3333\n",
      "Epoch [29/50], Train Loss: 0.7013, Val Loss: 0.6911, Train F1: 0.3696, Val F1: 0.3333\n",
      "Epoch [30/50], Train Loss: 0.7012, Val Loss: 0.6911, Train F1: 0.3696, Val F1: 0.3333\n",
      "Epoch [31/50], Train Loss: 0.7011, Val Loss: 0.6911, Train F1: 0.3696, Val F1: 0.3333\n",
      "Epoch [32/50], Train Loss: 0.7010, Val Loss: 0.6911, Train F1: 0.3696, Val F1: 0.3333\n",
      "Epoch [33/50], Train Loss: 0.7010, Val Loss: 0.6911, Train F1: 0.3696, Val F1: 0.3333\n",
      "Epoch [34/50], Train Loss: 0.7009, Val Loss: 0.6911, Train F1: 0.3696, Val F1: 0.3333\n",
      "Epoch [35/50], Train Loss: 0.7008, Val Loss: 0.6911, Train F1: 0.3696, Val F1: 0.3333\n",
      "Epoch [36/50], Train Loss: 0.7007, Val Loss: 0.6911, Train F1: 0.3696, Val F1: 0.3333\n",
      "Epoch [37/50], Train Loss: 0.7006, Val Loss: 0.6911, Train F1: 0.3696, Val F1: 0.3333\n",
      "Epoch [38/50], Train Loss: 0.7005, Val Loss: 0.6911, Train F1: 0.3696, Val F1: 0.3333\n",
      "Epoch [39/50], Train Loss: 0.7005, Val Loss: 0.6911, Train F1: 0.3696, Val F1: 0.3333\n",
      "Epoch [40/50], Train Loss: 0.7004, Val Loss: 0.6912, Train F1: 0.3696, Val F1: 0.3333\n",
      "Epoch [41/50], Train Loss: 0.7003, Val Loss: 0.6912, Train F1: 0.3696, Val F1: 0.3333\n",
      "Epoch [42/50], Train Loss: 0.7002, Val Loss: 0.6912, Train F1: 0.3696, Val F1: 0.3333\n",
      "Epoch [43/50], Train Loss: 0.7002, Val Loss: 0.6912, Train F1: 0.3696, Val F1: 0.3333\n",
      "Epoch [44/50], Train Loss: 0.7001, Val Loss: 0.6912, Train F1: 0.3696, Val F1: 0.3333\n",
      "Epoch [45/50], Train Loss: 0.7000, Val Loss: 0.6912, Train F1: 0.3696, Val F1: 0.3333\n",
      "Epoch [46/50], Train Loss: 0.6999, Val Loss: 0.6912, Train F1: 0.3696, Val F1: 0.3333\n",
      "Epoch [47/50], Train Loss: 0.6999, Val Loss: 0.6912, Train F1: 0.3696, Val F1: 0.3333\n",
      "Epoch [48/50], Train Loss: 0.6998, Val Loss: 0.6912, Train F1: 0.3696, Val F1: 0.3333\n",
      "Epoch [49/50], Train Loss: 0.6997, Val Loss: 0.6912, Train F1: 0.3696, Val F1: 0.3333\n",
      "Epoch [50/50], Train Loss: 0.6997, Val Loss: 0.6912, Train F1: 0.3696, Val F1: 0.3333\n"
     ]
    }
   ],
   "source": [
    "from sklearn.metrics import f1_score\n",
    "# Define variables to track losses\n",
    "train_losses = []\n",
    "val_losses = []\n",
    "best_val_loss = float('inf')  # Initialize best validation loss\n",
    "\n",
    "model.train()\n",
    "# Training loop\n",
    "for epoch in range(num_epochs):\n",
    "    running_train_loss = 0.0\n",
    "    all_train_labels = []\n",
    "    all_train_preds = []\n",
    "    all_dev_labels = []\n",
    "    all_dev_preds = []\n",
    "\n",
    "    for batch in train_dataloader:\n",
    "        \n",
    "        # Unpack the batch\n",
    "        modalities, labels = batch\n",
    "        modality_1, modality_2 = modalities  # Each has shape (batch_size, feature, 1)\n",
    "\n",
    "        # Zero the parameter gradients\n",
    "        optimizer.zero_grad()\n",
    "\n",
    "        # Forward pass\n",
    "        inputs = [modality_1, modality_2]\n",
    "        output = model(inputs)\n",
    "\n",
    "        #print(output, labels)\n",
    "        # Reshape labels to match the output shape if necessary\n",
    "        labels = labels.view(output.shape)  # Ensures labels has shape (batch_size, 1)\n",
    "\n",
    "        # Compute loss\n",
    "        loss = criterion(output, labels)\n",
    "        #RMSE_loss = torch.sqrt(loss)\n",
    "\n",
    "        # Backward pass and optimize\n",
    "        loss.backward()\n",
    "        optimizer.step()\n",
    "\n",
    "        # Accumulate loss\n",
    "        running_train_loss += loss.item()\n",
    "        # Convert logits to predictions\n",
    "        preds = torch.sigmoid(output) > 0.5\n",
    "        all_train_labels.extend(labels.cpu().numpy().flatten())\n",
    "        all_train_preds.extend(preds.cpu().numpy().flatten())\n",
    "\n",
    "    # Average training loss for the epoch\n",
    "    train_loss = running_train_loss / len(train_dataloader)\n",
    "    train_losses.append(train_loss)\n",
    "\n",
    "    # Validation Phase\n",
    "    model.eval()  # Set model to evaluation mode\n",
    "    running_val_loss = 0.0\n",
    "\n",
    "    with torch.no_grad():  # Disable gradient computation\n",
    "        for batch in dev_dataloader:  # Use validation DataLoader\n",
    "            modalities, labels = batch\n",
    "            modality_1, modality_2 = modalities\n",
    "\n",
    "            # Forward pass\n",
    "            inputs = [modality_1, modality_2]\n",
    "            output = model(inputs)\n",
    "\n",
    "            # Reshape labels to match the output shape if necessary\n",
    "            labels = labels.view(output.shape)\n",
    "\n",
    "            # Compute loss\n",
    "            loss = criterion(output, labels)\n",
    "            #RMSE_loss = torch.sqrt(loss)\n",
    "\n",
    "            running_val_loss += loss.item()\n",
    "            preds = torch.sigmoid(output) > 0.5\n",
    "            all_dev_labels.extend(labels.cpu().numpy().flatten())\n",
    "            all_dev_preds.extend(preds.cpu().numpy().flatten())\n",
    "\n",
    "    # Average validation loss for the epoch\n",
    "    val_loss = running_val_loss / len(dev_dataloader)\n",
    "    val_losses.append(val_loss)\n",
    "\n",
    "    # Check if this is the best model\n",
    "    if val_loss < best_val_loss:\n",
    "        best_val_loss = val_loss\n",
    "        torch.save(model.state_dict(), \"best_aud_text_model.pth\")  # Save best model\n",
    "\n",
    "    # Compute F1-score for training\n",
    "    train_f1 = f1_score(all_train_labels, all_train_preds, average='weighted')\n",
    "    dev_f1 = f1_score(all_dev_labels, all_dev_preds, average='weighted')\n",
    "\n",
    "    # Print epoch summary\n",
    "    print(f\"Epoch [{epoch+1}/{num_epochs}], Train Loss: {train_loss:.4f}, Val Loss: {val_loss:.4f}, Train F1: {train_f1:.4f}, Val F1: {dev_f1:.4f}\")\n"
   ]
  },
  {
   "cell_type": "code",
   "execution_count": 67,
   "metadata": {},
   "outputs": [
    {
     "data": {
      "image/png": "[encoded data removed]",
      "text/plain": [
       "<Figure size 800x600 with 1 Axes>"
      ]
     },
     "metadata": {},
     "output_type": "display_data"
    }
   ],
   "source": [
    "# Plot training and validation losses\n",
    "plt.figure(figsize=(8, 6))\n",
    "plt.plot(train_losses, label=\"Training Loss\")\n",
    "plt.plot(val_losses, label=\"Validation Loss\")\n",
    "plt.xlabel(\"Epoch\")\n",
    "plt.ylabel(\"Loss\")\n",
    "plt.title(\"Training and Validation Loss\")\n",
    "plt.legend()\n",
    "plt.savefig(\"loss_plot.png\")  # Save the plot\n",
    "plt.show()"
   ]
  },
  {
   "cell_type": "code",
   "execution_count": 72,
   "metadata": {},
   "outputs": [
    {
     "name": "stdout",
     "output_type": "stream",
     "text": [
      "Predictions:\n",
      "[1]\n"
     ]
    }
   ],
   "source": [
    "# Model prediction\n",
    "model.eval()  # Set model to evaluation mode\n",
    "\n",
    "predictions_ = []\n",
    "with torch.no_grad():  # Disable gradient computation\n",
    "    for batch in train_dataloader:\n",
    "        modalities, _ = batch  # Ignore labels if unavailable\n",
    "        modality_1, modality_2 = modalities\n",
    "        \n",
    "        # Forward pass\n",
    "        inputs = [modality_1, modality_2]\n",
    "        output = model(inputs)  # Model's prediction\n",
    "        predictions = torch.sigmoid(output)  # Apply sigmoid activation\n",
    "        predicted_classes = (predictions > 0.5).int()  # Convert probabilities to binary predictions\n",
    "        #print(f\"Predicted Probabilities:\\n{predictions}\")\n",
    "        #print(f\"Predicted Classes:\\n{predicted_classes}\")\n",
    "        # Collect predictions\n",
    "        predictions_.append(predicted_classes)\n",
    "\n",
    "# Combine predictions into a single tensor\n",
    "#predictions = torch.cat(predicted_classes, dim=0)\n",
    "#y_pred = np.array(predictions)\n",
    "#print(f\"Predictions:\\n{predictions}\")\n",
    "out = np.concatenate(predictions_).ravel()\n",
    "\n",
    "print(f\"Predictions:\\n{np.unique(out)}\")"
   ]
  },
  {
   "cell_type": "code",
   "execution_count": null,
   "metadata": {},
   "outputs": [],
   "source": [
    "y_test = np.array(features_csv[features_csv[\"split\"]==\"dev\"][\"PTSD_severity\"].values)"
   ]
  },
  {
   "cell_type": "code",
   "execution_count": null,
   "metadata": {},
   "outputs": [],
   "source": [
    "features_csv['col_encoded'] = features_csv['gender'].map({'female': 0, 'male': 1, None:1})"
   ]
  },
  {
   "cell_type": "code",
   "execution_count": null,
   "metadata": {},
   "outputs": [
    {
     "data": {
      "text/plain": [
       "array([ 0.,  1., nan])"
      ]
     },
     "metadata": {},
     "output_type": "display_data"
    }
   ],
   "source": [
    "np.unique(features_csv['col_encoded'])"
   ]
  },
  {
   "cell_type": "code",
   "execution_count": null,
   "metadata": {},
   "outputs": [
    {
     "name": "stdout",
     "output_type": "stream",
     "text": [
      "Shape of gender_test: (56,)\n",
      "Shape of y_test: (56,)\n",
      "Shape of y_pred: (56, 1)\n"
     ]
    }
   ],
   "source": [
    "from fairlearn.metrics import demographic_parity_difference\n",
    "\n",
    "# Assuming `gender` corresponds to the original metadata\n",
    "# Split the dataset into training and testing sets for `gender`\n",
    "gender_train, gender_test = features_csv[features_csv[\"split\"]==\"train\"][\"col_encoded\"], features_csv[features_csv[\"split\"]==\"dev\"][\"col_encoded\"]\n",
    "\n",
    "# Ensure that `gender_test`, `y_test`, and `y_pred` are aligned\n",
    "print(f\"Shape of gender_test: {gender_test.shape}\")\n",
    "print(f\"Shape of y_test: {y_test.shape}\")\n",
    "print(f\"Shape of y_pred: {y_pred.shape}\")\n",
    "\n"
   ]
  },
  {
   "cell_type": "code",
   "execution_count": null,
   "metadata": {},
   "outputs": [
    {
     "name": "stdout",
     "output_type": "stream",
     "text": [
      "Demographic Parity Difference: 0.0\n"
     ]
    }
   ],
   "source": [
    "# Calculate Demographic Parity Difference\n",
    "demographic_parity = demographic_parity_difference(\n",
    "    y_true=y_test,\n",
    "    y_pred=y_pred[:,0],\n",
    "    sensitive_features=gender_test\n",
    ")\n",
    "\n",
    "print(f\"Demographic Parity Difference: {demographic_parity}\")"
   ]
  },
  {
   "cell_type": "code",
   "execution_count": null,
   "metadata": {},
   "outputs": [
    {
     "name": "stdout",
     "output_type": "stream",
     "text": [
      "Selection Rates by Group:\n",
      "gender\n",
      "female     0.0\n",
      "male       0.0\n",
      "unknown    0.0\n",
      "Name: selection_rate, dtype: float64\n"
     ]
    }
   ],
   "source": [
    "from fairlearn.metrics import MetricFrame, selection_rate\n",
    "metric_frame = MetricFrame(metrics=selection_rate, \n",
    "                           y_true=y_test, \n",
    "                           y_pred=y_pred[:,0], \n",
    "                           sensitive_features=gender_test)\n",
    "\n",
    "# Get selection rates for each group\n",
    "selection_rates = metric_frame.by_group\n",
    "print(\"Selection Rates by Group:\")\n",
    "print(selection_rates)\n"
   ]
  },
  {
   "cell_type": "code",
   "execution_count": null,
   "metadata": {},
   "outputs": [
    {
     "name": "stderr",
     "output_type": "stream",
     "text": [
      "/scratch/954025/ipykernel_2837344/1510568790.py:1: FutureWarning: Series.__getitem__ treating keys as positions is deprecated. In a future version, integer keys will always be treated as labels (consistent with DataFrame behavior). To access a value by position, use `ser.iloc[pos]`\n",
      "  group_a_rate = selection_rates[1]\n",
      "/scratch/954025/ipykernel_2837344/1510568790.py:2: FutureWarning: Series.__getitem__ treating keys as positions is deprecated. In a future version, integer keys will always be treated as labels (consistent with DataFrame behavior). To access a value by position, use `ser.iloc[pos]`\n",
      "  group_b_rate = selection_rates[0]\n"
     ]
    }
   ],
   "source": [
    "group_a_rate = selection_rates[1]\n",
    "group_b_rate = selection_rates[0]\n",
    "\n",
    "if group_b_rate > 0:  # Avoid division by zero\n",
    "    demographic_parity_ratio = group_a_rate / group_b_rate\n",
    "    print(f\"Demographic Parity Ratio: {demographic_parity_ratio}\")"
   ]
  },
  {
   "cell_type": "code",
   "execution_count": null,
   "metadata": {},
   "outputs": [],
   "source": []
  }
 ],
 "metadata": {
  "kernelspec": {
   "display_name": "Python 3",
   "language": "python",
   "name": "python3"
  },
  "language_info": {
   "codemirror_mode": {
    "name": "ipython",
    "version": 3
   },
   "file_extension": ".py",
   "mimetype": "text/x-python",
   "name": "python",
   "nbconvert_exporter": "python",
   "pygments_lexer": "ipython3",
   "version": "3.12.2"
  },
  "orig_nbformat": 4
 },
 "nbformat": 4,
 "nbformat_minor": 2
}
